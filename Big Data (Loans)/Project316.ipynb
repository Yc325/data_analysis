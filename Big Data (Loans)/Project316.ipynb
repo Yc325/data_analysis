{
  "cells": [
    {
      "cell_type": "markdown",
      "metadata": {
        "id": "MWKrIox39mfV"
      },
      "source": [
        "# **About Dataset**\n",
        "The dataset contains complete loan data for all loans issued through the year\n",
        "2007 - 2015, including the current loan status (Current, Late, Fully Paid, etc.)\n",
        "and latest payment information. Our dataset contains total of 8,55,969 records\n",
        "with 73 features including target variable. Moreover, the dataset is very\n",
        "unbalanced, with approximately 6 % of loans considered as defaulted. This\n",
        "dataset has different types of features such as categorical, numeric & date.\n",
        "\n",
        "# Some important features:\n",
        "\n",
        "**loanamnt** -  Amount of money requested by the borrower. • intrate - Interest rate of the loan.\n",
        "\n",
        "**grade** Loan - grade with categories A, B, C, D, E, F, G.\n",
        "\n",
        "**annual_inc** - Borrowers annual income.\n",
        "\n",
        "**purpose** - The primary purpose of borrowing.\n",
        "\n",
        "**installments** - Monthly amount payments for opted loan.\n",
        "\n",
        "**term** - duration of the loan until it’s paid off\n",
        "\n",
        "# **Note**\n",
        "A default can occur when a borrower is unable to make timely payments, misses\n",
        "payments, avoids or stops making payments.\n",
        "\n",
        "\n",
        "**TARGET**\n",
        "\n",
        "default_ind"
      ]
    },
    {
      "cell_type": "markdown",
      "metadata": {
        "id": "fHEpkgO05pOT"
      },
      "source": [
        "\n",
        "# 1. Read Spark DF using pd API"
      ]
    },
    {
      "cell_type": "code",
      "execution_count": null,
      "metadata": {
        "colab": {
          "base_uri": "https://localhost:8080/"
        },
        "id": "wjZc1HYb6SWv",
        "outputId": "1f5eddeb-5c8c-4dd1-9e6a-1a2d51605eb6"
      },
      "outputs": [
        {
          "output_type": "stream",
          "name": "stdout",
          "text": [
            "Looking in indexes: https://pypi.org/simple, https://us-python.pkg.dev/colab-wheels/public/simple/\n",
            "Collecting pyspark\n",
            "  Downloading pyspark-3.3.0.tar.gz (281.3 MB)\n",
            "\u001b[K     |████████████████████████████████| 281.3 MB 49 kB/s \n",
            "\u001b[?25hCollecting py4j==0.10.9.5\n",
            "  Downloading py4j-0.10.9.5-py2.py3-none-any.whl (199 kB)\n",
            "\u001b[K     |████████████████████████████████| 199 kB 55.7 MB/s \n",
            "\u001b[?25hBuilding wheels for collected packages: pyspark\n",
            "  Building wheel for pyspark (setup.py) ... \u001b[?25l\u001b[?25hdone\n",
            "  Created wheel for pyspark: filename=pyspark-3.3.0-py2.py3-none-any.whl size=281764026 sha256=c82c3ddcd24f455597f70aa94e1f2d1581b0866dbd4fc76375329f6129ee4413\n",
            "  Stored in directory: /root/.cache/pip/wheels/7a/8e/1b/f73a52650d2e5f337708d9f6a1750d451a7349a867f928b885\n",
            "Successfully built pyspark\n",
            "Installing collected packages: py4j, pyspark\n",
            "Successfully installed py4j-0.10.9.5 pyspark-3.3.0\n",
            "Looking in indexes: https://pypi.org/simple, https://us-python.pkg.dev/colab-wheels/public/simple/\n",
            "Collecting sklearn\n",
            "  Downloading sklearn-0.0.tar.gz (1.1 kB)\n",
            "Requirement already satisfied: scikit-learn in /usr/local/lib/python3.7/dist-packages (from sklearn) (1.0.2)\n",
            "Requirement already satisfied: threadpoolctl>=2.0.0 in /usr/local/lib/python3.7/dist-packages (from scikit-learn->sklearn) (3.1.0)\n",
            "Requirement already satisfied: joblib>=0.11 in /usr/local/lib/python3.7/dist-packages (from scikit-learn->sklearn) (1.2.0)\n",
            "Requirement already satisfied: numpy>=1.14.6 in /usr/local/lib/python3.7/dist-packages (from scikit-learn->sklearn) (1.21.6)\n",
            "Requirement already satisfied: scipy>=1.1.0 in /usr/local/lib/python3.7/dist-packages (from scikit-learn->sklearn) (1.7.3)\n",
            "Building wheels for collected packages: sklearn\n",
            "  Building wheel for sklearn (setup.py) ... \u001b[?25l\u001b[?25hdone\n",
            "  Created wheel for sklearn: filename=sklearn-0.0-py2.py3-none-any.whl size=1310 sha256=af5634f19236b0960ef4e00f575e77b0079ac8626b7059814b09d66626bf22a4\n",
            "  Stored in directory: /root/.cache/pip/wheels/46/ef/c3/157e41f5ee1372d1be90b09f74f82b10e391eaacca8f22d33e\n",
            "Successfully built sklearn\n",
            "Installing collected packages: sklearn\n",
            "Successfully installed sklearn-0.0\n",
            "Looking in indexes: https://pypi.org/simple, https://us-python.pkg.dev/colab-wheels/public/simple/\n",
            "Requirement already satisfied: tensorflow in /usr/local/lib/python3.7/dist-packages (2.10.0)\n",
            "Requirement already satisfied: six>=1.12.0 in /usr/local/lib/python3.7/dist-packages (from tensorflow) (1.15.0)\n",
            "Requirement already satisfied: gast<=0.4.0,>=0.2.1 in /usr/local/lib/python3.7/dist-packages (from tensorflow) (0.4.0)\n",
            "Requirement already satisfied: tensorboard<2.11,>=2.10 in /usr/local/lib/python3.7/dist-packages (from tensorflow) (2.10.1)\n",
            "Requirement already satisfied: setuptools in /usr/local/lib/python3.7/dist-packages (from tensorflow) (57.4.0)\n",
            "Requirement already satisfied: absl-py>=1.0.0 in /usr/local/lib/python3.7/dist-packages (from tensorflow) (1.3.0)\n",
            "Requirement already satisfied: opt-einsum>=2.3.2 in /usr/local/lib/python3.7/dist-packages (from tensorflow) (3.3.0)\n",
            "Requirement already satisfied: wrapt>=1.11.0 in /usr/local/lib/python3.7/dist-packages (from tensorflow) (1.14.1)\n",
            "Requirement already satisfied: protobuf<3.20,>=3.9.2 in /usr/local/lib/python3.7/dist-packages (from tensorflow) (3.17.3)\n",
            "Requirement already satisfied: libclang>=13.0.0 in /usr/local/lib/python3.7/dist-packages (from tensorflow) (14.0.6)\n",
            "Requirement already satisfied: flatbuffers>=2.0 in /usr/local/lib/python3.7/dist-packages (from tensorflow) (22.9.24)\n",
            "Requirement already satisfied: tensorflow-io-gcs-filesystem>=0.23.1 in /usr/local/lib/python3.7/dist-packages (from tensorflow) (0.27.0)\n",
            "Requirement already satisfied: grpcio<2.0,>=1.24.3 in /usr/local/lib/python3.7/dist-packages (from tensorflow) (1.49.1)\n",
            "Requirement already satisfied: astunparse>=1.6.0 in /usr/local/lib/python3.7/dist-packages (from tensorflow) (1.6.3)\n",
            "Requirement already satisfied: h5py>=2.9.0 in /usr/local/lib/python3.7/dist-packages (from tensorflow) (3.1.0)\n",
            "Requirement already satisfied: typing-extensions>=3.6.6 in /usr/local/lib/python3.7/dist-packages (from tensorflow) (4.1.1)\n",
            "Requirement already satisfied: packaging in /usr/local/lib/python3.7/dist-packages (from tensorflow) (21.3)\n",
            "Requirement already satisfied: tensorflow-estimator<2.11,>=2.10.0 in /usr/local/lib/python3.7/dist-packages (from tensorflow) (2.10.0)\n",
            "Requirement already satisfied: numpy>=1.20 in /usr/local/lib/python3.7/dist-packages (from tensorflow) (1.21.6)\n",
            "Requirement already satisfied: termcolor>=1.1.0 in /usr/local/lib/python3.7/dist-packages (from tensorflow) (2.0.1)\n",
            "Requirement already satisfied: keras<2.11,>=2.10.0 in /usr/local/lib/python3.7/dist-packages (from tensorflow) (2.10.0)\n",
            "Requirement already satisfied: google-pasta>=0.1.1 in /usr/local/lib/python3.7/dist-packages (from tensorflow) (0.2.0)\n",
            "Requirement already satisfied: keras-preprocessing>=1.1.1 in /usr/local/lib/python3.7/dist-packages (from tensorflow) (1.1.2)\n",
            "Requirement already satisfied: wheel<1.0,>=0.23.0 in /usr/local/lib/python3.7/dist-packages (from astunparse>=1.6.0->tensorflow) (0.37.1)\n",
            "Requirement already satisfied: cached-property in /usr/local/lib/python3.7/dist-packages (from h5py>=2.9.0->tensorflow) (1.5.2)\n",
            "Requirement already satisfied: google-auth-oauthlib<0.5,>=0.4.1 in /usr/local/lib/python3.7/dist-packages (from tensorboard<2.11,>=2.10->tensorflow) (0.4.6)\n",
            "Requirement already satisfied: requests<3,>=2.21.0 in /usr/local/lib/python3.7/dist-packages (from tensorboard<2.11,>=2.10->tensorflow) (2.23.0)\n",
            "Requirement already satisfied: markdown>=2.6.8 in /usr/local/lib/python3.7/dist-packages (from tensorboard<2.11,>=2.10->tensorflow) (3.4.1)\n",
            "Requirement already satisfied: tensorboard-data-server<0.7.0,>=0.6.0 in /usr/local/lib/python3.7/dist-packages (from tensorboard<2.11,>=2.10->tensorflow) (0.6.1)\n",
            "Requirement already satisfied: tensorboard-plugin-wit>=1.6.0 in /usr/local/lib/python3.7/dist-packages (from tensorboard<2.11,>=2.10->tensorflow) (1.8.1)\n",
            "Requirement already satisfied: werkzeug>=1.0.1 in /usr/local/lib/python3.7/dist-packages (from tensorboard<2.11,>=2.10->tensorflow) (1.0.1)\n",
            "Requirement already satisfied: google-auth<3,>=1.6.3 in /usr/local/lib/python3.7/dist-packages (from tensorboard<2.11,>=2.10->tensorflow) (1.35.0)\n",
            "Requirement already satisfied: pyasn1-modules>=0.2.1 in /usr/local/lib/python3.7/dist-packages (from google-auth<3,>=1.6.3->tensorboard<2.11,>=2.10->tensorflow) (0.2.8)\n",
            "Requirement already satisfied: rsa<5,>=3.1.4 in /usr/local/lib/python3.7/dist-packages (from google-auth<3,>=1.6.3->tensorboard<2.11,>=2.10->tensorflow) (4.9)\n",
            "Requirement already satisfied: cachetools<5.0,>=2.0.0 in /usr/local/lib/python3.7/dist-packages (from google-auth<3,>=1.6.3->tensorboard<2.11,>=2.10->tensorflow) (4.2.4)\n",
            "Requirement already satisfied: requests-oauthlib>=0.7.0 in /usr/local/lib/python3.7/dist-packages (from google-auth-oauthlib<0.5,>=0.4.1->tensorboard<2.11,>=2.10->tensorflow) (1.3.1)\n",
            "Requirement already satisfied: importlib-metadata>=4.4 in /usr/local/lib/python3.7/dist-packages (from markdown>=2.6.8->tensorboard<2.11,>=2.10->tensorflow) (4.13.0)\n",
            "Requirement already satisfied: zipp>=0.5 in /usr/local/lib/python3.7/dist-packages (from importlib-metadata>=4.4->markdown>=2.6.8->tensorboard<2.11,>=2.10->tensorflow) (3.9.0)\n",
            "Requirement already satisfied: pyasn1<0.5.0,>=0.4.6 in /usr/local/lib/python3.7/dist-packages (from pyasn1-modules>=0.2.1->google-auth<3,>=1.6.3->tensorboard<2.11,>=2.10->tensorflow) (0.4.8)\n",
            "Requirement already satisfied: chardet<4,>=3.0.2 in /usr/local/lib/python3.7/dist-packages (from requests<3,>=2.21.0->tensorboard<2.11,>=2.10->tensorflow) (3.0.4)\n",
            "Requirement already satisfied: idna<3,>=2.5 in /usr/local/lib/python3.7/dist-packages (from requests<3,>=2.21.0->tensorboard<2.11,>=2.10->tensorflow) (2.10)\n",
            "Requirement already satisfied: urllib3!=1.25.0,!=1.25.1,<1.26,>=1.21.1 in /usr/local/lib/python3.7/dist-packages (from requests<3,>=2.21.0->tensorboard<2.11,>=2.10->tensorflow) (1.24.3)\n",
            "Requirement already satisfied: certifi>=2017.4.17 in /usr/local/lib/python3.7/dist-packages (from requests<3,>=2.21.0->tensorboard<2.11,>=2.10->tensorflow) (2022.9.24)\n",
            "Requirement already satisfied: oauthlib>=3.0.0 in /usr/local/lib/python3.7/dist-packages (from requests-oauthlib>=0.7.0->google-auth-oauthlib<0.5,>=0.4.1->tensorboard<2.11,>=2.10->tensorflow) (3.2.1)\n",
            "Requirement already satisfied: pyparsing!=3.0.5,>=2.0.2 in /usr/local/lib/python3.7/dist-packages (from packaging->tensorflow) (3.0.9)\n",
            "Looking in indexes: https://pypi.org/simple, https://us-python.pkg.dev/colab-wheels/public/simple/\n",
            "Requirement already satisfied: tensorflow_decision_forests in /usr/local/lib/python3.7/dist-packages (1.0.1)\n",
            "Requirement already satisfied: pandas in /usr/local/lib/python3.7/dist-packages (from tensorflow_decision_forests) (1.3.5)\n",
            "Requirement already satisfied: numpy in /usr/local/lib/python3.7/dist-packages (from tensorflow_decision_forests) (1.21.6)\n",
            "Requirement already satisfied: absl-py in /usr/local/lib/python3.7/dist-packages (from tensorflow_decision_forests) (1.3.0)\n",
            "Requirement already satisfied: tensorflow~=2.10.0 in /usr/local/lib/python3.7/dist-packages (from tensorflow_decision_forests) (2.10.0)\n",
            "Requirement already satisfied: wheel in /usr/local/lib/python3.7/dist-packages (from tensorflow_decision_forests) (0.37.1)\n",
            "Requirement already satisfied: six in /usr/local/lib/python3.7/dist-packages (from tensorflow_decision_forests) (1.15.0)\n",
            "Requirement already satisfied: wurlitzer in /usr/local/lib/python3.7/dist-packages (from tensorflow_decision_forests) (3.0.2)\n",
            "Requirement already satisfied: h5py>=2.9.0 in /usr/local/lib/python3.7/dist-packages (from tensorflow~=2.10.0->tensorflow_decision_forests) (3.1.0)\n",
            "Requirement already satisfied: keras-preprocessing>=1.1.1 in /usr/local/lib/python3.7/dist-packages (from tensorflow~=2.10.0->tensorflow_decision_forests) (1.1.2)\n",
            "Requirement already satisfied: tensorflow-io-gcs-filesystem>=0.23.1 in /usr/local/lib/python3.7/dist-packages (from tensorflow~=2.10.0->tensorflow_decision_forests) (0.27.0)\n",
            "Requirement already satisfied: astunparse>=1.6.0 in /usr/local/lib/python3.7/dist-packages (from tensorflow~=2.10.0->tensorflow_decision_forests) (1.6.3)\n",
            "Requirement already satisfied: tensorflow-estimator<2.11,>=2.10.0 in /usr/local/lib/python3.7/dist-packages (from tensorflow~=2.10.0->tensorflow_decision_forests) (2.10.0)\n",
            "Requirement already satisfied: setuptools in /usr/local/lib/python3.7/dist-packages (from tensorflow~=2.10.0->tensorflow_decision_forests) (57.4.0)\n",
            "Requirement already satisfied: typing-extensions>=3.6.6 in /usr/local/lib/python3.7/dist-packages (from tensorflow~=2.10.0->tensorflow_decision_forests) (4.1.1)\n",
            "Requirement already satisfied: keras<2.11,>=2.10.0 in /usr/local/lib/python3.7/dist-packages (from tensorflow~=2.10.0->tensorflow_decision_forests) (2.10.0)\n",
            "Requirement already satisfied: packaging in /usr/local/lib/python3.7/dist-packages (from tensorflow~=2.10.0->tensorflow_decision_forests) (21.3)\n",
            "Requirement already satisfied: tensorboard<2.11,>=2.10 in /usr/local/lib/python3.7/dist-packages (from tensorflow~=2.10.0->tensorflow_decision_forests) (2.10.1)\n",
            "Requirement already satisfied: google-pasta>=0.1.1 in /usr/local/lib/python3.7/dist-packages (from tensorflow~=2.10.0->tensorflow_decision_forests) (0.2.0)\n",
            "Requirement already satisfied: flatbuffers>=2.0 in /usr/local/lib/python3.7/dist-packages (from tensorflow~=2.10.0->tensorflow_decision_forests) (22.9.24)\n",
            "Requirement already satisfied: libclang>=13.0.0 in /usr/local/lib/python3.7/dist-packages (from tensorflow~=2.10.0->tensorflow_decision_forests) (14.0.6)\n",
            "Requirement already satisfied: gast<=0.4.0,>=0.2.1 in /usr/local/lib/python3.7/dist-packages (from tensorflow~=2.10.0->tensorflow_decision_forests) (0.4.0)\n",
            "Requirement already satisfied: opt-einsum>=2.3.2 in /usr/local/lib/python3.7/dist-packages (from tensorflow~=2.10.0->tensorflow_decision_forests) (3.3.0)\n",
            "Requirement already satisfied: protobuf<3.20,>=3.9.2 in /usr/local/lib/python3.7/dist-packages (from tensorflow~=2.10.0->tensorflow_decision_forests) (3.17.3)\n",
            "Requirement already satisfied: termcolor>=1.1.0 in /usr/local/lib/python3.7/dist-packages (from tensorflow~=2.10.0->tensorflow_decision_forests) (2.0.1)\n",
            "Requirement already satisfied: grpcio<2.0,>=1.24.3 in /usr/local/lib/python3.7/dist-packages (from tensorflow~=2.10.0->tensorflow_decision_forests) (1.49.1)\n",
            "Requirement already satisfied: wrapt>=1.11.0 in /usr/local/lib/python3.7/dist-packages (from tensorflow~=2.10.0->tensorflow_decision_forests) (1.14.1)\n",
            "Requirement already satisfied: cached-property in /usr/local/lib/python3.7/dist-packages (from h5py>=2.9.0->tensorflow~=2.10.0->tensorflow_decision_forests) (1.5.2)\n",
            "Requirement already satisfied: markdown>=2.6.8 in /usr/local/lib/python3.7/dist-packages (from tensorboard<2.11,>=2.10->tensorflow~=2.10.0->tensorflow_decision_forests) (3.4.1)\n",
            "Requirement already satisfied: google-auth<3,>=1.6.3 in /usr/local/lib/python3.7/dist-packages (from tensorboard<2.11,>=2.10->tensorflow~=2.10.0->tensorflow_decision_forests) (1.35.0)\n",
            "Requirement already satisfied: werkzeug>=1.0.1 in /usr/local/lib/python3.7/dist-packages (from tensorboard<2.11,>=2.10->tensorflow~=2.10.0->tensorflow_decision_forests) (1.0.1)\n",
            "Requirement already satisfied: requests<3,>=2.21.0 in /usr/local/lib/python3.7/dist-packages (from tensorboard<2.11,>=2.10->tensorflow~=2.10.0->tensorflow_decision_forests) (2.23.0)\n",
            "Requirement already satisfied: tensorboard-data-server<0.7.0,>=0.6.0 in /usr/local/lib/python3.7/dist-packages (from tensorboard<2.11,>=2.10->tensorflow~=2.10.0->tensorflow_decision_forests) (0.6.1)\n",
            "Requirement already satisfied: tensorboard-plugin-wit>=1.6.0 in /usr/local/lib/python3.7/dist-packages (from tensorboard<2.11,>=2.10->tensorflow~=2.10.0->tensorflow_decision_forests) (1.8.1)\n",
            "Requirement already satisfied: google-auth-oauthlib<0.5,>=0.4.1 in /usr/local/lib/python3.7/dist-packages (from tensorboard<2.11,>=2.10->tensorflow~=2.10.0->tensorflow_decision_forests) (0.4.6)\n",
            "Requirement already satisfied: rsa<5,>=3.1.4 in /usr/local/lib/python3.7/dist-packages (from google-auth<3,>=1.6.3->tensorboard<2.11,>=2.10->tensorflow~=2.10.0->tensorflow_decision_forests) (4.9)\n",
            "Requirement already satisfied: pyasn1-modules>=0.2.1 in /usr/local/lib/python3.7/dist-packages (from google-auth<3,>=1.6.3->tensorboard<2.11,>=2.10->tensorflow~=2.10.0->tensorflow_decision_forests) (0.2.8)\n",
            "Requirement already satisfied: cachetools<5.0,>=2.0.0 in /usr/local/lib/python3.7/dist-packages (from google-auth<3,>=1.6.3->tensorboard<2.11,>=2.10->tensorflow~=2.10.0->tensorflow_decision_forests) (4.2.4)\n",
            "Requirement already satisfied: requests-oauthlib>=0.7.0 in /usr/local/lib/python3.7/dist-packages (from google-auth-oauthlib<0.5,>=0.4.1->tensorboard<2.11,>=2.10->tensorflow~=2.10.0->tensorflow_decision_forests) (1.3.1)\n",
            "Requirement already satisfied: importlib-metadata>=4.4 in /usr/local/lib/python3.7/dist-packages (from markdown>=2.6.8->tensorboard<2.11,>=2.10->tensorflow~=2.10.0->tensorflow_decision_forests) (4.13.0)\n",
            "Requirement already satisfied: zipp>=0.5 in /usr/local/lib/python3.7/dist-packages (from importlib-metadata>=4.4->markdown>=2.6.8->tensorboard<2.11,>=2.10->tensorflow~=2.10.0->tensorflow_decision_forests) (3.9.0)\n",
            "Requirement already satisfied: pyasn1<0.5.0,>=0.4.6 in /usr/local/lib/python3.7/dist-packages (from pyasn1-modules>=0.2.1->google-auth<3,>=1.6.3->tensorboard<2.11,>=2.10->tensorflow~=2.10.0->tensorflow_decision_forests) (0.4.8)\n",
            "Requirement already satisfied: idna<3,>=2.5 in /usr/local/lib/python3.7/dist-packages (from requests<3,>=2.21.0->tensorboard<2.11,>=2.10->tensorflow~=2.10.0->tensorflow_decision_forests) (2.10)\n",
            "Requirement already satisfied: certifi>=2017.4.17 in /usr/local/lib/python3.7/dist-packages (from requests<3,>=2.21.0->tensorboard<2.11,>=2.10->tensorflow~=2.10.0->tensorflow_decision_forests) (2022.9.24)\n",
            "Requirement already satisfied: urllib3!=1.25.0,!=1.25.1,<1.26,>=1.21.1 in /usr/local/lib/python3.7/dist-packages (from requests<3,>=2.21.0->tensorboard<2.11,>=2.10->tensorflow~=2.10.0->tensorflow_decision_forests) (1.24.3)\n",
            "Requirement already satisfied: chardet<4,>=3.0.2 in /usr/local/lib/python3.7/dist-packages (from requests<3,>=2.21.0->tensorboard<2.11,>=2.10->tensorflow~=2.10.0->tensorflow_decision_forests) (3.0.4)\n",
            "Requirement already satisfied: oauthlib>=3.0.0 in /usr/local/lib/python3.7/dist-packages (from requests-oauthlib>=0.7.0->google-auth-oauthlib<0.5,>=0.4.1->tensorboard<2.11,>=2.10->tensorflow~=2.10.0->tensorflow_decision_forests) (3.2.1)\n",
            "Requirement already satisfied: pyparsing!=3.0.5,>=2.0.2 in /usr/local/lib/python3.7/dist-packages (from packaging->tensorflow~=2.10.0->tensorflow_decision_forests) (3.0.9)\n",
            "Requirement already satisfied: pytz>=2017.3 in /usr/local/lib/python3.7/dist-packages (from pandas->tensorflow_decision_forests) (2022.4)\n",
            "Requirement already satisfied: python-dateutil>=2.7.3 in /usr/local/lib/python3.7/dist-packages (from pandas->tensorflow_decision_forests) (2.8.2)\n"
          ]
        }
      ],
      "source": [
        "#install pyspark\n",
        "!pip install pyspark\n",
        "#install sklearn\n",
        "!pip install sklearn\n",
        "#install Tensflow\n",
        "!pip install tensorflow\n",
        "#install tensorflow_decision_forests\n",
        "!pip install tensorflow_decision_forests"
      ]
    },
    {
      "cell_type": "code",
      "source": [
        "from google.colab import drive\n",
        "drive.mount('/content/drive')"
      ],
      "metadata": {
        "colab": {
          "base_uri": "https://localhost:8080/"
        },
        "id": "QxdOGRAyXu_I",
        "outputId": "8f57ae7a-c518-4441-c9ce-ca6da26e5fe8"
      },
      "execution_count": null,
      "outputs": [
        {
          "output_type": "stream",
          "name": "stdout",
          "text": [
            "Mounted at /content/drive\n"
          ]
        }
      ]
    },
    {
      "cell_type": "code",
      "execution_count": null,
      "metadata": {
        "id": "WVAFO8XZpQ9J"
      },
      "outputs": [],
      "source": [
        "import pandas as pd\n",
        "import io\n",
        "import os\n",
        "import matplotlib.pyplot as plt\n",
        "import seaborn as sns\n",
        "%matplotlib inline\n",
        "os.environ[\"PYARROW_IGNORE_TIMEZONE\"] = \"1\""
      ]
    },
    {
      "cell_type": "code",
      "execution_count": null,
      "metadata": {
        "colab": {
          "base_uri": "https://localhost:8080/",
          "height": 35
        },
        "id": "_ZKSLFGXUOFt",
        "outputId": "be12a956-69bd-4d38-a667-3859825fc371"
      },
      "outputs": [
        {
          "output_type": "execute_result",
          "data": {
            "text/plain": [
              "'3.3.0'"
            ],
            "application/vnd.google.colaboratory.intrinsic+json": {
              "type": "string"
            }
          },
          "metadata": {},
          "execution_count": 8
        }
      ],
      "source": [
        "import pyspark\n",
        "from pyspark.sql import SparkSession\n",
        "#spark = SparkSession.builder.getOrCreate()\n",
        "#spark = SparkSession.builder.master(\"local\").appName(\"Colab\").config(\"spark.ui.port\", '4050').getOrCreate()\n",
        "spark = SparkSession.builder \\\n",
        "    .master('local[*]') \\\n",
        "    .config(\"spark.driver.memory\", \"15g\") \\\n",
        "    .appName('my-cool-app') \\\n",
        "    .getOrCreate()\n",
        "spark.sparkContext.setLogLevel(\"ERROR\")\n",
        "spark.version"
      ]
    },
    {
      "cell_type": "markdown",
      "metadata": {
        "id": "RsElqxqqrFLl"
      },
      "source": [
        "### Convert pandas dataframe to pandas-on-spark dataframe"
      ]
    },
    {
      "cell_type": "code",
      "execution_count": null,
      "metadata": {
        "colab": {
          "base_uri": "https://localhost:8080/"
        },
        "id": "lSR1YsEoV2H6",
        "outputId": "24aa22be-2f9a-4b2b-e890-11358ac3687c"
      },
      "outputs": [
        {
          "output_type": "stream",
          "name": "stderr",
          "text": [
            "/usr/local/lib/python3.7/dist-packages/pyspark/pandas/utils.py:975: PandasAPIOnSparkAdviceWarning: If `index_col` is not specified for `read_csv`, the default index is attached which can cause additional overhead.\n",
            "  warnings.warn(message, PandasAPIOnSparkAdviceWarning)\n"
          ]
        }
      ],
      "source": [
        "import pyspark.pandas as ps\n",
        "psdf = pyspark.pandas.read_csv('./drive/MyDrive/data.csv')\n",
        "#psdf = pyspark.pandas.read_csv('data.csv')"
      ]
    },
    {
      "cell_type": "code",
      "execution_count": null,
      "metadata": {
        "colab": {
          "base_uri": "https://localhost:8080/"
        },
        "id": "ltyoYAIGqqdR",
        "outputId": "e14955be-60a8-4d96-b6cf-4b592d2f03da"
      },
      "outputs": [
        {
          "output_type": "execute_result",
          "data": {
            "text/plain": [
              "(855969, 73)"
            ]
          },
          "metadata": {},
          "execution_count": 8
        }
      ],
      "source": [
        "psdf.shape"
      ]
    },
    {
      "cell_type": "code",
      "execution_count": null,
      "metadata": {
        "colab": {
          "base_uri": "https://localhost:8080/"
        },
        "id": "V7ZMIpz5qqaN",
        "outputId": "1fceb1e5-8623-4f34-f771-904071c543bd"
      },
      "outputs": [
        {
          "output_type": "stream",
          "name": "stdout",
          "text": [
            "<class 'pyspark.pandas.frame.DataFrame'>\n",
            "Int64Index: 855969 entries, 0 to 855968\n",
            "Data columns (total 73 columns):\n",
            " #   Column                       Non-Null Count   Dtype  \n",
            "---  ------                       --------------   -----  \n",
            " 0   id                           855969 non-null  int32  \n",
            " 1   member_id                    855969 non-null  int32  \n",
            " 2   loan_amnt                    855969 non-null  int32  \n",
            " 3   funded_amnt                  855969 non-null  int32  \n",
            " 4   funded_amnt_inv              855969 non-null  float64\n",
            " 5   term                         855969 non-null  object \n",
            " 6   int_rate                     855969 non-null  float64\n",
            " 7   installment                  855969 non-null  float64\n",
            " 8   grade                        855969 non-null  object \n",
            " 9   sub_grade                    855969 non-null  object \n",
            " 10  emp_title                    806530 non-null  object \n",
            " 11  emp_length                   855969 non-null  object \n",
            " 12  home_ownership               855969 non-null  object \n",
            " 13  annual_inc                   855969 non-null  object \n",
            " 14  verification_status          855969 non-null  object \n",
            " 15  issue_d                      855969 non-null  object \n",
            " 16  pymnt_plan                   855969 non-null  object \n",
            " 17  desc                         121814 non-null  object \n",
            " 18  purpose                      855968 non-null  object \n",
            " 19  title                        855936 non-null  object \n",
            " 20  zip_code                     855968 non-null  object \n",
            " 21  addr_state                   855968 non-null  object \n",
            " 22  dti                          855968 non-null  object \n",
            " 23  delinq_2yrs                  855968 non-null  object \n",
            " 24  earliest_cr_line             855968 non-null  object \n",
            " 25  inq_last_6mths               855968 non-null  object \n",
            " 26  mths_since_last_delinq       416300 non-null  object \n",
            " 27  mths_since_last_record       131356 non-null  object \n",
            " 28  open_acc                     855897 non-null  object \n",
            " 29  pub_rec                      855912 non-null  object \n",
            " 30  revol_bal                    855922 non-null  object \n",
            " 31  revol_util                   855494 non-null  object \n",
            " 32  total_acc                    855952 non-null  object \n",
            " 33  initial_list_status          855955 non-null  object \n",
            " 34  out_prncp                    855954 non-null  object \n",
            " 35  out_prncp_inv                855948 non-null  object \n",
            " 36  total_pymnt                  855957 non-null  object \n",
            " 37  total_pymnt_inv              855959 non-null  object \n",
            " 38  total_rec_prncp              855960 non-null  object \n",
            " 39  total_rec_int                855966 non-null  object \n",
            " 40  total_rec_late_fee           855966 non-null  object \n",
            " 41  recoveries                   855967 non-null  object \n",
            " 42  collection_recovery_fee      855964 non-null  object \n",
            " 43  last_pymnt_d                 847100 non-null  object \n",
            " 44  last_pymnt_amnt              855966 non-null  object \n",
            " 45  next_pymnt_d                 603218 non-null  object \n",
            " 46  last_credit_pull_d           855867 non-null  object \n",
            " 47  collections_12_mths_ex_med   855870 non-null  object \n",
            " 48  mths_since_last_major_derog  213332 non-null  object \n",
            " 49  policy_code                  855897 non-null  object \n",
            " 50  application_type             855912 non-null  object \n",
            " 51  annual_inc_joint             626 non-null     object \n",
            " 52  dti_joint                    587 non-null     object \n",
            " 53  verification_status_joint    551 non-null     object \n",
            " 54  acc_now_delinq               855826 non-null  object \n",
            " 55  tot_coll_amt                 788771 non-null  object \n",
            " 56  tot_cur_bal                  788745 non-null  object \n",
            " 57  open_acc_6m                  13369 non-null   object \n",
            " 58  open_il_6m                   13353 non-null   object \n",
            " 59  open_il_12m                  13331 non-null   object \n",
            " 60  open_il_24m                  13322 non-null   object \n",
            " 61  mths_since_rcnt_il           12959 non-null   object \n",
            " 62  total_bal_il                 13314 non-null   object \n",
            " 63  il_util                      11632 non-null   object \n",
            " 64  open_rv_12m                  13299 non-null   object \n",
            " 65  open_rv_24m                  13305 non-null   object \n",
            " 66  max_bal_bc                   13301 non-null   object \n",
            " 67  all_util                     13294 non-null   object \n",
            " 68  total_rev_hi_lim             788658 non-null  object \n",
            " 69  inq_fi                       13293 non-null   object \n",
            " 70  total_cu_tl                  13297 non-null   object \n",
            " 71  inq_last_12m                 13289 non-null   int32  \n",
            " 72  default_ind                  855746 non-null  int32  \n",
            "dtypes: float64(3), int32(6), object(64)"
          ]
        }
      ],
      "source": [
        "psdf.info()"
      ]
    },
    {
      "cell_type": "markdown",
      "metadata": {
        "id": "vFZSWnoscgR0"
      },
      "source": [
        "**Conclusion**\n",
        "\n",
        "1.Dataset does not ahve correct data type need to change to relevant datatype\n",
        "\n",
        "> term - remove months change to int\n",
        "\n",
        "> emp_length - check how can we improve this column\n",
        "\n",
        "> annual_inc - chenge to float\n",
        "\n",
        "> issue_d - change to date format\n",
        "\n",
        ">dti change to float\n",
        "\n",
        ">delinq_2yrs check if could be converted to int\n",
        "\n",
        ">earliest_cr_line change to date format\n",
        "\n",
        ">inq_last_6mths change to int\n",
        "\n",
        ">mths_since_last_delinq change to int\n",
        "\n",
        ">mths_since_last_record chage to int\n",
        "\n",
        ">open_acc change to int\n",
        "\n",
        ">pub_rec change to int\n",
        "\n",
        ">revol_bal change to int\n",
        "\n",
        ">revol_util change to float\n",
        "\n",
        ">total_acc change to int\n",
        "\n",
        ">out_prncp and out_prncp_inv change to float\n",
        "\n",
        ">total_pymnt and total_pymnt_inv change to float\n",
        "\n",
        ">total_rec_prncp and total_rec_int and total_rec_late_fee change to float\n",
        "\n",
        ">recoveries change to float\n",
        "\n",
        "> collection_recovery_fee change to float\n",
        "\n",
        ">last_pymnt_d change to date format\n",
        "\n",
        ">last_pymnt_amnt change to float\n",
        "\n",
        ">next_pymnt_d change to date format\n",
        "\n",
        ">last_credit_pull_d change to date format\n",
        "\n",
        ">collections_12_mths_ex_med change to int\n",
        "\n",
        ">mths_since_last_major_derog change to int\n",
        "\n",
        ">policy_code change to int\n",
        "\n",
        ">acc_now_delinq change to int or float\n",
        "\n",
        ">tot_coll_amt change to float\n",
        "\n",
        ">tot_cur_bal change to float\n",
        "\n",
        ">total_rev_hi_lim change to float"
      ]
    },
    {
      "cell_type": "markdown",
      "metadata": {
        "id": "CL9abYjm6Dyw"
      },
      "source": [
        "# 2. Cleaning & preprocessing\n"
      ]
    },
    {
      "cell_type": "code",
      "execution_count": null,
      "metadata": {
        "colab": {
          "base_uri": "https://localhost:8080/"
        },
        "id": "kL44Fx6IqnOZ",
        "outputId": "e446f3d0-e334-47b0-8dcd-21d6ead7bd6d"
      },
      "outputs": [
        {
          "output_type": "execute_result",
          "data": {
            "text/plain": [
              "0"
            ]
          },
          "metadata": {},
          "execution_count": 13
        }
      ],
      "source": [
        "#let's check dublicates\n",
        "psdf.duplicated().sum()"
      ]
    },
    {
      "cell_type": "code",
      "execution_count": null,
      "metadata": {
        "id": "k75b7J4C8z9A"
      },
      "outputs": [],
      "source": [
        "#Drop empty columns and columns that are less than 5%\n",
        "#Function checks % of missing values in a column. Those Columns that are less than 5% will be removed from DF\n",
        "def check_percentage_ofMissingValues(data):\n",
        "      columns_to_consider_with_less15 = []\n",
        "      columns_to_consider_with_more15 = []\n",
        "      #we include id, and member_id as we do not need them and date formats as well, as many of them are missing in default index == 1\n",
        "      dropColumns = ['id','member_id','next_pymnt_d','last_credit_pull_d','earliest_cr_line','issue_d','last_pymnt_d']\n",
        "      for x in data.columns:\n",
        "        percentage = (100 - (data[x].isna().sum()/len(data)*100))\n",
        "        if percentage < 5:\n",
        "            dropColumns.append(x)\n",
        "        elif percentage < 15:\n",
        "          columns_to_consider_with_less15.append(x)\n",
        "        elif percentage < 99.99:\n",
        "          columns_to_consider_with_more15.append(x)\n",
        "\n",
        "      print(f'columns to be dropped:{dropColumns}')\n",
        "      print(f'columns percentage to be considered less then 15%:{columns_to_consider_with_less15}')\n",
        "      print(f'columns percentage to be considered more then 15%:{columns_to_consider_with_more15}')\n",
        "      return dropColumns,columns_to_consider_with_less15,columns_to_consider_with_more15\n",
        "\n",
        "def preprocessing_ds(data):\n",
        "    preprocessing = data.copy()\n",
        "\n",
        "    #Convert to int\n",
        "    convert_to_int = ['delinq_2yrs','inq_last_6mths',\n",
        "                  'mths_since_last_delinq','mths_since_last_record',\n",
        "                  'open_acc','pub_rec','total_acc',\n",
        "                 'collections_12_mths_ex_med','mths_since_last_major_derog',\n",
        "                 'policy_code','acc_now_delinq']\n",
        "    #convert to float\n",
        "    convert_to_float = ['revol_bal','revol_util','dti',\n",
        "                    'annual_inc','out_prncp','out_prncp_inv',\n",
        "                   'total_pymnt','total_rec_prncp','total_rec_int',\n",
        "                   'total_rec_late_fee','recoveries','collection_recovery_fee',\n",
        "                   'last_pymnt_amnt','tot_coll_amt','tot_cur_bal','total_rev_hi_lim']\n",
        "    #delinq_2yrs drop that == 'Ring'\n",
        "\n",
        "    preprocessing = preprocessing[preprocessing[\"delinq_2yrs\"].str.contains(\"Ring\") == False]\n",
        "\n",
        "    #drop this rows as it is miss placed\n",
        "    preprocessing = preprocessing[preprocessing['purpose'].str.contains(\"Nevada\") == False]\n",
        "    preprocessing = preprocessing[preprocessing['purpose'].str.contains(\"550\") == False]\n",
        "    preprocessing = preprocessing[preprocessing['purpose'].str.contains(\"married\") == False]\n",
        "\n",
        "    preprocessing[convert_to_int] = preprocessing[convert_to_int].astype('Int64')\n",
        "    preprocessing[convert_to_float] = preprocessing[convert_to_float].astype('Float64')\n",
        "    #desciption looks very different from each other nad it has date it is better to replace those values\n",
        "    #it can not be filled with any others, better solution is to drop column and as well as it says it is not important feature\n",
        "    preprocessing = preprocessing.drop(['desc'], axis=1)\n",
        "    #fill null values with 'others'\n",
        "    preprocessing['emp_title'] = preprocessing['emp_title'].fillna('others')\n",
        "    #title fill na with Debt consolidation\n",
        "    preprocessing['title'] = preprocessing['title'].fillna('Debt consolidation')\n",
        "\n",
        "    #fill null values with median\n",
        "    preprocessing['mths_since_last_delinq'] = preprocessing['mths_since_last_delinq'].fillna(preprocessing['mths_since_last_delinq'].median())\n",
        "    preprocessing['mths_since_last_record'] = preprocessing['mths_since_last_record'].fillna(preprocessing['mths_since_last_record'].median())\n",
        "\n",
        "\n",
        "    #mths_since_last_major_derog\n",
        "    preprocessing = preprocessing[(preprocessing['mths_since_last_major_derog']>=0) | preprocessing['mths_since_last_major_derog'].isnull()]\n",
        "    preprocessing['mths_since_last_major_derog'] = preprocessing['mths_since_last_major_derog'].astype('Int64')\n",
        "    preprocessing['mths_since_last_major_derog'] = preprocessing['mths_since_last_major_derog'].fillna(preprocessing['mths_since_last_major_derog'].median())\n",
        "\n",
        "    #tot_coll_amt\n",
        "    preprocessing = preprocessing[(preprocessing['tot_coll_amt']>=0) | preprocessing['tot_coll_amt'].isnull()]\n",
        "    preprocessing['tot_coll_amt'] = preprocessing['tot_coll_amt'].astype('Int64')\n",
        "    preprocessing['tot_coll_amt'] = preprocessing['tot_coll_amt'].fillna(preprocessing['tot_coll_amt'].median())\n",
        "\n",
        "    #tot_cur_bal\n",
        "    preprocessing = preprocessing[(preprocessing['tot_cur_bal']>=0) | preprocessing['tot_cur_bal'].isnull()]\n",
        "    preprocessing['tot_cur_bal'] = preprocessing['tot_cur_bal'].astype('Int64')\n",
        "    preprocessing['tot_cur_bal'] = preprocessing['tot_cur_bal'].fillna(preprocessing['tot_cur_bal'].median())\n",
        "\n",
        "    #total_rev_hi_lim\n",
        "    preprocessing = preprocessing[(preprocessing['total_rev_hi_lim']>=0) | preprocessing['total_rev_hi_lim'].isnull()]\n",
        "    preprocessing['total_rev_hi_lim'] = preprocessing['total_rev_hi_lim'].astype('Int64')\n",
        "    preprocessing['total_rev_hi_lim'] = preprocessing['total_rev_hi_lim'].fillna(preprocessing['total_rev_hi_lim'].median())\n",
        "\n",
        "    #revol_util\n",
        "    preprocessing['revol_util'] = preprocessing['revol_util'].fillna(preprocessing['revol_util'].median())\n",
        "\n",
        "    #default_ind remove null values\n",
        "    preprocessing= preprocessing[preprocessing['default_ind'].notnull()]\n",
        "\n",
        "    #collections_12_mths_ex_med\n",
        "    preprocessing['collections_12_mths_ex_med'] = preprocessing['collections_12_mths_ex_med'].fillna(preprocessing['collections_12_mths_ex_med'].median())\n",
        "\n",
        "    #term convert to int remove months\n",
        "    preprocessing['term'] = preprocessing['term'].str.replace('\\D+', '')\n",
        "    preprocessing['term'] = preprocessing['term'].astype('Int64')\n",
        "\n",
        "    #emp_length convert to int remove years/year\n",
        "    preprocessing['emp_length'] = preprocessing['emp_length'].str.replace('\\D+', '')\n",
        "    preprocessing['emp_length'] = preprocessing['emp_length'].astype('Int64')\n",
        "\n",
        "    # #covnert to date issue_d & earliest_cr_line\n",
        "\n",
        "\n",
        "    #total_pymnt_inv convert to float\n",
        "    preprocessing['total_pymnt_inv'] = preprocessing['total_pymnt_inv'].astype('Float64')\n",
        "    psdf['emp_length'] = psdf['emp_length'].fillna(1)\n",
        "    return preprocessing"
      ]
    },
    {
      "cell_type": "code",
      "execution_count": null,
      "metadata": {
        "colab": {
          "base_uri": "https://localhost:8080/"
        },
        "id": "V2YlMfBCJt_z",
        "outputId": "38626358-6990-4c25-ba5d-d6ac5929cf84"
      },
      "outputs": [
        {
          "output_type": "stream",
          "name": "stdout",
          "text": [
            "columns to be dropped:['id', 'member_id', 'next_pymnt_d', 'last_credit_pull_d', 'earliest_cr_line', 'issue_d', 'last_pymnt_d', 'annual_inc_joint', 'dti_joint', 'verification_status_joint', 'open_acc_6m', 'open_il_6m', 'open_il_12m', 'open_il_24m', 'mths_since_rcnt_il', 'total_bal_il', 'il_util', 'open_rv_12m', 'open_rv_24m', 'max_bal_bc', 'all_util', 'inq_fi', 'total_cu_tl', 'inq_last_12m']\n",
            "columns percentage to be considered less then 15%:['desc']\n",
            "columns percentage to be considered more then 15%:['emp_title', 'mths_since_last_delinq', 'mths_since_last_record', 'revol_util', 'last_pymnt_d', 'next_pymnt_d', 'last_credit_pull_d', 'collections_12_mths_ex_med', 'mths_since_last_major_derog', 'acc_now_delinq', 'tot_coll_amt', 'tot_cur_bal', 'total_rev_hi_lim', 'default_ind']\n"
          ]
        }
      ],
      "source": [
        "columns_to_drop,columns_less15,cololumns_more15 = check_percentage_ofMissingValues(psdf)\n",
        "\n",
        "#drop columns\n",
        "psdf = psdf.drop(columns_to_drop, axis=1)\n",
        "#preprocessing data\n",
        "psdf = preprocessing_ds(psdf)"
      ]
    },
    {
      "cell_type": "markdown",
      "metadata": {
        "id": "szZVk9NTLsrF"
      },
      "source": [
        "**Conclusion**\n",
        "> found 0 dublicates\n",
        "\n",
        "> Columns dropped as they have less than 5% values in DF\n",
        "\n",
        "'id', 'member_id', 'annual_inc_joint', 'dti_joint', 'verification_status_joint', 'open_acc_6m', 'open_il_6m', 'open_il_12m', 'open_il_24m', 'mths_since_rcnt_il', 'total_bal_il', 'il_util', 'open_rv_12m', 'open_rv_24m', 'max_bal_bc', 'all_util', 'inq_fi', 'total_cu_tl', 'inq_last_12m'\n",
        "\n",
        ">Column Dropped 'desc' has 15% values in DF\n",
        "\n",
        "Could not be filled with any other values, as this column is unique an represents each values as date with comment\n",
        "\n",
        ">columns filled with median\n",
        "\n",
        "'mths_since_last_delinq','mths_since_last_record','mths_since_last_major_derog','tot_coll_amt','tot_cur_bal'\n",
        "'total_rev_hi_lim'\n",
        "\n",
        ">Found 0 dublicates after preprocessing\n"
      ]
    },
    {
      "cell_type": "markdown",
      "metadata": {
        "id": "2Gtpuj7mL8Q8"
      },
      "source": [
        "# Box Plot OR histograms to find Noise or Outliers"
      ]
    },
    {
      "cell_type": "code",
      "execution_count": null,
      "metadata": {
        "colab": {
          "base_uri": "https://localhost:8080/"
        },
        "id": "pmQrSjF0UHC6",
        "outputId": "f7c96050-2e92-408e-a45e-c82e9f5fb93c"
      },
      "outputs": [
        {
          "output_type": "stream",
          "name": "stdout",
          "text": [
            "display this columns ['int_rate', 'installment', 'annual_inc', 'dti', 'delinq_2yrs', 'inq_last_6mths', 'mths_since_last_delinq', 'mths_since_last_record', 'open_acc', 'pub_rec', 'revol_bal', 'revol_util', 'total_acc', 'out_prncp', 'out_prncp_inv', 'total_pymnt', 'total_pymnt_inv', 'total_rec_prncp', 'total_rec_int', 'total_rec_late_fee', 'recoveries', 'collection_recovery_fee', 'last_pymnt_amnt', 'collections_12_mths_ex_med', 'mths_since_last_major_derog', 'policy_code', 'acc_now_delinq', 'tot_coll_amt', 'tot_cur_bal', 'total_rev_hi_lim', 'default_ind']\n"
          ]
        }
      ],
      "source": [
        "testing =psdf.copy()\n",
        "data_num = testing.select_dtypes(exclude=['object']).columns.tolist()\n",
        "data_num.remove('term')\n",
        "data_num.remove('loan_amnt')\n",
        "data_num.remove('funded_amnt')\n",
        "data_num.remove('funded_amnt_inv')\n",
        "data_num.remove('emp_length')\n",
        "\n",
        "print(f'display this columns {data_num}')"
      ]
    },
    {
      "cell_type": "code",
      "execution_count": null,
      "metadata": {
        "colab": {
          "base_uri": "https://localhost:8080/",
          "height": 542
        },
        "id": "YBDOYm_5pHPU",
        "outputId": "24f9f597-7aa1-4717-9ba1-4e459049bf2b"
      },
      "outputs": [
        {
          "data": {
            "text/html": [
              "<html>\n",
              "<head><meta charset=\"utf-8\" /></head>\n",
              "<body>\n",
              "    <div>            <script src=\"https://cdnjs.cloudflare.com/ajax/libs/mathjax/2.7.5/MathJax.js?config=TeX-AMS-MML_SVG\"></script><script type=\"text/javascript\">if (window.MathJax) {MathJax.Hub.Config({SVG: {font: \"STIX-Web\"}});}</script>                <script type=\"text/javascript\">window.PlotlyConfig = {MathJaxConfig: 'local'};</script>\n",
              "        <script src=\"https://cdn.plot.ly/plotly-2.8.3.min.js\"></script>                <div id=\"1b6c0230-e58b-454c-9e07-865181b947ba\" class=\"plotly-graph-div\" style=\"height:525px; width:100%;\"></div>            <script type=\"text/javascript\">                                    window.PLOTLYENV=window.PLOTLYENV || {};                                    if (document.getElementById(\"1b6c0230-e58b-454c-9e07-865181b947ba\")) {                    Plotly.newPlot(                        \"1b6c0230-e58b-454c-9e07-865181b947ba\",                        [{\"hovertemplate\":\"variable=default_ind<br>value=%{text}<br>count=%{y}\",\"name\":\"default_ind\",\"text\":[\"[0.0, 0.1)\",\"[0.1, 0.2)\",\"[0.2, 0.3)\",\"[0.3, 0.4)\",\"[0.4, 0.5)\",\"[0.5, 0.6)\",\"[0.6, 0.7)\",\"[0.7, 0.8)\",\"[0.8, 0.9)\",\"[0.9, 1.0]\"],\"x\":[0.05,0.15000000000000002,0.25,0.35000000000000003,0.45,0.55,0.6500000000000001,0.75,0.8500000000000001,0.95],\"y\":[809309.0,0.0,0.0,0.0,0.0,0.0,0.0,0.0,0.0,46434.0],\"type\":\"bar\"}],                        {\"template\":{\"data\":{\"bar\":[{\"error_x\":{\"color\":\"#2a3f5f\"},\"error_y\":{\"color\":\"#2a3f5f\"},\"marker\":{\"line\":{\"color\":\"#E5ECF6\",\"width\":0.5},\"pattern\":{\"fillmode\":\"overlay\",\"size\":10,\"solidity\":0.2}},\"type\":\"bar\"}],\"barpolar\":[{\"marker\":{\"line\":{\"color\":\"#E5ECF6\",\"width\":0.5},\"pattern\":{\"fillmode\":\"overlay\",\"size\":10,\"solidity\":0.2}},\"type\":\"barpolar\"}],\"carpet\":[{\"aaxis\":{\"endlinecolor\":\"#2a3f5f\",\"gridcolor\":\"white\",\"linecolor\":\"white\",\"minorgridcolor\":\"white\",\"startlinecolor\":\"#2a3f5f\"},\"baxis\":{\"endlinecolor\":\"#2a3f5f\",\"gridcolor\":\"white\",\"linecolor\":\"white\",\"minorgridcolor\":\"white\",\"startlinecolor\":\"#2a3f5f\"},\"type\":\"carpet\"}],\"choropleth\":[{\"colorbar\":{\"outlinewidth\":0,\"ticks\":\"\"},\"type\":\"choropleth\"}],\"contour\":[{\"colorbar\":{\"outlinewidth\":0,\"ticks\":\"\"},\"colorscale\":[[0.0,\"#0d0887\"],[0.1111111111111111,\"#46039f\"],[0.2222222222222222,\"#7201a8\"],[0.3333333333333333,\"#9c179e\"],[0.4444444444444444,\"#bd3786\"],[0.5555555555555556,\"#d8576b\"],[0.6666666666666666,\"#ed7953\"],[0.7777777777777778,\"#fb9f3a\"],[0.8888888888888888,\"#fdca26\"],[1.0,\"#f0f921\"]],\"type\":\"contour\"}],\"contourcarpet\":[{\"colorbar\":{\"outlinewidth\":0,\"ticks\":\"\"},\"type\":\"contourcarpet\"}],\"heatmap\":[{\"colorbar\":{\"outlinewidth\":0,\"ticks\":\"\"},\"colorscale\":[[0.0,\"#0d0887\"],[0.1111111111111111,\"#46039f\"],[0.2222222222222222,\"#7201a8\"],[0.3333333333333333,\"#9c179e\"],[0.4444444444444444,\"#bd3786\"],[0.5555555555555556,\"#d8576b\"],[0.6666666666666666,\"#ed7953\"],[0.7777777777777778,\"#fb9f3a\"],[0.8888888888888888,\"#fdca26\"],[1.0,\"#f0f921\"]],\"type\":\"heatmap\"}],\"heatmapgl\":[{\"colorbar\":{\"outlinewidth\":0,\"ticks\":\"\"},\"colorscale\":[[0.0,\"#0d0887\"],[0.1111111111111111,\"#46039f\"],[0.2222222222222222,\"#7201a8\"],[0.3333333333333333,\"#9c179e\"],[0.4444444444444444,\"#bd3786\"],[0.5555555555555556,\"#d8576b\"],[0.6666666666666666,\"#ed7953\"],[0.7777777777777778,\"#fb9f3a\"],[0.8888888888888888,\"#fdca26\"],[1.0,\"#f0f921\"]],\"type\":\"heatmapgl\"}],\"histogram\":[{\"marker\":{\"pattern\":{\"fillmode\":\"overlay\",\"size\":10,\"solidity\":0.2}},\"type\":\"histogram\"}],\"histogram2d\":[{\"colorbar\":{\"outlinewidth\":0,\"ticks\":\"\"},\"colorscale\":[[0.0,\"#0d0887\"],[0.1111111111111111,\"#46039f\"],[0.2222222222222222,\"#7201a8\"],[0.3333333333333333,\"#9c179e\"],[0.4444444444444444,\"#bd3786\"],[0.5555555555555556,\"#d8576b\"],[0.6666666666666666,\"#ed7953\"],[0.7777777777777778,\"#fb9f3a\"],[0.8888888888888888,\"#fdca26\"],[1.0,\"#f0f921\"]],\"type\":\"histogram2d\"}],\"histogram2dcontour\":[{\"colorbar\":{\"outlinewidth\":0,\"ticks\":\"\"},\"colorscale\":[[0.0,\"#0d0887\"],[0.1111111111111111,\"#46039f\"],[0.2222222222222222,\"#7201a8\"],[0.3333333333333333,\"#9c179e\"],[0.4444444444444444,\"#bd3786\"],[0.5555555555555556,\"#d8576b\"],[0.6666666666666666,\"#ed7953\"],[0.7777777777777778,\"#fb9f3a\"],[0.8888888888888888,\"#fdca26\"],[1.0,\"#f0f921\"]],\"type\":\"histogram2dcontour\"}],\"mesh3d\":[{\"colorbar\":{\"outlinewidth\":0,\"ticks\":\"\"},\"type\":\"mesh3d\"}],\"parcoords\":[{\"line\":{\"colorbar\":{\"outlinewidth\":0,\"ticks\":\"\"}},\"type\":\"parcoords\"}],\"pie\":[{\"automargin\":true,\"type\":\"pie\"}],\"scatter\":[{\"marker\":{\"colorbar\":{\"outlinewidth\":0,\"ticks\":\"\"}},\"type\":\"scatter\"}],\"scatter3d\":[{\"line\":{\"colorbar\":{\"outlinewidth\":0,\"ticks\":\"\"}},\"marker\":{\"colorbar\":{\"outlinewidth\":0,\"ticks\":\"\"}},\"type\":\"scatter3d\"}],\"scattercarpet\":[{\"marker\":{\"colorbar\":{\"outlinewidth\":0,\"ticks\":\"\"}},\"type\":\"scattercarpet\"}],\"scattergeo\":[{\"marker\":{\"colorbar\":{\"outlinewidth\":0,\"ticks\":\"\"}},\"type\":\"scattergeo\"}],\"scattergl\":[{\"marker\":{\"colorbar\":{\"outlinewidth\":0,\"ticks\":\"\"}},\"type\":\"scattergl\"}],\"scattermapbox\":[{\"marker\":{\"colorbar\":{\"outlinewidth\":0,\"ticks\":\"\"}},\"type\":\"scattermapbox\"}],\"scatterpolar\":[{\"marker\":{\"colorbar\":{\"outlinewidth\":0,\"ticks\":\"\"}},\"type\":\"scatterpolar\"}],\"scatterpolargl\":[{\"marker\":{\"colorbar\":{\"outlinewidth\":0,\"ticks\":\"\"}},\"type\":\"scatterpolargl\"}],\"scatterternary\":[{\"marker\":{\"colorbar\":{\"outlinewidth\":0,\"ticks\":\"\"}},\"type\":\"scatterternary\"}],\"surface\":[{\"colorbar\":{\"outlinewidth\":0,\"ticks\":\"\"},\"colorscale\":[[0.0,\"#0d0887\"],[0.1111111111111111,\"#46039f\"],[0.2222222222222222,\"#7201a8\"],[0.3333333333333333,\"#9c179e\"],[0.4444444444444444,\"#bd3786\"],[0.5555555555555556,\"#d8576b\"],[0.6666666666666666,\"#ed7953\"],[0.7777777777777778,\"#fb9f3a\"],[0.8888888888888888,\"#fdca26\"],[1.0,\"#f0f921\"]],\"type\":\"surface\"}],\"table\":[{\"cells\":{\"fill\":{\"color\":\"#EBF0F8\"},\"line\":{\"color\":\"white\"}},\"header\":{\"fill\":{\"color\":\"#C8D4E3\"},\"line\":{\"color\":\"white\"}},\"type\":\"table\"}]},\"layout\":{\"annotationdefaults\":{\"arrowcolor\":\"#2a3f5f\",\"arrowhead\":0,\"arrowwidth\":1},\"autotypenumbers\":\"strict\",\"coloraxis\":{\"colorbar\":{\"outlinewidth\":0,\"ticks\":\"\"}},\"colorscale\":{\"diverging\":[[0,\"#8e0152\"],[0.1,\"#c51b7d\"],[0.2,\"#de77ae\"],[0.3,\"#f1b6da\"],[0.4,\"#fde0ef\"],[0.5,\"#f7f7f7\"],[0.6,\"#e6f5d0\"],[0.7,\"#b8e186\"],[0.8,\"#7fbc41\"],[0.9,\"#4d9221\"],[1,\"#276419\"]],\"sequential\":[[0.0,\"#0d0887\"],[0.1111111111111111,\"#46039f\"],[0.2222222222222222,\"#7201a8\"],[0.3333333333333333,\"#9c179e\"],[0.4444444444444444,\"#bd3786\"],[0.5555555555555556,\"#d8576b\"],[0.6666666666666666,\"#ed7953\"],[0.7777777777777778,\"#fb9f3a\"],[0.8888888888888888,\"#fdca26\"],[1.0,\"#f0f921\"]],\"sequentialminus\":[[0.0,\"#0d0887\"],[0.1111111111111111,\"#46039f\"],[0.2222222222222222,\"#7201a8\"],[0.3333333333333333,\"#9c179e\"],[0.4444444444444444,\"#bd3786\"],[0.5555555555555556,\"#d8576b\"],[0.6666666666666666,\"#ed7953\"],[0.7777777777777778,\"#fb9f3a\"],[0.8888888888888888,\"#fdca26\"],[1.0,\"#f0f921\"]]},\"colorway\":[\"#636efa\",\"#EF553B\",\"#00cc96\",\"#ab63fa\",\"#FFA15A\",\"#19d3f3\",\"#FF6692\",\"#B6E880\",\"#FF97FF\",\"#FECB52\"],\"font\":{\"color\":\"#2a3f5f\"},\"geo\":{\"bgcolor\":\"white\",\"lakecolor\":\"white\",\"landcolor\":\"#E5ECF6\",\"showlakes\":true,\"showland\":true,\"subunitcolor\":\"white\"},\"hoverlabel\":{\"align\":\"left\"},\"hovermode\":\"closest\",\"mapbox\":{\"style\":\"light\"},\"paper_bgcolor\":\"white\",\"plot_bgcolor\":\"#E5ECF6\",\"polar\":{\"angularaxis\":{\"gridcolor\":\"white\",\"linecolor\":\"white\",\"ticks\":\"\"},\"bgcolor\":\"#E5ECF6\",\"radialaxis\":{\"gridcolor\":\"white\",\"linecolor\":\"white\",\"ticks\":\"\"}},\"scene\":{\"xaxis\":{\"backgroundcolor\":\"#E5ECF6\",\"gridcolor\":\"white\",\"gridwidth\":2,\"linecolor\":\"white\",\"showbackground\":true,\"ticks\":\"\",\"zerolinecolor\":\"white\"},\"yaxis\":{\"backgroundcolor\":\"#E5ECF6\",\"gridcolor\":\"white\",\"gridwidth\":2,\"linecolor\":\"white\",\"showbackground\":true,\"ticks\":\"\",\"zerolinecolor\":\"white\"},\"zaxis\":{\"backgroundcolor\":\"#E5ECF6\",\"gridcolor\":\"white\",\"gridwidth\":2,\"linecolor\":\"white\",\"showbackground\":true,\"ticks\":\"\",\"zerolinecolor\":\"white\"}},\"shapedefaults\":{\"line\":{\"color\":\"#2a3f5f\"}},\"ternary\":{\"aaxis\":{\"gridcolor\":\"white\",\"linecolor\":\"white\",\"ticks\":\"\"},\"baxis\":{\"gridcolor\":\"white\",\"linecolor\":\"white\",\"ticks\":\"\"},\"bgcolor\":\"#E5ECF6\",\"caxis\":{\"gridcolor\":\"white\",\"linecolor\":\"white\",\"ticks\":\"\"}},\"title\":{\"x\":0.05},\"xaxis\":{\"automargin\":true,\"gridcolor\":\"white\",\"linecolor\":\"white\",\"ticks\":\"\",\"title\":{\"standoff\":15},\"zerolinecolor\":\"white\",\"zerolinewidth\":2},\"yaxis\":{\"automargin\":true,\"gridcolor\":\"white\",\"linecolor\":\"white\",\"ticks\":\"\",\"title\":{\"standoff\":15},\"zerolinecolor\":\"white\",\"zerolinewidth\":2}}},\"barmode\":\"stack\",\"xaxis\":{\"title\":{\"text\":\"value\"}},\"yaxis\":{\"title\":{\"text\":\"count\"}}},                        {\"responsive\": true}                    ).then(function(){\n",
              "                            \n",
              "var gd = document.getElementById('1b6c0230-e58b-454c-9e07-865181b947ba');\n",
              "var x = new MutationObserver(function (mutations, observer) {{\n",
              "        var display = window.getComputedStyle(gd).display;\n",
              "        if (!display || display === 'none') {{\n",
              "            console.log([gd, 'removed!']);\n",
              "            Plotly.purge(gd);\n",
              "            observer.disconnect();\n",
              "        }}\n",
              "}});\n",
              "\n",
              "// Listen for the removal of the full notebook cells\n",
              "var notebookContainer = gd.closest('#notebook-container');\n",
              "if (notebookContainer) {{\n",
              "    x.observe(notebookContainer, {childList: true});\n",
              "}}\n",
              "\n",
              "// Listen for the clearing of the current output cell\n",
              "var outputEl = gd.closest('.output');\n",
              "if (outputEl) {{\n",
              "    x.observe(outputEl, {childList: true});\n",
              "}}\n",
              "\n",
              "                        })                };                            </script>        </div>\n",
              "</body>\n",
              "</html>"
            ]
          },
          "metadata": {},
          "output_type": "display_data"
        }
      ],
      "source": [
        "testing['default_ind'].plot('hist')"
      ]
    },
    {
      "cell_type": "markdown",
      "metadata": {
        "id": "ld9tatyCpTu7"
      },
      "source": [
        "**target**-default_ind is very imbalanced. Required to upsampling or find another method to improve model"
      ]
    },
    {
      "cell_type": "code",
      "execution_count": null,
      "metadata": {
        "colab": {
          "base_uri": "https://localhost:8080/",
          "height": 542
        },
        "id": "ks6SxGW_TqQi",
        "outputId": "26dcd6f5-da3f-45c8-d005-54c181aca93f"
      },
      "outputs": [
        {
          "data": {
            "text/html": [
              "<html>\n",
              "<head><meta charset=\"utf-8\" /></head>\n",
              "<body>\n",
              "    <div>            <script src=\"https://cdnjs.cloudflare.com/ajax/libs/mathjax/2.7.5/MathJax.js?config=TeX-AMS-MML_SVG\"></script><script type=\"text/javascript\">if (window.MathJax) {MathJax.Hub.Config({SVG: {font: \"STIX-Web\"}});}</script>                <script type=\"text/javascript\">window.PlotlyConfig = {MathJaxConfig: 'local'};</script>\n",
              "        <script src=\"https://cdn.plot.ly/plotly-2.8.3.min.js\"></script>                <div id=\"9518b30d-9aae-4594-88c4-92eeeb40f487\" class=\"plotly-graph-div\" style=\"height:525px; width:100%;\"></div>            <script type=\"text/javascript\">                                    window.PLOTLYENV=window.PLOTLYENV || {};                                    if (document.getElementById(\"9518b30d-9aae-4594-88c4-92eeeb40f487\")) {                    Plotly.newPlot(                        \"9518b30d-9aae-4594-88c4-92eeeb40f487\",                        [{\"boxpoints\":\"suspectedoutliers\",\"lowerfence\":[0.0],\"mean\":[75071.09800583808],\"median\":[63852.0],\"name\":\"annual_inc\",\"notched\":false,\"q1\":[45000.0],\"q3\":[90000.0],\"upperfence\":[157500.0],\"y\":[[157525.0,157528.0,157537.0,157540.0,157541.0,157544.0,157555.0,157555.0,157595.0,157597.0,157600.0,157600.0,157600.0,157600.0,157600.0,157600.0,157604.0,157608.0,157647.0,157656.0,157685.0,157700.0,157700.0,157750.0,157780.0,157780.0,157800.0,157800.0,157800.0,157800.0,157850.0,157900.0,157900.0,157922.0,157990.0,158000.0,158000.0,158000.0,158000.0,158000.0,158000.0,158000.0,158000.0,158000.0,158000.0,158000.0,158000.0,158000.0,158000.0,158000.0,158000.0,158000.0,158000.0,158000.0,158000.0,158000.0,158000.0,158000.0,158000.0,158000.0,158000.0,158000.0,158000.0,158000.0,158000.0,158000.0,158000.0,158000.0,158000.0,158000.0,158000.0,158000.0,158000.0,158000.0,158000.0,158000.0,158000.0,158000.0,158000.0,158000.0,158000.0,158000.0,158000.0,158000.0,158000.0,158000.0,158000.0,158000.0,158000.0,158000.0,158000.0,158000.0,158000.0,158000.0,158000.0,158000.0,158000.0,158000.0,158000.0,158000.0,158000.0,158000.0,158000.0,158000.0,158000.0,158000.0,158000.0,158000.0,158000.0,158000.0,158000.0,158000.0,158000.0,158000.0,158000.0,158000.0,158000.0,158000.0,158000.0,158000.0,158000.0,158000.0,158000.0,158000.0,158000.0,158000.0,158000.0,158000.0,158000.0,158000.0,158000.0,158000.0,158000.0,158000.0,158000.0,158000.0,158000.0,158000.0,158000.0,158000.0,158000.0,158000.0,158000.0,158000.0,158000.0,158000.0,158000.0,158000.0,158000.0,158000.0,158000.0,158000.0,158000.0,158000.0,158000.0,158000.0,158000.0,158000.0,158000.0,158000.0,158000.0,158000.0,158000.0,158000.0,158000.0,158000.0,158000.0,158000.0,158000.0,158000.0,158000.0,158000.0,158000.0,158000.0,158000.0,158000.0,158000.0,158000.0,158000.0,158000.0,158000.0,158000.0,158000.0,158000.0,158000.0,158000.0,158000.0,158000.0,158000.0,158000.0,158000.0,158000.0,158000.0,158000.0,158000.0,158000.0,158000.0,158000.0,158000.0,158000.0,158000.0,158000.0,158000.0,158000.0,158000.0,158000.0,158000.0,158000.0,158000.0,158000.0,158000.0,158000.0,158000.0,158000.0,158000.0,158000.0,158000.0,158000.0,158000.0,158000.0,158000.0,158000.0,158000.0,158000.0,158000.0,158000.0,158000.0,158000.0,158000.0,158000.0,158000.0,158000.0,158000.0,158000.0,158000.0,158000.0,158000.0,158000.0,158000.0,158000.0,158000.0,158000.0,158000.0,158000.0,158000.0,158000.0,158000.0,158000.0,158000.0,158000.0,158000.0,158000.0,158000.0,158000.0,158000.0,158000.0,158000.0,158000.0,158000.0,158000.0,158000.0,158000.0,158000.0,158000.0,158000.0,158004.0,158004.0,158062.0,158100.0,158100.0,158116.0,158182.0,158200.0,158200.0,158246.0,158251.0,158256.0,158257.0,158276.0,158290.0,158300.0,158300.0,158339.0,158343.0,158367.0,158400.0,158400.0,158400.0,158400.0,158400.0,158400.0,158400.0,158400.0,158461.0,158472.0,158488.0,158500.0,158500.0,158500.0,158500.0,158544.0,158600.0,158600.0,158600.0,158600.0,158609.0,158657.88,158700.0,158700.0,158700.0,158700.0,158700.0,158700.0,158700.0,158700.0,158700.0,158700.0,158700.0,158700.0,158700.0,158700.0,158712.0,158734.0,158750.0,158760.0,158774.0,158790.0,158820.0,158850.0,158875.0,158884.0,158899.0,158970.0,158993.0,159000.0,159000.0,159000.0,159000.0,159000.0,159000.0,159000.0,159000.0,159000.0,159000.0,159000.0,159000.0,159000.0,159000.0,159000.0,159000.0,159000.0,159000.0,159000.0,159000.0,159000.0,159000.0,159000.0,159000.0,159000.0,159000.0,159000.0,159000.0,159000.0,159000.0,159000.0,159000.0,159000.0,159000.0,159000.0,159000.0,159000.0,159000.0,159000.0,159000.0,159000.0,159000.0,159000.0,159000.0,159000.0,159000.0,159000.0,159000.0,159000.0,159000.0,159000.0,159000.0,159000.0,159000.0,159000.0,159000.0,159000.0,159000.0,159000.0,159000.0,159000.0,159000.0,159000.0,159000.0,159000.0,159000.0,159000.0,159000.0,159000.0,159000.0,159000.0,159000.0,159000.0,159000.0,159000.0,159000.0,159000.0,159000.0,159000.0,159000.0,159000.0,159000.0,159000.0,159000.0,159000.0,159000.0,159000.0,159000.0,159000.0,159000.0,159000.0,159000.0,159000.0,159000.0,159000.0,159000.0,159000.0,159000.0,159000.0,159000.0,159000.0,159083.06,159100.0,159107.0,159120.0,159181.0,159200.0,159200.0,159200.0,159212.0,159270.0,159300.0,159300.0,159350.0,159400.0,159432.0,159472.0,159500.0,159500.0,159500.0,159507.0,159580.0,159600.0,159600.0,159600.0,159650.0,159650.0,159700.0,159723.0,159744.0,159751.0,159760.0,159775.0,159800.0,159800.0,159800.0,159825.0,159838.0,159883.0,159925.0,159930.0,159953.0,159959.0,159960.0,159996.0,159996.0,159996.0,159996.0,159996.0,159996.0,159996.0,159996.0,159996.0,159996.0,159996.0,159996.0,159996.0,160000.0,160000.0,160000.0,160000.0,160000.0,160000.0,160000.0,160000.0,160000.0,160000.0,160000.0,160000.0,160000.0,160000.0,160000.0,160000.0,160000.0,160000.0,160000.0,160000.0,160000.0,160000.0,160000.0,160000.0,160000.0,160000.0,160000.0,160000.0,160000.0,160000.0,160000.0,160000.0,160000.0,160000.0,160000.0,160000.0,160000.0,160000.0,160000.0,160000.0,160000.0,160000.0,160000.0,160000.0,160000.0,160000.0,160000.0,160000.0,160000.0,160000.0,160000.0,160000.0,160000.0,160000.0,160000.0,160000.0,160000.0,160000.0,160000.0,160000.0,160000.0,160000.0,160000.0,160000.0,160000.0,160000.0,160000.0,160000.0,160000.0,160000.0,160000.0,160000.0,160000.0,160000.0,160000.0,160000.0,160000.0,160000.0,160000.0,160000.0,160000.0,160000.0,160000.0,160000.0,160000.0,160000.0,160000.0,160000.0,160000.0,160000.0,160000.0,160000.0,160000.0,160000.0,160000.0,160000.0,160000.0,160000.0,160000.0,160000.0,160000.0,160000.0,160000.0,160000.0,160000.0,160000.0,160000.0,160000.0,160000.0,160000.0,160000.0,160000.0,160000.0,160000.0,160000.0,160000.0,160000.0,160000.0,160000.0,160000.0,160000.0,160000.0,160000.0,160000.0,160000.0,160000.0,160000.0,160000.0,160000.0,160000.0,160000.0,160000.0,160000.0,160000.0,160000.0,160000.0,160000.0,160000.0,160000.0,160000.0,160000.0,160000.0,160000.0,160000.0,160000.0,160000.0,160000.0,160000.0,160000.0,160000.0,160000.0,160000.0,160000.0,160000.0,160000.0,160000.0,160000.0,160000.0,160000.0,160000.0,160000.0,160000.0,160000.0,160000.0,160000.0,160000.0,160000.0,160000.0,160000.0,160000.0,160000.0,160000.0,160000.0,160000.0,160000.0,160000.0,160000.0,160000.0,160000.0,160000.0,160000.0,160000.0,160000.0,160000.0,160000.0,160000.0,160000.0,160000.0,160000.0,160000.0,160000.0,160000.0,160000.0,160000.0,160000.0,160000.0,160000.0,160000.0,160000.0,160000.0,160000.0,160000.0,160000.0,160000.0,160000.0,160000.0,160000.0,160000.0,160000.0,160000.0,160000.0,160000.0,160000.0,160000.0,160000.0,160000.0,160000.0,160000.0,160000.0,160000.0,160000.0,160000.0,160000.0,160000.0,160000.0,160000.0,160000.0,160000.0,160000.0,160000.0,160000.0,160000.0,160000.0,160000.0,160000.0,160000.0,160000.0,160000.0,160000.0,160000.0,160000.0,160000.0,160000.0,160000.0,160000.0,160000.0,160000.0,160000.0,160000.0,160000.0,160000.0,160000.0,160000.0,160000.0,160000.0,160000.0,160000.0,160000.0,160000.0,160000.0,160000.0,160000.0,160000.0,160000.0,160000.0,160000.0,160000.0,160000.0,160000.0,160000.0,160000.0,160000.0,160000.0,160000.0,160000.0,160000.0,160000.0,160000.0,160000.0,160000.0,160000.0,160000.0,160000.0,160000.0,160000.0,160000.0,160000.0,160000.0,160000.0,160000.0,160000.0,160000.0,160000.0,160000.0,160000.0,160000.0,160000.0,160000.0,160000.0,160000.0,160000.0,160000.0,160000.0,160000.0,160000.0,160000.0,160000.0,160000.0,160000.0,160000.0,160000.0,160000.0,160000.0,160000.0,160000.0,160000.0,160000.0,160000.0,160000.0,160000.0,160000.0,160000.0,160000.0,160000.0,160000.0,160000.0,160000.0,160000.0,160000.0,160000.0,160000.0,160000.0,160000.0,160000.0,160000.0,160000.0,160000.0,160000.0,160000.0,160000.0,160000.0,160000.0,160000.0,160000.0,160000.0,160000.0,160000.0,160000.0,160000.0,160000.0,160000.0,160000.0,160000.0,160000.0,160000.0,160000.0,160000.0,160000.0,160000.0,160000.0,160000.0,160000.0,160000.0,160000.0,160000.0,160000.0,160000.0,160000.0,160000.0,160000.0,160000.0,160000.0,160000.0,160000.0,160000.0,160000.0,160000.0,160000.0,160000.0,160000.0,160000.0,160000.0,160000.0,160000.0,160000.0,160000.0,160000.0,160000.0,160000.0,160000.0,160000.0,160000.0,160000.0,160000.0,160000.0,160000.0,160000.0,160000.0,160000.0,160000.0,160000.0,160000.0,160000.0,160000.0,160000.0,160000.0,160000.0,160000.0,160000.0,160000.0,160000.0,160000.0,160000.0,160000.0,160000.0,160000.0,160000.0,160000.0,160000.0,160000.0,160000.0,160000.0,160000.0,160000.0,160000.0,160000.0,160000.0,160000.0,160000.0,160000.0,160000.0,160000.0,160000.0,160000.0,160000.0,160000.0,160000.0,160000.0,160000.0,160000.0,160000.0,160000.0,160000.0,160000.0,160000.0,160000.0,160000.0,160000.0,160000.0,160000.0,160000.0,160000.0,160000.0,160000.0,160000.0,160000.0,160000.0,160000.0,160000.0,160000.0,160000.0,160000.0,160000.0,160000.0,160000.0,160000.0,160000.0,160000.0,160000.0,160000.0,160000.0,160000.0,160000.0,160000.0,160000.0,160000.0,160000.0,160000.0,160000.0,160000.0,160000.0,160000.0,160000.0,160000.0,160000.0,160000.0,160000.0,160000.0,160000.0,160000.0,160000.0,160000.0,160000.0,160000.0,160000.0,160000.0,160000.0,160000.0,160000.0,160000.0,160000.0,160000.0,160000.0,160000.0,160000.0,160000.0,160000.0,160000.0,160000.0,160000.0]],\"type\":\"box\"}],                        {\"template\":{\"data\":{\"bar\":[{\"error_x\":{\"color\":\"#2a3f5f\"},\"error_y\":{\"color\":\"#2a3f5f\"},\"marker\":{\"line\":{\"color\":\"#E5ECF6\",\"width\":0.5},\"pattern\":{\"fillmode\":\"overlay\",\"size\":10,\"solidity\":0.2}},\"type\":\"bar\"}],\"barpolar\":[{\"marker\":{\"line\":{\"color\":\"#E5ECF6\",\"width\":0.5},\"pattern\":{\"fillmode\":\"overlay\",\"size\":10,\"solidity\":0.2}},\"type\":\"barpolar\"}],\"carpet\":[{\"aaxis\":{\"endlinecolor\":\"#2a3f5f\",\"gridcolor\":\"white\",\"linecolor\":\"white\",\"minorgridcolor\":\"white\",\"startlinecolor\":\"#2a3f5f\"},\"baxis\":{\"endlinecolor\":\"#2a3f5f\",\"gridcolor\":\"white\",\"linecolor\":\"white\",\"minorgridcolor\":\"white\",\"startlinecolor\":\"#2a3f5f\"},\"type\":\"carpet\"}],\"choropleth\":[{\"colorbar\":{\"outlinewidth\":0,\"ticks\":\"\"},\"type\":\"choropleth\"}],\"contour\":[{\"colorbar\":{\"outlinewidth\":0,\"ticks\":\"\"},\"colorscale\":[[0.0,\"#0d0887\"],[0.1111111111111111,\"#46039f\"],[0.2222222222222222,\"#7201a8\"],[0.3333333333333333,\"#9c179e\"],[0.4444444444444444,\"#bd3786\"],[0.5555555555555556,\"#d8576b\"],[0.6666666666666666,\"#ed7953\"],[0.7777777777777778,\"#fb9f3a\"],[0.8888888888888888,\"#fdca26\"],[1.0,\"#f0f921\"]],\"type\":\"contour\"}],\"contourcarpet\":[{\"colorbar\":{\"outlinewidth\":0,\"ticks\":\"\"},\"type\":\"contourcarpet\"}],\"heatmap\":[{\"colorbar\":{\"outlinewidth\":0,\"ticks\":\"\"},\"colorscale\":[[0.0,\"#0d0887\"],[0.1111111111111111,\"#46039f\"],[0.2222222222222222,\"#7201a8\"],[0.3333333333333333,\"#9c179e\"],[0.4444444444444444,\"#bd3786\"],[0.5555555555555556,\"#d8576b\"],[0.6666666666666666,\"#ed7953\"],[0.7777777777777778,\"#fb9f3a\"],[0.8888888888888888,\"#fdca26\"],[1.0,\"#f0f921\"]],\"type\":\"heatmap\"}],\"heatmapgl\":[{\"colorbar\":{\"outlinewidth\":0,\"ticks\":\"\"},\"colorscale\":[[0.0,\"#0d0887\"],[0.1111111111111111,\"#46039f\"],[0.2222222222222222,\"#7201a8\"],[0.3333333333333333,\"#9c179e\"],[0.4444444444444444,\"#bd3786\"],[0.5555555555555556,\"#d8576b\"],[0.6666666666666666,\"#ed7953\"],[0.7777777777777778,\"#fb9f3a\"],[0.8888888888888888,\"#fdca26\"],[1.0,\"#f0f921\"]],\"type\":\"heatmapgl\"}],\"histogram\":[{\"marker\":{\"pattern\":{\"fillmode\":\"overlay\",\"size\":10,\"solidity\":0.2}},\"type\":\"histogram\"}],\"histogram2d\":[{\"colorbar\":{\"outlinewidth\":0,\"ticks\":\"\"},\"colorscale\":[[0.0,\"#0d0887\"],[0.1111111111111111,\"#46039f\"],[0.2222222222222222,\"#7201a8\"],[0.3333333333333333,\"#9c179e\"],[0.4444444444444444,\"#bd3786\"],[0.5555555555555556,\"#d8576b\"],[0.6666666666666666,\"#ed7953\"],[0.7777777777777778,\"#fb9f3a\"],[0.8888888888888888,\"#fdca26\"],[1.0,\"#f0f921\"]],\"type\":\"histogram2d\"}],\"histogram2dcontour\":[{\"colorbar\":{\"outlinewidth\":0,\"ticks\":\"\"},\"colorscale\":[[0.0,\"#0d0887\"],[0.1111111111111111,\"#46039f\"],[0.2222222222222222,\"#7201a8\"],[0.3333333333333333,\"#9c179e\"],[0.4444444444444444,\"#bd3786\"],[0.5555555555555556,\"#d8576b\"],[0.6666666666666666,\"#ed7953\"],[0.7777777777777778,\"#fb9f3a\"],[0.8888888888888888,\"#fdca26\"],[1.0,\"#f0f921\"]],\"type\":\"histogram2dcontour\"}],\"mesh3d\":[{\"colorbar\":{\"outlinewidth\":0,\"ticks\":\"\"},\"type\":\"mesh3d\"}],\"parcoords\":[{\"line\":{\"colorbar\":{\"outlinewidth\":0,\"ticks\":\"\"}},\"type\":\"parcoords\"}],\"pie\":[{\"automargin\":true,\"type\":\"pie\"}],\"scatter\":[{\"marker\":{\"colorbar\":{\"outlinewidth\":0,\"ticks\":\"\"}},\"type\":\"scatter\"}],\"scatter3d\":[{\"line\":{\"colorbar\":{\"outlinewidth\":0,\"ticks\":\"\"}},\"marker\":{\"colorbar\":{\"outlinewidth\":0,\"ticks\":\"\"}},\"type\":\"scatter3d\"}],\"scattercarpet\":[{\"marker\":{\"colorbar\":{\"outlinewidth\":0,\"ticks\":\"\"}},\"type\":\"scattercarpet\"}],\"scattergeo\":[{\"marker\":{\"colorbar\":{\"outlinewidth\":0,\"ticks\":\"\"}},\"type\":\"scattergeo\"}],\"scattergl\":[{\"marker\":{\"colorbar\":{\"outlinewidth\":0,\"ticks\":\"\"}},\"type\":\"scattergl\"}],\"scattermapbox\":[{\"marker\":{\"colorbar\":{\"outlinewidth\":0,\"ticks\":\"\"}},\"type\":\"scattermapbox\"}],\"scatterpolar\":[{\"marker\":{\"colorbar\":{\"outlinewidth\":0,\"ticks\":\"\"}},\"type\":\"scatterpolar\"}],\"scatterpolargl\":[{\"marker\":{\"colorbar\":{\"outlinewidth\":0,\"ticks\":\"\"}},\"type\":\"scatterpolargl\"}],\"scatterternary\":[{\"marker\":{\"colorbar\":{\"outlinewidth\":0,\"ticks\":\"\"}},\"type\":\"scatterternary\"}],\"surface\":[{\"colorbar\":{\"outlinewidth\":0,\"ticks\":\"\"},\"colorscale\":[[0.0,\"#0d0887\"],[0.1111111111111111,\"#46039f\"],[0.2222222222222222,\"#7201a8\"],[0.3333333333333333,\"#9c179e\"],[0.4444444444444444,\"#bd3786\"],[0.5555555555555556,\"#d8576b\"],[0.6666666666666666,\"#ed7953\"],[0.7777777777777778,\"#fb9f3a\"],[0.8888888888888888,\"#fdca26\"],[1.0,\"#f0f921\"]],\"type\":\"surface\"}],\"table\":[{\"cells\":{\"fill\":{\"color\":\"#EBF0F8\"},\"line\":{\"color\":\"white\"}},\"header\":{\"fill\":{\"color\":\"#C8D4E3\"},\"line\":{\"color\":\"white\"}},\"type\":\"table\"}]},\"layout\":{\"annotationdefaults\":{\"arrowcolor\":\"#2a3f5f\",\"arrowhead\":0,\"arrowwidth\":1},\"autotypenumbers\":\"strict\",\"coloraxis\":{\"colorbar\":{\"outlinewidth\":0,\"ticks\":\"\"}},\"colorscale\":{\"diverging\":[[0,\"#8e0152\"],[0.1,\"#c51b7d\"],[0.2,\"#de77ae\"],[0.3,\"#f1b6da\"],[0.4,\"#fde0ef\"],[0.5,\"#f7f7f7\"],[0.6,\"#e6f5d0\"],[0.7,\"#b8e186\"],[0.8,\"#7fbc41\"],[0.9,\"#4d9221\"],[1,\"#276419\"]],\"sequential\":[[0.0,\"#0d0887\"],[0.1111111111111111,\"#46039f\"],[0.2222222222222222,\"#7201a8\"],[0.3333333333333333,\"#9c179e\"],[0.4444444444444444,\"#bd3786\"],[0.5555555555555556,\"#d8576b\"],[0.6666666666666666,\"#ed7953\"],[0.7777777777777778,\"#fb9f3a\"],[0.8888888888888888,\"#fdca26\"],[1.0,\"#f0f921\"]],\"sequentialminus\":[[0.0,\"#0d0887\"],[0.1111111111111111,\"#46039f\"],[0.2222222222222222,\"#7201a8\"],[0.3333333333333333,\"#9c179e\"],[0.4444444444444444,\"#bd3786\"],[0.5555555555555556,\"#d8576b\"],[0.6666666666666666,\"#ed7953\"],[0.7777777777777778,\"#fb9f3a\"],[0.8888888888888888,\"#fdca26\"],[1.0,\"#f0f921\"]]},\"colorway\":[\"#636efa\",\"#EF553B\",\"#00cc96\",\"#ab63fa\",\"#FFA15A\",\"#19d3f3\",\"#FF6692\",\"#B6E880\",\"#FF97FF\",\"#FECB52\"],\"font\":{\"color\":\"#2a3f5f\"},\"geo\":{\"bgcolor\":\"white\",\"lakecolor\":\"white\",\"landcolor\":\"#E5ECF6\",\"showlakes\":true,\"showland\":true,\"subunitcolor\":\"white\"},\"hoverlabel\":{\"align\":\"left\"},\"hovermode\":\"closest\",\"mapbox\":{\"style\":\"light\"},\"paper_bgcolor\":\"white\",\"plot_bgcolor\":\"#E5ECF6\",\"polar\":{\"angularaxis\":{\"gridcolor\":\"white\",\"linecolor\":\"white\",\"ticks\":\"\"},\"bgcolor\":\"#E5ECF6\",\"radialaxis\":{\"gridcolor\":\"white\",\"linecolor\":\"white\",\"ticks\":\"\"}},\"scene\":{\"xaxis\":{\"backgroundcolor\":\"#E5ECF6\",\"gridcolor\":\"white\",\"gridwidth\":2,\"linecolor\":\"white\",\"showbackground\":true,\"ticks\":\"\",\"zerolinecolor\":\"white\"},\"yaxis\":{\"backgroundcolor\":\"#E5ECF6\",\"gridcolor\":\"white\",\"gridwidth\":2,\"linecolor\":\"white\",\"showbackground\":true,\"ticks\":\"\",\"zerolinecolor\":\"white\"},\"zaxis\":{\"backgroundcolor\":\"#E5ECF6\",\"gridcolor\":\"white\",\"gridwidth\":2,\"linecolor\":\"white\",\"showbackground\":true,\"ticks\":\"\",\"zerolinecolor\":\"white\"}},\"shapedefaults\":{\"line\":{\"color\":\"#2a3f5f\"}},\"ternary\":{\"aaxis\":{\"gridcolor\":\"white\",\"linecolor\":\"white\",\"ticks\":\"\"},\"baxis\":{\"gridcolor\":\"white\",\"linecolor\":\"white\",\"ticks\":\"\"},\"bgcolor\":\"#E5ECF6\",\"caxis\":{\"gridcolor\":\"white\",\"linecolor\":\"white\",\"ticks\":\"\"}},\"title\":{\"x\":0.05},\"xaxis\":{\"automargin\":true,\"gridcolor\":\"white\",\"linecolor\":\"white\",\"ticks\":\"\",\"title\":{\"standoff\":15},\"zerolinecolor\":\"white\",\"zerolinewidth\":2},\"yaxis\":{\"automargin\":true,\"gridcolor\":\"white\",\"linecolor\":\"white\",\"ticks\":\"\",\"title\":{\"standoff\":15},\"zerolinecolor\":\"white\",\"zerolinewidth\":2}}},\"xaxis\":{\"title\":{\"text\":\"annual_inc\"}},\"yaxis\":{\"title\":{\"text\":\"value\"}}},                        {\"responsive\": true}                    ).then(function(){\n",
              "                            \n",
              "var gd = document.getElementById('9518b30d-9aae-4594-88c4-92eeeb40f487');\n",
              "var x = new MutationObserver(function (mutations, observer) {{\n",
              "        var display = window.getComputedStyle(gd).display;\n",
              "        if (!display || display === 'none') {{\n",
              "            console.log([gd, 'removed!']);\n",
              "            Plotly.purge(gd);\n",
              "            observer.disconnect();\n",
              "        }}\n",
              "}});\n",
              "\n",
              "// Listen for the removal of the full notebook cells\n",
              "var notebookContainer = gd.closest('#notebook-container');\n",
              "if (notebookContainer) {{\n",
              "    x.observe(notebookContainer, {childList: true});\n",
              "}}\n",
              "\n",
              "// Listen for the clearing of the current output cell\n",
              "var outputEl = gd.closest('.output');\n",
              "if (outputEl) {{\n",
              "    x.observe(outputEl, {childList: true});\n",
              "}}\n",
              "\n",
              "                        })                };                            </script>        </div>\n",
              "</body>\n",
              "</html>"
            ]
          },
          "metadata": {},
          "output_type": "display_data"
        }
      ],
      "source": [
        "testing['annual_inc'].plot.box()"
      ]
    },
    {
      "cell_type": "code",
      "execution_count": null,
      "metadata": {
        "colab": {
          "base_uri": "https://localhost:8080/",
          "height": 542
        },
        "id": "tji5wqCan2UZ",
        "outputId": "6bf83e71-6e0b-4edc-fd84-821c60bda86f"
      },
      "outputs": [
        {
          "data": {
            "text/html": [
              "<html>\n",
              "<head><meta charset=\"utf-8\" /></head>\n",
              "<body>\n",
              "    <div>            <script src=\"https://cdnjs.cloudflare.com/ajax/libs/mathjax/2.7.5/MathJax.js?config=TeX-AMS-MML_SVG\"></script><script type=\"text/javascript\">if (window.MathJax) {MathJax.Hub.Config({SVG: {font: \"STIX-Web\"}});}</script>                <script type=\"text/javascript\">window.PlotlyConfig = {MathJaxConfig: 'local'};</script>\n",
              "        <script src=\"https://cdn.plot.ly/plotly-2.8.3.min.js\"></script>                <div id=\"58d7be2b-ebc9-4467-8118-1ed1a195aae9\" class=\"plotly-graph-div\" style=\"height:525px; width:100%;\"></div>            <script type=\"text/javascript\">                                    window.PLOTLYENV=window.PLOTLYENV || {};                                    if (document.getElementById(\"58d7be2b-ebc9-4467-8118-1ed1a195aae9\")) {                    Plotly.newPlot(                        \"58d7be2b-ebc9-4467-8118-1ed1a195aae9\",                        [{\"boxpoints\":\"suspectedoutliers\",\"lowerfence\":[5.32],\"mean\":[13.1925850635296],\"median\":[12.99],\"name\":\"int_rate\",\"notched\":false,\"q1\":[9.99],\"q3\":[15.99],\"upperfence\":[24.99],\"y\":[[25.09,25.28,25.28,25.28,25.28,25.28,25.28,25.28,25.28,25.28,25.28,25.28,25.28,25.28,25.28,25.28,25.28,25.28,25.28,25.28,25.28,25.28,25.28,25.28,25.28,25.28,25.28,25.28,25.28,25.28,25.28,25.28,25.28,25.28,25.28,25.28,25.28,25.28,25.28,25.28,25.28,25.28,25.28,25.28,25.28,25.28,25.28,25.28,25.28,25.28,25.28,25.28,25.28,25.28,25.28,25.28,25.28,25.28,25.28,25.28,25.28,25.28,25.28,25.28,25.28,25.28,25.28,25.28,25.28,25.28,25.28,25.28,25.28,25.28,25.28,25.28,25.28,25.28,25.28,25.28,25.28,25.28,25.28,25.28,25.28,25.28,25.28,25.28,25.28,25.28,25.28,25.28,25.28,25.28,25.28,25.28,25.28,25.28,25.28,25.28,25.28,25.28,25.28,25.28,25.28,25.28,25.28,25.28,25.28,25.28,25.28,25.28,25.28,25.28,25.28,25.28,25.28,25.28,25.28,25.28,25.28,25.28,25.28,25.28,25.28,25.28,25.28,25.28,25.28,25.28,25.28,25.28,25.28,25.28,25.28,25.28,25.28,25.28,25.28,25.28,25.28,25.28,25.28,25.28,25.28,25.28,25.28,25.28,25.28,25.28,25.28,25.28,25.28,25.28,25.28,25.28,25.28,25.28,25.28,25.28,25.28,25.28,25.28,25.28,25.28,25.57,25.57,25.57,25.57,25.57,25.57,25.57,25.57,25.57,25.57,25.57,25.57,25.57,25.57,25.57,25.57,25.57,25.57,25.57,25.57,25.57,25.57,25.57,25.57,25.57,25.57,25.57,25.57,25.57,25.57,25.57,25.57,25.57,25.57,25.57,25.57,25.57,25.57,25.57,25.57,25.57,25.57,25.57,25.57,25.57,25.57,25.57,25.57,25.57,25.57,25.57,25.57,25.57,25.57,25.57,25.57,25.57,25.57,25.57,25.57,25.57,25.57,25.57,25.57,25.57,25.57,25.57,25.57,25.57,25.57,25.57,25.57,25.57,25.57,25.57,25.57,25.57,25.57,25.57,25.57,25.57,25.57,25.57,25.57,25.57,25.57,25.57,25.57,25.57,25.57,25.57,25.57,25.57,25.57,25.57,25.57,25.57,25.57,25.57,25.57,25.57,25.57,25.57,25.57,25.57,25.57,25.57,25.57,25.57,25.57,25.57,25.57,25.57,25.57,25.57,25.57,25.57,25.57,25.57,25.57,25.57,25.57,25.57,25.57,25.57,25.57,25.57,25.57,25.57,25.57,25.57,25.57,25.57,25.57,25.57,25.57,25.57,25.57,25.57,25.57,25.57,25.57,25.57,25.57,25.57,25.57,25.57,25.57,25.57,25.57,25.57,25.57,25.57,25.57,25.57,25.57,25.57,25.57,25.57,25.57,25.57,25.57,25.57,25.57,25.57,25.57,25.57,25.57,25.57,25.57,25.57,25.57,25.57,25.57,25.57,25.57,25.57,25.57,25.57,25.57,25.57,25.57,25.57,25.57,25.57,25.57,25.57,25.57,25.57,25.57,25.57,25.57,25.57,25.57,25.57,25.57,25.57,25.57,25.57,25.57,25.57,25.57,25.57,25.57,25.57,25.57,25.57,25.57,25.57,25.57,25.57,25.57,25.57,25.57,25.57,25.57,25.57,25.57,25.57,25.57,25.57,25.57,25.57,25.57,25.57,25.57,25.57,25.57,25.57,25.57,25.57,25.57,25.57,25.57,25.57,25.57,25.57,25.57,25.57,25.57,25.57,25.57,25.57,25.57,25.57,25.57,25.57,25.57,25.57,25.57,25.57,25.57,25.57,25.57,25.57,25.57,25.57,25.57,25.57,25.57,25.57,25.57,25.57,25.57,25.57,25.57,25.57,25.57,25.57,25.57,25.57,25.57,25.57,25.57,25.57,25.57,25.57,25.57,25.57,25.57,25.57,25.57,25.57,25.57,25.57,25.57,25.57,25.57,25.57,25.57,25.57,25.57,25.57,25.57,25.57,25.57,25.57,25.57,25.57,25.57,25.57,25.57,25.57,25.57,25.57,25.57,25.57,25.57,25.57,25.57,25.57,25.57,25.57,25.57,25.57,25.57,25.57,25.57,25.57,25.57,25.57,25.57,25.57,25.57,25.57,25.57,25.57,25.57,25.57,25.57,25.57,25.57,25.57,25.57,25.57,25.57,25.57,25.57,25.57,25.57,25.57,25.57,25.57,25.57,25.57,25.57,25.57,25.57,25.57,25.57,25.57,25.57,25.57,25.57,25.57,25.57,25.57,25.57,25.57,25.57,25.57,25.57,25.57,25.57,25.57,25.57,25.57,25.57,25.57,25.57,25.57,25.57,25.57,25.57,25.57,25.57,25.57,25.57,25.57,25.57,25.57,25.57,25.57,25.57,25.57,25.57,25.57,25.57,25.57,25.57,25.57,25.57,25.57,25.57,25.57,25.57,25.57,25.57,25.57,25.57,25.57,25.57,25.57,25.57,25.57,25.57,25.57,25.57,25.57,25.57,25.57,25.57,25.57,25.57,25.57,25.57,25.57,25.57,25.57,25.57,25.57,25.57,25.57,25.57,25.57,25.57,25.57,25.57,25.57,25.57,25.57,25.57,25.57,25.57,25.57,25.57,25.57,25.57,25.57,25.57,25.57,25.57,25.57,25.57,25.57,25.57,25.57,25.57,25.57,25.57,25.57,25.57,25.57,25.57,25.57,25.57,25.57,25.57,25.57,25.57,25.57,25.57,25.57,25.57,25.57,25.57,25.57,25.57,25.57,25.57,25.57,25.57,25.57,25.57,25.57,25.57,25.57,25.57,25.57,25.57,25.57,25.57,25.57,25.57,25.57,25.57,25.57,25.57,25.57,25.57,25.57,25.57,25.57,25.57,25.57,25.57,25.57,25.57,25.57,25.57,25.57,25.57,25.57,25.57,25.57,25.57,25.57,25.57,25.57,25.57,25.57,25.57,25.57,25.57,25.57,25.57,25.57,25.57,25.57,25.57,25.57,25.57,25.57,25.57,25.57,25.57,25.57,25.57,25.57,25.57,25.57,25.57,25.57,25.57,25.57,25.57,25.57,25.57,25.57,25.57,25.57,25.57,25.57,25.57,25.57,25.57,25.57,25.57,25.57,25.57,25.57,25.57,25.57,25.57,25.57,25.57,25.57,25.57,25.57,25.57,25.57,25.57,25.57,25.57,25.57,25.57,25.57,25.57,25.57,25.57,25.57,25.57,25.57,25.57,25.57,25.57,25.57,25.57,25.57,25.57,25.57,25.57,25.57,25.57,25.57,25.57,25.57,25.57,25.57,25.57,25.57,25.57,25.57,25.57,25.57,25.57,25.57,25.57,25.57,25.57,25.57,25.57,25.57,25.57,25.57,25.57,25.57,25.57,25.57,25.57,25.57,25.57,25.57,25.57,25.57,25.57,25.57,25.57,25.57,25.57,25.57,25.57,25.57,25.57,25.57,25.57,25.57,25.57,25.57,25.57,25.57,25.57,25.57,25.57,25.57,25.57,25.57,25.57,25.57,25.57,25.57,25.57,25.57,25.57,25.57,25.57,25.57,25.57,25.57,25.57,25.57,25.57,25.57,25.57,25.57,25.57,25.57,25.57,25.57,25.57,25.57,25.57,25.57,25.57,25.57,25.57,25.57,25.57,25.57,25.57,25.57,25.57,25.57,25.57,25.57,25.57,25.57,25.57,25.57,25.57,25.57,25.57,25.57,25.57,25.57,25.57,25.57,25.57,25.57,25.57,25.57,25.57,25.57,25.57,25.57,25.57,25.57,25.57,25.57,25.57,25.57,25.57,25.57,25.57,25.57,25.57,25.57,25.57,25.57,25.57,25.57,25.57,25.57,25.57,25.57,25.57,25.57,25.57,25.57,25.57,25.57,25.57,25.57,25.57,25.57,25.57,25.57,25.57,25.57,25.57,25.57,25.57,25.57,25.57,25.57,25.57,25.57,25.57,25.57,25.57,25.57,25.57,25.57,25.57,25.57,25.57,25.57,25.57,25.57,25.57,25.57,25.57,25.57,25.57,25.57,25.57,25.57,25.57,25.57,25.57,25.57,25.57,25.57,25.57,25.57,25.57,25.57,25.57,25.57,25.57,25.57,25.57,25.57,25.57,25.57,25.57,25.57,25.57,25.57,25.57,25.57,25.57,25.57,25.57,25.57,25.57,25.57,25.57,25.57,25.57,25.57,25.57,25.57,25.57,25.57,25.57,25.57,25.57,25.57,25.57,25.57,25.57,25.57,25.57,25.57,25.57,25.57,25.57,25.57,25.57,25.57,25.57,25.57,25.57,25.57,25.57,25.57,25.57,25.57,25.57,25.57,25.57,25.57,25.57,25.57,25.57,25.57,25.57,25.57,25.57,25.57,25.57,25.57,25.57,25.57,25.57]],\"type\":\"box\"}],                        {\"template\":{\"data\":{\"bar\":[{\"error_x\":{\"color\":\"#2a3f5f\"},\"error_y\":{\"color\":\"#2a3f5f\"},\"marker\":{\"line\":{\"color\":\"#E5ECF6\",\"width\":0.5},\"pattern\":{\"fillmode\":\"overlay\",\"size\":10,\"solidity\":0.2}},\"type\":\"bar\"}],\"barpolar\":[{\"marker\":{\"line\":{\"color\":\"#E5ECF6\",\"width\":0.5},\"pattern\":{\"fillmode\":\"overlay\",\"size\":10,\"solidity\":0.2}},\"type\":\"barpolar\"}],\"carpet\":[{\"aaxis\":{\"endlinecolor\":\"#2a3f5f\",\"gridcolor\":\"white\",\"linecolor\":\"white\",\"minorgridcolor\":\"white\",\"startlinecolor\":\"#2a3f5f\"},\"baxis\":{\"endlinecolor\":\"#2a3f5f\",\"gridcolor\":\"white\",\"linecolor\":\"white\",\"minorgridcolor\":\"white\",\"startlinecolor\":\"#2a3f5f\"},\"type\":\"carpet\"}],\"choropleth\":[{\"colorbar\":{\"outlinewidth\":0,\"ticks\":\"\"},\"type\":\"choropleth\"}],\"contour\":[{\"colorbar\":{\"outlinewidth\":0,\"ticks\":\"\"},\"colorscale\":[[0.0,\"#0d0887\"],[0.1111111111111111,\"#46039f\"],[0.2222222222222222,\"#7201a8\"],[0.3333333333333333,\"#9c179e\"],[0.4444444444444444,\"#bd3786\"],[0.5555555555555556,\"#d8576b\"],[0.6666666666666666,\"#ed7953\"],[0.7777777777777778,\"#fb9f3a\"],[0.8888888888888888,\"#fdca26\"],[1.0,\"#f0f921\"]],\"type\":\"contour\"}],\"contourcarpet\":[{\"colorbar\":{\"outlinewidth\":0,\"ticks\":\"\"},\"type\":\"contourcarpet\"}],\"heatmap\":[{\"colorbar\":{\"outlinewidth\":0,\"ticks\":\"\"},\"colorscale\":[[0.0,\"#0d0887\"],[0.1111111111111111,\"#46039f\"],[0.2222222222222222,\"#7201a8\"],[0.3333333333333333,\"#9c179e\"],[0.4444444444444444,\"#bd3786\"],[0.5555555555555556,\"#d8576b\"],[0.6666666666666666,\"#ed7953\"],[0.7777777777777778,\"#fb9f3a\"],[0.8888888888888888,\"#fdca26\"],[1.0,\"#f0f921\"]],\"type\":\"heatmap\"}],\"heatmapgl\":[{\"colorbar\":{\"outlinewidth\":0,\"ticks\":\"\"},\"colorscale\":[[0.0,\"#0d0887\"],[0.1111111111111111,\"#46039f\"],[0.2222222222222222,\"#7201a8\"],[0.3333333333333333,\"#9c179e\"],[0.4444444444444444,\"#bd3786\"],[0.5555555555555556,\"#d8576b\"],[0.6666666666666666,\"#ed7953\"],[0.7777777777777778,\"#fb9f3a\"],[0.8888888888888888,\"#fdca26\"],[1.0,\"#f0f921\"]],\"type\":\"heatmapgl\"}],\"histogram\":[{\"marker\":{\"pattern\":{\"fillmode\":\"overlay\",\"size\":10,\"solidity\":0.2}},\"type\":\"histogram\"}],\"histogram2d\":[{\"colorbar\":{\"outlinewidth\":0,\"ticks\":\"\"},\"colorscale\":[[0.0,\"#0d0887\"],[0.1111111111111111,\"#46039f\"],[0.2222222222222222,\"#7201a8\"],[0.3333333333333333,\"#9c179e\"],[0.4444444444444444,\"#bd3786\"],[0.5555555555555556,\"#d8576b\"],[0.6666666666666666,\"#ed7953\"],[0.7777777777777778,\"#fb9f3a\"],[0.8888888888888888,\"#fdca26\"],[1.0,\"#f0f921\"]],\"type\":\"histogram2d\"}],\"histogram2dcontour\":[{\"colorbar\":{\"outlinewidth\":0,\"ticks\":\"\"},\"colorscale\":[[0.0,\"#0d0887\"],[0.1111111111111111,\"#46039f\"],[0.2222222222222222,\"#7201a8\"],[0.3333333333333333,\"#9c179e\"],[0.4444444444444444,\"#bd3786\"],[0.5555555555555556,\"#d8576b\"],[0.6666666666666666,\"#ed7953\"],[0.7777777777777778,\"#fb9f3a\"],[0.8888888888888888,\"#fdca26\"],[1.0,\"#f0f921\"]],\"type\":\"histogram2dcontour\"}],\"mesh3d\":[{\"colorbar\":{\"outlinewidth\":0,\"ticks\":\"\"},\"type\":\"mesh3d\"}],\"parcoords\":[{\"line\":{\"colorbar\":{\"outlinewidth\":0,\"ticks\":\"\"}},\"type\":\"parcoords\"}],\"pie\":[{\"automargin\":true,\"type\":\"pie\"}],\"scatter\":[{\"marker\":{\"colorbar\":{\"outlinewidth\":0,\"ticks\":\"\"}},\"type\":\"scatter\"}],\"scatter3d\":[{\"line\":{\"colorbar\":{\"outlinewidth\":0,\"ticks\":\"\"}},\"marker\":{\"colorbar\":{\"outlinewidth\":0,\"ticks\":\"\"}},\"type\":\"scatter3d\"}],\"scattercarpet\":[{\"marker\":{\"colorbar\":{\"outlinewidth\":0,\"ticks\":\"\"}},\"type\":\"scattercarpet\"}],\"scattergeo\":[{\"marker\":{\"colorbar\":{\"outlinewidth\":0,\"ticks\":\"\"}},\"type\":\"scattergeo\"}],\"scattergl\":[{\"marker\":{\"colorbar\":{\"outlinewidth\":0,\"ticks\":\"\"}},\"type\":\"scattergl\"}],\"scattermapbox\":[{\"marker\":{\"colorbar\":{\"outlinewidth\":0,\"ticks\":\"\"}},\"type\":\"scattermapbox\"}],\"scatterpolar\":[{\"marker\":{\"colorbar\":{\"outlinewidth\":0,\"ticks\":\"\"}},\"type\":\"scatterpolar\"}],\"scatterpolargl\":[{\"marker\":{\"colorbar\":{\"outlinewidth\":0,\"ticks\":\"\"}},\"type\":\"scatterpolargl\"}],\"scatterternary\":[{\"marker\":{\"colorbar\":{\"outlinewidth\":0,\"ticks\":\"\"}},\"type\":\"scatterternary\"}],\"surface\":[{\"colorbar\":{\"outlinewidth\":0,\"ticks\":\"\"},\"colorscale\":[[0.0,\"#0d0887\"],[0.1111111111111111,\"#46039f\"],[0.2222222222222222,\"#7201a8\"],[0.3333333333333333,\"#9c179e\"],[0.4444444444444444,\"#bd3786\"],[0.5555555555555556,\"#d8576b\"],[0.6666666666666666,\"#ed7953\"],[0.7777777777777778,\"#fb9f3a\"],[0.8888888888888888,\"#fdca26\"],[1.0,\"#f0f921\"]],\"type\":\"surface\"}],\"table\":[{\"cells\":{\"fill\":{\"color\":\"#EBF0F8\"},\"line\":{\"color\":\"white\"}},\"header\":{\"fill\":{\"color\":\"#C8D4E3\"},\"line\":{\"color\":\"white\"}},\"type\":\"table\"}]},\"layout\":{\"annotationdefaults\":{\"arrowcolor\":\"#2a3f5f\",\"arrowhead\":0,\"arrowwidth\":1},\"autotypenumbers\":\"strict\",\"coloraxis\":{\"colorbar\":{\"outlinewidth\":0,\"ticks\":\"\"}},\"colorscale\":{\"diverging\":[[0,\"#8e0152\"],[0.1,\"#c51b7d\"],[0.2,\"#de77ae\"],[0.3,\"#f1b6da\"],[0.4,\"#fde0ef\"],[0.5,\"#f7f7f7\"],[0.6,\"#e6f5d0\"],[0.7,\"#b8e186\"],[0.8,\"#7fbc41\"],[0.9,\"#4d9221\"],[1,\"#276419\"]],\"sequential\":[[0.0,\"#0d0887\"],[0.1111111111111111,\"#46039f\"],[0.2222222222222222,\"#7201a8\"],[0.3333333333333333,\"#9c179e\"],[0.4444444444444444,\"#bd3786\"],[0.5555555555555556,\"#d8576b\"],[0.6666666666666666,\"#ed7953\"],[0.7777777777777778,\"#fb9f3a\"],[0.8888888888888888,\"#fdca26\"],[1.0,\"#f0f921\"]],\"sequentialminus\":[[0.0,\"#0d0887\"],[0.1111111111111111,\"#46039f\"],[0.2222222222222222,\"#7201a8\"],[0.3333333333333333,\"#9c179e\"],[0.4444444444444444,\"#bd3786\"],[0.5555555555555556,\"#d8576b\"],[0.6666666666666666,\"#ed7953\"],[0.7777777777777778,\"#fb9f3a\"],[0.8888888888888888,\"#fdca26\"],[1.0,\"#f0f921\"]]},\"colorway\":[\"#636efa\",\"#EF553B\",\"#00cc96\",\"#ab63fa\",\"#FFA15A\",\"#19d3f3\",\"#FF6692\",\"#B6E880\",\"#FF97FF\",\"#FECB52\"],\"font\":{\"color\":\"#2a3f5f\"},\"geo\":{\"bgcolor\":\"white\",\"lakecolor\":\"white\",\"landcolor\":\"#E5ECF6\",\"showlakes\":true,\"showland\":true,\"subunitcolor\":\"white\"},\"hoverlabel\":{\"align\":\"left\"},\"hovermode\":\"closest\",\"mapbox\":{\"style\":\"light\"},\"paper_bgcolor\":\"white\",\"plot_bgcolor\":\"#E5ECF6\",\"polar\":{\"angularaxis\":{\"gridcolor\":\"white\",\"linecolor\":\"white\",\"ticks\":\"\"},\"bgcolor\":\"#E5ECF6\",\"radialaxis\":{\"gridcolor\":\"white\",\"linecolor\":\"white\",\"ticks\":\"\"}},\"scene\":{\"xaxis\":{\"backgroundcolor\":\"#E5ECF6\",\"gridcolor\":\"white\",\"gridwidth\":2,\"linecolor\":\"white\",\"showbackground\":true,\"ticks\":\"\",\"zerolinecolor\":\"white\"},\"yaxis\":{\"backgroundcolor\":\"#E5ECF6\",\"gridcolor\":\"white\",\"gridwidth\":2,\"linecolor\":\"white\",\"showbackground\":true,\"ticks\":\"\",\"zerolinecolor\":\"white\"},\"zaxis\":{\"backgroundcolor\":\"#E5ECF6\",\"gridcolor\":\"white\",\"gridwidth\":2,\"linecolor\":\"white\",\"showbackground\":true,\"ticks\":\"\",\"zerolinecolor\":\"white\"}},\"shapedefaults\":{\"line\":{\"color\":\"#2a3f5f\"}},\"ternary\":{\"aaxis\":{\"gridcolor\":\"white\",\"linecolor\":\"white\",\"ticks\":\"\"},\"baxis\":{\"gridcolor\":\"white\",\"linecolor\":\"white\",\"ticks\":\"\"},\"bgcolor\":\"#E5ECF6\",\"caxis\":{\"gridcolor\":\"white\",\"linecolor\":\"white\",\"ticks\":\"\"}},\"title\":{\"x\":0.05},\"xaxis\":{\"automargin\":true,\"gridcolor\":\"white\",\"linecolor\":\"white\",\"ticks\":\"\",\"title\":{\"standoff\":15},\"zerolinecolor\":\"white\",\"zerolinewidth\":2},\"yaxis\":{\"automargin\":true,\"gridcolor\":\"white\",\"linecolor\":\"white\",\"ticks\":\"\",\"title\":{\"standoff\":15},\"zerolinecolor\":\"white\",\"zerolinewidth\":2}}},\"xaxis\":{\"title\":{\"text\":\"int_rate\"}},\"yaxis\":{\"title\":{\"text\":\"value\"}}},                        {\"responsive\": true}                    ).then(function(){\n",
              "                            \n",
              "var gd = document.getElementById('58d7be2b-ebc9-4467-8118-1ed1a195aae9');\n",
              "var x = new MutationObserver(function (mutations, observer) {{\n",
              "        var display = window.getComputedStyle(gd).display;\n",
              "        if (!display || display === 'none') {{\n",
              "            console.log([gd, 'removed!']);\n",
              "            Plotly.purge(gd);\n",
              "            observer.disconnect();\n",
              "        }}\n",
              "}});\n",
              "\n",
              "// Listen for the removal of the full notebook cells\n",
              "var notebookContainer = gd.closest('#notebook-container');\n",
              "if (notebookContainer) {{\n",
              "    x.observe(notebookContainer, {childList: true});\n",
              "}}\n",
              "\n",
              "// Listen for the clearing of the current output cell\n",
              "var outputEl = gd.closest('.output');\n",
              "if (outputEl) {{\n",
              "    x.observe(outputEl, {childList: true});\n",
              "}}\n",
              "\n",
              "                        })                };                            </script>        </div>\n",
              "</body>\n",
              "</html>"
            ]
          },
          "metadata": {},
          "output_type": "display_data"
        }
      ],
      "source": [
        "testing['int_rate'].plot.box()"
      ]
    },
    {
      "cell_type": "markdown",
      "metadata": {
        "id": "woaF1JSkodx6"
      },
      "source": [
        "can be seen outliers in int_rate .... ???"
      ]
    },
    {
      "cell_type": "code",
      "execution_count": null,
      "metadata": {
        "colab": {
          "base_uri": "https://localhost:8080/",
          "height": 542
        },
        "id": "71qw8PYGoiaX",
        "outputId": "91e98ee9-e25b-47b2-ef85-08f52ccdf35c"
      },
      "outputs": [
        {
          "output_type": "display_data",
          "data": {
            "text/html": [
              "<html>\n",
              "<head><meta charset=\"utf-8\" /></head>\n",
              "<body>\n",
              "    <div>            <script src=\"https://cdnjs.cloudflare.com/ajax/libs/mathjax/2.7.5/MathJax.js?config=TeX-AMS-MML_SVG\"></script><script type=\"text/javascript\">if (window.MathJax) {MathJax.Hub.Config({SVG: {font: \"STIX-Web\"}});}</script>                <script type=\"text/javascript\">window.PlotlyConfig = {MathJaxConfig: 'local'};</script>\n",
              "        <script src=\"https://cdn.plot.ly/plotly-2.8.3.min.js\"></script>                <div id=\"264ee65b-c115-4859-96f4-6df09ba38f3a\" class=\"plotly-graph-div\" style=\"height:525px; width:100%;\"></div>            <script type=\"text/javascript\">                                    window.PLOTLYENV=window.PLOTLYENV || {};                                    if (document.getElementById(\"264ee65b-c115-4859-96f4-6df09ba38f3a\")) {                    Plotly.newPlot(                        \"264ee65b-c115-4859-96f4-6df09ba38f3a\",                        [{\"boxpoints\":\"suspectedoutliers\",\"lowerfence\":[0.0],\"mean\":[18.123810127573403],\"median\":[17.62],\"name\":\"dti\",\"notched\":false,\"q1\":[11.79],\"q3\":[23.66],\"upperfence\":[41.46],\"y\":[[41.49,41.69,41.93,41.94,42.03,42.04,42.1,42.17,42.28,42.37,43.49,43.68,43.78,44.22,44.24,44.33,44.4,44.43,44.52,44.86,44.89,45.32,45.58,45.77,45.78,46.28,46.28,46.67,46.71,46.89,46.92,46.92,47.61,48.48,48.91,52.45,52.8,54.1,54.19,54.36,54.43,55.1,57.14,58.54,59.19,59.26,60.08,61.21,63.64,64.5,64.99,67.5,68.3,68.41,69.35,71.4,71.82,72.3,74.48,77.06,89.83,90.0,100.09,104.0,120.66,125.25,137.4,380.53,672.52,1092.52,9999.0,9999.0]],\"type\":\"box\"}],                        {\"template\":{\"data\":{\"bar\":[{\"error_x\":{\"color\":\"#2a3f5f\"},\"error_y\":{\"color\":\"#2a3f5f\"},\"marker\":{\"line\":{\"color\":\"#E5ECF6\",\"width\":0.5},\"pattern\":{\"fillmode\":\"overlay\",\"size\":10,\"solidity\":0.2}},\"type\":\"bar\"}],\"barpolar\":[{\"marker\":{\"line\":{\"color\":\"#E5ECF6\",\"width\":0.5},\"pattern\":{\"fillmode\":\"overlay\",\"size\":10,\"solidity\":0.2}},\"type\":\"barpolar\"}],\"carpet\":[{\"aaxis\":{\"endlinecolor\":\"#2a3f5f\",\"gridcolor\":\"white\",\"linecolor\":\"white\",\"minorgridcolor\":\"white\",\"startlinecolor\":\"#2a3f5f\"},\"baxis\":{\"endlinecolor\":\"#2a3f5f\",\"gridcolor\":\"white\",\"linecolor\":\"white\",\"minorgridcolor\":\"white\",\"startlinecolor\":\"#2a3f5f\"},\"type\":\"carpet\"}],\"choropleth\":[{\"colorbar\":{\"outlinewidth\":0,\"ticks\":\"\"},\"type\":\"choropleth\"}],\"contour\":[{\"colorbar\":{\"outlinewidth\":0,\"ticks\":\"\"},\"colorscale\":[[0.0,\"#0d0887\"],[0.1111111111111111,\"#46039f\"],[0.2222222222222222,\"#7201a8\"],[0.3333333333333333,\"#9c179e\"],[0.4444444444444444,\"#bd3786\"],[0.5555555555555556,\"#d8576b\"],[0.6666666666666666,\"#ed7953\"],[0.7777777777777778,\"#fb9f3a\"],[0.8888888888888888,\"#fdca26\"],[1.0,\"#f0f921\"]],\"type\":\"contour\"}],\"contourcarpet\":[{\"colorbar\":{\"outlinewidth\":0,\"ticks\":\"\"},\"type\":\"contourcarpet\"}],\"heatmap\":[{\"colorbar\":{\"outlinewidth\":0,\"ticks\":\"\"},\"colorscale\":[[0.0,\"#0d0887\"],[0.1111111111111111,\"#46039f\"],[0.2222222222222222,\"#7201a8\"],[0.3333333333333333,\"#9c179e\"],[0.4444444444444444,\"#bd3786\"],[0.5555555555555556,\"#d8576b\"],[0.6666666666666666,\"#ed7953\"],[0.7777777777777778,\"#fb9f3a\"],[0.8888888888888888,\"#fdca26\"],[1.0,\"#f0f921\"]],\"type\":\"heatmap\"}],\"heatmapgl\":[{\"colorbar\":{\"outlinewidth\":0,\"ticks\":\"\"},\"colorscale\":[[0.0,\"#0d0887\"],[0.1111111111111111,\"#46039f\"],[0.2222222222222222,\"#7201a8\"],[0.3333333333333333,\"#9c179e\"],[0.4444444444444444,\"#bd3786\"],[0.5555555555555556,\"#d8576b\"],[0.6666666666666666,\"#ed7953\"],[0.7777777777777778,\"#fb9f3a\"],[0.8888888888888888,\"#fdca26\"],[1.0,\"#f0f921\"]],\"type\":\"heatmapgl\"}],\"histogram\":[{\"marker\":{\"pattern\":{\"fillmode\":\"overlay\",\"size\":10,\"solidity\":0.2}},\"type\":\"histogram\"}],\"histogram2d\":[{\"colorbar\":{\"outlinewidth\":0,\"ticks\":\"\"},\"colorscale\":[[0.0,\"#0d0887\"],[0.1111111111111111,\"#46039f\"],[0.2222222222222222,\"#7201a8\"],[0.3333333333333333,\"#9c179e\"],[0.4444444444444444,\"#bd3786\"],[0.5555555555555556,\"#d8576b\"],[0.6666666666666666,\"#ed7953\"],[0.7777777777777778,\"#fb9f3a\"],[0.8888888888888888,\"#fdca26\"],[1.0,\"#f0f921\"]],\"type\":\"histogram2d\"}],\"histogram2dcontour\":[{\"colorbar\":{\"outlinewidth\":0,\"ticks\":\"\"},\"colorscale\":[[0.0,\"#0d0887\"],[0.1111111111111111,\"#46039f\"],[0.2222222222222222,\"#7201a8\"],[0.3333333333333333,\"#9c179e\"],[0.4444444444444444,\"#bd3786\"],[0.5555555555555556,\"#d8576b\"],[0.6666666666666666,\"#ed7953\"],[0.7777777777777778,\"#fb9f3a\"],[0.8888888888888888,\"#fdca26\"],[1.0,\"#f0f921\"]],\"type\":\"histogram2dcontour\"}],\"mesh3d\":[{\"colorbar\":{\"outlinewidth\":0,\"ticks\":\"\"},\"type\":\"mesh3d\"}],\"parcoords\":[{\"line\":{\"colorbar\":{\"outlinewidth\":0,\"ticks\":\"\"}},\"type\":\"parcoords\"}],\"pie\":[{\"automargin\":true,\"type\":\"pie\"}],\"scatter\":[{\"marker\":{\"colorbar\":{\"outlinewidth\":0,\"ticks\":\"\"}},\"type\":\"scatter\"}],\"scatter3d\":[{\"line\":{\"colorbar\":{\"outlinewidth\":0,\"ticks\":\"\"}},\"marker\":{\"colorbar\":{\"outlinewidth\":0,\"ticks\":\"\"}},\"type\":\"scatter3d\"}],\"scattercarpet\":[{\"marker\":{\"colorbar\":{\"outlinewidth\":0,\"ticks\":\"\"}},\"type\":\"scattercarpet\"}],\"scattergeo\":[{\"marker\":{\"colorbar\":{\"outlinewidth\":0,\"ticks\":\"\"}},\"type\":\"scattergeo\"}],\"scattergl\":[{\"marker\":{\"colorbar\":{\"outlinewidth\":0,\"ticks\":\"\"}},\"type\":\"scattergl\"}],\"scattermapbox\":[{\"marker\":{\"colorbar\":{\"outlinewidth\":0,\"ticks\":\"\"}},\"type\":\"scattermapbox\"}],\"scatterpolar\":[{\"marker\":{\"colorbar\":{\"outlinewidth\":0,\"ticks\":\"\"}},\"type\":\"scatterpolar\"}],\"scatterpolargl\":[{\"marker\":{\"colorbar\":{\"outlinewidth\":0,\"ticks\":\"\"}},\"type\":\"scatterpolargl\"}],\"scatterternary\":[{\"marker\":{\"colorbar\":{\"outlinewidth\":0,\"ticks\":\"\"}},\"type\":\"scatterternary\"}],\"surface\":[{\"colorbar\":{\"outlinewidth\":0,\"ticks\":\"\"},\"colorscale\":[[0.0,\"#0d0887\"],[0.1111111111111111,\"#46039f\"],[0.2222222222222222,\"#7201a8\"],[0.3333333333333333,\"#9c179e\"],[0.4444444444444444,\"#bd3786\"],[0.5555555555555556,\"#d8576b\"],[0.6666666666666666,\"#ed7953\"],[0.7777777777777778,\"#fb9f3a\"],[0.8888888888888888,\"#fdca26\"],[1.0,\"#f0f921\"]],\"type\":\"surface\"}],\"table\":[{\"cells\":{\"fill\":{\"color\":\"#EBF0F8\"},\"line\":{\"color\":\"white\"}},\"header\":{\"fill\":{\"color\":\"#C8D4E3\"},\"line\":{\"color\":\"white\"}},\"type\":\"table\"}]},\"layout\":{\"annotationdefaults\":{\"arrowcolor\":\"#2a3f5f\",\"arrowhead\":0,\"arrowwidth\":1},\"autotypenumbers\":\"strict\",\"coloraxis\":{\"colorbar\":{\"outlinewidth\":0,\"ticks\":\"\"}},\"colorscale\":{\"diverging\":[[0,\"#8e0152\"],[0.1,\"#c51b7d\"],[0.2,\"#de77ae\"],[0.3,\"#f1b6da\"],[0.4,\"#fde0ef\"],[0.5,\"#f7f7f7\"],[0.6,\"#e6f5d0\"],[0.7,\"#b8e186\"],[0.8,\"#7fbc41\"],[0.9,\"#4d9221\"],[1,\"#276419\"]],\"sequential\":[[0.0,\"#0d0887\"],[0.1111111111111111,\"#46039f\"],[0.2222222222222222,\"#7201a8\"],[0.3333333333333333,\"#9c179e\"],[0.4444444444444444,\"#bd3786\"],[0.5555555555555556,\"#d8576b\"],[0.6666666666666666,\"#ed7953\"],[0.7777777777777778,\"#fb9f3a\"],[0.8888888888888888,\"#fdca26\"],[1.0,\"#f0f921\"]],\"sequentialminus\":[[0.0,\"#0d0887\"],[0.1111111111111111,\"#46039f\"],[0.2222222222222222,\"#7201a8\"],[0.3333333333333333,\"#9c179e\"],[0.4444444444444444,\"#bd3786\"],[0.5555555555555556,\"#d8576b\"],[0.6666666666666666,\"#ed7953\"],[0.7777777777777778,\"#fb9f3a\"],[0.8888888888888888,\"#fdca26\"],[1.0,\"#f0f921\"]]},\"colorway\":[\"#636efa\",\"#EF553B\",\"#00cc96\",\"#ab63fa\",\"#FFA15A\",\"#19d3f3\",\"#FF6692\",\"#B6E880\",\"#FF97FF\",\"#FECB52\"],\"font\":{\"color\":\"#2a3f5f\"},\"geo\":{\"bgcolor\":\"white\",\"lakecolor\":\"white\",\"landcolor\":\"#E5ECF6\",\"showlakes\":true,\"showland\":true,\"subunitcolor\":\"white\"},\"hoverlabel\":{\"align\":\"left\"},\"hovermode\":\"closest\",\"mapbox\":{\"style\":\"light\"},\"paper_bgcolor\":\"white\",\"plot_bgcolor\":\"#E5ECF6\",\"polar\":{\"angularaxis\":{\"gridcolor\":\"white\",\"linecolor\":\"white\",\"ticks\":\"\"},\"bgcolor\":\"#E5ECF6\",\"radialaxis\":{\"gridcolor\":\"white\",\"linecolor\":\"white\",\"ticks\":\"\"}},\"scene\":{\"xaxis\":{\"backgroundcolor\":\"#E5ECF6\",\"gridcolor\":\"white\",\"gridwidth\":2,\"linecolor\":\"white\",\"showbackground\":true,\"ticks\":\"\",\"zerolinecolor\":\"white\"},\"yaxis\":{\"backgroundcolor\":\"#E5ECF6\",\"gridcolor\":\"white\",\"gridwidth\":2,\"linecolor\":\"white\",\"showbackground\":true,\"ticks\":\"\",\"zerolinecolor\":\"white\"},\"zaxis\":{\"backgroundcolor\":\"#E5ECF6\",\"gridcolor\":\"white\",\"gridwidth\":2,\"linecolor\":\"white\",\"showbackground\":true,\"ticks\":\"\",\"zerolinecolor\":\"white\"}},\"shapedefaults\":{\"line\":{\"color\":\"#2a3f5f\"}},\"ternary\":{\"aaxis\":{\"gridcolor\":\"white\",\"linecolor\":\"white\",\"ticks\":\"\"},\"baxis\":{\"gridcolor\":\"white\",\"linecolor\":\"white\",\"ticks\":\"\"},\"bgcolor\":\"#E5ECF6\",\"caxis\":{\"gridcolor\":\"white\",\"linecolor\":\"white\",\"ticks\":\"\"}},\"title\":{\"x\":0.05},\"xaxis\":{\"automargin\":true,\"gridcolor\":\"white\",\"linecolor\":\"white\",\"ticks\":\"\",\"title\":{\"standoff\":15},\"zerolinecolor\":\"white\",\"zerolinewidth\":2},\"yaxis\":{\"automargin\":true,\"gridcolor\":\"white\",\"linecolor\":\"white\",\"ticks\":\"\",\"title\":{\"standoff\":15},\"zerolinecolor\":\"white\",\"zerolinewidth\":2}}},\"xaxis\":{\"title\":{\"text\":\"dti\"}},\"yaxis\":{\"title\":{\"text\":\"value\"}}},                        {\"responsive\": true}                    ).then(function(){\n",
              "                            \n",
              "var gd = document.getElementById('264ee65b-c115-4859-96f4-6df09ba38f3a');\n",
              "var x = new MutationObserver(function (mutations, observer) {{\n",
              "        var display = window.getComputedStyle(gd).display;\n",
              "        if (!display || display === 'none') {{\n",
              "            console.log([gd, 'removed!']);\n",
              "            Plotly.purge(gd);\n",
              "            observer.disconnect();\n",
              "        }}\n",
              "}});\n",
              "\n",
              "// Listen for the removal of the full notebook cells\n",
              "var notebookContainer = gd.closest('#notebook-container');\n",
              "if (notebookContainer) {{\n",
              "    x.observe(notebookContainer, {childList: true});\n",
              "}}\n",
              "\n",
              "// Listen for the clearing of the current output cell\n",
              "var outputEl = gd.closest('.output');\n",
              "if (outputEl) {{\n",
              "    x.observe(outputEl, {childList: true});\n",
              "}}\n",
              "\n",
              "                        })                };                            </script>        </div>\n",
              "</body>\n",
              "</html>"
            ]
          },
          "metadata": {}
        }
      ],
      "source": [
        "testing['dti'].plot.box()"
      ]
    },
    {
      "cell_type": "markdown",
      "metadata": {
        "id": "PcUsZhw1o1yQ"
      },
      "source": [
        "can be seen outliers in dti .... ???"
      ]
    },
    {
      "cell_type": "code",
      "source": [
        "testing['installment'].plot.box()"
      ],
      "metadata": {
        "colab": {
          "base_uri": "https://localhost:8080/",
          "height": 542
        },
        "id": "v4w6ZBv1e5Ge",
        "outputId": "2c383e23-4304-4e56-f8cd-1fb0c32a3350"
      },
      "execution_count": null,
      "outputs": [
        {
          "output_type": "display_data",
          "data": {
            "text/html": [
              "<html>\n",
              "<head><meta charset=\"utf-8\" /></head>\n",
              "<body>\n",
              "    <div>            <script src=\"https://cdnjs.cloudflare.com/ajax/libs/mathjax/2.7.5/MathJax.js?config=TeX-AMS-MML_SVG\"></script><script type=\"text/javascript\">if (window.MathJax) {MathJax.Hub.Config({SVG: {font: \"STIX-Web\"}});}</script>                <script type=\"text/javascript\">window.PlotlyConfig = {MathJaxConfig: 'local'};</script>\n",
              "        <script src=\"https://cdn.plot.ly/plotly-2.8.3.min.js\"></script>                <div id=\"f9191926-253c-473b-8038-6f1049806cb0\" class=\"plotly-graph-div\" style=\"height:525px; width:100%;\"></div>            <script type=\"text/javascript\">                                    window.PLOTLYENV=window.PLOTLYENV || {};                                    if (document.getElementById(\"f9191926-253c-473b-8038-6f1049806cb0\")) {                    Plotly.newPlot(                        \"f9191926-253c-473b-8038-6f1049806cb0\",                        [{\"boxpoints\":\"suspectedoutliers\",\"lowerfence\":[15.69],\"mean\":[436.2550315807772],\"median\":[382.95],\"name\":\"installment\",\"notched\":false,\"q1\":[261.88],\"q3\":[573.93],\"upperfence\":[1041.98],\"y\":[[1042.09,1042.11,1042.13,1042.13,1042.18,1042.18,1042.18,1042.18,1042.18,1042.2,1042.2,1042.2,1042.2,1042.2,1042.2,1042.27,1042.27,1042.28,1042.28,1042.28,1042.3,1042.35,1042.39,1042.4,1042.44,1042.46,1042.54,1042.59,1042.68,1042.68,1042.7,1042.7,1042.73,1042.85,1043.0,1043.08,1043.08,1043.2,1043.2,1043.2,1043.2,1043.2,1043.2,1043.2,1043.2,1043.2,1043.2,1043.2,1043.2,1043.2,1043.2,1043.2,1043.2,1043.2,1043.2,1043.2,1043.2,1043.2,1043.23,1043.24,1043.28,1043.28,1043.35,1043.37,1043.37,1043.37,1043.37,1043.37,1043.37,1043.37,1043.37,1043.37,1043.37,1043.37,1043.37,1043.37,1043.37,1043.37,1043.37,1043.37,1043.37,1043.37,1043.37,1043.37,1043.37,1043.37,1043.37,1043.37,1043.37,1043.37,1043.37,1043.37,1043.37,1043.37,1043.37,1043.37,1043.37,1043.37,1043.37,1043.37,1043.37,1043.37,1043.37,1043.37,1043.37,1043.39,1043.44,1043.44,1043.44,1043.46,1043.46,1043.5,1043.55,1043.61,1043.61,1043.65,1043.65,1043.67,1043.7,1043.7,1043.7,1043.71,1043.71,1043.75,1043.76,1043.78,1043.78,1043.78,1043.78,1043.78,1043.78,1043.78,1043.78,1043.78,1043.78,1043.78,1043.78,1043.78,1043.78,1043.78,1043.78,1043.78,1043.78,1043.78,1043.78,1043.78,1043.78,1043.78,1043.78,1043.78,1043.78,1043.78,1043.78,1043.78,1043.78,1043.78,1043.78,1043.78,1043.78,1043.78,1043.78,1043.78,1043.78,1043.78,1043.78,1043.78,1043.78,1043.78,1043.78,1043.78,1043.78,1043.78,1043.78,1043.78,1043.78,1043.78,1043.78,1043.78,1043.78,1043.78,1043.78,1043.78,1043.78,1043.78,1043.78,1043.78,1043.78,1043.78,1043.78,1043.78,1043.78,1043.78,1043.78,1043.78,1043.78,1043.78,1043.78,1043.78,1043.78,1043.78,1043.78,1043.78,1043.78,1043.78,1043.78,1043.78,1043.78,1043.78,1043.78,1043.78,1043.78,1043.78,1043.78,1043.78,1043.89,1043.89,1043.89,1043.9,1043.9,1043.95,1043.97,1043.97,1044.09,1044.1,1044.16,1044.16,1044.22,1044.28,1044.29,1044.29,1044.34,1044.34,1044.34,1044.34,1044.34,1044.34,1044.37,1044.37,1044.37,1044.37,1044.37,1044.4,1044.4,1044.4,1044.4,1044.4,1044.4,1044.4,1044.4,1044.4,1044.4,1044.4,1044.4,1044.4,1044.4,1044.4,1044.4,1044.4,1044.4,1044.4,1044.4,1044.4,1044.4,1044.4,1044.4,1044.4,1044.4,1044.4,1044.4,1044.4,1044.4,1044.4,1044.4,1044.4,1044.4,1044.4,1044.4,1044.4,1044.4,1044.4,1044.4,1044.4,1044.4,1044.4,1044.4,1044.4,1044.4,1044.4,1044.4,1044.4,1044.4,1044.4,1044.4,1044.4,1044.4,1044.4,1044.41,1044.44,1044.46,1044.52,1044.52,1044.52,1044.52,1044.52,1044.52,1044.52,1044.52,1044.52,1044.52,1044.52,1044.52,1044.52,1044.52,1044.52,1044.52,1044.52,1044.52,1044.52,1044.52,1044.52,1044.52,1044.52,1044.52,1044.52,1044.52,1044.52,1044.52,1044.52,1044.52,1044.52,1044.52,1044.52,1044.52,1044.52,1044.52,1044.52,1044.52,1044.52,1044.52,1044.52,1044.52,1044.52,1044.52,1044.52,1044.52,1044.52,1044.52,1044.52,1044.52,1044.52,1044.52,1044.52,1044.52,1044.52,1044.52,1044.52,1044.52,1044.52,1044.52,1044.52,1044.52,1044.52,1044.52,1044.52,1044.52,1044.52,1044.52,1044.52,1044.52,1044.52,1044.52,1044.52,1044.52,1044.52,1044.52,1044.52,1044.57,1044.79,1044.79,1044.84,1044.85,1044.94,1044.94,1045.01,1045.08,1045.11,1045.13,1045.21,1045.21,1045.26,1045.31,1045.31,1045.31,1045.31,1045.38,1045.38,1045.38,1045.38,1045.42,1045.42,1045.42,1045.42,1045.42,1045.42,1045.45,1045.45,1045.45,1045.45,1045.45,1045.45,1045.45,1045.49,1045.51,1045.55,1045.64,1045.64,1045.64,1045.64,1045.64,1045.64,1045.64,1045.64,1045.64,1045.64,1045.64,1045.64,1045.64,1045.64,1045.64,1045.64,1045.64,1045.64,1045.64,1045.64,1045.64,1045.64,1045.64,1045.64,1045.64,1045.64,1045.64,1045.64,1045.64,1045.64,1045.64,1045.64,1045.64,1045.64,1045.64,1045.64,1045.64,1045.64,1045.64,1045.64,1045.64,1045.64,1045.64,1045.64,1045.64,1045.64,1045.64,1045.64,1045.64,1045.64,1045.64,1045.67,1045.77,1045.88,1046.0,1046.0,1046.0,1046.0,1046.0,1046.0,1046.0,1046.0,1046.0,1046.0,1046.0,1046.0,1046.0,1046.0,1046.0,1046.0,1046.0,1046.0,1046.0,1046.0,1046.0,1046.0,1046.11,1046.12,1046.12,1046.28,1046.36,1046.39,1046.6,1046.62,1046.65,1046.67,1046.95,1047.03,1047.1,1047.1,1047.1,1047.16,1047.29,1047.32,1047.44,1047.44,1047.44,1047.49,1047.49,1047.49,1047.49,1047.49,1047.49,1047.49,1047.49,1047.49,1047.49,1047.49,1047.49,1047.49,1047.49,1047.49,1047.49,1047.49,1047.49,1047.49,1047.49,1047.49,1047.49,1047.49,1047.49,1047.49,1047.49,1047.49,1047.49,1047.49,1047.49,1047.49,1047.49,1047.49,1047.49,1047.49,1047.49,1047.49,1047.49,1047.49,1047.49,1047.49,1047.49,1047.49,1047.49,1047.49,1047.49,1047.49,1047.49,1047.49,1047.49,1047.49,1047.57,1047.59,1047.59,1047.59,1047.62,1047.62,1047.69,1047.69,1047.71,1047.71,1047.71,1047.71,1047.71,1047.71,1047.71,1047.71,1047.71,1047.71,1047.71,1047.71,1047.71,1047.71,1047.71,1047.71,1047.71,1047.71,1047.71,1047.71,1047.71,1047.71,1047.71,1047.71,1047.71,1047.71,1047.71,1047.71,1047.71,1047.71,1047.71,1047.71,1047.71,1047.71,1047.71,1047.71,1047.71,1047.71,1047.71,1047.71,1047.71,1047.71,1047.71,1047.71,1047.71,1047.73,1047.73,1047.73,1047.78,1047.86,1047.86,1047.86,1047.86,1047.86,1047.86,1047.86,1047.86,1047.86,1047.86,1047.86,1047.86,1047.86,1047.9,1047.91,1048.05,1048.05,1048.05,1048.05,1048.06,1048.07,1048.07,1048.07,1048.07,1048.07,1048.07,1048.11,1048.12,1048.12,1048.12,1048.16,1048.19,1048.21,1048.23,1048.29,1048.43,1048.47,1048.47,1048.47,1048.53,1048.54,1048.54,1048.54,1048.54,1048.54,1048.54,1048.54,1048.54,1048.56,1048.58,1048.58,1048.62,1048.63,1048.65,1048.65,1048.65,1048.65,1048.65,1048.65,1048.65,1048.65,1048.65,1048.65,1048.65,1048.65,1048.65,1048.65,1048.65,1048.65,1048.65,1048.65,1048.69,1048.69,1048.69,1048.69,1048.71,1048.74,1048.94,1048.94,1048.95,1048.95,1048.95,1048.95,1048.95,1048.95,1048.95,1048.95,1048.95,1048.95,1048.95,1048.95,1048.95,1048.95,1048.95,1048.95,1048.95,1048.95,1048.95,1048.95,1048.95,1048.95,1048.95,1048.95,1048.95,1048.95,1048.95,1048.95,1048.95,1048.95,1048.95,1048.95,1048.95,1048.95,1048.95,1048.95,1048.95,1048.95,1048.95,1048.95,1048.95,1048.95,1048.95,1048.95,1048.95,1048.95,1048.95,1048.95,1048.95,1048.95,1048.95,1048.95,1048.95,1048.95,1048.95,1048.95,1048.95,1048.95,1048.95,1048.95,1048.95,1048.95,1048.95,1048.95,1048.95,1048.95,1048.95,1048.95,1048.95,1048.95,1048.95,1048.95,1048.95,1048.95,1048.95,1048.95,1048.95,1048.95,1048.95,1048.95,1048.95,1048.95,1048.95,1048.95,1048.95,1048.95,1048.95,1048.95,1048.95,1048.95,1048.95,1048.95,1048.95,1048.95,1048.95,1048.95,1048.95,1048.95,1048.95,1048.95,1048.95,1048.95,1048.95,1048.95,1048.95,1048.95,1048.95,1048.95,1048.95,1048.95,1048.95,1048.95,1048.95,1048.95,1048.95,1048.95,1048.95,1048.95,1048.95,1048.95,1048.95,1048.95,1048.95,1048.95,1048.95,1048.95,1048.95,1048.95,1048.95,1048.95,1048.95,1048.95,1048.95,1048.95,1048.95,1048.95,1048.95,1048.95,1048.95,1048.95,1048.95,1048.95,1048.95,1048.95,1048.95,1048.95,1048.95,1048.95,1048.95,1048.95,1048.95,1048.95,1048.95,1048.95,1048.95,1048.95,1048.95,1048.95,1048.95,1048.95,1048.95,1048.95,1048.95,1048.95,1048.95,1048.95,1049.1,1049.1,1049.1,1049.1,1049.11,1049.16,1049.17,1049.17,1049.17,1049.17,1049.17,1049.17,1049.17,1049.17,1049.17,1049.17,1049.17,1049.17,1049.17,1049.17,1049.17,1049.17,1049.17,1049.17,1049.17,1049.17,1049.17,1049.17,1049.17,1049.17,1049.17,1049.17,1049.17,1049.17,1049.17,1049.17,1049.17,1049.17,1049.17,1049.17,1049.25,1049.31,1049.34,1049.34,1049.35,1049.45,1049.45,1049.45,1049.55,1049.55,1049.67,1049.75,1049.83,1049.96,1050.0,1050.01,1050.06,1050.1,1050.19,1050.22,1050.26,1050.26,1050.26,1050.26,1050.27,1050.3,1050.62,1050.62,1050.66,1050.77,1050.98,1050.98,1050.98,1050.98,1050.98,1050.98,1050.98,1051.01,1051.02,1051.02,1051.03,1051.11,1051.11,1051.15,1051.16,1051.16,1051.2,1051.2,1051.2,1051.2,1051.22,1051.23,1051.25,1051.31,1051.36,1051.36,1051.36,1051.39,1051.39,1051.39,1051.46,1051.49,1051.5,1051.52,1051.53,1051.69,1051.69,1051.69,1051.76,1051.76,1051.76,1051.76,1051.76,1051.76,1051.76,1051.76,1051.76,1051.76,1051.76,1051.76,1051.76,1051.76,1051.76,1051.76,1051.76,1051.76,1051.76,1051.76,1051.76,1051.76,1051.76,1051.76,1051.76,1051.76,1051.76,1051.76,1051.76]],\"type\":\"box\"}],                        {\"template\":{\"data\":{\"bar\":[{\"error_x\":{\"color\":\"#2a3f5f\"},\"error_y\":{\"color\":\"#2a3f5f\"},\"marker\":{\"line\":{\"color\":\"#E5ECF6\",\"width\":0.5},\"pattern\":{\"fillmode\":\"overlay\",\"size\":10,\"solidity\":0.2}},\"type\":\"bar\"}],\"barpolar\":[{\"marker\":{\"line\":{\"color\":\"#E5ECF6\",\"width\":0.5},\"pattern\":{\"fillmode\":\"overlay\",\"size\":10,\"solidity\":0.2}},\"type\":\"barpolar\"}],\"carpet\":[{\"aaxis\":{\"endlinecolor\":\"#2a3f5f\",\"gridcolor\":\"white\",\"linecolor\":\"white\",\"minorgridcolor\":\"white\",\"startlinecolor\":\"#2a3f5f\"},\"baxis\":{\"endlinecolor\":\"#2a3f5f\",\"gridcolor\":\"white\",\"linecolor\":\"white\",\"minorgridcolor\":\"white\",\"startlinecolor\":\"#2a3f5f\"},\"type\":\"carpet\"}],\"choropleth\":[{\"colorbar\":{\"outlinewidth\":0,\"ticks\":\"\"},\"type\":\"choropleth\"}],\"contour\":[{\"colorbar\":{\"outlinewidth\":0,\"ticks\":\"\"},\"colorscale\":[[0.0,\"#0d0887\"],[0.1111111111111111,\"#46039f\"],[0.2222222222222222,\"#7201a8\"],[0.3333333333333333,\"#9c179e\"],[0.4444444444444444,\"#bd3786\"],[0.5555555555555556,\"#d8576b\"],[0.6666666666666666,\"#ed7953\"],[0.7777777777777778,\"#fb9f3a\"],[0.8888888888888888,\"#fdca26\"],[1.0,\"#f0f921\"]],\"type\":\"contour\"}],\"contourcarpet\":[{\"colorbar\":{\"outlinewidth\":0,\"ticks\":\"\"},\"type\":\"contourcarpet\"}],\"heatmap\":[{\"colorbar\":{\"outlinewidth\":0,\"ticks\":\"\"},\"colorscale\":[[0.0,\"#0d0887\"],[0.1111111111111111,\"#46039f\"],[0.2222222222222222,\"#7201a8\"],[0.3333333333333333,\"#9c179e\"],[0.4444444444444444,\"#bd3786\"],[0.5555555555555556,\"#d8576b\"],[0.6666666666666666,\"#ed7953\"],[0.7777777777777778,\"#fb9f3a\"],[0.8888888888888888,\"#fdca26\"],[1.0,\"#f0f921\"]],\"type\":\"heatmap\"}],\"heatmapgl\":[{\"colorbar\":{\"outlinewidth\":0,\"ticks\":\"\"},\"colorscale\":[[0.0,\"#0d0887\"],[0.1111111111111111,\"#46039f\"],[0.2222222222222222,\"#7201a8\"],[0.3333333333333333,\"#9c179e\"],[0.4444444444444444,\"#bd3786\"],[0.5555555555555556,\"#d8576b\"],[0.6666666666666666,\"#ed7953\"],[0.7777777777777778,\"#fb9f3a\"],[0.8888888888888888,\"#fdca26\"],[1.0,\"#f0f921\"]],\"type\":\"heatmapgl\"}],\"histogram\":[{\"marker\":{\"pattern\":{\"fillmode\":\"overlay\",\"size\":10,\"solidity\":0.2}},\"type\":\"histogram\"}],\"histogram2d\":[{\"colorbar\":{\"outlinewidth\":0,\"ticks\":\"\"},\"colorscale\":[[0.0,\"#0d0887\"],[0.1111111111111111,\"#46039f\"],[0.2222222222222222,\"#7201a8\"],[0.3333333333333333,\"#9c179e\"],[0.4444444444444444,\"#bd3786\"],[0.5555555555555556,\"#d8576b\"],[0.6666666666666666,\"#ed7953\"],[0.7777777777777778,\"#fb9f3a\"],[0.8888888888888888,\"#fdca26\"],[1.0,\"#f0f921\"]],\"type\":\"histogram2d\"}],\"histogram2dcontour\":[{\"colorbar\":{\"outlinewidth\":0,\"ticks\":\"\"},\"colorscale\":[[0.0,\"#0d0887\"],[0.1111111111111111,\"#46039f\"],[0.2222222222222222,\"#7201a8\"],[0.3333333333333333,\"#9c179e\"],[0.4444444444444444,\"#bd3786\"],[0.5555555555555556,\"#d8576b\"],[0.6666666666666666,\"#ed7953\"],[0.7777777777777778,\"#fb9f3a\"],[0.8888888888888888,\"#fdca26\"],[1.0,\"#f0f921\"]],\"type\":\"histogram2dcontour\"}],\"mesh3d\":[{\"colorbar\":{\"outlinewidth\":0,\"ticks\":\"\"},\"type\":\"mesh3d\"}],\"parcoords\":[{\"line\":{\"colorbar\":{\"outlinewidth\":0,\"ticks\":\"\"}},\"type\":\"parcoords\"}],\"pie\":[{\"automargin\":true,\"type\":\"pie\"}],\"scatter\":[{\"marker\":{\"colorbar\":{\"outlinewidth\":0,\"ticks\":\"\"}},\"type\":\"scatter\"}],\"scatter3d\":[{\"line\":{\"colorbar\":{\"outlinewidth\":0,\"ticks\":\"\"}},\"marker\":{\"colorbar\":{\"outlinewidth\":0,\"ticks\":\"\"}},\"type\":\"scatter3d\"}],\"scattercarpet\":[{\"marker\":{\"colorbar\":{\"outlinewidth\":0,\"ticks\":\"\"}},\"type\":\"scattercarpet\"}],\"scattergeo\":[{\"marker\":{\"colorbar\":{\"outlinewidth\":0,\"ticks\":\"\"}},\"type\":\"scattergeo\"}],\"scattergl\":[{\"marker\":{\"colorbar\":{\"outlinewidth\":0,\"ticks\":\"\"}},\"type\":\"scattergl\"}],\"scattermapbox\":[{\"marker\":{\"colorbar\":{\"outlinewidth\":0,\"ticks\":\"\"}},\"type\":\"scattermapbox\"}],\"scatterpolar\":[{\"marker\":{\"colorbar\":{\"outlinewidth\":0,\"ticks\":\"\"}},\"type\":\"scatterpolar\"}],\"scatterpolargl\":[{\"marker\":{\"colorbar\":{\"outlinewidth\":0,\"ticks\":\"\"}},\"type\":\"scatterpolargl\"}],\"scatterternary\":[{\"marker\":{\"colorbar\":{\"outlinewidth\":0,\"ticks\":\"\"}},\"type\":\"scatterternary\"}],\"surface\":[{\"colorbar\":{\"outlinewidth\":0,\"ticks\":\"\"},\"colorscale\":[[0.0,\"#0d0887\"],[0.1111111111111111,\"#46039f\"],[0.2222222222222222,\"#7201a8\"],[0.3333333333333333,\"#9c179e\"],[0.4444444444444444,\"#bd3786\"],[0.5555555555555556,\"#d8576b\"],[0.6666666666666666,\"#ed7953\"],[0.7777777777777778,\"#fb9f3a\"],[0.8888888888888888,\"#fdca26\"],[1.0,\"#f0f921\"]],\"type\":\"surface\"}],\"table\":[{\"cells\":{\"fill\":{\"color\":\"#EBF0F8\"},\"line\":{\"color\":\"white\"}},\"header\":{\"fill\":{\"color\":\"#C8D4E3\"},\"line\":{\"color\":\"white\"}},\"type\":\"table\"}]},\"layout\":{\"annotationdefaults\":{\"arrowcolor\":\"#2a3f5f\",\"arrowhead\":0,\"arrowwidth\":1},\"autotypenumbers\":\"strict\",\"coloraxis\":{\"colorbar\":{\"outlinewidth\":0,\"ticks\":\"\"}},\"colorscale\":{\"diverging\":[[0,\"#8e0152\"],[0.1,\"#c51b7d\"],[0.2,\"#de77ae\"],[0.3,\"#f1b6da\"],[0.4,\"#fde0ef\"],[0.5,\"#f7f7f7\"],[0.6,\"#e6f5d0\"],[0.7,\"#b8e186\"],[0.8,\"#7fbc41\"],[0.9,\"#4d9221\"],[1,\"#276419\"]],\"sequential\":[[0.0,\"#0d0887\"],[0.1111111111111111,\"#46039f\"],[0.2222222222222222,\"#7201a8\"],[0.3333333333333333,\"#9c179e\"],[0.4444444444444444,\"#bd3786\"],[0.5555555555555556,\"#d8576b\"],[0.6666666666666666,\"#ed7953\"],[0.7777777777777778,\"#fb9f3a\"],[0.8888888888888888,\"#fdca26\"],[1.0,\"#f0f921\"]],\"sequentialminus\":[[0.0,\"#0d0887\"],[0.1111111111111111,\"#46039f\"],[0.2222222222222222,\"#7201a8\"],[0.3333333333333333,\"#9c179e\"],[0.4444444444444444,\"#bd3786\"],[0.5555555555555556,\"#d8576b\"],[0.6666666666666666,\"#ed7953\"],[0.7777777777777778,\"#fb9f3a\"],[0.8888888888888888,\"#fdca26\"],[1.0,\"#f0f921\"]]},\"colorway\":[\"#636efa\",\"#EF553B\",\"#00cc96\",\"#ab63fa\",\"#FFA15A\",\"#19d3f3\",\"#FF6692\",\"#B6E880\",\"#FF97FF\",\"#FECB52\"],\"font\":{\"color\":\"#2a3f5f\"},\"geo\":{\"bgcolor\":\"white\",\"lakecolor\":\"white\",\"landcolor\":\"#E5ECF6\",\"showlakes\":true,\"showland\":true,\"subunitcolor\":\"white\"},\"hoverlabel\":{\"align\":\"left\"},\"hovermode\":\"closest\",\"mapbox\":{\"style\":\"light\"},\"paper_bgcolor\":\"white\",\"plot_bgcolor\":\"#E5ECF6\",\"polar\":{\"angularaxis\":{\"gridcolor\":\"white\",\"linecolor\":\"white\",\"ticks\":\"\"},\"bgcolor\":\"#E5ECF6\",\"radialaxis\":{\"gridcolor\":\"white\",\"linecolor\":\"white\",\"ticks\":\"\"}},\"scene\":{\"xaxis\":{\"backgroundcolor\":\"#E5ECF6\",\"gridcolor\":\"white\",\"gridwidth\":2,\"linecolor\":\"white\",\"showbackground\":true,\"ticks\":\"\",\"zerolinecolor\":\"white\"},\"yaxis\":{\"backgroundcolor\":\"#E5ECF6\",\"gridcolor\":\"white\",\"gridwidth\":2,\"linecolor\":\"white\",\"showbackground\":true,\"ticks\":\"\",\"zerolinecolor\":\"white\"},\"zaxis\":{\"backgroundcolor\":\"#E5ECF6\",\"gridcolor\":\"white\",\"gridwidth\":2,\"linecolor\":\"white\",\"showbackground\":true,\"ticks\":\"\",\"zerolinecolor\":\"white\"}},\"shapedefaults\":{\"line\":{\"color\":\"#2a3f5f\"}},\"ternary\":{\"aaxis\":{\"gridcolor\":\"white\",\"linecolor\":\"white\",\"ticks\":\"\"},\"baxis\":{\"gridcolor\":\"white\",\"linecolor\":\"white\",\"ticks\":\"\"},\"bgcolor\":\"#E5ECF6\",\"caxis\":{\"gridcolor\":\"white\",\"linecolor\":\"white\",\"ticks\":\"\"}},\"title\":{\"x\":0.05},\"xaxis\":{\"automargin\":true,\"gridcolor\":\"white\",\"linecolor\":\"white\",\"ticks\":\"\",\"title\":{\"standoff\":15},\"zerolinecolor\":\"white\",\"zerolinewidth\":2},\"yaxis\":{\"automargin\":true,\"gridcolor\":\"white\",\"linecolor\":\"white\",\"ticks\":\"\",\"title\":{\"standoff\":15},\"zerolinecolor\":\"white\",\"zerolinewidth\":2}}},\"xaxis\":{\"title\":{\"text\":\"installment\"}},\"yaxis\":{\"title\":{\"text\":\"value\"}}},                        {\"responsive\": true}                    ).then(function(){\n",
              "                            \n",
              "var gd = document.getElementById('f9191926-253c-473b-8038-6f1049806cb0');\n",
              "var x = new MutationObserver(function (mutations, observer) {{\n",
              "        var display = window.getComputedStyle(gd).display;\n",
              "        if (!display || display === 'none') {{\n",
              "            console.log([gd, 'removed!']);\n",
              "            Plotly.purge(gd);\n",
              "            observer.disconnect();\n",
              "        }}\n",
              "}});\n",
              "\n",
              "// Listen for the removal of the full notebook cells\n",
              "var notebookContainer = gd.closest('#notebook-container');\n",
              "if (notebookContainer) {{\n",
              "    x.observe(notebookContainer, {childList: true});\n",
              "}}\n",
              "\n",
              "// Listen for the clearing of the current output cell\n",
              "var outputEl = gd.closest('.output');\n",
              "if (outputEl) {{\n",
              "    x.observe(outputEl, {childList: true});\n",
              "}}\n",
              "\n",
              "                        })                };                            </script>        </div>\n",
              "</body>\n",
              "</html>"
            ]
          },
          "metadata": {}
        }
      ]
    },
    {
      "cell_type": "code",
      "source": [
        "testing['delinq_2yrs'].plot.box()"
      ],
      "metadata": {
        "colab": {
          "base_uri": "https://localhost:8080/",
          "height": 542
        },
        "id": "HT6HY4ljf8sb",
        "outputId": "583b6158-37e9-4301-b00b-af3b1e911d4a"
      },
      "execution_count": null,
      "outputs": [
        {
          "output_type": "display_data",
          "data": {
            "text/html": [
              "<html>\n",
              "<head><meta charset=\"utf-8\" /></head>\n",
              "<body>\n",
              "    <div>            <script src=\"https://cdnjs.cloudflare.com/ajax/libs/mathjax/2.7.5/MathJax.js?config=TeX-AMS-MML_SVG\"></script><script type=\"text/javascript\">if (window.MathJax) {MathJax.Hub.Config({SVG: {font: \"STIX-Web\"}});}</script>                <script type=\"text/javascript\">window.PlotlyConfig = {MathJaxConfig: 'local'};</script>\n",
              "        <script src=\"https://cdn.plot.ly/plotly-2.8.3.min.js\"></script>                <div id=\"22360d3f-ff39-4b92-add3-4bc8afa69a75\" class=\"plotly-graph-div\" style=\"height:525px; width:100%;\"></div>            <script type=\"text/javascript\">                                    window.PLOTLYENV=window.PLOTLYENV || {};                                    if (document.getElementById(\"22360d3f-ff39-4b92-add3-4bc8afa69a75\")) {                    Plotly.newPlot(                        \"22360d3f-ff39-4b92-add3-4bc8afa69a75\",                        [{\"boxpoints\":\"suspectedoutliers\",\"lowerfence\":[0],\"mean\":[0.31166483395131483],\"median\":[0],\"name\":\"delinq_2yrs\",\"notched\":false,\"q1\":[0],\"q3\":[0],\"upperfence\":[0],\"y\":[[1,1,1,1,1,1,1,1,1,1,1,1,1,1,1,1,1,1,1,1,1,1,1,1,1,1,1,1,1,1,1,1,1,1,1,1,1,1,1,1,1,1,1,1,1,1,1,1,1,1,1,1,1,1,1,1,1,1,1,1,1,1,1,1,1,1,1,1,1,1,1,1,1,1,1,1,1,1,1,1,1,1,1,1,1,1,1,1,1,1,1,1,1,1,1,1,1,1,1,1,1,1,1,1,1,1,1,1,1,1,1,1,1,1,1,1,1,1,1,1,1,1,1,1,1,1,1,1,1,1,1,1,1,1,1,1,1,1,1,1,1,1,1,1,1,1,1,1,1,1,1,1,1,1,1,1,1,1,1,1,1,1,1,1,1,1,1,1,1,1,1,1,1,1,1,1,1,1,1,1,1,1,1,1,1,1,1,1,1,1,1,1,1,1,1,1,1,1,1,1,1,1,1,1,1,1,1,1,1,1,1,1,1,1,1,1,1,1,1,1,1,1,1,1,1,1,1,1,1,1,1,1,1,1,1,1,1,1,1,1,1,1,1,1,1,1,1,1,1,1,1,1,1,1,1,1,1,1,1,1,1,1,1,1,1,1,1,1,1,1,1,1,1,1,1,1,1,1,1,1,1,1,1,1,1,1,1,1,1,1,1,1,1,1,1,1,1,1,1,1,1,1,1,1,1,1,1,1,1,1,1,1,1,1,1,1,1,1,1,1,1,1,1,1,1,1,1,1,1,1,1,1,1,1,1,1,1,1,1,1,1,1,1,1,1,1,1,1,1,1,1,1,1,1,1,1,1,1,1,1,1,1,1,1,1,1,1,1,1,1,1,1,1,1,1,1,1,1,1,1,1,1,1,1,1,1,1,1,1,1,1,1,1,1,1,1,1,1,1,1,1,1,1,1,1,1,1,1,1,1,1,1,1,1,1,1,1,1,1,1,1,1,1,1,1,1,1,1,1,1,1,1,1,1,1,1,1,1,1,1,1,1,1,1,1,1,1,1,1,1,1,1,1,1,1,1,1,1,1,1,1,1,1,1,1,1,1,1,1,1,1,1,1,1,1,1,1,1,1,1,1,1,1,1,1,1,1,1,1,1,1,1,1,1,1,1,1,1,1,1,1,1,1,1,1,1,1,1,1,1,1,1,1,1,1,1,1,1,1,1,1,1,1,1,1,1,1,1,1,1,1,1,1,1,1,1,1,1,1,1,1,1,1,1,1,1,1,1,1,1,1,1,1,1,1,1,1,1,1,1,1,1,1,1,1,1,1,1,1,1,1,1,1,1,1,1,1,1,1,1,1,1,1,1,1,1,1,1,1,1,1,1,1,1,1,1,1,1,1,1,1,1,1,1,1,1,1,1,1,1,1,1,1,1,1,1,1,1,1,1,1,1,1,1,1,1,1,1,1,1,1,1,1,1,1,1,1,1,1,1,1,1,1,1,1,1,1,1,1,1,1,1,1,1,1,1,1,1,1,1,1,1,1,1,1,1,1,1,1,1,1,1,1,1,1,1,1,1,1,1,1,1,1,1,1,1,1,1,1,1,1,1,1,1,1,1,1,1,1,1,1,1,1,1,1,1,1,1,1,1,1,1,1,1,1,1,1,1,1,1,1,1,1,1,1,1,1,1,1,1,1,1,1,1,1,1,1,1,1,1,1,1,1,1,1,1,1,1,1,1,1,1,1,1,1,1,1,1,1,1,1,1,1,1,1,1,1,1,1,1,1,1,1,1,1,1,1,1,1,1,1,1,1,1,1,1,1,1,1,1,1,1,1,1,1,1,1,1,1,1,1,1,1,1,1,1,1,1,1,1,1,1,1,1,1,1,1,1,1,1,1,1,1,1,1,1,1,1,1,1,1,1,1,1,1,1,1,1,1,1,1,1,1,1,1,1,1,1,1,1,1,1,1,1,1,1,1,1,1,1,1,1,1,1,1,1,1,1,1,1,1,1,1,1,1,1,1,1,1,1,1,1,1,1,1,1,1,1,1,1,1,1,1,1,1,1,1,1,1,1,1,1,1,1,1,1,1,1,1,1,1,1,1,1,1,1,1,1,1,1,1,1,1,1,1,1,1,1,1,1,1,1,1,1,1,1,1,1,1,1,1,1,1,1,1,1,1,1,1,1,1,1,1,1,1,1,1,1,1,1,1,1,1,1,1,1,1,1,1,1,1,1,1,1,1,1,1,1,1,1,1,1,1,1,1,1,1,1,1,1,1,1,1,1,1,1,1,1,1,1,1]],\"type\":\"box\"}],                        {\"template\":{\"data\":{\"bar\":[{\"error_x\":{\"color\":\"#2a3f5f\"},\"error_y\":{\"color\":\"#2a3f5f\"},\"marker\":{\"line\":{\"color\":\"#E5ECF6\",\"width\":0.5},\"pattern\":{\"fillmode\":\"overlay\",\"size\":10,\"solidity\":0.2}},\"type\":\"bar\"}],\"barpolar\":[{\"marker\":{\"line\":{\"color\":\"#E5ECF6\",\"width\":0.5},\"pattern\":{\"fillmode\":\"overlay\",\"size\":10,\"solidity\":0.2}},\"type\":\"barpolar\"}],\"carpet\":[{\"aaxis\":{\"endlinecolor\":\"#2a3f5f\",\"gridcolor\":\"white\",\"linecolor\":\"white\",\"minorgridcolor\":\"white\",\"startlinecolor\":\"#2a3f5f\"},\"baxis\":{\"endlinecolor\":\"#2a3f5f\",\"gridcolor\":\"white\",\"linecolor\":\"white\",\"minorgridcolor\":\"white\",\"startlinecolor\":\"#2a3f5f\"},\"type\":\"carpet\"}],\"choropleth\":[{\"colorbar\":{\"outlinewidth\":0,\"ticks\":\"\"},\"type\":\"choropleth\"}],\"contour\":[{\"colorbar\":{\"outlinewidth\":0,\"ticks\":\"\"},\"colorscale\":[[0.0,\"#0d0887\"],[0.1111111111111111,\"#46039f\"],[0.2222222222222222,\"#7201a8\"],[0.3333333333333333,\"#9c179e\"],[0.4444444444444444,\"#bd3786\"],[0.5555555555555556,\"#d8576b\"],[0.6666666666666666,\"#ed7953\"],[0.7777777777777778,\"#fb9f3a\"],[0.8888888888888888,\"#fdca26\"],[1.0,\"#f0f921\"]],\"type\":\"contour\"}],\"contourcarpet\":[{\"colorbar\":{\"outlinewidth\":0,\"ticks\":\"\"},\"type\":\"contourcarpet\"}],\"heatmap\":[{\"colorbar\":{\"outlinewidth\":0,\"ticks\":\"\"},\"colorscale\":[[0.0,\"#0d0887\"],[0.1111111111111111,\"#46039f\"],[0.2222222222222222,\"#7201a8\"],[0.3333333333333333,\"#9c179e\"],[0.4444444444444444,\"#bd3786\"],[0.5555555555555556,\"#d8576b\"],[0.6666666666666666,\"#ed7953\"],[0.7777777777777778,\"#fb9f3a\"],[0.8888888888888888,\"#fdca26\"],[1.0,\"#f0f921\"]],\"type\":\"heatmap\"}],\"heatmapgl\":[{\"colorbar\":{\"outlinewidth\":0,\"ticks\":\"\"},\"colorscale\":[[0.0,\"#0d0887\"],[0.1111111111111111,\"#46039f\"],[0.2222222222222222,\"#7201a8\"],[0.3333333333333333,\"#9c179e\"],[0.4444444444444444,\"#bd3786\"],[0.5555555555555556,\"#d8576b\"],[0.6666666666666666,\"#ed7953\"],[0.7777777777777778,\"#fb9f3a\"],[0.8888888888888888,\"#fdca26\"],[1.0,\"#f0f921\"]],\"type\":\"heatmapgl\"}],\"histogram\":[{\"marker\":{\"pattern\":{\"fillmode\":\"overlay\",\"size\":10,\"solidity\":0.2}},\"type\":\"histogram\"}],\"histogram2d\":[{\"colorbar\":{\"outlinewidth\":0,\"ticks\":\"\"},\"colorscale\":[[0.0,\"#0d0887\"],[0.1111111111111111,\"#46039f\"],[0.2222222222222222,\"#7201a8\"],[0.3333333333333333,\"#9c179e\"],[0.4444444444444444,\"#bd3786\"],[0.5555555555555556,\"#d8576b\"],[0.6666666666666666,\"#ed7953\"],[0.7777777777777778,\"#fb9f3a\"],[0.8888888888888888,\"#fdca26\"],[1.0,\"#f0f921\"]],\"type\":\"histogram2d\"}],\"histogram2dcontour\":[{\"colorbar\":{\"outlinewidth\":0,\"ticks\":\"\"},\"colorscale\":[[0.0,\"#0d0887\"],[0.1111111111111111,\"#46039f\"],[0.2222222222222222,\"#7201a8\"],[0.3333333333333333,\"#9c179e\"],[0.4444444444444444,\"#bd3786\"],[0.5555555555555556,\"#d8576b\"],[0.6666666666666666,\"#ed7953\"],[0.7777777777777778,\"#fb9f3a\"],[0.8888888888888888,\"#fdca26\"],[1.0,\"#f0f921\"]],\"type\":\"histogram2dcontour\"}],\"mesh3d\":[{\"colorbar\":{\"outlinewidth\":0,\"ticks\":\"\"},\"type\":\"mesh3d\"}],\"parcoords\":[{\"line\":{\"colorbar\":{\"outlinewidth\":0,\"ticks\":\"\"}},\"type\":\"parcoords\"}],\"pie\":[{\"automargin\":true,\"type\":\"pie\"}],\"scatter\":[{\"marker\":{\"colorbar\":{\"outlinewidth\":0,\"ticks\":\"\"}},\"type\":\"scatter\"}],\"scatter3d\":[{\"line\":{\"colorbar\":{\"outlinewidth\":0,\"ticks\":\"\"}},\"marker\":{\"colorbar\":{\"outlinewidth\":0,\"ticks\":\"\"}},\"type\":\"scatter3d\"}],\"scattercarpet\":[{\"marker\":{\"colorbar\":{\"outlinewidth\":0,\"ticks\":\"\"}},\"type\":\"scattercarpet\"}],\"scattergeo\":[{\"marker\":{\"colorbar\":{\"outlinewidth\":0,\"ticks\":\"\"}},\"type\":\"scattergeo\"}],\"scattergl\":[{\"marker\":{\"colorbar\":{\"outlinewidth\":0,\"ticks\":\"\"}},\"type\":\"scattergl\"}],\"scattermapbox\":[{\"marker\":{\"colorbar\":{\"outlinewidth\":0,\"ticks\":\"\"}},\"type\":\"scattermapbox\"}],\"scatterpolar\":[{\"marker\":{\"colorbar\":{\"outlinewidth\":0,\"ticks\":\"\"}},\"type\":\"scatterpolar\"}],\"scatterpolargl\":[{\"marker\":{\"colorbar\":{\"outlinewidth\":0,\"ticks\":\"\"}},\"type\":\"scatterpolargl\"}],\"scatterternary\":[{\"marker\":{\"colorbar\":{\"outlinewidth\":0,\"ticks\":\"\"}},\"type\":\"scatterternary\"}],\"surface\":[{\"colorbar\":{\"outlinewidth\":0,\"ticks\":\"\"},\"colorscale\":[[0.0,\"#0d0887\"],[0.1111111111111111,\"#46039f\"],[0.2222222222222222,\"#7201a8\"],[0.3333333333333333,\"#9c179e\"],[0.4444444444444444,\"#bd3786\"],[0.5555555555555556,\"#d8576b\"],[0.6666666666666666,\"#ed7953\"],[0.7777777777777778,\"#fb9f3a\"],[0.8888888888888888,\"#fdca26\"],[1.0,\"#f0f921\"]],\"type\":\"surface\"}],\"table\":[{\"cells\":{\"fill\":{\"color\":\"#EBF0F8\"},\"line\":{\"color\":\"white\"}},\"header\":{\"fill\":{\"color\":\"#C8D4E3\"},\"line\":{\"color\":\"white\"}},\"type\":\"table\"}]},\"layout\":{\"annotationdefaults\":{\"arrowcolor\":\"#2a3f5f\",\"arrowhead\":0,\"arrowwidth\":1},\"autotypenumbers\":\"strict\",\"coloraxis\":{\"colorbar\":{\"outlinewidth\":0,\"ticks\":\"\"}},\"colorscale\":{\"diverging\":[[0,\"#8e0152\"],[0.1,\"#c51b7d\"],[0.2,\"#de77ae\"],[0.3,\"#f1b6da\"],[0.4,\"#fde0ef\"],[0.5,\"#f7f7f7\"],[0.6,\"#e6f5d0\"],[0.7,\"#b8e186\"],[0.8,\"#7fbc41\"],[0.9,\"#4d9221\"],[1,\"#276419\"]],\"sequential\":[[0.0,\"#0d0887\"],[0.1111111111111111,\"#46039f\"],[0.2222222222222222,\"#7201a8\"],[0.3333333333333333,\"#9c179e\"],[0.4444444444444444,\"#bd3786\"],[0.5555555555555556,\"#d8576b\"],[0.6666666666666666,\"#ed7953\"],[0.7777777777777778,\"#fb9f3a\"],[0.8888888888888888,\"#fdca26\"],[1.0,\"#f0f921\"]],\"sequentialminus\":[[0.0,\"#0d0887\"],[0.1111111111111111,\"#46039f\"],[0.2222222222222222,\"#7201a8\"],[0.3333333333333333,\"#9c179e\"],[0.4444444444444444,\"#bd3786\"],[0.5555555555555556,\"#d8576b\"],[0.6666666666666666,\"#ed7953\"],[0.7777777777777778,\"#fb9f3a\"],[0.8888888888888888,\"#fdca26\"],[1.0,\"#f0f921\"]]},\"colorway\":[\"#636efa\",\"#EF553B\",\"#00cc96\",\"#ab63fa\",\"#FFA15A\",\"#19d3f3\",\"#FF6692\",\"#B6E880\",\"#FF97FF\",\"#FECB52\"],\"font\":{\"color\":\"#2a3f5f\"},\"geo\":{\"bgcolor\":\"white\",\"lakecolor\":\"white\",\"landcolor\":\"#E5ECF6\",\"showlakes\":true,\"showland\":true,\"subunitcolor\":\"white\"},\"hoverlabel\":{\"align\":\"left\"},\"hovermode\":\"closest\",\"mapbox\":{\"style\":\"light\"},\"paper_bgcolor\":\"white\",\"plot_bgcolor\":\"#E5ECF6\",\"polar\":{\"angularaxis\":{\"gridcolor\":\"white\",\"linecolor\":\"white\",\"ticks\":\"\"},\"bgcolor\":\"#E5ECF6\",\"radialaxis\":{\"gridcolor\":\"white\",\"linecolor\":\"white\",\"ticks\":\"\"}},\"scene\":{\"xaxis\":{\"backgroundcolor\":\"#E5ECF6\",\"gridcolor\":\"white\",\"gridwidth\":2,\"linecolor\":\"white\",\"showbackground\":true,\"ticks\":\"\",\"zerolinecolor\":\"white\"},\"yaxis\":{\"backgroundcolor\":\"#E5ECF6\",\"gridcolor\":\"white\",\"gridwidth\":2,\"linecolor\":\"white\",\"showbackground\":true,\"ticks\":\"\",\"zerolinecolor\":\"white\"},\"zaxis\":{\"backgroundcolor\":\"#E5ECF6\",\"gridcolor\":\"white\",\"gridwidth\":2,\"linecolor\":\"white\",\"showbackground\":true,\"ticks\":\"\",\"zerolinecolor\":\"white\"}},\"shapedefaults\":{\"line\":{\"color\":\"#2a3f5f\"}},\"ternary\":{\"aaxis\":{\"gridcolor\":\"white\",\"linecolor\":\"white\",\"ticks\":\"\"},\"baxis\":{\"gridcolor\":\"white\",\"linecolor\":\"white\",\"ticks\":\"\"},\"bgcolor\":\"#E5ECF6\",\"caxis\":{\"gridcolor\":\"white\",\"linecolor\":\"white\",\"ticks\":\"\"}},\"title\":{\"x\":0.05},\"xaxis\":{\"automargin\":true,\"gridcolor\":\"white\",\"linecolor\":\"white\",\"ticks\":\"\",\"title\":{\"standoff\":15},\"zerolinecolor\":\"white\",\"zerolinewidth\":2},\"yaxis\":{\"automargin\":true,\"gridcolor\":\"white\",\"linecolor\":\"white\",\"ticks\":\"\",\"title\":{\"standoff\":15},\"zerolinecolor\":\"white\",\"zerolinewidth\":2}}},\"xaxis\":{\"title\":{\"text\":\"delinq_2yrs\"}},\"yaxis\":{\"title\":{\"text\":\"value\"}}},                        {\"responsive\": true}                    ).then(function(){\n",
              "                            \n",
              "var gd = document.getElementById('22360d3f-ff39-4b92-add3-4bc8afa69a75');\n",
              "var x = new MutationObserver(function (mutations, observer) {{\n",
              "        var display = window.getComputedStyle(gd).display;\n",
              "        if (!display || display === 'none') {{\n",
              "            console.log([gd, 'removed!']);\n",
              "            Plotly.purge(gd);\n",
              "            observer.disconnect();\n",
              "        }}\n",
              "}});\n",
              "\n",
              "// Listen for the removal of the full notebook cells\n",
              "var notebookContainer = gd.closest('#notebook-container');\n",
              "if (notebookContainer) {{\n",
              "    x.observe(notebookContainer, {childList: true});\n",
              "}}\n",
              "\n",
              "// Listen for the clearing of the current output cell\n",
              "var outputEl = gd.closest('.output');\n",
              "if (outputEl) {{\n",
              "    x.observe(outputEl, {childList: true});\n",
              "}}\n",
              "\n",
              "                        })                };                            </script>        </div>\n",
              "</body>\n",
              "</html>"
            ]
          },
          "metadata": {}
        }
      ]
    },
    {
      "cell_type": "code",
      "source": [
        "testing['inq_last_6mths'].plot.box()"
      ],
      "metadata": {
        "colab": {
          "base_uri": "https://localhost:8080/",
          "height": 542
        },
        "id": "Bds-9zqvgDal",
        "outputId": "040ebdda-2d0e-4599-cba5-2ebf243edb3e"
      },
      "execution_count": null,
      "outputs": [
        {
          "output_type": "display_data",
          "data": {
            "text/html": [
              "<html>\n",
              "<head><meta charset=\"utf-8\" /></head>\n",
              "<body>\n",
              "    <div>            <script src=\"https://cdnjs.cloudflare.com/ajax/libs/mathjax/2.7.5/MathJax.js?config=TeX-AMS-MML_SVG\"></script><script type=\"text/javascript\">if (window.MathJax) {MathJax.Hub.Config({SVG: {font: \"STIX-Web\"}});}</script>                <script type=\"text/javascript\">window.PlotlyConfig = {MathJaxConfig: 'local'};</script>\n",
              "        <script src=\"https://cdn.plot.ly/plotly-2.8.3.min.js\"></script>                <div id=\"e36282e9-0378-45ba-96b9-95bf9cbd9aeb\" class=\"plotly-graph-div\" style=\"height:525px; width:100%;\"></div>            <script type=\"text/javascript\">                                    window.PLOTLYENV=window.PLOTLYENV || {};                                    if (document.getElementById(\"e36282e9-0378-45ba-96b9-95bf9cbd9aeb\")) {                    Plotly.newPlot(                        \"e36282e9-0378-45ba-96b9-95bf9cbd9aeb\",                        [{\"boxpoints\":\"suspectedoutliers\",\"lowerfence\":[0],\"mean\":[0.6808668022992884],\"median\":[0],\"name\":\"inq_last_6mths\",\"notched\":false,\"q1\":[0],\"q3\":[1],\"upperfence\":[2],\"y\":[[3,3,3,3,3,3,3,3,3,3,3,3,3,3,3,3,3,3,3,3,3,3,3,3,3,3,3,3,3,3,3,3,3,3,3,3,3,3,3,3,3,3,3,3,3,3,3,3,3,3,3,3,3,3,3,3,3,3,3,3,3,3,3,3,3,3,3,3,3,3,3,3,3,3,3,3,3,3,3,3,3,3,3,3,3,3,3,3,3,3,3,3,3,3,3,3,3,3,3,3,3,3,3,3,3,3,3,3,3,3,3,3,3,3,3,3,3,3,3,3,3,3,3,3,3,3,3,3,3,3,3,3,3,3,3,3,3,3,3,3,3,3,3,3,3,3,3,3,3,3,3,3,3,3,3,3,3,3,3,3,3,3,3,3,3,3,3,3,3,3,3,3,3,3,3,3,3,3,3,3,3,3,3,3,3,3,3,3,3,3,3,3,3,3,3,3,3,3,3,3,3,3,3,3,3,3,3,3,3,3,3,3,3,3,3,3,3,3,3,3,3,3,3,3,3,3,3,3,3,3,3,3,3,3,3,3,3,3,3,3,3,3,3,3,3,3,3,3,3,3,3,3,3,3,3,3,3,3,3,3,3,3,3,3,3,3,3,3,3,3,3,3,3,3,3,3,3,3,3,3,3,3,3,3,3,3,3,3,3,3,3,3,3,3,3,3,3,3,3,3,3,3,3,3,3,3,3,3,3,3,3,3,3,3,3,3,3,3,3,3,3,3,3,3,3,3,3,3,3,3,3,3,3,3,3,3,3,3,3,3,3,3,3,3,3,3,3,3,3,3,3,3,3,3,3,3,3,3,3,3,3,3,3,3,3,3,3,3,3,3,3,3,3,3,3,3,3,3,3,3,3,3,3,3,3,3,3,3,3,3,3,3,3,3,3,3,3,3,3,3,3,3,3,3,3,3,3,3,3,3,3,3,3,3,3,3,3,3,3,3,3,3,3,3,3,3,3,3,3,3,3,3,3,3,3,3,3,3,3,3,3,3,3,3,3,3,3,3,3,3,3,3,3,3,3,3,3,3,3,3,3,3,3,3,3,3,3,3,3,3,3,3,3,3,3,3,3,3,3,3,3,3,3,3,3,3,3,3,3,3,3,3,3,3,3,3,3,3,3,3,3,3,3,3,3,3,3,3,3,3,3,3,3,3,3,3,3,3,3,3,3,3,3,3,3,3,3,3,3,3,3,3,3,3,3,3,3,3,3,3,3,3,3,3,3,3,3,3,3,3,3,3,3,3,3,3,3,3,3,3,3,3,3,3,3,3,3,3,3,3,3,3,3,3,3,3,3,3,3,3,3,3,3,3,3,3,3,3,3,3,3,3,3,3,3,3,3,3,3,3,3,3,3,3,3,3,3,3,3,3,3,3,3,3,3,3,3,3,3,3,3,3,3,3,3,3,3,3,3,3,3,3,3,3,3,3,3,3,3,3,3,3,3,3,3,3,3,3,3,3,3,3,3,3,3,3,3,3,3,3,3,3,3,3,3,3,3,3,3,3,3,3,3,3,3,3,3,3,3,3,3,3,3,3,3,3,3,3,3,3,3,3,3,3,3,3,3,3,3,3,3,3,3,3,3,3,3,3,3,3,3,3,3,3,3,3,3,3,3,3,3,3,3,3,3,3,3,3,3,3,3,3,3,3,3,3,3,3,3,3,3,3,3,3,3,3,3,3,3,3,3,3,3,3,3,3,3,3,3,3,3,3,3,3,3,3,3,3,3,3,3,3,3,3,3,3,3,3,3,3,3,3,3,3,3,3,3,3,3,3,3,3,3,3,3,3,3,3,3,3,3,3,3,3,3,3,3,3,3,3,3,3,3,3,3,3,3,3,3,3,3,3,3,3,3,3,3,3,3,3,3,3,3,3,3,3,3,3,3,3,3,3,3,3,3,3,3,3,3,3,3,3,3,3,3,3,3,3,3,3,3,3,3,3,3,3,3,3,3,3,3,3,3,3,3,3,3,3,3,3,3,3,3,3,3,3,3,3,3,3,3,3,3,3,3,3,3,3,3,3,3,3,3,3,3,3,3,3,3,3,3,3,3,3,3,3,3,3,3,3,3,3,3,3,3,3,3,3,3,3,3,3,3,3,3,3,3,3,3,3,3,3,3,3,3,3,3,3,3,3,3,3,3,3,3,3,3,3,3,3,3,3,3,3,3,3,3,3,3,3,3,3,3,3,3,3,3,3,3,3,3,3,3,3,3,3,3,3,3,3,3,3,3,3,3,3,3,3,3,3,3]],\"type\":\"box\"}],                        {\"template\":{\"data\":{\"bar\":[{\"error_x\":{\"color\":\"#2a3f5f\"},\"error_y\":{\"color\":\"#2a3f5f\"},\"marker\":{\"line\":{\"color\":\"#E5ECF6\",\"width\":0.5},\"pattern\":{\"fillmode\":\"overlay\",\"size\":10,\"solidity\":0.2}},\"type\":\"bar\"}],\"barpolar\":[{\"marker\":{\"line\":{\"color\":\"#E5ECF6\",\"width\":0.5},\"pattern\":{\"fillmode\":\"overlay\",\"size\":10,\"solidity\":0.2}},\"type\":\"barpolar\"}],\"carpet\":[{\"aaxis\":{\"endlinecolor\":\"#2a3f5f\",\"gridcolor\":\"white\",\"linecolor\":\"white\",\"minorgridcolor\":\"white\",\"startlinecolor\":\"#2a3f5f\"},\"baxis\":{\"endlinecolor\":\"#2a3f5f\",\"gridcolor\":\"white\",\"linecolor\":\"white\",\"minorgridcolor\":\"white\",\"startlinecolor\":\"#2a3f5f\"},\"type\":\"carpet\"}],\"choropleth\":[{\"colorbar\":{\"outlinewidth\":0,\"ticks\":\"\"},\"type\":\"choropleth\"}],\"contour\":[{\"colorbar\":{\"outlinewidth\":0,\"ticks\":\"\"},\"colorscale\":[[0.0,\"#0d0887\"],[0.1111111111111111,\"#46039f\"],[0.2222222222222222,\"#7201a8\"],[0.3333333333333333,\"#9c179e\"],[0.4444444444444444,\"#bd3786\"],[0.5555555555555556,\"#d8576b\"],[0.6666666666666666,\"#ed7953\"],[0.7777777777777778,\"#fb9f3a\"],[0.8888888888888888,\"#fdca26\"],[1.0,\"#f0f921\"]],\"type\":\"contour\"}],\"contourcarpet\":[{\"colorbar\":{\"outlinewidth\":0,\"ticks\":\"\"},\"type\":\"contourcarpet\"}],\"heatmap\":[{\"colorbar\":{\"outlinewidth\":0,\"ticks\":\"\"},\"colorscale\":[[0.0,\"#0d0887\"],[0.1111111111111111,\"#46039f\"],[0.2222222222222222,\"#7201a8\"],[0.3333333333333333,\"#9c179e\"],[0.4444444444444444,\"#bd3786\"],[0.5555555555555556,\"#d8576b\"],[0.6666666666666666,\"#ed7953\"],[0.7777777777777778,\"#fb9f3a\"],[0.8888888888888888,\"#fdca26\"],[1.0,\"#f0f921\"]],\"type\":\"heatmap\"}],\"heatmapgl\":[{\"colorbar\":{\"outlinewidth\":0,\"ticks\":\"\"},\"colorscale\":[[0.0,\"#0d0887\"],[0.1111111111111111,\"#46039f\"],[0.2222222222222222,\"#7201a8\"],[0.3333333333333333,\"#9c179e\"],[0.4444444444444444,\"#bd3786\"],[0.5555555555555556,\"#d8576b\"],[0.6666666666666666,\"#ed7953\"],[0.7777777777777778,\"#fb9f3a\"],[0.8888888888888888,\"#fdca26\"],[1.0,\"#f0f921\"]],\"type\":\"heatmapgl\"}],\"histogram\":[{\"marker\":{\"pattern\":{\"fillmode\":\"overlay\",\"size\":10,\"solidity\":0.2}},\"type\":\"histogram\"}],\"histogram2d\":[{\"colorbar\":{\"outlinewidth\":0,\"ticks\":\"\"},\"colorscale\":[[0.0,\"#0d0887\"],[0.1111111111111111,\"#46039f\"],[0.2222222222222222,\"#7201a8\"],[0.3333333333333333,\"#9c179e\"],[0.4444444444444444,\"#bd3786\"],[0.5555555555555556,\"#d8576b\"],[0.6666666666666666,\"#ed7953\"],[0.7777777777777778,\"#fb9f3a\"],[0.8888888888888888,\"#fdca26\"],[1.0,\"#f0f921\"]],\"type\":\"histogram2d\"}],\"histogram2dcontour\":[{\"colorbar\":{\"outlinewidth\":0,\"ticks\":\"\"},\"colorscale\":[[0.0,\"#0d0887\"],[0.1111111111111111,\"#46039f\"],[0.2222222222222222,\"#7201a8\"],[0.3333333333333333,\"#9c179e\"],[0.4444444444444444,\"#bd3786\"],[0.5555555555555556,\"#d8576b\"],[0.6666666666666666,\"#ed7953\"],[0.7777777777777778,\"#fb9f3a\"],[0.8888888888888888,\"#fdca26\"],[1.0,\"#f0f921\"]],\"type\":\"histogram2dcontour\"}],\"mesh3d\":[{\"colorbar\":{\"outlinewidth\":0,\"ticks\":\"\"},\"type\":\"mesh3d\"}],\"parcoords\":[{\"line\":{\"colorbar\":{\"outlinewidth\":0,\"ticks\":\"\"}},\"type\":\"parcoords\"}],\"pie\":[{\"automargin\":true,\"type\":\"pie\"}],\"scatter\":[{\"marker\":{\"colorbar\":{\"outlinewidth\":0,\"ticks\":\"\"}},\"type\":\"scatter\"}],\"scatter3d\":[{\"line\":{\"colorbar\":{\"outlinewidth\":0,\"ticks\":\"\"}},\"marker\":{\"colorbar\":{\"outlinewidth\":0,\"ticks\":\"\"}},\"type\":\"scatter3d\"}],\"scattercarpet\":[{\"marker\":{\"colorbar\":{\"outlinewidth\":0,\"ticks\":\"\"}},\"type\":\"scattercarpet\"}],\"scattergeo\":[{\"marker\":{\"colorbar\":{\"outlinewidth\":0,\"ticks\":\"\"}},\"type\":\"scattergeo\"}],\"scattergl\":[{\"marker\":{\"colorbar\":{\"outlinewidth\":0,\"ticks\":\"\"}},\"type\":\"scattergl\"}],\"scattermapbox\":[{\"marker\":{\"colorbar\":{\"outlinewidth\":0,\"ticks\":\"\"}},\"type\":\"scattermapbox\"}],\"scatterpolar\":[{\"marker\":{\"colorbar\":{\"outlinewidth\":0,\"ticks\":\"\"}},\"type\":\"scatterpolar\"}],\"scatterpolargl\":[{\"marker\":{\"colorbar\":{\"outlinewidth\":0,\"ticks\":\"\"}},\"type\":\"scatterpolargl\"}],\"scatterternary\":[{\"marker\":{\"colorbar\":{\"outlinewidth\":0,\"ticks\":\"\"}},\"type\":\"scatterternary\"}],\"surface\":[{\"colorbar\":{\"outlinewidth\":0,\"ticks\":\"\"},\"colorscale\":[[0.0,\"#0d0887\"],[0.1111111111111111,\"#46039f\"],[0.2222222222222222,\"#7201a8\"],[0.3333333333333333,\"#9c179e\"],[0.4444444444444444,\"#bd3786\"],[0.5555555555555556,\"#d8576b\"],[0.6666666666666666,\"#ed7953\"],[0.7777777777777778,\"#fb9f3a\"],[0.8888888888888888,\"#fdca26\"],[1.0,\"#f0f921\"]],\"type\":\"surface\"}],\"table\":[{\"cells\":{\"fill\":{\"color\":\"#EBF0F8\"},\"line\":{\"color\":\"white\"}},\"header\":{\"fill\":{\"color\":\"#C8D4E3\"},\"line\":{\"color\":\"white\"}},\"type\":\"table\"}]},\"layout\":{\"annotationdefaults\":{\"arrowcolor\":\"#2a3f5f\",\"arrowhead\":0,\"arrowwidth\":1},\"autotypenumbers\":\"strict\",\"coloraxis\":{\"colorbar\":{\"outlinewidth\":0,\"ticks\":\"\"}},\"colorscale\":{\"diverging\":[[0,\"#8e0152\"],[0.1,\"#c51b7d\"],[0.2,\"#de77ae\"],[0.3,\"#f1b6da\"],[0.4,\"#fde0ef\"],[0.5,\"#f7f7f7\"],[0.6,\"#e6f5d0\"],[0.7,\"#b8e186\"],[0.8,\"#7fbc41\"],[0.9,\"#4d9221\"],[1,\"#276419\"]],\"sequential\":[[0.0,\"#0d0887\"],[0.1111111111111111,\"#46039f\"],[0.2222222222222222,\"#7201a8\"],[0.3333333333333333,\"#9c179e\"],[0.4444444444444444,\"#bd3786\"],[0.5555555555555556,\"#d8576b\"],[0.6666666666666666,\"#ed7953\"],[0.7777777777777778,\"#fb9f3a\"],[0.8888888888888888,\"#fdca26\"],[1.0,\"#f0f921\"]],\"sequentialminus\":[[0.0,\"#0d0887\"],[0.1111111111111111,\"#46039f\"],[0.2222222222222222,\"#7201a8\"],[0.3333333333333333,\"#9c179e\"],[0.4444444444444444,\"#bd3786\"],[0.5555555555555556,\"#d8576b\"],[0.6666666666666666,\"#ed7953\"],[0.7777777777777778,\"#fb9f3a\"],[0.8888888888888888,\"#fdca26\"],[1.0,\"#f0f921\"]]},\"colorway\":[\"#636efa\",\"#EF553B\",\"#00cc96\",\"#ab63fa\",\"#FFA15A\",\"#19d3f3\",\"#FF6692\",\"#B6E880\",\"#FF97FF\",\"#FECB52\"],\"font\":{\"color\":\"#2a3f5f\"},\"geo\":{\"bgcolor\":\"white\",\"lakecolor\":\"white\",\"landcolor\":\"#E5ECF6\",\"showlakes\":true,\"showland\":true,\"subunitcolor\":\"white\"},\"hoverlabel\":{\"align\":\"left\"},\"hovermode\":\"closest\",\"mapbox\":{\"style\":\"light\"},\"paper_bgcolor\":\"white\",\"plot_bgcolor\":\"#E5ECF6\",\"polar\":{\"angularaxis\":{\"gridcolor\":\"white\",\"linecolor\":\"white\",\"ticks\":\"\"},\"bgcolor\":\"#E5ECF6\",\"radialaxis\":{\"gridcolor\":\"white\",\"linecolor\":\"white\",\"ticks\":\"\"}},\"scene\":{\"xaxis\":{\"backgroundcolor\":\"#E5ECF6\",\"gridcolor\":\"white\",\"gridwidth\":2,\"linecolor\":\"white\",\"showbackground\":true,\"ticks\":\"\",\"zerolinecolor\":\"white\"},\"yaxis\":{\"backgroundcolor\":\"#E5ECF6\",\"gridcolor\":\"white\",\"gridwidth\":2,\"linecolor\":\"white\",\"showbackground\":true,\"ticks\":\"\",\"zerolinecolor\":\"white\"},\"zaxis\":{\"backgroundcolor\":\"#E5ECF6\",\"gridcolor\":\"white\",\"gridwidth\":2,\"linecolor\":\"white\",\"showbackground\":true,\"ticks\":\"\",\"zerolinecolor\":\"white\"}},\"shapedefaults\":{\"line\":{\"color\":\"#2a3f5f\"}},\"ternary\":{\"aaxis\":{\"gridcolor\":\"white\",\"linecolor\":\"white\",\"ticks\":\"\"},\"baxis\":{\"gridcolor\":\"white\",\"linecolor\":\"white\",\"ticks\":\"\"},\"bgcolor\":\"#E5ECF6\",\"caxis\":{\"gridcolor\":\"white\",\"linecolor\":\"white\",\"ticks\":\"\"}},\"title\":{\"x\":0.05},\"xaxis\":{\"automargin\":true,\"gridcolor\":\"white\",\"linecolor\":\"white\",\"ticks\":\"\",\"title\":{\"standoff\":15},\"zerolinecolor\":\"white\",\"zerolinewidth\":2},\"yaxis\":{\"automargin\":true,\"gridcolor\":\"white\",\"linecolor\":\"white\",\"ticks\":\"\",\"title\":{\"standoff\":15},\"zerolinecolor\":\"white\",\"zerolinewidth\":2}}},\"xaxis\":{\"title\":{\"text\":\"inq_last_6mths\"}},\"yaxis\":{\"title\":{\"text\":\"value\"}}},                        {\"responsive\": true}                    ).then(function(){\n",
              "                            \n",
              "var gd = document.getElementById('e36282e9-0378-45ba-96b9-95bf9cbd9aeb');\n",
              "var x = new MutationObserver(function (mutations, observer) {{\n",
              "        var display = window.getComputedStyle(gd).display;\n",
              "        if (!display || display === 'none') {{\n",
              "            console.log([gd, 'removed!']);\n",
              "            Plotly.purge(gd);\n",
              "            observer.disconnect();\n",
              "        }}\n",
              "}});\n",
              "\n",
              "// Listen for the removal of the full notebook cells\n",
              "var notebookContainer = gd.closest('#notebook-container');\n",
              "if (notebookContainer) {{\n",
              "    x.observe(notebookContainer, {childList: true});\n",
              "}}\n",
              "\n",
              "// Listen for the clearing of the current output cell\n",
              "var outputEl = gd.closest('.output');\n",
              "if (outputEl) {{\n",
              "    x.observe(outputEl, {childList: true});\n",
              "}}\n",
              "\n",
              "                        })                };                            </script>        </div>\n",
              "</body>\n",
              "</html>"
            ]
          },
          "metadata": {}
        }
      ]
    },
    {
      "cell_type": "code",
      "source": [
        "testing['mths_since_last_delinq'].plot.box()"
      ],
      "metadata": {
        "colab": {
          "base_uri": "https://localhost:8080/",
          "height": 542
        },
        "id": "mPTPriC7gRHQ",
        "outputId": "17fa8b39-9e55-41a2-fcbb-6f333d6852d9"
      },
      "execution_count": null,
      "outputs": [
        {
          "output_type": "display_data",
          "data": {
            "text/html": [
              "<html>\n",
              "<head><meta charset=\"utf-8\" /></head>\n",
              "<body>\n",
              "    <div>            <script src=\"https://cdnjs.cloudflare.com/ajax/libs/mathjax/2.7.5/MathJax.js?config=TeX-AMS-MML_SVG\"></script><script type=\"text/javascript\">if (window.MathJax) {MathJax.Hub.Config({SVG: {font: \"STIX-Web\"}});}</script>                <script type=\"text/javascript\">window.PlotlyConfig = {MathJaxConfig: 'local'};</script>\n",
              "        <script src=\"https://cdn.plot.ly/plotly-2.8.3.min.js\"></script>                <div id=\"16da46a5-7131-4fae-9efb-89088712f241\" class=\"plotly-graph-div\" style=\"height:525px; width:100%;\"></div>            <script type=\"text/javascript\">                                    window.PLOTLYENV=window.PLOTLYENV || {};                                    if (document.getElementById(\"16da46a5-7131-4fae-9efb-89088712f241\")) {                    Plotly.newPlot(                        \"16da46a5-7131-4fae-9efb-89088712f241\",                        [{\"boxpoints\":\"suspectedoutliers\",\"lowerfence\":[31.0],\"mean\":[32.53178582822179],\"median\":[31.0],\"name\":\"mths_since_last_delinq\",\"notched\":false,\"q1\":[31.0],\"q3\":[31.0],\"upperfence\":[31.0],\"y\":[[32.0,32.0,32.0,32.0,32.0,30.0,32.0,30.0,32.0,32.0,30.0,32.0,32.0,30.0,30.0,30.0,30.0,30.0,30.0,32.0,32.0,30.0,32.0,30.0,30.0,30.0,30.0,30.0,30.0,30.0,30.0,32.0,30.0,30.0,32.0,32.0,32.0,32.0,32.0,32.0,32.0,30.0,30.0,32.0,32.0,30.0,30.0,32.0,30.0,32.0,32.0,32.0,30.0,30.0,32.0,30.0,30.0,32.0,32.0,32.0,30.0,30.0,30.0,30.0,30.0,30.0,30.0,32.0,32.0,30.0,30.0,30.0,32.0,32.0,32.0,30.0,32.0,30.0,32.0,30.0,30.0,32.0,32.0,30.0,32.0,30.0,30.0,32.0,32.0,32.0,30.0,32.0,30.0,30.0,32.0,32.0,32.0,32.0,32.0,32.0,32.0,30.0,32.0,32.0,32.0,30.0,32.0,32.0,30.0,30.0,30.0,32.0,32.0,32.0,32.0,30.0,32.0,30.0,32.0,30.0,32.0,32.0,30.0,30.0,30.0,30.0,32.0,32.0,30.0,30.0,32.0,32.0,32.0,30.0,30.0,30.0,32.0,30.0,32.0,30.0,30.0,30.0,32.0,32.0,32.0,32.0,30.0,30.0,32.0,32.0,32.0,32.0,30.0,32.0,30.0,32.0,32.0,30.0,32.0,30.0,30.0,32.0,30.0,30.0,32.0,30.0,30.0,30.0,30.0,32.0,32.0,32.0,32.0,32.0,30.0,32.0,32.0,32.0,30.0,32.0,32.0,30.0,32.0,32.0,32.0,32.0,30.0,30.0,32.0,32.0,30.0,32.0,32.0,32.0,32.0,32.0,30.0,30.0,32.0,32.0,32.0,32.0,30.0,32.0,30.0,32.0,30.0,32.0,32.0,30.0,30.0,30.0,30.0,30.0,30.0,32.0,32.0,32.0,30.0,30.0,30.0,30.0,30.0,32.0,30.0,32.0,30.0,32.0,32.0,30.0,30.0,32.0,32.0,32.0,32.0,32.0,32.0,30.0,32.0,30.0,32.0,32.0,30.0,32.0,32.0,32.0,32.0,32.0,30.0,32.0,30.0,30.0,32.0,32.0,30.0,32.0,32.0,32.0,30.0,32.0,30.0,30.0,32.0,32.0,30.0,30.0,32.0,32.0,32.0,30.0,32.0,30.0,30.0,30.0,32.0,32.0,32.0,30.0,32.0,32.0,32.0,32.0,32.0,32.0,32.0,30.0,32.0,32.0,30.0,32.0,32.0,30.0,32.0,32.0,30.0,30.0,30.0,32.0,32.0,32.0,32.0,32.0,32.0,30.0,30.0,30.0,32.0,30.0,32.0,32.0,32.0,30.0,32.0,30.0,32.0,32.0,32.0,32.0,32.0,32.0,30.0,30.0,32.0,32.0,32.0,32.0,30.0,32.0,30.0,32.0,32.0,32.0,30.0,30.0,32.0,30.0,32.0,30.0,32.0,32.0,30.0,30.0,32.0,32.0,30.0,30.0,30.0,32.0,32.0,32.0,32.0,30.0,30.0,30.0,32.0,30.0,32.0,32.0,30.0,32.0,30.0,30.0,30.0,30.0,32.0,32.0,32.0,30.0,32.0,32.0,32.0,32.0,32.0,30.0,30.0,32.0,32.0,32.0,32.0,30.0,30.0,32.0,32.0,32.0,30.0,30.0,30.0,32.0,30.0,32.0,32.0,30.0,32.0,30.0,32.0,30.0,30.0,30.0,32.0,32.0,30.0,32.0,30.0,32.0,30.0,30.0,32.0,32.0,32.0,32.0,30.0,30.0,30.0,30.0,30.0,30.0,32.0,32.0,30.0,32.0,30.0,32.0,32.0,32.0,32.0,30.0,30.0,32.0,32.0,30.0,32.0,32.0,32.0,30.0,30.0,30.0,30.0,30.0,32.0,30.0,32.0,30.0,32.0,30.0,30.0,32.0,30.0,30.0,30.0,30.0,32.0,32.0,32.0,30.0,32.0,32.0,32.0,32.0,30.0,32.0,32.0,32.0,30.0,30.0,32.0,30.0,32.0,32.0,30.0,32.0,30.0,30.0,30.0,30.0,30.0,30.0,32.0,30.0,32.0,32.0,30.0,32.0,32.0,32.0,32.0,30.0,32.0,30.0,30.0,32.0,32.0,30.0,32.0,30.0,30.0,30.0,30.0,32.0,32.0,30.0,30.0,30.0,32.0,32.0,32.0,32.0,32.0,30.0,30.0,32.0,30.0,32.0,30.0,30.0,32.0,32.0,32.0,30.0,32.0,32.0,30.0,30.0,32.0,30.0,30.0,30.0,32.0,30.0,30.0,30.0,30.0,30.0,30.0,32.0,30.0,32.0,30.0,30.0,32.0,32.0,30.0,30.0,32.0,30.0,32.0,32.0,30.0,30.0,32.0,30.0,30.0,30.0,32.0,32.0,30.0,32.0,32.0,32.0,32.0,30.0,32.0,32.0,32.0,30.0,30.0,32.0,32.0,32.0,30.0,30.0,32.0,30.0,30.0,30.0,32.0,30.0,30.0,32.0,32.0,30.0,32.0,30.0,32.0,32.0,30.0,30.0,30.0,30.0,32.0,30.0,30.0,32.0,32.0,30.0,30.0,32.0,32.0,32.0,30.0,30.0,30.0,32.0,32.0,30.0,32.0,30.0,32.0,32.0,30.0,30.0,30.0,30.0,30.0,32.0,30.0,30.0,32.0,32.0,32.0,32.0,30.0,30.0,30.0,32.0,30.0,32.0,32.0,32.0,30.0,32.0,32.0,30.0,32.0,30.0,32.0,30.0,32.0,32.0,30.0,32.0,30.0,30.0,32.0,30.0,30.0,30.0,30.0,32.0,30.0,30.0,32.0,32.0,30.0,32.0,30.0,30.0,32.0,32.0,30.0,30.0,32.0,30.0,32.0,30.0,32.0,32.0,30.0,30.0,32.0,32.0,30.0,32.0,30.0,32.0,30.0,30.0,30.0,30.0,30.0,30.0,30.0,32.0,32.0,30.0,30.0,30.0,32.0,32.0,30.0,30.0,30.0,30.0,30.0,32.0,30.0,30.0,32.0,30.0,30.0,30.0,30.0,30.0,32.0,30.0,30.0,32.0,30.0,32.0,32.0,32.0,30.0,30.0,30.0,30.0,30.0,30.0,30.0,30.0,30.0,30.0,32.0,32.0,32.0,32.0,32.0,30.0,30.0,30.0,30.0,32.0,30.0,30.0,32.0,30.0,32.0,30.0,30.0,30.0,32.0,32.0,32.0,30.0,32.0,30.0,30.0,32.0,30.0,30.0,32.0,30.0,32.0,32.0,32.0,30.0,32.0,32.0,30.0,32.0,30.0,30.0,30.0,32.0,30.0,30.0,32.0,30.0,32.0,32.0,32.0,32.0,30.0,32.0,30.0,30.0,32.0,30.0,30.0,32.0,30.0,30.0,30.0,32.0,32.0,30.0,32.0,30.0,32.0,30.0,30.0,32.0,30.0,32.0,32.0,30.0,30.0,32.0,32.0,32.0,30.0,30.0,32.0,30.0,30.0,30.0,32.0,32.0,30.0,30.0,30.0,32.0,30.0,32.0,32.0,32.0,32.0,32.0,32.0,32.0,30.0,32.0,32.0,32.0,32.0,30.0,30.0,30.0,32.0,30.0,32.0,32.0,30.0,30.0,32.0,32.0,30.0,32.0,32.0,32.0,32.0,30.0,32.0,30.0,30.0,32.0,30.0,30.0,30.0,30.0,32.0,30.0,30.0,30.0,32.0,32.0,32.0,32.0,32.0,30.0,30.0,30.0,30.0,30.0,30.0,30.0,30.0,30.0,32.0,32.0,32.0,30.0,32.0,32.0,30.0,32.0,32.0,30.0,30.0,32.0,32.0,32.0,32.0,32.0,32.0,32.0,30.0,30.0,32.0,30.0,32.0,32.0,32.0,30.0,32.0,30.0,32.0,32.0,32.0,30.0,32.0,30.0,30.0,30.0,30.0,32.0,30.0,32.0,30.0,30.0,30.0,32.0,32.0,30.0,30.0,30.0,30.0,32.0,32.0,30.0,32.0,32.0,30.0,30.0,32.0,32.0,32.0,32.0,30.0,32.0,32.0,32.0,32.0,32.0,32.0,32.0,32.0,32.0,30.0,32.0,30.0,30.0,32.0,30.0,30.0,32.0,30.0,30.0,32.0,30.0,32.0,30.0,32.0,32.0,32.0,30.0,32.0,32.0,30.0,32.0,32.0,30.0,30.0,32.0,32.0,30.0,30.0,32.0,30.0,30.0,32.0,32.0,32.0,32.0,30.0,32.0,32.0,32.0,32.0,30.0,30.0,30.0,32.0,32.0,30.0,32.0,30.0,32.0,32.0,30.0,30.0,30.0,30.0,30.0,32.0,30.0,32.0,32.0,30.0,30.0,32.0,30.0,32.0]],\"type\":\"box\"}],                        {\"template\":{\"data\":{\"bar\":[{\"error_x\":{\"color\":\"#2a3f5f\"},\"error_y\":{\"color\":\"#2a3f5f\"},\"marker\":{\"line\":{\"color\":\"#E5ECF6\",\"width\":0.5},\"pattern\":{\"fillmode\":\"overlay\",\"size\":10,\"solidity\":0.2}},\"type\":\"bar\"}],\"barpolar\":[{\"marker\":{\"line\":{\"color\":\"#E5ECF6\",\"width\":0.5},\"pattern\":{\"fillmode\":\"overlay\",\"size\":10,\"solidity\":0.2}},\"type\":\"barpolar\"}],\"carpet\":[{\"aaxis\":{\"endlinecolor\":\"#2a3f5f\",\"gridcolor\":\"white\",\"linecolor\":\"white\",\"minorgridcolor\":\"white\",\"startlinecolor\":\"#2a3f5f\"},\"baxis\":{\"endlinecolor\":\"#2a3f5f\",\"gridcolor\":\"white\",\"linecolor\":\"white\",\"minorgridcolor\":\"white\",\"startlinecolor\":\"#2a3f5f\"},\"type\":\"carpet\"}],\"choropleth\":[{\"colorbar\":{\"outlinewidth\":0,\"ticks\":\"\"},\"type\":\"choropleth\"}],\"contour\":[{\"colorbar\":{\"outlinewidth\":0,\"ticks\":\"\"},\"colorscale\":[[0.0,\"#0d0887\"],[0.1111111111111111,\"#46039f\"],[0.2222222222222222,\"#7201a8\"],[0.3333333333333333,\"#9c179e\"],[0.4444444444444444,\"#bd3786\"],[0.5555555555555556,\"#d8576b\"],[0.6666666666666666,\"#ed7953\"],[0.7777777777777778,\"#fb9f3a\"],[0.8888888888888888,\"#fdca26\"],[1.0,\"#f0f921\"]],\"type\":\"contour\"}],\"contourcarpet\":[{\"colorbar\":{\"outlinewidth\":0,\"ticks\":\"\"},\"type\":\"contourcarpet\"}],\"heatmap\":[{\"colorbar\":{\"outlinewidth\":0,\"ticks\":\"\"},\"colorscale\":[[0.0,\"#0d0887\"],[0.1111111111111111,\"#46039f\"],[0.2222222222222222,\"#7201a8\"],[0.3333333333333333,\"#9c179e\"],[0.4444444444444444,\"#bd3786\"],[0.5555555555555556,\"#d8576b\"],[0.6666666666666666,\"#ed7953\"],[0.7777777777777778,\"#fb9f3a\"],[0.8888888888888888,\"#fdca26\"],[1.0,\"#f0f921\"]],\"type\":\"heatmap\"}],\"heatmapgl\":[{\"colorbar\":{\"outlinewidth\":0,\"ticks\":\"\"},\"colorscale\":[[0.0,\"#0d0887\"],[0.1111111111111111,\"#46039f\"],[0.2222222222222222,\"#7201a8\"],[0.3333333333333333,\"#9c179e\"],[0.4444444444444444,\"#bd3786\"],[0.5555555555555556,\"#d8576b\"],[0.6666666666666666,\"#ed7953\"],[0.7777777777777778,\"#fb9f3a\"],[0.8888888888888888,\"#fdca26\"],[1.0,\"#f0f921\"]],\"type\":\"heatmapgl\"}],\"histogram\":[{\"marker\":{\"pattern\":{\"fillmode\":\"overlay\",\"size\":10,\"solidity\":0.2}},\"type\":\"histogram\"}],\"histogram2d\":[{\"colorbar\":{\"outlinewidth\":0,\"ticks\":\"\"},\"colorscale\":[[0.0,\"#0d0887\"],[0.1111111111111111,\"#46039f\"],[0.2222222222222222,\"#7201a8\"],[0.3333333333333333,\"#9c179e\"],[0.4444444444444444,\"#bd3786\"],[0.5555555555555556,\"#d8576b\"],[0.6666666666666666,\"#ed7953\"],[0.7777777777777778,\"#fb9f3a\"],[0.8888888888888888,\"#fdca26\"],[1.0,\"#f0f921\"]],\"type\":\"histogram2d\"}],\"histogram2dcontour\":[{\"colorbar\":{\"outlinewidth\":0,\"ticks\":\"\"},\"colorscale\":[[0.0,\"#0d0887\"],[0.1111111111111111,\"#46039f\"],[0.2222222222222222,\"#7201a8\"],[0.3333333333333333,\"#9c179e\"],[0.4444444444444444,\"#bd3786\"],[0.5555555555555556,\"#d8576b\"],[0.6666666666666666,\"#ed7953\"],[0.7777777777777778,\"#fb9f3a\"],[0.8888888888888888,\"#fdca26\"],[1.0,\"#f0f921\"]],\"type\":\"histogram2dcontour\"}],\"mesh3d\":[{\"colorbar\":{\"outlinewidth\":0,\"ticks\":\"\"},\"type\":\"mesh3d\"}],\"parcoords\":[{\"line\":{\"colorbar\":{\"outlinewidth\":0,\"ticks\":\"\"}},\"type\":\"parcoords\"}],\"pie\":[{\"automargin\":true,\"type\":\"pie\"}],\"scatter\":[{\"marker\":{\"colorbar\":{\"outlinewidth\":0,\"ticks\":\"\"}},\"type\":\"scatter\"}],\"scatter3d\":[{\"line\":{\"colorbar\":{\"outlinewidth\":0,\"ticks\":\"\"}},\"marker\":{\"colorbar\":{\"outlinewidth\":0,\"ticks\":\"\"}},\"type\":\"scatter3d\"}],\"scattercarpet\":[{\"marker\":{\"colorbar\":{\"outlinewidth\":0,\"ticks\":\"\"}},\"type\":\"scattercarpet\"}],\"scattergeo\":[{\"marker\":{\"colorbar\":{\"outlinewidth\":0,\"ticks\":\"\"}},\"type\":\"scattergeo\"}],\"scattergl\":[{\"marker\":{\"colorbar\":{\"outlinewidth\":0,\"ticks\":\"\"}},\"type\":\"scattergl\"}],\"scattermapbox\":[{\"marker\":{\"colorbar\":{\"outlinewidth\":0,\"ticks\":\"\"}},\"type\":\"scattermapbox\"}],\"scatterpolar\":[{\"marker\":{\"colorbar\":{\"outlinewidth\":0,\"ticks\":\"\"}},\"type\":\"scatterpolar\"}],\"scatterpolargl\":[{\"marker\":{\"colorbar\":{\"outlinewidth\":0,\"ticks\":\"\"}},\"type\":\"scatterpolargl\"}],\"scatterternary\":[{\"marker\":{\"colorbar\":{\"outlinewidth\":0,\"ticks\":\"\"}},\"type\":\"scatterternary\"}],\"surface\":[{\"colorbar\":{\"outlinewidth\":0,\"ticks\":\"\"},\"colorscale\":[[0.0,\"#0d0887\"],[0.1111111111111111,\"#46039f\"],[0.2222222222222222,\"#7201a8\"],[0.3333333333333333,\"#9c179e\"],[0.4444444444444444,\"#bd3786\"],[0.5555555555555556,\"#d8576b\"],[0.6666666666666666,\"#ed7953\"],[0.7777777777777778,\"#fb9f3a\"],[0.8888888888888888,\"#fdca26\"],[1.0,\"#f0f921\"]],\"type\":\"surface\"}],\"table\":[{\"cells\":{\"fill\":{\"color\":\"#EBF0F8\"},\"line\":{\"color\":\"white\"}},\"header\":{\"fill\":{\"color\":\"#C8D4E3\"},\"line\":{\"color\":\"white\"}},\"type\":\"table\"}]},\"layout\":{\"annotationdefaults\":{\"arrowcolor\":\"#2a3f5f\",\"arrowhead\":0,\"arrowwidth\":1},\"autotypenumbers\":\"strict\",\"coloraxis\":{\"colorbar\":{\"outlinewidth\":0,\"ticks\":\"\"}},\"colorscale\":{\"diverging\":[[0,\"#8e0152\"],[0.1,\"#c51b7d\"],[0.2,\"#de77ae\"],[0.3,\"#f1b6da\"],[0.4,\"#fde0ef\"],[0.5,\"#f7f7f7\"],[0.6,\"#e6f5d0\"],[0.7,\"#b8e186\"],[0.8,\"#7fbc41\"],[0.9,\"#4d9221\"],[1,\"#276419\"]],\"sequential\":[[0.0,\"#0d0887\"],[0.1111111111111111,\"#46039f\"],[0.2222222222222222,\"#7201a8\"],[0.3333333333333333,\"#9c179e\"],[0.4444444444444444,\"#bd3786\"],[0.5555555555555556,\"#d8576b\"],[0.6666666666666666,\"#ed7953\"],[0.7777777777777778,\"#fb9f3a\"],[0.8888888888888888,\"#fdca26\"],[1.0,\"#f0f921\"]],\"sequentialminus\":[[0.0,\"#0d0887\"],[0.1111111111111111,\"#46039f\"],[0.2222222222222222,\"#7201a8\"],[0.3333333333333333,\"#9c179e\"],[0.4444444444444444,\"#bd3786\"],[0.5555555555555556,\"#d8576b\"],[0.6666666666666666,\"#ed7953\"],[0.7777777777777778,\"#fb9f3a\"],[0.8888888888888888,\"#fdca26\"],[1.0,\"#f0f921\"]]},\"colorway\":[\"#636efa\",\"#EF553B\",\"#00cc96\",\"#ab63fa\",\"#FFA15A\",\"#19d3f3\",\"#FF6692\",\"#B6E880\",\"#FF97FF\",\"#FECB52\"],\"font\":{\"color\":\"#2a3f5f\"},\"geo\":{\"bgcolor\":\"white\",\"lakecolor\":\"white\",\"landcolor\":\"#E5ECF6\",\"showlakes\":true,\"showland\":true,\"subunitcolor\":\"white\"},\"hoverlabel\":{\"align\":\"left\"},\"hovermode\":\"closest\",\"mapbox\":{\"style\":\"light\"},\"paper_bgcolor\":\"white\",\"plot_bgcolor\":\"#E5ECF6\",\"polar\":{\"angularaxis\":{\"gridcolor\":\"white\",\"linecolor\":\"white\",\"ticks\":\"\"},\"bgcolor\":\"#E5ECF6\",\"radialaxis\":{\"gridcolor\":\"white\",\"linecolor\":\"white\",\"ticks\":\"\"}},\"scene\":{\"xaxis\":{\"backgroundcolor\":\"#E5ECF6\",\"gridcolor\":\"white\",\"gridwidth\":2,\"linecolor\":\"white\",\"showbackground\":true,\"ticks\":\"\",\"zerolinecolor\":\"white\"},\"yaxis\":{\"backgroundcolor\":\"#E5ECF6\",\"gridcolor\":\"white\",\"gridwidth\":2,\"linecolor\":\"white\",\"showbackground\":true,\"ticks\":\"\",\"zerolinecolor\":\"white\"},\"zaxis\":{\"backgroundcolor\":\"#E5ECF6\",\"gridcolor\":\"white\",\"gridwidth\":2,\"linecolor\":\"white\",\"showbackground\":true,\"ticks\":\"\",\"zerolinecolor\":\"white\"}},\"shapedefaults\":{\"line\":{\"color\":\"#2a3f5f\"}},\"ternary\":{\"aaxis\":{\"gridcolor\":\"white\",\"linecolor\":\"white\",\"ticks\":\"\"},\"baxis\":{\"gridcolor\":\"white\",\"linecolor\":\"white\",\"ticks\":\"\"},\"bgcolor\":\"#E5ECF6\",\"caxis\":{\"gridcolor\":\"white\",\"linecolor\":\"white\",\"ticks\":\"\"}},\"title\":{\"x\":0.05},\"xaxis\":{\"automargin\":true,\"gridcolor\":\"white\",\"linecolor\":\"white\",\"ticks\":\"\",\"title\":{\"standoff\":15},\"zerolinecolor\":\"white\",\"zerolinewidth\":2},\"yaxis\":{\"automargin\":true,\"gridcolor\":\"white\",\"linecolor\":\"white\",\"ticks\":\"\",\"title\":{\"standoff\":15},\"zerolinecolor\":\"white\",\"zerolinewidth\":2}}},\"xaxis\":{\"title\":{\"text\":\"mths_since_last_delinq\"}},\"yaxis\":{\"title\":{\"text\":\"value\"}}},                        {\"responsive\": true}                    ).then(function(){\n",
              "                            \n",
              "var gd = document.getElementById('16da46a5-7131-4fae-9efb-89088712f241');\n",
              "var x = new MutationObserver(function (mutations, observer) {{\n",
              "        var display = window.getComputedStyle(gd).display;\n",
              "        if (!display || display === 'none') {{\n",
              "            console.log([gd, 'removed!']);\n",
              "            Plotly.purge(gd);\n",
              "            observer.disconnect();\n",
              "        }}\n",
              "}});\n",
              "\n",
              "// Listen for the removal of the full notebook cells\n",
              "var notebookContainer = gd.closest('#notebook-container');\n",
              "if (notebookContainer) {{\n",
              "    x.observe(notebookContainer, {childList: true});\n",
              "}}\n",
              "\n",
              "// Listen for the clearing of the current output cell\n",
              "var outputEl = gd.closest('.output');\n",
              "if (outputEl) {{\n",
              "    x.observe(outputEl, {childList: true});\n",
              "}}\n",
              "\n",
              "                        })                };                            </script>        </div>\n",
              "</body>\n",
              "</html>"
            ]
          },
          "metadata": {}
        }
      ]
    },
    {
      "cell_type": "code",
      "source": [
        "testing['open_acc'].plot.box()"
      ],
      "metadata": {
        "colab": {
          "base_uri": "https://localhost:8080/",
          "height": 542
        },
        "id": "y0M7Hv63gW1J",
        "outputId": "34401ddc-774e-483d-a5d3-a1c9d8747087"
      },
      "execution_count": null,
      "outputs": [
        {
          "output_type": "display_data",
          "data": {
            "text/html": [
              "<html>\n",
              "<head><meta charset=\"utf-8\" /></head>\n",
              "<body>\n",
              "    <div>            <script src=\"https://cdnjs.cloudflare.com/ajax/libs/mathjax/2.7.5/MathJax.js?config=TeX-AMS-MML_SVG\"></script><script type=\"text/javascript\">if (window.MathJax) {MathJax.Hub.Config({SVG: {font: \"STIX-Web\"}});}</script>                <script type=\"text/javascript\">window.PlotlyConfig = {MathJaxConfig: 'local'};</script>\n",
              "        <script src=\"https://cdn.plot.ly/plotly-2.8.3.min.js\"></script>                <div id=\"65ab80aa-9572-4945-a998-788be0f8239b\" class=\"plotly-graph-div\" style=\"height:525px; width:100%;\"></div>            <script type=\"text/javascript\">                                    window.PLOTLYENV=window.PLOTLYENV || {};                                    if (document.getElementById(\"65ab80aa-9572-4945-a998-788be0f8239b\")) {                    Plotly.newPlot(                        \"65ab80aa-9572-4945-a998-788be0f8239b\",                        [{\"boxpoints\":\"suspectedoutliers\",\"lowerfence\":[0],\"mean\":[11.543075432694161],\"median\":[11],\"name\":\"open_acc\",\"notched\":false,\"q1\":[8],\"q3\":[14],\"upperfence\":[23],\"y\":[[24,24,24,24,24,24,24,24,24,24,24,24,24,24,24,24,24,24,24,24,24,24,24,24,24,24,24,24,24,24,24,24,24,24,24,24,24,24,24,24,24,24,24,24,24,24,24,24,24,24,24,24,24,24,24,24,24,24,24,24,24,24,24,24,24,24,24,24,24,24,24,24,24,24,24,24,24,24,24,24,24,24,24,24,24,24,24,24,24,24,24,24,24,24,24,24,24,24,24,24,24,24,24,24,24,24,24,24,24,24,24,24,24,24,24,24,24,24,24,24,24,24,24,24,24,24,24,24,24,24,24,24,24,24,24,24,24,24,24,24,24,24,24,24,24,24,24,24,24,24,24,24,24,24,24,24,24,24,24,24,24,24,24,24,24,24,24,24,24,24,24,24,24,24,24,24,24,24,24,24,24,24,24,24,24,24,24,24,24,24,24,24,24,24,24,24,24,24,24,24,24,24,24,24,24,24,24,24,24,24,24,24,24,24,24,24,24,24,24,24,24,24,24,24,24,24,24,24,24,24,24,24,24,24,24,24,24,24,24,24,24,24,24,24,24,24,24,24,24,24,24,24,24,24,24,24,24,24,24,24,24,24,24,24,24,24,24,24,24,24,24,24,24,24,24,24,24,24,24,24,24,24,24,24,24,24,24,24,24,24,24,24,24,24,24,24,24,24,24,24,24,24,24,24,24,24,24,24,24,24,24,24,24,24,24,24,24,24,24,24,24,24,24,24,24,24,24,24,24,24,24,24,24,24,24,24,24,24,24,24,24,24,24,24,24,24,24,24,24,24,24,24,24,24,24,24,24,24,24,24,24,24,24,24,24,24,24,24,24,24,24,24,24,24,24,24,24,24,24,24,24,24,24,24,24,24,24,24,24,24,24,24,24,24,24,24,24,24,24,24,24,24,24,24,24,24,24,24,24,24,24,24,24,24,24,24,24,24,24,24,24,24,24,24,24,24,24,24,24,24,24,24,24,24,24,24,24,24,24,24,24,24,24,24,24,24,24,24,24,24,24,24,24,24,24,24,24,24,24,24,24,24,24,24,24,24,24,24,24,24,24,24,24,24,24,24,24,24,24,24,24,24,24,24,24,24,24,24,24,24,24,24,24,24,24,24,24,24,24,24,24,24,24,24,24,24,24,24,24,24,24,24,24,24,24,24,24,24,24,24,24,24,24,24,24,24,24,24,24,24,24,24,24,24,24,24,24,24,24,24,24,24,24,24,24,24,24,24,24,24,24,24,24,24,24,24,24,24,24,24,24,24,24,24,24,24,24,24,24,24,24,24,24,24,24,24,24,24,24,24,24,24,24,24,24,24,24,24,24,24,24,24,24,24,24,24,24,24,24,24,24,24,24,24,24,24,24,24,24,24,24,24,24,24,24,24,24,24,24,24,24,24,24,24,24,24,24,24,24,24,24,24,24,24,24,24,24,24,24,24,24,24,24,24,24,24,24,24,24,24,24,24,24,24,24,24,24,24,24,24,24,24,24,24,24,24,24,24,24,24,24,24,24,24,24,24,24,24,24,24,24,24,24,24,24,24,24,24,24,24,24,24,24,24,24,24,24,24,24,24,24,24,24,24,24,24,24,24,24,24,24,24,24,24,24,24,24,24,24,24,24,24,24,24,24,24,24,24,24,24,24,24,24,24,24,24,24,24,24,24,24,24,24,24,24,24,24,24,24,24,24,24,24,24,24,24,24,24,24,24,24,24,24,24,24,24,24,24,24,24,24,24,24,24,24,24,24,24,24,24,24,24,24,24,24,24,24,24,24,24,24,24,24,24,24,24,24,24,24,24,24,24,24,24,24,24,24,24,24,24,24,24,24,24,24,24,24,24,24,24,24,24,24,24,24,24,24,24,24,24,24,24,24,24,24,24,24,24,24,24,24,24,24,24,24,24,24,24,24,24,24,24,24,24,24,24,24,24,24,24,24,24,24,24,24,24,24,24,24,24,24,24,24,24,24,24,24,24,24,24,24,24,24,24,24,24,24,24,24,24,24,24,24,24,24,24,24,24,24,24,24,24,24,24,24,24,24,24,24,24,24,24,24,24,24,24,24,24,24,24,24,24,24,24,24,24,24,24,24,24,24,24,24,24,24,24,24,24,24,24,24,24,24,24,24,24,24,24,24,24,24,24,24,24,24,24,24,24,24,24,24,24,24,24,24,24,24,24,24,24,24,24,24,24,24,24,24,24,24,24,24,24,24,24,24,24,24,24,24,24,24,24,24,24,24,24,24,24,24,24,24]],\"type\":\"box\"}],                        {\"template\":{\"data\":{\"bar\":[{\"error_x\":{\"color\":\"#2a3f5f\"},\"error_y\":{\"color\":\"#2a3f5f\"},\"marker\":{\"line\":{\"color\":\"#E5ECF6\",\"width\":0.5},\"pattern\":{\"fillmode\":\"overlay\",\"size\":10,\"solidity\":0.2}},\"type\":\"bar\"}],\"barpolar\":[{\"marker\":{\"line\":{\"color\":\"#E5ECF6\",\"width\":0.5},\"pattern\":{\"fillmode\":\"overlay\",\"size\":10,\"solidity\":0.2}},\"type\":\"barpolar\"}],\"carpet\":[{\"aaxis\":{\"endlinecolor\":\"#2a3f5f\",\"gridcolor\":\"white\",\"linecolor\":\"white\",\"minorgridcolor\":\"white\",\"startlinecolor\":\"#2a3f5f\"},\"baxis\":{\"endlinecolor\":\"#2a3f5f\",\"gridcolor\":\"white\",\"linecolor\":\"white\",\"minorgridcolor\":\"white\",\"startlinecolor\":\"#2a3f5f\"},\"type\":\"carpet\"}],\"choropleth\":[{\"colorbar\":{\"outlinewidth\":0,\"ticks\":\"\"},\"type\":\"choropleth\"}],\"contour\":[{\"colorbar\":{\"outlinewidth\":0,\"ticks\":\"\"},\"colorscale\":[[0.0,\"#0d0887\"],[0.1111111111111111,\"#46039f\"],[0.2222222222222222,\"#7201a8\"],[0.3333333333333333,\"#9c179e\"],[0.4444444444444444,\"#bd3786\"],[0.5555555555555556,\"#d8576b\"],[0.6666666666666666,\"#ed7953\"],[0.7777777777777778,\"#fb9f3a\"],[0.8888888888888888,\"#fdca26\"],[1.0,\"#f0f921\"]],\"type\":\"contour\"}],\"contourcarpet\":[{\"colorbar\":{\"outlinewidth\":0,\"ticks\":\"\"},\"type\":\"contourcarpet\"}],\"heatmap\":[{\"colorbar\":{\"outlinewidth\":0,\"ticks\":\"\"},\"colorscale\":[[0.0,\"#0d0887\"],[0.1111111111111111,\"#46039f\"],[0.2222222222222222,\"#7201a8\"],[0.3333333333333333,\"#9c179e\"],[0.4444444444444444,\"#bd3786\"],[0.5555555555555556,\"#d8576b\"],[0.6666666666666666,\"#ed7953\"],[0.7777777777777778,\"#fb9f3a\"],[0.8888888888888888,\"#fdca26\"],[1.0,\"#f0f921\"]],\"type\":\"heatmap\"}],\"heatmapgl\":[{\"colorbar\":{\"outlinewidth\":0,\"ticks\":\"\"},\"colorscale\":[[0.0,\"#0d0887\"],[0.1111111111111111,\"#46039f\"],[0.2222222222222222,\"#7201a8\"],[0.3333333333333333,\"#9c179e\"],[0.4444444444444444,\"#bd3786\"],[0.5555555555555556,\"#d8576b\"],[0.6666666666666666,\"#ed7953\"],[0.7777777777777778,\"#fb9f3a\"],[0.8888888888888888,\"#fdca26\"],[1.0,\"#f0f921\"]],\"type\":\"heatmapgl\"}],\"histogram\":[{\"marker\":{\"pattern\":{\"fillmode\":\"overlay\",\"size\":10,\"solidity\":0.2}},\"type\":\"histogram\"}],\"histogram2d\":[{\"colorbar\":{\"outlinewidth\":0,\"ticks\":\"\"},\"colorscale\":[[0.0,\"#0d0887\"],[0.1111111111111111,\"#46039f\"],[0.2222222222222222,\"#7201a8\"],[0.3333333333333333,\"#9c179e\"],[0.4444444444444444,\"#bd3786\"],[0.5555555555555556,\"#d8576b\"],[0.6666666666666666,\"#ed7953\"],[0.7777777777777778,\"#fb9f3a\"],[0.8888888888888888,\"#fdca26\"],[1.0,\"#f0f921\"]],\"type\":\"histogram2d\"}],\"histogram2dcontour\":[{\"colorbar\":{\"outlinewidth\":0,\"ticks\":\"\"},\"colorscale\":[[0.0,\"#0d0887\"],[0.1111111111111111,\"#46039f\"],[0.2222222222222222,\"#7201a8\"],[0.3333333333333333,\"#9c179e\"],[0.4444444444444444,\"#bd3786\"],[0.5555555555555556,\"#d8576b\"],[0.6666666666666666,\"#ed7953\"],[0.7777777777777778,\"#fb9f3a\"],[0.8888888888888888,\"#fdca26\"],[1.0,\"#f0f921\"]],\"type\":\"histogram2dcontour\"}],\"mesh3d\":[{\"colorbar\":{\"outlinewidth\":0,\"ticks\":\"\"},\"type\":\"mesh3d\"}],\"parcoords\":[{\"line\":{\"colorbar\":{\"outlinewidth\":0,\"ticks\":\"\"}},\"type\":\"parcoords\"}],\"pie\":[{\"automargin\":true,\"type\":\"pie\"}],\"scatter\":[{\"marker\":{\"colorbar\":{\"outlinewidth\":0,\"ticks\":\"\"}},\"type\":\"scatter\"}],\"scatter3d\":[{\"line\":{\"colorbar\":{\"outlinewidth\":0,\"ticks\":\"\"}},\"marker\":{\"colorbar\":{\"outlinewidth\":0,\"ticks\":\"\"}},\"type\":\"scatter3d\"}],\"scattercarpet\":[{\"marker\":{\"colorbar\":{\"outlinewidth\":0,\"ticks\":\"\"}},\"type\":\"scattercarpet\"}],\"scattergeo\":[{\"marker\":{\"colorbar\":{\"outlinewidth\":0,\"ticks\":\"\"}},\"type\":\"scattergeo\"}],\"scattergl\":[{\"marker\":{\"colorbar\":{\"outlinewidth\":0,\"ticks\":\"\"}},\"type\":\"scattergl\"}],\"scattermapbox\":[{\"marker\":{\"colorbar\":{\"outlinewidth\":0,\"ticks\":\"\"}},\"type\":\"scattermapbox\"}],\"scatterpolar\":[{\"marker\":{\"colorbar\":{\"outlinewidth\":0,\"ticks\":\"\"}},\"type\":\"scatterpolar\"}],\"scatterpolargl\":[{\"marker\":{\"colorbar\":{\"outlinewidth\":0,\"ticks\":\"\"}},\"type\":\"scatterpolargl\"}],\"scatterternary\":[{\"marker\":{\"colorbar\":{\"outlinewidth\":0,\"ticks\":\"\"}},\"type\":\"scatterternary\"}],\"surface\":[{\"colorbar\":{\"outlinewidth\":0,\"ticks\":\"\"},\"colorscale\":[[0.0,\"#0d0887\"],[0.1111111111111111,\"#46039f\"],[0.2222222222222222,\"#7201a8\"],[0.3333333333333333,\"#9c179e\"],[0.4444444444444444,\"#bd3786\"],[0.5555555555555556,\"#d8576b\"],[0.6666666666666666,\"#ed7953\"],[0.7777777777777778,\"#fb9f3a\"],[0.8888888888888888,\"#fdca26\"],[1.0,\"#f0f921\"]],\"type\":\"surface\"}],\"table\":[{\"cells\":{\"fill\":{\"color\":\"#EBF0F8\"},\"line\":{\"color\":\"white\"}},\"header\":{\"fill\":{\"color\":\"#C8D4E3\"},\"line\":{\"color\":\"white\"}},\"type\":\"table\"}]},\"layout\":{\"annotationdefaults\":{\"arrowcolor\":\"#2a3f5f\",\"arrowhead\":0,\"arrowwidth\":1},\"autotypenumbers\":\"strict\",\"coloraxis\":{\"colorbar\":{\"outlinewidth\":0,\"ticks\":\"\"}},\"colorscale\":{\"diverging\":[[0,\"#8e0152\"],[0.1,\"#c51b7d\"],[0.2,\"#de77ae\"],[0.3,\"#f1b6da\"],[0.4,\"#fde0ef\"],[0.5,\"#f7f7f7\"],[0.6,\"#e6f5d0\"],[0.7,\"#b8e186\"],[0.8,\"#7fbc41\"],[0.9,\"#4d9221\"],[1,\"#276419\"]],\"sequential\":[[0.0,\"#0d0887\"],[0.1111111111111111,\"#46039f\"],[0.2222222222222222,\"#7201a8\"],[0.3333333333333333,\"#9c179e\"],[0.4444444444444444,\"#bd3786\"],[0.5555555555555556,\"#d8576b\"],[0.6666666666666666,\"#ed7953\"],[0.7777777777777778,\"#fb9f3a\"],[0.8888888888888888,\"#fdca26\"],[1.0,\"#f0f921\"]],\"sequentialminus\":[[0.0,\"#0d0887\"],[0.1111111111111111,\"#46039f\"],[0.2222222222222222,\"#7201a8\"],[0.3333333333333333,\"#9c179e\"],[0.4444444444444444,\"#bd3786\"],[0.5555555555555556,\"#d8576b\"],[0.6666666666666666,\"#ed7953\"],[0.7777777777777778,\"#fb9f3a\"],[0.8888888888888888,\"#fdca26\"],[1.0,\"#f0f921\"]]},\"colorway\":[\"#636efa\",\"#EF553B\",\"#00cc96\",\"#ab63fa\",\"#FFA15A\",\"#19d3f3\",\"#FF6692\",\"#B6E880\",\"#FF97FF\",\"#FECB52\"],\"font\":{\"color\":\"#2a3f5f\"},\"geo\":{\"bgcolor\":\"white\",\"lakecolor\":\"white\",\"landcolor\":\"#E5ECF6\",\"showlakes\":true,\"showland\":true,\"subunitcolor\":\"white\"},\"hoverlabel\":{\"align\":\"left\"},\"hovermode\":\"closest\",\"mapbox\":{\"style\":\"light\"},\"paper_bgcolor\":\"white\",\"plot_bgcolor\":\"#E5ECF6\",\"polar\":{\"angularaxis\":{\"gridcolor\":\"white\",\"linecolor\":\"white\",\"ticks\":\"\"},\"bgcolor\":\"#E5ECF6\",\"radialaxis\":{\"gridcolor\":\"white\",\"linecolor\":\"white\",\"ticks\":\"\"}},\"scene\":{\"xaxis\":{\"backgroundcolor\":\"#E5ECF6\",\"gridcolor\":\"white\",\"gridwidth\":2,\"linecolor\":\"white\",\"showbackground\":true,\"ticks\":\"\",\"zerolinecolor\":\"white\"},\"yaxis\":{\"backgroundcolor\":\"#E5ECF6\",\"gridcolor\":\"white\",\"gridwidth\":2,\"linecolor\":\"white\",\"showbackground\":true,\"ticks\":\"\",\"zerolinecolor\":\"white\"},\"zaxis\":{\"backgroundcolor\":\"#E5ECF6\",\"gridcolor\":\"white\",\"gridwidth\":2,\"linecolor\":\"white\",\"showbackground\":true,\"ticks\":\"\",\"zerolinecolor\":\"white\"}},\"shapedefaults\":{\"line\":{\"color\":\"#2a3f5f\"}},\"ternary\":{\"aaxis\":{\"gridcolor\":\"white\",\"linecolor\":\"white\",\"ticks\":\"\"},\"baxis\":{\"gridcolor\":\"white\",\"linecolor\":\"white\",\"ticks\":\"\"},\"bgcolor\":\"#E5ECF6\",\"caxis\":{\"gridcolor\":\"white\",\"linecolor\":\"white\",\"ticks\":\"\"}},\"title\":{\"x\":0.05},\"xaxis\":{\"automargin\":true,\"gridcolor\":\"white\",\"linecolor\":\"white\",\"ticks\":\"\",\"title\":{\"standoff\":15},\"zerolinecolor\":\"white\",\"zerolinewidth\":2},\"yaxis\":{\"automargin\":true,\"gridcolor\":\"white\",\"linecolor\":\"white\",\"ticks\":\"\",\"title\":{\"standoff\":15},\"zerolinecolor\":\"white\",\"zerolinewidth\":2}}},\"xaxis\":{\"title\":{\"text\":\"open_acc\"}},\"yaxis\":{\"title\":{\"text\":\"value\"}}},                        {\"responsive\": true}                    ).then(function(){\n",
              "                            \n",
              "var gd = document.getElementById('65ab80aa-9572-4945-a998-788be0f8239b');\n",
              "var x = new MutationObserver(function (mutations, observer) {{\n",
              "        var display = window.getComputedStyle(gd).display;\n",
              "        if (!display || display === 'none') {{\n",
              "            console.log([gd, 'removed!']);\n",
              "            Plotly.purge(gd);\n",
              "            observer.disconnect();\n",
              "        }}\n",
              "}});\n",
              "\n",
              "// Listen for the removal of the full notebook cells\n",
              "var notebookContainer = gd.closest('#notebook-container');\n",
              "if (notebookContainer) {{\n",
              "    x.observe(notebookContainer, {childList: true});\n",
              "}}\n",
              "\n",
              "// Listen for the clearing of the current output cell\n",
              "var outputEl = gd.closest('.output');\n",
              "if (outputEl) {{\n",
              "    x.observe(outputEl, {childList: true});\n",
              "}}\n",
              "\n",
              "                        })                };                            </script>        </div>\n",
              "</body>\n",
              "</html>"
            ]
          },
          "metadata": {}
        }
      ]
    },
    {
      "cell_type": "code",
      "source": [
        "testing['pub_rec'].plot.box()"
      ],
      "metadata": {
        "colab": {
          "base_uri": "https://localhost:8080/",
          "height": 542
        },
        "id": "WzPNCfqWgfDt",
        "outputId": "86fc7943-bd7a-4f70-baa3-ef3aa340f924"
      },
      "execution_count": null,
      "outputs": [
        {
          "output_type": "display_data",
          "data": {
            "text/html": [
              "<html>\n",
              "<head><meta charset=\"utf-8\" /></head>\n",
              "<body>\n",
              "    <div>            <script src=\"https://cdnjs.cloudflare.com/ajax/libs/mathjax/2.7.5/MathJax.js?config=TeX-AMS-MML_SVG\"></script><script type=\"text/javascript\">if (window.MathJax) {MathJax.Hub.Config({SVG: {font: \"STIX-Web\"}});}</script>                <script type=\"text/javascript\">window.PlotlyConfig = {MathJaxConfig: 'local'};</script>\n",
              "        <script src=\"https://cdn.plot.ly/plotly-2.8.3.min.js\"></script>                <div id=\"3e82f1bd-9027-41a9-adf7-12b9d8ae66f3\" class=\"plotly-graph-div\" style=\"height:525px; width:100%;\"></div>            <script type=\"text/javascript\">                                    window.PLOTLYENV=window.PLOTLYENV || {};                                    if (document.getElementById(\"3e82f1bd-9027-41a9-adf7-12b9d8ae66f3\")) {                    Plotly.newPlot(                        \"3e82f1bd-9027-41a9-adf7-12b9d8ae66f3\",                        [{\"boxpoints\":\"suspectedoutliers\",\"lowerfence\":[0],\"mean\":[0.1945736044583479],\"median\":[0],\"name\":\"pub_rec\",\"notched\":false,\"q1\":[0],\"q3\":[0],\"upperfence\":[0],\"y\":[[1,1,1,1,1,1,1,1,1,1,1,1,1,1,1,1,1,1,1,1,1,1,1,1,1,1,1,1,1,1,1,1,1,1,1,1,1,1,1,1,1,1,1,1,1,1,1,1,1,1,1,1,1,1,1,1,1,1,1,1,1,1,1,1,1,1,1,1,1,1,1,1,1,1,1,1,1,1,1,1,1,1,1,1,1,1,1,1,1,1,1,1,1,1,1,1,1,1,1,1,1,1,1,1,1,1,1,1,1,1,1,1,1,1,1,1,1,1,1,1,1,1,1,1,1,1,1,1,1,1,1,1,1,1,1,1,1,1,1,1,1,1,1,1,1,1,1,1,1,1,1,1,1,1,1,1,1,1,1,1,1,1,1,1,1,1,1,1,1,1,1,1,1,1,1,1,1,1,1,1,1,1,1,1,1,1,1,1,1,1,1,1,1,1,1,1,1,1,1,1,1,1,1,1,1,1,1,1,1,1,1,1,1,1,1,1,1,1,1,1,1,1,1,1,1,1,1,1,1,1,1,1,1,1,1,1,1,1,1,1,1,1,1,1,1,1,1,1,1,1,1,1,1,1,1,1,1,1,1,1,1,1,1,1,1,1,1,1,1,1,1,1,1,1,1,1,1,1,1,1,1,1,1,1,1,1,1,1,1,1,1,1,1,1,1,1,1,1,1,1,1,1,1,1,1,1,1,1,1,1,1,1,1,1,1,1,1,1,1,1,1,1,1,1,1,1,1,1,1,1,1,1,1,1,1,1,1,1,1,1,1,1,1,1,1,1,1,1,1,1,1,1,1,1,1,1,1,1,1,1,1,1,1,1,1,1,1,1,1,1,1,1,1,1,1,1,1,1,1,1,1,1,1,1,1,1,1,1,1,1,1,1,1,1,1,1,1,1,1,1,1,1,1,1,1,1,1,1,1,1,1,1,1,1,1,1,1,1,1,1,1,1,1,1,1,1,1,1,1,1,1,1,1,1,1,1,1,1,1,1,1,1,1,1,1,1,1,1,1,1,1,1,1,1,1,1,1,1,1,1,1,1,1,1,1,1,1,1,1,1,1,1,1,1,1,1,1,1,1,1,1,1,1,1,1,1,1,1,1,1,1,1,1,1,1,1,1,1,1,1,1,1,1,1,1,1,1,1,1,1,1,1,1,1,1,1,1,1,1,1,1,1,1,1,1,1,1,1,1,1,1,1,1,1,1,1,1,1,1,1,1,1,1,1,1,1,1,1,1,1,1,1,1,1,1,1,1,1,1,1,1,1,1,1,1,1,1,1,1,1,1,1,1,1,1,1,1,1,1,1,1,1,1,1,1,1,1,1,1,1,1,1,1,1,1,1,1,1,1,1,1,1,1,1,1,1,1,1,1,1,1,1,1,1,1,1,1,1,1,1,1,1,1,1,1,1,1,1,1,1,1,1,1,1,1,1,1,1,1,1,1,1,1,1,1,1,1,1,1,1,1,1,1,1,1,1,1,1,1,1,1,1,1,1,1,1,1,1,1,1,1,1,1,1,1,1,1,1,1,1,1,1,1,1,1,1,1,1,1,1,1,1,1,1,1,1,1,1,1,1,1,1,1,1,1,1,1,1,1,1,1,1,1,1,1,1,1,1,1,1,1,1,1,1,1,1,1,1,1,1,1,1,1,1,1,1,1,1,1,1,1,1,1,1,1,1,1,1,1,1,1,1,1,1,1,1,1,1,1,1,1,1,1,1,1,1,1,1,1,1,1,1,1,1,1,1,1,1,1,1,1,1,1,1,1,1,1,1,1,1,1,1,1,1,1,1,1,1,1,1,1,1,1,1,1,1,1,1,1,1,1,1,1,1,1,1,1,1,1,1,1,1,1,1,1,1,1,1,1,1,1,1,1,1,1,1,1,1,1,1,1,1,1,1,1,1,1,1,1,1,1,1,1,1,1,1,1,1,1,1,1,1,1,1,1,1,1,1,1,1,1,1,1,1,1,1,1,1,1,1,1,1,1,1,1,1,1,1,1,1,1,1,1,1,1,1,1,1,1,1,1,1,1,1,1,1,1,1,1,1,1,1,1,1,1,1,1,1,1,1,1,1,1,1,1,1,1,1,1,1,1,1,1,1,1,1,1,1,1,1,1,1,1,1,1,1,1,1,1,1,1,1,1,1,1,1,1,1,1,1,1,1,1,1,1,1,1,1,1,1,1,1,1,1,1,1,1,1,1,1,1,1,1,1,1,1,1,1,1,1,1,1,1,1,1,1,1,1,1,1,1]],\"type\":\"box\"}],                        {\"template\":{\"data\":{\"bar\":[{\"error_x\":{\"color\":\"#2a3f5f\"},\"error_y\":{\"color\":\"#2a3f5f\"},\"marker\":{\"line\":{\"color\":\"#E5ECF6\",\"width\":0.5},\"pattern\":{\"fillmode\":\"overlay\",\"size\":10,\"solidity\":0.2}},\"type\":\"bar\"}],\"barpolar\":[{\"marker\":{\"line\":{\"color\":\"#E5ECF6\",\"width\":0.5},\"pattern\":{\"fillmode\":\"overlay\",\"size\":10,\"solidity\":0.2}},\"type\":\"barpolar\"}],\"carpet\":[{\"aaxis\":{\"endlinecolor\":\"#2a3f5f\",\"gridcolor\":\"white\",\"linecolor\":\"white\",\"minorgridcolor\":\"white\",\"startlinecolor\":\"#2a3f5f\"},\"baxis\":{\"endlinecolor\":\"#2a3f5f\",\"gridcolor\":\"white\",\"linecolor\":\"white\",\"minorgridcolor\":\"white\",\"startlinecolor\":\"#2a3f5f\"},\"type\":\"carpet\"}],\"choropleth\":[{\"colorbar\":{\"outlinewidth\":0,\"ticks\":\"\"},\"type\":\"choropleth\"}],\"contour\":[{\"colorbar\":{\"outlinewidth\":0,\"ticks\":\"\"},\"colorscale\":[[0.0,\"#0d0887\"],[0.1111111111111111,\"#46039f\"],[0.2222222222222222,\"#7201a8\"],[0.3333333333333333,\"#9c179e\"],[0.4444444444444444,\"#bd3786\"],[0.5555555555555556,\"#d8576b\"],[0.6666666666666666,\"#ed7953\"],[0.7777777777777778,\"#fb9f3a\"],[0.8888888888888888,\"#fdca26\"],[1.0,\"#f0f921\"]],\"type\":\"contour\"}],\"contourcarpet\":[{\"colorbar\":{\"outlinewidth\":0,\"ticks\":\"\"},\"type\":\"contourcarpet\"}],\"heatmap\":[{\"colorbar\":{\"outlinewidth\":0,\"ticks\":\"\"},\"colorscale\":[[0.0,\"#0d0887\"],[0.1111111111111111,\"#46039f\"],[0.2222222222222222,\"#7201a8\"],[0.3333333333333333,\"#9c179e\"],[0.4444444444444444,\"#bd3786\"],[0.5555555555555556,\"#d8576b\"],[0.6666666666666666,\"#ed7953\"],[0.7777777777777778,\"#fb9f3a\"],[0.8888888888888888,\"#fdca26\"],[1.0,\"#f0f921\"]],\"type\":\"heatmap\"}],\"heatmapgl\":[{\"colorbar\":{\"outlinewidth\":0,\"ticks\":\"\"},\"colorscale\":[[0.0,\"#0d0887\"],[0.1111111111111111,\"#46039f\"],[0.2222222222222222,\"#7201a8\"],[0.3333333333333333,\"#9c179e\"],[0.4444444444444444,\"#bd3786\"],[0.5555555555555556,\"#d8576b\"],[0.6666666666666666,\"#ed7953\"],[0.7777777777777778,\"#fb9f3a\"],[0.8888888888888888,\"#fdca26\"],[1.0,\"#f0f921\"]],\"type\":\"heatmapgl\"}],\"histogram\":[{\"marker\":{\"pattern\":{\"fillmode\":\"overlay\",\"size\":10,\"solidity\":0.2}},\"type\":\"histogram\"}],\"histogram2d\":[{\"colorbar\":{\"outlinewidth\":0,\"ticks\":\"\"},\"colorscale\":[[0.0,\"#0d0887\"],[0.1111111111111111,\"#46039f\"],[0.2222222222222222,\"#7201a8\"],[0.3333333333333333,\"#9c179e\"],[0.4444444444444444,\"#bd3786\"],[0.5555555555555556,\"#d8576b\"],[0.6666666666666666,\"#ed7953\"],[0.7777777777777778,\"#fb9f3a\"],[0.8888888888888888,\"#fdca26\"],[1.0,\"#f0f921\"]],\"type\":\"histogram2d\"}],\"histogram2dcontour\":[{\"colorbar\":{\"outlinewidth\":0,\"ticks\":\"\"},\"colorscale\":[[0.0,\"#0d0887\"],[0.1111111111111111,\"#46039f\"],[0.2222222222222222,\"#7201a8\"],[0.3333333333333333,\"#9c179e\"],[0.4444444444444444,\"#bd3786\"],[0.5555555555555556,\"#d8576b\"],[0.6666666666666666,\"#ed7953\"],[0.7777777777777778,\"#fb9f3a\"],[0.8888888888888888,\"#fdca26\"],[1.0,\"#f0f921\"]],\"type\":\"histogram2dcontour\"}],\"mesh3d\":[{\"colorbar\":{\"outlinewidth\":0,\"ticks\":\"\"},\"type\":\"mesh3d\"}],\"parcoords\":[{\"line\":{\"colorbar\":{\"outlinewidth\":0,\"ticks\":\"\"}},\"type\":\"parcoords\"}],\"pie\":[{\"automargin\":true,\"type\":\"pie\"}],\"scatter\":[{\"marker\":{\"colorbar\":{\"outlinewidth\":0,\"ticks\":\"\"}},\"type\":\"scatter\"}],\"scatter3d\":[{\"line\":{\"colorbar\":{\"outlinewidth\":0,\"ticks\":\"\"}},\"marker\":{\"colorbar\":{\"outlinewidth\":0,\"ticks\":\"\"}},\"type\":\"scatter3d\"}],\"scattercarpet\":[{\"marker\":{\"colorbar\":{\"outlinewidth\":0,\"ticks\":\"\"}},\"type\":\"scattercarpet\"}],\"scattergeo\":[{\"marker\":{\"colorbar\":{\"outlinewidth\":0,\"ticks\":\"\"}},\"type\":\"scattergeo\"}],\"scattergl\":[{\"marker\":{\"colorbar\":{\"outlinewidth\":0,\"ticks\":\"\"}},\"type\":\"scattergl\"}],\"scattermapbox\":[{\"marker\":{\"colorbar\":{\"outlinewidth\":0,\"ticks\":\"\"}},\"type\":\"scattermapbox\"}],\"scatterpolar\":[{\"marker\":{\"colorbar\":{\"outlinewidth\":0,\"ticks\":\"\"}},\"type\":\"scatterpolar\"}],\"scatterpolargl\":[{\"marker\":{\"colorbar\":{\"outlinewidth\":0,\"ticks\":\"\"}},\"type\":\"scatterpolargl\"}],\"scatterternary\":[{\"marker\":{\"colorbar\":{\"outlinewidth\":0,\"ticks\":\"\"}},\"type\":\"scatterternary\"}],\"surface\":[{\"colorbar\":{\"outlinewidth\":0,\"ticks\":\"\"},\"colorscale\":[[0.0,\"#0d0887\"],[0.1111111111111111,\"#46039f\"],[0.2222222222222222,\"#7201a8\"],[0.3333333333333333,\"#9c179e\"],[0.4444444444444444,\"#bd3786\"],[0.5555555555555556,\"#d8576b\"],[0.6666666666666666,\"#ed7953\"],[0.7777777777777778,\"#fb9f3a\"],[0.8888888888888888,\"#fdca26\"],[1.0,\"#f0f921\"]],\"type\":\"surface\"}],\"table\":[{\"cells\":{\"fill\":{\"color\":\"#EBF0F8\"},\"line\":{\"color\":\"white\"}},\"header\":{\"fill\":{\"color\":\"#C8D4E3\"},\"line\":{\"color\":\"white\"}},\"type\":\"table\"}]},\"layout\":{\"annotationdefaults\":{\"arrowcolor\":\"#2a3f5f\",\"arrowhead\":0,\"arrowwidth\":1},\"autotypenumbers\":\"strict\",\"coloraxis\":{\"colorbar\":{\"outlinewidth\":0,\"ticks\":\"\"}},\"colorscale\":{\"diverging\":[[0,\"#8e0152\"],[0.1,\"#c51b7d\"],[0.2,\"#de77ae\"],[0.3,\"#f1b6da\"],[0.4,\"#fde0ef\"],[0.5,\"#f7f7f7\"],[0.6,\"#e6f5d0\"],[0.7,\"#b8e186\"],[0.8,\"#7fbc41\"],[0.9,\"#4d9221\"],[1,\"#276419\"]],\"sequential\":[[0.0,\"#0d0887\"],[0.1111111111111111,\"#46039f\"],[0.2222222222222222,\"#7201a8\"],[0.3333333333333333,\"#9c179e\"],[0.4444444444444444,\"#bd3786\"],[0.5555555555555556,\"#d8576b\"],[0.6666666666666666,\"#ed7953\"],[0.7777777777777778,\"#fb9f3a\"],[0.8888888888888888,\"#fdca26\"],[1.0,\"#f0f921\"]],\"sequentialminus\":[[0.0,\"#0d0887\"],[0.1111111111111111,\"#46039f\"],[0.2222222222222222,\"#7201a8\"],[0.3333333333333333,\"#9c179e\"],[0.4444444444444444,\"#bd3786\"],[0.5555555555555556,\"#d8576b\"],[0.6666666666666666,\"#ed7953\"],[0.7777777777777778,\"#fb9f3a\"],[0.8888888888888888,\"#fdca26\"],[1.0,\"#f0f921\"]]},\"colorway\":[\"#636efa\",\"#EF553B\",\"#00cc96\",\"#ab63fa\",\"#FFA15A\",\"#19d3f3\",\"#FF6692\",\"#B6E880\",\"#FF97FF\",\"#FECB52\"],\"font\":{\"color\":\"#2a3f5f\"},\"geo\":{\"bgcolor\":\"white\",\"lakecolor\":\"white\",\"landcolor\":\"#E5ECF6\",\"showlakes\":true,\"showland\":true,\"subunitcolor\":\"white\"},\"hoverlabel\":{\"align\":\"left\"},\"hovermode\":\"closest\",\"mapbox\":{\"style\":\"light\"},\"paper_bgcolor\":\"white\",\"plot_bgcolor\":\"#E5ECF6\",\"polar\":{\"angularaxis\":{\"gridcolor\":\"white\",\"linecolor\":\"white\",\"ticks\":\"\"},\"bgcolor\":\"#E5ECF6\",\"radialaxis\":{\"gridcolor\":\"white\",\"linecolor\":\"white\",\"ticks\":\"\"}},\"scene\":{\"xaxis\":{\"backgroundcolor\":\"#E5ECF6\",\"gridcolor\":\"white\",\"gridwidth\":2,\"linecolor\":\"white\",\"showbackground\":true,\"ticks\":\"\",\"zerolinecolor\":\"white\"},\"yaxis\":{\"backgroundcolor\":\"#E5ECF6\",\"gridcolor\":\"white\",\"gridwidth\":2,\"linecolor\":\"white\",\"showbackground\":true,\"ticks\":\"\",\"zerolinecolor\":\"white\"},\"zaxis\":{\"backgroundcolor\":\"#E5ECF6\",\"gridcolor\":\"white\",\"gridwidth\":2,\"linecolor\":\"white\",\"showbackground\":true,\"ticks\":\"\",\"zerolinecolor\":\"white\"}},\"shapedefaults\":{\"line\":{\"color\":\"#2a3f5f\"}},\"ternary\":{\"aaxis\":{\"gridcolor\":\"white\",\"linecolor\":\"white\",\"ticks\":\"\"},\"baxis\":{\"gridcolor\":\"white\",\"linecolor\":\"white\",\"ticks\":\"\"},\"bgcolor\":\"#E5ECF6\",\"caxis\":{\"gridcolor\":\"white\",\"linecolor\":\"white\",\"ticks\":\"\"}},\"title\":{\"x\":0.05},\"xaxis\":{\"automargin\":true,\"gridcolor\":\"white\",\"linecolor\":\"white\",\"ticks\":\"\",\"title\":{\"standoff\":15},\"zerolinecolor\":\"white\",\"zerolinewidth\":2},\"yaxis\":{\"automargin\":true,\"gridcolor\":\"white\",\"linecolor\":\"white\",\"ticks\":\"\",\"title\":{\"standoff\":15},\"zerolinecolor\":\"white\",\"zerolinewidth\":2}}},\"xaxis\":{\"title\":{\"text\":\"pub_rec\"}},\"yaxis\":{\"title\":{\"text\":\"value\"}}},                        {\"responsive\": true}                    ).then(function(){\n",
              "                            \n",
              "var gd = document.getElementById('3e82f1bd-9027-41a9-adf7-12b9d8ae66f3');\n",
              "var x = new MutationObserver(function (mutations, observer) {{\n",
              "        var display = window.getComputedStyle(gd).display;\n",
              "        if (!display || display === 'none') {{\n",
              "            console.log([gd, 'removed!']);\n",
              "            Plotly.purge(gd);\n",
              "            observer.disconnect();\n",
              "        }}\n",
              "}});\n",
              "\n",
              "// Listen for the removal of the full notebook cells\n",
              "var notebookContainer = gd.closest('#notebook-container');\n",
              "if (notebookContainer) {{\n",
              "    x.observe(notebookContainer, {childList: true});\n",
              "}}\n",
              "\n",
              "// Listen for the clearing of the current output cell\n",
              "var outputEl = gd.closest('.output');\n",
              "if (outputEl) {{\n",
              "    x.observe(outputEl, {childList: true});\n",
              "}}\n",
              "\n",
              "                        })                };                            </script>        </div>\n",
              "</body>\n",
              "</html>"
            ]
          },
          "metadata": {}
        }
      ]
    },
    {
      "cell_type": "code",
      "source": [
        "testing['revol_bal'].plot.box()"
      ],
      "metadata": {
        "colab": {
          "base_uri": "https://localhost:8080/",
          "height": 542
        },
        "id": "UJQ0OlaZgi6D",
        "outputId": "2d1e6432-74b6-4303-805f-667dc73b6978"
      },
      "execution_count": null,
      "outputs": [
        {
          "output_type": "display_data",
          "data": {
            "text/html": [
              "<html>\n",
              "<head><meta charset=\"utf-8\" /></head>\n",
              "<body>\n",
              "    <div>            <script src=\"https://cdnjs.cloudflare.com/ajax/libs/mathjax/2.7.5/MathJax.js?config=TeX-AMS-MML_SVG\"></script><script type=\"text/javascript\">if (window.MathJax) {MathJax.Hub.Config({SVG: {font: \"STIX-Web\"}});}</script>                <script type=\"text/javascript\">window.PlotlyConfig = {MathJaxConfig: 'local'};</script>\n",
              "        <script src=\"https://cdn.plot.ly/plotly-2.8.3.min.js\"></script>                <div id=\"8edb4e8b-e3b0-4652-9db4-d741dbf523b7\" class=\"plotly-graph-div\" style=\"height:525px; width:100%;\"></div>            <script type=\"text/javascript\">                                    window.PLOTLYENV=window.PLOTLYENV || {};                                    if (document.getElementById(\"8edb4e8b-e3b0-4652-9db4-d741dbf523b7\")) {                    Plotly.newPlot(                        \"8edb4e8b-e3b0-4652-9db4-d741dbf523b7\",                        [{\"boxpoints\":\"suspectedoutliers\",\"lowerfence\":[0.0],\"mean\":[16911.323334225344],\"median\":[11797.0],\"name\":\"revol_bal\",\"notched\":false,\"q1\":[6381.0],\"q3\":[20885.0],\"upperfence\":[42641.0],\"y\":[[42642.0,42642.0,42642.0,42643.0,42644.0,42645.0,42646.0,42646.0,42646.0,42646.0,42647.0,42647.0,42648.0,42648.0,42648.0,42649.0,42650.0,42651.0,42651.0,42651.0,42651.0,42652.0,42652.0,42652.0,42652.0,42653.0,42653.0,42653.0,42653.0,42654.0,42655.0,42655.0,42656.0,42656.0,42656.0,42656.0,42657.0,42657.0,42657.0,42657.0,42657.0,42657.0,42658.0,42658.0,42658.0,42659.0,42659.0,42659.0,42659.0,42659.0,42659.0,42659.0,42659.0,42660.0,42660.0,42661.0,42662.0,42662.0,42663.0,42663.0,42663.0,42663.0,42664.0,42664.0,42664.0,42665.0,42665.0,42665.0,42665.0,42665.0,42665.0,42666.0,42667.0,42667.0,42667.0,42668.0,42668.0,42668.0,42668.0,42668.0,42668.0,42669.0,42670.0,42670.0,42670.0,42671.0,42673.0,42673.0,42673.0,42673.0,42673.0,42673.0,42674.0,42674.0,42674.0,42674.0,42675.0,42675.0,42675.0,42675.0,42675.0,42675.0,42676.0,42676.0,42676.0,42676.0,42676.0,42676.0,42677.0,42677.0,42678.0,42678.0,42678.0,42680.0,42681.0,42681.0,42681.0,42682.0,42682.0,42682.0,42682.0,42683.0,42684.0,42684.0,42685.0,42685.0,42686.0,42686.0,42686.0,42687.0,42687.0,42689.0,42689.0,42689.0,42689.0,42689.0,42690.0,42690.0,42690.0,42691.0,42692.0,42692.0,42692.0,42692.0,42692.0,42692.0,42692.0,42693.0,42693.0,42693.0,42693.0,42694.0,42694.0,42694.0,42694.0,42694.0,42694.0,42695.0,42695.0,42695.0,42696.0,42697.0,42697.0,42697.0,42697.0,42697.0,42697.0,42697.0,42698.0,42698.0,42699.0,42699.0,42699.0,42699.0,42699.0,42699.0,42699.0,42700.0,42700.0,42701.0,42701.0,42701.0,42702.0,42703.0,42703.0,42703.0,42703.0,42703.0,42704.0,42704.0,42704.0,42705.0,42705.0,42706.0,42706.0,42706.0,42707.0,42707.0,42707.0,42707.0,42708.0,42708.0,42708.0,42708.0,42708.0,42709.0,42709.0,42710.0,42711.0,42712.0,42712.0,42713.0,42714.0,42714.0,42714.0,42715.0,42715.0,42715.0,42715.0,42715.0,42716.0,42717.0,42717.0,42717.0,42717.0,42717.0,42717.0,42717.0,42718.0,42718.0,42718.0,42718.0,42719.0,42720.0,42720.0,42720.0,42720.0,42720.0,42720.0,42721.0,42721.0,42721.0,42722.0,42722.0,42723.0,42723.0,42723.0,42723.0,42723.0,42724.0,42725.0,42725.0,42725.0,42726.0,42726.0,42726.0,42726.0,42727.0,42727.0,42727.0,42728.0,42728.0,42728.0,42728.0,42728.0,42729.0,42729.0,42729.0,42729.0,42730.0,42730.0,42730.0,42730.0,42730.0,42731.0,42731.0,42732.0,42732.0,42734.0,42734.0,42734.0,42735.0,42735.0,42735.0,42735.0,42736.0,42736.0,42736.0,42737.0,42737.0,42737.0,42737.0,42738.0,42738.0,42738.0,42738.0,42738.0,42739.0,42739.0,42739.0,42739.0,42739.0,42740.0,42740.0,42740.0,42740.0,42740.0,42741.0,42741.0,42742.0,42742.0,42742.0,42742.0,42742.0,42742.0,42742.0,42743.0,42743.0,42743.0,42743.0,42743.0,42744.0,42744.0,42745.0,42745.0,42745.0,42746.0,42746.0,42746.0,42746.0,42746.0,42747.0,42747.0,42748.0,42748.0,42748.0,42749.0,42750.0,42750.0,42750.0,42750.0,42750.0,42750.0,42750.0,42751.0,42751.0,42752.0,42752.0,42752.0,42752.0,42752.0,42753.0,42754.0,42754.0,42754.0,42754.0,42754.0,42755.0,42755.0,42755.0,42756.0,42756.0,42756.0,42757.0,42757.0,42757.0,42757.0,42757.0,42757.0,42757.0,42758.0,42758.0,42758.0,42760.0,42760.0,42760.0,42760.0,42761.0,42761.0,42762.0,42762.0,42763.0,42763.0,42763.0,42763.0,42763.0,42764.0,42764.0,42764.0,42764.0,42765.0,42765.0,42765.0,42766.0,42766.0,42767.0,42767.0,42768.0,42768.0,42768.0,42769.0,42769.0,42770.0,42770.0,42770.0,42771.0,42771.0,42772.0,42772.0,42772.0,42773.0,42774.0,42774.0,42776.0,42776.0,42776.0,42777.0,42777.0,42777.0,42778.0,42778.0,42779.0,42779.0,42779.0,42779.0,42780.0,42780.0,42781.0,42782.0,42782.0,42782.0,42782.0,42782.0,42783.0,42783.0,42783.0,42784.0,42785.0,42785.0,42785.0,42785.0,42785.0,42787.0,42788.0,42788.0,42788.0,42789.0,42789.0,42790.0,42791.0,42791.0,42791.0,42791.0,42791.0,42791.0,42792.0,42793.0,42793.0,42793.0,42793.0,42794.0,42795.0,42795.0,42795.0,42795.0,42795.0,42796.0,42796.0,42796.0,42798.0,42798.0,42799.0,42800.0,42800.0,42801.0,42801.0,42801.0,42801.0,42802.0,42802.0,42802.0,42802.0,42802.0,42803.0,42803.0,42804.0,42805.0,42805.0,42805.0,42805.0,42806.0,42807.0,42807.0,42807.0,42807.0,42807.0,42808.0,42808.0,42809.0,42809.0,42810.0,42811.0,42812.0,42812.0,42813.0,42813.0,42813.0,42814.0,42814.0,42814.0,42816.0,42816.0,42817.0,42818.0,42819.0,42819.0,42819.0,42820.0,42821.0,42821.0,42821.0,42821.0,42822.0,42822.0,42822.0,42822.0,42822.0,42824.0,42824.0,42824.0,42825.0,42825.0,42825.0,42825.0,42825.0,42825.0,42825.0,42825.0,42826.0,42827.0,42828.0,42829.0,42829.0,42829.0,42830.0,42830.0,42830.0,42830.0,42830.0,42830.0,42831.0,42831.0,42832.0,42832.0,42833.0,42834.0,42834.0,42834.0,42834.0,42834.0,42835.0,42837.0,42837.0,42837.0,42838.0,42839.0,42839.0,42839.0,42840.0,42841.0,42841.0,42841.0,42842.0,42842.0,42842.0,42843.0,42844.0,42844.0,42844.0,42845.0,42845.0,42845.0,42845.0,42846.0,42847.0,42848.0,42848.0,42848.0,42848.0,42848.0,42848.0,42848.0,42848.0,42849.0,42849.0,42849.0,42850.0,42851.0,42851.0,42852.0,42852.0,42853.0,42853.0,42854.0,42854.0,42854.0,42854.0,42855.0,42856.0,42856.0,42856.0,42856.0,42856.0,42857.0,42858.0,42858.0,42858.0,42858.0,42858.0,42858.0,42858.0,42858.0,42859.0,42859.0,42859.0,42859.0,42860.0,42860.0,42861.0,42861.0,42861.0,42861.0,42861.0,42862.0,42862.0,42862.0,42862.0,42863.0,42863.0,42863.0,42864.0,42864.0,42864.0,42864.0,42864.0,42865.0,42865.0,42865.0,42865.0,42865.0,42865.0,42865.0,42866.0,42866.0,42866.0,42866.0,42867.0,42867.0,42867.0,42868.0,42868.0,42868.0,42868.0,42869.0,42869.0,42870.0,42870.0,42870.0,42870.0,42871.0,42871.0,42871.0,42871.0,42871.0,42872.0,42872.0,42872.0,42873.0,42873.0,42874.0,42875.0,42876.0,42876.0,42876.0,42876.0,42877.0,42877.0,42877.0,42878.0,42878.0,42879.0,42879.0,42879.0,42879.0,42880.0,42880.0,42881.0,42882.0,42882.0,42882.0,42883.0,42883.0,42883.0,42883.0,42883.0,42884.0,42884.0,42885.0,42886.0,42886.0,42887.0,42887.0,42888.0,42888.0,42888.0,42888.0,42888.0,42888.0,42888.0,42888.0,42889.0,42889.0,42889.0,42890.0,42890.0,42891.0,42891.0,42891.0,42892.0,42892.0,42893.0,42895.0,42895.0,42895.0,42896.0,42896.0,42896.0,42897.0,42897.0,42898.0,42899.0,42899.0,42899.0,42900.0,42901.0,42902.0,42902.0,42903.0,42903.0,42903.0,42903.0,42904.0,42904.0,42904.0,42904.0,42904.0,42904.0,42904.0,42905.0,42905.0,42905.0,42905.0,42906.0,42906.0,42906.0,42906.0,42906.0,42907.0,42907.0,42907.0,42907.0,42908.0,42909.0,42909.0,42910.0,42910.0,42910.0,42910.0,42911.0,42911.0,42912.0,42913.0,42913.0,42914.0,42915.0,42915.0,42915.0,42916.0,42916.0,42916.0,42916.0,42917.0,42917.0,42917.0,42917.0,42918.0,42918.0,42918.0,42919.0,42919.0,42920.0,42920.0,42921.0,42922.0,42923.0,42924.0,42924.0,42924.0,42924.0,42924.0,42926.0,42926.0,42926.0,42926.0,42926.0,42927.0,42929.0,42929.0,42930.0,42930.0,42931.0,42931.0,42931.0,42931.0,42931.0,42932.0,42933.0,42933.0,42934.0,42934.0,42934.0,42934.0,42935.0,42935.0,42936.0,42936.0,42936.0,42936.0,42937.0,42938.0,42938.0,42938.0,42938.0,42939.0,42939.0,42940.0,42940.0,42940.0,42940.0,42940.0,42941.0,42941.0,42941.0,42942.0,42942.0,42942.0,42943.0,42943.0,42944.0,42944.0,42944.0,42944.0,42945.0,42946.0,42946.0,42946.0,42946.0,42946.0,42946.0,42947.0,42947.0,42947.0,42947.0,42948.0,42948.0,42949.0,42949.0,42949.0,42949.0,42951.0,42951.0,42952.0,42952.0,42952.0,42953.0,42953.0,42954.0,42954.0,42954.0,42954.0,42955.0,42955.0,42957.0,42958.0,42958.0,42959.0,42959.0,42959.0,42959.0,42959.0,42959.0,42960.0,42961.0,42961.0,42962.0,42962.0,42963.0,42963.0,42964.0,42964.0,42964.0,42964.0,42964.0,42964.0,42966.0,42966.0,42966.0,42966.0,42966.0,42967.0,42967.0,42967.0,42968.0,42968.0,42969.0,42970.0,42970.0,42970.0,42971.0,42971.0,42971.0,42972.0,42972.0,42972.0,42973.0,42973.0,42973.0,42974.0,42975.0,42975.0,42976.0,42976.0,42976.0,42977.0,42977.0,42978.0,42978.0,42978.0,42978.0,42979.0,42979.0,42979.0,42980.0,42980.0,42981.0,42981.0,42981.0,42981.0,42982.0,42982.0,42983.0,42983.0,42983.0,42983.0,42983.0,42984.0,42984.0,42984.0,42984.0,42985.0,42986.0,42986.0,42987.0,42987.0,42987.0,42987.0,42988.0,42988.0,42989.0,42990.0,42991.0,42991.0,42991.0,42992.0,42992.0,42993.0,42993.0,42993.0,42994.0,42994.0,42994.0,42995.0,42995.0,42995.0,42996.0,42996.0,42996.0,42996.0,42996.0,42996.0,42997.0]],\"type\":\"box\"}],                        {\"template\":{\"data\":{\"bar\":[{\"error_x\":{\"color\":\"#2a3f5f\"},\"error_y\":{\"color\":\"#2a3f5f\"},\"marker\":{\"line\":{\"color\":\"#E5ECF6\",\"width\":0.5},\"pattern\":{\"fillmode\":\"overlay\",\"size\":10,\"solidity\":0.2}},\"type\":\"bar\"}],\"barpolar\":[{\"marker\":{\"line\":{\"color\":\"#E5ECF6\",\"width\":0.5},\"pattern\":{\"fillmode\":\"overlay\",\"size\":10,\"solidity\":0.2}},\"type\":\"barpolar\"}],\"carpet\":[{\"aaxis\":{\"endlinecolor\":\"#2a3f5f\",\"gridcolor\":\"white\",\"linecolor\":\"white\",\"minorgridcolor\":\"white\",\"startlinecolor\":\"#2a3f5f\"},\"baxis\":{\"endlinecolor\":\"#2a3f5f\",\"gridcolor\":\"white\",\"linecolor\":\"white\",\"minorgridcolor\":\"white\",\"startlinecolor\":\"#2a3f5f\"},\"type\":\"carpet\"}],\"choropleth\":[{\"colorbar\":{\"outlinewidth\":0,\"ticks\":\"\"},\"type\":\"choropleth\"}],\"contour\":[{\"colorbar\":{\"outlinewidth\":0,\"ticks\":\"\"},\"colorscale\":[[0.0,\"#0d0887\"],[0.1111111111111111,\"#46039f\"],[0.2222222222222222,\"#7201a8\"],[0.3333333333333333,\"#9c179e\"],[0.4444444444444444,\"#bd3786\"],[0.5555555555555556,\"#d8576b\"],[0.6666666666666666,\"#ed7953\"],[0.7777777777777778,\"#fb9f3a\"],[0.8888888888888888,\"#fdca26\"],[1.0,\"#f0f921\"]],\"type\":\"contour\"}],\"contourcarpet\":[{\"colorbar\":{\"outlinewidth\":0,\"ticks\":\"\"},\"type\":\"contourcarpet\"}],\"heatmap\":[{\"colorbar\":{\"outlinewidth\":0,\"ticks\":\"\"},\"colorscale\":[[0.0,\"#0d0887\"],[0.1111111111111111,\"#46039f\"],[0.2222222222222222,\"#7201a8\"],[0.3333333333333333,\"#9c179e\"],[0.4444444444444444,\"#bd3786\"],[0.5555555555555556,\"#d8576b\"],[0.6666666666666666,\"#ed7953\"],[0.7777777777777778,\"#fb9f3a\"],[0.8888888888888888,\"#fdca26\"],[1.0,\"#f0f921\"]],\"type\":\"heatmap\"}],\"heatmapgl\":[{\"colorbar\":{\"outlinewidth\":0,\"ticks\":\"\"},\"colorscale\":[[0.0,\"#0d0887\"],[0.1111111111111111,\"#46039f\"],[0.2222222222222222,\"#7201a8\"],[0.3333333333333333,\"#9c179e\"],[0.4444444444444444,\"#bd3786\"],[0.5555555555555556,\"#d8576b\"],[0.6666666666666666,\"#ed7953\"],[0.7777777777777778,\"#fb9f3a\"],[0.8888888888888888,\"#fdca26\"],[1.0,\"#f0f921\"]],\"type\":\"heatmapgl\"}],\"histogram\":[{\"marker\":{\"pattern\":{\"fillmode\":\"overlay\",\"size\":10,\"solidity\":0.2}},\"type\":\"histogram\"}],\"histogram2d\":[{\"colorbar\":{\"outlinewidth\":0,\"ticks\":\"\"},\"colorscale\":[[0.0,\"#0d0887\"],[0.1111111111111111,\"#46039f\"],[0.2222222222222222,\"#7201a8\"],[0.3333333333333333,\"#9c179e\"],[0.4444444444444444,\"#bd3786\"],[0.5555555555555556,\"#d8576b\"],[0.6666666666666666,\"#ed7953\"],[0.7777777777777778,\"#fb9f3a\"],[0.8888888888888888,\"#fdca26\"],[1.0,\"#f0f921\"]],\"type\":\"histogram2d\"}],\"histogram2dcontour\":[{\"colorbar\":{\"outlinewidth\":0,\"ticks\":\"\"},\"colorscale\":[[0.0,\"#0d0887\"],[0.1111111111111111,\"#46039f\"],[0.2222222222222222,\"#7201a8\"],[0.3333333333333333,\"#9c179e\"],[0.4444444444444444,\"#bd3786\"],[0.5555555555555556,\"#d8576b\"],[0.6666666666666666,\"#ed7953\"],[0.7777777777777778,\"#fb9f3a\"],[0.8888888888888888,\"#fdca26\"],[1.0,\"#f0f921\"]],\"type\":\"histogram2dcontour\"}],\"mesh3d\":[{\"colorbar\":{\"outlinewidth\":0,\"ticks\":\"\"},\"type\":\"mesh3d\"}],\"parcoords\":[{\"line\":{\"colorbar\":{\"outlinewidth\":0,\"ticks\":\"\"}},\"type\":\"parcoords\"}],\"pie\":[{\"automargin\":true,\"type\":\"pie\"}],\"scatter\":[{\"marker\":{\"colorbar\":{\"outlinewidth\":0,\"ticks\":\"\"}},\"type\":\"scatter\"}],\"scatter3d\":[{\"line\":{\"colorbar\":{\"outlinewidth\":0,\"ticks\":\"\"}},\"marker\":{\"colorbar\":{\"outlinewidth\":0,\"ticks\":\"\"}},\"type\":\"scatter3d\"}],\"scattercarpet\":[{\"marker\":{\"colorbar\":{\"outlinewidth\":0,\"ticks\":\"\"}},\"type\":\"scattercarpet\"}],\"scattergeo\":[{\"marker\":{\"colorbar\":{\"outlinewidth\":0,\"ticks\":\"\"}},\"type\":\"scattergeo\"}],\"scattergl\":[{\"marker\":{\"colorbar\":{\"outlinewidth\":0,\"ticks\":\"\"}},\"type\":\"scattergl\"}],\"scattermapbox\":[{\"marker\":{\"colorbar\":{\"outlinewidth\":0,\"ticks\":\"\"}},\"type\":\"scattermapbox\"}],\"scatterpolar\":[{\"marker\":{\"colorbar\":{\"outlinewidth\":0,\"ticks\":\"\"}},\"type\":\"scatterpolar\"}],\"scatterpolargl\":[{\"marker\":{\"colorbar\":{\"outlinewidth\":0,\"ticks\":\"\"}},\"type\":\"scatterpolargl\"}],\"scatterternary\":[{\"marker\":{\"colorbar\":{\"outlinewidth\":0,\"ticks\":\"\"}},\"type\":\"scatterternary\"}],\"surface\":[{\"colorbar\":{\"outlinewidth\":0,\"ticks\":\"\"},\"colorscale\":[[0.0,\"#0d0887\"],[0.1111111111111111,\"#46039f\"],[0.2222222222222222,\"#7201a8\"],[0.3333333333333333,\"#9c179e\"],[0.4444444444444444,\"#bd3786\"],[0.5555555555555556,\"#d8576b\"],[0.6666666666666666,\"#ed7953\"],[0.7777777777777778,\"#fb9f3a\"],[0.8888888888888888,\"#fdca26\"],[1.0,\"#f0f921\"]],\"type\":\"surface\"}],\"table\":[{\"cells\":{\"fill\":{\"color\":\"#EBF0F8\"},\"line\":{\"color\":\"white\"}},\"header\":{\"fill\":{\"color\":\"#C8D4E3\"},\"line\":{\"color\":\"white\"}},\"type\":\"table\"}]},\"layout\":{\"annotationdefaults\":{\"arrowcolor\":\"#2a3f5f\",\"arrowhead\":0,\"arrowwidth\":1},\"autotypenumbers\":\"strict\",\"coloraxis\":{\"colorbar\":{\"outlinewidth\":0,\"ticks\":\"\"}},\"colorscale\":{\"diverging\":[[0,\"#8e0152\"],[0.1,\"#c51b7d\"],[0.2,\"#de77ae\"],[0.3,\"#f1b6da\"],[0.4,\"#fde0ef\"],[0.5,\"#f7f7f7\"],[0.6,\"#e6f5d0\"],[0.7,\"#b8e186\"],[0.8,\"#7fbc41\"],[0.9,\"#4d9221\"],[1,\"#276419\"]],\"sequential\":[[0.0,\"#0d0887\"],[0.1111111111111111,\"#46039f\"],[0.2222222222222222,\"#7201a8\"],[0.3333333333333333,\"#9c179e\"],[0.4444444444444444,\"#bd3786\"],[0.5555555555555556,\"#d8576b\"],[0.6666666666666666,\"#ed7953\"],[0.7777777777777778,\"#fb9f3a\"],[0.8888888888888888,\"#fdca26\"],[1.0,\"#f0f921\"]],\"sequentialminus\":[[0.0,\"#0d0887\"],[0.1111111111111111,\"#46039f\"],[0.2222222222222222,\"#7201a8\"],[0.3333333333333333,\"#9c179e\"],[0.4444444444444444,\"#bd3786\"],[0.5555555555555556,\"#d8576b\"],[0.6666666666666666,\"#ed7953\"],[0.7777777777777778,\"#fb9f3a\"],[0.8888888888888888,\"#fdca26\"],[1.0,\"#f0f921\"]]},\"colorway\":[\"#636efa\",\"#EF553B\",\"#00cc96\",\"#ab63fa\",\"#FFA15A\",\"#19d3f3\",\"#FF6692\",\"#B6E880\",\"#FF97FF\",\"#FECB52\"],\"font\":{\"color\":\"#2a3f5f\"},\"geo\":{\"bgcolor\":\"white\",\"lakecolor\":\"white\",\"landcolor\":\"#E5ECF6\",\"showlakes\":true,\"showland\":true,\"subunitcolor\":\"white\"},\"hoverlabel\":{\"align\":\"left\"},\"hovermode\":\"closest\",\"mapbox\":{\"style\":\"light\"},\"paper_bgcolor\":\"white\",\"plot_bgcolor\":\"#E5ECF6\",\"polar\":{\"angularaxis\":{\"gridcolor\":\"white\",\"linecolor\":\"white\",\"ticks\":\"\"},\"bgcolor\":\"#E5ECF6\",\"radialaxis\":{\"gridcolor\":\"white\",\"linecolor\":\"white\",\"ticks\":\"\"}},\"scene\":{\"xaxis\":{\"backgroundcolor\":\"#E5ECF6\",\"gridcolor\":\"white\",\"gridwidth\":2,\"linecolor\":\"white\",\"showbackground\":true,\"ticks\":\"\",\"zerolinecolor\":\"white\"},\"yaxis\":{\"backgroundcolor\":\"#E5ECF6\",\"gridcolor\":\"white\",\"gridwidth\":2,\"linecolor\":\"white\",\"showbackground\":true,\"ticks\":\"\",\"zerolinecolor\":\"white\"},\"zaxis\":{\"backgroundcolor\":\"#E5ECF6\",\"gridcolor\":\"white\",\"gridwidth\":2,\"linecolor\":\"white\",\"showbackground\":true,\"ticks\":\"\",\"zerolinecolor\":\"white\"}},\"shapedefaults\":{\"line\":{\"color\":\"#2a3f5f\"}},\"ternary\":{\"aaxis\":{\"gridcolor\":\"white\",\"linecolor\":\"white\",\"ticks\":\"\"},\"baxis\":{\"gridcolor\":\"white\",\"linecolor\":\"white\",\"ticks\":\"\"},\"bgcolor\":\"#E5ECF6\",\"caxis\":{\"gridcolor\":\"white\",\"linecolor\":\"white\",\"ticks\":\"\"}},\"title\":{\"x\":0.05},\"xaxis\":{\"automargin\":true,\"gridcolor\":\"white\",\"linecolor\":\"white\",\"ticks\":\"\",\"title\":{\"standoff\":15},\"zerolinecolor\":\"white\",\"zerolinewidth\":2},\"yaxis\":{\"automargin\":true,\"gridcolor\":\"white\",\"linecolor\":\"white\",\"ticks\":\"\",\"title\":{\"standoff\":15},\"zerolinecolor\":\"white\",\"zerolinewidth\":2}}},\"xaxis\":{\"title\":{\"text\":\"revol_bal\"}},\"yaxis\":{\"title\":{\"text\":\"value\"}}},                        {\"responsive\": true}                    ).then(function(){\n",
              "                            \n",
              "var gd = document.getElementById('8edb4e8b-e3b0-4652-9db4-d741dbf523b7');\n",
              "var x = new MutationObserver(function (mutations, observer) {{\n",
              "        var display = window.getComputedStyle(gd).display;\n",
              "        if (!display || display === 'none') {{\n",
              "            console.log([gd, 'removed!']);\n",
              "            Plotly.purge(gd);\n",
              "            observer.disconnect();\n",
              "        }}\n",
              "}});\n",
              "\n",
              "// Listen for the removal of the full notebook cells\n",
              "var notebookContainer = gd.closest('#notebook-container');\n",
              "if (notebookContainer) {{\n",
              "    x.observe(notebookContainer, {childList: true});\n",
              "}}\n",
              "\n",
              "// Listen for the clearing of the current output cell\n",
              "var outputEl = gd.closest('.output');\n",
              "if (outputEl) {{\n",
              "    x.observe(outputEl, {childList: true});\n",
              "}}\n",
              "\n",
              "                        })                };                            </script>        </div>\n",
              "</body>\n",
              "</html>"
            ]
          },
          "metadata": {}
        }
      ]
    },
    {
      "cell_type": "code",
      "source": [
        "testing['revol_util'].plot.box()"
      ],
      "metadata": {
        "colab": {
          "base_uri": "https://localhost:8080/",
          "height": 542
        },
        "id": "ZTlZbeZFglqJ",
        "outputId": "60ddf4fe-7010-4ca3-ed27-7b5226ca5075"
      },
      "execution_count": null,
      "outputs": [
        {
          "output_type": "display_data",
          "data": {
            "text/html": [
              "<html>\n",
              "<head><meta charset=\"utf-8\" /></head>\n",
              "<body>\n",
              "    <div>            <script src=\"https://cdnjs.cloudflare.com/ajax/libs/mathjax/2.7.5/MathJax.js?config=TeX-AMS-MML_SVG\"></script><script type=\"text/javascript\">if (window.MathJax) {MathJax.Hub.Config({SVG: {font: \"STIX-Web\"}});}</script>                <script type=\"text/javascript\">window.PlotlyConfig = {MathJaxConfig: 'local'};</script>\n",
              "        <script src=\"https://cdn.plot.ly/plotly-2.8.3.min.js\"></script>                <div id=\"eb1b1539-e1e8-4288-b685-5f298a1554a3\" class=\"plotly-graph-div\" style=\"height:525px; width:100%;\"></div>            <script type=\"text/javascript\">                                    window.PLOTLYENV=window.PLOTLYENV || {};                                    if (document.getElementById(\"eb1b1539-e1e8-4288-b685-5f298a1554a3\")) {                    Plotly.newPlot(                        \"eb1b1539-e1e8-4288-b685-5f298a1554a3\",                        [{\"boxpoints\":\"suspectedoutliers\",\"lowerfence\":[0.0],\"mean\":[55.02208081164493],\"median\":[55.8],\"name\":\"revol_util\",\"notched\":false,\"q1\":[37.3],\"q3\":[73.3],\"upperfence\":[127.3],\"y\":[[127.4,127.6,127.6,127.6,128.1,128.4,128.6,128.8,129.4,130.1,130.5,130.8,131.0,131.8,132.5,132.5,132.7,133.1,134.1,134.3,134.3,134.5,136.1,137.2,137.8,139.7,140.4,143.6,145.8,146.1,150.7,152.5,152.7,153.0,153.7,155.3,161.5,166.9,177.7,180.3,182.8,184.6,193.0,892.3]],\"type\":\"box\"}],                        {\"template\":{\"data\":{\"bar\":[{\"error_x\":{\"color\":\"#2a3f5f\"},\"error_y\":{\"color\":\"#2a3f5f\"},\"marker\":{\"line\":{\"color\":\"#E5ECF6\",\"width\":0.5},\"pattern\":{\"fillmode\":\"overlay\",\"size\":10,\"solidity\":0.2}},\"type\":\"bar\"}],\"barpolar\":[{\"marker\":{\"line\":{\"color\":\"#E5ECF6\",\"width\":0.5},\"pattern\":{\"fillmode\":\"overlay\",\"size\":10,\"solidity\":0.2}},\"type\":\"barpolar\"}],\"carpet\":[{\"aaxis\":{\"endlinecolor\":\"#2a3f5f\",\"gridcolor\":\"white\",\"linecolor\":\"white\",\"minorgridcolor\":\"white\",\"startlinecolor\":\"#2a3f5f\"},\"baxis\":{\"endlinecolor\":\"#2a3f5f\",\"gridcolor\":\"white\",\"linecolor\":\"white\",\"minorgridcolor\":\"white\",\"startlinecolor\":\"#2a3f5f\"},\"type\":\"carpet\"}],\"choropleth\":[{\"colorbar\":{\"outlinewidth\":0,\"ticks\":\"\"},\"type\":\"choropleth\"}],\"contour\":[{\"colorbar\":{\"outlinewidth\":0,\"ticks\":\"\"},\"colorscale\":[[0.0,\"#0d0887\"],[0.1111111111111111,\"#46039f\"],[0.2222222222222222,\"#7201a8\"],[0.3333333333333333,\"#9c179e\"],[0.4444444444444444,\"#bd3786\"],[0.5555555555555556,\"#d8576b\"],[0.6666666666666666,\"#ed7953\"],[0.7777777777777778,\"#fb9f3a\"],[0.8888888888888888,\"#fdca26\"],[1.0,\"#f0f921\"]],\"type\":\"contour\"}],\"contourcarpet\":[{\"colorbar\":{\"outlinewidth\":0,\"ticks\":\"\"},\"type\":\"contourcarpet\"}],\"heatmap\":[{\"colorbar\":{\"outlinewidth\":0,\"ticks\":\"\"},\"colorscale\":[[0.0,\"#0d0887\"],[0.1111111111111111,\"#46039f\"],[0.2222222222222222,\"#7201a8\"],[0.3333333333333333,\"#9c179e\"],[0.4444444444444444,\"#bd3786\"],[0.5555555555555556,\"#d8576b\"],[0.6666666666666666,\"#ed7953\"],[0.7777777777777778,\"#fb9f3a\"],[0.8888888888888888,\"#fdca26\"],[1.0,\"#f0f921\"]],\"type\":\"heatmap\"}],\"heatmapgl\":[{\"colorbar\":{\"outlinewidth\":0,\"ticks\":\"\"},\"colorscale\":[[0.0,\"#0d0887\"],[0.1111111111111111,\"#46039f\"],[0.2222222222222222,\"#7201a8\"],[0.3333333333333333,\"#9c179e\"],[0.4444444444444444,\"#bd3786\"],[0.5555555555555556,\"#d8576b\"],[0.6666666666666666,\"#ed7953\"],[0.7777777777777778,\"#fb9f3a\"],[0.8888888888888888,\"#fdca26\"],[1.0,\"#f0f921\"]],\"type\":\"heatmapgl\"}],\"histogram\":[{\"marker\":{\"pattern\":{\"fillmode\":\"overlay\",\"size\":10,\"solidity\":0.2}},\"type\":\"histogram\"}],\"histogram2d\":[{\"colorbar\":{\"outlinewidth\":0,\"ticks\":\"\"},\"colorscale\":[[0.0,\"#0d0887\"],[0.1111111111111111,\"#46039f\"],[0.2222222222222222,\"#7201a8\"],[0.3333333333333333,\"#9c179e\"],[0.4444444444444444,\"#bd3786\"],[0.5555555555555556,\"#d8576b\"],[0.6666666666666666,\"#ed7953\"],[0.7777777777777778,\"#fb9f3a\"],[0.8888888888888888,\"#fdca26\"],[1.0,\"#f0f921\"]],\"type\":\"histogram2d\"}],\"histogram2dcontour\":[{\"colorbar\":{\"outlinewidth\":0,\"ticks\":\"\"},\"colorscale\":[[0.0,\"#0d0887\"],[0.1111111111111111,\"#46039f\"],[0.2222222222222222,\"#7201a8\"],[0.3333333333333333,\"#9c179e\"],[0.4444444444444444,\"#bd3786\"],[0.5555555555555556,\"#d8576b\"],[0.6666666666666666,\"#ed7953\"],[0.7777777777777778,\"#fb9f3a\"],[0.8888888888888888,\"#fdca26\"],[1.0,\"#f0f921\"]],\"type\":\"histogram2dcontour\"}],\"mesh3d\":[{\"colorbar\":{\"outlinewidth\":0,\"ticks\":\"\"},\"type\":\"mesh3d\"}],\"parcoords\":[{\"line\":{\"colorbar\":{\"outlinewidth\":0,\"ticks\":\"\"}},\"type\":\"parcoords\"}],\"pie\":[{\"automargin\":true,\"type\":\"pie\"}],\"scatter\":[{\"marker\":{\"colorbar\":{\"outlinewidth\":0,\"ticks\":\"\"}},\"type\":\"scatter\"}],\"scatter3d\":[{\"line\":{\"colorbar\":{\"outlinewidth\":0,\"ticks\":\"\"}},\"marker\":{\"colorbar\":{\"outlinewidth\":0,\"ticks\":\"\"}},\"type\":\"scatter3d\"}],\"scattercarpet\":[{\"marker\":{\"colorbar\":{\"outlinewidth\":0,\"ticks\":\"\"}},\"type\":\"scattercarpet\"}],\"scattergeo\":[{\"marker\":{\"colorbar\":{\"outlinewidth\":0,\"ticks\":\"\"}},\"type\":\"scattergeo\"}],\"scattergl\":[{\"marker\":{\"colorbar\":{\"outlinewidth\":0,\"ticks\":\"\"}},\"type\":\"scattergl\"}],\"scattermapbox\":[{\"marker\":{\"colorbar\":{\"outlinewidth\":0,\"ticks\":\"\"}},\"type\":\"scattermapbox\"}],\"scatterpolar\":[{\"marker\":{\"colorbar\":{\"outlinewidth\":0,\"ticks\":\"\"}},\"type\":\"scatterpolar\"}],\"scatterpolargl\":[{\"marker\":{\"colorbar\":{\"outlinewidth\":0,\"ticks\":\"\"}},\"type\":\"scatterpolargl\"}],\"scatterternary\":[{\"marker\":{\"colorbar\":{\"outlinewidth\":0,\"ticks\":\"\"}},\"type\":\"scatterternary\"}],\"surface\":[{\"colorbar\":{\"outlinewidth\":0,\"ticks\":\"\"},\"colorscale\":[[0.0,\"#0d0887\"],[0.1111111111111111,\"#46039f\"],[0.2222222222222222,\"#7201a8\"],[0.3333333333333333,\"#9c179e\"],[0.4444444444444444,\"#bd3786\"],[0.5555555555555556,\"#d8576b\"],[0.6666666666666666,\"#ed7953\"],[0.7777777777777778,\"#fb9f3a\"],[0.8888888888888888,\"#fdca26\"],[1.0,\"#f0f921\"]],\"type\":\"surface\"}],\"table\":[{\"cells\":{\"fill\":{\"color\":\"#EBF0F8\"},\"line\":{\"color\":\"white\"}},\"header\":{\"fill\":{\"color\":\"#C8D4E3\"},\"line\":{\"color\":\"white\"}},\"type\":\"table\"}]},\"layout\":{\"annotationdefaults\":{\"arrowcolor\":\"#2a3f5f\",\"arrowhead\":0,\"arrowwidth\":1},\"autotypenumbers\":\"strict\",\"coloraxis\":{\"colorbar\":{\"outlinewidth\":0,\"ticks\":\"\"}},\"colorscale\":{\"diverging\":[[0,\"#8e0152\"],[0.1,\"#c51b7d\"],[0.2,\"#de77ae\"],[0.3,\"#f1b6da\"],[0.4,\"#fde0ef\"],[0.5,\"#f7f7f7\"],[0.6,\"#e6f5d0\"],[0.7,\"#b8e186\"],[0.8,\"#7fbc41\"],[0.9,\"#4d9221\"],[1,\"#276419\"]],\"sequential\":[[0.0,\"#0d0887\"],[0.1111111111111111,\"#46039f\"],[0.2222222222222222,\"#7201a8\"],[0.3333333333333333,\"#9c179e\"],[0.4444444444444444,\"#bd3786\"],[0.5555555555555556,\"#d8576b\"],[0.6666666666666666,\"#ed7953\"],[0.7777777777777778,\"#fb9f3a\"],[0.8888888888888888,\"#fdca26\"],[1.0,\"#f0f921\"]],\"sequentialminus\":[[0.0,\"#0d0887\"],[0.1111111111111111,\"#46039f\"],[0.2222222222222222,\"#7201a8\"],[0.3333333333333333,\"#9c179e\"],[0.4444444444444444,\"#bd3786\"],[0.5555555555555556,\"#d8576b\"],[0.6666666666666666,\"#ed7953\"],[0.7777777777777778,\"#fb9f3a\"],[0.8888888888888888,\"#fdca26\"],[1.0,\"#f0f921\"]]},\"colorway\":[\"#636efa\",\"#EF553B\",\"#00cc96\",\"#ab63fa\",\"#FFA15A\",\"#19d3f3\",\"#FF6692\",\"#B6E880\",\"#FF97FF\",\"#FECB52\"],\"font\":{\"color\":\"#2a3f5f\"},\"geo\":{\"bgcolor\":\"white\",\"lakecolor\":\"white\",\"landcolor\":\"#E5ECF6\",\"showlakes\":true,\"showland\":true,\"subunitcolor\":\"white\"},\"hoverlabel\":{\"align\":\"left\"},\"hovermode\":\"closest\",\"mapbox\":{\"style\":\"light\"},\"paper_bgcolor\":\"white\",\"plot_bgcolor\":\"#E5ECF6\",\"polar\":{\"angularaxis\":{\"gridcolor\":\"white\",\"linecolor\":\"white\",\"ticks\":\"\"},\"bgcolor\":\"#E5ECF6\",\"radialaxis\":{\"gridcolor\":\"white\",\"linecolor\":\"white\",\"ticks\":\"\"}},\"scene\":{\"xaxis\":{\"backgroundcolor\":\"#E5ECF6\",\"gridcolor\":\"white\",\"gridwidth\":2,\"linecolor\":\"white\",\"showbackground\":true,\"ticks\":\"\",\"zerolinecolor\":\"white\"},\"yaxis\":{\"backgroundcolor\":\"#E5ECF6\",\"gridcolor\":\"white\",\"gridwidth\":2,\"linecolor\":\"white\",\"showbackground\":true,\"ticks\":\"\",\"zerolinecolor\":\"white\"},\"zaxis\":{\"backgroundcolor\":\"#E5ECF6\",\"gridcolor\":\"white\",\"gridwidth\":2,\"linecolor\":\"white\",\"showbackground\":true,\"ticks\":\"\",\"zerolinecolor\":\"white\"}},\"shapedefaults\":{\"line\":{\"color\":\"#2a3f5f\"}},\"ternary\":{\"aaxis\":{\"gridcolor\":\"white\",\"linecolor\":\"white\",\"ticks\":\"\"},\"baxis\":{\"gridcolor\":\"white\",\"linecolor\":\"white\",\"ticks\":\"\"},\"bgcolor\":\"#E5ECF6\",\"caxis\":{\"gridcolor\":\"white\",\"linecolor\":\"white\",\"ticks\":\"\"}},\"title\":{\"x\":0.05},\"xaxis\":{\"automargin\":true,\"gridcolor\":\"white\",\"linecolor\":\"white\",\"ticks\":\"\",\"title\":{\"standoff\":15},\"zerolinecolor\":\"white\",\"zerolinewidth\":2},\"yaxis\":{\"automargin\":true,\"gridcolor\":\"white\",\"linecolor\":\"white\",\"ticks\":\"\",\"title\":{\"standoff\":15},\"zerolinecolor\":\"white\",\"zerolinewidth\":2}}},\"xaxis\":{\"title\":{\"text\":\"revol_util\"}},\"yaxis\":{\"title\":{\"text\":\"value\"}}},                        {\"responsive\": true}                    ).then(function(){\n",
              "                            \n",
              "var gd = document.getElementById('eb1b1539-e1e8-4288-b685-5f298a1554a3');\n",
              "var x = new MutationObserver(function (mutations, observer) {{\n",
              "        var display = window.getComputedStyle(gd).display;\n",
              "        if (!display || display === 'none') {{\n",
              "            console.log([gd, 'removed!']);\n",
              "            Plotly.purge(gd);\n",
              "            observer.disconnect();\n",
              "        }}\n",
              "}});\n",
              "\n",
              "// Listen for the removal of the full notebook cells\n",
              "var notebookContainer = gd.closest('#notebook-container');\n",
              "if (notebookContainer) {{\n",
              "    x.observe(notebookContainer, {childList: true});\n",
              "}}\n",
              "\n",
              "// Listen for the clearing of the current output cell\n",
              "var outputEl = gd.closest('.output');\n",
              "if (outputEl) {{\n",
              "    x.observe(outputEl, {childList: true});\n",
              "}}\n",
              "\n",
              "                        })                };                            </script>        </div>\n",
              "</body>\n",
              "</html>"
            ]
          },
          "metadata": {}
        }
      ]
    },
    {
      "cell_type": "code",
      "source": [
        "testing['total_acc'].plot.box()"
      ],
      "metadata": {
        "colab": {
          "base_uri": "https://localhost:8080/",
          "height": 542
        },
        "id": "yON9pik0gpKu",
        "outputId": "992cec61-7cba-4d59-8995-c3e10d33c9b6"
      },
      "execution_count": null,
      "outputs": [
        {
          "output_type": "display_data",
          "data": {
            "text/html": [
              "<html>\n",
              "<head><meta charset=\"utf-8\" /></head>\n",
              "<body>\n",
              "    <div>            <script src=\"https://cdnjs.cloudflare.com/ajax/libs/mathjax/2.7.5/MathJax.js?config=TeX-AMS-MML_SVG\"></script><script type=\"text/javascript\">if (window.MathJax) {MathJax.Hub.Config({SVG: {font: \"STIX-Web\"}});}</script>                <script type=\"text/javascript\">window.PlotlyConfig = {MathJaxConfig: 'local'};</script>\n",
              "        <script src=\"https://cdn.plot.ly/plotly-2.8.3.min.js\"></script>                <div id=\"b9946468-9e6c-4626-8257-9f4c30e55e8e\" class=\"plotly-graph-div\" style=\"height:525px; width:100%;\"></div>            <script type=\"text/javascript\">                                    window.PLOTLYENV=window.PLOTLYENV || {};                                    if (document.getElementById(\"b9946468-9e6c-4626-8257-9f4c30e55e8e\")) {                    Plotly.newPlot(                        \"b9946468-9e6c-4626-8257-9f4c30e55e8e\",                        [{\"boxpoints\":\"suspectedoutliers\",\"lowerfence\":[2],\"mean\":[25.270452694325282],\"median\":[24],\"name\":\"total_acc\",\"notched\":false,\"q1\":[17],\"q3\":[32],\"upperfence\":[54],\"y\":[[55,55,55,55,55,55,55,55,55,55,55,55,55,55,55,55,55,55,55,55,55,55,55,55,55,55,55,55,55,55,55,55,55,55,55,55,55,55,55,55,55,55,55,55,55,55,55,55,55,55,55,55,55,55,55,55,55,55,55,55,55,55,55,55,55,55,55,55,55,55,55,55,55,55,55,55,55,55,55,55,55,55,55,55,55,55,55,55,55,55,55,55,55,55,55,55,55,55,55,55,55,55,55,55,55,55,55,55,55,55,55,55,55,55,55,55,55,55,55,55,55,55,55,55,55,55,55,55,55,55,55,55,55,55,55,55,55,55,55,55,55,55,55,55,55,55,55,55,55,55,55,55,55,55,55,55,55,55,55,55,55,55,55,55,55,55,55,55,55,55,55,55,55,55,55,55,55,55,55,55,55,55,55,55,55,55,55,55,55,55,55,55,55,55,55,55,55,55,55,55,55,55,55,55,55,55,55,55,55,55,55,55,55,55,55,55,55,55,55,55,55,55,55,55,55,55,55,55,55,55,55,55,55,55,55,55,55,55,55,55,55,55,55,55,55,55,55,55,55,55,55,55,55,55,55,55,55,55,55,55,55,55,55,55,55,55,55,55,55,55,55,55,55,55,55,55,55,55,55,55,55,55,55,55,55,55,55,55,55,55,55,55,55,55,55,55,55,55,55,55,55,55,55,55,55,55,55,55,55,55,55,55,55,55,55,55,55,55,55,55,55,55,55,55,55,55,55,55,55,55,55,55,55,55,55,55,55,55,55,55,55,55,55,55,55,55,55,55,55,55,55,55,55,55,55,55,55,55,55,55,55,55,55,55,55,55,55,55,55,55,55,55,55,55,55,55,55,55,55,55,55,55,55,55,55,55,55,55,55,55,55,55,55,55,55,55,55,55,55,55,55,55,55,55,55,55,55,55,55,55,55,55,55,55,55,55,55,55,55,55,55,55,55,55,55,55,55,55,55,55,55,55,55,55,55,55,55,55,55,55,55,55,55,55,55,55,55,55,55,55,55,55,55,55,55,55,55,55,55,55,55,55,55,55,55,55,55,55,55,55,55,55,55,55,55,55,55,55,55,55,55,55,55,55,55,55,55,55,55,55,55,55,55,55,55,55,55,55,55,55,55,55,55,55,55,55,55,55,55,55,55,55,55,55,55,55,55,55,55,55,55,55,55,55,55,55,55,55,55,55,55,55,55,55,55,55,55,55,55,55,55,55,55,55,55,55,55,55,55,55,55,55,55,55,55,55,55,55,55,55,55,55,55,55,55,55,55,55,55,55,55,55,55,55,55,55,55,55,55,55,55,55,55,55,55,55,55,55,55,55,55,55,55,55,55,55,55,55,55,55,55,55,55,55,55,55,55,55,55,55,55,55,55,55,55,55,55,55,55,55,55,55,55,55,55,55,55,55,55,55,55,55,55,55,55,55,55,55,55,55,55,55,55,55,55,55,55,55,55,55,55,55,55,55,55,55,55,55,55,55,55,55,55,55,55,55,55,55,55,55,55,55,55,55,55,55,55,55,55,55,55,55,55,55,55,55,55,55,55,55,55,55,55,55,55,55,55,55,55,55,55,55,55,55,55,55,55,55,55,55,55,55,55,55,55,55,55,55,55,55,55,55,55,55,55,55,55,55,55,55,55,55,55,55,55,55,55,55,55,55,55,55,55,55,55,55,55,55,55,55,55,55,55,55,55,55,55,55,55,55,55,55,55,55,55,55,55,55,55,55,55,55,55,55,55,55,55,55,55,55,55,55,55,55,55,55,55,55,55,55,55,55,55,55,55,55,55,55,55,55,55,55,55,55,55,55,55,55,55,55,55,55,55,55,55,55,55,55,55,55,55,55,55,55,55,55,55,55,55,55,55,55,55,55,55,55,55,55,55,55,55,55,55,55,55,55,55,55,55,55,55,55,55,55,55,55,55,55,55,55,55,55,55,55,55,55,55,55,55,55,55,55,55,55,55,55,55,55,55,55,55,55,55,55,55,55,55,55,55,55,55,55,55,55,55,55,55,55,55,55,55,55,55,55,55,55,55,55,55,55,55,55,55,55,55,55,55,55,55,55,55,55,55,55,55,55,55,55,55,55,55,55,55,55,55,55,55,55,55,55,55,55,55,55,55,55,55,55,55,55,55,55,55,55,55,55,55,55,55,55,55,55,55,55,55,55,55,55,55,55,55,55,55,55,55,55,55,55,55,55,55,55,55,55,55,55,55,55,55,55,55,55,55,55,55,55,55,55,55,55,55]],\"type\":\"box\"}],                        {\"template\":{\"data\":{\"bar\":[{\"error_x\":{\"color\":\"#2a3f5f\"},\"error_y\":{\"color\":\"#2a3f5f\"},\"marker\":{\"line\":{\"color\":\"#E5ECF6\",\"width\":0.5},\"pattern\":{\"fillmode\":\"overlay\",\"size\":10,\"solidity\":0.2}},\"type\":\"bar\"}],\"barpolar\":[{\"marker\":{\"line\":{\"color\":\"#E5ECF6\",\"width\":0.5},\"pattern\":{\"fillmode\":\"overlay\",\"size\":10,\"solidity\":0.2}},\"type\":\"barpolar\"}],\"carpet\":[{\"aaxis\":{\"endlinecolor\":\"#2a3f5f\",\"gridcolor\":\"white\",\"linecolor\":\"white\",\"minorgridcolor\":\"white\",\"startlinecolor\":\"#2a3f5f\"},\"baxis\":{\"endlinecolor\":\"#2a3f5f\",\"gridcolor\":\"white\",\"linecolor\":\"white\",\"minorgridcolor\":\"white\",\"startlinecolor\":\"#2a3f5f\"},\"type\":\"carpet\"}],\"choropleth\":[{\"colorbar\":{\"outlinewidth\":0,\"ticks\":\"\"},\"type\":\"choropleth\"}],\"contour\":[{\"colorbar\":{\"outlinewidth\":0,\"ticks\":\"\"},\"colorscale\":[[0.0,\"#0d0887\"],[0.1111111111111111,\"#46039f\"],[0.2222222222222222,\"#7201a8\"],[0.3333333333333333,\"#9c179e\"],[0.4444444444444444,\"#bd3786\"],[0.5555555555555556,\"#d8576b\"],[0.6666666666666666,\"#ed7953\"],[0.7777777777777778,\"#fb9f3a\"],[0.8888888888888888,\"#fdca26\"],[1.0,\"#f0f921\"]],\"type\":\"contour\"}],\"contourcarpet\":[{\"colorbar\":{\"outlinewidth\":0,\"ticks\":\"\"},\"type\":\"contourcarpet\"}],\"heatmap\":[{\"colorbar\":{\"outlinewidth\":0,\"ticks\":\"\"},\"colorscale\":[[0.0,\"#0d0887\"],[0.1111111111111111,\"#46039f\"],[0.2222222222222222,\"#7201a8\"],[0.3333333333333333,\"#9c179e\"],[0.4444444444444444,\"#bd3786\"],[0.5555555555555556,\"#d8576b\"],[0.6666666666666666,\"#ed7953\"],[0.7777777777777778,\"#fb9f3a\"],[0.8888888888888888,\"#fdca26\"],[1.0,\"#f0f921\"]],\"type\":\"heatmap\"}],\"heatmapgl\":[{\"colorbar\":{\"outlinewidth\":0,\"ticks\":\"\"},\"colorscale\":[[0.0,\"#0d0887\"],[0.1111111111111111,\"#46039f\"],[0.2222222222222222,\"#7201a8\"],[0.3333333333333333,\"#9c179e\"],[0.4444444444444444,\"#bd3786\"],[0.5555555555555556,\"#d8576b\"],[0.6666666666666666,\"#ed7953\"],[0.7777777777777778,\"#fb9f3a\"],[0.8888888888888888,\"#fdca26\"],[1.0,\"#f0f921\"]],\"type\":\"heatmapgl\"}],\"histogram\":[{\"marker\":{\"pattern\":{\"fillmode\":\"overlay\",\"size\":10,\"solidity\":0.2}},\"type\":\"histogram\"}],\"histogram2d\":[{\"colorbar\":{\"outlinewidth\":0,\"ticks\":\"\"},\"colorscale\":[[0.0,\"#0d0887\"],[0.1111111111111111,\"#46039f\"],[0.2222222222222222,\"#7201a8\"],[0.3333333333333333,\"#9c179e\"],[0.4444444444444444,\"#bd3786\"],[0.5555555555555556,\"#d8576b\"],[0.6666666666666666,\"#ed7953\"],[0.7777777777777778,\"#fb9f3a\"],[0.8888888888888888,\"#fdca26\"],[1.0,\"#f0f921\"]],\"type\":\"histogram2d\"}],\"histogram2dcontour\":[{\"colorbar\":{\"outlinewidth\":0,\"ticks\":\"\"},\"colorscale\":[[0.0,\"#0d0887\"],[0.1111111111111111,\"#46039f\"],[0.2222222222222222,\"#7201a8\"],[0.3333333333333333,\"#9c179e\"],[0.4444444444444444,\"#bd3786\"],[0.5555555555555556,\"#d8576b\"],[0.6666666666666666,\"#ed7953\"],[0.7777777777777778,\"#fb9f3a\"],[0.8888888888888888,\"#fdca26\"],[1.0,\"#f0f921\"]],\"type\":\"histogram2dcontour\"}],\"mesh3d\":[{\"colorbar\":{\"outlinewidth\":0,\"ticks\":\"\"},\"type\":\"mesh3d\"}],\"parcoords\":[{\"line\":{\"colorbar\":{\"outlinewidth\":0,\"ticks\":\"\"}},\"type\":\"parcoords\"}],\"pie\":[{\"automargin\":true,\"type\":\"pie\"}],\"scatter\":[{\"marker\":{\"colorbar\":{\"outlinewidth\":0,\"ticks\":\"\"}},\"type\":\"scatter\"}],\"scatter3d\":[{\"line\":{\"colorbar\":{\"outlinewidth\":0,\"ticks\":\"\"}},\"marker\":{\"colorbar\":{\"outlinewidth\":0,\"ticks\":\"\"}},\"type\":\"scatter3d\"}],\"scattercarpet\":[{\"marker\":{\"colorbar\":{\"outlinewidth\":0,\"ticks\":\"\"}},\"type\":\"scattercarpet\"}],\"scattergeo\":[{\"marker\":{\"colorbar\":{\"outlinewidth\":0,\"ticks\":\"\"}},\"type\":\"scattergeo\"}],\"scattergl\":[{\"marker\":{\"colorbar\":{\"outlinewidth\":0,\"ticks\":\"\"}},\"type\":\"scattergl\"}],\"scattermapbox\":[{\"marker\":{\"colorbar\":{\"outlinewidth\":0,\"ticks\":\"\"}},\"type\":\"scattermapbox\"}],\"scatterpolar\":[{\"marker\":{\"colorbar\":{\"outlinewidth\":0,\"ticks\":\"\"}},\"type\":\"scatterpolar\"}],\"scatterpolargl\":[{\"marker\":{\"colorbar\":{\"outlinewidth\":0,\"ticks\":\"\"}},\"type\":\"scatterpolargl\"}],\"scatterternary\":[{\"marker\":{\"colorbar\":{\"outlinewidth\":0,\"ticks\":\"\"}},\"type\":\"scatterternary\"}],\"surface\":[{\"colorbar\":{\"outlinewidth\":0,\"ticks\":\"\"},\"colorscale\":[[0.0,\"#0d0887\"],[0.1111111111111111,\"#46039f\"],[0.2222222222222222,\"#7201a8\"],[0.3333333333333333,\"#9c179e\"],[0.4444444444444444,\"#bd3786\"],[0.5555555555555556,\"#d8576b\"],[0.6666666666666666,\"#ed7953\"],[0.7777777777777778,\"#fb9f3a\"],[0.8888888888888888,\"#fdca26\"],[1.0,\"#f0f921\"]],\"type\":\"surface\"}],\"table\":[{\"cells\":{\"fill\":{\"color\":\"#EBF0F8\"},\"line\":{\"color\":\"white\"}},\"header\":{\"fill\":{\"color\":\"#C8D4E3\"},\"line\":{\"color\":\"white\"}},\"type\":\"table\"}]},\"layout\":{\"annotationdefaults\":{\"arrowcolor\":\"#2a3f5f\",\"arrowhead\":0,\"arrowwidth\":1},\"autotypenumbers\":\"strict\",\"coloraxis\":{\"colorbar\":{\"outlinewidth\":0,\"ticks\":\"\"}},\"colorscale\":{\"diverging\":[[0,\"#8e0152\"],[0.1,\"#c51b7d\"],[0.2,\"#de77ae\"],[0.3,\"#f1b6da\"],[0.4,\"#fde0ef\"],[0.5,\"#f7f7f7\"],[0.6,\"#e6f5d0\"],[0.7,\"#b8e186\"],[0.8,\"#7fbc41\"],[0.9,\"#4d9221\"],[1,\"#276419\"]],\"sequential\":[[0.0,\"#0d0887\"],[0.1111111111111111,\"#46039f\"],[0.2222222222222222,\"#7201a8\"],[0.3333333333333333,\"#9c179e\"],[0.4444444444444444,\"#bd3786\"],[0.5555555555555556,\"#d8576b\"],[0.6666666666666666,\"#ed7953\"],[0.7777777777777778,\"#fb9f3a\"],[0.8888888888888888,\"#fdca26\"],[1.0,\"#f0f921\"]],\"sequentialminus\":[[0.0,\"#0d0887\"],[0.1111111111111111,\"#46039f\"],[0.2222222222222222,\"#7201a8\"],[0.3333333333333333,\"#9c179e\"],[0.4444444444444444,\"#bd3786\"],[0.5555555555555556,\"#d8576b\"],[0.6666666666666666,\"#ed7953\"],[0.7777777777777778,\"#fb9f3a\"],[0.8888888888888888,\"#fdca26\"],[1.0,\"#f0f921\"]]},\"colorway\":[\"#636efa\",\"#EF553B\",\"#00cc96\",\"#ab63fa\",\"#FFA15A\",\"#19d3f3\",\"#FF6692\",\"#B6E880\",\"#FF97FF\",\"#FECB52\"],\"font\":{\"color\":\"#2a3f5f\"},\"geo\":{\"bgcolor\":\"white\",\"lakecolor\":\"white\",\"landcolor\":\"#E5ECF6\",\"showlakes\":true,\"showland\":true,\"subunitcolor\":\"white\"},\"hoverlabel\":{\"align\":\"left\"},\"hovermode\":\"closest\",\"mapbox\":{\"style\":\"light\"},\"paper_bgcolor\":\"white\",\"plot_bgcolor\":\"#E5ECF6\",\"polar\":{\"angularaxis\":{\"gridcolor\":\"white\",\"linecolor\":\"white\",\"ticks\":\"\"},\"bgcolor\":\"#E5ECF6\",\"radialaxis\":{\"gridcolor\":\"white\",\"linecolor\":\"white\",\"ticks\":\"\"}},\"scene\":{\"xaxis\":{\"backgroundcolor\":\"#E5ECF6\",\"gridcolor\":\"white\",\"gridwidth\":2,\"linecolor\":\"white\",\"showbackground\":true,\"ticks\":\"\",\"zerolinecolor\":\"white\"},\"yaxis\":{\"backgroundcolor\":\"#E5ECF6\",\"gridcolor\":\"white\",\"gridwidth\":2,\"linecolor\":\"white\",\"showbackground\":true,\"ticks\":\"\",\"zerolinecolor\":\"white\"},\"zaxis\":{\"backgroundcolor\":\"#E5ECF6\",\"gridcolor\":\"white\",\"gridwidth\":2,\"linecolor\":\"white\",\"showbackground\":true,\"ticks\":\"\",\"zerolinecolor\":\"white\"}},\"shapedefaults\":{\"line\":{\"color\":\"#2a3f5f\"}},\"ternary\":{\"aaxis\":{\"gridcolor\":\"white\",\"linecolor\":\"white\",\"ticks\":\"\"},\"baxis\":{\"gridcolor\":\"white\",\"linecolor\":\"white\",\"ticks\":\"\"},\"bgcolor\":\"#E5ECF6\",\"caxis\":{\"gridcolor\":\"white\",\"linecolor\":\"white\",\"ticks\":\"\"}},\"title\":{\"x\":0.05},\"xaxis\":{\"automargin\":true,\"gridcolor\":\"white\",\"linecolor\":\"white\",\"ticks\":\"\",\"title\":{\"standoff\":15},\"zerolinecolor\":\"white\",\"zerolinewidth\":2},\"yaxis\":{\"automargin\":true,\"gridcolor\":\"white\",\"linecolor\":\"white\",\"ticks\":\"\",\"title\":{\"standoff\":15},\"zerolinecolor\":\"white\",\"zerolinewidth\":2}}},\"xaxis\":{\"title\":{\"text\":\"total_acc\"}},\"yaxis\":{\"title\":{\"text\":\"value\"}}},                        {\"responsive\": true}                    ).then(function(){\n",
              "                            \n",
              "var gd = document.getElementById('b9946468-9e6c-4626-8257-9f4c30e55e8e');\n",
              "var x = new MutationObserver(function (mutations, observer) {{\n",
              "        var display = window.getComputedStyle(gd).display;\n",
              "        if (!display || display === 'none') {{\n",
              "            console.log([gd, 'removed!']);\n",
              "            Plotly.purge(gd);\n",
              "            observer.disconnect();\n",
              "        }}\n",
              "}});\n",
              "\n",
              "// Listen for the removal of the full notebook cells\n",
              "var notebookContainer = gd.closest('#notebook-container');\n",
              "if (notebookContainer) {{\n",
              "    x.observe(notebookContainer, {childList: true});\n",
              "}}\n",
              "\n",
              "// Listen for the clearing of the current output cell\n",
              "var outputEl = gd.closest('.output');\n",
              "if (outputEl) {{\n",
              "    x.observe(outputEl, {childList: true});\n",
              "}}\n",
              "\n",
              "                        })                };                            </script>        </div>\n",
              "</body>\n",
              "</html>"
            ]
          },
          "metadata": {}
        }
      ]
    },
    {
      "cell_type": "code",
      "source": [
        "testing['out_prncp'].plot.box()"
      ],
      "metadata": {
        "colab": {
          "base_uri": "https://localhost:8080/",
          "height": 542
        },
        "id": "atzxTnQagrdi",
        "outputId": "8b437182-b94c-44d4-e06d-ea07365901c5"
      },
      "execution_count": null,
      "outputs": [
        {
          "output_type": "display_data",
          "data": {
            "text/html": [
              "<html>\n",
              "<head><meta charset=\"utf-8\" /></head>\n",
              "<body>\n",
              "    <div>            <script src=\"https://cdnjs.cloudflare.com/ajax/libs/mathjax/2.7.5/MathJax.js?config=TeX-AMS-MML_SVG\"></script><script type=\"text/javascript\">if (window.MathJax) {MathJax.Hub.Config({SVG: {font: \"STIX-Web\"}});}</script>                <script type=\"text/javascript\">window.PlotlyConfig = {MathJaxConfig: 'local'};</script>\n",
              "        <script src=\"https://cdn.plot.ly/plotly-2.8.3.min.js\"></script>                <div id=\"6f3e0d7c-bfc1-4a2f-9555-59f884f711d1\" class=\"plotly-graph-div\" style=\"height:525px; width:100%;\"></div>            <script type=\"text/javascript\">                                    window.PLOTLYENV=window.PLOTLYENV || {};                                    if (document.getElementById(\"6f3e0d7c-bfc1-4a2f-9555-59f884f711d1\")) {                    Plotly.newPlot(                        \"6f3e0d7c-bfc1-4a2f-9555-59f884f711d1\",                        [{\"boxpoints\":\"suspectedoutliers\",\"lowerfence\":[0.0],\"mean\":[8287.001242148304],\"median\":[6161.81],\"name\":\"out_prncp\",\"notched\":false,\"q1\":[0.0],\"q3\":[13491.13],\"upperfence\":[33727.32],\"y\":[[33734.8,33734.8,33734.8,33734.8,33734.8,33734.8,33734.8,33734.8,33734.8,33734.8,33734.8,33734.8,33734.81,33738.08,33738.31,33739.56,33742.65,33745.67,33745.67,33745.67,33745.67,33745.67,33745.67,33745.67,33745.67,33745.67,33745.67,33745.67,33745.67,33745.67,33745.67,33745.67,33745.67,33745.67,33745.67,33745.67,33745.67,33745.67,33745.67,33745.67,33745.67,33745.67,33745.67,33745.67,33745.67,33745.67,33745.67,33745.67,33745.67,33745.67,33745.67,33745.67,33745.67,33745.67,33745.67,33745.67,33745.67,33745.67,33745.67,33745.67,33745.67,33745.67,33745.67,33745.67,33745.68,33745.68,33745.68,33745.68,33745.68,33745.68,33745.68,33745.68,33745.68,33745.68,33745.68,33745.68,33745.68,33747.86,33750.0,33750.0,33750.0,33750.73,33751.36,33754.41,33763.25,33766.54,33767.23,33767.23,33767.23,33767.23,33767.23,33767.23,33767.23,33767.23,33767.23,33767.23,33767.23,33767.23,33767.23,33767.23,33767.23,33767.23,33767.23,33767.23,33767.23,33767.23,33767.23,33767.23,33767.23,33767.23,33767.23,33767.23,33767.23,33767.23,33767.23,33767.23,33767.23,33767.23,33767.23,33767.23,33767.23,33767.23,33767.23,33767.23,33767.23,33767.23,33767.23,33767.23,33767.23,33767.23,33767.23,33767.23,33767.24,33767.24,33767.24,33767.24,33767.24,33767.24,33767.24,33767.24,33769.32,33769.32,33769.32,33769.32,33769.32,33769.32,33769.32,33769.32,33769.32,33769.32,33770.61,33772.13,33772.52,33772.52,33773.95,33775.13,33775.83,33779.59,33779.6,33788.31,33788.48,33788.48,33788.48,33788.48,33788.48,33788.48,33788.48,33788.48,33788.48,33788.48,33788.48,33788.48,33788.48,33788.48,33788.48,33788.48,33788.48,33788.48,33788.48,33788.48,33788.48,33788.48,33788.48,33788.48,33788.48,33788.48,33788.48,33788.48,33788.48,33788.48,33788.48,33788.48,33788.48,33788.48,33788.48,33788.48,33788.48,33788.48,33788.48,33788.48,33788.48,33788.48,33788.48,33788.48,33788.48,33788.48,33788.48,33788.48,33788.48,33788.49,33788.49,33788.49,33788.49,33788.49,33788.49,33788.49,33788.49,33788.49,33788.49,33788.49,33793.41,33794.02,33796.08,33796.08,33796.08,33804.73,33810.33,33813.49,33818.94,33818.94,33818.94,33818.94,33818.94,33818.94,33818.94,33818.94,33818.94,33818.94,33818.94,33818.94,33818.94,33818.94,33818.94,33818.94,33818.94,33818.94,33818.94,33818.94,33818.94,33818.94,33818.94,33818.94,33818.94,33818.94,33818.94,33818.94,33818.94,33818.94,33818.94,33818.95,33818.95,33818.95,33818.95,33818.95,33818.95,33818.95,33818.95,33818.95,33818.95,33828.94,33828.94,33828.94,33828.94,33828.94,33828.94,33839.47,33839.6,33846.57,33846.57,33846.57,33846.57,33848.18,33848.18,33848.18,33848.18,33848.18,33848.18,33848.18,33848.18,33848.18,33848.18,33848.18,33848.18,33848.18,33848.18,33848.18,33848.18,33848.18,33848.18,33848.18,33848.18,33848.18,33848.18,33848.19,33848.19,33848.19,33848.19,33848.19,33848.19,33848.19,33848.19,33849.52,33853.2,33860.13,33861.68,33861.68,33861.68,33861.68,33861.68,33861.68,33861.68,33861.68,33861.68,33861.68,33861.68,33861.68,33861.68,33861.68,33861.68,33861.68,33861.68,33861.68,33861.68,33861.68,33861.68,33861.68,33861.68,33861.68,33861.68,33861.68,33861.68,33861.68,33861.68,33861.68,33861.68,33861.68,33861.68,33861.69,33864.95,33864.95,33871.2,33871.2,33871.36,33873.18,33877.79,33879.3,33879.3,33879.3,33879.3,33879.3,33879.3,33879.3,33879.3,33879.3,33879.3,33879.3,33879.3,33879.3,33879.3,33879.3,33879.3,33879.3,33879.3,33879.3,33879.3,33879.3,33879.3,33879.3,33879.3,33879.3,33879.3,33879.3,33879.3,33879.3,33879.3,33879.3,33879.3,33879.3,33879.3,33879.3,33879.3,33879.3,33879.3,33879.3,33879.3,33879.3,33879.3,33879.3,33879.3,33879.3,33879.3,33879.3,33879.3,33879.3,33888.03,33888.03,33888.03,33888.03,33888.03,33888.03,33888.03,33888.03,33888.03,33888.03,33888.03,33888.03,33888.03,33888.03,33888.03,33888.03,33888.03,33888.03,33888.03,33888.03,33888.03,33888.03,33888.03,33888.03,33888.03,33888.03,33888.03,33888.03,33888.03,33888.03,33888.03,33888.03,33888.04,33888.04,33888.04,33888.04,33888.04,33888.04,33890.86,33899.69,33899.69,33899.69,33899.69,33899.69,33899.69,33899.69,33899.69,33899.69,33899.69,33899.69,33899.69,33899.69,33899.69,33899.69,33899.69,33899.69,33899.69,33899.69,33899.69,33899.69,33899.69,33899.69,33899.69,33899.69,33899.69,33899.69,33899.69,33899.69,33899.69,33899.69,33899.69,33899.69,33899.69,33899.69,33899.7,33899.7,33899.7,33900.06,33903.73,33908.59,33908.59,33908.59,33908.59,33908.59,33908.59,33908.59,33908.59,33908.59,33908.59,33908.59,33908.59,33908.59,33908.59,33908.59,33908.59,33908.59,33908.59,33908.59,33908.59,33908.59,33908.59,33908.59,33908.59,33908.59,33908.59,33908.59,33908.59,33908.59,33908.59,33908.59,33908.59,33908.59,33908.59,33908.59,33908.59,33908.59,33908.59,33908.59,33908.59,33908.59,33908.59,33908.59,33908.59,33908.59,33908.59,33908.59,33908.59,33908.59,33908.59,33908.59,33908.59,33908.59,33908.59,33908.6,33926.83,33927.38,33927.38,33927.38,33927.38,33927.38,33927.38,33927.38,33927.38,33927.38,33927.38,33927.38,33927.38,33927.38,33927.38,33927.38,33927.38,33927.38,33927.38,33927.38,33927.38,33927.38,33927.38,33927.38,33927.38,33927.38,33927.38,33927.38,33927.38,33927.38,33927.38,33927.38,33927.38,33927.38,33927.38,33927.38,33927.38,33927.38,33927.38,33927.39,33927.39,33927.39,33927.39,33945.48,33950.54,33950.54,33950.54,33950.54,33950.54,33950.54,33950.54,33950.54,33950.54,33950.54,33950.54,33950.54,33950.54,33950.54,33950.54,33950.54,33950.54,33950.54,33950.54,33950.54,33950.54,33950.54,33950.54,33950.54,33950.54,33950.54,33950.54,33950.54,33950.54,33950.54,33950.54,33950.54,33950.54,33950.54,33950.54,33950.54,33950.54,33950.54,33950.54,33950.54,33962.84,33971.72,33972.61,33973.17,33975.0,33978.93,33978.93,33978.93,33978.93,33978.93,33978.93,33978.93,33978.93,33978.93,33978.93,33978.93,33978.93,33978.93,33978.93,33978.93,33978.93,33978.93,33978.93,33978.93,33978.93,33978.93,33978.93,33978.93,33978.93,33978.93,33978.93,33978.93,33978.93,33978.93,33978.94,33978.94,33978.94,33980.62,34000.0,34000.0,34000.0,34000.0,34000.0,34000.0,34000.0,34006.73,34006.73,34006.73,34006.73,34006.73,34006.73,34006.73,34006.73,34006.73,34006.73,34006.73,34006.73,34006.73,34006.73,34006.73,34006.73,34006.73,34006.73,34006.73,34006.74,34006.74,34006.74,34006.74,34006.74,34009.08,34010.11,34012.61,34019.71,34025.0,34027.2,34033.94,34033.94,34033.94,34033.94,34033.94,34033.94,34033.94,34033.94,34033.94,34033.94,34033.94,34033.94,34033.94,34033.94,34033.94,34033.94,34033.94,34033.94,34033.94,34033.94,34033.94,34033.94,34033.94,34033.94,34033.95,34033.95,34033.95,34038.16,34051.64,34060.55,34060.55,34060.55,34060.55,34060.55,34060.55,34060.55,34060.55,34060.55,34060.55,34069.2,34072.51,34072.51,34073.89,34075.0,34075.0,34086.56,34086.56,34086.56,34086.56,34086.56,34086.56,34086.56,34086.57,34090.66,34091.44,34092.03,34092.03,34092.03,34092.03,34092.03,34092.03,34092.03,34092.03,34092.03,34092.03,34092.03,34092.03,34092.03,34092.03,34092.03,34092.03,34092.03,34092.03,34092.03,34092.03,34092.03,34092.03,34092.03,34092.03,34092.03,34092.03,34092.03,34092.03,34096.14,34106.72,34106.72,34106.72,34106.72,34106.72,34106.72,34106.72,34106.72,34106.72,34106.73,34111.35,34111.5,34111.75,34114.84,34115.41,34115.41,34115.41,34115.41,34115.41,34115.41,34115.41,34115.41,34115.41,34115.41,34115.41,34115.41,34115.41,34115.41,34115.41,34115.41,34115.41,34115.41,34115.41,34115.41,34115.41,34115.41,34115.41,34115.41,34115.41,34115.41,34115.41,34115.41,34115.41,34115.41,34115.41,34115.41,34115.41,34115.41,34115.41,34115.41,34115.41,34115.41,34115.41,34115.41,34115.42,34115.42,34115.42,34115.42,34122.02,34122.02,34122.02,34122.02,34122.02,34122.02,34122.02,34122.02,34122.02,34122.02,34122.02,34122.02,34125.0,34126.73,34126.88,34126.88,34126.88,34126.88,34126.88,34126.88,34126.88,34126.88,34126.88,34126.88,34126.88,34126.88,34126.88,34126.88,34126.88,34126.88,34126.88,34126.88,34126.88,34126.88,34126.88,34126.88,34126.88,34126.88,34126.88,34126.88,34126.88,34126.88,34126.88,34126.88,34126.88,34126.88,34126.88,34126.88,34126.88,34126.88,34126.88,34126.88,34126.88,34126.88,34126.88,34126.89,34126.89,34126.89,34126.89,34126.89,34126.89,34126.95,34126.95,34126.95,34126.95,34126.95,34126.95,34126.95,34126.95,34126.95,34126.96,34126.96,34127.87,34127.87,34127.87,34127.87,34127.87,34127.87,34127.87,34127.87,34127.87,34127.87,34127.87,34127.87,34127.87,34127.87,34127.87,34127.88,34127.88,34127.88,34129.78,34131.46,34131.46,34131.46,34131.46,34131.46,34131.46,34131.47,34131.47,34134.42,34134.5,34135.12,34135.12,34135.12,34135.12,34135.12,34135.12,34135.12,34135.12,34135.12,34135.12,34135.12,34135.12,34135.12,34135.12,34135.12,34135.12,34135.12,34135.12,34135.12,34135.12,34135.12,34135.12,34135.12,34135.12,34135.12,34135.12,34135.12,34135.12,34135.12,34135.12,34135.12,34135.12,34135.12,34135.12,34135.12,34135.12,34135.12,34135.12,34135.12,34135.12,34135.12,34135.12,34135.12,34135.12,34135.12,34135.12,34135.12,34135.12,34135.12,34135.12,34135.12,34135.12,34135.12,34135.12,34135.12,34135.12,34135.12,34135.12,34135.12,34135.12,34135.13]],\"type\":\"box\"}],                        {\"template\":{\"data\":{\"bar\":[{\"error_x\":{\"color\":\"#2a3f5f\"},\"error_y\":{\"color\":\"#2a3f5f\"},\"marker\":{\"line\":{\"color\":\"#E5ECF6\",\"width\":0.5},\"pattern\":{\"fillmode\":\"overlay\",\"size\":10,\"solidity\":0.2}},\"type\":\"bar\"}],\"barpolar\":[{\"marker\":{\"line\":{\"color\":\"#E5ECF6\",\"width\":0.5},\"pattern\":{\"fillmode\":\"overlay\",\"size\":10,\"solidity\":0.2}},\"type\":\"barpolar\"}],\"carpet\":[{\"aaxis\":{\"endlinecolor\":\"#2a3f5f\",\"gridcolor\":\"white\",\"linecolor\":\"white\",\"minorgridcolor\":\"white\",\"startlinecolor\":\"#2a3f5f\"},\"baxis\":{\"endlinecolor\":\"#2a3f5f\",\"gridcolor\":\"white\",\"linecolor\":\"white\",\"minorgridcolor\":\"white\",\"startlinecolor\":\"#2a3f5f\"},\"type\":\"carpet\"}],\"choropleth\":[{\"colorbar\":{\"outlinewidth\":0,\"ticks\":\"\"},\"type\":\"choropleth\"}],\"contour\":[{\"colorbar\":{\"outlinewidth\":0,\"ticks\":\"\"},\"colorscale\":[[0.0,\"#0d0887\"],[0.1111111111111111,\"#46039f\"],[0.2222222222222222,\"#7201a8\"],[0.3333333333333333,\"#9c179e\"],[0.4444444444444444,\"#bd3786\"],[0.5555555555555556,\"#d8576b\"],[0.6666666666666666,\"#ed7953\"],[0.7777777777777778,\"#fb9f3a\"],[0.8888888888888888,\"#fdca26\"],[1.0,\"#f0f921\"]],\"type\":\"contour\"}],\"contourcarpet\":[{\"colorbar\":{\"outlinewidth\":0,\"ticks\":\"\"},\"type\":\"contourcarpet\"}],\"heatmap\":[{\"colorbar\":{\"outlinewidth\":0,\"ticks\":\"\"},\"colorscale\":[[0.0,\"#0d0887\"],[0.1111111111111111,\"#46039f\"],[0.2222222222222222,\"#7201a8\"],[0.3333333333333333,\"#9c179e\"],[0.4444444444444444,\"#bd3786\"],[0.5555555555555556,\"#d8576b\"],[0.6666666666666666,\"#ed7953\"],[0.7777777777777778,\"#fb9f3a\"],[0.8888888888888888,\"#fdca26\"],[1.0,\"#f0f921\"]],\"type\":\"heatmap\"}],\"heatmapgl\":[{\"colorbar\":{\"outlinewidth\":0,\"ticks\":\"\"},\"colorscale\":[[0.0,\"#0d0887\"],[0.1111111111111111,\"#46039f\"],[0.2222222222222222,\"#7201a8\"],[0.3333333333333333,\"#9c179e\"],[0.4444444444444444,\"#bd3786\"],[0.5555555555555556,\"#d8576b\"],[0.6666666666666666,\"#ed7953\"],[0.7777777777777778,\"#fb9f3a\"],[0.8888888888888888,\"#fdca26\"],[1.0,\"#f0f921\"]],\"type\":\"heatmapgl\"}],\"histogram\":[{\"marker\":{\"pattern\":{\"fillmode\":\"overlay\",\"size\":10,\"solidity\":0.2}},\"type\":\"histogram\"}],\"histogram2d\":[{\"colorbar\":{\"outlinewidth\":0,\"ticks\":\"\"},\"colorscale\":[[0.0,\"#0d0887\"],[0.1111111111111111,\"#46039f\"],[0.2222222222222222,\"#7201a8\"],[0.3333333333333333,\"#9c179e\"],[0.4444444444444444,\"#bd3786\"],[0.5555555555555556,\"#d8576b\"],[0.6666666666666666,\"#ed7953\"],[0.7777777777777778,\"#fb9f3a\"],[0.8888888888888888,\"#fdca26\"],[1.0,\"#f0f921\"]],\"type\":\"histogram2d\"}],\"histogram2dcontour\":[{\"colorbar\":{\"outlinewidth\":0,\"ticks\":\"\"},\"colorscale\":[[0.0,\"#0d0887\"],[0.1111111111111111,\"#46039f\"],[0.2222222222222222,\"#7201a8\"],[0.3333333333333333,\"#9c179e\"],[0.4444444444444444,\"#bd3786\"],[0.5555555555555556,\"#d8576b\"],[0.6666666666666666,\"#ed7953\"],[0.7777777777777778,\"#fb9f3a\"],[0.8888888888888888,\"#fdca26\"],[1.0,\"#f0f921\"]],\"type\":\"histogram2dcontour\"}],\"mesh3d\":[{\"colorbar\":{\"outlinewidth\":0,\"ticks\":\"\"},\"type\":\"mesh3d\"}],\"parcoords\":[{\"line\":{\"colorbar\":{\"outlinewidth\":0,\"ticks\":\"\"}},\"type\":\"parcoords\"}],\"pie\":[{\"automargin\":true,\"type\":\"pie\"}],\"scatter\":[{\"marker\":{\"colorbar\":{\"outlinewidth\":0,\"ticks\":\"\"}},\"type\":\"scatter\"}],\"scatter3d\":[{\"line\":{\"colorbar\":{\"outlinewidth\":0,\"ticks\":\"\"}},\"marker\":{\"colorbar\":{\"outlinewidth\":0,\"ticks\":\"\"}},\"type\":\"scatter3d\"}],\"scattercarpet\":[{\"marker\":{\"colorbar\":{\"outlinewidth\":0,\"ticks\":\"\"}},\"type\":\"scattercarpet\"}],\"scattergeo\":[{\"marker\":{\"colorbar\":{\"outlinewidth\":0,\"ticks\":\"\"}},\"type\":\"scattergeo\"}],\"scattergl\":[{\"marker\":{\"colorbar\":{\"outlinewidth\":0,\"ticks\":\"\"}},\"type\":\"scattergl\"}],\"scattermapbox\":[{\"marker\":{\"colorbar\":{\"outlinewidth\":0,\"ticks\":\"\"}},\"type\":\"scattermapbox\"}],\"scatterpolar\":[{\"marker\":{\"colorbar\":{\"outlinewidth\":0,\"ticks\":\"\"}},\"type\":\"scatterpolar\"}],\"scatterpolargl\":[{\"marker\":{\"colorbar\":{\"outlinewidth\":0,\"ticks\":\"\"}},\"type\":\"scatterpolargl\"}],\"scatterternary\":[{\"marker\":{\"colorbar\":{\"outlinewidth\":0,\"ticks\":\"\"}},\"type\":\"scatterternary\"}],\"surface\":[{\"colorbar\":{\"outlinewidth\":0,\"ticks\":\"\"},\"colorscale\":[[0.0,\"#0d0887\"],[0.1111111111111111,\"#46039f\"],[0.2222222222222222,\"#7201a8\"],[0.3333333333333333,\"#9c179e\"],[0.4444444444444444,\"#bd3786\"],[0.5555555555555556,\"#d8576b\"],[0.6666666666666666,\"#ed7953\"],[0.7777777777777778,\"#fb9f3a\"],[0.8888888888888888,\"#fdca26\"],[1.0,\"#f0f921\"]],\"type\":\"surface\"}],\"table\":[{\"cells\":{\"fill\":{\"color\":\"#EBF0F8\"},\"line\":{\"color\":\"white\"}},\"header\":{\"fill\":{\"color\":\"#C8D4E3\"},\"line\":{\"color\":\"white\"}},\"type\":\"table\"}]},\"layout\":{\"annotationdefaults\":{\"arrowcolor\":\"#2a3f5f\",\"arrowhead\":0,\"arrowwidth\":1},\"autotypenumbers\":\"strict\",\"coloraxis\":{\"colorbar\":{\"outlinewidth\":0,\"ticks\":\"\"}},\"colorscale\":{\"diverging\":[[0,\"#8e0152\"],[0.1,\"#c51b7d\"],[0.2,\"#de77ae\"],[0.3,\"#f1b6da\"],[0.4,\"#fde0ef\"],[0.5,\"#f7f7f7\"],[0.6,\"#e6f5d0\"],[0.7,\"#b8e186\"],[0.8,\"#7fbc41\"],[0.9,\"#4d9221\"],[1,\"#276419\"]],\"sequential\":[[0.0,\"#0d0887\"],[0.1111111111111111,\"#46039f\"],[0.2222222222222222,\"#7201a8\"],[0.3333333333333333,\"#9c179e\"],[0.4444444444444444,\"#bd3786\"],[0.5555555555555556,\"#d8576b\"],[0.6666666666666666,\"#ed7953\"],[0.7777777777777778,\"#fb9f3a\"],[0.8888888888888888,\"#fdca26\"],[1.0,\"#f0f921\"]],\"sequentialminus\":[[0.0,\"#0d0887\"],[0.1111111111111111,\"#46039f\"],[0.2222222222222222,\"#7201a8\"],[0.3333333333333333,\"#9c179e\"],[0.4444444444444444,\"#bd3786\"],[0.5555555555555556,\"#d8576b\"],[0.6666666666666666,\"#ed7953\"],[0.7777777777777778,\"#fb9f3a\"],[0.8888888888888888,\"#fdca26\"],[1.0,\"#f0f921\"]]},\"colorway\":[\"#636efa\",\"#EF553B\",\"#00cc96\",\"#ab63fa\",\"#FFA15A\",\"#19d3f3\",\"#FF6692\",\"#B6E880\",\"#FF97FF\",\"#FECB52\"],\"font\":{\"color\":\"#2a3f5f\"},\"geo\":{\"bgcolor\":\"white\",\"lakecolor\":\"white\",\"landcolor\":\"#E5ECF6\",\"showlakes\":true,\"showland\":true,\"subunitcolor\":\"white\"},\"hoverlabel\":{\"align\":\"left\"},\"hovermode\":\"closest\",\"mapbox\":{\"style\":\"light\"},\"paper_bgcolor\":\"white\",\"plot_bgcolor\":\"#E5ECF6\",\"polar\":{\"angularaxis\":{\"gridcolor\":\"white\",\"linecolor\":\"white\",\"ticks\":\"\"},\"bgcolor\":\"#E5ECF6\",\"radialaxis\":{\"gridcolor\":\"white\",\"linecolor\":\"white\",\"ticks\":\"\"}},\"scene\":{\"xaxis\":{\"backgroundcolor\":\"#E5ECF6\",\"gridcolor\":\"white\",\"gridwidth\":2,\"linecolor\":\"white\",\"showbackground\":true,\"ticks\":\"\",\"zerolinecolor\":\"white\"},\"yaxis\":{\"backgroundcolor\":\"#E5ECF6\",\"gridcolor\":\"white\",\"gridwidth\":2,\"linecolor\":\"white\",\"showbackground\":true,\"ticks\":\"\",\"zerolinecolor\":\"white\"},\"zaxis\":{\"backgroundcolor\":\"#E5ECF6\",\"gridcolor\":\"white\",\"gridwidth\":2,\"linecolor\":\"white\",\"showbackground\":true,\"ticks\":\"\",\"zerolinecolor\":\"white\"}},\"shapedefaults\":{\"line\":{\"color\":\"#2a3f5f\"}},\"ternary\":{\"aaxis\":{\"gridcolor\":\"white\",\"linecolor\":\"white\",\"ticks\":\"\"},\"baxis\":{\"gridcolor\":\"white\",\"linecolor\":\"white\",\"ticks\":\"\"},\"bgcolor\":\"#E5ECF6\",\"caxis\":{\"gridcolor\":\"white\",\"linecolor\":\"white\",\"ticks\":\"\"}},\"title\":{\"x\":0.05},\"xaxis\":{\"automargin\":true,\"gridcolor\":\"white\",\"linecolor\":\"white\",\"ticks\":\"\",\"title\":{\"standoff\":15},\"zerolinecolor\":\"white\",\"zerolinewidth\":2},\"yaxis\":{\"automargin\":true,\"gridcolor\":\"white\",\"linecolor\":\"white\",\"ticks\":\"\",\"title\":{\"standoff\":15},\"zerolinecolor\":\"white\",\"zerolinewidth\":2}}},\"xaxis\":{\"title\":{\"text\":\"out_prncp\"}},\"yaxis\":{\"title\":{\"text\":\"value\"}}},                        {\"responsive\": true}                    ).then(function(){\n",
              "                            \n",
              "var gd = document.getElementById('6f3e0d7c-bfc1-4a2f-9555-59f884f711d1');\n",
              "var x = new MutationObserver(function (mutations, observer) {{\n",
              "        var display = window.getComputedStyle(gd).display;\n",
              "        if (!display || display === 'none') {{\n",
              "            console.log([gd, 'removed!']);\n",
              "            Plotly.purge(gd);\n",
              "            observer.disconnect();\n",
              "        }}\n",
              "}});\n",
              "\n",
              "// Listen for the removal of the full notebook cells\n",
              "var notebookContainer = gd.closest('#notebook-container');\n",
              "if (notebookContainer) {{\n",
              "    x.observe(notebookContainer, {childList: true});\n",
              "}}\n",
              "\n",
              "// Listen for the clearing of the current output cell\n",
              "var outputEl = gd.closest('.output');\n",
              "if (outputEl) {{\n",
              "    x.observe(outputEl, {childList: true});\n",
              "}}\n",
              "\n",
              "                        })                };                            </script>        </div>\n",
              "</body>\n",
              "</html>"
            ]
          },
          "metadata": {}
        }
      ]
    },
    {
      "cell_type": "code",
      "source": [
        "testing['out_prncp_inv'].plot.box()"
      ],
      "metadata": {
        "colab": {
          "base_uri": "https://localhost:8080/",
          "height": 542
        },
        "id": "5adRcu82gtu-",
        "outputId": "6ab77532-fcf1-477d-b219-79d29d99635e"
      },
      "execution_count": null,
      "outputs": [
        {
          "output_type": "display_data",
          "data": {
            "text/html": [
              "<html>\n",
              "<head><meta charset=\"utf-8\" /></head>\n",
              "<body>\n",
              "    <div>            <script src=\"https://cdnjs.cloudflare.com/ajax/libs/mathjax/2.7.5/MathJax.js?config=TeX-AMS-MML_SVG\"></script><script type=\"text/javascript\">if (window.MathJax) {MathJax.Hub.Config({SVG: {font: \"STIX-Web\"}});}</script>                <script type=\"text/javascript\">window.PlotlyConfig = {MathJaxConfig: 'local'};</script>\n",
              "        <script src=\"https://cdn.plot.ly/plotly-2.8.3.min.js\"></script>                <div id=\"cd1c9414-f800-4fee-8b77-ef2a21d5fd50\" class=\"plotly-graph-div\" style=\"height:525px; width:100%;\"></div>            <script type=\"text/javascript\">                                    window.PLOTLYENV=window.PLOTLYENV || {};                                    if (document.getElementById(\"cd1c9414-f800-4fee-8b77-ef2a21d5fd50\")) {                    Plotly.newPlot(                        \"cd1c9414-f800-4fee-8b77-ef2a21d5fd50\",                        [{\"boxpoints\":\"suspectedoutliers\",\"lowerfence\":[0.0],\"mean\":[8283.619581007115],\"median\":[6160.06],\"name\":\"out_prncp_inv\",\"notched\":false,\"q1\":[0.0],\"q3\":[13490.6],\"upperfence\":[33724.73],\"y\":[[33727.32,33732.3,33733.52,33734.8,33734.8,33734.8,33734.8,33734.8,33734.8,33734.8,33736.22,33738.08,33738.31,33739.05,33740.21,33740.21,33740.21,33743.11,33743.11,33743.11,33743.11,33744.0,33745.2,33745.2,33745.67,33745.67,33745.67,33745.67,33745.67,33745.67,33745.67,33745.67,33745.67,33745.67,33745.67,33745.67,33745.67,33745.67,33745.67,33745.67,33745.67,33745.67,33745.67,33745.67,33745.67,33745.67,33745.67,33745.67,33745.67,33745.67,33745.67,33745.67,33745.67,33745.67,33745.67,33745.67,33745.67,33745.67,33745.67,33745.67,33745.67,33745.67,33745.67,33745.67,33745.68,33745.68,33745.68,33745.68,33745.68,33745.68,33745.68,33745.68,33745.68,33745.68,33745.68,33745.68,33746.47,33747.8,33750.0,33750.0,33750.73,33763.25,33763.83,33764.35,33764.35,33764.35,33764.35,33764.35,33764.36,33764.36,33764.36,33764.93,33767.23,33767.23,33767.23,33767.23,33767.23,33767.23,33767.23,33767.23,33767.23,33767.23,33767.23,33767.23,33767.23,33767.23,33767.23,33767.23,33767.23,33767.23,33767.23,33767.23,33767.23,33767.23,33767.23,33767.23,33767.23,33767.23,33767.23,33767.23,33767.23,33767.23,33767.23,33767.23,33767.23,33767.23,33767.24,33767.24,33767.24,33767.24,33767.24,33769.32,33769.32,33769.32,33770.05,33770.61,33770.63,33770.63,33772.13,33772.52,33773.95,33775.65,33775.65,33775.65,33776.14,33779.59,33779.6,33779.99,33782.5,33782.5,33788.48,33788.48,33788.48,33788.48,33788.48,33788.48,33788.48,33788.48,33788.48,33788.48,33788.48,33788.48,33788.48,33788.48,33788.48,33788.48,33788.48,33788.48,33788.48,33788.48,33788.48,33788.48,33788.48,33788.48,33788.48,33788.48,33788.48,33788.48,33788.48,33788.48,33788.48,33788.48,33788.48,33788.48,33788.48,33788.48,33788.48,33788.48,33788.48,33788.49,33788.49,33788.49,33788.49,33788.49,33788.49,33791.21,33791.22,33793.41,33794.02,33794.79,33794.79,33794.79,33794.79,33794.79,33794.79,33794.79,33794.8,33799.83,33799.83,33799.83,33799.83,33804.77,33804.78,33804.78,33806.7,33806.7,33806.7,33810.33,33810.39,33811.69,33811.71,33813.31,33813.31,33813.31,33813.31,33813.31,33813.49,33815.42,33818.94,33818.94,33818.94,33818.94,33818.94,33818.94,33818.94,33818.94,33818.94,33818.94,33818.94,33818.94,33818.94,33818.94,33818.94,33818.94,33818.94,33818.94,33818.94,33818.94,33818.94,33818.95,33818.95,33818.95,33818.95,33818.95,33824.01,33824.01,33824.01,33824.01,33827.05,33827.05,33828.94,33830.9,33830.9,33830.9,33830.9,33835.92,33835.92,33835.92,33835.93,33837.49,33837.49,33837.49,33837.49,33839.47,33839.6,33839.62,33839.62,33839.62,33846.27,33846.57,33846.57,33846.57,33846.57,33848.18,33848.18,33848.18,33848.18,33848.18,33848.18,33848.18,33848.18,33848.18,33848.18,33848.18,33848.19,33848.19,33848.19,33848.19,33848.19,33848.19,33848.19,33849.52,33851.26,33851.26,33851.26,33851.26,33851.26,33851.26,33852.06,33853.53,33853.54,33854.23,33854.68,33855.1,33855.1,33855.1,33860.15,33860.15,33860.15,33860.15,33861.68,33861.68,33861.68,33861.68,33861.68,33861.68,33861.68,33861.68,33861.68,33861.68,33861.68,33861.68,33861.68,33861.68,33861.68,33861.68,33861.68,33861.68,33861.68,33861.68,33861.68,33861.68,33861.69,33863.83,33863.83,33863.83,33863.83,33863.83,33863.84,33864.95,33866.78,33871.2,33871.37,33873.18,33873.78,33873.96,33875.48,33875.48,33875.48,33875.48,33875.48,33875.48,33875.48,33875.85,33877.79,33878.92,33878.92,33879.3,33879.3,33879.3,33879.3,33879.3,33879.3,33879.3,33879.3,33879.3,33879.3,33879.3,33879.3,33879.3,33879.3,33879.3,33879.3,33879.3,33879.3,33879.3,33879.3,33879.3,33879.3,33879.3,33879.3,33879.3,33879.3,33879.3,33879.3,33879.3,33879.3,33879.3,33879.3,33879.3,33881.85,33881.85,33883.12,33883.12,33884.37,33884.37,33884.37,33884.37,33884.37,33884.37,33884.37,33884.38,33888.03,33888.03,33888.03,33888.03,33888.03,33888.03,33888.03,33888.03,33888.03,33888.03,33888.03,33888.03,33888.03,33888.03,33888.03,33888.03,33888.03,33888.03,33888.03,33888.03,33888.03,33888.03,33888.04,33890.6,33890.86,33891.3,33895.04,33897.63,33899.04,33899.69,33899.69,33899.69,33899.69,33899.69,33899.69,33899.69,33899.69,33899.69,33899.69,33899.69,33899.69,33899.69,33899.69,33899.69,33899.69,33899.69,33899.69,33899.69,33899.69,33899.69,33899.7,33899.7,33901.72,33901.72,33902.03,33902.03,33902.03,33902.03,33902.03,33902.04,33902.3,33903.15,33903.15,33903.15,33903.15,33903.15,33903.15,33903.15,33903.15,33907.75,33908.59,33908.59,33908.59,33908.59,33908.59,33908.59,33908.59,33908.59,33908.59,33908.59,33908.59,33908.59,33908.59,33908.59,33908.59,33908.59,33908.59,33908.59,33908.59,33908.59,33908.59,33908.59,33908.59,33908.59,33908.59,33908.59,33908.59,33908.59,33908.59,33908.59,33908.59,33908.59,33908.59,33908.59,33908.59,33908.59,33908.59,33909.54,33909.57,33909.58,33910.72,33914.58,33915.25,33924.36,33925.0,33926.28,33926.28,33926.28,33926.28,33926.28,33926.28,33926.29,33926.29,33927.38,33927.38,33927.38,33927.38,33927.38,33927.38,33927.38,33927.38,33927.38,33927.38,33927.38,33927.38,33927.38,33927.38,33927.38,33927.38,33927.38,33927.38,33927.38,33927.38,33927.38,33927.38,33927.38,33927.38,33927.38,33927.38,33927.39,33927.39,33927.39,33930.39,33930.39,33930.39,33930.39,33930.39,33933.86,33933.86,33933.86,33933.86,33933.87,33936.19,33943.83,33943.93,33945.48,33946.01,33950.54,33950.54,33950.54,33950.54,33950.54,33950.54,33950.54,33950.54,33950.54,33950.54,33950.54,33950.54,33950.54,33950.54,33950.54,33950.54,33950.54,33950.54,33950.54,33950.54,33950.54,33950.54,33952.77,33954.66,33954.66,33954.66,33954.66,33954.66,33958.15,33960.19,33961.01,33961.01,33961.01,33961.01,33961.01,33962.84,33964.66,33971.72,33973.32,33975.0,33978.93,33978.93,33978.93,33978.93,33978.93,33978.93,33978.93,33978.93,33978.93,33978.93,33978.93,33978.93,33978.93,33978.93,33978.93,33978.93,33978.94,33978.94,33978.94,33980.62,33982.44,33982.44,33982.44,33984.91,33985.32,33985.32,33985.33,33987.56,33989.13,33989.13,33992.84,33992.84,33994.03,33997.58,33998.09,34000.0,34000.0,34000.0,34000.0,34000.0,34000.0,34004.23,34006.73,34006.73,34006.73,34006.73,34006.73,34006.73,34006.73,34006.73,34006.73,34006.74,34006.74,34007.79,34009.08,34009.63,34009.63,34009.63,34009.63,34009.63,34010.11,34012.61,34012.85,34013.34,34013.52,34019.43,34019.43,34019.71,34022.4,34025.0,34027.2,34027.21,34033.64,34033.64,34033.94,34033.94,34033.94,34033.94,34033.94,34033.94,34033.94,34033.94,34033.94,34033.94,34033.94,34033.94,34033.95,34033.95,34033.95,34036.19,34036.22,34036.22,34036.43,34037.81,34038.16,34041.75,34042.18,34042.18,34042.18,34043.8,34043.91,34047.6,34047.6,34047.6,34047.6,34047.61,34051.64,34052.23,34053.85,34054.33,34054.33,34054.33,34054.33,34054.33,34054.33,34055.51,34056.58,34056.58,34056.58,34056.58,34057.63,34057.98,34060.55,34060.55,34060.55,34060.55,34060.55,34060.55,34061.48,34061.65,34062.22,34062.22,34062.22,34062.22,34067.48,34067.48,34068.38,34069.2,34071.47,34071.99,34072.51,34072.51,34073.89,34075.0,34075.0,34076.17,34076.62,34076.63,34080.93,34080.93,34082.36,34082.36,34082.36,34082.37,34082.43,34082.43,34082.71,34083.39,34085.23,34085.26,34085.26,34085.26,34086.56,34086.56,34087.01,34090.44,34090.44,34090.44,34091.04,34092.03,34092.03,34092.03,34092.03,34092.03,34092.03,34092.03,34092.03,34092.03,34092.03,34092.03,34092.03,34092.03,34092.03,34092.03,34092.03,34092.03,34092.03,34092.03,34092.03,34092.03,34092.03,34092.03,34092.03,34092.03,34092.03,34092.03,34092.03,34092.64,34092.72,34092.86,34095.92,34095.92,34095.92,34095.92,34095.92,34095.96,34096.14,34097.12,34097.65,34099.53,34099.53,34099.7,34099.7,34099.7,34100.65,34101.09,34101.09,34101.09,34101.09,34101.71,34102.5,34102.57,34102.9,34102.9,34103.51,34105.37,34105.37,34105.37,34105.37,34106.6,34106.72,34106.72,34107.08,34107.08,34107.08,34107.08,34107.85,34107.85,34109.76,34109.76,34109.76,34109.76,34110.12,34110.35,34110.74,34110.74,34110.74,34111.08,34111.22,34111.22,34111.22,34111.22,34111.35,34111.48,34111.48,34111.5,34111.75,34113.38,34114.84,34115.12,34115.41,34115.41,34115.41,34115.41,34115.41,34115.41,34115.41,34115.41,34115.41,34115.41,34115.41,34115.41,34115.41,34115.41,34115.41,34115.41,34115.41,34115.41,34115.41,34115.41,34115.41,34115.41,34115.41,34115.41,34115.41,34115.41,34115.41,34115.41,34115.41,34115.41,34115.41,34115.41,34115.41,34115.41,34115.41,34115.41,34115.41,34115.41,34115.41,34115.42,34115.42,34115.42,34115.42,34115.75,34115.75,34115.75,34116.29,34116.65,34117.34,34119.6,34119.6,34119.97,34120.34,34121.54,34122.02,34122.02,34122.02,34122.02,34122.02,34122.02,34122.02,34122.02,34122.02,34122.02,34122.02,34123.07,34124.16,34124.16,34125.0,34125.13,34125.13,34126.73,34126.88,34126.88,34126.88,34126.88,34126.88,34126.88,34126.88,34126.88,34126.88,34126.88,34126.88,34126.88,34126.88,34126.88,34126.88,34126.88,34126.88,34126.88,34126.88,34126.88,34126.88,34126.88,34126.88,34126.88,34126.88,34126.88,34126.88,34126.88,34126.88,34126.88,34126.88,34126.88,34126.88,34126.88,34126.88,34126.88,34126.88,34126.88,34126.89,34126.89,34126.89,34126.89,34126.89,34126.89,34126.95,34126.95,34126.95,34126.95,34126.95,34126.95]],\"type\":\"box\"}],                        {\"template\":{\"data\":{\"bar\":[{\"error_x\":{\"color\":\"#2a3f5f\"},\"error_y\":{\"color\":\"#2a3f5f\"},\"marker\":{\"line\":{\"color\":\"#E5ECF6\",\"width\":0.5},\"pattern\":{\"fillmode\":\"overlay\",\"size\":10,\"solidity\":0.2}},\"type\":\"bar\"}],\"barpolar\":[{\"marker\":{\"line\":{\"color\":\"#E5ECF6\",\"width\":0.5},\"pattern\":{\"fillmode\":\"overlay\",\"size\":10,\"solidity\":0.2}},\"type\":\"barpolar\"}],\"carpet\":[{\"aaxis\":{\"endlinecolor\":\"#2a3f5f\",\"gridcolor\":\"white\",\"linecolor\":\"white\",\"minorgridcolor\":\"white\",\"startlinecolor\":\"#2a3f5f\"},\"baxis\":{\"endlinecolor\":\"#2a3f5f\",\"gridcolor\":\"white\",\"linecolor\":\"white\",\"minorgridcolor\":\"white\",\"startlinecolor\":\"#2a3f5f\"},\"type\":\"carpet\"}],\"choropleth\":[{\"colorbar\":{\"outlinewidth\":0,\"ticks\":\"\"},\"type\":\"choropleth\"}],\"contour\":[{\"colorbar\":{\"outlinewidth\":0,\"ticks\":\"\"},\"colorscale\":[[0.0,\"#0d0887\"],[0.1111111111111111,\"#46039f\"],[0.2222222222222222,\"#7201a8\"],[0.3333333333333333,\"#9c179e\"],[0.4444444444444444,\"#bd3786\"],[0.5555555555555556,\"#d8576b\"],[0.6666666666666666,\"#ed7953\"],[0.7777777777777778,\"#fb9f3a\"],[0.8888888888888888,\"#fdca26\"],[1.0,\"#f0f921\"]],\"type\":\"contour\"}],\"contourcarpet\":[{\"colorbar\":{\"outlinewidth\":0,\"ticks\":\"\"},\"type\":\"contourcarpet\"}],\"heatmap\":[{\"colorbar\":{\"outlinewidth\":0,\"ticks\":\"\"},\"colorscale\":[[0.0,\"#0d0887\"],[0.1111111111111111,\"#46039f\"],[0.2222222222222222,\"#7201a8\"],[0.3333333333333333,\"#9c179e\"],[0.4444444444444444,\"#bd3786\"],[0.5555555555555556,\"#d8576b\"],[0.6666666666666666,\"#ed7953\"],[0.7777777777777778,\"#fb9f3a\"],[0.8888888888888888,\"#fdca26\"],[1.0,\"#f0f921\"]],\"type\":\"heatmap\"}],\"heatmapgl\":[{\"colorbar\":{\"outlinewidth\":0,\"ticks\":\"\"},\"colorscale\":[[0.0,\"#0d0887\"],[0.1111111111111111,\"#46039f\"],[0.2222222222222222,\"#7201a8\"],[0.3333333333333333,\"#9c179e\"],[0.4444444444444444,\"#bd3786\"],[0.5555555555555556,\"#d8576b\"],[0.6666666666666666,\"#ed7953\"],[0.7777777777777778,\"#fb9f3a\"],[0.8888888888888888,\"#fdca26\"],[1.0,\"#f0f921\"]],\"type\":\"heatmapgl\"}],\"histogram\":[{\"marker\":{\"pattern\":{\"fillmode\":\"overlay\",\"size\":10,\"solidity\":0.2}},\"type\":\"histogram\"}],\"histogram2d\":[{\"colorbar\":{\"outlinewidth\":0,\"ticks\":\"\"},\"colorscale\":[[0.0,\"#0d0887\"],[0.1111111111111111,\"#46039f\"],[0.2222222222222222,\"#7201a8\"],[0.3333333333333333,\"#9c179e\"],[0.4444444444444444,\"#bd3786\"],[0.5555555555555556,\"#d8576b\"],[0.6666666666666666,\"#ed7953\"],[0.7777777777777778,\"#fb9f3a\"],[0.8888888888888888,\"#fdca26\"],[1.0,\"#f0f921\"]],\"type\":\"histogram2d\"}],\"histogram2dcontour\":[{\"colorbar\":{\"outlinewidth\":0,\"ticks\":\"\"},\"colorscale\":[[0.0,\"#0d0887\"],[0.1111111111111111,\"#46039f\"],[0.2222222222222222,\"#7201a8\"],[0.3333333333333333,\"#9c179e\"],[0.4444444444444444,\"#bd3786\"],[0.5555555555555556,\"#d8576b\"],[0.6666666666666666,\"#ed7953\"],[0.7777777777777778,\"#fb9f3a\"],[0.8888888888888888,\"#fdca26\"],[1.0,\"#f0f921\"]],\"type\":\"histogram2dcontour\"}],\"mesh3d\":[{\"colorbar\":{\"outlinewidth\":0,\"ticks\":\"\"},\"type\":\"mesh3d\"}],\"parcoords\":[{\"line\":{\"colorbar\":{\"outlinewidth\":0,\"ticks\":\"\"}},\"type\":\"parcoords\"}],\"pie\":[{\"automargin\":true,\"type\":\"pie\"}],\"scatter\":[{\"marker\":{\"colorbar\":{\"outlinewidth\":0,\"ticks\":\"\"}},\"type\":\"scatter\"}],\"scatter3d\":[{\"line\":{\"colorbar\":{\"outlinewidth\":0,\"ticks\":\"\"}},\"marker\":{\"colorbar\":{\"outlinewidth\":0,\"ticks\":\"\"}},\"type\":\"scatter3d\"}],\"scattercarpet\":[{\"marker\":{\"colorbar\":{\"outlinewidth\":0,\"ticks\":\"\"}},\"type\":\"scattercarpet\"}],\"scattergeo\":[{\"marker\":{\"colorbar\":{\"outlinewidth\":0,\"ticks\":\"\"}},\"type\":\"scattergeo\"}],\"scattergl\":[{\"marker\":{\"colorbar\":{\"outlinewidth\":0,\"ticks\":\"\"}},\"type\":\"scattergl\"}],\"scattermapbox\":[{\"marker\":{\"colorbar\":{\"outlinewidth\":0,\"ticks\":\"\"}},\"type\":\"scattermapbox\"}],\"scatterpolar\":[{\"marker\":{\"colorbar\":{\"outlinewidth\":0,\"ticks\":\"\"}},\"type\":\"scatterpolar\"}],\"scatterpolargl\":[{\"marker\":{\"colorbar\":{\"outlinewidth\":0,\"ticks\":\"\"}},\"type\":\"scatterpolargl\"}],\"scatterternary\":[{\"marker\":{\"colorbar\":{\"outlinewidth\":0,\"ticks\":\"\"}},\"type\":\"scatterternary\"}],\"surface\":[{\"colorbar\":{\"outlinewidth\":0,\"ticks\":\"\"},\"colorscale\":[[0.0,\"#0d0887\"],[0.1111111111111111,\"#46039f\"],[0.2222222222222222,\"#7201a8\"],[0.3333333333333333,\"#9c179e\"],[0.4444444444444444,\"#bd3786\"],[0.5555555555555556,\"#d8576b\"],[0.6666666666666666,\"#ed7953\"],[0.7777777777777778,\"#fb9f3a\"],[0.8888888888888888,\"#fdca26\"],[1.0,\"#f0f921\"]],\"type\":\"surface\"}],\"table\":[{\"cells\":{\"fill\":{\"color\":\"#EBF0F8\"},\"line\":{\"color\":\"white\"}},\"header\":{\"fill\":{\"color\":\"#C8D4E3\"},\"line\":{\"color\":\"white\"}},\"type\":\"table\"}]},\"layout\":{\"annotationdefaults\":{\"arrowcolor\":\"#2a3f5f\",\"arrowhead\":0,\"arrowwidth\":1},\"autotypenumbers\":\"strict\",\"coloraxis\":{\"colorbar\":{\"outlinewidth\":0,\"ticks\":\"\"}},\"colorscale\":{\"diverging\":[[0,\"#8e0152\"],[0.1,\"#c51b7d\"],[0.2,\"#de77ae\"],[0.3,\"#f1b6da\"],[0.4,\"#fde0ef\"],[0.5,\"#f7f7f7\"],[0.6,\"#e6f5d0\"],[0.7,\"#b8e186\"],[0.8,\"#7fbc41\"],[0.9,\"#4d9221\"],[1,\"#276419\"]],\"sequential\":[[0.0,\"#0d0887\"],[0.1111111111111111,\"#46039f\"],[0.2222222222222222,\"#7201a8\"],[0.3333333333333333,\"#9c179e\"],[0.4444444444444444,\"#bd3786\"],[0.5555555555555556,\"#d8576b\"],[0.6666666666666666,\"#ed7953\"],[0.7777777777777778,\"#fb9f3a\"],[0.8888888888888888,\"#fdca26\"],[1.0,\"#f0f921\"]],\"sequentialminus\":[[0.0,\"#0d0887\"],[0.1111111111111111,\"#46039f\"],[0.2222222222222222,\"#7201a8\"],[0.3333333333333333,\"#9c179e\"],[0.4444444444444444,\"#bd3786\"],[0.5555555555555556,\"#d8576b\"],[0.6666666666666666,\"#ed7953\"],[0.7777777777777778,\"#fb9f3a\"],[0.8888888888888888,\"#fdca26\"],[1.0,\"#f0f921\"]]},\"colorway\":[\"#636efa\",\"#EF553B\",\"#00cc96\",\"#ab63fa\",\"#FFA15A\",\"#19d3f3\",\"#FF6692\",\"#B6E880\",\"#FF97FF\",\"#FECB52\"],\"font\":{\"color\":\"#2a3f5f\"},\"geo\":{\"bgcolor\":\"white\",\"lakecolor\":\"white\",\"landcolor\":\"#E5ECF6\",\"showlakes\":true,\"showland\":true,\"subunitcolor\":\"white\"},\"hoverlabel\":{\"align\":\"left\"},\"hovermode\":\"closest\",\"mapbox\":{\"style\":\"light\"},\"paper_bgcolor\":\"white\",\"plot_bgcolor\":\"#E5ECF6\",\"polar\":{\"angularaxis\":{\"gridcolor\":\"white\",\"linecolor\":\"white\",\"ticks\":\"\"},\"bgcolor\":\"#E5ECF6\",\"radialaxis\":{\"gridcolor\":\"white\",\"linecolor\":\"white\",\"ticks\":\"\"}},\"scene\":{\"xaxis\":{\"backgroundcolor\":\"#E5ECF6\",\"gridcolor\":\"white\",\"gridwidth\":2,\"linecolor\":\"white\",\"showbackground\":true,\"ticks\":\"\",\"zerolinecolor\":\"white\"},\"yaxis\":{\"backgroundcolor\":\"#E5ECF6\",\"gridcolor\":\"white\",\"gridwidth\":2,\"linecolor\":\"white\",\"showbackground\":true,\"ticks\":\"\",\"zerolinecolor\":\"white\"},\"zaxis\":{\"backgroundcolor\":\"#E5ECF6\",\"gridcolor\":\"white\",\"gridwidth\":2,\"linecolor\":\"white\",\"showbackground\":true,\"ticks\":\"\",\"zerolinecolor\":\"white\"}},\"shapedefaults\":{\"line\":{\"color\":\"#2a3f5f\"}},\"ternary\":{\"aaxis\":{\"gridcolor\":\"white\",\"linecolor\":\"white\",\"ticks\":\"\"},\"baxis\":{\"gridcolor\":\"white\",\"linecolor\":\"white\",\"ticks\":\"\"},\"bgcolor\":\"#E5ECF6\",\"caxis\":{\"gridcolor\":\"white\",\"linecolor\":\"white\",\"ticks\":\"\"}},\"title\":{\"x\":0.05},\"xaxis\":{\"automargin\":true,\"gridcolor\":\"white\",\"linecolor\":\"white\",\"ticks\":\"\",\"title\":{\"standoff\":15},\"zerolinecolor\":\"white\",\"zerolinewidth\":2},\"yaxis\":{\"automargin\":true,\"gridcolor\":\"white\",\"linecolor\":\"white\",\"ticks\":\"\",\"title\":{\"standoff\":15},\"zerolinecolor\":\"white\",\"zerolinewidth\":2}}},\"xaxis\":{\"title\":{\"text\":\"out_prncp_inv\"}},\"yaxis\":{\"title\":{\"text\":\"value\"}}},                        {\"responsive\": true}                    ).then(function(){\n",
              "                            \n",
              "var gd = document.getElementById('cd1c9414-f800-4fee-8b77-ef2a21d5fd50');\n",
              "var x = new MutationObserver(function (mutations, observer) {{\n",
              "        var display = window.getComputedStyle(gd).display;\n",
              "        if (!display || display === 'none') {{\n",
              "            console.log([gd, 'removed!']);\n",
              "            Plotly.purge(gd);\n",
              "            observer.disconnect();\n",
              "        }}\n",
              "}});\n",
              "\n",
              "// Listen for the removal of the full notebook cells\n",
              "var notebookContainer = gd.closest('#notebook-container');\n",
              "if (notebookContainer) {{\n",
              "    x.observe(notebookContainer, {childList: true});\n",
              "}}\n",
              "\n",
              "// Listen for the clearing of the current output cell\n",
              "var outputEl = gd.closest('.output');\n",
              "if (outputEl) {{\n",
              "    x.observe(outputEl, {childList: true});\n",
              "}}\n",
              "\n",
              "                        })                };                            </script>        </div>\n",
              "</body>\n",
              "</html>"
            ]
          },
          "metadata": {}
        }
      ]
    },
    {
      "cell_type": "code",
      "source": [
        "testing['total_pymnt'].plot.box()"
      ],
      "metadata": {
        "colab": {
          "base_uri": "https://localhost:8080/",
          "height": 542
        },
        "id": "oKViHfRCgwlh",
        "outputId": "8a703ec2-72a7-47b9-b14a-885f407c8d16"
      },
      "execution_count": null,
      "outputs": [
        {
          "output_type": "display_data",
          "data": {
            "text/html": [
              "<html>\n",
              "<head><meta charset=\"utf-8\" /></head>\n",
              "<body>\n",
              "    <div>            <script src=\"https://cdnjs.cloudflare.com/ajax/libs/mathjax/2.7.5/MathJax.js?config=TeX-AMS-MML_SVG\"></script><script type=\"text/javascript\">if (window.MathJax) {MathJax.Hub.Config({SVG: {font: \"STIX-Web\"}});}</script>                <script type=\"text/javascript\">window.PlotlyConfig = {MathJaxConfig: 'local'};</script>\n",
              "        <script src=\"https://cdn.plot.ly/plotly-2.8.3.min.js\"></script>                <div id=\"9fbbab44-94e9-4d9b-bc1a-01414d30c991\" class=\"plotly-graph-div\" style=\"height:525px; width:100%;\"></div>            <script type=\"text/javascript\">                                    window.PLOTLYENV=window.PLOTLYENV || {};                                    if (document.getElementById(\"9fbbab44-94e9-4d9b-bc1a-01414d30c991\")) {                    Plotly.newPlot(                        \"9fbbab44-94e9-4d9b-bc1a-01414d30c991\",                        [{\"boxpoints\":\"suspectedoutliers\",\"lowerfence\":[0.0],\"mean\":[7652.052378669469],\"median\":[4934.24],\"name\":\"total_pymnt\",\"notched\":false,\"q1\":[1941.06],\"q3\":[10524.53],\"upperfence\":[23399.6],\"y\":[[23399.82251,23400.10739,23400.2468,23400.31023,23400.74953,23400.83,23401.9339,23401.94185,23402.09,23402.09,23402.26,23402.48,23402.61758,23402.96999,23403.67,23404.04,23404.18,23404.8,23404.81,23405.09,23405.26,23405.47001,23405.68,23405.72094,23405.87862,23405.90022,23405.94958,23406.39,23406.58,23406.85873,23406.89094,23407.03,23407.13385,23407.15,23407.22,23407.52539,23407.53,23407.62,23407.68,23408.18808,23408.56,23408.98,23409.0,23409.2,23409.64,23409.76,23409.96,23410.17758,23410.19,23411.4,23412.0,23412.13348,23412.69,23412.75,23412.93947,23412.98,23413.01,23413.23,23413.93155,23414.2,23414.2,23414.2,23414.2,23414.2,23414.2,23414.2,23414.2,23414.2,23414.2,23414.2,23414.2,23414.43,23414.51222,23414.66171,23414.87,23414.95,23414.96,23415.4,23415.67,23415.77,23416.25572,23416.79,23416.85,23416.89001,23416.96,23417.13,23417.41,23417.63509,23417.64575,23417.81927,23418.12569,23418.15,23418.39,23418.64,23418.68,23419.36,23419.38399,23419.45,23419.56,23419.64,23419.75563,23419.86808,23420.00354,23420.06238,23420.41397,23420.45,23420.56,23420.56,23420.64,23420.67094,23420.84297,23420.9539,23421.06,23421.06014,23421.64,23421.73,23421.73002,23421.84,23422.39,23422.46,23422.5,23422.61,23422.64272,23422.67852,23422.80122,23422.85,23423.46,23423.95353,23424.37,23424.39,23424.45,23424.66,23424.91,23424.96,23425.1,23425.24259,23425.4,23425.5,23425.5,23425.5,23425.5,23425.6,23425.81919,23425.96,23426.3,23426.5,23426.75,23426.85,23426.95,23427.01,23427.05,23427.14322,23427.16,23427.16,23427.6,23427.74563,23427.88778,23427.92,23427.93,23428.34,23428.45,23428.95,23429.0393,23430.01,23430.17552,23430.22,23430.23,23430.33,23430.6,23430.74712,23430.79,23430.94,23431.07867,23431.41,23431.4249,23431.47,23431.48859,23431.58,23431.58,23431.68798,23431.81571,23432.38632,23432.47,23432.73,23433.10799,23433.27,23433.72,23433.75,23433.89,23433.89978,23434.19595,23434.2995,23434.31,23434.47,23434.53,23434.78,23434.92,23434.93529,23435.46,23435.63,23435.94258,23436.04,23436.15352,23436.60755,23436.82,23436.88,23437.14752,23437.24038,23437.27,23437.28,23437.66,23438.26,23438.32,23438.49,23438.49081,23438.67,23438.72188,23438.73,23438.87,23438.93,23439.07,23439.09696,23439.41393,23439.55,23439.67,23439.72651,23439.83093,23439.91,23439.94,23439.97823,23440.16188,23440.35,23440.40224,23440.82,23440.97,23441.06107,23441.46689,23441.52,23442.62,23443.1,23443.26,23444.13,23444.23287,23444.43289,23444.5,23444.6,23444.71566,23445.24,23445.3,23445.46,23445.6,23446.4,23446.76,23446.99075,23447.06881,23447.51,23447.88,23447.90242,23448.04857,23449.03,23449.03973,23449.0743,23449.21,23449.5,23449.61,23449.64385,23449.84,23449.91,23449.986,23450.08873,23450.1869,23450.46,23451.32,23451.50695,23451.66044,23451.81,23451.98886,23452.25379,23452.28065,23452.3605,23452.39426,23453.01,23453.07,23453.08,23453.51754,23453.6587,23454.12,23454.1949,23454.45,23454.57657,23454.78612,23454.97662,23455.1,23455.15,23455.19,23456.08,23456.16556,23456.33009,23456.50865,23456.51,23456.58,23456.66,23456.88191,23456.93,23457.1,23457.11518,23457.29,23457.32,23457.47,23457.76,23457.7828,23458.12,23458.12712,23458.14,23458.16,23458.38,23458.79,23459.12,23459.73029,23460.74509,23461.52,23461.68,23461.94,23462.06,23462.09174,23462.35,23462.71,23462.72711,23462.87978,23462.98,23463.6,23463.73276,23463.74,23463.8068,23464.18,23464.4,23464.53,23464.76852,23464.81425,23465.15,23465.23,23465.29,23465.60929,23465.96,23466.31,23466.43,23466.47,23466.6,23466.71,23466.85625,23466.97,23466.97,23467.2,23467.3,23467.34477,23467.36,23467.62,23467.62,23467.70553,23467.72,23467.75,23467.75,23467.75,23467.8,23467.8,23468.64,23468.75,23469.15642,23469.21,23469.36793,23469.72,23469.95001,23470.017,23470.22,23470.88,23471.32464,23471.38,23471.48,23471.52,23471.82,23471.84696,23472.01676,23472.47,23472.48,23472.83,23473.11594,23473.40042,23473.46,23473.53,23473.57,23473.7,23473.73104,23473.84,23474.26724,23474.28354,23474.35,23474.64147,23474.65117,23474.68216,23474.88,23474.88,23474.88,23474.88,23474.88,23474.88,23474.88,23474.88,23474.88,23474.88,23475.16,23475.2,23475.47,23475.62,23475.9,23476.16,23476.4,23476.41347,23476.42,23476.43,23476.50353,23476.53,23476.55001,23476.6415,23476.66,23476.73098,23476.9,23476.91114,23477.21,23477.4,23477.4,23477.61693,23477.69409,23477.73605,23477.75,23477.79337,23478.4013,23478.75,23479.13,23479.5,23479.50001,23479.57,23479.63,23479.77568,23479.88778,23479.9,23480.06,23480.29331,23480.44,23480.70507,23480.72286,23480.75,23480.91911,23481.56,23481.5727,23481.93086,23482.22,23482.4,23482.64493,23482.78,23482.78787,23483.01483,23483.09,23483.12,23483.53053,23483.72,23483.73449,23484.51,23485.42026,23485.46,23485.57595,23485.68,23485.73622,23485.73692,23485.73975,23485.87822,23485.99,23486.31,23486.87,23487.22356,23487.28855,23487.48,23487.48057,23488.13,23488.96,23489.14,23489.17,23489.46001,23489.73,23489.79,23489.81,23490.36,23490.51374,23490.66,23490.71,23490.76,23490.85,23490.87,23490.88,23491.12,23491.18019,23491.27,23491.36,23491.82163,23491.87676,23491.88723,23492.06687,23492.08,23492.46,23492.7,23492.77,23493.13005,23493.38864,23493.46,23493.47,23493.57823,23493.58,23493.66,23493.7,23493.76,23493.76,23493.83865,23493.88,23494.16,23494.51987,23494.59088,23494.79,23494.94209,23495.1,23495.15293,23495.25,23495.36257,23495.44,23495.54,23495.6139,23495.68,23495.74,23496.46769,23496.48,23496.48,23496.6,23496.6049,23496.61,23497.17,23497.22,23497.38353,23497.97,23499.07,23499.09,23499.32308,23499.42105,23499.78,23499.88758,23499.89643,23500.01,23500.12,23500.13437,23500.15065,23500.62851,23500.75423,23500.81002,23500.94,23501.48874,23501.54985,23501.66,23502.06,23502.2516,23502.42,23502.44,23502.63,23502.82531,23502.88728,23502.89,23503.11335,23503.16,23503.25,23503.31,23503.36562,23503.68075,23503.97,23503.99884,23504.1685,23504.2,23504.2,23504.36643,23504.73567,23504.82,23504.96155,23505.33,23505.51,23505.54,23505.75001,23506.09,23506.23,23506.42,23506.601,23506.88043,23507.4,23507.58,23507.61371,23507.67,23508.09,23508.28,23508.53,23508.53226,23508.54576,23508.59683,23508.86,23508.95,23509.22,23509.31,23509.34617,23509.38,23509.69656,23509.87,23509.87,23510.07678,23510.2014,23510.42051,23510.45,23510.49603,23510.68,23510.91966,23510.9528,23511.12722,23511.33,23511.59,23511.74,23511.97778,23512.2,23512.38906,23512.50022,23512.64681,23512.76,23512.92047,23514.27794,23514.32,23514.4,23514.42,23514.71,23514.74,23514.9766,23515.05,23515.54,23515.84,23515.89,23515.95,23516.03,23516.37,23516.37578,23516.5377,23516.59,23516.59,23516.67,23516.75,23517.17,23517.29947,23517.84303,23517.99527,23518.08,23518.17,23518.17,23518.46899,23518.48406,23519.12247,23519.58384,23520.51,23520.72509,23521.09,23521.11,23521.15009,23521.24,23521.53,23521.6,23521.69,23521.94,23522.13,23522.82959,23523.78,23523.8,23524.05,23524.64781,23524.99433,23525.91,23526.24,23526.68,23526.86,23527.39952,23527.65646,23527.91047,23528.12,23528.20987,23528.26,23528.44,23528.48,23528.51134,23528.87,23529.09204,23529.26856,23529.65038,23529.68,23529.79,23530.02,23530.34,23530.75,23530.92,23531.07,23531.34,23531.49171,23532.01814,23532.35,23532.58,23532.67,23532.77001,23532.85,23533.06,23533.24,23533.50851,23533.51,23533.69,23534.28,23534.51,23534.57,23534.77,23535.14,23535.25,23535.27611,23535.47,23535.65,23535.86,23535.95,23535.95,23536.35316,23536.70204,23536.71,23536.71,23537.12446,23537.12875,23537.19,23537.45727,23537.61,23537.62,23537.69542,23537.8,23537.8,23537.83,23537.83,23538.3,23538.38849,23539.06,23539.4,23539.5,23539.64586,23539.67,23539.67584,23540.79,23540.9223,23540.95,23541.46,23541.62267,23541.68,23541.71636,23541.72,23541.77,23541.8,23541.8,23541.85,23542.12335,23542.34,23542.69216,23543.19,23543.19,23543.38,23543.60917,23543.62,23543.7256,23543.74,23543.74,23544.07536,23544.11,23544.3,23544.36,23544.52,23545.25896,23545.34728,23545.66,23545.88414,23546.05742,23546.12,23547.2,23548.14,23548.14,23548.14,23548.35718,23548.36,23548.39,23549.03,23549.33,23550.23687,23550.47,23550.72,23551.07,23551.16197,23551.61,23551.68,23551.94398,23551.97,23552.24617,23552.59,23552.67,23552.72893,23552.94,23553.76,23553.91574,23553.9654,23554.05,23554.07,23554.08,23554.20492,23554.66,23554.88797,23554.96,23555.2,23555.37294,23555.85,23555.87344,23555.88013,23555.9489,23555.98,23556.05,23556.48212,23556.58,23556.58346,23556.76594,23556.82,23556.93,23557.0392,23557.8,23557.85,23557.98,23557.98196,23557.98196,23557.98196,23557.98196,23557.98196,23557.98196,23558.04,23558.04,23558.04,23558.06,23558.16,23558.74,23558.86,23559.39,23559.42,23559.60714,23560.16994,23560.67,23560.98998,23561.15,23561.27,23561.37,23561.51,23562.32739,23562.86243,23563.22,23563.89,23563.93,23564.09,23564.32,23564.6,23564.87567,23565.13874,23565.18,23565.36,23565.38,23565.4,23565.61,23565.6943,23565.71,23565.76,23566.15001,23566.16,23566.44,23566.46,23566.53,23566.63,23566.67,23566.81081,23566.94,23566.94316,23566.99294,23567.11231,23567.35,23567.43,23567.61,23567.67,23567.67,23568.3,23568.48,23568.69,23569.02,23569.37,23569.49,23569.5,23569.5745,23569.57693,23569.62404,23569.66,23569.97,23569.99,23570.02,23570.17,23570.24,23570.30701,23570.3162,23570.4,23570.58,23570.79397,23570.93,23571.01074,23571.15278,23571.30656,23571.58319,23572.06092,23572.10996,23572.25761,23572.73,23572.81,23573.04,23573.71061,23573.76,23573.91496,23573.96305,23574.06,23574.09,23574.09,23574.3,23574.52,23574.71,23574.99,23575.58,23575.81,23575.92,23575.92,23575.92,23575.92,23575.92,23575.92,23575.92,23575.92,23575.92,23575.92,23575.92,23576.27,23576.59,23576.64,23577.0,23577.12,23577.24,23577.26,23577.51304,23578.04,23578.35,23578.70174,23578.70834,23578.73808,23578.87,23578.93522,23578.94619,23579.06363,23579.52527,23579.53,23579.6,23579.74237,23579.76381,23579.81865,23580.28,23580.33,23580.48,23580.48,23580.48,23580.55144,23580.74608,23580.83383,23580.97,23581.84,23581.96,23582.24644,23582.26,23582.4,23582.4,23582.4,23582.4,23582.4,23582.4,23582.4,23582.4,23582.4,23582.4,23582.4,23582.4]],\"type\":\"box\"}],                        {\"template\":{\"data\":{\"bar\":[{\"error_x\":{\"color\":\"#2a3f5f\"},\"error_y\":{\"color\":\"#2a3f5f\"},\"marker\":{\"line\":{\"color\":\"#E5ECF6\",\"width\":0.5},\"pattern\":{\"fillmode\":\"overlay\",\"size\":10,\"solidity\":0.2}},\"type\":\"bar\"}],\"barpolar\":[{\"marker\":{\"line\":{\"color\":\"#E5ECF6\",\"width\":0.5},\"pattern\":{\"fillmode\":\"overlay\",\"size\":10,\"solidity\":0.2}},\"type\":\"barpolar\"}],\"carpet\":[{\"aaxis\":{\"endlinecolor\":\"#2a3f5f\",\"gridcolor\":\"white\",\"linecolor\":\"white\",\"minorgridcolor\":\"white\",\"startlinecolor\":\"#2a3f5f\"},\"baxis\":{\"endlinecolor\":\"#2a3f5f\",\"gridcolor\":\"white\",\"linecolor\":\"white\",\"minorgridcolor\":\"white\",\"startlinecolor\":\"#2a3f5f\"},\"type\":\"carpet\"}],\"choropleth\":[{\"colorbar\":{\"outlinewidth\":0,\"ticks\":\"\"},\"type\":\"choropleth\"}],\"contour\":[{\"colorbar\":{\"outlinewidth\":0,\"ticks\":\"\"},\"colorscale\":[[0.0,\"#0d0887\"],[0.1111111111111111,\"#46039f\"],[0.2222222222222222,\"#7201a8\"],[0.3333333333333333,\"#9c179e\"],[0.4444444444444444,\"#bd3786\"],[0.5555555555555556,\"#d8576b\"],[0.6666666666666666,\"#ed7953\"],[0.7777777777777778,\"#fb9f3a\"],[0.8888888888888888,\"#fdca26\"],[1.0,\"#f0f921\"]],\"type\":\"contour\"}],\"contourcarpet\":[{\"colorbar\":{\"outlinewidth\":0,\"ticks\":\"\"},\"type\":\"contourcarpet\"}],\"heatmap\":[{\"colorbar\":{\"outlinewidth\":0,\"ticks\":\"\"},\"colorscale\":[[0.0,\"#0d0887\"],[0.1111111111111111,\"#46039f\"],[0.2222222222222222,\"#7201a8\"],[0.3333333333333333,\"#9c179e\"],[0.4444444444444444,\"#bd3786\"],[0.5555555555555556,\"#d8576b\"],[0.6666666666666666,\"#ed7953\"],[0.7777777777777778,\"#fb9f3a\"],[0.8888888888888888,\"#fdca26\"],[1.0,\"#f0f921\"]],\"type\":\"heatmap\"}],\"heatmapgl\":[{\"colorbar\":{\"outlinewidth\":0,\"ticks\":\"\"},\"colorscale\":[[0.0,\"#0d0887\"],[0.1111111111111111,\"#46039f\"],[0.2222222222222222,\"#7201a8\"],[0.3333333333333333,\"#9c179e\"],[0.4444444444444444,\"#bd3786\"],[0.5555555555555556,\"#d8576b\"],[0.6666666666666666,\"#ed7953\"],[0.7777777777777778,\"#fb9f3a\"],[0.8888888888888888,\"#fdca26\"],[1.0,\"#f0f921\"]],\"type\":\"heatmapgl\"}],\"histogram\":[{\"marker\":{\"pattern\":{\"fillmode\":\"overlay\",\"size\":10,\"solidity\":0.2}},\"type\":\"histogram\"}],\"histogram2d\":[{\"colorbar\":{\"outlinewidth\":0,\"ticks\":\"\"},\"colorscale\":[[0.0,\"#0d0887\"],[0.1111111111111111,\"#46039f\"],[0.2222222222222222,\"#7201a8\"],[0.3333333333333333,\"#9c179e\"],[0.4444444444444444,\"#bd3786\"],[0.5555555555555556,\"#d8576b\"],[0.6666666666666666,\"#ed7953\"],[0.7777777777777778,\"#fb9f3a\"],[0.8888888888888888,\"#fdca26\"],[1.0,\"#f0f921\"]],\"type\":\"histogram2d\"}],\"histogram2dcontour\":[{\"colorbar\":{\"outlinewidth\":0,\"ticks\":\"\"},\"colorscale\":[[0.0,\"#0d0887\"],[0.1111111111111111,\"#46039f\"],[0.2222222222222222,\"#7201a8\"],[0.3333333333333333,\"#9c179e\"],[0.4444444444444444,\"#bd3786\"],[0.5555555555555556,\"#d8576b\"],[0.6666666666666666,\"#ed7953\"],[0.7777777777777778,\"#fb9f3a\"],[0.8888888888888888,\"#fdca26\"],[1.0,\"#f0f921\"]],\"type\":\"histogram2dcontour\"}],\"mesh3d\":[{\"colorbar\":{\"outlinewidth\":0,\"ticks\":\"\"},\"type\":\"mesh3d\"}],\"parcoords\":[{\"line\":{\"colorbar\":{\"outlinewidth\":0,\"ticks\":\"\"}},\"type\":\"parcoords\"}],\"pie\":[{\"automargin\":true,\"type\":\"pie\"}],\"scatter\":[{\"marker\":{\"colorbar\":{\"outlinewidth\":0,\"ticks\":\"\"}},\"type\":\"scatter\"}],\"scatter3d\":[{\"line\":{\"colorbar\":{\"outlinewidth\":0,\"ticks\":\"\"}},\"marker\":{\"colorbar\":{\"outlinewidth\":0,\"ticks\":\"\"}},\"type\":\"scatter3d\"}],\"scattercarpet\":[{\"marker\":{\"colorbar\":{\"outlinewidth\":0,\"ticks\":\"\"}},\"type\":\"scattercarpet\"}],\"scattergeo\":[{\"marker\":{\"colorbar\":{\"outlinewidth\":0,\"ticks\":\"\"}},\"type\":\"scattergeo\"}],\"scattergl\":[{\"marker\":{\"colorbar\":{\"outlinewidth\":0,\"ticks\":\"\"}},\"type\":\"scattergl\"}],\"scattermapbox\":[{\"marker\":{\"colorbar\":{\"outlinewidth\":0,\"ticks\":\"\"}},\"type\":\"scattermapbox\"}],\"scatterpolar\":[{\"marker\":{\"colorbar\":{\"outlinewidth\":0,\"ticks\":\"\"}},\"type\":\"scatterpolar\"}],\"scatterpolargl\":[{\"marker\":{\"colorbar\":{\"outlinewidth\":0,\"ticks\":\"\"}},\"type\":\"scatterpolargl\"}],\"scatterternary\":[{\"marker\":{\"colorbar\":{\"outlinewidth\":0,\"ticks\":\"\"}},\"type\":\"scatterternary\"}],\"surface\":[{\"colorbar\":{\"outlinewidth\":0,\"ticks\":\"\"},\"colorscale\":[[0.0,\"#0d0887\"],[0.1111111111111111,\"#46039f\"],[0.2222222222222222,\"#7201a8\"],[0.3333333333333333,\"#9c179e\"],[0.4444444444444444,\"#bd3786\"],[0.5555555555555556,\"#d8576b\"],[0.6666666666666666,\"#ed7953\"],[0.7777777777777778,\"#fb9f3a\"],[0.8888888888888888,\"#fdca26\"],[1.0,\"#f0f921\"]],\"type\":\"surface\"}],\"table\":[{\"cells\":{\"fill\":{\"color\":\"#EBF0F8\"},\"line\":{\"color\":\"white\"}},\"header\":{\"fill\":{\"color\":\"#C8D4E3\"},\"line\":{\"color\":\"white\"}},\"type\":\"table\"}]},\"layout\":{\"annotationdefaults\":{\"arrowcolor\":\"#2a3f5f\",\"arrowhead\":0,\"arrowwidth\":1},\"autotypenumbers\":\"strict\",\"coloraxis\":{\"colorbar\":{\"outlinewidth\":0,\"ticks\":\"\"}},\"colorscale\":{\"diverging\":[[0,\"#8e0152\"],[0.1,\"#c51b7d\"],[0.2,\"#de77ae\"],[0.3,\"#f1b6da\"],[0.4,\"#fde0ef\"],[0.5,\"#f7f7f7\"],[0.6,\"#e6f5d0\"],[0.7,\"#b8e186\"],[0.8,\"#7fbc41\"],[0.9,\"#4d9221\"],[1,\"#276419\"]],\"sequential\":[[0.0,\"#0d0887\"],[0.1111111111111111,\"#46039f\"],[0.2222222222222222,\"#7201a8\"],[0.3333333333333333,\"#9c179e\"],[0.4444444444444444,\"#bd3786\"],[0.5555555555555556,\"#d8576b\"],[0.6666666666666666,\"#ed7953\"],[0.7777777777777778,\"#fb9f3a\"],[0.8888888888888888,\"#fdca26\"],[1.0,\"#f0f921\"]],\"sequentialminus\":[[0.0,\"#0d0887\"],[0.1111111111111111,\"#46039f\"],[0.2222222222222222,\"#7201a8\"],[0.3333333333333333,\"#9c179e\"],[0.4444444444444444,\"#bd3786\"],[0.5555555555555556,\"#d8576b\"],[0.6666666666666666,\"#ed7953\"],[0.7777777777777778,\"#fb9f3a\"],[0.8888888888888888,\"#fdca26\"],[1.0,\"#f0f921\"]]},\"colorway\":[\"#636efa\",\"#EF553B\",\"#00cc96\",\"#ab63fa\",\"#FFA15A\",\"#19d3f3\",\"#FF6692\",\"#B6E880\",\"#FF97FF\",\"#FECB52\"],\"font\":{\"color\":\"#2a3f5f\"},\"geo\":{\"bgcolor\":\"white\",\"lakecolor\":\"white\",\"landcolor\":\"#E5ECF6\",\"showlakes\":true,\"showland\":true,\"subunitcolor\":\"white\"},\"hoverlabel\":{\"align\":\"left\"},\"hovermode\":\"closest\",\"mapbox\":{\"style\":\"light\"},\"paper_bgcolor\":\"white\",\"plot_bgcolor\":\"#E5ECF6\",\"polar\":{\"angularaxis\":{\"gridcolor\":\"white\",\"linecolor\":\"white\",\"ticks\":\"\"},\"bgcolor\":\"#E5ECF6\",\"radialaxis\":{\"gridcolor\":\"white\",\"linecolor\":\"white\",\"ticks\":\"\"}},\"scene\":{\"xaxis\":{\"backgroundcolor\":\"#E5ECF6\",\"gridcolor\":\"white\",\"gridwidth\":2,\"linecolor\":\"white\",\"showbackground\":true,\"ticks\":\"\",\"zerolinecolor\":\"white\"},\"yaxis\":{\"backgroundcolor\":\"#E5ECF6\",\"gridcolor\":\"white\",\"gridwidth\":2,\"linecolor\":\"white\",\"showbackground\":true,\"ticks\":\"\",\"zerolinecolor\":\"white\"},\"zaxis\":{\"backgroundcolor\":\"#E5ECF6\",\"gridcolor\":\"white\",\"gridwidth\":2,\"linecolor\":\"white\",\"showbackground\":true,\"ticks\":\"\",\"zerolinecolor\":\"white\"}},\"shapedefaults\":{\"line\":{\"color\":\"#2a3f5f\"}},\"ternary\":{\"aaxis\":{\"gridcolor\":\"white\",\"linecolor\":\"white\",\"ticks\":\"\"},\"baxis\":{\"gridcolor\":\"white\",\"linecolor\":\"white\",\"ticks\":\"\"},\"bgcolor\":\"#E5ECF6\",\"caxis\":{\"gridcolor\":\"white\",\"linecolor\":\"white\",\"ticks\":\"\"}},\"title\":{\"x\":0.05},\"xaxis\":{\"automargin\":true,\"gridcolor\":\"white\",\"linecolor\":\"white\",\"ticks\":\"\",\"title\":{\"standoff\":15},\"zerolinecolor\":\"white\",\"zerolinewidth\":2},\"yaxis\":{\"automargin\":true,\"gridcolor\":\"white\",\"linecolor\":\"white\",\"ticks\":\"\",\"title\":{\"standoff\":15},\"zerolinecolor\":\"white\",\"zerolinewidth\":2}}},\"xaxis\":{\"title\":{\"text\":\"total_pymnt\"}},\"yaxis\":{\"title\":{\"text\":\"value\"}}},                        {\"responsive\": true}                    ).then(function(){\n",
              "                            \n",
              "var gd = document.getElementById('9fbbab44-94e9-4d9b-bc1a-01414d30c991');\n",
              "var x = new MutationObserver(function (mutations, observer) {{\n",
              "        var display = window.getComputedStyle(gd).display;\n",
              "        if (!display || display === 'none') {{\n",
              "            console.log([gd, 'removed!']);\n",
              "            Plotly.purge(gd);\n",
              "            observer.disconnect();\n",
              "        }}\n",
              "}});\n",
              "\n",
              "// Listen for the removal of the full notebook cells\n",
              "var notebookContainer = gd.closest('#notebook-container');\n",
              "if (notebookContainer) {{\n",
              "    x.observe(notebookContainer, {childList: true});\n",
              "}}\n",
              "\n",
              "// Listen for the clearing of the current output cell\n",
              "var outputEl = gd.closest('.output');\n",
              "if (outputEl) {{\n",
              "    x.observe(outputEl, {childList: true});\n",
              "}}\n",
              "\n",
              "                        })                };                            </script>        </div>\n",
              "</body>\n",
              "</html>"
            ]
          },
          "metadata": {}
        }
      ]
    },
    {
      "cell_type": "code",
      "source": [
        "testing['total_pymnt_inv'].plot.box()"
      ],
      "metadata": {
        "colab": {
          "base_uri": "https://localhost:8080/",
          "height": 542
        },
        "id": "u6vqCheXg0Vg",
        "outputId": "27818eb7-744c-4610-c19b-faf4315a9cdf"
      },
      "execution_count": null,
      "outputs": [
        {
          "output_type": "display_data",
          "data": {
            "text/html": [
              "<html>\n",
              "<head><meta charset=\"utf-8\" /></head>\n",
              "<body>\n",
              "    <div>            <script src=\"https://cdnjs.cloudflare.com/ajax/libs/mathjax/2.7.5/MathJax.js?config=TeX-AMS-MML_SVG\"></script><script type=\"text/javascript\">if (window.MathJax) {MathJax.Hub.Config({SVG: {font: \"STIX-Web\"}});}</script>                <script type=\"text/javascript\">window.PlotlyConfig = {MathJaxConfig: 'local'};</script>\n",
              "        <script src=\"https://cdn.plot.ly/plotly-2.8.3.min.js\"></script>                <div id=\"d7383f76-c1fa-4726-9e97-ac523fb610a5\" class=\"plotly-graph-div\" style=\"height:525px; width:100%;\"></div>            <script type=\"text/javascript\">                                    window.PLOTLYENV=window.PLOTLYENV || {};                                    if (document.getElementById(\"d7383f76-c1fa-4726-9e97-ac523fb610a5\")) {                    Plotly.newPlot(                        \"d7383f76-c1fa-4726-9e97-ac523fb610a5\",                        [{\"boxpoints\":\"suspectedoutliers\",\"lowerfence\":[0.0],\"mean\":[7621.327271400575],\"median\":[4981.04],\"name\":\"total_pymnt_inv\",\"notched\":false,\"q1\":[1941.06],\"q3\":[10734.12],\"upperfence\":[23923.27],\"y\":[[23923.99,23924.11,23924.23,23924.81,23925.23,23925.24,23925.55,23925.6,23925.6,23925.6,23925.6,23925.77,23925.99,23926.26,23926.29,23927.24,23927.58,23927.63,23928.09,23928.54,23929.23,23929.91,23930.99,23931.04,23931.1,23931.5,23931.51,23931.65,23931.65,23931.77,23931.78,23931.79,23932.1,23932.11,23932.16,23932.16,23932.3,23932.63,23932.74,23932.8,23933.18,23933.27,23933.31,23933.54,23933.57,23933.71,23934.08,23934.22,23934.32,23934.65,23934.72,23934.76,23934.85,23935.1,23935.72,23935.72,23935.93,23935.97,23936.56,23936.73,23936.98,23937.23,23937.49,23937.69,23937.9,23937.94,23938.17,23939.39,23939.45,23939.63,23939.94,23939.97,23939.97,23940.91,23941.24,23941.44,23941.57,23941.6,23941.61,23941.69,23941.72,23941.72,23941.9,23942.06,23942.08,23942.51,23943.34,23943.39,23943.6,23943.8,23943.88,23944.04,23944.08,23944.62,23944.8,23944.93,23945.36,23945.52,23945.53,23946.77,23947.19,23947.3,23947.63,23947.68,23948.09,23948.12,23948.26,23948.3,23948.48,23948.78,23949.17,23949.36,23949.83,23950.01,23950.22,23950.61,23950.81,23950.83,23950.95,23951.06,23951.24,23951.41,23951.43,23951.54,23951.77,23952.41,23952.44,23952.44,23952.46,23952.51,23952.56,23952.57,23952.62,23953.18,23953.24,23953.24,23953.41,23953.47,23953.53,23953.57,23953.82,23953.82,23953.95,23954.17,23954.33,23954.34,23954.46,23954.46,23954.55,23954.59,23954.59,23954.66,23954.68,23954.7,23954.71,23954.72,23954.82,23954.83,23955.02,23955.05,23955.06,23955.09,23955.18,23955.18,23955.22,23955.27,23955.29,23955.3,23955.38,23955.54,23955.54,23955.54,23955.54,23955.54,23955.54,23955.54,23955.54,23955.54,23955.54,23955.54,23955.54,23955.54,23955.54,23955.54,23955.54,23955.54,23955.6,23955.66,23955.77,23956.38,23956.46,23956.56,23957.66,23958.12,23958.24,23958.28,23958.31,23959.51,23959.58,23959.71,23959.92,23960.1,23960.23,23960.28,23960.29,23960.81,23960.81,23960.81,23960.91,23961.2,23961.36,23961.39,23961.5,23961.68,23961.72,23961.8,23961.94,23962.02,23962.14,23962.33,23962.46,23962.57,23963.36,23963.41,23963.43,23963.71,23963.88,23964.0,23964.05,23964.58,23965.35,23965.48,23965.48,23965.74,23965.8,23965.92,23965.93,23966.54,23966.61,23966.76,23967.05,23967.1,23967.22,23967.37,23967.41,23967.64,23967.7,23967.94,23968.1,23968.61,23968.97,23968.99,23969.56,23969.63,23970.33,23970.54,23970.6,23971.46,23971.58,23971.71,23971.77,23971.85,23972.23,23972.28,23972.44,23972.8,23972.88,23972.97,23972.99,23973.37,23973.42,23973.56,23973.71,23973.75,23974.18,23974.64,23974.65,23974.86,23974.99,23975.34,23975.35,23975.82,23975.82,23975.89,23975.97,23976.03,23976.07,23976.32,23976.43,23976.54,23976.84,23976.84,23976.84,23977.1,23977.18,23977.23,23977.29,23977.4,23977.93,23978.02,23978.31,23978.36,23978.47,23978.62,23978.8,23978.8,23978.8,23978.8,23978.8,23978.8,23978.8,23978.8,23978.8,23978.8,23978.82,23979.36,23979.45,23979.85,23980.01,23980.38,23980.67,23980.7,23980.84,23981.31,23982.29,23982.32,23982.41,23982.81,23982.82,23983.33,23983.44,23983.68,23984.08,23984.11,23984.25,23984.26,23984.6,23984.98,23985.11,23985.35,23985.56,23985.67,23985.72,23985.8,23985.9,23985.97,23986.38,23986.83,23987.21,23987.36,23987.45,23987.49,23987.51,23988.03,23988.09,23988.26,23988.32,23988.45,23988.66,23988.78,23988.89,23988.93,23989.6,23989.7,23989.78,23989.85,23989.99,23990.15,23990.17,23990.17,23990.38,23990.6,23990.61,23990.72,23991.18,23991.38,23991.8,23991.83,23992.04,23992.23,23992.28,23992.49,23992.71,23992.82,23992.88,23992.9,23993.18,23993.31,23993.31,23993.45,23993.58,23993.6,23993.7,23993.84,23993.93,23993.99,23994.08,23994.24,23994.28,23994.28,23994.32,23994.4,23994.51,23994.66,23994.76,23994.88,23995.04,23995.27,23995.44,23995.65,23995.71,23995.89,23996.25,23996.55,23996.61,23996.89,23996.9,23996.94,23997.27,23997.27,23997.32,23997.53,23997.73,23997.89,23997.92,23998.06,23998.07,23998.08,23998.09,23998.2,23998.36,23998.39,23998.58,23998.62,23998.78,23998.92,23999.88,23999.94,24000.0,24000.16,24000.33,24000.43,24000.47,24000.48,24001.03,24001.35,24001.46,24001.47,24001.5,24001.7,24001.72,24001.81,24001.9,24001.94,24002.09,24002.43,24002.48,24002.7,24002.9,24002.94,24003.2,24003.21,24003.21,24003.4,24003.64,24003.77,24004.0,24004.02,24004.09,24004.1,24004.3,24004.32,24004.57,24004.63,24005.0,24005.1,24005.13,24005.14,24005.17,24005.18,24005.36,24005.41,24005.41,24005.42,24005.42,24005.42,24005.42,24005.42,24005.68,24005.8,24005.93,24006.0,24006.23,24006.25,24006.42,24006.66,24006.92,24006.94,24007.34,24008.03,24008.19,24008.26,24008.29,24008.57,24009.14,24009.17,24009.4,24009.45,24009.62,24009.66,24009.85,24010.36,24010.4,24010.57,24010.67,24010.79,24010.83,24010.99,24011.12,24011.25,24011.31,24011.45,24011.48,24011.72,24011.81,24011.96,24011.98,24012.1,24012.46,24012.55,24012.73,24012.76,24012.78,24013.0,24013.15,24013.17,24013.29,24013.42,24013.44,24013.71,24013.85,24013.87,24014.12,24014.17,24014.24,24014.74,24014.75,24014.78,24014.79,24014.92,24014.99,24015.02,24015.05,24015.1,24015.11,24015.19,24015.33,24015.75,24015.83,24016.03,24016.26,24016.35,24016.41,24016.44,24016.75,24016.99,24017.0,24017.33,24017.34,24017.45,24017.82,24017.93,24018.26,24018.31,24018.36,24018.39,24018.58,24019.05,24019.14,24019.17,24019.18,24019.51,24019.64,24019.8,24019.81,24020.24,24020.26,24020.3,24020.3,24020.63,24020.64,24020.77,24020.77,24020.93,24021.3,24021.67,24022.27,24022.67,24022.83,24023.07,24023.36,24023.43,24023.44,24023.75,24023.9,24024.34,24024.39,24025.01,24025.04,24025.47,24025.59,24026.02,24026.14,24026.23,24026.48,24027.11,24027.42,24027.47,24027.59,24027.83,24028.59,24029.03,24029.13,24029.33,24029.36,24029.92,24030.04,24030.2,24030.63,24030.74,24030.96,24031.04,24031.04,24031.04,24031.04,24032.05,24032.19,24033.55,24033.57,24033.84,24033.94,24033.95,24034.43,24034.5,24034.54,24034.76,24034.95,24035.11,24035.61,24035.75,24035.89,24036.68,24036.84,24036.95,24036.95,24037.28,24037.3,24037.42,24037.49,24037.91,24037.98,24038.11,24038.12,24038.22,24038.7,24039.11,24039.13,24039.25,24039.37,24039.4,24040.58,24040.69,24040.75,24040.8,24040.8,24040.83,24041.43,24041.7,24041.79,24041.85,24042.3,24042.48,24042.49,24042.82,24043.15,24043.52,24043.64,24043.88,24044.02,24044.17,24044.31,24044.4,24044.4,24044.78,24044.79,24044.81,24045.31,24045.39,24045.48,24045.49,24045.75,24045.97,24046.2,24046.62,24047.54,24047.95,24048.04,24048.05,24048.14,24048.6,24048.83,24048.85,24049.37,24049.39,24049.58,24049.64,24049.71,24050.19,24050.31,24050.39,24050.43,24050.67,24051.2,24051.22,24051.29,24051.55,24051.72,24051.84,24052.22,24052.6,24052.98,24053.07,24053.13,24053.54,24053.72,24054.16,24054.24,24054.34,24054.36,24054.39,24054.41,24054.46,24054.51,24054.51,24054.58,24054.63,24054.73,24054.88,24055.27,24055.86,24055.99,24056.64,24057.14,24057.62,24057.64,24058.34,24058.5,24058.85,24058.87,24059.19,24059.43,24059.49,24059.49,24059.49,24059.49,24059.49,24059.49,24059.49,24059.49,24059.49,24059.49,24059.49,24059.49,24059.49,24059.49,24059.49,24059.69,24059.71,24059.75,24060.22,24060.37,24060.69,24060.91,24061.4,24061.47,24061.97,24062.2,24062.41,24062.47,24062.78,24062.82,24062.85,24063.06,24063.22,24063.23,24064.1,24064.73,24064.83,24065.27,24065.31,24065.36,24065.47,24065.52,24065.85,24065.96,24065.98,24066.18,24066.4,24066.57,24066.58,24066.85,24067.11,24067.25,24067.5,24068.23,24068.29,24068.48,24068.81,24069.18,24069.19,24069.25,24069.31,24070.26,24070.45,24070.48,24070.8,24071.05,24071.1,24071.59,24071.63,24071.65,24072.16,24072.76,24072.85,24073.14,24073.4,24073.62,24073.62,24073.7,24074.05,24074.27,24074.62,24074.78,24074.99,24075.02,24075.75,24075.75,24075.84,24075.87,24076.14,24076.29,24076.31,24076.36,24076.69,24077.36,24077.38,24077.57,24077.66,24077.92,24078.23,24078.48,24078.54,24078.87,24078.95,24079.36,24079.37,24079.68,24080.15,24080.6,24080.96,24081.09,24081.19,24081.3,24081.59,24081.64,24081.8,24082.0,24082.15,24082.61,24082.67,24082.77,24082.79,24082.83,24082.91,24082.98,24083.07,24083.13,24083.85,24084.32,24084.36,24084.4,24084.79,24085.05,24085.16,24085.23,24085.36,24085.41,24085.46,24085.62,24085.69,24086.06,24086.14,24086.76,24086.9,24087.02,24087.18,24087.33,24087.43,24087.94,24088.49,24088.87,24089.06,24089.08,24089.43,24089.65,24089.81,24089.95,24090.06,24090.16,24090.26,24090.54,24090.7,24090.84,24090.97,24091.0,24091.23,24091.29,24091.4,24091.4,24091.4,24091.4,24091.4,24091.4,24091.46,24091.52,24091.53,24091.9,24092.0,24092.07,24093.26,24093.48,24093.52,24093.65,24093.93,24094.83,24095.46,24095.47,24095.72,24096.02,24096.06,24096.2,24096.27,24096.29,24096.68,24096.87,24096.97,24097.41,24097.43,24097.49,24097.58,24097.62,24097.94,24098.04,24098.05,24098.1,24098.3,24098.41,24098.59,24098.6,24098.66,24098.89,24099.21,24099.28,24099.59,24099.9,24100.16,24100.37,24100.49,24100.78,24101.28,24101.38,24101.78,24101.8,24102.0,24102.04,24102.19,24102.58,24102.65,24102.84,24102.84,24102.92,24102.99,24103.09,24103.42,24103.46,24103.76,24103.79,24104.08,24104.41,24104.76,24104.91]],\"type\":\"box\"}],                        {\"template\":{\"data\":{\"bar\":[{\"error_x\":{\"color\":\"#2a3f5f\"},\"error_y\":{\"color\":\"#2a3f5f\"},\"marker\":{\"line\":{\"color\":\"#E5ECF6\",\"width\":0.5},\"pattern\":{\"fillmode\":\"overlay\",\"size\":10,\"solidity\":0.2}},\"type\":\"bar\"}],\"barpolar\":[{\"marker\":{\"line\":{\"color\":\"#E5ECF6\",\"width\":0.5},\"pattern\":{\"fillmode\":\"overlay\",\"size\":10,\"solidity\":0.2}},\"type\":\"barpolar\"}],\"carpet\":[{\"aaxis\":{\"endlinecolor\":\"#2a3f5f\",\"gridcolor\":\"white\",\"linecolor\":\"white\",\"minorgridcolor\":\"white\",\"startlinecolor\":\"#2a3f5f\"},\"baxis\":{\"endlinecolor\":\"#2a3f5f\",\"gridcolor\":\"white\",\"linecolor\":\"white\",\"minorgridcolor\":\"white\",\"startlinecolor\":\"#2a3f5f\"},\"type\":\"carpet\"}],\"choropleth\":[{\"colorbar\":{\"outlinewidth\":0,\"ticks\":\"\"},\"type\":\"choropleth\"}],\"contour\":[{\"colorbar\":{\"outlinewidth\":0,\"ticks\":\"\"},\"colorscale\":[[0.0,\"#0d0887\"],[0.1111111111111111,\"#46039f\"],[0.2222222222222222,\"#7201a8\"],[0.3333333333333333,\"#9c179e\"],[0.4444444444444444,\"#bd3786\"],[0.5555555555555556,\"#d8576b\"],[0.6666666666666666,\"#ed7953\"],[0.7777777777777778,\"#fb9f3a\"],[0.8888888888888888,\"#fdca26\"],[1.0,\"#f0f921\"]],\"type\":\"contour\"}],\"contourcarpet\":[{\"colorbar\":{\"outlinewidth\":0,\"ticks\":\"\"},\"type\":\"contourcarpet\"}],\"heatmap\":[{\"colorbar\":{\"outlinewidth\":0,\"ticks\":\"\"},\"colorscale\":[[0.0,\"#0d0887\"],[0.1111111111111111,\"#46039f\"],[0.2222222222222222,\"#7201a8\"],[0.3333333333333333,\"#9c179e\"],[0.4444444444444444,\"#bd3786\"],[0.5555555555555556,\"#d8576b\"],[0.6666666666666666,\"#ed7953\"],[0.7777777777777778,\"#fb9f3a\"],[0.8888888888888888,\"#fdca26\"],[1.0,\"#f0f921\"]],\"type\":\"heatmap\"}],\"heatmapgl\":[{\"colorbar\":{\"outlinewidth\":0,\"ticks\":\"\"},\"colorscale\":[[0.0,\"#0d0887\"],[0.1111111111111111,\"#46039f\"],[0.2222222222222222,\"#7201a8\"],[0.3333333333333333,\"#9c179e\"],[0.4444444444444444,\"#bd3786\"],[0.5555555555555556,\"#d8576b\"],[0.6666666666666666,\"#ed7953\"],[0.7777777777777778,\"#fb9f3a\"],[0.8888888888888888,\"#fdca26\"],[1.0,\"#f0f921\"]],\"type\":\"heatmapgl\"}],\"histogram\":[{\"marker\":{\"pattern\":{\"fillmode\":\"overlay\",\"size\":10,\"solidity\":0.2}},\"type\":\"histogram\"}],\"histogram2d\":[{\"colorbar\":{\"outlinewidth\":0,\"ticks\":\"\"},\"colorscale\":[[0.0,\"#0d0887\"],[0.1111111111111111,\"#46039f\"],[0.2222222222222222,\"#7201a8\"],[0.3333333333333333,\"#9c179e\"],[0.4444444444444444,\"#bd3786\"],[0.5555555555555556,\"#d8576b\"],[0.6666666666666666,\"#ed7953\"],[0.7777777777777778,\"#fb9f3a\"],[0.8888888888888888,\"#fdca26\"],[1.0,\"#f0f921\"]],\"type\":\"histogram2d\"}],\"histogram2dcontour\":[{\"colorbar\":{\"outlinewidth\":0,\"ticks\":\"\"},\"colorscale\":[[0.0,\"#0d0887\"],[0.1111111111111111,\"#46039f\"],[0.2222222222222222,\"#7201a8\"],[0.3333333333333333,\"#9c179e\"],[0.4444444444444444,\"#bd3786\"],[0.5555555555555556,\"#d8576b\"],[0.6666666666666666,\"#ed7953\"],[0.7777777777777778,\"#fb9f3a\"],[0.8888888888888888,\"#fdca26\"],[1.0,\"#f0f921\"]],\"type\":\"histogram2dcontour\"}],\"mesh3d\":[{\"colorbar\":{\"outlinewidth\":0,\"ticks\":\"\"},\"type\":\"mesh3d\"}],\"parcoords\":[{\"line\":{\"colorbar\":{\"outlinewidth\":0,\"ticks\":\"\"}},\"type\":\"parcoords\"}],\"pie\":[{\"automargin\":true,\"type\":\"pie\"}],\"scatter\":[{\"marker\":{\"colorbar\":{\"outlinewidth\":0,\"ticks\":\"\"}},\"type\":\"scatter\"}],\"scatter3d\":[{\"line\":{\"colorbar\":{\"outlinewidth\":0,\"ticks\":\"\"}},\"marker\":{\"colorbar\":{\"outlinewidth\":0,\"ticks\":\"\"}},\"type\":\"scatter3d\"}],\"scattercarpet\":[{\"marker\":{\"colorbar\":{\"outlinewidth\":0,\"ticks\":\"\"}},\"type\":\"scattercarpet\"}],\"scattergeo\":[{\"marker\":{\"colorbar\":{\"outlinewidth\":0,\"ticks\":\"\"}},\"type\":\"scattergeo\"}],\"scattergl\":[{\"marker\":{\"colorbar\":{\"outlinewidth\":0,\"ticks\":\"\"}},\"type\":\"scattergl\"}],\"scattermapbox\":[{\"marker\":{\"colorbar\":{\"outlinewidth\":0,\"ticks\":\"\"}},\"type\":\"scattermapbox\"}],\"scatterpolar\":[{\"marker\":{\"colorbar\":{\"outlinewidth\":0,\"ticks\":\"\"}},\"type\":\"scatterpolar\"}],\"scatterpolargl\":[{\"marker\":{\"colorbar\":{\"outlinewidth\":0,\"ticks\":\"\"}},\"type\":\"scatterpolargl\"}],\"scatterternary\":[{\"marker\":{\"colorbar\":{\"outlinewidth\":0,\"ticks\":\"\"}},\"type\":\"scatterternary\"}],\"surface\":[{\"colorbar\":{\"outlinewidth\":0,\"ticks\":\"\"},\"colorscale\":[[0.0,\"#0d0887\"],[0.1111111111111111,\"#46039f\"],[0.2222222222222222,\"#7201a8\"],[0.3333333333333333,\"#9c179e\"],[0.4444444444444444,\"#bd3786\"],[0.5555555555555556,\"#d8576b\"],[0.6666666666666666,\"#ed7953\"],[0.7777777777777778,\"#fb9f3a\"],[0.8888888888888888,\"#fdca26\"],[1.0,\"#f0f921\"]],\"type\":\"surface\"}],\"table\":[{\"cells\":{\"fill\":{\"color\":\"#EBF0F8\"},\"line\":{\"color\":\"white\"}},\"header\":{\"fill\":{\"color\":\"#C8D4E3\"},\"line\":{\"color\":\"white\"}},\"type\":\"table\"}]},\"layout\":{\"annotationdefaults\":{\"arrowcolor\":\"#2a3f5f\",\"arrowhead\":0,\"arrowwidth\":1},\"autotypenumbers\":\"strict\",\"coloraxis\":{\"colorbar\":{\"outlinewidth\":0,\"ticks\":\"\"}},\"colorscale\":{\"diverging\":[[0,\"#8e0152\"],[0.1,\"#c51b7d\"],[0.2,\"#de77ae\"],[0.3,\"#f1b6da\"],[0.4,\"#fde0ef\"],[0.5,\"#f7f7f7\"],[0.6,\"#e6f5d0\"],[0.7,\"#b8e186\"],[0.8,\"#7fbc41\"],[0.9,\"#4d9221\"],[1,\"#276419\"]],\"sequential\":[[0.0,\"#0d0887\"],[0.1111111111111111,\"#46039f\"],[0.2222222222222222,\"#7201a8\"],[0.3333333333333333,\"#9c179e\"],[0.4444444444444444,\"#bd3786\"],[0.5555555555555556,\"#d8576b\"],[0.6666666666666666,\"#ed7953\"],[0.7777777777777778,\"#fb9f3a\"],[0.8888888888888888,\"#fdca26\"],[1.0,\"#f0f921\"]],\"sequentialminus\":[[0.0,\"#0d0887\"],[0.1111111111111111,\"#46039f\"],[0.2222222222222222,\"#7201a8\"],[0.3333333333333333,\"#9c179e\"],[0.4444444444444444,\"#bd3786\"],[0.5555555555555556,\"#d8576b\"],[0.6666666666666666,\"#ed7953\"],[0.7777777777777778,\"#fb9f3a\"],[0.8888888888888888,\"#fdca26\"],[1.0,\"#f0f921\"]]},\"colorway\":[\"#636efa\",\"#EF553B\",\"#00cc96\",\"#ab63fa\",\"#FFA15A\",\"#19d3f3\",\"#FF6692\",\"#B6E880\",\"#FF97FF\",\"#FECB52\"],\"font\":{\"color\":\"#2a3f5f\"},\"geo\":{\"bgcolor\":\"white\",\"lakecolor\":\"white\",\"landcolor\":\"#E5ECF6\",\"showlakes\":true,\"showland\":true,\"subunitcolor\":\"white\"},\"hoverlabel\":{\"align\":\"left\"},\"hovermode\":\"closest\",\"mapbox\":{\"style\":\"light\"},\"paper_bgcolor\":\"white\",\"plot_bgcolor\":\"#E5ECF6\",\"polar\":{\"angularaxis\":{\"gridcolor\":\"white\",\"linecolor\":\"white\",\"ticks\":\"\"},\"bgcolor\":\"#E5ECF6\",\"radialaxis\":{\"gridcolor\":\"white\",\"linecolor\":\"white\",\"ticks\":\"\"}},\"scene\":{\"xaxis\":{\"backgroundcolor\":\"#E5ECF6\",\"gridcolor\":\"white\",\"gridwidth\":2,\"linecolor\":\"white\",\"showbackground\":true,\"ticks\":\"\",\"zerolinecolor\":\"white\"},\"yaxis\":{\"backgroundcolor\":\"#E5ECF6\",\"gridcolor\":\"white\",\"gridwidth\":2,\"linecolor\":\"white\",\"showbackground\":true,\"ticks\":\"\",\"zerolinecolor\":\"white\"},\"zaxis\":{\"backgroundcolor\":\"#E5ECF6\",\"gridcolor\":\"white\",\"gridwidth\":2,\"linecolor\":\"white\",\"showbackground\":true,\"ticks\":\"\",\"zerolinecolor\":\"white\"}},\"shapedefaults\":{\"line\":{\"color\":\"#2a3f5f\"}},\"ternary\":{\"aaxis\":{\"gridcolor\":\"white\",\"linecolor\":\"white\",\"ticks\":\"\"},\"baxis\":{\"gridcolor\":\"white\",\"linecolor\":\"white\",\"ticks\":\"\"},\"bgcolor\":\"#E5ECF6\",\"caxis\":{\"gridcolor\":\"white\",\"linecolor\":\"white\",\"ticks\":\"\"}},\"title\":{\"x\":0.05},\"xaxis\":{\"automargin\":true,\"gridcolor\":\"white\",\"linecolor\":\"white\",\"ticks\":\"\",\"title\":{\"standoff\":15},\"zerolinecolor\":\"white\",\"zerolinewidth\":2},\"yaxis\":{\"automargin\":true,\"gridcolor\":\"white\",\"linecolor\":\"white\",\"ticks\":\"\",\"title\":{\"standoff\":15},\"zerolinecolor\":\"white\",\"zerolinewidth\":2}}},\"xaxis\":{\"title\":{\"text\":\"total_pymnt_inv\"}},\"yaxis\":{\"title\":{\"text\":\"value\"}}},                        {\"responsive\": true}                    ).then(function(){\n",
              "                            \n",
              "var gd = document.getElementById('d7383f76-c1fa-4726-9e97-ac523fb610a5');\n",
              "var x = new MutationObserver(function (mutations, observer) {{\n",
              "        var display = window.getComputedStyle(gd).display;\n",
              "        if (!display || display === 'none') {{\n",
              "            console.log([gd, 'removed!']);\n",
              "            Plotly.purge(gd);\n",
              "            observer.disconnect();\n",
              "        }}\n",
              "}});\n",
              "\n",
              "// Listen for the removal of the full notebook cells\n",
              "var notebookContainer = gd.closest('#notebook-container');\n",
              "if (notebookContainer) {{\n",
              "    x.observe(notebookContainer, {childList: true});\n",
              "}}\n",
              "\n",
              "// Listen for the clearing of the current output cell\n",
              "var outputEl = gd.closest('.output');\n",
              "if (outputEl) {{\n",
              "    x.observe(outputEl, {childList: true});\n",
              "}}\n",
              "\n",
              "                        })                };                            </script>        </div>\n",
              "</body>\n",
              "</html>"
            ]
          },
          "metadata": {}
        }
      ]
    },
    {
      "cell_type": "code",
      "source": [
        "testing['total_rec_prncp'].plot.box()"
      ],
      "metadata": {
        "colab": {
          "base_uri": "https://localhost:8080/",
          "height": 542
        },
        "id": "Ekl5yJ1xg3PV",
        "outputId": "56adbee1-5ca6-40df-e05f-dd0b1af81d49"
      },
      "execution_count": null,
      "outputs": [
        {
          "output_type": "display_data",
          "data": {
            "text/html": [
              "<html>\n",
              "<head><meta charset=\"utf-8\" /></head>\n",
              "<body>\n",
              "    <div>            <script src=\"https://cdnjs.cloudflare.com/ajax/libs/mathjax/2.7.5/MathJax.js?config=TeX-AMS-MML_SVG\"></script><script type=\"text/javascript\">if (window.MathJax) {MathJax.Hub.Config({SVG: {font: \"STIX-Web\"}});}</script>                <script type=\"text/javascript\">window.PlotlyConfig = {MathJaxConfig: 'local'};</script>\n",
              "        <script src=\"https://cdn.plot.ly/plotly-2.8.3.min.js\"></script>                <div id=\"dfef559f-2927-4219-9b9a-8eb0c27b6cc5\" class=\"plotly-graph-div\" style=\"height:525px; width:100%;\"></div>            <script type=\"text/javascript\">                                    window.PLOTLYENV=window.PLOTLYENV || {};                                    if (document.getElementById(\"dfef559f-2927-4219-9b9a-8eb0c27b6cc5\")) {                    Plotly.newPlot(                        \"dfef559f-2927-4219-9b9a-8eb0c27b6cc5\",                        [{\"boxpoints\":\"suspectedoutliers\",\"lowerfence\":[0.0],\"mean\":[5849.685402837264],\"median\":[3259.75],\"name\":\"total_rec_prncp\",\"notched\":false,\"q1\":[1205.81],\"q3\":[8000.0],\"upperfence\":[18190.44],\"y\":[[18191.49,18191.5,18191.5,18191.5,18191.5,18191.5,18192.4,18192.4,18192.4,18192.7,18193.74,18193.94,18194.38,18196.3,18196.31,18197.54,18197.99,18198.23,18199.09,18199.69,18199.97,18199.98,18199.99,18199.99,18199.99,18199.99,18199.99,18199.99,18200.0,18200.0,18200.0,18200.0,18200.0,18200.0,18200.0,18200.0,18200.0,18200.0,18200.0,18200.0,18200.0,18200.0,18200.0,18200.0,18200.0,18200.0,18200.0,18200.0,18200.0,18200.0,18200.0,18200.0,18200.0,18200.0,18200.0,18200.0,18200.0,18200.0,18200.0,18200.0,18200.0,18200.0,18200.0,18200.0,18200.0,18200.0,18200.0,18200.0,18200.0,18200.0,18200.0,18200.0,18200.0,18200.0,18200.0,18200.0,18200.0,18200.0,18200.0,18200.0,18200.0,18200.0,18200.0,18200.0,18200.0,18200.0,18200.0,18200.0,18200.0,18200.0,18200.0,18200.0,18200.0,18200.0,18200.0,18200.0,18200.0,18200.0,18200.0,18200.0,18200.0,18200.0,18200.0,18200.0,18200.0,18200.0,18200.0,18200.0,18200.0,18200.0,18200.0,18200.0,18200.0,18200.0,18200.0,18200.0,18200.0,18200.0,18200.0,18200.0,18200.0,18200.0,18200.0,18200.0,18200.0,18200.0,18200.0,18200.0,18200.0,18200.0,18200.0,18200.0,18200.0,18200.0,18200.0,18200.0,18200.0,18200.0,18200.0,18200.0,18200.0,18200.0,18200.0,18200.0,18200.0,18200.0,18200.0,18200.0,18200.0,18200.0,18200.0,18200.0,18200.0,18200.0,18200.0,18200.0,18200.0,18200.0,18200.0,18200.0,18200.0,18200.0,18200.0,18200.0,18200.0,18200.0,18200.0,18200.0,18200.0,18201.99,18202.56,18203.95,18204.44,18204.65,18204.66,18204.77,18204.96,18204.96,18206.39,18206.39,18207.94,18210.8,18211.53,18211.55,18214.28,18214.44,18216.44,18216.96,18217.62,18217.77,18218.21,18218.47,18218.93,18222.97,18223.55,18224.95,18224.97,18224.98,18225.0,18225.0,18225.0,18225.0,18225.0,18225.0,18225.0,18225.0,18225.0,18225.0,18225.0,18225.0,18225.0,18225.0,18225.0,18225.0,18225.0,18225.0,18225.0,18225.0,18225.0,18225.0,18225.0,18225.0,18225.0,18225.0,18225.0,18225.0,18225.0,18225.0,18225.0,18225.0,18225.0,18225.0,18225.0,18225.0,18225.0,18225.0,18225.0,18225.0,18225.0,18225.0,18225.0,18225.0,18225.0,18225.0,18225.0,18225.0,18225.0,18225.0,18225.0,18225.0,18225.0,18225.0,18225.0,18225.0,18225.0,18225.0,18225.0,18225.0,18225.0,18225.0,18225.0,18225.0,18225.0,18225.0,18225.0,18225.0,18225.0,18225.0,18225.0,18225.0,18225.0,18225.0,18225.0,18225.0,18225.0,18225.0,18225.0,18225.0,18225.0,18225.0,18225.0,18225.0,18225.0,18225.0,18225.0,18225.0,18225.0,18225.0,18225.0,18225.0,18225.0,18225.0,18225.0,18225.0,18225.0,18225.0,18225.0,18225.0,18225.0,18225.0,18225.0,18225.0,18225.0,18225.0,18225.0,18225.0,18225.0,18225.0,18225.0,18225.0,18225.0,18225.0,18225.0,18225.0,18225.0,18225.0,18225.0,18225.0,18225.0,18225.0,18225.0,18225.0,18225.0,18225.0,18225.0,18225.0,18225.0,18225.0,18225.0,18225.0,18225.0,18225.0,18225.0,18225.0,18225.0,18225.0,18225.0,18225.0,18225.0,18225.0,18225.0,18225.0,18225.0,18225.0,18225.0,18225.0,18225.0,18225.0,18225.0,18225.0,18225.01,18225.03,18226.62,18234.95,18235.31,18235.6,18235.71,18235.81,18235.98,18236.11,18236.11,18236.11,18236.11,18236.11,18236.11,18236.11,18236.11,18236.74,18239.07,18239.42,18240.65,18240.95,18241.08,18241.19,18242.07,18242.58,18242.75,18243.42,18244.46,18244.97,18245.38,18245.66,18247.01,18248.67,18248.67,18248.67,18248.67,18249.96,18249.97,18249.98,18249.99,18249.99,18250.0,18250.0,18250.0,18250.0,18250.0,18250.0,18250.0,18250.0,18250.0,18250.0,18250.0,18250.0,18250.0,18250.0,18250.0,18250.0,18250.0,18250.0,18250.0,18250.0,18250.0,18250.0,18250.0,18250.0,18250.0,18250.0,18250.0,18250.0,18250.0,18250.0,18250.0,18250.0,18250.0,18250.0,18250.0,18250.0,18250.0,18250.0,18250.0,18250.0,18250.0,18250.0,18250.0,18250.0,18250.0,18250.0,18250.0,18250.0,18250.0,18250.0,18250.0,18250.0,18250.0,18250.0,18250.0,18250.0,18250.0,18250.0,18250.0,18250.0,18250.0,18250.0,18250.0,18250.0,18250.0,18250.0,18250.0,18250.0,18250.0,18250.0,18250.0,18250.0,18250.0,18250.0,18250.0,18250.0,18250.0,18250.0,18250.0,18250.0,18250.0,18250.0,18250.0,18250.0,18250.0,18250.0,18250.0,18250.0,18250.0,18250.0,18250.0,18250.0,18250.0,18250.0,18250.0,18250.0,18250.0,18250.0,18250.0,18250.0,18250.0,18250.0,18250.0,18250.0,18250.0,18250.0,18250.0,18250.0,18250.0,18250.0,18250.0,18250.0,18250.0,18250.0,18250.0,18250.0,18250.0,18250.0,18250.0,18250.0,18250.0,18250.0,18250.0,18250.0,18250.0,18250.0,18250.0,18250.0,18250.0,18250.0,18250.0,18250.0,18250.0,18250.01,18250.01,18250.01,18253.22,18255.68,18256.12,18256.26,18256.26,18256.26,18256.26,18258.51,18263.77,18264.19,18265.31,18265.62,18266.16,18266.66,18266.98,18267.19,18267.35,18268.17,18268.94,18269.87,18270.32,18271.19,18272.6,18272.98,18273.31,18273.4,18273.9,18273.96,18274.55,18274.55,18275.0,18275.0,18275.0,18275.0,18275.0,18275.0,18275.0,18275.0,18275.0,18275.0,18275.0,18275.0,18275.0,18275.0,18275.57,18275.61,18276.02,18279.65,18280.02,18280.02,18280.12,18280.36,18283.57,18285.29,18285.66,18285.75,18286.04,18286.26,18286.39,18286.43,18286.55,18286.55,18286.55,18286.75,18289.45,18289.5,18289.68,18290.36,18290.8,18291.18,18291.18,18291.18,18291.18,18293.83,18294.3,18294.92,18295.74,18296.0,18296.0,18296.0,18296.0,18296.0,18296.0,18296.0,18296.0,18296.11,18296.29,18300.0,18300.0,18300.0,18300.0,18300.0,18300.0,18300.0,18300.0,18300.0,18300.0,18300.0,18300.0,18300.0,18300.0,18300.0,18300.0,18300.0,18300.0,18300.0,18300.0,18300.0,18300.0,18300.0,18300.0,18300.0,18300.0,18300.0,18300.0,18300.0,18300.0,18300.0,18300.0,18300.0,18300.0,18300.0,18300.0,18303.17,18303.88,18306.63,18306.9,18307.3,18309.04,18311.74,18311.86,18315.08,18318.74,18319.25,18319.27,18319.51,18320.04,18320.71,18323.92,18325.0,18325.0,18325.0,18325.0,18325.0,18325.0,18325.0,18325.0,18325.0,18325.0,18325.0,18326.24,18326.52,18327.85,18329.77,18330.33,18332.12,18332.97,18334.15,18335.59,18336.18,18336.79,18338.22,18339.39,18339.73,18340.75,18340.87,18341.19,18341.19,18343.76,18345.62,18346.33,18349.96,18350.0,18350.0,18350.0,18350.0,18350.0,18350.0,18350.0,18350.0,18350.0,18350.0,18350.0,18350.0,18350.0,18350.0,18350.0,18350.0,18350.0,18350.0,18350.0,18350.0,18350.0,18350.0,18350.0,18350.0,18350.0,18350.0,18350.0,18350.0,18350.0,18350.0,18350.0,18350.0,18350.0,18350.0,18350.12,18350.73,18350.76,18350.76,18350.92,18351.14,18353.57,18354.49,18354.65,18357.18,18357.21,18357.21,18357.21,18357.21,18357.21,18357.21,18357.96,18358.12,18358.88,18358.92,18358.92,18358.93,18359.03,18359.06,18359.06,18359.06,18359.1,18359.1,18359.1,18359.1,18360.16,18361.81,18361.84,18363.39,18364.28,18364.7,18366.07,18366.57,18367.34,18367.63,18369.17,18369.96,18370.77,18370.77,18370.77,18370.77,18370.77,18371.56,18374.45,18374.59,18375.0,18375.0,18375.0,18375.0,18375.0,18375.0,18375.0,18375.0,18375.0,18375.0,18375.0,18375.0,18375.0,18375.0,18375.0,18375.0,18375.0,18375.0,18375.0,18376.01,18376.5,18377.33,18378.0,18378.27,18380.82,18380.94,18381.55,18381.55,18381.55,18381.55,18381.87,18382.05,18382.42,18384.75,18384.75,18386.87,18388.45,18389.04,18389.18,18389.94,18390.86,18396.51,18398.06,18398.6,18399.95,18399.97,18399.99,18399.99,18399.99,18400.0,18400.0,18400.0,18400.0,18400.0,18400.0,18400.0,18400.0,18400.0,18400.0,18400.0,18400.0,18400.0,18400.0,18400.0,18400.0,18400.0,18400.0,18400.0,18400.0,18400.0,18400.0,18400.0,18400.0,18400.0,18400.0,18400.0,18400.0,18400.0,18400.0,18400.0,18400.0,18400.0,18400.0,18400.0,18400.0,18400.0,18400.0,18400.0,18400.0,18400.0,18400.0,18400.0,18400.0,18400.0,18400.0,18400.0,18400.0,18400.0,18400.0,18400.0,18400.0,18400.0,18400.0,18400.0,18400.0,18400.0,18400.0,18400.0,18400.0,18400.0,18400.0,18400.0,18400.0,18400.0,18400.0,18400.0,18400.0,18400.0,18400.0,18400.0,18400.0,18400.0,18400.0,18400.0,18400.0,18400.0,18400.0,18400.0,18400.0,18400.0,18400.0,18400.0,18400.0,18400.0,18400.0,18400.0,18400.0,18400.0,18400.0,18400.0,18400.0,18400.0,18400.0,18400.0,18400.0,18400.0,18400.0,18400.0,18400.0,18400.0,18400.0,18400.01,18400.02,18400.91,18401.43,18402.53,18405.03,18406.86,18407.59,18409.58,18409.6,18411.99,18412.62,18412.73,18414.11,18414.48,18414.58,18415.53,18415.56,18420.46,18420.46,18420.87,18420.87,18420.87,18420.88,18420.88,18420.88,18420.88,18420.88,18420.88,18420.88,18420.88,18420.88,18420.88,18420.88,18420.88,18421.81,18423.53,18424.36,18424.86,18424.99,18425.0,18425.0,18425.0,18425.0,18425.0,18425.0,18425.0,18425.0,18425.0,18425.0,18425.0,18425.0,18425.0,18425.0,18425.0,18425.0,18425.0,18425.0,18425.0,18425.0,18425.0,18425.0,18425.0,18425.0,18425.34,18429.27]],\"type\":\"box\"}],                        {\"template\":{\"data\":{\"bar\":[{\"error_x\":{\"color\":\"#2a3f5f\"},\"error_y\":{\"color\":\"#2a3f5f\"},\"marker\":{\"line\":{\"color\":\"#E5ECF6\",\"width\":0.5},\"pattern\":{\"fillmode\":\"overlay\",\"size\":10,\"solidity\":0.2}},\"type\":\"bar\"}],\"barpolar\":[{\"marker\":{\"line\":{\"color\":\"#E5ECF6\",\"width\":0.5},\"pattern\":{\"fillmode\":\"overlay\",\"size\":10,\"solidity\":0.2}},\"type\":\"barpolar\"}],\"carpet\":[{\"aaxis\":{\"endlinecolor\":\"#2a3f5f\",\"gridcolor\":\"white\",\"linecolor\":\"white\",\"minorgridcolor\":\"white\",\"startlinecolor\":\"#2a3f5f\"},\"baxis\":{\"endlinecolor\":\"#2a3f5f\",\"gridcolor\":\"white\",\"linecolor\":\"white\",\"minorgridcolor\":\"white\",\"startlinecolor\":\"#2a3f5f\"},\"type\":\"carpet\"}],\"choropleth\":[{\"colorbar\":{\"outlinewidth\":0,\"ticks\":\"\"},\"type\":\"choropleth\"}],\"contour\":[{\"colorbar\":{\"outlinewidth\":0,\"ticks\":\"\"},\"colorscale\":[[0.0,\"#0d0887\"],[0.1111111111111111,\"#46039f\"],[0.2222222222222222,\"#7201a8\"],[0.3333333333333333,\"#9c179e\"],[0.4444444444444444,\"#bd3786\"],[0.5555555555555556,\"#d8576b\"],[0.6666666666666666,\"#ed7953\"],[0.7777777777777778,\"#fb9f3a\"],[0.8888888888888888,\"#fdca26\"],[1.0,\"#f0f921\"]],\"type\":\"contour\"}],\"contourcarpet\":[{\"colorbar\":{\"outlinewidth\":0,\"ticks\":\"\"},\"type\":\"contourcarpet\"}],\"heatmap\":[{\"colorbar\":{\"outlinewidth\":0,\"ticks\":\"\"},\"colorscale\":[[0.0,\"#0d0887\"],[0.1111111111111111,\"#46039f\"],[0.2222222222222222,\"#7201a8\"],[0.3333333333333333,\"#9c179e\"],[0.4444444444444444,\"#bd3786\"],[0.5555555555555556,\"#d8576b\"],[0.6666666666666666,\"#ed7953\"],[0.7777777777777778,\"#fb9f3a\"],[0.8888888888888888,\"#fdca26\"],[1.0,\"#f0f921\"]],\"type\":\"heatmap\"}],\"heatmapgl\":[{\"colorbar\":{\"outlinewidth\":0,\"ticks\":\"\"},\"colorscale\":[[0.0,\"#0d0887\"],[0.1111111111111111,\"#46039f\"],[0.2222222222222222,\"#7201a8\"],[0.3333333333333333,\"#9c179e\"],[0.4444444444444444,\"#bd3786\"],[0.5555555555555556,\"#d8576b\"],[0.6666666666666666,\"#ed7953\"],[0.7777777777777778,\"#fb9f3a\"],[0.8888888888888888,\"#fdca26\"],[1.0,\"#f0f921\"]],\"type\":\"heatmapgl\"}],\"histogram\":[{\"marker\":{\"pattern\":{\"fillmode\":\"overlay\",\"size\":10,\"solidity\":0.2}},\"type\":\"histogram\"}],\"histogram2d\":[{\"colorbar\":{\"outlinewidth\":0,\"ticks\":\"\"},\"colorscale\":[[0.0,\"#0d0887\"],[0.1111111111111111,\"#46039f\"],[0.2222222222222222,\"#7201a8\"],[0.3333333333333333,\"#9c179e\"],[0.4444444444444444,\"#bd3786\"],[0.5555555555555556,\"#d8576b\"],[0.6666666666666666,\"#ed7953\"],[0.7777777777777778,\"#fb9f3a\"],[0.8888888888888888,\"#fdca26\"],[1.0,\"#f0f921\"]],\"type\":\"histogram2d\"}],\"histogram2dcontour\":[{\"colorbar\":{\"outlinewidth\":0,\"ticks\":\"\"},\"colorscale\":[[0.0,\"#0d0887\"],[0.1111111111111111,\"#46039f\"],[0.2222222222222222,\"#7201a8\"],[0.3333333333333333,\"#9c179e\"],[0.4444444444444444,\"#bd3786\"],[0.5555555555555556,\"#d8576b\"],[0.6666666666666666,\"#ed7953\"],[0.7777777777777778,\"#fb9f3a\"],[0.8888888888888888,\"#fdca26\"],[1.0,\"#f0f921\"]],\"type\":\"histogram2dcontour\"}],\"mesh3d\":[{\"colorbar\":{\"outlinewidth\":0,\"ticks\":\"\"},\"type\":\"mesh3d\"}],\"parcoords\":[{\"line\":{\"colorbar\":{\"outlinewidth\":0,\"ticks\":\"\"}},\"type\":\"parcoords\"}],\"pie\":[{\"automargin\":true,\"type\":\"pie\"}],\"scatter\":[{\"marker\":{\"colorbar\":{\"outlinewidth\":0,\"ticks\":\"\"}},\"type\":\"scatter\"}],\"scatter3d\":[{\"line\":{\"colorbar\":{\"outlinewidth\":0,\"ticks\":\"\"}},\"marker\":{\"colorbar\":{\"outlinewidth\":0,\"ticks\":\"\"}},\"type\":\"scatter3d\"}],\"scattercarpet\":[{\"marker\":{\"colorbar\":{\"outlinewidth\":0,\"ticks\":\"\"}},\"type\":\"scattercarpet\"}],\"scattergeo\":[{\"marker\":{\"colorbar\":{\"outlinewidth\":0,\"ticks\":\"\"}},\"type\":\"scattergeo\"}],\"scattergl\":[{\"marker\":{\"colorbar\":{\"outlinewidth\":0,\"ticks\":\"\"}},\"type\":\"scattergl\"}],\"scattermapbox\":[{\"marker\":{\"colorbar\":{\"outlinewidth\":0,\"ticks\":\"\"}},\"type\":\"scattermapbox\"}],\"scatterpolar\":[{\"marker\":{\"colorbar\":{\"outlinewidth\":0,\"ticks\":\"\"}},\"type\":\"scatterpolar\"}],\"scatterpolargl\":[{\"marker\":{\"colorbar\":{\"outlinewidth\":0,\"ticks\":\"\"}},\"type\":\"scatterpolargl\"}],\"scatterternary\":[{\"marker\":{\"colorbar\":{\"outlinewidth\":0,\"ticks\":\"\"}},\"type\":\"scatterternary\"}],\"surface\":[{\"colorbar\":{\"outlinewidth\":0,\"ticks\":\"\"},\"colorscale\":[[0.0,\"#0d0887\"],[0.1111111111111111,\"#46039f\"],[0.2222222222222222,\"#7201a8\"],[0.3333333333333333,\"#9c179e\"],[0.4444444444444444,\"#bd3786\"],[0.5555555555555556,\"#d8576b\"],[0.6666666666666666,\"#ed7953\"],[0.7777777777777778,\"#fb9f3a\"],[0.8888888888888888,\"#fdca26\"],[1.0,\"#f0f921\"]],\"type\":\"surface\"}],\"table\":[{\"cells\":{\"fill\":{\"color\":\"#EBF0F8\"},\"line\":{\"color\":\"white\"}},\"header\":{\"fill\":{\"color\":\"#C8D4E3\"},\"line\":{\"color\":\"white\"}},\"type\":\"table\"}]},\"layout\":{\"annotationdefaults\":{\"arrowcolor\":\"#2a3f5f\",\"arrowhead\":0,\"arrowwidth\":1},\"autotypenumbers\":\"strict\",\"coloraxis\":{\"colorbar\":{\"outlinewidth\":0,\"ticks\":\"\"}},\"colorscale\":{\"diverging\":[[0,\"#8e0152\"],[0.1,\"#c51b7d\"],[0.2,\"#de77ae\"],[0.3,\"#f1b6da\"],[0.4,\"#fde0ef\"],[0.5,\"#f7f7f7\"],[0.6,\"#e6f5d0\"],[0.7,\"#b8e186\"],[0.8,\"#7fbc41\"],[0.9,\"#4d9221\"],[1,\"#276419\"]],\"sequential\":[[0.0,\"#0d0887\"],[0.1111111111111111,\"#46039f\"],[0.2222222222222222,\"#7201a8\"],[0.3333333333333333,\"#9c179e\"],[0.4444444444444444,\"#bd3786\"],[0.5555555555555556,\"#d8576b\"],[0.6666666666666666,\"#ed7953\"],[0.7777777777777778,\"#fb9f3a\"],[0.8888888888888888,\"#fdca26\"],[1.0,\"#f0f921\"]],\"sequentialminus\":[[0.0,\"#0d0887\"],[0.1111111111111111,\"#46039f\"],[0.2222222222222222,\"#7201a8\"],[0.3333333333333333,\"#9c179e\"],[0.4444444444444444,\"#bd3786\"],[0.5555555555555556,\"#d8576b\"],[0.6666666666666666,\"#ed7953\"],[0.7777777777777778,\"#fb9f3a\"],[0.8888888888888888,\"#fdca26\"],[1.0,\"#f0f921\"]]},\"colorway\":[\"#636efa\",\"#EF553B\",\"#00cc96\",\"#ab63fa\",\"#FFA15A\",\"#19d3f3\",\"#FF6692\",\"#B6E880\",\"#FF97FF\",\"#FECB52\"],\"font\":{\"color\":\"#2a3f5f\"},\"geo\":{\"bgcolor\":\"white\",\"lakecolor\":\"white\",\"landcolor\":\"#E5ECF6\",\"showlakes\":true,\"showland\":true,\"subunitcolor\":\"white\"},\"hoverlabel\":{\"align\":\"left\"},\"hovermode\":\"closest\",\"mapbox\":{\"style\":\"light\"},\"paper_bgcolor\":\"white\",\"plot_bgcolor\":\"#E5ECF6\",\"polar\":{\"angularaxis\":{\"gridcolor\":\"white\",\"linecolor\":\"white\",\"ticks\":\"\"},\"bgcolor\":\"#E5ECF6\",\"radialaxis\":{\"gridcolor\":\"white\",\"linecolor\":\"white\",\"ticks\":\"\"}},\"scene\":{\"xaxis\":{\"backgroundcolor\":\"#E5ECF6\",\"gridcolor\":\"white\",\"gridwidth\":2,\"linecolor\":\"white\",\"showbackground\":true,\"ticks\":\"\",\"zerolinecolor\":\"white\"},\"yaxis\":{\"backgroundcolor\":\"#E5ECF6\",\"gridcolor\":\"white\",\"gridwidth\":2,\"linecolor\":\"white\",\"showbackground\":true,\"ticks\":\"\",\"zerolinecolor\":\"white\"},\"zaxis\":{\"backgroundcolor\":\"#E5ECF6\",\"gridcolor\":\"white\",\"gridwidth\":2,\"linecolor\":\"white\",\"showbackground\":true,\"ticks\":\"\",\"zerolinecolor\":\"white\"}},\"shapedefaults\":{\"line\":{\"color\":\"#2a3f5f\"}},\"ternary\":{\"aaxis\":{\"gridcolor\":\"white\",\"linecolor\":\"white\",\"ticks\":\"\"},\"baxis\":{\"gridcolor\":\"white\",\"linecolor\":\"white\",\"ticks\":\"\"},\"bgcolor\":\"#E5ECF6\",\"caxis\":{\"gridcolor\":\"white\",\"linecolor\":\"white\",\"ticks\":\"\"}},\"title\":{\"x\":0.05},\"xaxis\":{\"automargin\":true,\"gridcolor\":\"white\",\"linecolor\":\"white\",\"ticks\":\"\",\"title\":{\"standoff\":15},\"zerolinecolor\":\"white\",\"zerolinewidth\":2},\"yaxis\":{\"automargin\":true,\"gridcolor\":\"white\",\"linecolor\":\"white\",\"ticks\":\"\",\"title\":{\"standoff\":15},\"zerolinecolor\":\"white\",\"zerolinewidth\":2}}},\"xaxis\":{\"title\":{\"text\":\"total_rec_prncp\"}},\"yaxis\":{\"title\":{\"text\":\"value\"}}},                        {\"responsive\": true}                    ).then(function(){\n",
              "                            \n",
              "var gd = document.getElementById('dfef559f-2927-4219-9b9a-8eb0c27b6cc5');\n",
              "var x = new MutationObserver(function (mutations, observer) {{\n",
              "        var display = window.getComputedStyle(gd).display;\n",
              "        if (!display || display === 'none') {{\n",
              "            console.log([gd, 'removed!']);\n",
              "            Plotly.purge(gd);\n",
              "            observer.disconnect();\n",
              "        }}\n",
              "}});\n",
              "\n",
              "// Listen for the removal of the full notebook cells\n",
              "var notebookContainer = gd.closest('#notebook-container');\n",
              "if (notebookContainer) {{\n",
              "    x.observe(notebookContainer, {childList: true});\n",
              "}}\n",
              "\n",
              "// Listen for the clearing of the current output cell\n",
              "var outputEl = gd.closest('.output');\n",
              "if (outputEl) {{\n",
              "    x.observe(outputEl, {childList: true});\n",
              "}}\n",
              "\n",
              "                        })                };                            </script>        </div>\n",
              "</body>\n",
              "</html>"
            ]
          },
          "metadata": {}
        }
      ]
    },
    {
      "cell_type": "code",
      "source": [
        "testing['total_rec_int'].plot.box()"
      ],
      "metadata": {
        "colab": {
          "base_uri": "https://localhost:8080/",
          "height": 542
        },
        "id": "pLebs9y8g5wr",
        "outputId": "284ddded-5ee8-438d-a5da-34a31e747cb4"
      },
      "execution_count": null,
      "outputs": [
        {
          "output_type": "display_data",
          "data": {
            "text/html": [
              "<html>\n",
              "<head><meta charset=\"utf-8\" /></head>\n",
              "<body>\n",
              "    <div>            <script src=\"https://cdnjs.cloudflare.com/ajax/libs/mathjax/2.7.5/MathJax.js?config=TeX-AMS-MML_SVG\"></script><script type=\"text/javascript\">if (window.MathJax) {MathJax.Hub.Config({SVG: {font: \"STIX-Web\"}});}</script>                <script type=\"text/javascript\">window.PlotlyConfig = {MathJaxConfig: 'local'};</script>\n",
              "        <script src=\"https://cdn.plot.ly/plotly-2.8.3.min.js\"></script>                <div id=\"8d118b26-9a9d-4c6a-873e-0bd48f6cb60e\" class=\"plotly-graph-div\" style=\"height:525px; width:100%;\"></div>            <script type=\"text/javascript\">                                    window.PLOTLYENV=window.PLOTLYENV || {};                                    if (document.getElementById(\"8d118b26-9a9d-4c6a-873e-0bd48f6cb60e\")) {                    Plotly.newPlot(                        \"8d118b26-9a9d-4c6a-873e-0bd48f6cb60e\",                        [{\"boxpoints\":\"suspectedoutliers\",\"lowerfence\":[0.0],\"mean\":[1754.97853311102],\"median\":[1065.9],\"name\":\"total_rec_int\",\"notched\":false,\"q1\":[448.09],\"q3\":[2226.88],\"upperfence\":[4895.06],\"y\":[[4895.08,4895.17,4895.18,4895.25,4895.27,4895.34,4895.46,4895.67,4895.7,4895.82,4895.83,4895.83,4895.93,4895.93,4895.93,4895.93,4895.93,4896.0,4896.14,4896.15,4896.31,4896.33,4896.4,4896.41,4896.44,4896.45,4896.51,4896.62,4896.65,4896.67,4896.71,4896.71,4896.76,4896.83,4896.85,4896.85,4896.86,4896.86,4897.06,4897.18,4897.22,4897.34,4897.37,4897.63,4897.63,4897.75,4897.77,4897.79,4897.79,4897.79,4897.84,4897.85,4897.87,4897.87,4897.87,4897.87,4897.92,4897.94,4897.95,4897.95,4897.95,4897.98,4898.01,4898.09,4898.1,4898.1,4898.1,4898.1,4898.1,4898.1,4898.1,4898.1,4898.1,4898.1,4898.1,4898.1,4898.1,4898.1,4898.18,4898.19,4898.35,4898.35,4898.45,4898.47,4898.5,4898.58,4898.62,4898.64,4898.67,4898.69,4898.78,4898.84,4898.87,4898.89,4898.9,4898.97,4898.99,4899.07,4899.12,4899.13,4899.18,4899.23,4899.25,4899.27,4899.29,4899.43,4899.43,4899.55,4899.55,4899.59,4899.62,4899.8,4899.89,4899.94,4900.03,4900.03,4900.16,4900.18,4900.23,4900.26,4900.31,4900.43,4900.44,4900.6,4900.63,4900.74,4900.76,4900.76,4900.79,4900.83,4900.9,4901.02,4901.05,4901.11,4901.13,4901.13,4901.16,4901.26,4901.3,4901.3,4901.3,4901.3,4901.31,4901.33,4901.33,4901.35,4901.5,4901.55,4901.58,4901.62,4901.63,4901.66,4901.68,4901.8,4901.81,4901.9,4901.9,4901.94,4901.96,4901.99,4902.02,4902.03,4902.05,4902.07,4902.1,4902.1,4902.1,4902.11,4902.16,4902.18,4902.18,4902.18,4902.21,4902.24,4902.25,4902.26,4902.3,4902.37,4902.38,4902.42,4902.42,4902.47,4902.49,4902.54,4902.64,4902.64,4902.7,4902.7,4902.71,4902.72,4902.92,4902.93,4902.95,4903.0,4903.0,4903.01,4903.12,4903.21,4903.23,4903.25,4903.25,4903.31,4903.31,4903.38,4903.41,4903.43,4903.43,4903.43,4903.43,4903.46,4903.54,4903.63,4903.7,4903.81,4903.82,4903.84,4903.9,4903.92,4903.92,4903.93,4903.97,4904.12,4904.16,4904.16,4904.21,4904.26,4904.42,4904.43,4904.45,4904.57,4904.58,4904.58,4904.62,4904.66,4904.76,4904.78,4904.81,4904.88,4904.9,4904.91,4904.92,4904.94,4904.94,4904.94,4905.0,4905.13,4905.17,4905.18,4905.18,4905.2,4905.2,4905.23,4905.26,4905.27,4905.33,4905.38,4905.38,4905.47,4905.47,4905.5,4905.56,4905.58,4905.62,4905.82,4905.82,4905.82,4905.84,4905.9,4905.97,4906.1,4906.15,4906.28,4906.32,4906.34,4906.34,4906.42,4906.43,4906.52,4906.55,4906.65,4906.73,4906.75,4906.75,4906.77,4906.83,4906.91,4906.91,4907.04,4907.08,4907.18,4907.18,4907.2,4907.28,4907.31,4907.35,4907.35,4907.58,4907.6,4907.6,4907.61,4907.75,4907.78,4907.87,4907.92,4907.95,4907.98,4908.02,4908.05,4908.07,4908.09,4908.11,4908.19,4908.24,4908.26,4908.28,4908.3,4908.31,4908.32,4908.34,4908.35,4908.39,4908.4,4908.41,4908.41,4908.44,4908.58,4908.65,4908.69,4908.74,4908.77,4908.87,4908.88,4908.88,4908.88,4908.88,4908.88,4908.88,4908.88,4908.88,4908.88,4908.88,4908.88,4908.88,4908.88,4908.95,4909.08,4909.11,4909.12,4909.16,4909.26,4909.27,4909.39,4909.4,4909.43,4909.44,4909.51,4909.55,4909.93,4910.09,4910.1,4910.11,4910.13,4910.19,4910.22,4910.26,4910.5,4910.52,4910.55,4910.59,4910.62,4910.67,4910.79,4910.8,4910.87,4910.89,4910.91,4910.95,4910.96,4910.99,4911.01,4911.01,4911.02,4911.03,4911.04,4911.05,4911.09,4911.24,4911.26,4911.42,4911.54,4911.57,4911.59,4911.7,4911.7,4911.9,4911.93,4911.93,4911.94,4912.03,4912.06,4912.09,4912.1,4912.15,4912.21,4912.21,4912.21,4912.21,4912.21,4912.21,4912.21,4912.21,4912.21,4912.21,4912.21,4912.21,4912.21,4912.21,4912.34,4912.51,4912.53,4912.53,4912.59,4912.62,4912.62,4912.66,4912.83,4912.89,4912.91,4912.96,4912.98,4913.05,4913.19,4913.3,4913.34,4913.42,4913.45,4913.46,4913.58,4913.59,4913.61,4913.61,4913.63,4913.74,4913.76,4913.95,4914.02,4914.03,4914.11,4914.12,4914.18,4914.2,4914.21,4914.22,4914.27,4914.29,4914.36,4914.44,4914.45,4914.6,4914.67,4914.67,4914.99,4914.99,4915.0,4915.01,4915.01,4915.01,4915.03,4915.18,4915.18,4915.24,4915.26,4915.26,4915.29,4915.32,4915.4,4915.43,4915.48,4915.53,4915.56,4915.59,4915.6,4915.61,4915.62,4915.62,4915.62,4915.62,4915.62,4915.62,4915.62,4915.62,4915.62,4915.62,4915.62,4915.62,4915.62,4915.62,4915.62,4915.62,4915.62,4915.62,4915.62,4915.62,4915.65,4915.69,4915.84,4915.85,4915.87,4915.92,4916.0,4916.0,4916.08,4916.13,4916.13,4916.16,4916.24,4916.29,4916.3,4916.45,4916.45,4916.48,4916.73,4916.74,4916.81,4916.87,4917.05,4917.06,4917.06,4917.18,4917.33,4917.48,4917.53,4917.62,4917.63,4917.63,4917.68,4917.76,4917.79,4917.79,4917.79,4917.79,4917.79,4917.79,4917.79,4917.79,4917.79,4917.79,4917.79,4917.79,4917.79,4917.79,4917.89,4917.89,4917.89,4917.89,4917.89,4917.89,4917.89,4917.89,4917.89,4917.89,4917.89,4917.89,4917.92,4917.95,4917.95,4917.98,4918.08,4918.12,4918.25,4918.26,4918.26,4918.26,4918.32,4918.32,4918.43,4918.49,4918.49,4918.49,4918.49,4918.54,4918.58,4918.62,4918.62,4918.65,4918.7,4918.71,4918.79,4918.86,4918.89,4918.93,4918.95,4919.01,4919.04,4919.13,4919.13,4919.13,4919.13,4919.19,4919.23,4919.3,4919.33,4919.33,4919.33,4919.33,4919.33,4919.33,4919.38,4919.44,4919.44,4919.45,4919.45,4919.46,4919.48,4919.56,4919.56,4919.56,4919.59,4919.64,4919.75,4919.81,4919.85,4919.88,4919.88,4919.88,4919.88,4919.88,4919.88,4919.88,4919.88,4919.88,4919.88,4919.88,4919.88,4919.88,4919.88,4919.9,4919.9,4919.9,4919.9,4919.96,4919.96,4919.96,4919.96,4920.1,4920.19,4920.28,4920.28,4920.29,4920.29,4920.41,4920.6,4920.61,4920.63,4920.68,4920.68,4920.71,4920.71,4920.8,4920.85,4920.89,4920.95,4920.95,4920.97,4920.97,4921.1,4921.15,4921.21,4921.21,4921.29,4921.29,4921.32,4921.35,4921.41,4921.5,4921.67,4921.7,4921.73,4921.76,4921.85,4921.91,4921.92,4921.93,4922.16,4922.18,4922.24,4922.26,4922.29,4922.4,4922.42,4922.45,4922.54,4922.57,4922.57,4922.57,4922.57,4922.57,4922.58,4922.63,4922.74,4922.78,4922.8,4922.8,4922.83,4922.91,4923.09,4923.22,4923.34,4923.38,4923.43,4923.46,4923.46,4923.48,4923.54,4923.64,4923.74,4923.75,4923.81,4923.82,4923.86,4923.86,4923.88,4923.89,4924.03,4924.04,4924.04,4924.08,4924.16,4924.2,4924.4,4924.43,4924.43,4924.54,4924.62,4924.63,4924.77,4924.82,4924.92,4925.04,4925.04,4925.23,4925.31,4925.32,4925.32,4925.42,4925.48,4925.54,4925.68,4925.71,4925.71,4925.71,4925.71,4925.81,4925.81,4925.85,4925.87,4925.97,4926.14,4926.15,4926.37,4926.37,4926.37,4926.47,4926.49,4926.51,4926.53,4926.6,4926.67,4926.95,4926.98,4927.07,4927.19,4927.34,4927.41,4927.45,4927.51,4927.57,4927.57,4927.57,4927.57,4927.57,4927.6,4927.6,4927.65,4927.74,4927.78,4927.78,4927.81,4927.92,4927.93,4927.94,4927.97,4927.99,4928.01,4928.05,4928.27,4928.39,4928.6,4928.61,4928.68,4928.76,4928.96,4928.98,4929.06,4929.1,4929.2,4929.39,4929.55,4929.65,4929.69,4929.69,4929.69,4929.74,4929.81,4929.81,4929.84,4929.87,4929.9,4929.98,4930.02,4930.02,4930.07,4930.1,4930.35,4930.36,4930.48,4930.49,4930.49,4930.52,4930.58,4930.6,4930.63,4930.68,4930.75,4930.8,4930.86,4930.86,4930.91,4930.96,4931.01,4931.01,4931.08,4931.09,4931.09,4931.19,4931.2,4931.22,4931.32,4931.34,4931.41,4931.55,4931.63,4931.68,4931.68,4931.9,4931.96,4931.96,4931.97,4932.03,4932.05,4932.05,4932.18,4932.26,4932.33,4932.34,4932.4,4932.43,4932.45,4932.54,4932.78,4932.99,4933.07,4933.13,4933.25,4933.35,4933.38,4933.39,4933.4,4933.42,4933.44,4933.5,4933.53,4933.62,4933.62,4933.75,4933.83,4933.89,4934.02,4934.02,4934.04,4934.08,4934.13,4934.16,4934.39,4934.42,4934.56,4934.58,4934.59,4934.59,4934.62,4934.66,4934.7,4934.77,4934.83,4934.93,4934.96,4935.03,4935.15,4935.31,4935.43,4935.46,4935.58,4935.6,4935.66,4935.67,4935.75,4935.84,4935.86,4935.87,4935.88,4936.01,4936.08,4936.13,4936.15,4936.21,4936.21,4936.21,4936.21,4936.25,4936.31,4936.37,4936.37,4936.38,4936.4,4936.42,4936.65,4936.75,4936.76,4936.81,4936.83,4936.84,4936.98,4937.05,4937.09,4937.13,4937.14,4937.16,4937.2,4937.22,4937.35,4937.4,4937.43,4937.46,4937.47,4937.53,4937.55,4937.58,4937.61,4937.61,4937.61,4937.64,4937.67,4937.68,4937.77,4937.78,4937.83,4937.85,4937.91,4937.96,4938.03,4938.05,4938.12,4938.13,4938.14,4938.17,4938.19,4938.19,4938.22,4938.22,4938.34,4938.42,4938.46,4938.5,4938.51,4938.55,4938.55,4938.55,4938.59,4938.6,4938.61,4938.7,4938.74,4938.76,4938.83,4938.91,4938.93,4939.04,4939.06,4939.07,4939.07,4939.07]],\"type\":\"box\"}],                        {\"template\":{\"data\":{\"bar\":[{\"error_x\":{\"color\":\"#2a3f5f\"},\"error_y\":{\"color\":\"#2a3f5f\"},\"marker\":{\"line\":{\"color\":\"#E5ECF6\",\"width\":0.5},\"pattern\":{\"fillmode\":\"overlay\",\"size\":10,\"solidity\":0.2}},\"type\":\"bar\"}],\"barpolar\":[{\"marker\":{\"line\":{\"color\":\"#E5ECF6\",\"width\":0.5},\"pattern\":{\"fillmode\":\"overlay\",\"size\":10,\"solidity\":0.2}},\"type\":\"barpolar\"}],\"carpet\":[{\"aaxis\":{\"endlinecolor\":\"#2a3f5f\",\"gridcolor\":\"white\",\"linecolor\":\"white\",\"minorgridcolor\":\"white\",\"startlinecolor\":\"#2a3f5f\"},\"baxis\":{\"endlinecolor\":\"#2a3f5f\",\"gridcolor\":\"white\",\"linecolor\":\"white\",\"minorgridcolor\":\"white\",\"startlinecolor\":\"#2a3f5f\"},\"type\":\"carpet\"}],\"choropleth\":[{\"colorbar\":{\"outlinewidth\":0,\"ticks\":\"\"},\"type\":\"choropleth\"}],\"contour\":[{\"colorbar\":{\"outlinewidth\":0,\"ticks\":\"\"},\"colorscale\":[[0.0,\"#0d0887\"],[0.1111111111111111,\"#46039f\"],[0.2222222222222222,\"#7201a8\"],[0.3333333333333333,\"#9c179e\"],[0.4444444444444444,\"#bd3786\"],[0.5555555555555556,\"#d8576b\"],[0.6666666666666666,\"#ed7953\"],[0.7777777777777778,\"#fb9f3a\"],[0.8888888888888888,\"#fdca26\"],[1.0,\"#f0f921\"]],\"type\":\"contour\"}],\"contourcarpet\":[{\"colorbar\":{\"outlinewidth\":0,\"ticks\":\"\"},\"type\":\"contourcarpet\"}],\"heatmap\":[{\"colorbar\":{\"outlinewidth\":0,\"ticks\":\"\"},\"colorscale\":[[0.0,\"#0d0887\"],[0.1111111111111111,\"#46039f\"],[0.2222222222222222,\"#7201a8\"],[0.3333333333333333,\"#9c179e\"],[0.4444444444444444,\"#bd3786\"],[0.5555555555555556,\"#d8576b\"],[0.6666666666666666,\"#ed7953\"],[0.7777777777777778,\"#fb9f3a\"],[0.8888888888888888,\"#fdca26\"],[1.0,\"#f0f921\"]],\"type\":\"heatmap\"}],\"heatmapgl\":[{\"colorbar\":{\"outlinewidth\":0,\"ticks\":\"\"},\"colorscale\":[[0.0,\"#0d0887\"],[0.1111111111111111,\"#46039f\"],[0.2222222222222222,\"#7201a8\"],[0.3333333333333333,\"#9c179e\"],[0.4444444444444444,\"#bd3786\"],[0.5555555555555556,\"#d8576b\"],[0.6666666666666666,\"#ed7953\"],[0.7777777777777778,\"#fb9f3a\"],[0.8888888888888888,\"#fdca26\"],[1.0,\"#f0f921\"]],\"type\":\"heatmapgl\"}],\"histogram\":[{\"marker\":{\"pattern\":{\"fillmode\":\"overlay\",\"size\":10,\"solidity\":0.2}},\"type\":\"histogram\"}],\"histogram2d\":[{\"colorbar\":{\"outlinewidth\":0,\"ticks\":\"\"},\"colorscale\":[[0.0,\"#0d0887\"],[0.1111111111111111,\"#46039f\"],[0.2222222222222222,\"#7201a8\"],[0.3333333333333333,\"#9c179e\"],[0.4444444444444444,\"#bd3786\"],[0.5555555555555556,\"#d8576b\"],[0.6666666666666666,\"#ed7953\"],[0.7777777777777778,\"#fb9f3a\"],[0.8888888888888888,\"#fdca26\"],[1.0,\"#f0f921\"]],\"type\":\"histogram2d\"}],\"histogram2dcontour\":[{\"colorbar\":{\"outlinewidth\":0,\"ticks\":\"\"},\"colorscale\":[[0.0,\"#0d0887\"],[0.1111111111111111,\"#46039f\"],[0.2222222222222222,\"#7201a8\"],[0.3333333333333333,\"#9c179e\"],[0.4444444444444444,\"#bd3786\"],[0.5555555555555556,\"#d8576b\"],[0.6666666666666666,\"#ed7953\"],[0.7777777777777778,\"#fb9f3a\"],[0.8888888888888888,\"#fdca26\"],[1.0,\"#f0f921\"]],\"type\":\"histogram2dcontour\"}],\"mesh3d\":[{\"colorbar\":{\"outlinewidth\":0,\"ticks\":\"\"},\"type\":\"mesh3d\"}],\"parcoords\":[{\"line\":{\"colorbar\":{\"outlinewidth\":0,\"ticks\":\"\"}},\"type\":\"parcoords\"}],\"pie\":[{\"automargin\":true,\"type\":\"pie\"}],\"scatter\":[{\"marker\":{\"colorbar\":{\"outlinewidth\":0,\"ticks\":\"\"}},\"type\":\"scatter\"}],\"scatter3d\":[{\"line\":{\"colorbar\":{\"outlinewidth\":0,\"ticks\":\"\"}},\"marker\":{\"colorbar\":{\"outlinewidth\":0,\"ticks\":\"\"}},\"type\":\"scatter3d\"}],\"scattercarpet\":[{\"marker\":{\"colorbar\":{\"outlinewidth\":0,\"ticks\":\"\"}},\"type\":\"scattercarpet\"}],\"scattergeo\":[{\"marker\":{\"colorbar\":{\"outlinewidth\":0,\"ticks\":\"\"}},\"type\":\"scattergeo\"}],\"scattergl\":[{\"marker\":{\"colorbar\":{\"outlinewidth\":0,\"ticks\":\"\"}},\"type\":\"scattergl\"}],\"scattermapbox\":[{\"marker\":{\"colorbar\":{\"outlinewidth\":0,\"ticks\":\"\"}},\"type\":\"scattermapbox\"}],\"scatterpolar\":[{\"marker\":{\"colorbar\":{\"outlinewidth\":0,\"ticks\":\"\"}},\"type\":\"scatterpolar\"}],\"scatterpolargl\":[{\"marker\":{\"colorbar\":{\"outlinewidth\":0,\"ticks\":\"\"}},\"type\":\"scatterpolargl\"}],\"scatterternary\":[{\"marker\":{\"colorbar\":{\"outlinewidth\":0,\"ticks\":\"\"}},\"type\":\"scatterternary\"}],\"surface\":[{\"colorbar\":{\"outlinewidth\":0,\"ticks\":\"\"},\"colorscale\":[[0.0,\"#0d0887\"],[0.1111111111111111,\"#46039f\"],[0.2222222222222222,\"#7201a8\"],[0.3333333333333333,\"#9c179e\"],[0.4444444444444444,\"#bd3786\"],[0.5555555555555556,\"#d8576b\"],[0.6666666666666666,\"#ed7953\"],[0.7777777777777778,\"#fb9f3a\"],[0.8888888888888888,\"#fdca26\"],[1.0,\"#f0f921\"]],\"type\":\"surface\"}],\"table\":[{\"cells\":{\"fill\":{\"color\":\"#EBF0F8\"},\"line\":{\"color\":\"white\"}},\"header\":{\"fill\":{\"color\":\"#C8D4E3\"},\"line\":{\"color\":\"white\"}},\"type\":\"table\"}]},\"layout\":{\"annotationdefaults\":{\"arrowcolor\":\"#2a3f5f\",\"arrowhead\":0,\"arrowwidth\":1},\"autotypenumbers\":\"strict\",\"coloraxis\":{\"colorbar\":{\"outlinewidth\":0,\"ticks\":\"\"}},\"colorscale\":{\"diverging\":[[0,\"#8e0152\"],[0.1,\"#c51b7d\"],[0.2,\"#de77ae\"],[0.3,\"#f1b6da\"],[0.4,\"#fde0ef\"],[0.5,\"#f7f7f7\"],[0.6,\"#e6f5d0\"],[0.7,\"#b8e186\"],[0.8,\"#7fbc41\"],[0.9,\"#4d9221\"],[1,\"#276419\"]],\"sequential\":[[0.0,\"#0d0887\"],[0.1111111111111111,\"#46039f\"],[0.2222222222222222,\"#7201a8\"],[0.3333333333333333,\"#9c179e\"],[0.4444444444444444,\"#bd3786\"],[0.5555555555555556,\"#d8576b\"],[0.6666666666666666,\"#ed7953\"],[0.7777777777777778,\"#fb9f3a\"],[0.8888888888888888,\"#fdca26\"],[1.0,\"#f0f921\"]],\"sequentialminus\":[[0.0,\"#0d0887\"],[0.1111111111111111,\"#46039f\"],[0.2222222222222222,\"#7201a8\"],[0.3333333333333333,\"#9c179e\"],[0.4444444444444444,\"#bd3786\"],[0.5555555555555556,\"#d8576b\"],[0.6666666666666666,\"#ed7953\"],[0.7777777777777778,\"#fb9f3a\"],[0.8888888888888888,\"#fdca26\"],[1.0,\"#f0f921\"]]},\"colorway\":[\"#636efa\",\"#EF553B\",\"#00cc96\",\"#ab63fa\",\"#FFA15A\",\"#19d3f3\",\"#FF6692\",\"#B6E880\",\"#FF97FF\",\"#FECB52\"],\"font\":{\"color\":\"#2a3f5f\"},\"geo\":{\"bgcolor\":\"white\",\"lakecolor\":\"white\",\"landcolor\":\"#E5ECF6\",\"showlakes\":true,\"showland\":true,\"subunitcolor\":\"white\"},\"hoverlabel\":{\"align\":\"left\"},\"hovermode\":\"closest\",\"mapbox\":{\"style\":\"light\"},\"paper_bgcolor\":\"white\",\"plot_bgcolor\":\"#E5ECF6\",\"polar\":{\"angularaxis\":{\"gridcolor\":\"white\",\"linecolor\":\"white\",\"ticks\":\"\"},\"bgcolor\":\"#E5ECF6\",\"radialaxis\":{\"gridcolor\":\"white\",\"linecolor\":\"white\",\"ticks\":\"\"}},\"scene\":{\"xaxis\":{\"backgroundcolor\":\"#E5ECF6\",\"gridcolor\":\"white\",\"gridwidth\":2,\"linecolor\":\"white\",\"showbackground\":true,\"ticks\":\"\",\"zerolinecolor\":\"white\"},\"yaxis\":{\"backgroundcolor\":\"#E5ECF6\",\"gridcolor\":\"white\",\"gridwidth\":2,\"linecolor\":\"white\",\"showbackground\":true,\"ticks\":\"\",\"zerolinecolor\":\"white\"},\"zaxis\":{\"backgroundcolor\":\"#E5ECF6\",\"gridcolor\":\"white\",\"gridwidth\":2,\"linecolor\":\"white\",\"showbackground\":true,\"ticks\":\"\",\"zerolinecolor\":\"white\"}},\"shapedefaults\":{\"line\":{\"color\":\"#2a3f5f\"}},\"ternary\":{\"aaxis\":{\"gridcolor\":\"white\",\"linecolor\":\"white\",\"ticks\":\"\"},\"baxis\":{\"gridcolor\":\"white\",\"linecolor\":\"white\",\"ticks\":\"\"},\"bgcolor\":\"#E5ECF6\",\"caxis\":{\"gridcolor\":\"white\",\"linecolor\":\"white\",\"ticks\":\"\"}},\"title\":{\"x\":0.05},\"xaxis\":{\"automargin\":true,\"gridcolor\":\"white\",\"linecolor\":\"white\",\"ticks\":\"\",\"title\":{\"standoff\":15},\"zerolinecolor\":\"white\",\"zerolinewidth\":2},\"yaxis\":{\"automargin\":true,\"gridcolor\":\"white\",\"linecolor\":\"white\",\"ticks\":\"\",\"title\":{\"standoff\":15},\"zerolinecolor\":\"white\",\"zerolinewidth\":2}}},\"xaxis\":{\"title\":{\"text\":\"total_rec_int\"}},\"yaxis\":{\"title\":{\"text\":\"value\"}}},                        {\"responsive\": true}                    ).then(function(){\n",
              "                            \n",
              "var gd = document.getElementById('8d118b26-9a9d-4c6a-873e-0bd48f6cb60e');\n",
              "var x = new MutationObserver(function (mutations, observer) {{\n",
              "        var display = window.getComputedStyle(gd).display;\n",
              "        if (!display || display === 'none') {{\n",
              "            console.log([gd, 'removed!']);\n",
              "            Plotly.purge(gd);\n",
              "            observer.disconnect();\n",
              "        }}\n",
              "}});\n",
              "\n",
              "// Listen for the removal of the full notebook cells\n",
              "var notebookContainer = gd.closest('#notebook-container');\n",
              "if (notebookContainer) {{\n",
              "    x.observe(notebookContainer, {childList: true});\n",
              "}}\n",
              "\n",
              "// Listen for the clearing of the current output cell\n",
              "var outputEl = gd.closest('.output');\n",
              "if (outputEl) {{\n",
              "    x.observe(outputEl, {childList: true});\n",
              "}}\n",
              "\n",
              "                        })                };                            </script>        </div>\n",
              "</body>\n",
              "</html>"
            ]
          },
          "metadata": {}
        }
      ]
    },
    {
      "cell_type": "code",
      "source": [
        "testing['total_rec_late_fee'].plot.box()"
      ],
      "metadata": {
        "colab": {
          "base_uri": "https://localhost:8080/",
          "height": 542
        },
        "id": "TzjotYdjg81X",
        "outputId": "45f735d4-106a-4fc8-855c-a4047b23bd05"
      },
      "execution_count": null,
      "outputs": [
        {
          "output_type": "display_data",
          "data": {
            "text/html": [
              "<html>\n",
              "<head><meta charset=\"utf-8\" /></head>\n",
              "<body>\n",
              "    <div>            <script src=\"https://cdnjs.cloudflare.com/ajax/libs/mathjax/2.7.5/MathJax.js?config=TeX-AMS-MML_SVG\"></script><script type=\"text/javascript\">if (window.MathJax) {MathJax.Hub.Config({SVG: {font: \"STIX-Web\"}});}</script>                <script type=\"text/javascript\">window.PlotlyConfig = {MathJaxConfig: 'local'};</script>\n",
              "        <script src=\"https://cdn.plot.ly/plotly-2.8.3.min.js\"></script>                <div id=\"724fd322-3e7d-4ed0-b4d7-029d3c3d0c97\" class=\"plotly-graph-div\" style=\"height:525px; width:100%;\"></div>            <script type=\"text/javascript\">                                    window.PLOTLYENV=window.PLOTLYENV || {};                                    if (document.getElementById(\"724fd322-3e7d-4ed0-b4d7-029d3c3d0c97\")) {                    Plotly.newPlot(                        \"724fd322-3e7d-4ed0-b4d7-029d3c3d0c97\",                        [{\"boxpoints\":\"suspectedoutliers\",\"lowerfence\":[0.0],\"mean\":[0.3187462836730876],\"median\":[0.0],\"name\":\"total_rec_late_fee\",\"notched\":false,\"q1\":[0.0],\"q3\":[0.0],\"upperfence\":[0.0],\"y\":[[0.01,0.01,0.01,0.01,0.01,0.01,0.060799751,0.073787104,0.081837685,0.101704562,0.135765627,0.180082904,0.18477362,0.2,0.2,0.26,0.265406103,0.302036553,0.35,0.44,0.51,0.87,1.0,1.36,1.69,2.0,2.0,3.16,3.23,4.0,4.41,5.0,5.0,5.0,5.0,5.0,6.29,10.0,10.0,10.0,10.0,10.0,10.0,14.235,14.4,14.45006321,14.58,14.58661417,14.59732216,14.645,14.6668723,14.70461538,14.71,14.75,14.774,14.7775,14.81717736,14.832,14.83826992,14.84307692,14.85230769,14.85585891,14.862,14.868,14.86912338,14.86914689,14.8697259,14.8699422,14.87045455,14.87319435,14.87614679,14.87785964,14.87834979,14.87960646,14.87981007,14.883,14.88503099,14.88586509,14.88594601,14.89175687,14.89438282,14.8945908,14.89563004,14.89595977,14.89650803,14.89657302,14.8977162,14.89950343,14.89950801,14.89954683,14.90080506,14.9029196,14.90400569,14.90413804,14.90425532,14.90502971,14.90506329,14.90508046,14.90601223,14.90640998,14.90689926,14.90724709,14.90808976,14.90809399,14.90835352,14.90884615,14.90914437,14.90992582,14.91025062,14.91126967,14.9114541,14.91152307,14.91189156,14.91269432,14.91295517,14.913,14.9132948,14.91369772,14.91420179,14.91465996,14.91577571,14.91605558,14.91611245,14.91645116,14.91662076,14.917538,14.91774383,14.91826131,14.91848162,14.91896423,14.91923077,14.91923077,14.92041502,14.92084433,14.92092968,14.92113468,14.92134983,14.92139316,14.92258287,14.92299186,14.92323529,14.92335367,14.92355482,14.92360273,14.924,14.92401399,14.92417172,14.92434769,14.92485275,14.924995,14.92534858,14.92568291,14.92573949,14.9257637,14.92592027,14.92604059,14.92633479,14.92741285,14.92802094,14.92832066,14.92862807,14.92879434,14.92903668,14.92919255,14.930131,14.93017241,14.93020274,14.93038366,14.93083623,14.93093923,14.931,14.93119945,14.9313447,14.9313691,14.93161595,14.93169643,14.93192515,14.93206522,14.93209969,14.9325,14.93254216,14.93317081,14.93328072,14.93356879,14.93362059,14.93368228,14.93382961,14.93387834,14.934,14.93441467,14.9347335,14.93499908,14.93511741,14.93567359,14.93569309,14.93590314,14.93622734,14.93636527,14.93639133,14.93661032,14.93668122,14.9370163,14.93726378,14.93735888,14.9373908,14.93764138,14.93773392,14.93778392,14.93823292,14.93855664,14.93856306,14.93881351,14.93882901,14.93936286,14.93939226,14.93940268,14.93955209,14.93956962,14.93969383,14.93974446,14.93995929,14.93998315,14.94000393,14.94020331,14.94044468,14.94060025,14.94069954,14.94108458,14.94127463,14.94156034,14.94165733,14.94184592,14.94186556,14.9421373,14.94215009,14.94221106,14.94228787,14.94246996,14.94266994,14.94274307,14.9432703,14.94328922,14.94334278,14.94361995,14.94366953,14.94375,14.94397203,14.94400511,14.94435612,14.94440881,14.94475138,14.94499403,14.94512474,14.94519929,14.94534348,14.94535519,14.94544215,14.94548758,14.94549469,14.9458926,14.94620735,14.94621648,14.94638352,14.94654221,14.94656257,14.94659336,14.94663188,14.94667121,14.94694178,14.94713506,14.94727261,14.94735835,14.94740796,14.94775005,14.94776669,14.94794024,14.94805195,14.9480893,14.94818295,14.94822809,14.94842716,14.94847803,14.94849383,14.94879048,14.94879911,14.94884159,14.94926383,14.94950873,14.94959334,14.94972545,14.94990724,14.94995234,14.95011589,14.95021077,14.95023057,14.95026316,14.95036101,14.95051017,14.95083494,14.95112143,14.95140389,14.95180371,14.95189738,14.95213493,14.95251847,14.95256235,14.95274827,14.95281639,14.95282674,14.95289962,14.952914,14.95317121,14.95324089,14.95332662,14.95338513,14.9535767,14.95364976,14.95372602,14.95375128,14.95386035,14.95388547,14.95426829,14.95445449,14.95452128,14.9545527,14.95466286,14.95525555,14.95532865,14.95537721,14.95539576,14.95548692,14.95549928,14.95564149,14.95570788,14.9558429,14.95606899,14.95614661,14.95615638,14.95617954,14.95621237,14.95633188,14.95641263,14.95642852,14.95644117,14.95662257,14.95675387,14.95683253,14.95695364,14.95695476,14.95696882,14.9571032,14.95710398,14.95735001,14.95736329,14.95740741,14.95771472,14.95785124,14.95805593,14.9581598,14.95839556,14.95843896,14.95845398,14.95846154,14.95849536,14.9586514,14.95877541,14.95883585,14.95911693,14.95929379,14.95932114,14.95942483,14.95945195,14.95947937,14.95966108,14.95976813,14.95978323,14.95981398,14.9599759,14.96,14.96006962,14.96029754,14.96054817,14.96059043,14.96078187,14.96086877,14.96103547,14.96104763,14.96111303,14.9611399,14.96115407,14.96118443,14.96129032,14.96136284,14.96140159,14.96154225,14.96160262,14.96165773,14.96191973,14.96197719,14.96199689,14.96201237,14.9621193,14.96218805,14.96221511,14.96225672,14.96225737,14.96226076,14.96233522,14.96235595,14.96236177,14.96242171,14.96246872,14.96262637,14.96266003,14.96296451,14.96311613,14.96315926,14.96328029,14.96329581,14.9633885,14.96341463,14.96363095,14.96364895,14.96365399,14.96386616,14.96392047,14.96423097,14.96428056,14.96429762,14.96430079,14.96437659,14.96438746,14.9644135,14.96445115,14.96445835,14.96465123,14.96472314,14.96473952,14.96498565,14.9650207,14.96530698,14.96537977,14.9653994,14.96544877,14.96545873,14.96546488,14.96549274,14.96553744,14.96559812,14.96580027,14.96594854,14.96597912,14.96598854,14.96600917,14.96603922,14.96606335,14.96615458,14.96620451,14.9662553,14.96642479,14.96643445,14.96646874,14.96647108,14.96663668,14.96663836,14.9666502,14.96665863,14.96677354,14.96692279,14.96695269,14.9670199,14.96707077,14.96708521,14.96711501,14.96713454,14.96714553,14.96721013,14.96721975,14.96732139,14.96732256,14.9674459,14.96745717,14.96747037,14.96749494,14.96760443,14.96760663,14.96769231,14.96774559,14.9677737,14.96781851,14.96782957,14.96822034,14.96825128,14.96827873,14.96836952,14.96846011,14.96867322,14.96884735,14.96886429,14.968875,14.96887659,14.96891959,14.96895763,14.96896494,14.96897108,14.96898571,14.9691159,14.96919918,14.96925084,14.96929617,14.96937994,14.96941789,14.96942017,14.96949448,14.96959921,14.96960124,14.96965052,14.96966974,14.96974886,14.9699447,14.96999647,14.97017655,14.97025354,14.97031237,14.97031947,14.9704407,14.9705838,14.97060361,14.97064329,14.97069652,14.97069889,14.97087903,14.97091144,14.97095451,14.97096454,14.97097866,14.97100834,14.97106342,14.97123069,14.97123082,14.97124501,14.971326,14.9713552,14.97140679,14.97145088,14.97147204,14.97150151,14.97167371,14.97173498,14.97175474,14.97183099,14.97195388,14.97201656,14.97203798,14.97205503,14.97208859,14.972105,14.97212472,14.97214854,14.97219405,14.97221977,14.97223541,14.97231515,14.97235872,14.97238711,14.97245587,14.97247553,14.97257314,14.97259096,14.97273382,14.97276086,14.97276194,14.9727727,14.97279014,14.9727906,14.97279248,14.97280835,14.97284085,14.9728474,14.97291407,14.97295969,14.97298795,14.97310864,14.97316895,14.97318527,14.97328584,14.97330056,14.97343391,14.9734542,14.97346698,14.97346991,14.97347404,14.97347652,14.97348457,14.97354994,14.97364271,14.97367035,14.97369635,14.97380993,14.97381742,14.97402019,14.97403517,14.97423401,14.97428726,14.97434485,14.97450545,14.97452918,14.97454607,14.97463677,14.97486942,14.974883,14.97495594,14.9749974,14.97503791,14.97506553,14.97507788,14.97517104,14.97518517,14.97521308,14.97522572,14.97523293,14.97525,14.97539348,14.97543923,14.97544501,14.97546347,14.97550911,14.97552897,14.97556067,14.97556548,14.9756771,14.97588275,14.9759006,14.97595173,14.976,14.97602099,14.97602411,14.97602493,14.97607135,14.97607894,14.97616762,14.9762021,14.97621313,14.97623671,14.97633775,14.97650595,14.97651144,14.97652137,14.97654128,14.97659951,14.97662823,14.97669256,14.97674596,14.97676384,14.97678532,14.97681173,14.97688922,14.97690255,14.97695035,14.97706032,14.97719626,14.97721404,14.97721963,14.97732697,14.97733497,14.9773875,14.97739802,14.9774985,14.9775631,14.97757773,14.97765439,14.97771016,14.97783934,14.97797819,14.9779856,14.97803003,14.97807485,14.97818711,14.97819052,14.9781953,14.97820498,14.97821541,14.97821929,14.97823879,14.97834158,14.97836822,14.97842614,14.97843092,14.97853269,14.97855581,14.97855684,14.978602,14.97861072,14.9787119,14.97878759,14.97904923,14.97905838,14.97910325,14.97918087,14.97918979,14.97922438,14.9792277,14.97934721,14.97943285,14.97947674,14.97948527,14.97951201,14.97952218,14.97956403,14.97958614,14.97961816,14.97962492,14.97975358,14.97978013,14.97978792,14.97991185,14.9799216,14.97999691,14.97999852,14.98,14.98004396,14.98005088,14.98020082,14.98022413,14.98031113,14.98032873,14.98046586,14.98046714,14.98060686,14.98063267,14.98063406,14.9806586,14.98081978,14.98082577,14.98084003,14.98088918,14.98092536,14.98100176,14.98115669,14.98116613,14.98119192,14.98121544,14.98127808,14.98130841,14.98132042,14.9813247,14.9813878,14.98139471,14.98139582,14.98148356,14.98150432,14.98150432,14.98152522,14.98153846,14.98154389,14.98154813,14.98156749,14.98159622,14.98160227,14.98161134,14.98161245,14.98163312,14.98164239,14.98166627,14.9818455,14.98186566,14.98186654,14.98187872,14.98196664,14.98202955,14.98211043,14.98215348,14.98216409,14.98224927,14.98230249,14.9823652,14.98244619,14.98245614,14.98253621,14.98253687,14.98254884,14.98256912,14.98257061,14.98265079,14.98294026,14.98295455,14.983,14.98303387,14.98306281,14.98318103,14.98320764,14.98323437,14.9833321,14.98341594,14.98348348,14.98354839,14.98355263,14.98360536,14.98360737,14.98360895,14.98362624,14.98367537,14.98368856,14.98375116,14.98377519,14.98382017,14.98382209,14.98385578,14.98388278,14.98397721,14.98398357,14.984,14.98402066,14.98410026,14.98410254,14.9841245,14.98414137,14.98415028,14.98415307,14.98417054,14.98418781,14.98419004,14.98419888,14.98421355,14.98431958,14.98439722,14.98441356,14.98443242,14.98443703,14.9844654,14.98452252,14.98453608,14.98457156,14.98458445,14.9845901,14.98459168,14.98461053,14.98461338,14.98461363,14.98471515,14.98472304,14.9847235,14.98476509,14.98479935,14.98486705,14.98491097,14.98493151,14.98497341,14.9850171,14.98507298,14.98515653,14.9851792,14.9852071,14.98525641,14.98526634,14.98537808,14.98547262,14.9854996,14.98565915,14.98567589,14.98571529,14.98581442,14.9858479,14.98587321,14.98593987,14.98594553,14.98598131,14.98605228,14.98606576,14.98607404,14.98612653,14.98612681,14.98615155,14.98620775,14.98621489,14.98630137,14.9863425,14.98636364,14.98642709,14.9865335,14.98662042,14.98662959,14.98674678,14.98675614,14.9868,14.98684403,14.98686707,14.98693759,14.98704808,14.98709275,14.98713167,14.98717401,14.98719804,14.9872268,14.9872514,14.9872579,14.98726295,14.98727631,14.98730248,14.98732432,14.98733571,14.98734519,14.98737197,14.98737697,14.98738825,14.98753277,14.98768068,14.98772281,14.98775419,14.98782108,14.98791502,14.98793525,14.98796872,14.98798205,14.98798414,14.98801482,14.98805138,14.98805606,14.98806426,14.98810725,14.98815846,14.98823113,14.98824451,14.98827351,14.98828556,14.98833277,14.98833945,14.98840066,14.98847787,14.98850996,14.98852114,14.98852706,14.98853336,14.98854353,14.98856338,14.98861696,14.98874115,14.98876791,14.98881682,14.98883533,14.98894804,14.98905179,14.98915976,14.98917642,14.98920452,14.98921141,14.98931744,14.98932574,14.98935617,14.98952256,14.98952462,14.98955688,14.98961322,14.98970487,14.98974144,14.98974787,14.9897722,14.98980927,14.98981345,14.98985872,14.98989278,14.99003808,14.99012044,14.99013807,14.99018832,14.99039829,14.99043205,14.99051233,14.99054969,14.99056406,14.99056455,14.99057078,14.99057197,14.99057217,14.99062939,14.99063236,14.99064799,14.99068248,14.99072356,14.99073609,14.99090468,14.99090909,14.99091506,14.99092678,14.99096045,14.99097807,14.99099513,14.99107715,14.99107977,14.99108271,14.99109105,14.99123599,14.99127265,14.9913253,14.99134615,14.99141061,14.99141713,14.99142724,14.99147272,14.99156485,14.99157836]],\"type\":\"box\"}],                        {\"template\":{\"data\":{\"bar\":[{\"error_x\":{\"color\":\"#2a3f5f\"},\"error_y\":{\"color\":\"#2a3f5f\"},\"marker\":{\"line\":{\"color\":\"#E5ECF6\",\"width\":0.5},\"pattern\":{\"fillmode\":\"overlay\",\"size\":10,\"solidity\":0.2}},\"type\":\"bar\"}],\"barpolar\":[{\"marker\":{\"line\":{\"color\":\"#E5ECF6\",\"width\":0.5},\"pattern\":{\"fillmode\":\"overlay\",\"size\":10,\"solidity\":0.2}},\"type\":\"barpolar\"}],\"carpet\":[{\"aaxis\":{\"endlinecolor\":\"#2a3f5f\",\"gridcolor\":\"white\",\"linecolor\":\"white\",\"minorgridcolor\":\"white\",\"startlinecolor\":\"#2a3f5f\"},\"baxis\":{\"endlinecolor\":\"#2a3f5f\",\"gridcolor\":\"white\",\"linecolor\":\"white\",\"minorgridcolor\":\"white\",\"startlinecolor\":\"#2a3f5f\"},\"type\":\"carpet\"}],\"choropleth\":[{\"colorbar\":{\"outlinewidth\":0,\"ticks\":\"\"},\"type\":\"choropleth\"}],\"contour\":[{\"colorbar\":{\"outlinewidth\":0,\"ticks\":\"\"},\"colorscale\":[[0.0,\"#0d0887\"],[0.1111111111111111,\"#46039f\"],[0.2222222222222222,\"#7201a8\"],[0.3333333333333333,\"#9c179e\"],[0.4444444444444444,\"#bd3786\"],[0.5555555555555556,\"#d8576b\"],[0.6666666666666666,\"#ed7953\"],[0.7777777777777778,\"#fb9f3a\"],[0.8888888888888888,\"#fdca26\"],[1.0,\"#f0f921\"]],\"type\":\"contour\"}],\"contourcarpet\":[{\"colorbar\":{\"outlinewidth\":0,\"ticks\":\"\"},\"type\":\"contourcarpet\"}],\"heatmap\":[{\"colorbar\":{\"outlinewidth\":0,\"ticks\":\"\"},\"colorscale\":[[0.0,\"#0d0887\"],[0.1111111111111111,\"#46039f\"],[0.2222222222222222,\"#7201a8\"],[0.3333333333333333,\"#9c179e\"],[0.4444444444444444,\"#bd3786\"],[0.5555555555555556,\"#d8576b\"],[0.6666666666666666,\"#ed7953\"],[0.7777777777777778,\"#fb9f3a\"],[0.8888888888888888,\"#fdca26\"],[1.0,\"#f0f921\"]],\"type\":\"heatmap\"}],\"heatmapgl\":[{\"colorbar\":{\"outlinewidth\":0,\"ticks\":\"\"},\"colorscale\":[[0.0,\"#0d0887\"],[0.1111111111111111,\"#46039f\"],[0.2222222222222222,\"#7201a8\"],[0.3333333333333333,\"#9c179e\"],[0.4444444444444444,\"#bd3786\"],[0.5555555555555556,\"#d8576b\"],[0.6666666666666666,\"#ed7953\"],[0.7777777777777778,\"#fb9f3a\"],[0.8888888888888888,\"#fdca26\"],[1.0,\"#f0f921\"]],\"type\":\"heatmapgl\"}],\"histogram\":[{\"marker\":{\"pattern\":{\"fillmode\":\"overlay\",\"size\":10,\"solidity\":0.2}},\"type\":\"histogram\"}],\"histogram2d\":[{\"colorbar\":{\"outlinewidth\":0,\"ticks\":\"\"},\"colorscale\":[[0.0,\"#0d0887\"],[0.1111111111111111,\"#46039f\"],[0.2222222222222222,\"#7201a8\"],[0.3333333333333333,\"#9c179e\"],[0.4444444444444444,\"#bd3786\"],[0.5555555555555556,\"#d8576b\"],[0.6666666666666666,\"#ed7953\"],[0.7777777777777778,\"#fb9f3a\"],[0.8888888888888888,\"#fdca26\"],[1.0,\"#f0f921\"]],\"type\":\"histogram2d\"}],\"histogram2dcontour\":[{\"colorbar\":{\"outlinewidth\":0,\"ticks\":\"\"},\"colorscale\":[[0.0,\"#0d0887\"],[0.1111111111111111,\"#46039f\"],[0.2222222222222222,\"#7201a8\"],[0.3333333333333333,\"#9c179e\"],[0.4444444444444444,\"#bd3786\"],[0.5555555555555556,\"#d8576b\"],[0.6666666666666666,\"#ed7953\"],[0.7777777777777778,\"#fb9f3a\"],[0.8888888888888888,\"#fdca26\"],[1.0,\"#f0f921\"]],\"type\":\"histogram2dcontour\"}],\"mesh3d\":[{\"colorbar\":{\"outlinewidth\":0,\"ticks\":\"\"},\"type\":\"mesh3d\"}],\"parcoords\":[{\"line\":{\"colorbar\":{\"outlinewidth\":0,\"ticks\":\"\"}},\"type\":\"parcoords\"}],\"pie\":[{\"automargin\":true,\"type\":\"pie\"}],\"scatter\":[{\"marker\":{\"colorbar\":{\"outlinewidth\":0,\"ticks\":\"\"}},\"type\":\"scatter\"}],\"scatter3d\":[{\"line\":{\"colorbar\":{\"outlinewidth\":0,\"ticks\":\"\"}},\"marker\":{\"colorbar\":{\"outlinewidth\":0,\"ticks\":\"\"}},\"type\":\"scatter3d\"}],\"scattercarpet\":[{\"marker\":{\"colorbar\":{\"outlinewidth\":0,\"ticks\":\"\"}},\"type\":\"scattercarpet\"}],\"scattergeo\":[{\"marker\":{\"colorbar\":{\"outlinewidth\":0,\"ticks\":\"\"}},\"type\":\"scattergeo\"}],\"scattergl\":[{\"marker\":{\"colorbar\":{\"outlinewidth\":0,\"ticks\":\"\"}},\"type\":\"scattergl\"}],\"scattermapbox\":[{\"marker\":{\"colorbar\":{\"outlinewidth\":0,\"ticks\":\"\"}},\"type\":\"scattermapbox\"}],\"scatterpolar\":[{\"marker\":{\"colorbar\":{\"outlinewidth\":0,\"ticks\":\"\"}},\"type\":\"scatterpolar\"}],\"scatterpolargl\":[{\"marker\":{\"colorbar\":{\"outlinewidth\":0,\"ticks\":\"\"}},\"type\":\"scatterpolargl\"}],\"scatterternary\":[{\"marker\":{\"colorbar\":{\"outlinewidth\":0,\"ticks\":\"\"}},\"type\":\"scatterternary\"}],\"surface\":[{\"colorbar\":{\"outlinewidth\":0,\"ticks\":\"\"},\"colorscale\":[[0.0,\"#0d0887\"],[0.1111111111111111,\"#46039f\"],[0.2222222222222222,\"#7201a8\"],[0.3333333333333333,\"#9c179e\"],[0.4444444444444444,\"#bd3786\"],[0.5555555555555556,\"#d8576b\"],[0.6666666666666666,\"#ed7953\"],[0.7777777777777778,\"#fb9f3a\"],[0.8888888888888888,\"#fdca26\"],[1.0,\"#f0f921\"]],\"type\":\"surface\"}],\"table\":[{\"cells\":{\"fill\":{\"color\":\"#EBF0F8\"},\"line\":{\"color\":\"white\"}},\"header\":{\"fill\":{\"color\":\"#C8D4E3\"},\"line\":{\"color\":\"white\"}},\"type\":\"table\"}]},\"layout\":{\"annotationdefaults\":{\"arrowcolor\":\"#2a3f5f\",\"arrowhead\":0,\"arrowwidth\":1},\"autotypenumbers\":\"strict\",\"coloraxis\":{\"colorbar\":{\"outlinewidth\":0,\"ticks\":\"\"}},\"colorscale\":{\"diverging\":[[0,\"#8e0152\"],[0.1,\"#c51b7d\"],[0.2,\"#de77ae\"],[0.3,\"#f1b6da\"],[0.4,\"#fde0ef\"],[0.5,\"#f7f7f7\"],[0.6,\"#e6f5d0\"],[0.7,\"#b8e186\"],[0.8,\"#7fbc41\"],[0.9,\"#4d9221\"],[1,\"#276419\"]],\"sequential\":[[0.0,\"#0d0887\"],[0.1111111111111111,\"#46039f\"],[0.2222222222222222,\"#7201a8\"],[0.3333333333333333,\"#9c179e\"],[0.4444444444444444,\"#bd3786\"],[0.5555555555555556,\"#d8576b\"],[0.6666666666666666,\"#ed7953\"],[0.7777777777777778,\"#fb9f3a\"],[0.8888888888888888,\"#fdca26\"],[1.0,\"#f0f921\"]],\"sequentialminus\":[[0.0,\"#0d0887\"],[0.1111111111111111,\"#46039f\"],[0.2222222222222222,\"#7201a8\"],[0.3333333333333333,\"#9c179e\"],[0.4444444444444444,\"#bd3786\"],[0.5555555555555556,\"#d8576b\"],[0.6666666666666666,\"#ed7953\"],[0.7777777777777778,\"#fb9f3a\"],[0.8888888888888888,\"#fdca26\"],[1.0,\"#f0f921\"]]},\"colorway\":[\"#636efa\",\"#EF553B\",\"#00cc96\",\"#ab63fa\",\"#FFA15A\",\"#19d3f3\",\"#FF6692\",\"#B6E880\",\"#FF97FF\",\"#FECB52\"],\"font\":{\"color\":\"#2a3f5f\"},\"geo\":{\"bgcolor\":\"white\",\"lakecolor\":\"white\",\"landcolor\":\"#E5ECF6\",\"showlakes\":true,\"showland\":true,\"subunitcolor\":\"white\"},\"hoverlabel\":{\"align\":\"left\"},\"hovermode\":\"closest\",\"mapbox\":{\"style\":\"light\"},\"paper_bgcolor\":\"white\",\"plot_bgcolor\":\"#E5ECF6\",\"polar\":{\"angularaxis\":{\"gridcolor\":\"white\",\"linecolor\":\"white\",\"ticks\":\"\"},\"bgcolor\":\"#E5ECF6\",\"radialaxis\":{\"gridcolor\":\"white\",\"linecolor\":\"white\",\"ticks\":\"\"}},\"scene\":{\"xaxis\":{\"backgroundcolor\":\"#E5ECF6\",\"gridcolor\":\"white\",\"gridwidth\":2,\"linecolor\":\"white\",\"showbackground\":true,\"ticks\":\"\",\"zerolinecolor\":\"white\"},\"yaxis\":{\"backgroundcolor\":\"#E5ECF6\",\"gridcolor\":\"white\",\"gridwidth\":2,\"linecolor\":\"white\",\"showbackground\":true,\"ticks\":\"\",\"zerolinecolor\":\"white\"},\"zaxis\":{\"backgroundcolor\":\"#E5ECF6\",\"gridcolor\":\"white\",\"gridwidth\":2,\"linecolor\":\"white\",\"showbackground\":true,\"ticks\":\"\",\"zerolinecolor\":\"white\"}},\"shapedefaults\":{\"line\":{\"color\":\"#2a3f5f\"}},\"ternary\":{\"aaxis\":{\"gridcolor\":\"white\",\"linecolor\":\"white\",\"ticks\":\"\"},\"baxis\":{\"gridcolor\":\"white\",\"linecolor\":\"white\",\"ticks\":\"\"},\"bgcolor\":\"#E5ECF6\",\"caxis\":{\"gridcolor\":\"white\",\"linecolor\":\"white\",\"ticks\":\"\"}},\"title\":{\"x\":0.05},\"xaxis\":{\"automargin\":true,\"gridcolor\":\"white\",\"linecolor\":\"white\",\"ticks\":\"\",\"title\":{\"standoff\":15},\"zerolinecolor\":\"white\",\"zerolinewidth\":2},\"yaxis\":{\"automargin\":true,\"gridcolor\":\"white\",\"linecolor\":\"white\",\"ticks\":\"\",\"title\":{\"standoff\":15},\"zerolinecolor\":\"white\",\"zerolinewidth\":2}}},\"xaxis\":{\"title\":{\"text\":\"total_rec_late_fee\"}},\"yaxis\":{\"title\":{\"text\":\"value\"}}},                        {\"responsive\": true}                    ).then(function(){\n",
              "                            \n",
              "var gd = document.getElementById('724fd322-3e7d-4ed0-b4d7-029d3c3d0c97');\n",
              "var x = new MutationObserver(function (mutations, observer) {{\n",
              "        var display = window.getComputedStyle(gd).display;\n",
              "        if (!display || display === 'none') {{\n",
              "            console.log([gd, 'removed!']);\n",
              "            Plotly.purge(gd);\n",
              "            observer.disconnect();\n",
              "        }}\n",
              "}});\n",
              "\n",
              "// Listen for the removal of the full notebook cells\n",
              "var notebookContainer = gd.closest('#notebook-container');\n",
              "if (notebookContainer) {{\n",
              "    x.observe(notebookContainer, {childList: true});\n",
              "}}\n",
              "\n",
              "// Listen for the clearing of the current output cell\n",
              "var outputEl = gd.closest('.output');\n",
              "if (outputEl) {{\n",
              "    x.observe(outputEl, {childList: true});\n",
              "}}\n",
              "\n",
              "                        })                };                            </script>        </div>\n",
              "</body>\n",
              "</html>"
            ]
          },
          "metadata": {}
        }
      ]
    },
    {
      "cell_type": "code",
      "source": [
        "testing['recoveries'].plot.box()"
      ],
      "metadata": {
        "colab": {
          "base_uri": "https://localhost:8080/",
          "height": 542
        },
        "id": "6c9ej8GnhBKk",
        "outputId": "e14f69d1-37ef-4c25-a0af-7009ebef7406"
      },
      "execution_count": null,
      "outputs": [
        {
          "output_type": "display_data",
          "data": {
            "text/html": [
              "<html>\n",
              "<head><meta charset=\"utf-8\" /></head>\n",
              "<body>\n",
              "    <div>            <script src=\"https://cdnjs.cloudflare.com/ajax/libs/mathjax/2.7.5/MathJax.js?config=TeX-AMS-MML_SVG\"></script><script type=\"text/javascript\">if (window.MathJax) {MathJax.Hub.Config({SVG: {font: \"STIX-Web\"}});}</script>                <script type=\"text/javascript\">window.PlotlyConfig = {MathJaxConfig: 'local'};</script>\n",
              "        <script src=\"https://cdn.plot.ly/plotly-2.8.3.min.js\"></script>                <div id=\"28f70160-1d49-49d6-984d-d88c73035fc1\" class=\"plotly-graph-div\" style=\"height:525px; width:100%;\"></div>            <script type=\"text/javascript\">                                    window.PLOTLYENV=window.PLOTLYENV || {};                                    if (document.getElementById(\"28f70160-1d49-49d6-984d-d88c73035fc1\")) {                    Plotly.newPlot(                        \"28f70160-1d49-49d6-984d-d88c73035fc1\",                        [{\"boxpoints\":\"suspectedoutliers\",\"lowerfence\":[0.0],\"mean\":[47.069698291929335],\"median\":[0.0],\"name\":\"recoveries\",\"notched\":false,\"q1\":[0.0],\"q3\":[0.0],\"upperfence\":[0.0],\"y\":[[3.6,6.3,6.31,6.87,7.11,8.19,8.35,8.36,8.41,8.46,8.54,8.56,8.65,8.71,8.85,8.88,8.89,8.99,9.09,9.11,9.14,9.16,9.16,9.18,9.21,9.24,9.26,9.34,9.36,9.37,9.38,9.42,9.43,9.46,9.46,9.48,9.54,9.54,9.55,9.59,9.6,9.66,9.67,9.67,9.68,9.68,9.68,9.72,9.72,9.73,9.73,9.76,9.77,9.77,9.77,9.79,9.79,9.8,9.8,9.8,9.83,9.85,9.87,9.89,9.89,9.9,9.92,9.92,9.93,9.94,9.97,9.98,9.99,10.0,10.0,10.0,10.0,10.0,10.0,10.0,10.0,10.01,10.01,10.01,10.02,10.04,10.04,10.06,10.06,10.07,10.07,10.07,10.08,10.08,10.08,10.08,10.08,10.08,10.08,10.09,10.09,10.1,10.1,10.1,10.1,10.12,10.12,10.13,10.13,10.13,10.14,10.14,10.14,10.14,10.15,10.15,10.17,10.17,10.17,10.18,10.18,10.18,10.19,10.2,10.2,10.2,10.2,10.2,10.2,10.2,10.23,10.24,10.24,10.26,10.26,10.26,10.27,10.28,10.29,10.29,10.29,10.3,10.3,10.3,10.3,10.3,10.32,10.34,10.35,10.35,10.35,10.35,10.35,10.35,10.36,10.37,10.37,10.37,10.4,10.4,10.4,10.4,10.4,10.4,10.4,10.4,10.41,10.42,10.43,10.44,10.44,10.44,10.44,10.45,10.47,10.47,10.49,10.5,10.5,10.5,10.5,10.5,10.51,10.52,10.53,10.56,10.56,10.56,10.56,10.56,10.56,10.57,10.57,10.58,10.59,10.6,10.6,10.6,10.61,10.62,10.62,10.62,10.63,10.63,10.64,10.64,10.64,10.65,10.65,10.65,10.66,10.66,10.66,10.66,10.66,10.66,10.67,10.67,10.68,10.69,10.7,10.7,10.7,10.7,10.71,10.71,10.71,10.71,10.71,10.72,10.72,10.72,10.72,10.76,10.76,10.78,10.79,10.8,10.8,10.8,10.8,10.82,10.83,10.83,10.83,10.86,10.86,10.86,10.88,10.88,10.89,10.89,10.89,10.9,10.9,10.92,10.92,10.92,10.92,10.92,10.92,10.94,10.95,10.95,10.96,10.97,10.98,10.99,11.0,11.0,11.01,11.01,11.02,11.03,11.04,11.04,11.04,11.06,11.07,11.07,11.07,11.08,11.09,11.1,11.1,11.11,11.11,11.11,11.12,11.12,11.12,11.13,11.16,11.16,11.16,11.16,11.16,11.16,11.18,11.19,11.19,11.19,11.2,11.2,11.2,11.2,11.2,11.2,11.2,11.21,11.21,11.23,11.25,11.25,11.27,11.29,11.29,11.29,11.29,11.3,11.3,11.31,11.33,11.34,11.34,11.34,11.34,11.35,11.35,11.36,11.36,11.36,11.37,11.39,11.4,11.4,11.4,11.41,11.41,11.43,11.44,11.44,11.44,11.47,11.49,11.52,11.52,11.52,11.52,11.53,11.53,11.54,11.55,11.55,11.55,11.56,11.57,11.57,11.58,11.58,11.59,11.6,11.6,11.6,11.6,11.62,11.66,11.67,11.68,11.68,11.68,11.68,11.68,11.69,11.69,11.7,11.7,11.7,11.7,11.7,11.7,11.7,11.7,11.7,11.72,11.73,11.73,11.73,11.76,11.76,11.76,11.76,11.77,11.78,11.79,11.8,11.8,11.8,11.8,11.83,11.84,11.84,11.85,11.86,11.86,11.87,11.88,11.88,11.89,11.9,11.9,11.9,11.9,11.9,11.91,11.92,11.92,11.95,11.96,11.97,11.97,11.98,11.99,12.0,12.0,12.0,12.0,12.0,12.0,12.0,12.01,12.01,12.02,12.04,12.04,12.04,12.04,12.06,12.06,12.06,12.07,12.07,12.08,12.09,12.09,12.09,12.09,12.1,12.1,12.1,12.1,12.1,12.12,12.13,12.13,12.14,12.14,12.15,12.15,12.16,12.16,12.16,12.17,12.18,12.19,12.19,12.2,12.22,12.22,12.23,12.24,12.24,12.24,12.24,12.24,12.24,12.26,12.27,12.3,12.3,12.3,12.32,12.32,12.32,12.35,12.35,12.35,12.36,12.38,12.39,12.4,12.4,12.41,12.41,12.41,12.42,12.42,12.42,12.42,12.42,12.43,12.43,12.43,12.45,12.45,12.46,12.47,12.47,12.48,12.48,12.48,12.48,12.5,12.52,12.52,12.53,12.54,12.54,12.57,12.58,12.58,12.6,12.6,12.6,12.6,12.61,12.61,12.61,12.65,12.65,12.66,12.67,12.7,12.7,12.7,12.71,12.73,12.74,12.74,12.74,12.75,12.76,12.77,12.77,12.78,12.78,12.78,12.79,12.8,12.8,12.8,12.8,12.8,12.81,12.81,12.82,12.86,12.87,12.87,12.87,12.88,12.88,12.88,12.88,12.89,12.89,12.9,12.91,12.92,12.92,12.92,12.94,12.95,12.96,12.96,12.96,12.98,12.98,12.99,12.99,13.0,13.0,13.0,13.0,13.05,13.05,13.05,13.06,13.07,13.08,13.09,13.09,13.09,13.09,13.11,13.11,13.11,13.11,13.12,13.12,13.13,13.14,13.16,13.16,13.16,13.2,13.2,13.2,13.2,13.2,13.2,13.22,13.22,13.22,13.23,13.23,13.23,13.24,13.25,13.25,13.26,13.26,13.26,13.28,13.28,13.28,13.3,13.31,13.32,13.32,13.35,13.38,13.4,13.4,13.4,13.4,13.42,13.42,13.42,13.43,13.44,13.44,13.44,13.44,13.44,13.44,13.45,13.47,13.47,13.48,13.5,13.5,13.5,13.5,13.5,13.5,13.52,13.53,13.55,13.55,13.55,13.56,13.56,13.56,13.57,13.59,13.59,13.59,13.59,13.6,13.6,13.6,13.6,13.6,13.61,13.63,13.64,13.64,13.64,13.65,13.66,13.68,13.68,13.68,13.7,13.73,13.74,13.74,13.75,13.77,13.77,13.8,13.8,13.8,13.84,13.84,13.85,13.86,13.86,13.86,13.87,13.87,13.92,13.92,13.93,13.93,13.93,13.94,13.95,13.96,13.96,13.97,13.99,13.99,14.0,14.02,14.02,14.03,14.03,14.04,14.04,14.04,14.05,14.06,14.08,14.08,14.1,14.11,14.13,14.13,14.13,14.14,14.15,14.16,14.16,14.17,14.18,14.19,14.19,14.2,14.2,14.2,14.22,14.22,14.24,14.24,14.27,14.27,14.28,14.28,14.28,14.28,14.28,14.28,14.28,14.28,14.28,14.3,14.31,14.31,14.32,14.34,14.34,14.36,14.38,14.4,14.41,14.41,14.41,14.42,14.42,14.42,14.42,14.43,14.45,14.45,14.45,14.48,14.48,14.49,14.49,14.49,14.53,14.56,14.57,14.58,14.58,14.58,14.61,14.61,14.61,14.63,14.63,14.63,14.64,14.64,14.64,14.68,14.69,14.7,14.71,14.72,14.74,14.75,14.78,14.78,14.79,14.8,14.8,14.8,14.83,14.84,14.85,14.88,14.9,14.91,14.94,14.94,14.94,14.95,14.96,14.96,14.96,14.96,14.97,14.97,14.97,15.0,15.0,15.0,15.07,15.07,15.08,15.1,15.11,15.12,15.12,15.12,15.12,15.12,15.13,15.15,15.15,15.15,15.15,15.16,15.16,15.17,15.18,15.21,15.21,15.22,15.22,15.24,15.25,15.25,15.25,15.26,15.26,15.26,15.27,15.28,15.3,15.3,15.3,15.33,15.34,15.35,15.4,15.4,15.4,15.41,15.41,15.45,15.45,15.47,15.48,15.48,15.48,15.5,15.51,15.52,15.53,15.54,15.56,15.56,15.58,15.58,15.58,15.58,15.6,15.6,15.61,15.61,15.61,15.63,15.63,15.68,15.7,15.72,15.72,15.74,15.75,15.76,15.76,15.77,15.77,15.78,15.78,15.8,15.8,15.81,15.81,15.9,15.91,15.92,15.96,15.97,16.0,16.0,16.0,16.0,16.0,16.02,16.03,16.08,16.08,16.09,16.1,16.1,16.11,16.11,16.12,16.12,16.12,16.12,16.15,16.16,16.16,16.17,16.18,16.18,16.2,16.2,16.2,16.21,16.22,16.24,16.24,16.24,16.25,16.25,16.25,16.27,16.27,16.27,16.28,16.28,16.28,16.28,16.3,16.3,16.32,16.32,16.32,16.33,16.34,16.34,16.37,16.4,16.41,16.44,16.45,16.48,16.48,16.49,16.5,16.5,16.5,16.5,16.5,16.5,16.5,16.5,16.52,16.53,16.55,16.56,16.58,16.59,16.59,16.59,16.62,16.64,16.65,16.69,16.7,16.7,16.72,16.74,16.74]],\"type\":\"box\"}],                        {\"template\":{\"data\":{\"bar\":[{\"error_x\":{\"color\":\"#2a3f5f\"},\"error_y\":{\"color\":\"#2a3f5f\"},\"marker\":{\"line\":{\"color\":\"#E5ECF6\",\"width\":0.5},\"pattern\":{\"fillmode\":\"overlay\",\"size\":10,\"solidity\":0.2}},\"type\":\"bar\"}],\"barpolar\":[{\"marker\":{\"line\":{\"color\":\"#E5ECF6\",\"width\":0.5},\"pattern\":{\"fillmode\":\"overlay\",\"size\":10,\"solidity\":0.2}},\"type\":\"barpolar\"}],\"carpet\":[{\"aaxis\":{\"endlinecolor\":\"#2a3f5f\",\"gridcolor\":\"white\",\"linecolor\":\"white\",\"minorgridcolor\":\"white\",\"startlinecolor\":\"#2a3f5f\"},\"baxis\":{\"endlinecolor\":\"#2a3f5f\",\"gridcolor\":\"white\",\"linecolor\":\"white\",\"minorgridcolor\":\"white\",\"startlinecolor\":\"#2a3f5f\"},\"type\":\"carpet\"}],\"choropleth\":[{\"colorbar\":{\"outlinewidth\":0,\"ticks\":\"\"},\"type\":\"choropleth\"}],\"contour\":[{\"colorbar\":{\"outlinewidth\":0,\"ticks\":\"\"},\"colorscale\":[[0.0,\"#0d0887\"],[0.1111111111111111,\"#46039f\"],[0.2222222222222222,\"#7201a8\"],[0.3333333333333333,\"#9c179e\"],[0.4444444444444444,\"#bd3786\"],[0.5555555555555556,\"#d8576b\"],[0.6666666666666666,\"#ed7953\"],[0.7777777777777778,\"#fb9f3a\"],[0.8888888888888888,\"#fdca26\"],[1.0,\"#f0f921\"]],\"type\":\"contour\"}],\"contourcarpet\":[{\"colorbar\":{\"outlinewidth\":0,\"ticks\":\"\"},\"type\":\"contourcarpet\"}],\"heatmap\":[{\"colorbar\":{\"outlinewidth\":0,\"ticks\":\"\"},\"colorscale\":[[0.0,\"#0d0887\"],[0.1111111111111111,\"#46039f\"],[0.2222222222222222,\"#7201a8\"],[0.3333333333333333,\"#9c179e\"],[0.4444444444444444,\"#bd3786\"],[0.5555555555555556,\"#d8576b\"],[0.6666666666666666,\"#ed7953\"],[0.7777777777777778,\"#fb9f3a\"],[0.8888888888888888,\"#fdca26\"],[1.0,\"#f0f921\"]],\"type\":\"heatmap\"}],\"heatmapgl\":[{\"colorbar\":{\"outlinewidth\":0,\"ticks\":\"\"},\"colorscale\":[[0.0,\"#0d0887\"],[0.1111111111111111,\"#46039f\"],[0.2222222222222222,\"#7201a8\"],[0.3333333333333333,\"#9c179e\"],[0.4444444444444444,\"#bd3786\"],[0.5555555555555556,\"#d8576b\"],[0.6666666666666666,\"#ed7953\"],[0.7777777777777778,\"#fb9f3a\"],[0.8888888888888888,\"#fdca26\"],[1.0,\"#f0f921\"]],\"type\":\"heatmapgl\"}],\"histogram\":[{\"marker\":{\"pattern\":{\"fillmode\":\"overlay\",\"size\":10,\"solidity\":0.2}},\"type\":\"histogram\"}],\"histogram2d\":[{\"colorbar\":{\"outlinewidth\":0,\"ticks\":\"\"},\"colorscale\":[[0.0,\"#0d0887\"],[0.1111111111111111,\"#46039f\"],[0.2222222222222222,\"#7201a8\"],[0.3333333333333333,\"#9c179e\"],[0.4444444444444444,\"#bd3786\"],[0.5555555555555556,\"#d8576b\"],[0.6666666666666666,\"#ed7953\"],[0.7777777777777778,\"#fb9f3a\"],[0.8888888888888888,\"#fdca26\"],[1.0,\"#f0f921\"]],\"type\":\"histogram2d\"}],\"histogram2dcontour\":[{\"colorbar\":{\"outlinewidth\":0,\"ticks\":\"\"},\"colorscale\":[[0.0,\"#0d0887\"],[0.1111111111111111,\"#46039f\"],[0.2222222222222222,\"#7201a8\"],[0.3333333333333333,\"#9c179e\"],[0.4444444444444444,\"#bd3786\"],[0.5555555555555556,\"#d8576b\"],[0.6666666666666666,\"#ed7953\"],[0.7777777777777778,\"#fb9f3a\"],[0.8888888888888888,\"#fdca26\"],[1.0,\"#f0f921\"]],\"type\":\"histogram2dcontour\"}],\"mesh3d\":[{\"colorbar\":{\"outlinewidth\":0,\"ticks\":\"\"},\"type\":\"mesh3d\"}],\"parcoords\":[{\"line\":{\"colorbar\":{\"outlinewidth\":0,\"ticks\":\"\"}},\"type\":\"parcoords\"}],\"pie\":[{\"automargin\":true,\"type\":\"pie\"}],\"scatter\":[{\"marker\":{\"colorbar\":{\"outlinewidth\":0,\"ticks\":\"\"}},\"type\":\"scatter\"}],\"scatter3d\":[{\"line\":{\"colorbar\":{\"outlinewidth\":0,\"ticks\":\"\"}},\"marker\":{\"colorbar\":{\"outlinewidth\":0,\"ticks\":\"\"}},\"type\":\"scatter3d\"}],\"scattercarpet\":[{\"marker\":{\"colorbar\":{\"outlinewidth\":0,\"ticks\":\"\"}},\"type\":\"scattercarpet\"}],\"scattergeo\":[{\"marker\":{\"colorbar\":{\"outlinewidth\":0,\"ticks\":\"\"}},\"type\":\"scattergeo\"}],\"scattergl\":[{\"marker\":{\"colorbar\":{\"outlinewidth\":0,\"ticks\":\"\"}},\"type\":\"scattergl\"}],\"scattermapbox\":[{\"marker\":{\"colorbar\":{\"outlinewidth\":0,\"ticks\":\"\"}},\"type\":\"scattermapbox\"}],\"scatterpolar\":[{\"marker\":{\"colorbar\":{\"outlinewidth\":0,\"ticks\":\"\"}},\"type\":\"scatterpolar\"}],\"scatterpolargl\":[{\"marker\":{\"colorbar\":{\"outlinewidth\":0,\"ticks\":\"\"}},\"type\":\"scatterpolargl\"}],\"scatterternary\":[{\"marker\":{\"colorbar\":{\"outlinewidth\":0,\"ticks\":\"\"}},\"type\":\"scatterternary\"}],\"surface\":[{\"colorbar\":{\"outlinewidth\":0,\"ticks\":\"\"},\"colorscale\":[[0.0,\"#0d0887\"],[0.1111111111111111,\"#46039f\"],[0.2222222222222222,\"#7201a8\"],[0.3333333333333333,\"#9c179e\"],[0.4444444444444444,\"#bd3786\"],[0.5555555555555556,\"#d8576b\"],[0.6666666666666666,\"#ed7953\"],[0.7777777777777778,\"#fb9f3a\"],[0.8888888888888888,\"#fdca26\"],[1.0,\"#f0f921\"]],\"type\":\"surface\"}],\"table\":[{\"cells\":{\"fill\":{\"color\":\"#EBF0F8\"},\"line\":{\"color\":\"white\"}},\"header\":{\"fill\":{\"color\":\"#C8D4E3\"},\"line\":{\"color\":\"white\"}},\"type\":\"table\"}]},\"layout\":{\"annotationdefaults\":{\"arrowcolor\":\"#2a3f5f\",\"arrowhead\":0,\"arrowwidth\":1},\"autotypenumbers\":\"strict\",\"coloraxis\":{\"colorbar\":{\"outlinewidth\":0,\"ticks\":\"\"}},\"colorscale\":{\"diverging\":[[0,\"#8e0152\"],[0.1,\"#c51b7d\"],[0.2,\"#de77ae\"],[0.3,\"#f1b6da\"],[0.4,\"#fde0ef\"],[0.5,\"#f7f7f7\"],[0.6,\"#e6f5d0\"],[0.7,\"#b8e186\"],[0.8,\"#7fbc41\"],[0.9,\"#4d9221\"],[1,\"#276419\"]],\"sequential\":[[0.0,\"#0d0887\"],[0.1111111111111111,\"#46039f\"],[0.2222222222222222,\"#7201a8\"],[0.3333333333333333,\"#9c179e\"],[0.4444444444444444,\"#bd3786\"],[0.5555555555555556,\"#d8576b\"],[0.6666666666666666,\"#ed7953\"],[0.7777777777777778,\"#fb9f3a\"],[0.8888888888888888,\"#fdca26\"],[1.0,\"#f0f921\"]],\"sequentialminus\":[[0.0,\"#0d0887\"],[0.1111111111111111,\"#46039f\"],[0.2222222222222222,\"#7201a8\"],[0.3333333333333333,\"#9c179e\"],[0.4444444444444444,\"#bd3786\"],[0.5555555555555556,\"#d8576b\"],[0.6666666666666666,\"#ed7953\"],[0.7777777777777778,\"#fb9f3a\"],[0.8888888888888888,\"#fdca26\"],[1.0,\"#f0f921\"]]},\"colorway\":[\"#636efa\",\"#EF553B\",\"#00cc96\",\"#ab63fa\",\"#FFA15A\",\"#19d3f3\",\"#FF6692\",\"#B6E880\",\"#FF97FF\",\"#FECB52\"],\"font\":{\"color\":\"#2a3f5f\"},\"geo\":{\"bgcolor\":\"white\",\"lakecolor\":\"white\",\"landcolor\":\"#E5ECF6\",\"showlakes\":true,\"showland\":true,\"subunitcolor\":\"white\"},\"hoverlabel\":{\"align\":\"left\"},\"hovermode\":\"closest\",\"mapbox\":{\"style\":\"light\"},\"paper_bgcolor\":\"white\",\"plot_bgcolor\":\"#E5ECF6\",\"polar\":{\"angularaxis\":{\"gridcolor\":\"white\",\"linecolor\":\"white\",\"ticks\":\"\"},\"bgcolor\":\"#E5ECF6\",\"radialaxis\":{\"gridcolor\":\"white\",\"linecolor\":\"white\",\"ticks\":\"\"}},\"scene\":{\"xaxis\":{\"backgroundcolor\":\"#E5ECF6\",\"gridcolor\":\"white\",\"gridwidth\":2,\"linecolor\":\"white\",\"showbackground\":true,\"ticks\":\"\",\"zerolinecolor\":\"white\"},\"yaxis\":{\"backgroundcolor\":\"#E5ECF6\",\"gridcolor\":\"white\",\"gridwidth\":2,\"linecolor\":\"white\",\"showbackground\":true,\"ticks\":\"\",\"zerolinecolor\":\"white\"},\"zaxis\":{\"backgroundcolor\":\"#E5ECF6\",\"gridcolor\":\"white\",\"gridwidth\":2,\"linecolor\":\"white\",\"showbackground\":true,\"ticks\":\"\",\"zerolinecolor\":\"white\"}},\"shapedefaults\":{\"line\":{\"color\":\"#2a3f5f\"}},\"ternary\":{\"aaxis\":{\"gridcolor\":\"white\",\"linecolor\":\"white\",\"ticks\":\"\"},\"baxis\":{\"gridcolor\":\"white\",\"linecolor\":\"white\",\"ticks\":\"\"},\"bgcolor\":\"#E5ECF6\",\"caxis\":{\"gridcolor\":\"white\",\"linecolor\":\"white\",\"ticks\":\"\"}},\"title\":{\"x\":0.05},\"xaxis\":{\"automargin\":true,\"gridcolor\":\"white\",\"linecolor\":\"white\",\"ticks\":\"\",\"title\":{\"standoff\":15},\"zerolinecolor\":\"white\",\"zerolinewidth\":2},\"yaxis\":{\"automargin\":true,\"gridcolor\":\"white\",\"linecolor\":\"white\",\"ticks\":\"\",\"title\":{\"standoff\":15},\"zerolinecolor\":\"white\",\"zerolinewidth\":2}}},\"xaxis\":{\"title\":{\"text\":\"recoveries\"}},\"yaxis\":{\"title\":{\"text\":\"value\"}}},                        {\"responsive\": true}                    ).then(function(){\n",
              "                            \n",
              "var gd = document.getElementById('28f70160-1d49-49d6-984d-d88c73035fc1');\n",
              "var x = new MutationObserver(function (mutations, observer) {{\n",
              "        var display = window.getComputedStyle(gd).display;\n",
              "        if (!display || display === 'none') {{\n",
              "            console.log([gd, 'removed!']);\n",
              "            Plotly.purge(gd);\n",
              "            observer.disconnect();\n",
              "        }}\n",
              "}});\n",
              "\n",
              "// Listen for the removal of the full notebook cells\n",
              "var notebookContainer = gd.closest('#notebook-container');\n",
              "if (notebookContainer) {{\n",
              "    x.observe(notebookContainer, {childList: true});\n",
              "}}\n",
              "\n",
              "// Listen for the clearing of the current output cell\n",
              "var outputEl = gd.closest('.output');\n",
              "if (outputEl) {{\n",
              "    x.observe(outputEl, {childList: true});\n",
              "}}\n",
              "\n",
              "                        })                };                            </script>        </div>\n",
              "</body>\n",
              "</html>"
            ]
          },
          "metadata": {}
        }
      ]
    },
    {
      "cell_type": "code",
      "source": [
        "testing['collection_recovery_fee'].plot.box()"
      ],
      "metadata": {
        "colab": {
          "base_uri": "https://localhost:8080/",
          "height": 542
        },
        "id": "-y3RhYwHhDMO",
        "outputId": "66801876-3072-47d8-cab9-9ec3d3f15a4e"
      },
      "execution_count": null,
      "outputs": [
        {
          "output_type": "display_data",
          "data": {
            "text/html": [
              "<html>\n",
              "<head><meta charset=\"utf-8\" /></head>\n",
              "<body>\n",
              "    <div>            <script src=\"https://cdnjs.cloudflare.com/ajax/libs/mathjax/2.7.5/MathJax.js?config=TeX-AMS-MML_SVG\"></script><script type=\"text/javascript\">if (window.MathJax) {MathJax.Hub.Config({SVG: {font: \"STIX-Web\"}});}</script>                <script type=\"text/javascript\">window.PlotlyConfig = {MathJaxConfig: 'local'};</script>\n",
              "        <script src=\"https://cdn.plot.ly/plotly-2.8.3.min.js\"></script>                <div id=\"f23111d8-3469-499a-a0b5-76905b90a310\" class=\"plotly-graph-div\" style=\"height:525px; width:100%;\"></div>            <script type=\"text/javascript\">                                    window.PLOTLYENV=window.PLOTLYENV || {};                                    if (document.getElementById(\"f23111d8-3469-499a-a0b5-76905b90a310\")) {                    Plotly.newPlot(                        \"f23111d8-3469-499a-a0b5-76905b90a310\",                        [{\"boxpoints\":\"suspectedoutliers\",\"lowerfence\":[0.0],\"mean\":[4.943635625416267],\"median\":[0.0],\"name\":\"collection_recovery_fee\",\"notched\":false,\"q1\":[0.0],\"q3\":[0.0],\"upperfence\":[0.0],\"y\":[[0.036,0.063,0.071099997,0.074500001,0.088499999,0.134799995,0.1393,0.16,0.1952,0.197899999,0.200700001,0.2147,0.2229,0.2258,0.23,0.2412,0.2462,0.251699999,0.2543,0.27,0.2726,0.277,0.2775,0.282,0.2826,0.2841,0.285,0.29,0.2987,0.3,0.31,0.3221,0.326700001,0.3353,0.34,0.34,0.35,0.35,0.35,0.36,0.3689,0.37,0.3713,0.38,0.38,0.38,0.39,0.39,0.3977,0.4,0.4,0.4,0.4,0.4,0.409099999,0.41,0.42,0.42,0.42,0.429,0.43,0.43,0.44,0.44,0.44,0.44,0.44,0.44,0.44,0.45,0.4547,0.46,0.46,0.46,0.46,0.466099999,0.47,0.47,0.47,0.47,0.4726,0.48,0.48,0.48,0.48,0.48,0.48,0.48,0.48,0.484900005,0.49,0.4958,0.5,0.5,0.5,0.5007,0.506200002,0.51,0.51,0.5102,0.52,0.52,0.52,0.52,0.5215,0.521600001,0.526900003,0.53,0.53,0.534,0.537100004,0.54,0.54,0.54,0.54,0.5469,0.55,0.55,0.55,0.55,0.55,0.565299999,0.57,0.57,0.57,0.57,0.57,0.5721,0.58,0.58,0.59,0.59,0.59,0.59,0.599,0.6,0.6,0.6,0.6,0.6,0.6,0.61,0.61,0.61,0.61,0.61,0.6144,0.62,0.62,0.62,0.62,0.6271,0.63,0.63,0.63,0.63,0.63,0.63,0.6324,0.64,0.64,0.64,0.64,0.642000003,0.65,0.65,0.65,0.65,0.65,0.65,0.6565,0.6588,0.66,0.66,0.66,0.666700001,0.67,0.67,0.67,0.67,0.67,0.68,0.68,0.6856,0.69,0.690100002,0.694000002,0.6979,0.7,0.7,0.7,0.7,0.7,0.7,0.7007,0.7032,0.7041,0.71,0.71,0.71,0.715600001,0.716799996,0.72,0.72,0.72,0.72,0.72,0.72,0.725400002,0.725600001,0.73,0.73,0.73,0.731,0.732899996,0.74,0.74,0.74,0.74,0.74,0.74,0.7423,0.75,0.75,0.75,0.75,0.7599,0.76,0.76,0.760299999,0.7676,0.77,0.77,0.774,0.78,0.78,0.78,0.78,0.781800001,0.7867,0.7874,0.7884,0.79,0.79,0.79,0.79,0.79,0.79,0.79,0.7954,0.8,0.8,0.8,0.8,0.8,0.8,0.8,0.8,0.8,0.802000001,0.802500002,0.8037,0.81,0.81,0.81,0.81,0.81,0.81,0.81,0.82,0.82,0.82,0.82,0.83,0.83,0.83,0.83,0.83,0.83,0.83,0.833099989,0.838199999,0.84,0.85,0.85,0.86,0.86,0.86,0.86,0.8673,0.8675,0.87,0.87,0.87,0.87,0.88,0.884,0.8865,0.8868,0.89,0.89,0.89,0.8942,0.895300002,0.9,0.9,0.9,0.9,0.9,0.91,0.91,0.92,0.92,0.92,0.922,0.923299999,0.929200002,0.93,0.93,0.93,0.93,0.93,0.93,0.93,0.93,0.93,0.9345,0.94,0.94,0.94,0.94,0.94,0.94,0.941099999,0.941499999,0.944800001,0.95,0.95,0.95,0.95,0.95,0.957,0.9578,0.96,0.9699,0.97,0.97,0.97,0.97,0.98,0.98,0.98,0.98,0.9818,0.9819,0.9834,0.986899999,0.9885,0.99,0.99,0.99,0.99,0.99,1.0,1.0,1.0,1.01,1.01,1.01,1.02,1.02,1.02,1.02,1.02,1.02,1.02,1.03,1.03,1.03,1.03,1.0301,1.035,1.0365,1.04,1.04,1.04,1.04,1.040299999,1.0426,1.05,1.05,1.05,1.051,1.054699999,1.06,1.06,1.06,1.06,1.06,1.06,1.0605,1.07,1.07,1.07,1.07,1.07,1.07,1.07,1.07,1.07,1.07,1.071200001,1.077,1.08,1.08,1.09,1.091,1.095199998,1.0959,1.1,1.1,1.1,1.1,1.1028,1.104199999,1.1048,1.106199997,1.11,1.11,1.11,1.11,1.11,1.11,1.12,1.12,1.12,1.12,1.1211,1.122999999,1.1271,1.127400003,1.13,1.13,1.13,1.13,1.1324,1.135799999,1.14,1.14,1.14,1.14,1.140299999,1.1403,1.143699994,1.146199998,1.15,1.15,1.1505,1.154300002,1.158499998,1.1586,1.159400001,1.16,1.16,1.16,1.16,1.16,1.16,1.16,1.16,1.1602,1.1622,1.17,1.17,1.17,1.17,1.17,1.174300001,1.1749,1.177300001,1.180400004,1.1864,1.186899998,1.1898,1.19,1.19,1.19,1.1989,1.2,1.2,1.2,1.2,1.2,1.2,1.2,1.2,1.2,1.2,1.2,1.200900001,1.2039,1.2043,1.21,1.21,1.21,1.21,1.21,1.21,1.21,1.21,1.2117,1.215899999,1.219600001,1.22,1.22,1.22,1.22,1.22,1.22,1.22,1.224400001,1.2256,1.2292,1.2297,1.23,1.23,1.23,1.23,1.23,1.2314,1.2317,1.233199999,1.2332,1.24,1.245499999,1.2461,1.246999998,1.2483,1.25,1.25,1.250199999,1.252,1.2582,1.2584,1.26,1.2628,1.2697,1.27,1.27,1.27,1.27,1.27,1.270700002,1.272800001,1.274399998,1.275100001,1.28,1.28,1.28,1.28,1.28,1.2816,1.282699999,1.2879,1.29,1.29,1.29,1.29,1.29,1.29,1.2912,1.2977,1.3,1.3,1.3,1.3,1.3,1.3,1.3,1.3098,1.31,1.31,1.31,1.31,1.31,1.31,1.31,1.311999999,1.3176,1.32,1.32,1.32,1.32,1.3239,1.3243,1.3287,1.3292,1.33,1.33,1.33,1.332200001,1.3396,1.34,1.34,1.34,1.3459,1.346600002,1.3483,1.3495,1.35,1.35,1.35,1.35,1.35,1.353399999,1.3548,1.36,1.36,1.36,1.36,1.36,1.36,1.36,1.362099999,1.367200007,1.37,1.37,1.37,1.37,1.37,1.37,1.37,1.3711,1.38,1.38,1.39,1.39,1.39,1.39,1.39,1.39,1.39,1.3952,1.397500002,1.4,1.4,1.4,1.4,1.4,1.4,1.400899999,1.4098,1.41,1.41,1.41,1.41,1.4134,1.42,1.42,1.42,1.421900003,1.424,1.425,1.429599999,1.43,1.43,1.43,1.43,1.43,1.430600001,1.434199997,1.4386,1.4396,1.44,1.44,1.44,1.44,1.44,1.44,1.44,1.446000001,1.45,1.45,1.45,1.45,1.45,1.45,1.45,1.452600005,1.4527,1.455500003,1.4562,1.46,1.46,1.46,1.46,1.47,1.47,1.47,1.47,1.47,1.47,1.4716,1.473100001,1.4751,1.4778,1.478799998,1.48,1.48,1.48,1.48,1.48,1.48,1.48,1.4801,1.481300001,1.4877,1.49,1.49,1.49,1.49,1.49,1.4941,1.4989,1.5,1.5,1.5,1.5,1.503499998,1.503900001,1.51,1.51,1.51,1.5101,1.514299998,1.5164,1.52,1.52,1.52,1.52,1.5235,1.5268,1.529599999,1.53,1.53,1.53,1.53,1.53,1.5353,1.54,1.54,1.54,1.54,1.54,1.5402,1.55,1.55,1.55,1.55,1.55,1.55,1.55,1.55,1.55,1.55,1.5551,1.56,1.56,1.56,1.56,1.56,1.56,1.56,1.56,1.5611,1.57,1.57,1.57,1.5705,1.575400001,1.5767,1.577799996,1.58,1.58,1.58,1.58,1.58,1.58,1.581500002,1.59,1.59,1.59,1.59,1.5926,1.5946,1.5985,1.6,1.6,1.6,1.6,1.6,1.6,1.6,1.6,1.6,1.6056,1.6062,1.6064,1.61,1.61,1.61,1.6108,1.6129,1.616,1.6167,1.62,1.62,1.62,1.62,1.62,1.62,1.62,1.62,1.62,1.622300002,1.6248,1.63,1.63,1.63,1.63,1.63,1.6345,1.634700001,1.6397,1.64,1.64,1.64,1.645099999,1.6481,1.65,1.65,1.65,1.65,1.65,1.65,1.65,1.6521,1.6557,1.657900003,1.66,1.66,1.66,1.66,1.665500001,1.6686,1.67,1.67,1.67,1.67,1.675600001,1.6763,1.6776,1.68,1.68,1.68,1.68,1.68,1.6848,1.6857,1.687,1.688,1.69,1.69,1.69,1.69,1.69,1.69,1.69,1.69,1.69,1.69,1.691800002,1.6926,1.7,1.7,1.7,1.7,1.7,1.7,1.7,1.704799997,1.71,1.71,1.71,1.71,1.71,1.71,1.7115,1.715899998,1.72,1.72,1.72,1.72,1.73,1.73,1.73,1.73,1.7332,1.737200001,1.737800001,1.738399999,1.7397,1.74,1.74,1.7413,1.747300001,1.748100001,1.7496,1.7498,1.75,1.75,1.75,1.75,1.7519,1.76,1.76,1.76,1.76,1.76,1.761499996,1.766600001,1.7687,1.7697,1.77,1.77,1.77,1.77,1.77,1.7727,1.779900003,1.78,1.78,1.78,1.78,1.78,1.7838,1.784299998,1.7843,1.785000002,1.7898,1.79,1.79,1.79,1.794699998,1.799999998,1.8,1.8,1.8,1.8,1.8,1.8,1.8,1.8,1.8,1.8,1.8,1.8007,1.8018,1.802900002,1.804300002,1.8047,1.8058,1.8064,1.807199988,1.81,1.81,1.81,1.81,1.81,1.810600002,1.8128,1.8132,1.8144,1.814400003,1.8161,1.817,1.817900003,1.818,1.818000002,1.82,1.82,1.82,1.82,1.8206,1.820800001,1.821400002,1.8216,1.822400002,1.822800002,1.8235,1.825199993]],\"type\":\"box\"}],                        {\"template\":{\"data\":{\"bar\":[{\"error_x\":{\"color\":\"#2a3f5f\"},\"error_y\":{\"color\":\"#2a3f5f\"},\"marker\":{\"line\":{\"color\":\"#E5ECF6\",\"width\":0.5},\"pattern\":{\"fillmode\":\"overlay\",\"size\":10,\"solidity\":0.2}},\"type\":\"bar\"}],\"barpolar\":[{\"marker\":{\"line\":{\"color\":\"#E5ECF6\",\"width\":0.5},\"pattern\":{\"fillmode\":\"overlay\",\"size\":10,\"solidity\":0.2}},\"type\":\"barpolar\"}],\"carpet\":[{\"aaxis\":{\"endlinecolor\":\"#2a3f5f\",\"gridcolor\":\"white\",\"linecolor\":\"white\",\"minorgridcolor\":\"white\",\"startlinecolor\":\"#2a3f5f\"},\"baxis\":{\"endlinecolor\":\"#2a3f5f\",\"gridcolor\":\"white\",\"linecolor\":\"white\",\"minorgridcolor\":\"white\",\"startlinecolor\":\"#2a3f5f\"},\"type\":\"carpet\"}],\"choropleth\":[{\"colorbar\":{\"outlinewidth\":0,\"ticks\":\"\"},\"type\":\"choropleth\"}],\"contour\":[{\"colorbar\":{\"outlinewidth\":0,\"ticks\":\"\"},\"colorscale\":[[0.0,\"#0d0887\"],[0.1111111111111111,\"#46039f\"],[0.2222222222222222,\"#7201a8\"],[0.3333333333333333,\"#9c179e\"],[0.4444444444444444,\"#bd3786\"],[0.5555555555555556,\"#d8576b\"],[0.6666666666666666,\"#ed7953\"],[0.7777777777777778,\"#fb9f3a\"],[0.8888888888888888,\"#fdca26\"],[1.0,\"#f0f921\"]],\"type\":\"contour\"}],\"contourcarpet\":[{\"colorbar\":{\"outlinewidth\":0,\"ticks\":\"\"},\"type\":\"contourcarpet\"}],\"heatmap\":[{\"colorbar\":{\"outlinewidth\":0,\"ticks\":\"\"},\"colorscale\":[[0.0,\"#0d0887\"],[0.1111111111111111,\"#46039f\"],[0.2222222222222222,\"#7201a8\"],[0.3333333333333333,\"#9c179e\"],[0.4444444444444444,\"#bd3786\"],[0.5555555555555556,\"#d8576b\"],[0.6666666666666666,\"#ed7953\"],[0.7777777777777778,\"#fb9f3a\"],[0.8888888888888888,\"#fdca26\"],[1.0,\"#f0f921\"]],\"type\":\"heatmap\"}],\"heatmapgl\":[{\"colorbar\":{\"outlinewidth\":0,\"ticks\":\"\"},\"colorscale\":[[0.0,\"#0d0887\"],[0.1111111111111111,\"#46039f\"],[0.2222222222222222,\"#7201a8\"],[0.3333333333333333,\"#9c179e\"],[0.4444444444444444,\"#bd3786\"],[0.5555555555555556,\"#d8576b\"],[0.6666666666666666,\"#ed7953\"],[0.7777777777777778,\"#fb9f3a\"],[0.8888888888888888,\"#fdca26\"],[1.0,\"#f0f921\"]],\"type\":\"heatmapgl\"}],\"histogram\":[{\"marker\":{\"pattern\":{\"fillmode\":\"overlay\",\"size\":10,\"solidity\":0.2}},\"type\":\"histogram\"}],\"histogram2d\":[{\"colorbar\":{\"outlinewidth\":0,\"ticks\":\"\"},\"colorscale\":[[0.0,\"#0d0887\"],[0.1111111111111111,\"#46039f\"],[0.2222222222222222,\"#7201a8\"],[0.3333333333333333,\"#9c179e\"],[0.4444444444444444,\"#bd3786\"],[0.5555555555555556,\"#d8576b\"],[0.6666666666666666,\"#ed7953\"],[0.7777777777777778,\"#fb9f3a\"],[0.8888888888888888,\"#fdca26\"],[1.0,\"#f0f921\"]],\"type\":\"histogram2d\"}],\"histogram2dcontour\":[{\"colorbar\":{\"outlinewidth\":0,\"ticks\":\"\"},\"colorscale\":[[0.0,\"#0d0887\"],[0.1111111111111111,\"#46039f\"],[0.2222222222222222,\"#7201a8\"],[0.3333333333333333,\"#9c179e\"],[0.4444444444444444,\"#bd3786\"],[0.5555555555555556,\"#d8576b\"],[0.6666666666666666,\"#ed7953\"],[0.7777777777777778,\"#fb9f3a\"],[0.8888888888888888,\"#fdca26\"],[1.0,\"#f0f921\"]],\"type\":\"histogram2dcontour\"}],\"mesh3d\":[{\"colorbar\":{\"outlinewidth\":0,\"ticks\":\"\"},\"type\":\"mesh3d\"}],\"parcoords\":[{\"line\":{\"colorbar\":{\"outlinewidth\":0,\"ticks\":\"\"}},\"type\":\"parcoords\"}],\"pie\":[{\"automargin\":true,\"type\":\"pie\"}],\"scatter\":[{\"marker\":{\"colorbar\":{\"outlinewidth\":0,\"ticks\":\"\"}},\"type\":\"scatter\"}],\"scatter3d\":[{\"line\":{\"colorbar\":{\"outlinewidth\":0,\"ticks\":\"\"}},\"marker\":{\"colorbar\":{\"outlinewidth\":0,\"ticks\":\"\"}},\"type\":\"scatter3d\"}],\"scattercarpet\":[{\"marker\":{\"colorbar\":{\"outlinewidth\":0,\"ticks\":\"\"}},\"type\":\"scattercarpet\"}],\"scattergeo\":[{\"marker\":{\"colorbar\":{\"outlinewidth\":0,\"ticks\":\"\"}},\"type\":\"scattergeo\"}],\"scattergl\":[{\"marker\":{\"colorbar\":{\"outlinewidth\":0,\"ticks\":\"\"}},\"type\":\"scattergl\"}],\"scattermapbox\":[{\"marker\":{\"colorbar\":{\"outlinewidth\":0,\"ticks\":\"\"}},\"type\":\"scattermapbox\"}],\"scatterpolar\":[{\"marker\":{\"colorbar\":{\"outlinewidth\":0,\"ticks\":\"\"}},\"type\":\"scatterpolar\"}],\"scatterpolargl\":[{\"marker\":{\"colorbar\":{\"outlinewidth\":0,\"ticks\":\"\"}},\"type\":\"scatterpolargl\"}],\"scatterternary\":[{\"marker\":{\"colorbar\":{\"outlinewidth\":0,\"ticks\":\"\"}},\"type\":\"scatterternary\"}],\"surface\":[{\"colorbar\":{\"outlinewidth\":0,\"ticks\":\"\"},\"colorscale\":[[0.0,\"#0d0887\"],[0.1111111111111111,\"#46039f\"],[0.2222222222222222,\"#7201a8\"],[0.3333333333333333,\"#9c179e\"],[0.4444444444444444,\"#bd3786\"],[0.5555555555555556,\"#d8576b\"],[0.6666666666666666,\"#ed7953\"],[0.7777777777777778,\"#fb9f3a\"],[0.8888888888888888,\"#fdca26\"],[1.0,\"#f0f921\"]],\"type\":\"surface\"}],\"table\":[{\"cells\":{\"fill\":{\"color\":\"#EBF0F8\"},\"line\":{\"color\":\"white\"}},\"header\":{\"fill\":{\"color\":\"#C8D4E3\"},\"line\":{\"color\":\"white\"}},\"type\":\"table\"}]},\"layout\":{\"annotationdefaults\":{\"arrowcolor\":\"#2a3f5f\",\"arrowhead\":0,\"arrowwidth\":1},\"autotypenumbers\":\"strict\",\"coloraxis\":{\"colorbar\":{\"outlinewidth\":0,\"ticks\":\"\"}},\"colorscale\":{\"diverging\":[[0,\"#8e0152\"],[0.1,\"#c51b7d\"],[0.2,\"#de77ae\"],[0.3,\"#f1b6da\"],[0.4,\"#fde0ef\"],[0.5,\"#f7f7f7\"],[0.6,\"#e6f5d0\"],[0.7,\"#b8e186\"],[0.8,\"#7fbc41\"],[0.9,\"#4d9221\"],[1,\"#276419\"]],\"sequential\":[[0.0,\"#0d0887\"],[0.1111111111111111,\"#46039f\"],[0.2222222222222222,\"#7201a8\"],[0.3333333333333333,\"#9c179e\"],[0.4444444444444444,\"#bd3786\"],[0.5555555555555556,\"#d8576b\"],[0.6666666666666666,\"#ed7953\"],[0.7777777777777778,\"#fb9f3a\"],[0.8888888888888888,\"#fdca26\"],[1.0,\"#f0f921\"]],\"sequentialminus\":[[0.0,\"#0d0887\"],[0.1111111111111111,\"#46039f\"],[0.2222222222222222,\"#7201a8\"],[0.3333333333333333,\"#9c179e\"],[0.4444444444444444,\"#bd3786\"],[0.5555555555555556,\"#d8576b\"],[0.6666666666666666,\"#ed7953\"],[0.7777777777777778,\"#fb9f3a\"],[0.8888888888888888,\"#fdca26\"],[1.0,\"#f0f921\"]]},\"colorway\":[\"#636efa\",\"#EF553B\",\"#00cc96\",\"#ab63fa\",\"#FFA15A\",\"#19d3f3\",\"#FF6692\",\"#B6E880\",\"#FF97FF\",\"#FECB52\"],\"font\":{\"color\":\"#2a3f5f\"},\"geo\":{\"bgcolor\":\"white\",\"lakecolor\":\"white\",\"landcolor\":\"#E5ECF6\",\"showlakes\":true,\"showland\":true,\"subunitcolor\":\"white\"},\"hoverlabel\":{\"align\":\"left\"},\"hovermode\":\"closest\",\"mapbox\":{\"style\":\"light\"},\"paper_bgcolor\":\"white\",\"plot_bgcolor\":\"#E5ECF6\",\"polar\":{\"angularaxis\":{\"gridcolor\":\"white\",\"linecolor\":\"white\",\"ticks\":\"\"},\"bgcolor\":\"#E5ECF6\",\"radialaxis\":{\"gridcolor\":\"white\",\"linecolor\":\"white\",\"ticks\":\"\"}},\"scene\":{\"xaxis\":{\"backgroundcolor\":\"#E5ECF6\",\"gridcolor\":\"white\",\"gridwidth\":2,\"linecolor\":\"white\",\"showbackground\":true,\"ticks\":\"\",\"zerolinecolor\":\"white\"},\"yaxis\":{\"backgroundcolor\":\"#E5ECF6\",\"gridcolor\":\"white\",\"gridwidth\":2,\"linecolor\":\"white\",\"showbackground\":true,\"ticks\":\"\",\"zerolinecolor\":\"white\"},\"zaxis\":{\"backgroundcolor\":\"#E5ECF6\",\"gridcolor\":\"white\",\"gridwidth\":2,\"linecolor\":\"white\",\"showbackground\":true,\"ticks\":\"\",\"zerolinecolor\":\"white\"}},\"shapedefaults\":{\"line\":{\"color\":\"#2a3f5f\"}},\"ternary\":{\"aaxis\":{\"gridcolor\":\"white\",\"linecolor\":\"white\",\"ticks\":\"\"},\"baxis\":{\"gridcolor\":\"white\",\"linecolor\":\"white\",\"ticks\":\"\"},\"bgcolor\":\"#E5ECF6\",\"caxis\":{\"gridcolor\":\"white\",\"linecolor\":\"white\",\"ticks\":\"\"}},\"title\":{\"x\":0.05},\"xaxis\":{\"automargin\":true,\"gridcolor\":\"white\",\"linecolor\":\"white\",\"ticks\":\"\",\"title\":{\"standoff\":15},\"zerolinecolor\":\"white\",\"zerolinewidth\":2},\"yaxis\":{\"automargin\":true,\"gridcolor\":\"white\",\"linecolor\":\"white\",\"ticks\":\"\",\"title\":{\"standoff\":15},\"zerolinecolor\":\"white\",\"zerolinewidth\":2}}},\"xaxis\":{\"title\":{\"text\":\"collection_recovery_fee\"}},\"yaxis\":{\"title\":{\"text\":\"value\"}}},                        {\"responsive\": true}                    ).then(function(){\n",
              "                            \n",
              "var gd = document.getElementById('f23111d8-3469-499a-a0b5-76905b90a310');\n",
              "var x = new MutationObserver(function (mutations, observer) {{\n",
              "        var display = window.getComputedStyle(gd).display;\n",
              "        if (!display || display === 'none') {{\n",
              "            console.log([gd, 'removed!']);\n",
              "            Plotly.purge(gd);\n",
              "            observer.disconnect();\n",
              "        }}\n",
              "}});\n",
              "\n",
              "// Listen for the removal of the full notebook cells\n",
              "var notebookContainer = gd.closest('#notebook-container');\n",
              "if (notebookContainer) {{\n",
              "    x.observe(notebookContainer, {childList: true});\n",
              "}}\n",
              "\n",
              "// Listen for the clearing of the current output cell\n",
              "var outputEl = gd.closest('.output');\n",
              "if (outputEl) {{\n",
              "    x.observe(outputEl, {childList: true});\n",
              "}}\n",
              "\n",
              "                        })                };                            </script>        </div>\n",
              "</body>\n",
              "</html>"
            ]
          },
          "metadata": {}
        }
      ]
    },
    {
      "cell_type": "code",
      "source": [
        "testing['collections_12_mths_ex_med'].plot.box()"
      ],
      "metadata": {
        "colab": {
          "base_uri": "https://localhost:8080/",
          "height": 542
        },
        "id": "VWNm6OL0hDRH",
        "outputId": "eaf02f28-8e76-48dd-bde4-f6e06851c115"
      },
      "execution_count": null,
      "outputs": [
        {
          "output_type": "display_data",
          "data": {
            "text/html": [
              "<html>\n",
              "<head><meta charset=\"utf-8\" /></head>\n",
              "<body>\n",
              "    <div>            <script src=\"https://cdnjs.cloudflare.com/ajax/libs/mathjax/2.7.5/MathJax.js?config=TeX-AMS-MML_SVG\"></script><script type=\"text/javascript\">if (window.MathJax) {MathJax.Hub.Config({SVG: {font: \"STIX-Web\"}});}</script>                <script type=\"text/javascript\">window.PlotlyConfig = {MathJaxConfig: 'local'};</script>\n",
              "        <script src=\"https://cdn.plot.ly/plotly-2.8.3.min.js\"></script>                <div id=\"648617c9-e20e-4941-ba85-5947dfa00fc2\" class=\"plotly-graph-div\" style=\"height:525px; width:100%;\"></div>            <script type=\"text/javascript\">                                    window.PLOTLYENV=window.PLOTLYENV || {};                                    if (document.getElementById(\"648617c9-e20e-4941-ba85-5947dfa00fc2\")) {                    Plotly.newPlot(                        \"648617c9-e20e-4941-ba85-5947dfa00fc2\",                        [{\"boxpoints\":\"suspectedoutliers\",\"lowerfence\":[0.0],\"mean\":[0.014233245261719932],\"median\":[0.0],\"name\":\"collections_12_mths_ex_med\",\"notched\":false,\"q1\":[0.0],\"q3\":[0.0],\"upperfence\":[0.0],\"y\":[[1.0,1.0,1.0,1.0,1.0,1.0,1.0,1.0,1.0,1.0,1.0,1.0,1.0,1.0,1.0,1.0,1.0,1.0,1.0,1.0,1.0,1.0,1.0,1.0,1.0,1.0,1.0,1.0,1.0,1.0,1.0,1.0,1.0,1.0,1.0,1.0,1.0,1.0,1.0,1.0,1.0,1.0,1.0,1.0,1.0,1.0,1.0,1.0,1.0,1.0,1.0,1.0,1.0,1.0,1.0,1.0,1.0,1.0,1.0,1.0,1.0,1.0,1.0,1.0,1.0,1.0,1.0,1.0,1.0,1.0,1.0,1.0,1.0,1.0,1.0,1.0,1.0,1.0,1.0,1.0,1.0,1.0,1.0,1.0,1.0,1.0,1.0,1.0,1.0,1.0,1.0,1.0,1.0,1.0,1.0,1.0,1.0,1.0,1.0,1.0,1.0,1.0,1.0,1.0,1.0,1.0,1.0,1.0,1.0,1.0,1.0,1.0,1.0,1.0,1.0,1.0,1.0,1.0,1.0,1.0,1.0,1.0,1.0,1.0,1.0,1.0,1.0,1.0,1.0,1.0,1.0,1.0,1.0,1.0,1.0,1.0,1.0,1.0,1.0,1.0,1.0,1.0,1.0,1.0,1.0,1.0,1.0,1.0,1.0,1.0,1.0,1.0,1.0,1.0,1.0,1.0,1.0,1.0,1.0,1.0,1.0,1.0,1.0,1.0,1.0,1.0,1.0,1.0,1.0,1.0,1.0,1.0,1.0,1.0,1.0,1.0,1.0,1.0,1.0,1.0,1.0,1.0,1.0,1.0,1.0,1.0,1.0,1.0,1.0,1.0,1.0,1.0,1.0,1.0,1.0,1.0,1.0,1.0,1.0,1.0,1.0,1.0,1.0,1.0,1.0,1.0,1.0,1.0,1.0,1.0,1.0,1.0,1.0,1.0,1.0,1.0,1.0,1.0,1.0,1.0,1.0,1.0,1.0,1.0,1.0,1.0,1.0,1.0,1.0,1.0,1.0,1.0,1.0,1.0,1.0,1.0,1.0,1.0,1.0,1.0,1.0,1.0,1.0,1.0,1.0,1.0,1.0,1.0,1.0,1.0,1.0,1.0,1.0,1.0,1.0,1.0,1.0,1.0,1.0,1.0,1.0,1.0,1.0,1.0,1.0,1.0,1.0,1.0,1.0,1.0,1.0,1.0,1.0,1.0,1.0,1.0,1.0,1.0,1.0,1.0,1.0,1.0,1.0,1.0,1.0,1.0,1.0,1.0,1.0,1.0,1.0,1.0,1.0,1.0,1.0,1.0,1.0,1.0,1.0,1.0,1.0,1.0,1.0,1.0,1.0,1.0,1.0,1.0,1.0,1.0,1.0,1.0,1.0,1.0,1.0,1.0,1.0,1.0,1.0,1.0,1.0,1.0,1.0,1.0,1.0,1.0,1.0,1.0,1.0,1.0,1.0,1.0,1.0,1.0,1.0,1.0,1.0,1.0,1.0,1.0,1.0,1.0,1.0,1.0,1.0,1.0,1.0,1.0,1.0,1.0,1.0,1.0,1.0,1.0,1.0,1.0,1.0,1.0,1.0,1.0,1.0,1.0,1.0,1.0,1.0,1.0,1.0,1.0,1.0,1.0,1.0,1.0,1.0,1.0,1.0,1.0,1.0,1.0,1.0,1.0,1.0,1.0,1.0,1.0,1.0,1.0,1.0,1.0,1.0,1.0,1.0,1.0,1.0,1.0,1.0,1.0,1.0,1.0,1.0,1.0,1.0,1.0,1.0,1.0,1.0,1.0,1.0,1.0,1.0,1.0,1.0,1.0,1.0,1.0,1.0,1.0,1.0,1.0,1.0,1.0,1.0,1.0,1.0,1.0,1.0,1.0,1.0,1.0,1.0,1.0,1.0,1.0,1.0,1.0,1.0,1.0,1.0,1.0,1.0,1.0,1.0,1.0,1.0,1.0,1.0,1.0,1.0,1.0,1.0,1.0,1.0,1.0,1.0,1.0,1.0,1.0,1.0,1.0,1.0,1.0,1.0,1.0,1.0,1.0,1.0,1.0,1.0,1.0,1.0,1.0,1.0,1.0,1.0,1.0,1.0,1.0,1.0,1.0,1.0,1.0,1.0,1.0,1.0,1.0,1.0,1.0,1.0,1.0,1.0,1.0,1.0,1.0,1.0,1.0,1.0,1.0,1.0,1.0,1.0,1.0,1.0,1.0,1.0,1.0,1.0,1.0,1.0,1.0,1.0,1.0,1.0,1.0,1.0,1.0,1.0,1.0,1.0,1.0,1.0,1.0,1.0,1.0,1.0,1.0,1.0,1.0,1.0,1.0,1.0,1.0,1.0,1.0,1.0,1.0,1.0,1.0,1.0,1.0,1.0,1.0,1.0,1.0,1.0,1.0,1.0,1.0,1.0,1.0,1.0,1.0,1.0,1.0,1.0,1.0,1.0,1.0,1.0,1.0,1.0,1.0,1.0,1.0,1.0,1.0,1.0,1.0,1.0,1.0,1.0,1.0,1.0,1.0,1.0,1.0,1.0,1.0,1.0,1.0,1.0,1.0,1.0,1.0,1.0,1.0,1.0,1.0,1.0,1.0,1.0,1.0,1.0,1.0,1.0,1.0,1.0,1.0,1.0,1.0,1.0,1.0,1.0,1.0,1.0,1.0,1.0,1.0,1.0,1.0,1.0,1.0,1.0,1.0,1.0,1.0,1.0,1.0,1.0,1.0,1.0,1.0,1.0,1.0,1.0,1.0,1.0,1.0,1.0,1.0,1.0,1.0,1.0,1.0,1.0,1.0,1.0,1.0,1.0,1.0,1.0,1.0,1.0,1.0,1.0,1.0,1.0,1.0,1.0,1.0,1.0,1.0,1.0,1.0,1.0,1.0,1.0,1.0,1.0,1.0,1.0,1.0,1.0,1.0,1.0,1.0,1.0,1.0,1.0,1.0,1.0,1.0,1.0,1.0,1.0,1.0,1.0,1.0,1.0,1.0,1.0,1.0,1.0,1.0,1.0,1.0,1.0,1.0,1.0,1.0,1.0,1.0,1.0,1.0,1.0,1.0,1.0,1.0,1.0,1.0,1.0,1.0,1.0,1.0,1.0,1.0,1.0,1.0,1.0,1.0,1.0,1.0,1.0,1.0,1.0,1.0,1.0,1.0,1.0,1.0,1.0,1.0,1.0,1.0,1.0,1.0,1.0,1.0,1.0,1.0,1.0,1.0,1.0,1.0,1.0,1.0,1.0,1.0,1.0,1.0,1.0,1.0,1.0,1.0,1.0,1.0,1.0,1.0,1.0,1.0,1.0,1.0,1.0,1.0,1.0,1.0,1.0,1.0,1.0,1.0,1.0,1.0,1.0,1.0,1.0,1.0,1.0,1.0,1.0,1.0,1.0,1.0,1.0,1.0,1.0,1.0,1.0,1.0,1.0,1.0,1.0,1.0,1.0,1.0,1.0,1.0,1.0,1.0,1.0,1.0,1.0,1.0,1.0,1.0,1.0,1.0,1.0,1.0,1.0,1.0,1.0,1.0,1.0,1.0,1.0,1.0,1.0,1.0,1.0,1.0,1.0,1.0,1.0,1.0,1.0,1.0,1.0,1.0,1.0,1.0,1.0,1.0,1.0,1.0,1.0,1.0,1.0,1.0,1.0,1.0,1.0,1.0,1.0,1.0,1.0,1.0,1.0,1.0,1.0,1.0,1.0,1.0,1.0,1.0,1.0,1.0,1.0,1.0,1.0,1.0,1.0,1.0,1.0,1.0,1.0,1.0,1.0,1.0,1.0,1.0,1.0,1.0,1.0,1.0,1.0,1.0,1.0,1.0,1.0,1.0,1.0,1.0,1.0,1.0,1.0,1.0,1.0,1.0,1.0,1.0,1.0,1.0,1.0,1.0,1.0,1.0,1.0,1.0,1.0,1.0,1.0,1.0,1.0,1.0,1.0,1.0,1.0,1.0,1.0,1.0,1.0,1.0,1.0,1.0,1.0,1.0,1.0,1.0,1.0,1.0,1.0,1.0,1.0,1.0,1.0,1.0,1.0,1.0,1.0,1.0,1.0,1.0,1.0,1.0,1.0,1.0,1.0,1.0,1.0,1.0,1.0,1.0,1.0,1.0,1.0,1.0,1.0,1.0,1.0,1.0,1.0,1.0,1.0,1.0,1.0,1.0,1.0,1.0,1.0,1.0,1.0,1.0,1.0,1.0,1.0,1.0,1.0,1.0,1.0,1.0,1.0,1.0,1.0,1.0,1.0,1.0,1.0,1.0,1.0,1.0,1.0,1.0,1.0,1.0,1.0,1.0,1.0,1.0,1.0,1.0,1.0,1.0,1.0,1.0,1.0,1.0,1.0,1.0,1.0,1.0,1.0,1.0,1.0,1.0,1.0,1.0,1.0,1.0,1.0,1.0,1.0,1.0,1.0]],\"type\":\"box\"}],                        {\"template\":{\"data\":{\"bar\":[{\"error_x\":{\"color\":\"#2a3f5f\"},\"error_y\":{\"color\":\"#2a3f5f\"},\"marker\":{\"line\":{\"color\":\"#E5ECF6\",\"width\":0.5},\"pattern\":{\"fillmode\":\"overlay\",\"size\":10,\"solidity\":0.2}},\"type\":\"bar\"}],\"barpolar\":[{\"marker\":{\"line\":{\"color\":\"#E5ECF6\",\"width\":0.5},\"pattern\":{\"fillmode\":\"overlay\",\"size\":10,\"solidity\":0.2}},\"type\":\"barpolar\"}],\"carpet\":[{\"aaxis\":{\"endlinecolor\":\"#2a3f5f\",\"gridcolor\":\"white\",\"linecolor\":\"white\",\"minorgridcolor\":\"white\",\"startlinecolor\":\"#2a3f5f\"},\"baxis\":{\"endlinecolor\":\"#2a3f5f\",\"gridcolor\":\"white\",\"linecolor\":\"white\",\"minorgridcolor\":\"white\",\"startlinecolor\":\"#2a3f5f\"},\"type\":\"carpet\"}],\"choropleth\":[{\"colorbar\":{\"outlinewidth\":0,\"ticks\":\"\"},\"type\":\"choropleth\"}],\"contour\":[{\"colorbar\":{\"outlinewidth\":0,\"ticks\":\"\"},\"colorscale\":[[0.0,\"#0d0887\"],[0.1111111111111111,\"#46039f\"],[0.2222222222222222,\"#7201a8\"],[0.3333333333333333,\"#9c179e\"],[0.4444444444444444,\"#bd3786\"],[0.5555555555555556,\"#d8576b\"],[0.6666666666666666,\"#ed7953\"],[0.7777777777777778,\"#fb9f3a\"],[0.8888888888888888,\"#fdca26\"],[1.0,\"#f0f921\"]],\"type\":\"contour\"}],\"contourcarpet\":[{\"colorbar\":{\"outlinewidth\":0,\"ticks\":\"\"},\"type\":\"contourcarpet\"}],\"heatmap\":[{\"colorbar\":{\"outlinewidth\":0,\"ticks\":\"\"},\"colorscale\":[[0.0,\"#0d0887\"],[0.1111111111111111,\"#46039f\"],[0.2222222222222222,\"#7201a8\"],[0.3333333333333333,\"#9c179e\"],[0.4444444444444444,\"#bd3786\"],[0.5555555555555556,\"#d8576b\"],[0.6666666666666666,\"#ed7953\"],[0.7777777777777778,\"#fb9f3a\"],[0.8888888888888888,\"#fdca26\"],[1.0,\"#f0f921\"]],\"type\":\"heatmap\"}],\"heatmapgl\":[{\"colorbar\":{\"outlinewidth\":0,\"ticks\":\"\"},\"colorscale\":[[0.0,\"#0d0887\"],[0.1111111111111111,\"#46039f\"],[0.2222222222222222,\"#7201a8\"],[0.3333333333333333,\"#9c179e\"],[0.4444444444444444,\"#bd3786\"],[0.5555555555555556,\"#d8576b\"],[0.6666666666666666,\"#ed7953\"],[0.7777777777777778,\"#fb9f3a\"],[0.8888888888888888,\"#fdca26\"],[1.0,\"#f0f921\"]],\"type\":\"heatmapgl\"}],\"histogram\":[{\"marker\":{\"pattern\":{\"fillmode\":\"overlay\",\"size\":10,\"solidity\":0.2}},\"type\":\"histogram\"}],\"histogram2d\":[{\"colorbar\":{\"outlinewidth\":0,\"ticks\":\"\"},\"colorscale\":[[0.0,\"#0d0887\"],[0.1111111111111111,\"#46039f\"],[0.2222222222222222,\"#7201a8\"],[0.3333333333333333,\"#9c179e\"],[0.4444444444444444,\"#bd3786\"],[0.5555555555555556,\"#d8576b\"],[0.6666666666666666,\"#ed7953\"],[0.7777777777777778,\"#fb9f3a\"],[0.8888888888888888,\"#fdca26\"],[1.0,\"#f0f921\"]],\"type\":\"histogram2d\"}],\"histogram2dcontour\":[{\"colorbar\":{\"outlinewidth\":0,\"ticks\":\"\"},\"colorscale\":[[0.0,\"#0d0887\"],[0.1111111111111111,\"#46039f\"],[0.2222222222222222,\"#7201a8\"],[0.3333333333333333,\"#9c179e\"],[0.4444444444444444,\"#bd3786\"],[0.5555555555555556,\"#d8576b\"],[0.6666666666666666,\"#ed7953\"],[0.7777777777777778,\"#fb9f3a\"],[0.8888888888888888,\"#fdca26\"],[1.0,\"#f0f921\"]],\"type\":\"histogram2dcontour\"}],\"mesh3d\":[{\"colorbar\":{\"outlinewidth\":0,\"ticks\":\"\"},\"type\":\"mesh3d\"}],\"parcoords\":[{\"line\":{\"colorbar\":{\"outlinewidth\":0,\"ticks\":\"\"}},\"type\":\"parcoords\"}],\"pie\":[{\"automargin\":true,\"type\":\"pie\"}],\"scatter\":[{\"marker\":{\"colorbar\":{\"outlinewidth\":0,\"ticks\":\"\"}},\"type\":\"scatter\"}],\"scatter3d\":[{\"line\":{\"colorbar\":{\"outlinewidth\":0,\"ticks\":\"\"}},\"marker\":{\"colorbar\":{\"outlinewidth\":0,\"ticks\":\"\"}},\"type\":\"scatter3d\"}],\"scattercarpet\":[{\"marker\":{\"colorbar\":{\"outlinewidth\":0,\"ticks\":\"\"}},\"type\":\"scattercarpet\"}],\"scattergeo\":[{\"marker\":{\"colorbar\":{\"outlinewidth\":0,\"ticks\":\"\"}},\"type\":\"scattergeo\"}],\"scattergl\":[{\"marker\":{\"colorbar\":{\"outlinewidth\":0,\"ticks\":\"\"}},\"type\":\"scattergl\"}],\"scattermapbox\":[{\"marker\":{\"colorbar\":{\"outlinewidth\":0,\"ticks\":\"\"}},\"type\":\"scattermapbox\"}],\"scatterpolar\":[{\"marker\":{\"colorbar\":{\"outlinewidth\":0,\"ticks\":\"\"}},\"type\":\"scatterpolar\"}],\"scatterpolargl\":[{\"marker\":{\"colorbar\":{\"outlinewidth\":0,\"ticks\":\"\"}},\"type\":\"scatterpolargl\"}],\"scatterternary\":[{\"marker\":{\"colorbar\":{\"outlinewidth\":0,\"ticks\":\"\"}},\"type\":\"scatterternary\"}],\"surface\":[{\"colorbar\":{\"outlinewidth\":0,\"ticks\":\"\"},\"colorscale\":[[0.0,\"#0d0887\"],[0.1111111111111111,\"#46039f\"],[0.2222222222222222,\"#7201a8\"],[0.3333333333333333,\"#9c179e\"],[0.4444444444444444,\"#bd3786\"],[0.5555555555555556,\"#d8576b\"],[0.6666666666666666,\"#ed7953\"],[0.7777777777777778,\"#fb9f3a\"],[0.8888888888888888,\"#fdca26\"],[1.0,\"#f0f921\"]],\"type\":\"surface\"}],\"table\":[{\"cells\":{\"fill\":{\"color\":\"#EBF0F8\"},\"line\":{\"color\":\"white\"}},\"header\":{\"fill\":{\"color\":\"#C8D4E3\"},\"line\":{\"color\":\"white\"}},\"type\":\"table\"}]},\"layout\":{\"annotationdefaults\":{\"arrowcolor\":\"#2a3f5f\",\"arrowhead\":0,\"arrowwidth\":1},\"autotypenumbers\":\"strict\",\"coloraxis\":{\"colorbar\":{\"outlinewidth\":0,\"ticks\":\"\"}},\"colorscale\":{\"diverging\":[[0,\"#8e0152\"],[0.1,\"#c51b7d\"],[0.2,\"#de77ae\"],[0.3,\"#f1b6da\"],[0.4,\"#fde0ef\"],[0.5,\"#f7f7f7\"],[0.6,\"#e6f5d0\"],[0.7,\"#b8e186\"],[0.8,\"#7fbc41\"],[0.9,\"#4d9221\"],[1,\"#276419\"]],\"sequential\":[[0.0,\"#0d0887\"],[0.1111111111111111,\"#46039f\"],[0.2222222222222222,\"#7201a8\"],[0.3333333333333333,\"#9c179e\"],[0.4444444444444444,\"#bd3786\"],[0.5555555555555556,\"#d8576b\"],[0.6666666666666666,\"#ed7953\"],[0.7777777777777778,\"#fb9f3a\"],[0.8888888888888888,\"#fdca26\"],[1.0,\"#f0f921\"]],\"sequentialminus\":[[0.0,\"#0d0887\"],[0.1111111111111111,\"#46039f\"],[0.2222222222222222,\"#7201a8\"],[0.3333333333333333,\"#9c179e\"],[0.4444444444444444,\"#bd3786\"],[0.5555555555555556,\"#d8576b\"],[0.6666666666666666,\"#ed7953\"],[0.7777777777777778,\"#fb9f3a\"],[0.8888888888888888,\"#fdca26\"],[1.0,\"#f0f921\"]]},\"colorway\":[\"#636efa\",\"#EF553B\",\"#00cc96\",\"#ab63fa\",\"#FFA15A\",\"#19d3f3\",\"#FF6692\",\"#B6E880\",\"#FF97FF\",\"#FECB52\"],\"font\":{\"color\":\"#2a3f5f\"},\"geo\":{\"bgcolor\":\"white\",\"lakecolor\":\"white\",\"landcolor\":\"#E5ECF6\",\"showlakes\":true,\"showland\":true,\"subunitcolor\":\"white\"},\"hoverlabel\":{\"align\":\"left\"},\"hovermode\":\"closest\",\"mapbox\":{\"style\":\"light\"},\"paper_bgcolor\":\"white\",\"plot_bgcolor\":\"#E5ECF6\",\"polar\":{\"angularaxis\":{\"gridcolor\":\"white\",\"linecolor\":\"white\",\"ticks\":\"\"},\"bgcolor\":\"#E5ECF6\",\"radialaxis\":{\"gridcolor\":\"white\",\"linecolor\":\"white\",\"ticks\":\"\"}},\"scene\":{\"xaxis\":{\"backgroundcolor\":\"#E5ECF6\",\"gridcolor\":\"white\",\"gridwidth\":2,\"linecolor\":\"white\",\"showbackground\":true,\"ticks\":\"\",\"zerolinecolor\":\"white\"},\"yaxis\":{\"backgroundcolor\":\"#E5ECF6\",\"gridcolor\":\"white\",\"gridwidth\":2,\"linecolor\":\"white\",\"showbackground\":true,\"ticks\":\"\",\"zerolinecolor\":\"white\"},\"zaxis\":{\"backgroundcolor\":\"#E5ECF6\",\"gridcolor\":\"white\",\"gridwidth\":2,\"linecolor\":\"white\",\"showbackground\":true,\"ticks\":\"\",\"zerolinecolor\":\"white\"}},\"shapedefaults\":{\"line\":{\"color\":\"#2a3f5f\"}},\"ternary\":{\"aaxis\":{\"gridcolor\":\"white\",\"linecolor\":\"white\",\"ticks\":\"\"},\"baxis\":{\"gridcolor\":\"white\",\"linecolor\":\"white\",\"ticks\":\"\"},\"bgcolor\":\"#E5ECF6\",\"caxis\":{\"gridcolor\":\"white\",\"linecolor\":\"white\",\"ticks\":\"\"}},\"title\":{\"x\":0.05},\"xaxis\":{\"automargin\":true,\"gridcolor\":\"white\",\"linecolor\":\"white\",\"ticks\":\"\",\"title\":{\"standoff\":15},\"zerolinecolor\":\"white\",\"zerolinewidth\":2},\"yaxis\":{\"automargin\":true,\"gridcolor\":\"white\",\"linecolor\":\"white\",\"ticks\":\"\",\"title\":{\"standoff\":15},\"zerolinecolor\":\"white\",\"zerolinewidth\":2}}},\"xaxis\":{\"title\":{\"text\":\"collections_12_mths_ex_med\"}},\"yaxis\":{\"title\":{\"text\":\"value\"}}},                        {\"responsive\": true}                    ).then(function(){\n",
              "                            \n",
              "var gd = document.getElementById('648617c9-e20e-4941-ba85-5947dfa00fc2');\n",
              "var x = new MutationObserver(function (mutations, observer) {{\n",
              "        var display = window.getComputedStyle(gd).display;\n",
              "        if (!display || display === 'none') {{\n",
              "            console.log([gd, 'removed!']);\n",
              "            Plotly.purge(gd);\n",
              "            observer.disconnect();\n",
              "        }}\n",
              "}});\n",
              "\n",
              "// Listen for the removal of the full notebook cells\n",
              "var notebookContainer = gd.closest('#notebook-container');\n",
              "if (notebookContainer) {{\n",
              "    x.observe(notebookContainer, {childList: true});\n",
              "}}\n",
              "\n",
              "// Listen for the clearing of the current output cell\n",
              "var outputEl = gd.closest('.output');\n",
              "if (outputEl) {{\n",
              "    x.observe(outputEl, {childList: true});\n",
              "}}\n",
              "\n",
              "                        })                };                            </script>        </div>\n",
              "</body>\n",
              "</html>"
            ]
          },
          "metadata": {}
        }
      ]
    },
    {
      "cell_type": "code",
      "source": [
        "testing['mths_since_last_major_derog'].plot.box()"
      ],
      "metadata": {
        "colab": {
          "base_uri": "https://localhost:8080/",
          "height": 542
        },
        "id": "V8O-M6hEhIA_",
        "outputId": "ec235494-85ee-476f-938a-7f4dab6a799e"
      },
      "execution_count": null,
      "outputs": [
        {
          "output_type": "display_data",
          "data": {
            "text/html": [
              "<html>\n",
              "<head><meta charset=\"utf-8\" /></head>\n",
              "<body>\n",
              "    <div>            <script src=\"https://cdnjs.cloudflare.com/ajax/libs/mathjax/2.7.5/MathJax.js?config=TeX-AMS-MML_SVG\"></script><script type=\"text/javascript\">if (window.MathJax) {MathJax.Hub.Config({SVG: {font: \"STIX-Web\"}});}</script>                <script type=\"text/javascript\">window.PlotlyConfig = {MathJaxConfig: 'local'};</script>\n",
              "        <script src=\"https://cdn.plot.ly/plotly-2.8.3.min.js\"></script>                <div id=\"9272b0ba-13f1-464a-a81d-8aff9b843615\" class=\"plotly-graph-div\" style=\"height:525px; width:100%;\"></div>            <script type=\"text/javascript\">                                    window.PLOTLYENV=window.PLOTLYENV || {};                                    if (document.getElementById(\"9272b0ba-13f1-464a-a81d-8aff9b843615\")) {                    Plotly.newPlot(                        \"9272b0ba-13f1-464a-a81d-8aff9b843615\",                        [{\"boxpoints\":\"suspectedoutliers\",\"lowerfence\":[44.0],\"mean\":[44.02526810035256],\"median\":[44.0],\"name\":\"mths_since_last_major_derog\",\"notched\":false,\"q1\":[44.0],\"q3\":[44.0],\"upperfence\":[44.0],\"y\":[[43.0,45.0,43.0,45.0,43.0,45.0,45.0,45.0,45.0,45.0,43.0,45.0,43.0,43.0,45.0,45.0,43.0,45.0,45.0,45.0,43.0,43.0,45.0,43.0,43.0,43.0,43.0,43.0,43.0,43.0,45.0,45.0,43.0,45.0,45.0,45.0,45.0,45.0,45.0,45.0,45.0,43.0,45.0,43.0,43.0,45.0,43.0,43.0,45.0,43.0,45.0,45.0,43.0,43.0,45.0,45.0,45.0,45.0,43.0,45.0,43.0,43.0,45.0,45.0,43.0,43.0,43.0,43.0,45.0,43.0,45.0,45.0,45.0,43.0,45.0,45.0,43.0,43.0,43.0,43.0,43.0,45.0,45.0,43.0,45.0,43.0,45.0,43.0,45.0,45.0,43.0,45.0,43.0,43.0,43.0,45.0,45.0,45.0,45.0,43.0,43.0,45.0,45.0,43.0,43.0,43.0,43.0,45.0,43.0,45.0,43.0,45.0,43.0,45.0,45.0,45.0,43.0,43.0,43.0,43.0,43.0,45.0,45.0,43.0,45.0,45.0,45.0,43.0,45.0,43.0,43.0,43.0,45.0,43.0,43.0,45.0,45.0,45.0,45.0,45.0,45.0,43.0,43.0,43.0,45.0,43.0,45.0,43.0,43.0,45.0,43.0,43.0,43.0,43.0,45.0,45.0,45.0,43.0,45.0,43.0,43.0,45.0,45.0,45.0,45.0,43.0,43.0,43.0,45.0,45.0,45.0,45.0,43.0,43.0,45.0,43.0,45.0,43.0,45.0,45.0,43.0,43.0,45.0,45.0,43.0,45.0,43.0,45.0,45.0,43.0,43.0,45.0,45.0,43.0,43.0,45.0,45.0,43.0,45.0,45.0,45.0,43.0,45.0,45.0,45.0,45.0,45.0,45.0,43.0,43.0,45.0,43.0,45.0,43.0,43.0,43.0,43.0,43.0,45.0,43.0,45.0,45.0,45.0,43.0,43.0,45.0,43.0,43.0,43.0,45.0,45.0,43.0,43.0,43.0,45.0,43.0,43.0,45.0,43.0,45.0,45.0,43.0,45.0,43.0,45.0,45.0,43.0,43.0,45.0,45.0,43.0,45.0,45.0,43.0,43.0,45.0,43.0,45.0,45.0,45.0,43.0,45.0,43.0,43.0,43.0,45.0,45.0,45.0,43.0,43.0,45.0,45.0,45.0,43.0,45.0,45.0,45.0,45.0,43.0,45.0,45.0,45.0,43.0,45.0,43.0,45.0,45.0,43.0,43.0,45.0,43.0,43.0,43.0,43.0,43.0,45.0,43.0,45.0,43.0,43.0,45.0,45.0,43.0,45.0,43.0,43.0,45.0,45.0,43.0,45.0,45.0,43.0,45.0,45.0,43.0,45.0,43.0,45.0,43.0,45.0,43.0,45.0,45.0,43.0,45.0,45.0,45.0,43.0,43.0,45.0,45.0,43.0,43.0,45.0,45.0,45.0,45.0,45.0,45.0,45.0,45.0,43.0,45.0,43.0,45.0,45.0,45.0,43.0,43.0,43.0,45.0,43.0,43.0,43.0,43.0,43.0,45.0,43.0,43.0,45.0,45.0,43.0,43.0,43.0,43.0,45.0,45.0,45.0,43.0,45.0,45.0,45.0,45.0,45.0,43.0,45.0,43.0,43.0,43.0,43.0,45.0,45.0,43.0,45.0,43.0,43.0,45.0,45.0,45.0,45.0,43.0,45.0,43.0,43.0,45.0,45.0,43.0,43.0,45.0,45.0,43.0,45.0,43.0,45.0,43.0,43.0,45.0,45.0,43.0,43.0,45.0,43.0,43.0,45.0,45.0,43.0,45.0,43.0,43.0,45.0,45.0,45.0,45.0,43.0,45.0,43.0,45.0,45.0,43.0,43.0,43.0,43.0,45.0,45.0,45.0,43.0,43.0,45.0,45.0,43.0,43.0,43.0,43.0,45.0,45.0,45.0,43.0,45.0,45.0,43.0,43.0,43.0,43.0,43.0,43.0,43.0,45.0,43.0,43.0,43.0,45.0,45.0,45.0,45.0,45.0,43.0,43.0,45.0,45.0,43.0,45.0,43.0,43.0,43.0,45.0,43.0,43.0,45.0,43.0,43.0,45.0,43.0,45.0,43.0,43.0,45.0,43.0,43.0,45.0,45.0,43.0,45.0,43.0,45.0,45.0,43.0,43.0,43.0,45.0,43.0,45.0,45.0,43.0,43.0,43.0,43.0,45.0,43.0,45.0,45.0,45.0,43.0,43.0,45.0,43.0,43.0,43.0,45.0,45.0,45.0,45.0,45.0,43.0,45.0,45.0,43.0,45.0,43.0,45.0,45.0,43.0,45.0,43.0,45.0,43.0,45.0,43.0,43.0,43.0,43.0,45.0,45.0,43.0,45.0,43.0,45.0,43.0,45.0,43.0,43.0,43.0,43.0,45.0,45.0,43.0,45.0,45.0,43.0,43.0,45.0,43.0,45.0,45.0,43.0,45.0,43.0,45.0,43.0,43.0,45.0,45.0,45.0,43.0,45.0,45.0,43.0,45.0,43.0,45.0,45.0,45.0,45.0,45.0,45.0,43.0,45.0,45.0,45.0,43.0,43.0,43.0,45.0,43.0,45.0,43.0,43.0,43.0,43.0,43.0,43.0,45.0,45.0,45.0,45.0,45.0,43.0,43.0,43.0,45.0,45.0,45.0,43.0,43.0,45.0,43.0,43.0,45.0,43.0,43.0,43.0,43.0,43.0,43.0,43.0,45.0,45.0,43.0,45.0,45.0,45.0,43.0,45.0,45.0,43.0,43.0,43.0,45.0,45.0,43.0,43.0,45.0,43.0,45.0,43.0,45.0,45.0,45.0,43.0,43.0,43.0,45.0,43.0,45.0,45.0,45.0,43.0,43.0,45.0,43.0,45.0,45.0,45.0,45.0,43.0,45.0,45.0,45.0,45.0,43.0,45.0,45.0,43.0,45.0,43.0,43.0,43.0,45.0,45.0,45.0,43.0,43.0,43.0,43.0,45.0,45.0,43.0,43.0,45.0,43.0,45.0,43.0,45.0,43.0,45.0,45.0,43.0,43.0,43.0,45.0,43.0,45.0,43.0,43.0,43.0,43.0,45.0,43.0,45.0,45.0,45.0,43.0,45.0,45.0,45.0,43.0,43.0,43.0,45.0,45.0,45.0,45.0,43.0,45.0,43.0,45.0,45.0,43.0,45.0,45.0,43.0,45.0,45.0,43.0,45.0,43.0,43.0,45.0,45.0,43.0,43.0,45.0,43.0,43.0,45.0,45.0,43.0,43.0,43.0,43.0,45.0,43.0,43.0,45.0,43.0,45.0,45.0,43.0,43.0,45.0,43.0,43.0,45.0,43.0,45.0,43.0,43.0,45.0,43.0,43.0,45.0,43.0,45.0,45.0,45.0,45.0,45.0,45.0,45.0,45.0,43.0,45.0,45.0,43.0,45.0,43.0,43.0,45.0,45.0,43.0,45.0,45.0,43.0,43.0,45.0,43.0,43.0,45.0,43.0,43.0,43.0,43.0,45.0,43.0,43.0,43.0,45.0,43.0,43.0,43.0,43.0,43.0,45.0,45.0,45.0,43.0,45.0,43.0,43.0,43.0,45.0,45.0,45.0,45.0,43.0,43.0,43.0,43.0,45.0,45.0,45.0,43.0,43.0,45.0,43.0,45.0,45.0,43.0,45.0,45.0,45.0,43.0,43.0,43.0,43.0,43.0,43.0,43.0,43.0,43.0,45.0,43.0,43.0,43.0,43.0,45.0,45.0,45.0,43.0,45.0,43.0,45.0,45.0,43.0,43.0,43.0,43.0,45.0,45.0,43.0,43.0,43.0,45.0,43.0,45.0,45.0,43.0,45.0,43.0,43.0,43.0,45.0,43.0,43.0,43.0,43.0,43.0,43.0,45.0,43.0,45.0,43.0,45.0,45.0,45.0,45.0,43.0,43.0,43.0,45.0,43.0,45.0,45.0,45.0,45.0,45.0,43.0,43.0,43.0,45.0,43.0,45.0,43.0,45.0,45.0,43.0,43.0,43.0,43.0,43.0,45.0,45.0,43.0,45.0,43.0,43.0,43.0,45.0,45.0,43.0,45.0,43.0,43.0,45.0,43.0,43.0,45.0,45.0,45.0,45.0,45.0,43.0,43.0,45.0,43.0,43.0,43.0,45.0,43.0,43.0,43.0,45.0,45.0,45.0,43.0,43.0,45.0,45.0,45.0,45.0,45.0,43.0,43.0,45.0,45.0,43.0,45.0,45.0,43.0,45.0,43.0,43.0,43.0,45.0,45.0,43.0,45.0,45.0,43.0,45.0,43.0,43.0,43.0,43.0,45.0,45.0,45.0,45.0,45.0,43.0,43.0,43.0,43.0,45.0,45.0,45.0,43.0,43.0,43.0,45.0,43.0,45.0]],\"type\":\"box\"}],                        {\"template\":{\"data\":{\"bar\":[{\"error_x\":{\"color\":\"#2a3f5f\"},\"error_y\":{\"color\":\"#2a3f5f\"},\"marker\":{\"line\":{\"color\":\"#E5ECF6\",\"width\":0.5},\"pattern\":{\"fillmode\":\"overlay\",\"size\":10,\"solidity\":0.2}},\"type\":\"bar\"}],\"barpolar\":[{\"marker\":{\"line\":{\"color\":\"#E5ECF6\",\"width\":0.5},\"pattern\":{\"fillmode\":\"overlay\",\"size\":10,\"solidity\":0.2}},\"type\":\"barpolar\"}],\"carpet\":[{\"aaxis\":{\"endlinecolor\":\"#2a3f5f\",\"gridcolor\":\"white\",\"linecolor\":\"white\",\"minorgridcolor\":\"white\",\"startlinecolor\":\"#2a3f5f\"},\"baxis\":{\"endlinecolor\":\"#2a3f5f\",\"gridcolor\":\"white\",\"linecolor\":\"white\",\"minorgridcolor\":\"white\",\"startlinecolor\":\"#2a3f5f\"},\"type\":\"carpet\"}],\"choropleth\":[{\"colorbar\":{\"outlinewidth\":0,\"ticks\":\"\"},\"type\":\"choropleth\"}],\"contour\":[{\"colorbar\":{\"outlinewidth\":0,\"ticks\":\"\"},\"colorscale\":[[0.0,\"#0d0887\"],[0.1111111111111111,\"#46039f\"],[0.2222222222222222,\"#7201a8\"],[0.3333333333333333,\"#9c179e\"],[0.4444444444444444,\"#bd3786\"],[0.5555555555555556,\"#d8576b\"],[0.6666666666666666,\"#ed7953\"],[0.7777777777777778,\"#fb9f3a\"],[0.8888888888888888,\"#fdca26\"],[1.0,\"#f0f921\"]],\"type\":\"contour\"}],\"contourcarpet\":[{\"colorbar\":{\"outlinewidth\":0,\"ticks\":\"\"},\"type\":\"contourcarpet\"}],\"heatmap\":[{\"colorbar\":{\"outlinewidth\":0,\"ticks\":\"\"},\"colorscale\":[[0.0,\"#0d0887\"],[0.1111111111111111,\"#46039f\"],[0.2222222222222222,\"#7201a8\"],[0.3333333333333333,\"#9c179e\"],[0.4444444444444444,\"#bd3786\"],[0.5555555555555556,\"#d8576b\"],[0.6666666666666666,\"#ed7953\"],[0.7777777777777778,\"#fb9f3a\"],[0.8888888888888888,\"#fdca26\"],[1.0,\"#f0f921\"]],\"type\":\"heatmap\"}],\"heatmapgl\":[{\"colorbar\":{\"outlinewidth\":0,\"ticks\":\"\"},\"colorscale\":[[0.0,\"#0d0887\"],[0.1111111111111111,\"#46039f\"],[0.2222222222222222,\"#7201a8\"],[0.3333333333333333,\"#9c179e\"],[0.4444444444444444,\"#bd3786\"],[0.5555555555555556,\"#d8576b\"],[0.6666666666666666,\"#ed7953\"],[0.7777777777777778,\"#fb9f3a\"],[0.8888888888888888,\"#fdca26\"],[1.0,\"#f0f921\"]],\"type\":\"heatmapgl\"}],\"histogram\":[{\"marker\":{\"pattern\":{\"fillmode\":\"overlay\",\"size\":10,\"solidity\":0.2}},\"type\":\"histogram\"}],\"histogram2d\":[{\"colorbar\":{\"outlinewidth\":0,\"ticks\":\"\"},\"colorscale\":[[0.0,\"#0d0887\"],[0.1111111111111111,\"#46039f\"],[0.2222222222222222,\"#7201a8\"],[0.3333333333333333,\"#9c179e\"],[0.4444444444444444,\"#bd3786\"],[0.5555555555555556,\"#d8576b\"],[0.6666666666666666,\"#ed7953\"],[0.7777777777777778,\"#fb9f3a\"],[0.8888888888888888,\"#fdca26\"],[1.0,\"#f0f921\"]],\"type\":\"histogram2d\"}],\"histogram2dcontour\":[{\"colorbar\":{\"outlinewidth\":0,\"ticks\":\"\"},\"colorscale\":[[0.0,\"#0d0887\"],[0.1111111111111111,\"#46039f\"],[0.2222222222222222,\"#7201a8\"],[0.3333333333333333,\"#9c179e\"],[0.4444444444444444,\"#bd3786\"],[0.5555555555555556,\"#d8576b\"],[0.6666666666666666,\"#ed7953\"],[0.7777777777777778,\"#fb9f3a\"],[0.8888888888888888,\"#fdca26\"],[1.0,\"#f0f921\"]],\"type\":\"histogram2dcontour\"}],\"mesh3d\":[{\"colorbar\":{\"outlinewidth\":0,\"ticks\":\"\"},\"type\":\"mesh3d\"}],\"parcoords\":[{\"line\":{\"colorbar\":{\"outlinewidth\":0,\"ticks\":\"\"}},\"type\":\"parcoords\"}],\"pie\":[{\"automargin\":true,\"type\":\"pie\"}],\"scatter\":[{\"marker\":{\"colorbar\":{\"outlinewidth\":0,\"ticks\":\"\"}},\"type\":\"scatter\"}],\"scatter3d\":[{\"line\":{\"colorbar\":{\"outlinewidth\":0,\"ticks\":\"\"}},\"marker\":{\"colorbar\":{\"outlinewidth\":0,\"ticks\":\"\"}},\"type\":\"scatter3d\"}],\"scattercarpet\":[{\"marker\":{\"colorbar\":{\"outlinewidth\":0,\"ticks\":\"\"}},\"type\":\"scattercarpet\"}],\"scattergeo\":[{\"marker\":{\"colorbar\":{\"outlinewidth\":0,\"ticks\":\"\"}},\"type\":\"scattergeo\"}],\"scattergl\":[{\"marker\":{\"colorbar\":{\"outlinewidth\":0,\"ticks\":\"\"}},\"type\":\"scattergl\"}],\"scattermapbox\":[{\"marker\":{\"colorbar\":{\"outlinewidth\":0,\"ticks\":\"\"}},\"type\":\"scattermapbox\"}],\"scatterpolar\":[{\"marker\":{\"colorbar\":{\"outlinewidth\":0,\"ticks\":\"\"}},\"type\":\"scatterpolar\"}],\"scatterpolargl\":[{\"marker\":{\"colorbar\":{\"outlinewidth\":0,\"ticks\":\"\"}},\"type\":\"scatterpolargl\"}],\"scatterternary\":[{\"marker\":{\"colorbar\":{\"outlinewidth\":0,\"ticks\":\"\"}},\"type\":\"scatterternary\"}],\"surface\":[{\"colorbar\":{\"outlinewidth\":0,\"ticks\":\"\"},\"colorscale\":[[0.0,\"#0d0887\"],[0.1111111111111111,\"#46039f\"],[0.2222222222222222,\"#7201a8\"],[0.3333333333333333,\"#9c179e\"],[0.4444444444444444,\"#bd3786\"],[0.5555555555555556,\"#d8576b\"],[0.6666666666666666,\"#ed7953\"],[0.7777777777777778,\"#fb9f3a\"],[0.8888888888888888,\"#fdca26\"],[1.0,\"#f0f921\"]],\"type\":\"surface\"}],\"table\":[{\"cells\":{\"fill\":{\"color\":\"#EBF0F8\"},\"line\":{\"color\":\"white\"}},\"header\":{\"fill\":{\"color\":\"#C8D4E3\"},\"line\":{\"color\":\"white\"}},\"type\":\"table\"}]},\"layout\":{\"annotationdefaults\":{\"arrowcolor\":\"#2a3f5f\",\"arrowhead\":0,\"arrowwidth\":1},\"autotypenumbers\":\"strict\",\"coloraxis\":{\"colorbar\":{\"outlinewidth\":0,\"ticks\":\"\"}},\"colorscale\":{\"diverging\":[[0,\"#8e0152\"],[0.1,\"#c51b7d\"],[0.2,\"#de77ae\"],[0.3,\"#f1b6da\"],[0.4,\"#fde0ef\"],[0.5,\"#f7f7f7\"],[0.6,\"#e6f5d0\"],[0.7,\"#b8e186\"],[0.8,\"#7fbc41\"],[0.9,\"#4d9221\"],[1,\"#276419\"]],\"sequential\":[[0.0,\"#0d0887\"],[0.1111111111111111,\"#46039f\"],[0.2222222222222222,\"#7201a8\"],[0.3333333333333333,\"#9c179e\"],[0.4444444444444444,\"#bd3786\"],[0.5555555555555556,\"#d8576b\"],[0.6666666666666666,\"#ed7953\"],[0.7777777777777778,\"#fb9f3a\"],[0.8888888888888888,\"#fdca26\"],[1.0,\"#f0f921\"]],\"sequentialminus\":[[0.0,\"#0d0887\"],[0.1111111111111111,\"#46039f\"],[0.2222222222222222,\"#7201a8\"],[0.3333333333333333,\"#9c179e\"],[0.4444444444444444,\"#bd3786\"],[0.5555555555555556,\"#d8576b\"],[0.6666666666666666,\"#ed7953\"],[0.7777777777777778,\"#fb9f3a\"],[0.8888888888888888,\"#fdca26\"],[1.0,\"#f0f921\"]]},\"colorway\":[\"#636efa\",\"#EF553B\",\"#00cc96\",\"#ab63fa\",\"#FFA15A\",\"#19d3f3\",\"#FF6692\",\"#B6E880\",\"#FF97FF\",\"#FECB52\"],\"font\":{\"color\":\"#2a3f5f\"},\"geo\":{\"bgcolor\":\"white\",\"lakecolor\":\"white\",\"landcolor\":\"#E5ECF6\",\"showlakes\":true,\"showland\":true,\"subunitcolor\":\"white\"},\"hoverlabel\":{\"align\":\"left\"},\"hovermode\":\"closest\",\"mapbox\":{\"style\":\"light\"},\"paper_bgcolor\":\"white\",\"plot_bgcolor\":\"#E5ECF6\",\"polar\":{\"angularaxis\":{\"gridcolor\":\"white\",\"linecolor\":\"white\",\"ticks\":\"\"},\"bgcolor\":\"#E5ECF6\",\"radialaxis\":{\"gridcolor\":\"white\",\"linecolor\":\"white\",\"ticks\":\"\"}},\"scene\":{\"xaxis\":{\"backgroundcolor\":\"#E5ECF6\",\"gridcolor\":\"white\",\"gridwidth\":2,\"linecolor\":\"white\",\"showbackground\":true,\"ticks\":\"\",\"zerolinecolor\":\"white\"},\"yaxis\":{\"backgroundcolor\":\"#E5ECF6\",\"gridcolor\":\"white\",\"gridwidth\":2,\"linecolor\":\"white\",\"showbackground\":true,\"ticks\":\"\",\"zerolinecolor\":\"white\"},\"zaxis\":{\"backgroundcolor\":\"#E5ECF6\",\"gridcolor\":\"white\",\"gridwidth\":2,\"linecolor\":\"white\",\"showbackground\":true,\"ticks\":\"\",\"zerolinecolor\":\"white\"}},\"shapedefaults\":{\"line\":{\"color\":\"#2a3f5f\"}},\"ternary\":{\"aaxis\":{\"gridcolor\":\"white\",\"linecolor\":\"white\",\"ticks\":\"\"},\"baxis\":{\"gridcolor\":\"white\",\"linecolor\":\"white\",\"ticks\":\"\"},\"bgcolor\":\"#E5ECF6\",\"caxis\":{\"gridcolor\":\"white\",\"linecolor\":\"white\",\"ticks\":\"\"}},\"title\":{\"x\":0.05},\"xaxis\":{\"automargin\":true,\"gridcolor\":\"white\",\"linecolor\":\"white\",\"ticks\":\"\",\"title\":{\"standoff\":15},\"zerolinecolor\":\"white\",\"zerolinewidth\":2},\"yaxis\":{\"automargin\":true,\"gridcolor\":\"white\",\"linecolor\":\"white\",\"ticks\":\"\",\"title\":{\"standoff\":15},\"zerolinecolor\":\"white\",\"zerolinewidth\":2}}},\"xaxis\":{\"title\":{\"text\":\"mths_since_last_major_derog\"}},\"yaxis\":{\"title\":{\"text\":\"value\"}}},                        {\"responsive\": true}                    ).then(function(){\n",
              "                            \n",
              "var gd = document.getElementById('9272b0ba-13f1-464a-a81d-8aff9b843615');\n",
              "var x = new MutationObserver(function (mutations, observer) {{\n",
              "        var display = window.getComputedStyle(gd).display;\n",
              "        if (!display || display === 'none') {{\n",
              "            console.log([gd, 'removed!']);\n",
              "            Plotly.purge(gd);\n",
              "            observer.disconnect();\n",
              "        }}\n",
              "}});\n",
              "\n",
              "// Listen for the removal of the full notebook cells\n",
              "var notebookContainer = gd.closest('#notebook-container');\n",
              "if (notebookContainer) {{\n",
              "    x.observe(notebookContainer, {childList: true});\n",
              "}}\n",
              "\n",
              "// Listen for the clearing of the current output cell\n",
              "var outputEl = gd.closest('.output');\n",
              "if (outputEl) {{\n",
              "    x.observe(outputEl, {childList: true});\n",
              "}}\n",
              "\n",
              "                        })                };                            </script>        </div>\n",
              "</body>\n",
              "</html>"
            ]
          },
          "metadata": {}
        }
      ]
    },
    {
      "cell_type": "code",
      "source": [
        "testing['policy_code'].plot.box()"
      ],
      "metadata": {
        "colab": {
          "base_uri": "https://localhost:8080/",
          "height": 542
        },
        "id": "x-YUgWpPhOLA",
        "outputId": "55e07597-6a75-454a-e206-c0776172d806"
      },
      "execution_count": null,
      "outputs": [
        {
          "output_type": "display_data",
          "data": {
            "text/html": [
              "<html>\n",
              "<head><meta charset=\"utf-8\" /></head>\n",
              "<body>\n",
              "    <div>            <script src=\"https://cdnjs.cloudflare.com/ajax/libs/mathjax/2.7.5/MathJax.js?config=TeX-AMS-MML_SVG\"></script><script type=\"text/javascript\">if (window.MathJax) {MathJax.Hub.Config({SVG: {font: \"STIX-Web\"}});}</script>                <script type=\"text/javascript\">window.PlotlyConfig = {MathJaxConfig: 'local'};</script>\n",
              "        <script src=\"https://cdn.plot.ly/plotly-2.8.3.min.js\"></script>                <div id=\"66c88ed9-a55d-4b23-93a1-f20770fb49cd\" class=\"plotly-graph-div\" style=\"height:525px; width:100%;\"></div>            <script type=\"text/javascript\">                                    window.PLOTLYENV=window.PLOTLYENV || {};                                    if (document.getElementById(\"66c88ed9-a55d-4b23-93a1-f20770fb49cd\")) {                    Plotly.newPlot(                        \"66c88ed9-a55d-4b23-93a1-f20770fb49cd\",                        [{\"boxpoints\":\"suspectedoutliers\",\"lowerfence\":[1],\"mean\":[1.0],\"median\":[1],\"name\":\"policy_code\",\"notched\":false,\"q1\":[1],\"q3\":[1],\"upperfence\":[1],\"type\":\"box\"}],                        {\"template\":{\"data\":{\"bar\":[{\"error_x\":{\"color\":\"#2a3f5f\"},\"error_y\":{\"color\":\"#2a3f5f\"},\"marker\":{\"line\":{\"color\":\"#E5ECF6\",\"width\":0.5},\"pattern\":{\"fillmode\":\"overlay\",\"size\":10,\"solidity\":0.2}},\"type\":\"bar\"}],\"barpolar\":[{\"marker\":{\"line\":{\"color\":\"#E5ECF6\",\"width\":0.5},\"pattern\":{\"fillmode\":\"overlay\",\"size\":10,\"solidity\":0.2}},\"type\":\"barpolar\"}],\"carpet\":[{\"aaxis\":{\"endlinecolor\":\"#2a3f5f\",\"gridcolor\":\"white\",\"linecolor\":\"white\",\"minorgridcolor\":\"white\",\"startlinecolor\":\"#2a3f5f\"},\"baxis\":{\"endlinecolor\":\"#2a3f5f\",\"gridcolor\":\"white\",\"linecolor\":\"white\",\"minorgridcolor\":\"white\",\"startlinecolor\":\"#2a3f5f\"},\"type\":\"carpet\"}],\"choropleth\":[{\"colorbar\":{\"outlinewidth\":0,\"ticks\":\"\"},\"type\":\"choropleth\"}],\"contour\":[{\"colorbar\":{\"outlinewidth\":0,\"ticks\":\"\"},\"colorscale\":[[0.0,\"#0d0887\"],[0.1111111111111111,\"#46039f\"],[0.2222222222222222,\"#7201a8\"],[0.3333333333333333,\"#9c179e\"],[0.4444444444444444,\"#bd3786\"],[0.5555555555555556,\"#d8576b\"],[0.6666666666666666,\"#ed7953\"],[0.7777777777777778,\"#fb9f3a\"],[0.8888888888888888,\"#fdca26\"],[1.0,\"#f0f921\"]],\"type\":\"contour\"}],\"contourcarpet\":[{\"colorbar\":{\"outlinewidth\":0,\"ticks\":\"\"},\"type\":\"contourcarpet\"}],\"heatmap\":[{\"colorbar\":{\"outlinewidth\":0,\"ticks\":\"\"},\"colorscale\":[[0.0,\"#0d0887\"],[0.1111111111111111,\"#46039f\"],[0.2222222222222222,\"#7201a8\"],[0.3333333333333333,\"#9c179e\"],[0.4444444444444444,\"#bd3786\"],[0.5555555555555556,\"#d8576b\"],[0.6666666666666666,\"#ed7953\"],[0.7777777777777778,\"#fb9f3a\"],[0.8888888888888888,\"#fdca26\"],[1.0,\"#f0f921\"]],\"type\":\"heatmap\"}],\"heatmapgl\":[{\"colorbar\":{\"outlinewidth\":0,\"ticks\":\"\"},\"colorscale\":[[0.0,\"#0d0887\"],[0.1111111111111111,\"#46039f\"],[0.2222222222222222,\"#7201a8\"],[0.3333333333333333,\"#9c179e\"],[0.4444444444444444,\"#bd3786\"],[0.5555555555555556,\"#d8576b\"],[0.6666666666666666,\"#ed7953\"],[0.7777777777777778,\"#fb9f3a\"],[0.8888888888888888,\"#fdca26\"],[1.0,\"#f0f921\"]],\"type\":\"heatmapgl\"}],\"histogram\":[{\"marker\":{\"pattern\":{\"fillmode\":\"overlay\",\"size\":10,\"solidity\":0.2}},\"type\":\"histogram\"}],\"histogram2d\":[{\"colorbar\":{\"outlinewidth\":0,\"ticks\":\"\"},\"colorscale\":[[0.0,\"#0d0887\"],[0.1111111111111111,\"#46039f\"],[0.2222222222222222,\"#7201a8\"],[0.3333333333333333,\"#9c179e\"],[0.4444444444444444,\"#bd3786\"],[0.5555555555555556,\"#d8576b\"],[0.6666666666666666,\"#ed7953\"],[0.7777777777777778,\"#fb9f3a\"],[0.8888888888888888,\"#fdca26\"],[1.0,\"#f0f921\"]],\"type\":\"histogram2d\"}],\"histogram2dcontour\":[{\"colorbar\":{\"outlinewidth\":0,\"ticks\":\"\"},\"colorscale\":[[0.0,\"#0d0887\"],[0.1111111111111111,\"#46039f\"],[0.2222222222222222,\"#7201a8\"],[0.3333333333333333,\"#9c179e\"],[0.4444444444444444,\"#bd3786\"],[0.5555555555555556,\"#d8576b\"],[0.6666666666666666,\"#ed7953\"],[0.7777777777777778,\"#fb9f3a\"],[0.8888888888888888,\"#fdca26\"],[1.0,\"#f0f921\"]],\"type\":\"histogram2dcontour\"}],\"mesh3d\":[{\"colorbar\":{\"outlinewidth\":0,\"ticks\":\"\"},\"type\":\"mesh3d\"}],\"parcoords\":[{\"line\":{\"colorbar\":{\"outlinewidth\":0,\"ticks\":\"\"}},\"type\":\"parcoords\"}],\"pie\":[{\"automargin\":true,\"type\":\"pie\"}],\"scatter\":[{\"marker\":{\"colorbar\":{\"outlinewidth\":0,\"ticks\":\"\"}},\"type\":\"scatter\"}],\"scatter3d\":[{\"line\":{\"colorbar\":{\"outlinewidth\":0,\"ticks\":\"\"}},\"marker\":{\"colorbar\":{\"outlinewidth\":0,\"ticks\":\"\"}},\"type\":\"scatter3d\"}],\"scattercarpet\":[{\"marker\":{\"colorbar\":{\"outlinewidth\":0,\"ticks\":\"\"}},\"type\":\"scattercarpet\"}],\"scattergeo\":[{\"marker\":{\"colorbar\":{\"outlinewidth\":0,\"ticks\":\"\"}},\"type\":\"scattergeo\"}],\"scattergl\":[{\"marker\":{\"colorbar\":{\"outlinewidth\":0,\"ticks\":\"\"}},\"type\":\"scattergl\"}],\"scattermapbox\":[{\"marker\":{\"colorbar\":{\"outlinewidth\":0,\"ticks\":\"\"}},\"type\":\"scattermapbox\"}],\"scatterpolar\":[{\"marker\":{\"colorbar\":{\"outlinewidth\":0,\"ticks\":\"\"}},\"type\":\"scatterpolar\"}],\"scatterpolargl\":[{\"marker\":{\"colorbar\":{\"outlinewidth\":0,\"ticks\":\"\"}},\"type\":\"scatterpolargl\"}],\"scatterternary\":[{\"marker\":{\"colorbar\":{\"outlinewidth\":0,\"ticks\":\"\"}},\"type\":\"scatterternary\"}],\"surface\":[{\"colorbar\":{\"outlinewidth\":0,\"ticks\":\"\"},\"colorscale\":[[0.0,\"#0d0887\"],[0.1111111111111111,\"#46039f\"],[0.2222222222222222,\"#7201a8\"],[0.3333333333333333,\"#9c179e\"],[0.4444444444444444,\"#bd3786\"],[0.5555555555555556,\"#d8576b\"],[0.6666666666666666,\"#ed7953\"],[0.7777777777777778,\"#fb9f3a\"],[0.8888888888888888,\"#fdca26\"],[1.0,\"#f0f921\"]],\"type\":\"surface\"}],\"table\":[{\"cells\":{\"fill\":{\"color\":\"#EBF0F8\"},\"line\":{\"color\":\"white\"}},\"header\":{\"fill\":{\"color\":\"#C8D4E3\"},\"line\":{\"color\":\"white\"}},\"type\":\"table\"}]},\"layout\":{\"annotationdefaults\":{\"arrowcolor\":\"#2a3f5f\",\"arrowhead\":0,\"arrowwidth\":1},\"autotypenumbers\":\"strict\",\"coloraxis\":{\"colorbar\":{\"outlinewidth\":0,\"ticks\":\"\"}},\"colorscale\":{\"diverging\":[[0,\"#8e0152\"],[0.1,\"#c51b7d\"],[0.2,\"#de77ae\"],[0.3,\"#f1b6da\"],[0.4,\"#fde0ef\"],[0.5,\"#f7f7f7\"],[0.6,\"#e6f5d0\"],[0.7,\"#b8e186\"],[0.8,\"#7fbc41\"],[0.9,\"#4d9221\"],[1,\"#276419\"]],\"sequential\":[[0.0,\"#0d0887\"],[0.1111111111111111,\"#46039f\"],[0.2222222222222222,\"#7201a8\"],[0.3333333333333333,\"#9c179e\"],[0.4444444444444444,\"#bd3786\"],[0.5555555555555556,\"#d8576b\"],[0.6666666666666666,\"#ed7953\"],[0.7777777777777778,\"#fb9f3a\"],[0.8888888888888888,\"#fdca26\"],[1.0,\"#f0f921\"]],\"sequentialminus\":[[0.0,\"#0d0887\"],[0.1111111111111111,\"#46039f\"],[0.2222222222222222,\"#7201a8\"],[0.3333333333333333,\"#9c179e\"],[0.4444444444444444,\"#bd3786\"],[0.5555555555555556,\"#d8576b\"],[0.6666666666666666,\"#ed7953\"],[0.7777777777777778,\"#fb9f3a\"],[0.8888888888888888,\"#fdca26\"],[1.0,\"#f0f921\"]]},\"colorway\":[\"#636efa\",\"#EF553B\",\"#00cc96\",\"#ab63fa\",\"#FFA15A\",\"#19d3f3\",\"#FF6692\",\"#B6E880\",\"#FF97FF\",\"#FECB52\"],\"font\":{\"color\":\"#2a3f5f\"},\"geo\":{\"bgcolor\":\"white\",\"lakecolor\":\"white\",\"landcolor\":\"#E5ECF6\",\"showlakes\":true,\"showland\":true,\"subunitcolor\":\"white\"},\"hoverlabel\":{\"align\":\"left\"},\"hovermode\":\"closest\",\"mapbox\":{\"style\":\"light\"},\"paper_bgcolor\":\"white\",\"plot_bgcolor\":\"#E5ECF6\",\"polar\":{\"angularaxis\":{\"gridcolor\":\"white\",\"linecolor\":\"white\",\"ticks\":\"\"},\"bgcolor\":\"#E5ECF6\",\"radialaxis\":{\"gridcolor\":\"white\",\"linecolor\":\"white\",\"ticks\":\"\"}},\"scene\":{\"xaxis\":{\"backgroundcolor\":\"#E5ECF6\",\"gridcolor\":\"white\",\"gridwidth\":2,\"linecolor\":\"white\",\"showbackground\":true,\"ticks\":\"\",\"zerolinecolor\":\"white\"},\"yaxis\":{\"backgroundcolor\":\"#E5ECF6\",\"gridcolor\":\"white\",\"gridwidth\":2,\"linecolor\":\"white\",\"showbackground\":true,\"ticks\":\"\",\"zerolinecolor\":\"white\"},\"zaxis\":{\"backgroundcolor\":\"#E5ECF6\",\"gridcolor\":\"white\",\"gridwidth\":2,\"linecolor\":\"white\",\"showbackground\":true,\"ticks\":\"\",\"zerolinecolor\":\"white\"}},\"shapedefaults\":{\"line\":{\"color\":\"#2a3f5f\"}},\"ternary\":{\"aaxis\":{\"gridcolor\":\"white\",\"linecolor\":\"white\",\"ticks\":\"\"},\"baxis\":{\"gridcolor\":\"white\",\"linecolor\":\"white\",\"ticks\":\"\"},\"bgcolor\":\"#E5ECF6\",\"caxis\":{\"gridcolor\":\"white\",\"linecolor\":\"white\",\"ticks\":\"\"}},\"title\":{\"x\":0.05},\"xaxis\":{\"automargin\":true,\"gridcolor\":\"white\",\"linecolor\":\"white\",\"ticks\":\"\",\"title\":{\"standoff\":15},\"zerolinecolor\":\"white\",\"zerolinewidth\":2},\"yaxis\":{\"automargin\":true,\"gridcolor\":\"white\",\"linecolor\":\"white\",\"ticks\":\"\",\"title\":{\"standoff\":15},\"zerolinecolor\":\"white\",\"zerolinewidth\":2}}},\"xaxis\":{\"title\":{\"text\":\"policy_code\"}},\"yaxis\":{\"title\":{\"text\":\"value\"}}},                        {\"responsive\": true}                    ).then(function(){\n",
              "                            \n",
              "var gd = document.getElementById('66c88ed9-a55d-4b23-93a1-f20770fb49cd');\n",
              "var x = new MutationObserver(function (mutations, observer) {{\n",
              "        var display = window.getComputedStyle(gd).display;\n",
              "        if (!display || display === 'none') {{\n",
              "            console.log([gd, 'removed!']);\n",
              "            Plotly.purge(gd);\n",
              "            observer.disconnect();\n",
              "        }}\n",
              "}});\n",
              "\n",
              "// Listen for the removal of the full notebook cells\n",
              "var notebookContainer = gd.closest('#notebook-container');\n",
              "if (notebookContainer) {{\n",
              "    x.observe(notebookContainer, {childList: true});\n",
              "}}\n",
              "\n",
              "// Listen for the clearing of the current output cell\n",
              "var outputEl = gd.closest('.output');\n",
              "if (outputEl) {{\n",
              "    x.observe(outputEl, {childList: true});\n",
              "}}\n",
              "\n",
              "                        })                };                            </script>        </div>\n",
              "</body>\n",
              "</html>"
            ]
          },
          "metadata": {}
        }
      ]
    },
    {
      "cell_type": "code",
      "source": [
        "testing['acc_now_delinq'].plot.box()"
      ],
      "metadata": {
        "colab": {
          "base_uri": "https://localhost:8080/",
          "height": 542
        },
        "id": "7xbqqfzrhQQc",
        "outputId": "e2ce3adf-6e14-42ba-ddab-0ec651672d5e"
      },
      "execution_count": null,
      "outputs": [
        {
          "output_type": "display_data",
          "data": {
            "text/html": [
              "<html>\n",
              "<head><meta charset=\"utf-8\" /></head>\n",
              "<body>\n",
              "    <div>            <script src=\"https://cdnjs.cloudflare.com/ajax/libs/mathjax/2.7.5/MathJax.js?config=TeX-AMS-MML_SVG\"></script><script type=\"text/javascript\">if (window.MathJax) {MathJax.Hub.Config({SVG: {font: \"STIX-Web\"}});}</script>                <script type=\"text/javascript\">window.PlotlyConfig = {MathJaxConfig: 'local'};</script>\n",
              "        <script src=\"https://cdn.plot.ly/plotly-2.8.3.min.js\"></script>                <div id=\"bf03e28d-786e-40b2-9677-f0c53c918391\" class=\"plotly-graph-div\" style=\"height:525px; width:100%;\"></div>            <script type=\"text/javascript\">                                    window.PLOTLYENV=window.PLOTLYENV || {};                                    if (document.getElementById(\"bf03e28d-786e-40b2-9677-f0c53c918391\")) {                    Plotly.newPlot(                        \"bf03e28d-786e-40b2-9677-f0c53c918391\",                        [{\"boxpoints\":\"suspectedoutliers\",\"lowerfence\":[0],\"mean\":[0.004945410012118124],\"median\":[0],\"name\":\"acc_now_delinq\",\"notched\":false,\"q1\":[0],\"q3\":[0],\"upperfence\":[0],\"y\":[[1,1,1,1,1,1,1,1,1,1,1,1,1,1,1,1,1,1,1,1,1,1,1,1,1,1,1,1,1,1,1,1,1,1,1,1,1,1,1,1,1,1,1,1,1,1,1,1,1,1,1,1,1,1,1,1,1,1,1,1,1,1,1,1,1,1,1,1,1,1,1,1,1,1,1,1,1,1,1,1,1,1,1,1,1,1,1,1,1,1,1,1,1,1,1,1,1,1,1,1,1,1,1,1,1,1,1,1,1,1,1,1,1,1,1,1,1,1,1,1,1,1,1,1,1,1,1,1,1,1,1,1,1,1,1,1,1,1,1,1,1,1,1,1,1,1,1,1,1,1,1,1,1,1,1,1,1,1,1,1,1,1,1,1,1,1,1,1,1,1,1,1,1,1,1,1,1,1,1,1,1,1,1,1,1,1,1,1,1,1,1,1,1,1,1,1,1,1,1,1,1,1,1,1,1,1,1,1,1,1,1,1,1,1,1,1,1,1,1,1,1,1,1,1,1,1,1,1,1,1,1,1,1,1,1,1,1,1,1,1,1,1,1,1,1,1,1,1,1,1,1,1,1,1,1,1,1,1,1,1,1,1,1,1,1,1,1,1,1,1,1,1,1,1,1,1,1,1,1,1,1,1,1,1,1,1,1,1,1,1,1,1,1,1,1,1,1,1,1,1,1,1,1,1,1,1,1,1,1,1,1,1,1,1,1,1,1,1,1,1,1,1,1,1,1,1,1,1,1,1,1,1,1,1,1,1,1,1,1,1,1,1,1,1,1,1,1,1,1,1,1,1,1,1,1,1,1,1,1,1,1,1,1,1,1,1,1,1,1,1,1,1,1,1,1,1,1,1,1,1,1,1,1,1,1,1,1,1,1,1,1,1,1,1,1,1,1,1,1,1,1,1,1,1,1,1,1,1,1,1,1,1,1,1,1,1,1,1,1,1,1,1,1,1,1,1,1,1,1,1,1,1,1,1,1,1,1,1,1,1,1,1,1,1,1,1,1,1,1,1,1,1,1,1,1,1,1,1,1,1,1,1,1,1,1,1,1,1,1,1,1,1,1,1,1,1,1,1,1,1,1,1,1,1,1,1,1,1,1,1,1,1,1,1,1,1,1,1,1,1,1,1,1,1,1,1,1,1,1,1,1,1,1,1,1,1,1,1,1,1,1,1,1,1,1,1,1,1,1,1,1,1,1,1,1,1,1,1,1,1,1,1,1,1,1,1,1,1,1,1,1,1,1,1,1,1,1,1,1,1,1,1,1,1,1,1,1,1,1,1,1,1,1,1,1,1,1,1,1,1,1,1,1,1,1,1,1,1,1,1,1,1,1,1,1,1,1,1,1,1,1,1,1,1,1,1,1,1,1,1,1,1,1,1,1,1,1,1,1,1,1,1,1,1,1,1,1,1,1,1,1,1,1,1,1,1,1,1,1,1,1,1,1,1,1,1,1,1,1,1,1,1,1,1,1,1,1,1,1,1,1,1,1,1,1,1,1,1,1,1,1,1,1,1,1,1,1,1,1,1,1,1,1,1,1,1,1,1,1,1,1,1,1,1,1,1,1,1,1,1,1,1,1,1,1,1,1,1,1,1,1,1,1,1,1,1,1,1,1,1,1,1,1,1,1,1,1,1,1,1,1,1,1,1,1,1,1,1,1,1,1,1,1,1,1,1,1,1,1,1,1,1,1,1,1,1,1,1,1,1,1,1,1,1,1,1,1,1,1,1,1,1,1,1,1,1,1,1,1,1,1,1,1,1,1,1,1,1,1,1,1,1,1,1,1,1,1,1,1,1,1,1,1,1,1,1,1,1,1,1,1,1,1,1,1,1,1,1,1,1,1,1,1,1,1,1,1,1,1,1,1,1,1,1,1,1,1,1,1,1,1,1,1,1,1,1,1,1,1,1,1,1,1,1,1,1,1,1,1,1,1,1,1,1,1,1,1,1,1,1,1,1,1,1,1,1,1,1,1,1,1,1,1,1,1,1,1,1,1,1,1,1,1,1,1,1,1,1,1,1,1,1,1,1,1,1,1,1,1,1,1,1,1,1,1,1,1,1,1,1,1,1,1,1,1,1,1,1,1,1,1,1,1,1,1,1,1,1,1,1,1,1,1,1,1,1,1,1,1,1,1,1,1,1,1,1,1,1,1,1,1,1,1,1,1,1,1,1,1,1,1,1,1,1,1,1,1,1,1,1,1,1,1,1,1,1,1,1,1,1,1,1,1,1,1,1,1,1,1,1,1]],\"type\":\"box\"}],                        {\"template\":{\"data\":{\"bar\":[{\"error_x\":{\"color\":\"#2a3f5f\"},\"error_y\":{\"color\":\"#2a3f5f\"},\"marker\":{\"line\":{\"color\":\"#E5ECF6\",\"width\":0.5},\"pattern\":{\"fillmode\":\"overlay\",\"size\":10,\"solidity\":0.2}},\"type\":\"bar\"}],\"barpolar\":[{\"marker\":{\"line\":{\"color\":\"#E5ECF6\",\"width\":0.5},\"pattern\":{\"fillmode\":\"overlay\",\"size\":10,\"solidity\":0.2}},\"type\":\"barpolar\"}],\"carpet\":[{\"aaxis\":{\"endlinecolor\":\"#2a3f5f\",\"gridcolor\":\"white\",\"linecolor\":\"white\",\"minorgridcolor\":\"white\",\"startlinecolor\":\"#2a3f5f\"},\"baxis\":{\"endlinecolor\":\"#2a3f5f\",\"gridcolor\":\"white\",\"linecolor\":\"white\",\"minorgridcolor\":\"white\",\"startlinecolor\":\"#2a3f5f\"},\"type\":\"carpet\"}],\"choropleth\":[{\"colorbar\":{\"outlinewidth\":0,\"ticks\":\"\"},\"type\":\"choropleth\"}],\"contour\":[{\"colorbar\":{\"outlinewidth\":0,\"ticks\":\"\"},\"colorscale\":[[0.0,\"#0d0887\"],[0.1111111111111111,\"#46039f\"],[0.2222222222222222,\"#7201a8\"],[0.3333333333333333,\"#9c179e\"],[0.4444444444444444,\"#bd3786\"],[0.5555555555555556,\"#d8576b\"],[0.6666666666666666,\"#ed7953\"],[0.7777777777777778,\"#fb9f3a\"],[0.8888888888888888,\"#fdca26\"],[1.0,\"#f0f921\"]],\"type\":\"contour\"}],\"contourcarpet\":[{\"colorbar\":{\"outlinewidth\":0,\"ticks\":\"\"},\"type\":\"contourcarpet\"}],\"heatmap\":[{\"colorbar\":{\"outlinewidth\":0,\"ticks\":\"\"},\"colorscale\":[[0.0,\"#0d0887\"],[0.1111111111111111,\"#46039f\"],[0.2222222222222222,\"#7201a8\"],[0.3333333333333333,\"#9c179e\"],[0.4444444444444444,\"#bd3786\"],[0.5555555555555556,\"#d8576b\"],[0.6666666666666666,\"#ed7953\"],[0.7777777777777778,\"#fb9f3a\"],[0.8888888888888888,\"#fdca26\"],[1.0,\"#f0f921\"]],\"type\":\"heatmap\"}],\"heatmapgl\":[{\"colorbar\":{\"outlinewidth\":0,\"ticks\":\"\"},\"colorscale\":[[0.0,\"#0d0887\"],[0.1111111111111111,\"#46039f\"],[0.2222222222222222,\"#7201a8\"],[0.3333333333333333,\"#9c179e\"],[0.4444444444444444,\"#bd3786\"],[0.5555555555555556,\"#d8576b\"],[0.6666666666666666,\"#ed7953\"],[0.7777777777777778,\"#fb9f3a\"],[0.8888888888888888,\"#fdca26\"],[1.0,\"#f0f921\"]],\"type\":\"heatmapgl\"}],\"histogram\":[{\"marker\":{\"pattern\":{\"fillmode\":\"overlay\",\"size\":10,\"solidity\":0.2}},\"type\":\"histogram\"}],\"histogram2d\":[{\"colorbar\":{\"outlinewidth\":0,\"ticks\":\"\"},\"colorscale\":[[0.0,\"#0d0887\"],[0.1111111111111111,\"#46039f\"],[0.2222222222222222,\"#7201a8\"],[0.3333333333333333,\"#9c179e\"],[0.4444444444444444,\"#bd3786\"],[0.5555555555555556,\"#d8576b\"],[0.6666666666666666,\"#ed7953\"],[0.7777777777777778,\"#fb9f3a\"],[0.8888888888888888,\"#fdca26\"],[1.0,\"#f0f921\"]],\"type\":\"histogram2d\"}],\"histogram2dcontour\":[{\"colorbar\":{\"outlinewidth\":0,\"ticks\":\"\"},\"colorscale\":[[0.0,\"#0d0887\"],[0.1111111111111111,\"#46039f\"],[0.2222222222222222,\"#7201a8\"],[0.3333333333333333,\"#9c179e\"],[0.4444444444444444,\"#bd3786\"],[0.5555555555555556,\"#d8576b\"],[0.6666666666666666,\"#ed7953\"],[0.7777777777777778,\"#fb9f3a\"],[0.8888888888888888,\"#fdca26\"],[1.0,\"#f0f921\"]],\"type\":\"histogram2dcontour\"}],\"mesh3d\":[{\"colorbar\":{\"outlinewidth\":0,\"ticks\":\"\"},\"type\":\"mesh3d\"}],\"parcoords\":[{\"line\":{\"colorbar\":{\"outlinewidth\":0,\"ticks\":\"\"}},\"type\":\"parcoords\"}],\"pie\":[{\"automargin\":true,\"type\":\"pie\"}],\"scatter\":[{\"marker\":{\"colorbar\":{\"outlinewidth\":0,\"ticks\":\"\"}},\"type\":\"scatter\"}],\"scatter3d\":[{\"line\":{\"colorbar\":{\"outlinewidth\":0,\"ticks\":\"\"}},\"marker\":{\"colorbar\":{\"outlinewidth\":0,\"ticks\":\"\"}},\"type\":\"scatter3d\"}],\"scattercarpet\":[{\"marker\":{\"colorbar\":{\"outlinewidth\":0,\"ticks\":\"\"}},\"type\":\"scattercarpet\"}],\"scattergeo\":[{\"marker\":{\"colorbar\":{\"outlinewidth\":0,\"ticks\":\"\"}},\"type\":\"scattergeo\"}],\"scattergl\":[{\"marker\":{\"colorbar\":{\"outlinewidth\":0,\"ticks\":\"\"}},\"type\":\"scattergl\"}],\"scattermapbox\":[{\"marker\":{\"colorbar\":{\"outlinewidth\":0,\"ticks\":\"\"}},\"type\":\"scattermapbox\"}],\"scatterpolar\":[{\"marker\":{\"colorbar\":{\"outlinewidth\":0,\"ticks\":\"\"}},\"type\":\"scatterpolar\"}],\"scatterpolargl\":[{\"marker\":{\"colorbar\":{\"outlinewidth\":0,\"ticks\":\"\"}},\"type\":\"scatterpolargl\"}],\"scatterternary\":[{\"marker\":{\"colorbar\":{\"outlinewidth\":0,\"ticks\":\"\"}},\"type\":\"scatterternary\"}],\"surface\":[{\"colorbar\":{\"outlinewidth\":0,\"ticks\":\"\"},\"colorscale\":[[0.0,\"#0d0887\"],[0.1111111111111111,\"#46039f\"],[0.2222222222222222,\"#7201a8\"],[0.3333333333333333,\"#9c179e\"],[0.4444444444444444,\"#bd3786\"],[0.5555555555555556,\"#d8576b\"],[0.6666666666666666,\"#ed7953\"],[0.7777777777777778,\"#fb9f3a\"],[0.8888888888888888,\"#fdca26\"],[1.0,\"#f0f921\"]],\"type\":\"surface\"}],\"table\":[{\"cells\":{\"fill\":{\"color\":\"#EBF0F8\"},\"line\":{\"color\":\"white\"}},\"header\":{\"fill\":{\"color\":\"#C8D4E3\"},\"line\":{\"color\":\"white\"}},\"type\":\"table\"}]},\"layout\":{\"annotationdefaults\":{\"arrowcolor\":\"#2a3f5f\",\"arrowhead\":0,\"arrowwidth\":1},\"autotypenumbers\":\"strict\",\"coloraxis\":{\"colorbar\":{\"outlinewidth\":0,\"ticks\":\"\"}},\"colorscale\":{\"diverging\":[[0,\"#8e0152\"],[0.1,\"#c51b7d\"],[0.2,\"#de77ae\"],[0.3,\"#f1b6da\"],[0.4,\"#fde0ef\"],[0.5,\"#f7f7f7\"],[0.6,\"#e6f5d0\"],[0.7,\"#b8e186\"],[0.8,\"#7fbc41\"],[0.9,\"#4d9221\"],[1,\"#276419\"]],\"sequential\":[[0.0,\"#0d0887\"],[0.1111111111111111,\"#46039f\"],[0.2222222222222222,\"#7201a8\"],[0.3333333333333333,\"#9c179e\"],[0.4444444444444444,\"#bd3786\"],[0.5555555555555556,\"#d8576b\"],[0.6666666666666666,\"#ed7953\"],[0.7777777777777778,\"#fb9f3a\"],[0.8888888888888888,\"#fdca26\"],[1.0,\"#f0f921\"]],\"sequentialminus\":[[0.0,\"#0d0887\"],[0.1111111111111111,\"#46039f\"],[0.2222222222222222,\"#7201a8\"],[0.3333333333333333,\"#9c179e\"],[0.4444444444444444,\"#bd3786\"],[0.5555555555555556,\"#d8576b\"],[0.6666666666666666,\"#ed7953\"],[0.7777777777777778,\"#fb9f3a\"],[0.8888888888888888,\"#fdca26\"],[1.0,\"#f0f921\"]]},\"colorway\":[\"#636efa\",\"#EF553B\",\"#00cc96\",\"#ab63fa\",\"#FFA15A\",\"#19d3f3\",\"#FF6692\",\"#B6E880\",\"#FF97FF\",\"#FECB52\"],\"font\":{\"color\":\"#2a3f5f\"},\"geo\":{\"bgcolor\":\"white\",\"lakecolor\":\"white\",\"landcolor\":\"#E5ECF6\",\"showlakes\":true,\"showland\":true,\"subunitcolor\":\"white\"},\"hoverlabel\":{\"align\":\"left\"},\"hovermode\":\"closest\",\"mapbox\":{\"style\":\"light\"},\"paper_bgcolor\":\"white\",\"plot_bgcolor\":\"#E5ECF6\",\"polar\":{\"angularaxis\":{\"gridcolor\":\"white\",\"linecolor\":\"white\",\"ticks\":\"\"},\"bgcolor\":\"#E5ECF6\",\"radialaxis\":{\"gridcolor\":\"white\",\"linecolor\":\"white\",\"ticks\":\"\"}},\"scene\":{\"xaxis\":{\"backgroundcolor\":\"#E5ECF6\",\"gridcolor\":\"white\",\"gridwidth\":2,\"linecolor\":\"white\",\"showbackground\":true,\"ticks\":\"\",\"zerolinecolor\":\"white\"},\"yaxis\":{\"backgroundcolor\":\"#E5ECF6\",\"gridcolor\":\"white\",\"gridwidth\":2,\"linecolor\":\"white\",\"showbackground\":true,\"ticks\":\"\",\"zerolinecolor\":\"white\"},\"zaxis\":{\"backgroundcolor\":\"#E5ECF6\",\"gridcolor\":\"white\",\"gridwidth\":2,\"linecolor\":\"white\",\"showbackground\":true,\"ticks\":\"\",\"zerolinecolor\":\"white\"}},\"shapedefaults\":{\"line\":{\"color\":\"#2a3f5f\"}},\"ternary\":{\"aaxis\":{\"gridcolor\":\"white\",\"linecolor\":\"white\",\"ticks\":\"\"},\"baxis\":{\"gridcolor\":\"white\",\"linecolor\":\"white\",\"ticks\":\"\"},\"bgcolor\":\"#E5ECF6\",\"caxis\":{\"gridcolor\":\"white\",\"linecolor\":\"white\",\"ticks\":\"\"}},\"title\":{\"x\":0.05},\"xaxis\":{\"automargin\":true,\"gridcolor\":\"white\",\"linecolor\":\"white\",\"ticks\":\"\",\"title\":{\"standoff\":15},\"zerolinecolor\":\"white\",\"zerolinewidth\":2},\"yaxis\":{\"automargin\":true,\"gridcolor\":\"white\",\"linecolor\":\"white\",\"ticks\":\"\",\"title\":{\"standoff\":15},\"zerolinecolor\":\"white\",\"zerolinewidth\":2}}},\"xaxis\":{\"title\":{\"text\":\"acc_now_delinq\"}},\"yaxis\":{\"title\":{\"text\":\"value\"}}},                        {\"responsive\": true}                    ).then(function(){\n",
              "                            \n",
              "var gd = document.getElementById('bf03e28d-786e-40b2-9677-f0c53c918391');\n",
              "var x = new MutationObserver(function (mutations, observer) {{\n",
              "        var display = window.getComputedStyle(gd).display;\n",
              "        if (!display || display === 'none') {{\n",
              "            console.log([gd, 'removed!']);\n",
              "            Plotly.purge(gd);\n",
              "            observer.disconnect();\n",
              "        }}\n",
              "}});\n",
              "\n",
              "// Listen for the removal of the full notebook cells\n",
              "var notebookContainer = gd.closest('#notebook-container');\n",
              "if (notebookContainer) {{\n",
              "    x.observe(notebookContainer, {childList: true});\n",
              "}}\n",
              "\n",
              "// Listen for the clearing of the current output cell\n",
              "var outputEl = gd.closest('.output');\n",
              "if (outputEl) {{\n",
              "    x.observe(outputEl, {childList: true});\n",
              "}}\n",
              "\n",
              "                        })                };                            </script>        </div>\n",
              "</body>\n",
              "</html>"
            ]
          },
          "metadata": {}
        }
      ]
    },
    {
      "cell_type": "code",
      "source": [
        "testing['tot_coll_amt'].plot.box()"
      ],
      "metadata": {
        "colab": {
          "base_uri": "https://localhost:8080/",
          "height": 542
        },
        "id": "4DbpmALOhSUX",
        "outputId": "c6a0cd26-4820-41f5-824a-7831072249f3"
      },
      "execution_count": null,
      "outputs": [
        {
          "output_type": "display_data",
          "data": {
            "text/html": [
              "<html>\n",
              "<head><meta charset=\"utf-8\" /></head>\n",
              "<body>\n",
              "    <div>            <script src=\"https://cdnjs.cloudflare.com/ajax/libs/mathjax/2.7.5/MathJax.js?config=TeX-AMS-MML_SVG\"></script><script type=\"text/javascript\">if (window.MathJax) {MathJax.Hub.Config({SVG: {font: \"STIX-Web\"}});}</script>                <script type=\"text/javascript\">window.PlotlyConfig = {MathJaxConfig: 'local'};</script>\n",
              "        <script src=\"https://cdn.plot.ly/plotly-2.8.3.min.js\"></script>                <div id=\"7dde3a13-c859-461c-9240-4b236b4acecb\" class=\"plotly-graph-div\" style=\"height:525px; width:100%;\"></div>            <script type=\"text/javascript\">                                    window.PLOTLYENV=window.PLOTLYENV || {};                                    if (document.getElementById(\"7dde3a13-c859-461c-9240-4b236b4acecb\")) {                    Plotly.newPlot(                        \"7dde3a13-c859-461c-9240-4b236b4acecb\",                        [{\"boxpoints\":\"suspectedoutliers\",\"lowerfence\":[0.0],\"mean\":[207.7413686118379],\"median\":[0.0],\"name\":\"tot_coll_amt\",\"notched\":false,\"q1\":[0.0],\"q3\":[0.0],\"upperfence\":[0.0],\"y\":[[2.0,2.0,2.0,3.0,4.0,5.0,7.0,7.0,8.0,9.0,9.0,9.0,10.0,10.0,10.0,10.0,10.0,10.0,10.0,10.0,10.0,10.0,12.0,12.0,12.0,13.0,14.0,14.0,14.0,15.0,15.0,15.0,15.0,15.0,15.0,16.0,16.0,16.0,17.0,17.0,17.0,18.0,18.0,18.0,18.0,19.0,19.0,20.0,20.0,20.0,20.0,20.0,20.0,20.0,20.0,20.0,21.0,21.0,22.0,22.0,22.0,23.0,23.0,24.0,24.0,24.0,24.0,24.0,25.0,25.0,25.0,25.0,25.0,25.0,25.0,25.0,25.0,25.0,25.0,25.0,25.0,25.0,25.0,25.0,25.0,25.0,25.0,25.0,25.0,25.0,25.0,25.0,25.0,25.0,25.0,25.0,25.0,25.0,25.0,25.0,25.0,25.0,25.0,25.0,25.0,25.0,25.0,25.0,25.0,25.0,25.0,25.0,25.0,25.0,25.0,25.0,25.0,25.0,25.0,25.0,25.0,25.0,25.0,25.0,25.0,25.0,25.0,25.0,25.0,25.0,25.0,25.0,25.0,25.0,25.0,25.0,25.0,25.0,25.0,25.0,25.0,25.0,25.0,26.0,26.0,26.0,26.0,26.0,26.0,26.0,26.0,26.0,26.0,26.0,26.0,26.0,26.0,26.0,26.0,26.0,26.0,26.0,26.0,26.0,26.0,26.0,26.0,26.0,27.0,27.0,27.0,27.0,27.0,27.0,27.0,27.0,27.0,27.0,27.0,27.0,27.0,27.0,27.0,27.0,27.0,27.0,27.0,27.0,27.0,27.0,27.0,27.0,27.0,27.0,27.0,27.0,27.0,28.0,28.0,28.0,28.0,28.0,28.0,28.0,28.0,28.0,28.0,28.0,28.0,28.0,28.0,28.0,28.0,28.0,28.0,28.0,28.0,28.0,28.0,28.0,28.0,28.0,28.0,28.0,28.0,28.0,28.0,28.0,28.0,28.0,28.0,29.0,29.0,29.0,29.0,29.0,29.0,29.0,29.0,29.0,29.0,29.0,29.0,29.0,29.0,29.0,29.0,29.0,29.0,29.0,29.0,29.0,29.0,29.0,29.0,29.0,29.0,29.0,29.0,29.0,29.0,29.0,29.0,29.0,29.0,30.0,30.0,30.0,30.0,30.0,30.0,30.0,30.0,30.0,30.0,30.0,30.0,30.0,30.0,30.0,30.0,30.0,30.0,30.0,30.0,30.0,30.0,30.0,30.0,30.0,30.0,30.0,30.0,30.0,30.0,30.0,30.0,30.0,30.0,30.0,30.0,30.0,30.0,30.0,30.0,30.0,30.0,30.0,30.0,30.0,30.0,30.0,30.0,30.0,30.0,30.0,30.0,30.0,30.0,30.0,30.0,30.0,30.0,30.0,30.0,30.0,30.0,30.0,30.0,31.0,31.0,31.0,31.0,31.0,31.0,31.0,31.0,31.0,31.0,31.0,31.0,31.0,31.0,31.0,31.0,31.0,31.0,31.0,31.0,31.0,31.0,31.0,31.0,31.0,31.0,31.0,31.0,31.0,31.0,31.0,31.0,32.0,32.0,32.0,32.0,32.0,32.0,32.0,32.0,32.0,32.0,32.0,32.0,32.0,32.0,32.0,32.0,32.0,32.0,32.0,32.0,32.0,32.0,32.0,32.0,32.0,32.0,32.0,32.0,32.0,32.0,32.0,33.0,33.0,33.0,33.0,33.0,33.0,33.0,33.0,33.0,33.0,33.0,33.0,33.0,33.0,33.0,33.0,33.0,33.0,33.0,33.0,33.0,33.0,33.0,33.0,33.0,33.0,33.0,33.0,33.0,33.0,34.0,34.0,34.0,34.0,34.0,34.0,34.0,34.0,34.0,34.0,34.0,34.0,34.0,34.0,34.0,34.0,34.0,34.0,34.0,34.0,34.0,34.0,34.0,34.0,34.0,34.0,34.0,34.0,34.0,35.0,35.0,35.0,35.0,35.0,35.0,35.0,35.0,35.0,35.0,35.0,35.0,35.0,35.0,35.0,35.0,35.0,35.0,35.0,35.0,35.0,35.0,35.0,35.0,35.0,35.0,35.0,35.0,35.0,35.0,35.0,35.0,35.0,35.0,35.0,35.0,35.0,35.0,35.0,36.0,36.0,36.0,36.0,36.0,36.0,36.0,36.0,36.0,36.0,36.0,36.0,36.0,36.0,36.0,36.0,36.0,36.0,36.0,36.0,36.0,36.0,36.0,36.0,36.0,36.0,36.0,36.0,36.0,36.0,36.0,37.0,37.0,37.0,37.0,37.0,37.0,37.0,37.0,37.0,37.0,37.0,37.0,37.0,37.0,37.0,37.0,37.0,37.0,37.0,37.0,37.0,37.0,37.0,37.0,38.0,38.0,38.0,38.0,38.0,38.0,38.0,38.0,38.0,38.0,38.0,38.0,38.0,38.0,38.0,38.0,38.0,38.0,38.0,38.0,38.0,38.0,38.0,38.0,39.0,39.0,39.0,39.0,39.0,39.0,39.0,39.0,39.0,39.0,39.0,39.0,39.0,39.0,39.0,39.0,39.0,39.0,39.0,39.0,40.0,40.0,40.0,40.0,40.0,40.0,40.0,40.0,40.0,40.0,40.0,40.0,40.0,40.0,40.0,40.0,40.0,40.0,40.0,40.0,40.0,40.0,40.0,40.0,40.0,40.0,40.0,40.0,40.0,40.0,40.0,40.0,40.0,40.0,40.0,40.0,40.0,40.0,40.0,40.0,40.0,40.0,40.0,40.0,40.0,40.0,40.0,40.0,40.0,40.0,40.0,40.0,40.0,41.0,41.0,41.0,41.0,41.0,41.0,41.0,41.0,41.0,41.0,41.0,41.0,41.0,42.0,42.0,42.0,42.0,42.0,42.0,42.0,42.0,42.0,42.0,42.0,42.0,42.0,42.0,42.0,42.0,42.0,42.0,42.0,42.0,42.0,42.0,42.0,42.0,42.0,42.0,42.0,42.0,42.0,42.0,43.0,43.0,43.0,43.0,43.0,43.0,43.0,43.0,43.0,43.0,43.0,43.0,43.0,43.0,43.0,43.0,43.0,43.0,43.0,43.0,44.0,44.0,44.0,44.0,44.0,44.0,44.0,44.0,44.0,44.0,44.0,44.0,44.0,44.0,44.0,44.0,44.0,44.0,44.0,45.0,45.0,45.0,45.0,45.0,45.0,45.0,45.0,45.0,45.0,45.0,45.0,45.0,45.0,45.0,45.0,45.0,45.0,45.0,46.0,46.0,46.0,46.0,46.0,46.0,46.0,46.0,46.0,46.0,46.0,46.0,46.0,46.0,46.0,46.0,47.0,47.0,47.0,47.0,47.0,47.0,47.0,47.0,47.0,47.0,47.0,47.0,47.0,47.0,47.0,47.0,47.0,47.0,47.0,47.0,47.0,47.0,47.0,47.0,47.0,47.0,48.0,48.0,48.0,48.0,48.0,48.0,48.0,48.0,48.0,48.0,48.0,48.0,48.0,48.0,48.0,48.0,48.0,48.0,48.0,48.0,48.0,48.0,48.0,48.0,48.0,49.0,49.0,49.0,49.0,49.0,49.0,49.0,49.0,49.0,49.0,49.0,49.0,49.0,49.0,49.0,49.0,49.0,49.0,49.0,49.0,49.0,49.0,49.0,49.0,49.0,49.0,49.0,49.0,49.0,49.0,50.0,50.0,50.0,50.0,50.0,50.0,50.0,50.0,50.0,50.0,50.0,50.0,50.0,50.0,50.0,50.0,50.0,50.0,50.0,50.0,50.0,50.0,50.0,50.0,50.0,50.0,50.0,50.0,50.0,50.0,50.0,50.0,50.0,50.0,50.0,50.0,50.0,50.0,50.0,50.0,50.0,50.0,50.0,50.0,50.0,50.0,50.0,50.0,50.0,50.0,50.0,50.0,50.0,50.0,50.0,50.0,50.0,50.0,50.0,50.0,50.0,50.0,50.0,50.0,50.0,50.0,50.0,50.0,50.0,50.0,50.0,50.0,50.0,50.0,50.0,50.0,50.0,50.0,50.0,50.0,50.0,50.0,50.0,50.0,50.0,50.0,50.0,50.0,50.0,50.0,50.0,50.0,50.0,50.0,50.0,50.0,50.0,50.0,50.0,50.0,50.0,50.0,50.0,50.0,50.0,50.0,50.0,50.0,50.0,50.0,50.0,50.0,50.0,50.0,50.0,50.0,50.0,50.0,50.0,50.0,50.0,50.0,50.0,50.0,50.0,50.0,50.0,50.0,50.0,50.0,50.0,50.0,50.0,50.0,50.0,50.0,50.0,50.0,50.0,50.0,50.0,50.0,50.0,50.0,50.0,50.0,50.0,50.0,50.0,50.0,50.0,50.0,50.0,50.0,50.0,50.0,50.0,50.0,50.0,50.0,50.0]],\"type\":\"box\"}],                        {\"template\":{\"data\":{\"bar\":[{\"error_x\":{\"color\":\"#2a3f5f\"},\"error_y\":{\"color\":\"#2a3f5f\"},\"marker\":{\"line\":{\"color\":\"#E5ECF6\",\"width\":0.5},\"pattern\":{\"fillmode\":\"overlay\",\"size\":10,\"solidity\":0.2}},\"type\":\"bar\"}],\"barpolar\":[{\"marker\":{\"line\":{\"color\":\"#E5ECF6\",\"width\":0.5},\"pattern\":{\"fillmode\":\"overlay\",\"size\":10,\"solidity\":0.2}},\"type\":\"barpolar\"}],\"carpet\":[{\"aaxis\":{\"endlinecolor\":\"#2a3f5f\",\"gridcolor\":\"white\",\"linecolor\":\"white\",\"minorgridcolor\":\"white\",\"startlinecolor\":\"#2a3f5f\"},\"baxis\":{\"endlinecolor\":\"#2a3f5f\",\"gridcolor\":\"white\",\"linecolor\":\"white\",\"minorgridcolor\":\"white\",\"startlinecolor\":\"#2a3f5f\"},\"type\":\"carpet\"}],\"choropleth\":[{\"colorbar\":{\"outlinewidth\":0,\"ticks\":\"\"},\"type\":\"choropleth\"}],\"contour\":[{\"colorbar\":{\"outlinewidth\":0,\"ticks\":\"\"},\"colorscale\":[[0.0,\"#0d0887\"],[0.1111111111111111,\"#46039f\"],[0.2222222222222222,\"#7201a8\"],[0.3333333333333333,\"#9c179e\"],[0.4444444444444444,\"#bd3786\"],[0.5555555555555556,\"#d8576b\"],[0.6666666666666666,\"#ed7953\"],[0.7777777777777778,\"#fb9f3a\"],[0.8888888888888888,\"#fdca26\"],[1.0,\"#f0f921\"]],\"type\":\"contour\"}],\"contourcarpet\":[{\"colorbar\":{\"outlinewidth\":0,\"ticks\":\"\"},\"type\":\"contourcarpet\"}],\"heatmap\":[{\"colorbar\":{\"outlinewidth\":0,\"ticks\":\"\"},\"colorscale\":[[0.0,\"#0d0887\"],[0.1111111111111111,\"#46039f\"],[0.2222222222222222,\"#7201a8\"],[0.3333333333333333,\"#9c179e\"],[0.4444444444444444,\"#bd3786\"],[0.5555555555555556,\"#d8576b\"],[0.6666666666666666,\"#ed7953\"],[0.7777777777777778,\"#fb9f3a\"],[0.8888888888888888,\"#fdca26\"],[1.0,\"#f0f921\"]],\"type\":\"heatmap\"}],\"heatmapgl\":[{\"colorbar\":{\"outlinewidth\":0,\"ticks\":\"\"},\"colorscale\":[[0.0,\"#0d0887\"],[0.1111111111111111,\"#46039f\"],[0.2222222222222222,\"#7201a8\"],[0.3333333333333333,\"#9c179e\"],[0.4444444444444444,\"#bd3786\"],[0.5555555555555556,\"#d8576b\"],[0.6666666666666666,\"#ed7953\"],[0.7777777777777778,\"#fb9f3a\"],[0.8888888888888888,\"#fdca26\"],[1.0,\"#f0f921\"]],\"type\":\"heatmapgl\"}],\"histogram\":[{\"marker\":{\"pattern\":{\"fillmode\":\"overlay\",\"size\":10,\"solidity\":0.2}},\"type\":\"histogram\"}],\"histogram2d\":[{\"colorbar\":{\"outlinewidth\":0,\"ticks\":\"\"},\"colorscale\":[[0.0,\"#0d0887\"],[0.1111111111111111,\"#46039f\"],[0.2222222222222222,\"#7201a8\"],[0.3333333333333333,\"#9c179e\"],[0.4444444444444444,\"#bd3786\"],[0.5555555555555556,\"#d8576b\"],[0.6666666666666666,\"#ed7953\"],[0.7777777777777778,\"#fb9f3a\"],[0.8888888888888888,\"#fdca26\"],[1.0,\"#f0f921\"]],\"type\":\"histogram2d\"}],\"histogram2dcontour\":[{\"colorbar\":{\"outlinewidth\":0,\"ticks\":\"\"},\"colorscale\":[[0.0,\"#0d0887\"],[0.1111111111111111,\"#46039f\"],[0.2222222222222222,\"#7201a8\"],[0.3333333333333333,\"#9c179e\"],[0.4444444444444444,\"#bd3786\"],[0.5555555555555556,\"#d8576b\"],[0.6666666666666666,\"#ed7953\"],[0.7777777777777778,\"#fb9f3a\"],[0.8888888888888888,\"#fdca26\"],[1.0,\"#f0f921\"]],\"type\":\"histogram2dcontour\"}],\"mesh3d\":[{\"colorbar\":{\"outlinewidth\":0,\"ticks\":\"\"},\"type\":\"mesh3d\"}],\"parcoords\":[{\"line\":{\"colorbar\":{\"outlinewidth\":0,\"ticks\":\"\"}},\"type\":\"parcoords\"}],\"pie\":[{\"automargin\":true,\"type\":\"pie\"}],\"scatter\":[{\"marker\":{\"colorbar\":{\"outlinewidth\":0,\"ticks\":\"\"}},\"type\":\"scatter\"}],\"scatter3d\":[{\"line\":{\"colorbar\":{\"outlinewidth\":0,\"ticks\":\"\"}},\"marker\":{\"colorbar\":{\"outlinewidth\":0,\"ticks\":\"\"}},\"type\":\"scatter3d\"}],\"scattercarpet\":[{\"marker\":{\"colorbar\":{\"outlinewidth\":0,\"ticks\":\"\"}},\"type\":\"scattercarpet\"}],\"scattergeo\":[{\"marker\":{\"colorbar\":{\"outlinewidth\":0,\"ticks\":\"\"}},\"type\":\"scattergeo\"}],\"scattergl\":[{\"marker\":{\"colorbar\":{\"outlinewidth\":0,\"ticks\":\"\"}},\"type\":\"scattergl\"}],\"scattermapbox\":[{\"marker\":{\"colorbar\":{\"outlinewidth\":0,\"ticks\":\"\"}},\"type\":\"scattermapbox\"}],\"scatterpolar\":[{\"marker\":{\"colorbar\":{\"outlinewidth\":0,\"ticks\":\"\"}},\"type\":\"scatterpolar\"}],\"scatterpolargl\":[{\"marker\":{\"colorbar\":{\"outlinewidth\":0,\"ticks\":\"\"}},\"type\":\"scatterpolargl\"}],\"scatterternary\":[{\"marker\":{\"colorbar\":{\"outlinewidth\":0,\"ticks\":\"\"}},\"type\":\"scatterternary\"}],\"surface\":[{\"colorbar\":{\"outlinewidth\":0,\"ticks\":\"\"},\"colorscale\":[[0.0,\"#0d0887\"],[0.1111111111111111,\"#46039f\"],[0.2222222222222222,\"#7201a8\"],[0.3333333333333333,\"#9c179e\"],[0.4444444444444444,\"#bd3786\"],[0.5555555555555556,\"#d8576b\"],[0.6666666666666666,\"#ed7953\"],[0.7777777777777778,\"#fb9f3a\"],[0.8888888888888888,\"#fdca26\"],[1.0,\"#f0f921\"]],\"type\":\"surface\"}],\"table\":[{\"cells\":{\"fill\":{\"color\":\"#EBF0F8\"},\"line\":{\"color\":\"white\"}},\"header\":{\"fill\":{\"color\":\"#C8D4E3\"},\"line\":{\"color\":\"white\"}},\"type\":\"table\"}]},\"layout\":{\"annotationdefaults\":{\"arrowcolor\":\"#2a3f5f\",\"arrowhead\":0,\"arrowwidth\":1},\"autotypenumbers\":\"strict\",\"coloraxis\":{\"colorbar\":{\"outlinewidth\":0,\"ticks\":\"\"}},\"colorscale\":{\"diverging\":[[0,\"#8e0152\"],[0.1,\"#c51b7d\"],[0.2,\"#de77ae\"],[0.3,\"#f1b6da\"],[0.4,\"#fde0ef\"],[0.5,\"#f7f7f7\"],[0.6,\"#e6f5d0\"],[0.7,\"#b8e186\"],[0.8,\"#7fbc41\"],[0.9,\"#4d9221\"],[1,\"#276419\"]],\"sequential\":[[0.0,\"#0d0887\"],[0.1111111111111111,\"#46039f\"],[0.2222222222222222,\"#7201a8\"],[0.3333333333333333,\"#9c179e\"],[0.4444444444444444,\"#bd3786\"],[0.5555555555555556,\"#d8576b\"],[0.6666666666666666,\"#ed7953\"],[0.7777777777777778,\"#fb9f3a\"],[0.8888888888888888,\"#fdca26\"],[1.0,\"#f0f921\"]],\"sequentialminus\":[[0.0,\"#0d0887\"],[0.1111111111111111,\"#46039f\"],[0.2222222222222222,\"#7201a8\"],[0.3333333333333333,\"#9c179e\"],[0.4444444444444444,\"#bd3786\"],[0.5555555555555556,\"#d8576b\"],[0.6666666666666666,\"#ed7953\"],[0.7777777777777778,\"#fb9f3a\"],[0.8888888888888888,\"#fdca26\"],[1.0,\"#f0f921\"]]},\"colorway\":[\"#636efa\",\"#EF553B\",\"#00cc96\",\"#ab63fa\",\"#FFA15A\",\"#19d3f3\",\"#FF6692\",\"#B6E880\",\"#FF97FF\",\"#FECB52\"],\"font\":{\"color\":\"#2a3f5f\"},\"geo\":{\"bgcolor\":\"white\",\"lakecolor\":\"white\",\"landcolor\":\"#E5ECF6\",\"showlakes\":true,\"showland\":true,\"subunitcolor\":\"white\"},\"hoverlabel\":{\"align\":\"left\"},\"hovermode\":\"closest\",\"mapbox\":{\"style\":\"light\"},\"paper_bgcolor\":\"white\",\"plot_bgcolor\":\"#E5ECF6\",\"polar\":{\"angularaxis\":{\"gridcolor\":\"white\",\"linecolor\":\"white\",\"ticks\":\"\"},\"bgcolor\":\"#E5ECF6\",\"radialaxis\":{\"gridcolor\":\"white\",\"linecolor\":\"white\",\"ticks\":\"\"}},\"scene\":{\"xaxis\":{\"backgroundcolor\":\"#E5ECF6\",\"gridcolor\":\"white\",\"gridwidth\":2,\"linecolor\":\"white\",\"showbackground\":true,\"ticks\":\"\",\"zerolinecolor\":\"white\"},\"yaxis\":{\"backgroundcolor\":\"#E5ECF6\",\"gridcolor\":\"white\",\"gridwidth\":2,\"linecolor\":\"white\",\"showbackground\":true,\"ticks\":\"\",\"zerolinecolor\":\"white\"},\"zaxis\":{\"backgroundcolor\":\"#E5ECF6\",\"gridcolor\":\"white\",\"gridwidth\":2,\"linecolor\":\"white\",\"showbackground\":true,\"ticks\":\"\",\"zerolinecolor\":\"white\"}},\"shapedefaults\":{\"line\":{\"color\":\"#2a3f5f\"}},\"ternary\":{\"aaxis\":{\"gridcolor\":\"white\",\"linecolor\":\"white\",\"ticks\":\"\"},\"baxis\":{\"gridcolor\":\"white\",\"linecolor\":\"white\",\"ticks\":\"\"},\"bgcolor\":\"#E5ECF6\",\"caxis\":{\"gridcolor\":\"white\",\"linecolor\":\"white\",\"ticks\":\"\"}},\"title\":{\"x\":0.05},\"xaxis\":{\"automargin\":true,\"gridcolor\":\"white\",\"linecolor\":\"white\",\"ticks\":\"\",\"title\":{\"standoff\":15},\"zerolinecolor\":\"white\",\"zerolinewidth\":2},\"yaxis\":{\"automargin\":true,\"gridcolor\":\"white\",\"linecolor\":\"white\",\"ticks\":\"\",\"title\":{\"standoff\":15},\"zerolinecolor\":\"white\",\"zerolinewidth\":2}}},\"xaxis\":{\"title\":{\"text\":\"tot_coll_amt\"}},\"yaxis\":{\"title\":{\"text\":\"value\"}}},                        {\"responsive\": true}                    ).then(function(){\n",
              "                            \n",
              "var gd = document.getElementById('7dde3a13-c859-461c-9240-4b236b4acecb');\n",
              "var x = new MutationObserver(function (mutations, observer) {{\n",
              "        var display = window.getComputedStyle(gd).display;\n",
              "        if (!display || display === 'none') {{\n",
              "            console.log([gd, 'removed!']);\n",
              "            Plotly.purge(gd);\n",
              "            observer.disconnect();\n",
              "        }}\n",
              "}});\n",
              "\n",
              "// Listen for the removal of the full notebook cells\n",
              "var notebookContainer = gd.closest('#notebook-container');\n",
              "if (notebookContainer) {{\n",
              "    x.observe(notebookContainer, {childList: true});\n",
              "}}\n",
              "\n",
              "// Listen for the clearing of the current output cell\n",
              "var outputEl = gd.closest('.output');\n",
              "if (outputEl) {{\n",
              "    x.observe(outputEl, {childList: true});\n",
              "}}\n",
              "\n",
              "                        })                };                            </script>        </div>\n",
              "</body>\n",
              "</html>"
            ]
          },
          "metadata": {}
        }
      ]
    },
    {
      "cell_type": "code",
      "source": [
        "testing['tot_cur_bal'].plot.box()"
      ],
      "metadata": {
        "colab": {
          "base_uri": "https://localhost:8080/",
          "height": 542
        },
        "id": "nehsih4NhUyb",
        "outputId": "bde93702-2cf0-4a8c-cd56-936b2348cec6"
      },
      "execution_count": null,
      "outputs": [
        {
          "output_type": "display_data",
          "data": {
            "text/html": [
              "<html>\n",
              "<head><meta charset=\"utf-8\" /></head>\n",
              "<body>\n",
              "    <div>            <script src=\"https://cdnjs.cloudflare.com/ajax/libs/mathjax/2.7.5/MathJax.js?config=TeX-AMS-MML_SVG\"></script><script type=\"text/javascript\">if (window.MathJax) {MathJax.Hub.Config({SVG: {font: \"STIX-Web\"}});}</script>                <script type=\"text/javascript\">window.PlotlyConfig = {MathJaxConfig: 'local'};</script>\n",
              "        <script src=\"https://cdn.plot.ly/plotly-2.8.3.min.js\"></script>                <div id=\"5a00bc7e-feca-42a9-9b0d-e88379caa10d\" class=\"plotly-graph-div\" style=\"height:525px; width:100%;\"></div>            <script type=\"text/javascript\">                                    window.PLOTLYENV=window.PLOTLYENV || {};                                    if (document.getElementById(\"5a00bc7e-feca-42a9-9b0d-e88379caa10d\")) {                    Plotly.newPlot(                        \"5a00bc7e-feca-42a9-9b0d-e88379caa10d\",                        [{\"boxpoints\":\"suspectedoutliers\",\"lowerfence\":[0.0],\"mean\":[135156.3682834683],\"median\":[80966.0],\"name\":\"tot_cur_bal\",\"notched\":false,\"q1\":[31898.0],\"q3\":[192729.0],\"upperfence\":[433972.0],\"y\":[[433976.0,433976.0,433981.0,433981.0,433985.0,433992.0,433997.0,434007.0,434008.0,434012.0,434020.0,434024.0,434038.0,434041.0,434044.0,434048.0,434050.0,434053.0,434055.0,434055.0,434057.0,434064.0,434064.0,434064.0,434066.0,434068.0,434070.0,434077.0,434088.0,434088.0,434089.0,434091.0,434093.0,434099.0,434099.0,434100.0,434108.0,434109.0,434109.0,434115.0,434115.0,434115.0,434116.0,434121.0,434123.0,434124.0,434130.0,434135.0,434139.0,434147.0,434151.0,434154.0,434167.0,434180.0,434182.0,434190.0,434190.0,434191.0,434192.0,434198.0,434202.0,434211.0,434212.0,434214.0,434216.0,434217.0,434218.0,434223.0,434236.0,434238.0,434241.0,434242.0,434245.0,434255.0,434256.0,434257.0,434272.0,434275.0,434293.0,434302.0,434303.0,434312.0,434314.0,434316.0,434318.0,434319.0,434327.0,434330.0,434334.0,434334.0,434341.0,434346.0,434347.0,434347.0,434348.0,434350.0,434353.0,434355.0,434360.0,434360.0,434367.0,434367.0,434375.0,434379.0,434381.0,434385.0,434388.0,434389.0,434393.0,434398.0,434400.0,434403.0,434404.0,434404.0,434406.0,434408.0,434408.0,434409.0,434410.0,434416.0,434422.0,434429.0,434430.0,434433.0,434433.0,434434.0,434437.0,434441.0,434442.0,434445.0,434445.0,434456.0,434456.0,434457.0,434459.0,434462.0,434470.0,434471.0,434472.0,434477.0,434479.0,434482.0,434484.0,434484.0,434487.0,434492.0,434492.0,434493.0,434497.0,434498.0,434502.0,434504.0,434505.0,434509.0,434513.0,434514.0,434518.0,434519.0,434522.0,434522.0,434526.0,434532.0,434543.0,434544.0,434549.0,434555.0,434558.0,434560.0,434563.0,434569.0,434572.0,434573.0,434574.0,434583.0,434585.0,434596.0,434596.0,434597.0,434597.0,434599.0,434601.0,434605.0,434606.0,434607.0,434607.0,434608.0,434618.0,434620.0,434621.0,434623.0,434628.0,434629.0,434631.0,434632.0,434635.0,434643.0,434645.0,434646.0,434649.0,434650.0,434653.0,434658.0,434666.0,434670.0,434673.0,434674.0,434677.0,434682.0,434683.0,434687.0,434698.0,434699.0,434707.0,434709.0,434721.0,434722.0,434725.0,434725.0,434728.0,434729.0,434733.0,434735.0,434736.0,434761.0,434764.0,434778.0,434779.0,434779.0,434781.0,434792.0,434793.0,434805.0,434805.0,434806.0,434813.0,434816.0,434819.0,434820.0,434821.0,434831.0,434831.0,434833.0,434834.0,434844.0,434844.0,434847.0,434850.0,434850.0,434862.0,434862.0,434865.0,434869.0,434879.0,434883.0,434884.0,434888.0,434901.0,434902.0,434904.0,434905.0,434913.0,434916.0,434916.0,434916.0,434917.0,434927.0,434928.0,434930.0,434934.0,434934.0,434936.0,434936.0,434937.0,434947.0,434947.0,434947.0,434949.0,434950.0,434952.0,434955.0,434956.0,434964.0,434964.0,434967.0,434969.0,434972.0,434973.0,434974.0,434976.0,434977.0,434979.0,434997.0,434998.0,434999.0,435005.0,435005.0,435010.0,435012.0,435013.0,435014.0,435016.0,435018.0,435019.0,435024.0,435028.0,435032.0,435048.0,435049.0,435050.0,435056.0,435061.0,435063.0,435065.0,435068.0,435071.0,435075.0,435080.0,435082.0,435083.0,435084.0,435087.0,435092.0,435094.0,435094.0,435104.0,435109.0,435110.0,435112.0,435114.0,435116.0,435123.0,435125.0,435128.0,435136.0,435139.0,435147.0,435154.0,435159.0,435168.0,435181.0,435184.0,435199.0,435204.0,435205.0,435206.0,435208.0,435218.0,435219.0,435222.0,435222.0,435223.0,435224.0,435227.0,435228.0,435234.0,435238.0,435240.0,435242.0,435243.0,435245.0,435254.0,435256.0,435263.0,435266.0,435266.0,435271.0,435273.0,435274.0,435274.0,435282.0,435290.0,435303.0,435305.0,435308.0,435309.0,435311.0,435326.0,435328.0,435333.0,435334.0,435336.0,435336.0,435338.0,435343.0,435358.0,435359.0,435360.0,435365.0,435366.0,435369.0,435373.0,435377.0,435377.0,435383.0,435385.0,435387.0,435391.0,435393.0,435393.0,435400.0,435404.0,435408.0,435412.0,435413.0,435417.0,435418.0,435423.0,435423.0,435423.0,435435.0,435447.0,435450.0,435451.0,435457.0,435460.0,435467.0,435468.0,435469.0,435472.0,435472.0,435473.0,435490.0,435497.0,435501.0,435504.0,435507.0,435508.0,435514.0,435517.0,435525.0,435532.0,435541.0,435543.0,435548.0,435550.0,435551.0,435555.0,435556.0,435563.0,435577.0,435590.0,435596.0,435602.0,435608.0,435620.0,435620.0,435622.0,435630.0,435631.0,435632.0,435638.0,435639.0,435639.0,435640.0,435640.0,435643.0,435644.0,435646.0,435648.0,435648.0,435650.0,435656.0,435656.0,435659.0,435660.0,435662.0,435667.0,435669.0,435672.0,435672.0,435676.0,435678.0,435678.0,435691.0,435694.0,435707.0,435710.0,435711.0,435711.0,435714.0,435714.0,435717.0,435718.0,435718.0,435729.0,435733.0,435736.0,435738.0,435739.0,435739.0,435743.0,435747.0,435753.0,435757.0,435761.0,435762.0,435764.0,435772.0,435776.0,435776.0,435780.0,435787.0,435798.0,435799.0,435804.0,435813.0,435815.0,435817.0,435817.0,435832.0,435839.0,435843.0,435854.0,435857.0,435858.0,435859.0,435861.0,435862.0,435882.0,435886.0,435887.0,435890.0,435897.0,435898.0,435901.0,435906.0,435917.0,435917.0,435932.0,435936.0,435942.0,435944.0,435944.0,435950.0,435966.0,435966.0,435971.0,435978.0,435981.0,435997.0,436010.0,436010.0,436011.0,436013.0,436013.0,436014.0,436014.0,436023.0,436025.0,436030.0,436039.0,436043.0,436046.0,436050.0,436059.0,436060.0,436065.0,436066.0,436074.0,436076.0,436078.0,436082.0,436087.0,436090.0,436091.0,436094.0,436094.0,436105.0,436113.0,436114.0,436118.0,436119.0,436127.0,436129.0,436132.0,436133.0,436135.0,436139.0,436140.0,436143.0,436144.0,436148.0,436150.0,436155.0,436156.0,436157.0,436160.0,436161.0,436164.0,436168.0,436171.0,436172.0,436176.0,436178.0,436179.0,436181.0,436186.0,436188.0,436191.0,436193.0,436193.0,436194.0,436201.0,436226.0,436230.0,436232.0,436247.0,436248.0,436255.0,436257.0,436264.0,436266.0,436268.0,436274.0,436283.0,436288.0,436295.0,436297.0,436311.0,436312.0,436317.0,436320.0,436320.0,436325.0,436330.0,436335.0,436335.0,436337.0,436337.0,436345.0,436347.0,436359.0,436362.0,436368.0,436370.0,436371.0,436371.0,436371.0,436386.0,436391.0,436396.0,436402.0,436406.0,436414.0,436417.0,436418.0,436430.0,436430.0,436431.0,436433.0,436436.0,436439.0,436443.0,436445.0,436447.0,436447.0,436458.0,436463.0,436469.0,436473.0,436474.0,436477.0,436478.0,436478.0,436482.0,436486.0,436490.0,436493.0,436496.0,436497.0,436497.0,436497.0,436503.0,436510.0,436514.0,436536.0,436538.0,436539.0,436542.0,436546.0,436547.0,436554.0,436559.0,436561.0,436564.0,436568.0,436569.0,436569.0,436571.0,436571.0,436571.0,436581.0,436585.0,436585.0,436589.0,436590.0,436590.0,436590.0,436591.0,436592.0,436594.0,436595.0,436599.0,436604.0,436607.0,436613.0,436616.0,436619.0,436627.0,436633.0,436640.0,436640.0,436642.0,436645.0,436646.0,436647.0,436652.0,436659.0,436663.0,436667.0,436668.0,436668.0,436669.0,436670.0,436673.0,436674.0,436674.0,436681.0,436685.0,436687.0,436689.0,436698.0,436698.0,436703.0,436713.0,436718.0,436722.0,436724.0,436725.0,436733.0,436734.0,436740.0,436740.0,436741.0,436742.0,436745.0,436747.0,436751.0,436761.0,436766.0,436770.0,436770.0,436779.0,436781.0,436781.0,436782.0,436782.0,436789.0,436798.0,436802.0,436805.0,436805.0,436807.0,436808.0,436814.0,436815.0,436816.0,436818.0,436825.0,436834.0,436847.0,436853.0,436856.0,436858.0,436861.0,436869.0,436873.0,436873.0,436874.0,436876.0,436877.0,436878.0,436881.0,436881.0,436884.0,436887.0,436888.0,436891.0,436891.0,436901.0,436908.0,436908.0,436909.0,436910.0,436916.0,436918.0,436928.0,436928.0,436930.0,436930.0,436939.0,436940.0,436940.0,436942.0,436946.0,436955.0,436963.0,436966.0,436968.0,436968.0,436970.0,436972.0,436974.0,436976.0,436977.0,436986.0,436995.0,436995.0,437009.0,437010.0,437013.0,437021.0,437028.0,437030.0,437030.0,437037.0,437045.0,437048.0,437055.0,437056.0,437059.0,437060.0,437062.0,437063.0,437081.0,437082.0,437082.0,437093.0,437099.0,437116.0,437117.0,437117.0,437118.0,437118.0,437123.0,437126.0,437128.0,437129.0,437149.0,437149.0,437149.0,437156.0,437157.0,437161.0,437161.0,437167.0,437168.0,437168.0,437169.0,437171.0,437173.0,437175.0,437175.0,437177.0,437186.0,437188.0,437189.0,437196.0,437200.0,437202.0,437208.0,437212.0,437214.0,437215.0,437217.0,437227.0,437232.0,437240.0,437241.0,437242.0,437250.0,437251.0,437252.0,437260.0,437262.0,437266.0,437271.0,437274.0,437275.0,437276.0,437277.0,437280.0,437284.0,437287.0,437295.0,437297.0,437298.0,437299.0,437310.0,437310.0,437311.0,437316.0,437323.0,437323.0,437324.0,437325.0,437331.0,437333.0,437335.0,437347.0,437357.0,437359.0,437362.0,437378.0,437380.0,437382.0,437388.0,437394.0,437396.0,437396.0,437397.0,437401.0,437404.0,437404.0,437406.0,437407.0,437409.0,437410.0,437414.0,437416.0,437419.0,437421.0,437423.0,437428.0,437432.0,437432.0,437433.0,437434.0,437434.0,437435.0,437441.0,437444.0,437449.0,437451.0,437456.0,437459.0,437461.0,437465.0,437470.0,437472.0,437473.0,437475.0,437484.0,437487.0,437489.0,437494.0,437505.0,437508.0,437519.0,437529.0,437529.0,437532.0,437540.0,437548.0,437548.0,437552.0,437554.0,437561.0,437564.0,437565.0,437566.0,437577.0,437577.0,437585.0,437586.0,437589.0,437590.0,437594.0,437597.0,437600.0,437605.0,437605.0,437606.0,437608.0,437614.0,437617.0,437619.0,437622.0,437630.0,437634.0,437635.0,437639.0,437639.0,437640.0,437642.0,437649.0,437660.0,437663.0,437668.0,437670.0,437675.0]],\"type\":\"box\"}],                        {\"template\":{\"data\":{\"bar\":[{\"error_x\":{\"color\":\"#2a3f5f\"},\"error_y\":{\"color\":\"#2a3f5f\"},\"marker\":{\"line\":{\"color\":\"#E5ECF6\",\"width\":0.5},\"pattern\":{\"fillmode\":\"overlay\",\"size\":10,\"solidity\":0.2}},\"type\":\"bar\"}],\"barpolar\":[{\"marker\":{\"line\":{\"color\":\"#E5ECF6\",\"width\":0.5},\"pattern\":{\"fillmode\":\"overlay\",\"size\":10,\"solidity\":0.2}},\"type\":\"barpolar\"}],\"carpet\":[{\"aaxis\":{\"endlinecolor\":\"#2a3f5f\",\"gridcolor\":\"white\",\"linecolor\":\"white\",\"minorgridcolor\":\"white\",\"startlinecolor\":\"#2a3f5f\"},\"baxis\":{\"endlinecolor\":\"#2a3f5f\",\"gridcolor\":\"white\",\"linecolor\":\"white\",\"minorgridcolor\":\"white\",\"startlinecolor\":\"#2a3f5f\"},\"type\":\"carpet\"}],\"choropleth\":[{\"colorbar\":{\"outlinewidth\":0,\"ticks\":\"\"},\"type\":\"choropleth\"}],\"contour\":[{\"colorbar\":{\"outlinewidth\":0,\"ticks\":\"\"},\"colorscale\":[[0.0,\"#0d0887\"],[0.1111111111111111,\"#46039f\"],[0.2222222222222222,\"#7201a8\"],[0.3333333333333333,\"#9c179e\"],[0.4444444444444444,\"#bd3786\"],[0.5555555555555556,\"#d8576b\"],[0.6666666666666666,\"#ed7953\"],[0.7777777777777778,\"#fb9f3a\"],[0.8888888888888888,\"#fdca26\"],[1.0,\"#f0f921\"]],\"type\":\"contour\"}],\"contourcarpet\":[{\"colorbar\":{\"outlinewidth\":0,\"ticks\":\"\"},\"type\":\"contourcarpet\"}],\"heatmap\":[{\"colorbar\":{\"outlinewidth\":0,\"ticks\":\"\"},\"colorscale\":[[0.0,\"#0d0887\"],[0.1111111111111111,\"#46039f\"],[0.2222222222222222,\"#7201a8\"],[0.3333333333333333,\"#9c179e\"],[0.4444444444444444,\"#bd3786\"],[0.5555555555555556,\"#d8576b\"],[0.6666666666666666,\"#ed7953\"],[0.7777777777777778,\"#fb9f3a\"],[0.8888888888888888,\"#fdca26\"],[1.0,\"#f0f921\"]],\"type\":\"heatmap\"}],\"heatmapgl\":[{\"colorbar\":{\"outlinewidth\":0,\"ticks\":\"\"},\"colorscale\":[[0.0,\"#0d0887\"],[0.1111111111111111,\"#46039f\"],[0.2222222222222222,\"#7201a8\"],[0.3333333333333333,\"#9c179e\"],[0.4444444444444444,\"#bd3786\"],[0.5555555555555556,\"#d8576b\"],[0.6666666666666666,\"#ed7953\"],[0.7777777777777778,\"#fb9f3a\"],[0.8888888888888888,\"#fdca26\"],[1.0,\"#f0f921\"]],\"type\":\"heatmapgl\"}],\"histogram\":[{\"marker\":{\"pattern\":{\"fillmode\":\"overlay\",\"size\":10,\"solidity\":0.2}},\"type\":\"histogram\"}],\"histogram2d\":[{\"colorbar\":{\"outlinewidth\":0,\"ticks\":\"\"},\"colorscale\":[[0.0,\"#0d0887\"],[0.1111111111111111,\"#46039f\"],[0.2222222222222222,\"#7201a8\"],[0.3333333333333333,\"#9c179e\"],[0.4444444444444444,\"#bd3786\"],[0.5555555555555556,\"#d8576b\"],[0.6666666666666666,\"#ed7953\"],[0.7777777777777778,\"#fb9f3a\"],[0.8888888888888888,\"#fdca26\"],[1.0,\"#f0f921\"]],\"type\":\"histogram2d\"}],\"histogram2dcontour\":[{\"colorbar\":{\"outlinewidth\":0,\"ticks\":\"\"},\"colorscale\":[[0.0,\"#0d0887\"],[0.1111111111111111,\"#46039f\"],[0.2222222222222222,\"#7201a8\"],[0.3333333333333333,\"#9c179e\"],[0.4444444444444444,\"#bd3786\"],[0.5555555555555556,\"#d8576b\"],[0.6666666666666666,\"#ed7953\"],[0.7777777777777778,\"#fb9f3a\"],[0.8888888888888888,\"#fdca26\"],[1.0,\"#f0f921\"]],\"type\":\"histogram2dcontour\"}],\"mesh3d\":[{\"colorbar\":{\"outlinewidth\":0,\"ticks\":\"\"},\"type\":\"mesh3d\"}],\"parcoords\":[{\"line\":{\"colorbar\":{\"outlinewidth\":0,\"ticks\":\"\"}},\"type\":\"parcoords\"}],\"pie\":[{\"automargin\":true,\"type\":\"pie\"}],\"scatter\":[{\"marker\":{\"colorbar\":{\"outlinewidth\":0,\"ticks\":\"\"}},\"type\":\"scatter\"}],\"scatter3d\":[{\"line\":{\"colorbar\":{\"outlinewidth\":0,\"ticks\":\"\"}},\"marker\":{\"colorbar\":{\"outlinewidth\":0,\"ticks\":\"\"}},\"type\":\"scatter3d\"}],\"scattercarpet\":[{\"marker\":{\"colorbar\":{\"outlinewidth\":0,\"ticks\":\"\"}},\"type\":\"scattercarpet\"}],\"scattergeo\":[{\"marker\":{\"colorbar\":{\"outlinewidth\":0,\"ticks\":\"\"}},\"type\":\"scattergeo\"}],\"scattergl\":[{\"marker\":{\"colorbar\":{\"outlinewidth\":0,\"ticks\":\"\"}},\"type\":\"scattergl\"}],\"scattermapbox\":[{\"marker\":{\"colorbar\":{\"outlinewidth\":0,\"ticks\":\"\"}},\"type\":\"scattermapbox\"}],\"scatterpolar\":[{\"marker\":{\"colorbar\":{\"outlinewidth\":0,\"ticks\":\"\"}},\"type\":\"scatterpolar\"}],\"scatterpolargl\":[{\"marker\":{\"colorbar\":{\"outlinewidth\":0,\"ticks\":\"\"}},\"type\":\"scatterpolargl\"}],\"scatterternary\":[{\"marker\":{\"colorbar\":{\"outlinewidth\":0,\"ticks\":\"\"}},\"type\":\"scatterternary\"}],\"surface\":[{\"colorbar\":{\"outlinewidth\":0,\"ticks\":\"\"},\"colorscale\":[[0.0,\"#0d0887\"],[0.1111111111111111,\"#46039f\"],[0.2222222222222222,\"#7201a8\"],[0.3333333333333333,\"#9c179e\"],[0.4444444444444444,\"#bd3786\"],[0.5555555555555556,\"#d8576b\"],[0.6666666666666666,\"#ed7953\"],[0.7777777777777778,\"#fb9f3a\"],[0.8888888888888888,\"#fdca26\"],[1.0,\"#f0f921\"]],\"type\":\"surface\"}],\"table\":[{\"cells\":{\"fill\":{\"color\":\"#EBF0F8\"},\"line\":{\"color\":\"white\"}},\"header\":{\"fill\":{\"color\":\"#C8D4E3\"},\"line\":{\"color\":\"white\"}},\"type\":\"table\"}]},\"layout\":{\"annotationdefaults\":{\"arrowcolor\":\"#2a3f5f\",\"arrowhead\":0,\"arrowwidth\":1},\"autotypenumbers\":\"strict\",\"coloraxis\":{\"colorbar\":{\"outlinewidth\":0,\"ticks\":\"\"}},\"colorscale\":{\"diverging\":[[0,\"#8e0152\"],[0.1,\"#c51b7d\"],[0.2,\"#de77ae\"],[0.3,\"#f1b6da\"],[0.4,\"#fde0ef\"],[0.5,\"#f7f7f7\"],[0.6,\"#e6f5d0\"],[0.7,\"#b8e186\"],[0.8,\"#7fbc41\"],[0.9,\"#4d9221\"],[1,\"#276419\"]],\"sequential\":[[0.0,\"#0d0887\"],[0.1111111111111111,\"#46039f\"],[0.2222222222222222,\"#7201a8\"],[0.3333333333333333,\"#9c179e\"],[0.4444444444444444,\"#bd3786\"],[0.5555555555555556,\"#d8576b\"],[0.6666666666666666,\"#ed7953\"],[0.7777777777777778,\"#fb9f3a\"],[0.8888888888888888,\"#fdca26\"],[1.0,\"#f0f921\"]],\"sequentialminus\":[[0.0,\"#0d0887\"],[0.1111111111111111,\"#46039f\"],[0.2222222222222222,\"#7201a8\"],[0.3333333333333333,\"#9c179e\"],[0.4444444444444444,\"#bd3786\"],[0.5555555555555556,\"#d8576b\"],[0.6666666666666666,\"#ed7953\"],[0.7777777777777778,\"#fb9f3a\"],[0.8888888888888888,\"#fdca26\"],[1.0,\"#f0f921\"]]},\"colorway\":[\"#636efa\",\"#EF553B\",\"#00cc96\",\"#ab63fa\",\"#FFA15A\",\"#19d3f3\",\"#FF6692\",\"#B6E880\",\"#FF97FF\",\"#FECB52\"],\"font\":{\"color\":\"#2a3f5f\"},\"geo\":{\"bgcolor\":\"white\",\"lakecolor\":\"white\",\"landcolor\":\"#E5ECF6\",\"showlakes\":true,\"showland\":true,\"subunitcolor\":\"white\"},\"hoverlabel\":{\"align\":\"left\"},\"hovermode\":\"closest\",\"mapbox\":{\"style\":\"light\"},\"paper_bgcolor\":\"white\",\"plot_bgcolor\":\"#E5ECF6\",\"polar\":{\"angularaxis\":{\"gridcolor\":\"white\",\"linecolor\":\"white\",\"ticks\":\"\"},\"bgcolor\":\"#E5ECF6\",\"radialaxis\":{\"gridcolor\":\"white\",\"linecolor\":\"white\",\"ticks\":\"\"}},\"scene\":{\"xaxis\":{\"backgroundcolor\":\"#E5ECF6\",\"gridcolor\":\"white\",\"gridwidth\":2,\"linecolor\":\"white\",\"showbackground\":true,\"ticks\":\"\",\"zerolinecolor\":\"white\"},\"yaxis\":{\"backgroundcolor\":\"#E5ECF6\",\"gridcolor\":\"white\",\"gridwidth\":2,\"linecolor\":\"white\",\"showbackground\":true,\"ticks\":\"\",\"zerolinecolor\":\"white\"},\"zaxis\":{\"backgroundcolor\":\"#E5ECF6\",\"gridcolor\":\"white\",\"gridwidth\":2,\"linecolor\":\"white\",\"showbackground\":true,\"ticks\":\"\",\"zerolinecolor\":\"white\"}},\"shapedefaults\":{\"line\":{\"color\":\"#2a3f5f\"}},\"ternary\":{\"aaxis\":{\"gridcolor\":\"white\",\"linecolor\":\"white\",\"ticks\":\"\"},\"baxis\":{\"gridcolor\":\"white\",\"linecolor\":\"white\",\"ticks\":\"\"},\"bgcolor\":\"#E5ECF6\",\"caxis\":{\"gridcolor\":\"white\",\"linecolor\":\"white\",\"ticks\":\"\"}},\"title\":{\"x\":0.05},\"xaxis\":{\"automargin\":true,\"gridcolor\":\"white\",\"linecolor\":\"white\",\"ticks\":\"\",\"title\":{\"standoff\":15},\"zerolinecolor\":\"white\",\"zerolinewidth\":2},\"yaxis\":{\"automargin\":true,\"gridcolor\":\"white\",\"linecolor\":\"white\",\"ticks\":\"\",\"title\":{\"standoff\":15},\"zerolinecolor\":\"white\",\"zerolinewidth\":2}}},\"xaxis\":{\"title\":{\"text\":\"tot_cur_bal\"}},\"yaxis\":{\"title\":{\"text\":\"value\"}}},                        {\"responsive\": true}                    ).then(function(){\n",
              "                            \n",
              "var gd = document.getElementById('5a00bc7e-feca-42a9-9b0d-e88379caa10d');\n",
              "var x = new MutationObserver(function (mutations, observer) {{\n",
              "        var display = window.getComputedStyle(gd).display;\n",
              "        if (!display || display === 'none') {{\n",
              "            console.log([gd, 'removed!']);\n",
              "            Plotly.purge(gd);\n",
              "            observer.disconnect();\n",
              "        }}\n",
              "}});\n",
              "\n",
              "// Listen for the removal of the full notebook cells\n",
              "var notebookContainer = gd.closest('#notebook-container');\n",
              "if (notebookContainer) {{\n",
              "    x.observe(notebookContainer, {childList: true});\n",
              "}}\n",
              "\n",
              "// Listen for the clearing of the current output cell\n",
              "var outputEl = gd.closest('.output');\n",
              "if (outputEl) {{\n",
              "    x.observe(outputEl, {childList: true});\n",
              "}}\n",
              "\n",
              "                        })                };                            </script>        </div>\n",
              "</body>\n",
              "</html>"
            ]
          },
          "metadata": {}
        }
      ]
    },
    {
      "cell_type": "code",
      "source": [
        "testing['total_rev_hi_lim'].plot.box()"
      ],
      "metadata": {
        "colab": {
          "base_uri": "https://localhost:8080/",
          "height": 542
        },
        "id": "eJdqlUS5hXFH",
        "outputId": "e96da7c1-c396-451a-a893-58fd066f91d7"
      },
      "execution_count": null,
      "outputs": [
        {
          "output_type": "display_data",
          "data": {
            "text/html": [
              "<html>\n",
              "<head><meta charset=\"utf-8\" /></head>\n",
              "<body>\n",
              "    <div>            <script src=\"https://cdnjs.cloudflare.com/ajax/libs/mathjax/2.7.5/MathJax.js?config=TeX-AMS-MML_SVG\"></script><script type=\"text/javascript\">if (window.MathJax) {MathJax.Hub.Config({SVG: {font: \"STIX-Web\"}});}</script>                <script type=\"text/javascript\">window.PlotlyConfig = {MathJaxConfig: 'local'};</script>\n",
              "        <script src=\"https://cdn.plot.ly/plotly-2.8.3.min.js\"></script>                <div id=\"7dad4287-4bb8-4d03-ad40-ed7eec6d8afa\" class=\"plotly-graph-div\" style=\"height:525px; width:100%;\"></div>            <script type=\"text/javascript\">                                    window.PLOTLYENV=window.PLOTLYENV || {};                                    if (document.getElementById(\"7dad4287-4bb8-4d03-ad40-ed7eec6d8afa\")) {                    Plotly.newPlot(                        \"7dad4287-4bb8-4d03-ad40-ed7eec6d8afa\",                        [{\"boxpoints\":\"suspectedoutliers\",\"lowerfence\":[0.0],\"mean\":[31507.91643168568],\"median\":[23800.0],\"name\":\"total_rev_hi_lim\",\"notched\":false,\"q1\":[14600.0],\"q3\":[37500.0],\"upperfence\":[71850.0],\"y\":[[71856.0,71872.0,71887.0,71896.0,71900.0,71900.0,71900.0,71900.0,71900.0,71900.0,71900.0,71900.0,71900.0,71900.0,71900.0,71900.0,71900.0,71900.0,71900.0,71900.0,71900.0,71900.0,71900.0,71900.0,71900.0,71900.0,71900.0,71900.0,71900.0,71900.0,71900.0,71900.0,71900.0,71900.0,71900.0,71900.0,71900.0,71900.0,71900.0,71900.0,71900.0,71900.0,71900.0,71900.0,71900.0,71900.0,71900.0,71900.0,71900.0,71900.0,71900.0,71900.0,71900.0,71900.0,71900.0,71900.0,71900.0,71900.0,71900.0,71900.0,71900.0,71900.0,71900.0,71900.0,71900.0,71900.0,71900.0,71900.0,71900.0,71900.0,71900.0,71900.0,71900.0,71900.0,71900.0,71900.0,71900.0,71900.0,71900.0,71900.0,71900.0,71900.0,71900.0,71900.0,71900.0,71900.0,71900.0,71900.0,71900.0,71900.0,71900.0,71900.0,71900.0,71900.0,71900.0,71900.0,71900.0,71900.0,71900.0,71900.0,71900.0,71900.0,71900.0,71900.0,71900.0,71900.0,71900.0,71900.0,71900.0,71900.0,71900.0,71900.0,71900.0,71900.0,71900.0,71900.0,71900.0,71900.0,71900.0,71900.0,71900.0,71900.0,71900.0,71900.0,71900.0,71900.0,71900.0,71900.0,71900.0,71900.0,71900.0,71900.0,71900.0,71900.0,71900.0,71900.0,71900.0,71900.0,71900.0,71900.0,71900.0,71900.0,71900.0,71900.0,71900.0,71900.0,71900.0,71900.0,71900.0,71900.0,71900.0,71900.0,71900.0,71900.0,71900.0,71900.0,71900.0,71900.0,71900.0,71900.0,71900.0,71900.0,71901.0,71902.0,71904.0,71910.0,71910.0,71910.0,71913.0,71926.0,71950.0,71960.0,71979.0,71994.0,72000.0,72000.0,72000.0,72000.0,72000.0,72000.0,72000.0,72000.0,72000.0,72000.0,72000.0,72000.0,72000.0,72000.0,72000.0,72000.0,72000.0,72000.0,72000.0,72000.0,72000.0,72000.0,72000.0,72000.0,72000.0,72000.0,72000.0,72000.0,72000.0,72000.0,72000.0,72000.0,72000.0,72000.0,72000.0,72000.0,72000.0,72000.0,72000.0,72000.0,72000.0,72000.0,72000.0,72000.0,72000.0,72000.0,72000.0,72000.0,72000.0,72000.0,72000.0,72000.0,72000.0,72000.0,72000.0,72000.0,72000.0,72000.0,72000.0,72000.0,72000.0,72000.0,72000.0,72000.0,72000.0,72000.0,72000.0,72000.0,72000.0,72000.0,72000.0,72000.0,72000.0,72000.0,72000.0,72000.0,72000.0,72000.0,72000.0,72000.0,72000.0,72000.0,72000.0,72000.0,72000.0,72000.0,72000.0,72000.0,72000.0,72000.0,72000.0,72000.0,72000.0,72000.0,72000.0,72000.0,72000.0,72000.0,72000.0,72000.0,72000.0,72000.0,72000.0,72000.0,72000.0,72000.0,72000.0,72000.0,72000.0,72000.0,72000.0,72000.0,72000.0,72000.0,72000.0,72000.0,72000.0,72000.0,72000.0,72000.0,72000.0,72000.0,72000.0,72000.0,72000.0,72000.0,72000.0,72000.0,72000.0,72000.0,72000.0,72000.0,72000.0,72000.0,72000.0,72000.0,72000.0,72000.0,72000.0,72000.0,72000.0,72000.0,72000.0,72000.0,72000.0,72000.0,72000.0,72000.0,72000.0,72000.0,72000.0,72000.0,72000.0,72000.0,72000.0,72000.0,72000.0,72000.0,72000.0,72000.0,72000.0,72000.0,72000.0,72000.0,72000.0,72000.0,72000.0,72000.0,72000.0,72000.0,72000.0,72000.0,72000.0,72000.0,72000.0,72000.0,72000.0,72000.0,72000.0,72000.0,72000.0,72000.0,72000.0,72000.0,72000.0,72000.0,72000.0,72000.0,72000.0,72000.0,72000.0,72000.0,72000.0,72000.0,72000.0,72000.0,72000.0,72000.0,72000.0,72000.0,72000.0,72000.0,72000.0,72000.0,72000.0,72000.0,72000.0,72000.0,72000.0,72000.0,72000.0,72000.0,72000.0,72000.0,72000.0,72000.0,72000.0,72000.0,72000.0,72000.0,72000.0,72001.0,72005.0,72008.0,72040.0,72041.0,72046.0,72050.0,72063.0,72066.0,72079.0,72080.0,72082.0,72096.0,72100.0,72100.0,72100.0,72100.0,72100.0,72100.0,72100.0,72100.0,72100.0,72100.0,72100.0,72100.0,72100.0,72100.0,72100.0,72100.0,72100.0,72100.0,72100.0,72100.0,72100.0,72100.0,72100.0,72100.0,72100.0,72100.0,72100.0,72100.0,72100.0,72100.0,72100.0,72100.0,72100.0,72100.0,72100.0,72100.0,72100.0,72100.0,72100.0,72100.0,72100.0,72100.0,72100.0,72100.0,72100.0,72100.0,72100.0,72100.0,72100.0,72100.0,72100.0,72100.0,72100.0,72100.0,72100.0,72100.0,72100.0,72100.0,72100.0,72100.0,72100.0,72100.0,72100.0,72100.0,72100.0,72100.0,72100.0,72100.0,72100.0,72100.0,72100.0,72100.0,72100.0,72100.0,72100.0,72100.0,72100.0,72100.0,72100.0,72100.0,72100.0,72100.0,72100.0,72100.0,72100.0,72100.0,72100.0,72100.0,72100.0,72100.0,72100.0,72100.0,72100.0,72100.0,72100.0,72100.0,72100.0,72100.0,72100.0,72100.0,72100.0,72100.0,72100.0,72100.0,72100.0,72100.0,72100.0,72100.0,72100.0,72100.0,72100.0,72100.0,72100.0,72100.0,72100.0,72100.0,72100.0,72100.0,72100.0,72100.0,72100.0,72100.0,72100.0,72100.0,72100.0,72100.0,72100.0,72100.0,72100.0,72100.0,72100.0,72100.0,72100.0,72100.0,72100.0,72100.0,72100.0,72100.0,72100.0,72100.0,72100.0,72100.0,72100.0,72100.0,72100.0,72100.0,72100.0,72100.0,72100.0,72100.0,72100.0,72100.0,72100.0,72100.0,72100.0,72100.0,72100.0,72100.0,72100.0,72100.0,72100.0,72100.0,72100.0,72100.0,72100.0,72100.0,72100.0,72100.0,72100.0,72100.0,72100.0,72100.0,72100.0,72100.0,72100.0,72100.0,72100.0,72100.0,72100.0,72100.0,72100.0,72100.0,72100.0,72100.0,72100.0,72100.0,72100.0,72100.0,72100.0,72100.0,72100.0,72100.0,72100.0,72100.0,72100.0,72100.0,72100.0,72100.0,72100.0,72100.0,72100.0,72100.0,72100.0,72100.0,72100.0,72112.0,72134.0,72140.0,72141.0,72159.0,72174.0,72181.0,72190.0,72200.0,72200.0,72200.0,72200.0,72200.0,72200.0,72200.0,72200.0,72200.0,72200.0,72200.0,72200.0,72200.0,72200.0,72200.0,72200.0,72200.0,72200.0,72200.0,72200.0,72200.0,72200.0,72200.0,72200.0,72200.0,72200.0,72200.0,72200.0,72200.0,72200.0,72200.0,72200.0,72200.0,72200.0,72200.0,72200.0,72200.0,72200.0,72200.0,72200.0,72200.0,72200.0,72200.0,72200.0,72200.0,72200.0,72200.0,72200.0,72200.0,72200.0,72200.0,72200.0,72200.0,72200.0,72200.0,72200.0,72200.0,72200.0,72200.0,72200.0,72200.0,72200.0,72200.0,72200.0,72200.0,72200.0,72200.0,72200.0,72200.0,72200.0,72200.0,72200.0,72200.0,72200.0,72200.0,72200.0,72200.0,72200.0,72200.0,72200.0,72200.0,72200.0,72200.0,72200.0,72200.0,72200.0,72200.0,72200.0,72200.0,72200.0,72200.0,72200.0,72200.0,72200.0,72200.0,72200.0,72200.0,72200.0,72200.0,72200.0,72200.0,72200.0,72200.0,72200.0,72200.0,72200.0,72200.0,72200.0,72200.0,72200.0,72200.0,72200.0,72200.0,72200.0,72200.0,72200.0,72200.0,72200.0,72200.0,72200.0,72200.0,72200.0,72200.0,72200.0,72200.0,72200.0,72200.0,72200.0,72200.0,72200.0,72200.0,72200.0,72200.0,72200.0,72200.0,72200.0,72200.0,72200.0,72200.0,72200.0,72200.0,72200.0,72200.0,72200.0,72200.0,72200.0,72200.0,72200.0,72200.0,72200.0,72200.0,72200.0,72200.0,72200.0,72200.0,72200.0,72200.0,72200.0,72200.0,72200.0,72200.0,72200.0,72200.0,72200.0,72200.0,72200.0,72200.0,72200.0,72200.0,72200.0,72200.0,72200.0,72200.0,72200.0,72200.0,72200.0,72200.0,72200.0,72200.0,72212.0,72218.0,72221.0,72230.0,72236.0,72250.0,72250.0,72261.0,72269.0,72273.0,72280.0,72285.0,72300.0,72300.0,72300.0,72300.0,72300.0,72300.0,72300.0,72300.0,72300.0,72300.0,72300.0,72300.0,72300.0,72300.0,72300.0,72300.0,72300.0,72300.0,72300.0,72300.0,72300.0,72300.0,72300.0,72300.0,72300.0,72300.0,72300.0,72300.0,72300.0,72300.0,72300.0,72300.0,72300.0,72300.0,72300.0,72300.0,72300.0,72300.0,72300.0,72300.0,72300.0,72300.0,72300.0,72300.0,72300.0,72300.0,72300.0,72300.0,72300.0,72300.0,72300.0,72300.0,72300.0,72300.0,72300.0,72300.0,72300.0,72300.0,72300.0,72300.0,72300.0,72300.0,72300.0,72300.0,72300.0,72300.0,72300.0,72300.0,72300.0,72300.0,72300.0,72300.0,72300.0,72300.0,72300.0,72300.0,72300.0,72300.0,72300.0,72300.0,72300.0,72300.0,72300.0,72300.0,72300.0,72300.0,72300.0,72300.0,72300.0,72300.0,72300.0,72300.0,72300.0,72300.0,72300.0,72300.0,72300.0,72300.0,72300.0,72300.0,72300.0,72300.0,72300.0,72300.0,72300.0,72300.0,72300.0,72300.0,72300.0,72300.0,72300.0,72300.0,72300.0,72300.0,72300.0,72300.0,72300.0,72300.0,72300.0,72300.0,72300.0,72300.0,72300.0,72300.0,72300.0,72300.0,72300.0,72300.0,72300.0,72300.0,72300.0,72300.0,72300.0,72300.0,72300.0,72300.0,72300.0,72300.0,72300.0,72300.0,72300.0,72300.0,72300.0,72300.0,72300.0,72300.0,72300.0,72300.0,72300.0,72300.0,72300.0,72300.0,72300.0,72300.0,72300.0,72300.0,72300.0,72300.0,72300.0,72300.0,72300.0,72300.0,72300.0,72300.0,72300.0,72300.0,72300.0,72300.0,72300.0,72300.0,72300.0,72300.0,72300.0,72300.0,72300.0,72300.0,72300.0,72300.0,72300.0,72300.0,72300.0,72300.0,72300.0,72300.0,72305.0,72324.0,72350.0,72351.0,72360.0]],\"type\":\"box\"}],                        {\"template\":{\"data\":{\"bar\":[{\"error_x\":{\"color\":\"#2a3f5f\"},\"error_y\":{\"color\":\"#2a3f5f\"},\"marker\":{\"line\":{\"color\":\"#E5ECF6\",\"width\":0.5},\"pattern\":{\"fillmode\":\"overlay\",\"size\":10,\"solidity\":0.2}},\"type\":\"bar\"}],\"barpolar\":[{\"marker\":{\"line\":{\"color\":\"#E5ECF6\",\"width\":0.5},\"pattern\":{\"fillmode\":\"overlay\",\"size\":10,\"solidity\":0.2}},\"type\":\"barpolar\"}],\"carpet\":[{\"aaxis\":{\"endlinecolor\":\"#2a3f5f\",\"gridcolor\":\"white\",\"linecolor\":\"white\",\"minorgridcolor\":\"white\",\"startlinecolor\":\"#2a3f5f\"},\"baxis\":{\"endlinecolor\":\"#2a3f5f\",\"gridcolor\":\"white\",\"linecolor\":\"white\",\"minorgridcolor\":\"white\",\"startlinecolor\":\"#2a3f5f\"},\"type\":\"carpet\"}],\"choropleth\":[{\"colorbar\":{\"outlinewidth\":0,\"ticks\":\"\"},\"type\":\"choropleth\"}],\"contour\":[{\"colorbar\":{\"outlinewidth\":0,\"ticks\":\"\"},\"colorscale\":[[0.0,\"#0d0887\"],[0.1111111111111111,\"#46039f\"],[0.2222222222222222,\"#7201a8\"],[0.3333333333333333,\"#9c179e\"],[0.4444444444444444,\"#bd3786\"],[0.5555555555555556,\"#d8576b\"],[0.6666666666666666,\"#ed7953\"],[0.7777777777777778,\"#fb9f3a\"],[0.8888888888888888,\"#fdca26\"],[1.0,\"#f0f921\"]],\"type\":\"contour\"}],\"contourcarpet\":[{\"colorbar\":{\"outlinewidth\":0,\"ticks\":\"\"},\"type\":\"contourcarpet\"}],\"heatmap\":[{\"colorbar\":{\"outlinewidth\":0,\"ticks\":\"\"},\"colorscale\":[[0.0,\"#0d0887\"],[0.1111111111111111,\"#46039f\"],[0.2222222222222222,\"#7201a8\"],[0.3333333333333333,\"#9c179e\"],[0.4444444444444444,\"#bd3786\"],[0.5555555555555556,\"#d8576b\"],[0.6666666666666666,\"#ed7953\"],[0.7777777777777778,\"#fb9f3a\"],[0.8888888888888888,\"#fdca26\"],[1.0,\"#f0f921\"]],\"type\":\"heatmap\"}],\"heatmapgl\":[{\"colorbar\":{\"outlinewidth\":0,\"ticks\":\"\"},\"colorscale\":[[0.0,\"#0d0887\"],[0.1111111111111111,\"#46039f\"],[0.2222222222222222,\"#7201a8\"],[0.3333333333333333,\"#9c179e\"],[0.4444444444444444,\"#bd3786\"],[0.5555555555555556,\"#d8576b\"],[0.6666666666666666,\"#ed7953\"],[0.7777777777777778,\"#fb9f3a\"],[0.8888888888888888,\"#fdca26\"],[1.0,\"#f0f921\"]],\"type\":\"heatmapgl\"}],\"histogram\":[{\"marker\":{\"pattern\":{\"fillmode\":\"overlay\",\"size\":10,\"solidity\":0.2}},\"type\":\"histogram\"}],\"histogram2d\":[{\"colorbar\":{\"outlinewidth\":0,\"ticks\":\"\"},\"colorscale\":[[0.0,\"#0d0887\"],[0.1111111111111111,\"#46039f\"],[0.2222222222222222,\"#7201a8\"],[0.3333333333333333,\"#9c179e\"],[0.4444444444444444,\"#bd3786\"],[0.5555555555555556,\"#d8576b\"],[0.6666666666666666,\"#ed7953\"],[0.7777777777777778,\"#fb9f3a\"],[0.8888888888888888,\"#fdca26\"],[1.0,\"#f0f921\"]],\"type\":\"histogram2d\"}],\"histogram2dcontour\":[{\"colorbar\":{\"outlinewidth\":0,\"ticks\":\"\"},\"colorscale\":[[0.0,\"#0d0887\"],[0.1111111111111111,\"#46039f\"],[0.2222222222222222,\"#7201a8\"],[0.3333333333333333,\"#9c179e\"],[0.4444444444444444,\"#bd3786\"],[0.5555555555555556,\"#d8576b\"],[0.6666666666666666,\"#ed7953\"],[0.7777777777777778,\"#fb9f3a\"],[0.8888888888888888,\"#fdca26\"],[1.0,\"#f0f921\"]],\"type\":\"histogram2dcontour\"}],\"mesh3d\":[{\"colorbar\":{\"outlinewidth\":0,\"ticks\":\"\"},\"type\":\"mesh3d\"}],\"parcoords\":[{\"line\":{\"colorbar\":{\"outlinewidth\":0,\"ticks\":\"\"}},\"type\":\"parcoords\"}],\"pie\":[{\"automargin\":true,\"type\":\"pie\"}],\"scatter\":[{\"marker\":{\"colorbar\":{\"outlinewidth\":0,\"ticks\":\"\"}},\"type\":\"scatter\"}],\"scatter3d\":[{\"line\":{\"colorbar\":{\"outlinewidth\":0,\"ticks\":\"\"}},\"marker\":{\"colorbar\":{\"outlinewidth\":0,\"ticks\":\"\"}},\"type\":\"scatter3d\"}],\"scattercarpet\":[{\"marker\":{\"colorbar\":{\"outlinewidth\":0,\"ticks\":\"\"}},\"type\":\"scattercarpet\"}],\"scattergeo\":[{\"marker\":{\"colorbar\":{\"outlinewidth\":0,\"ticks\":\"\"}},\"type\":\"scattergeo\"}],\"scattergl\":[{\"marker\":{\"colorbar\":{\"outlinewidth\":0,\"ticks\":\"\"}},\"type\":\"scattergl\"}],\"scattermapbox\":[{\"marker\":{\"colorbar\":{\"outlinewidth\":0,\"ticks\":\"\"}},\"type\":\"scattermapbox\"}],\"scatterpolar\":[{\"marker\":{\"colorbar\":{\"outlinewidth\":0,\"ticks\":\"\"}},\"type\":\"scatterpolar\"}],\"scatterpolargl\":[{\"marker\":{\"colorbar\":{\"outlinewidth\":0,\"ticks\":\"\"}},\"type\":\"scatterpolargl\"}],\"scatterternary\":[{\"marker\":{\"colorbar\":{\"outlinewidth\":0,\"ticks\":\"\"}},\"type\":\"scatterternary\"}],\"surface\":[{\"colorbar\":{\"outlinewidth\":0,\"ticks\":\"\"},\"colorscale\":[[0.0,\"#0d0887\"],[0.1111111111111111,\"#46039f\"],[0.2222222222222222,\"#7201a8\"],[0.3333333333333333,\"#9c179e\"],[0.4444444444444444,\"#bd3786\"],[0.5555555555555556,\"#d8576b\"],[0.6666666666666666,\"#ed7953\"],[0.7777777777777778,\"#fb9f3a\"],[0.8888888888888888,\"#fdca26\"],[1.0,\"#f0f921\"]],\"type\":\"surface\"}],\"table\":[{\"cells\":{\"fill\":{\"color\":\"#EBF0F8\"},\"line\":{\"color\":\"white\"}},\"header\":{\"fill\":{\"color\":\"#C8D4E3\"},\"line\":{\"color\":\"white\"}},\"type\":\"table\"}]},\"layout\":{\"annotationdefaults\":{\"arrowcolor\":\"#2a3f5f\",\"arrowhead\":0,\"arrowwidth\":1},\"autotypenumbers\":\"strict\",\"coloraxis\":{\"colorbar\":{\"outlinewidth\":0,\"ticks\":\"\"}},\"colorscale\":{\"diverging\":[[0,\"#8e0152\"],[0.1,\"#c51b7d\"],[0.2,\"#de77ae\"],[0.3,\"#f1b6da\"],[0.4,\"#fde0ef\"],[0.5,\"#f7f7f7\"],[0.6,\"#e6f5d0\"],[0.7,\"#b8e186\"],[0.8,\"#7fbc41\"],[0.9,\"#4d9221\"],[1,\"#276419\"]],\"sequential\":[[0.0,\"#0d0887\"],[0.1111111111111111,\"#46039f\"],[0.2222222222222222,\"#7201a8\"],[0.3333333333333333,\"#9c179e\"],[0.4444444444444444,\"#bd3786\"],[0.5555555555555556,\"#d8576b\"],[0.6666666666666666,\"#ed7953\"],[0.7777777777777778,\"#fb9f3a\"],[0.8888888888888888,\"#fdca26\"],[1.0,\"#f0f921\"]],\"sequentialminus\":[[0.0,\"#0d0887\"],[0.1111111111111111,\"#46039f\"],[0.2222222222222222,\"#7201a8\"],[0.3333333333333333,\"#9c179e\"],[0.4444444444444444,\"#bd3786\"],[0.5555555555555556,\"#d8576b\"],[0.6666666666666666,\"#ed7953\"],[0.7777777777777778,\"#fb9f3a\"],[0.8888888888888888,\"#fdca26\"],[1.0,\"#f0f921\"]]},\"colorway\":[\"#636efa\",\"#EF553B\",\"#00cc96\",\"#ab63fa\",\"#FFA15A\",\"#19d3f3\",\"#FF6692\",\"#B6E880\",\"#FF97FF\",\"#FECB52\"],\"font\":{\"color\":\"#2a3f5f\"},\"geo\":{\"bgcolor\":\"white\",\"lakecolor\":\"white\",\"landcolor\":\"#E5ECF6\",\"showlakes\":true,\"showland\":true,\"subunitcolor\":\"white\"},\"hoverlabel\":{\"align\":\"left\"},\"hovermode\":\"closest\",\"mapbox\":{\"style\":\"light\"},\"paper_bgcolor\":\"white\",\"plot_bgcolor\":\"#E5ECF6\",\"polar\":{\"angularaxis\":{\"gridcolor\":\"white\",\"linecolor\":\"white\",\"ticks\":\"\"},\"bgcolor\":\"#E5ECF6\",\"radialaxis\":{\"gridcolor\":\"white\",\"linecolor\":\"white\",\"ticks\":\"\"}},\"scene\":{\"xaxis\":{\"backgroundcolor\":\"#E5ECF6\",\"gridcolor\":\"white\",\"gridwidth\":2,\"linecolor\":\"white\",\"showbackground\":true,\"ticks\":\"\",\"zerolinecolor\":\"white\"},\"yaxis\":{\"backgroundcolor\":\"#E5ECF6\",\"gridcolor\":\"white\",\"gridwidth\":2,\"linecolor\":\"white\",\"showbackground\":true,\"ticks\":\"\",\"zerolinecolor\":\"white\"},\"zaxis\":{\"backgroundcolor\":\"#E5ECF6\",\"gridcolor\":\"white\",\"gridwidth\":2,\"linecolor\":\"white\",\"showbackground\":true,\"ticks\":\"\",\"zerolinecolor\":\"white\"}},\"shapedefaults\":{\"line\":{\"color\":\"#2a3f5f\"}},\"ternary\":{\"aaxis\":{\"gridcolor\":\"white\",\"linecolor\":\"white\",\"ticks\":\"\"},\"baxis\":{\"gridcolor\":\"white\",\"linecolor\":\"white\",\"ticks\":\"\"},\"bgcolor\":\"#E5ECF6\",\"caxis\":{\"gridcolor\":\"white\",\"linecolor\":\"white\",\"ticks\":\"\"}},\"title\":{\"x\":0.05},\"xaxis\":{\"automargin\":true,\"gridcolor\":\"white\",\"linecolor\":\"white\",\"ticks\":\"\",\"title\":{\"standoff\":15},\"zerolinecolor\":\"white\",\"zerolinewidth\":2},\"yaxis\":{\"automargin\":true,\"gridcolor\":\"white\",\"linecolor\":\"white\",\"ticks\":\"\",\"title\":{\"standoff\":15},\"zerolinecolor\":\"white\",\"zerolinewidth\":2}}},\"xaxis\":{\"title\":{\"text\":\"total_rev_hi_lim\"}},\"yaxis\":{\"title\":{\"text\":\"value\"}}},                        {\"responsive\": true}                    ).then(function(){\n",
              "                            \n",
              "var gd = document.getElementById('7dad4287-4bb8-4d03-ad40-ed7eec6d8afa');\n",
              "var x = new MutationObserver(function (mutations, observer) {{\n",
              "        var display = window.getComputedStyle(gd).display;\n",
              "        if (!display || display === 'none') {{\n",
              "            console.log([gd, 'removed!']);\n",
              "            Plotly.purge(gd);\n",
              "            observer.disconnect();\n",
              "        }}\n",
              "}});\n",
              "\n",
              "// Listen for the removal of the full notebook cells\n",
              "var notebookContainer = gd.closest('#notebook-container');\n",
              "if (notebookContainer) {{\n",
              "    x.observe(notebookContainer, {childList: true});\n",
              "}}\n",
              "\n",
              "// Listen for the clearing of the current output cell\n",
              "var outputEl = gd.closest('.output');\n",
              "if (outputEl) {{\n",
              "    x.observe(outputEl, {childList: true});\n",
              "}}\n",
              "\n",
              "                        })                };                            </script>        </div>\n",
              "</body>\n",
              "</html>"
            ]
          },
          "metadata": {}
        }
      ]
    },
    {
      "cell_type": "markdown",
      "metadata": {
        "id": "3F0AcRzA6MCS"
      },
      "source": [
        "# 4. Correlation\n"
      ]
    },
    {
      "cell_type": "code",
      "execution_count": null,
      "metadata": {
        "id": "uAAqZaU06Oet"
      },
      "outputs": [],
      "source": [
        "data_num = testing.select_dtypes(exclude=['object']).columns.tolist()"
      ]
    },
    {
      "cell_type": "code",
      "execution_count": null,
      "metadata": {
        "id": "HIoAEqaU-L3o"
      },
      "outputs": [],
      "source": [
        "corr = testing[data_num].corr()"
      ]
    },
    {
      "cell_type": "code",
      "execution_count": null,
      "metadata": {
        "colab": {
          "base_uri": "https://localhost:8080/",
          "height": 508
        },
        "id": "5F_VhRNa-x6-",
        "outputId": "c7d6d16d-22ba-42ff-91cd-37f471598390"
      },
      "outputs": [
        {
          "data": {
            "text/html": [
              "<style type=\"text/css\">\n",
              "#T_33e21_row0_col0, #T_33e21_row0_col1, #T_33e21_row0_col2, #T_33e21_row1_col0, #T_33e21_row1_col1, #T_33e21_row1_col2, #T_33e21_row2_col0, #T_33e21_row2_col1, #T_33e21_row2_col2, #T_33e21_row3_col3, #T_33e21_row4_col4, #T_33e21_row5_col5, #T_33e21_row6_col6, #T_33e21_row7_col7, #T_33e21_row8_col8, #T_33e21_row9_col9, #T_33e21_row10_col10, #T_33e21_row11_col11, #T_33e21_row12_col12, #T_33e21_row13_col13 {\n",
              "  background-color: #b40426;\n",
              "  color: #f1f1f1;\n",
              "}\n",
              "#T_33e21_row0_col3, #T_33e21_row1_col3, #T_33e21_row2_col3 {\n",
              "  background-color: #90b2fe;\n",
              "  color: #000000;\n",
              "}\n",
              "#T_33e21_row0_col4, #T_33e21_row1_col4, #T_33e21_row2_col4, #T_33e21_row4_col0, #T_33e21_row4_col1, #T_33e21_row4_col2 {\n",
              "  background-color: #c73635;\n",
              "  color: #f1f1f1;\n",
              "}\n",
              "#T_33e21_row0_col5, #T_33e21_row1_col5, #T_33e21_row3_col6, #T_33e21_row4_col5, #T_33e21_row11_col8, #T_33e21_row12_col5 {\n",
              "  background-color: #4358cb;\n",
              "  color: #f1f1f1;\n",
              "}\n",
              "#T_33e21_row0_col6, #T_33e21_row0_col8, #T_33e21_row1_col8, #T_33e21_row2_col8, #T_33e21_row5_col10, #T_33e21_row8_col10, #T_33e21_row10_col6, #T_33e21_row13_col2 {\n",
              "  background-color: #3f53c6;\n",
              "  color: #f1f1f1;\n",
              "}\n",
              "#T_33e21_row0_col7, #T_33e21_row1_col7 {\n",
              "  background-color: #7da0f9;\n",
              "  color: #f1f1f1;\n",
              "}\n",
              "#T_33e21_row0_col9, #T_33e21_row0_col10, #T_33e21_row1_col9, #T_33e21_row1_col10, #T_33e21_row2_col9, #T_33e21_row2_col10, #T_33e21_row4_col9, #T_33e21_row4_col10, #T_33e21_row11_col9, #T_33e21_row12_col13, #T_33e21_row13_col10 {\n",
              "  background-color: #3c4ec2;\n",
              "  color: #f1f1f1;\n",
              "}\n",
              "#T_33e21_row0_col11, #T_33e21_row1_col11, #T_33e21_row2_col11, #T_33e21_row4_col12 {\n",
              "  background-color: #b9d0f9;\n",
              "  color: #000000;\n",
              "}\n",
              "#T_33e21_row0_col12, #T_33e21_row1_col12, #T_33e21_row2_col12 {\n",
              "  background-color: #c0d4f5;\n",
              "  color: #000000;\n",
              "}\n",
              "#T_33e21_row0_col13, #T_33e21_row1_col13, #T_33e21_row2_col13, #T_33e21_row6_col5 {\n",
              "  background-color: #455cce;\n",
              "  color: #f1f1f1;\n",
              "}\n",
              "#T_33e21_row1_col6, #T_33e21_row4_col6, #T_33e21_row8_col4, #T_33e21_row8_col6, #T_33e21_row11_col6, #T_33e21_row12_col6 {\n",
              "  background-color: #3e51c5;\n",
              "  color: #f1f1f1;\n",
              "}\n",
              "#T_33e21_row2_col5, #T_33e21_row8_col5, #T_33e21_row8_col13, #T_33e21_row13_col4, #T_33e21_row13_col11 {\n",
              "  background-color: #445acc;\n",
              "  color: #f1f1f1;\n",
              "}\n",
              "#T_33e21_row2_col6, #T_33e21_row4_col8, #T_33e21_row5_col11, #T_33e21_row6_col0, #T_33e21_row6_col1, #T_33e21_row6_col4, #T_33e21_row9_col6, #T_33e21_row12_col8, #T_33e21_row13_col0, #T_33e21_row13_col1 {\n",
              "  background-color: #4055c8;\n",
              "  color: #f1f1f1;\n",
              "}\n",
              "#T_33e21_row2_col7 {\n",
              "  background-color: #7ea1fa;\n",
              "  color: #f1f1f1;\n",
              "}\n",
              "#T_33e21_row3_col0, #T_33e21_row3_col1, #T_33e21_row3_col2 {\n",
              "  background-color: #6f92f3;\n",
              "  color: #f1f1f1;\n",
              "}\n",
              "#T_33e21_row3_col4 {\n",
              "  background-color: #6b8df0;\n",
              "  color: #f1f1f1;\n",
              "}\n",
              "#T_33e21_row3_col5, #T_33e21_row10_col8, #T_33e21_row13_col6 {\n",
              "  background-color: #485fd1;\n",
              "  color: #f1f1f1;\n",
              "}\n",
              "#T_33e21_row3_col7, #T_33e21_row11_col0 {\n",
              "  background-color: #adc9fd;\n",
              "  color: #000000;\n",
              "}\n",
              "#T_33e21_row3_col8, #T_33e21_row4_col13 {\n",
              "  background-color: #4961d2;\n",
              "  color: #f1f1f1;\n",
              "}\n",
              "#T_33e21_row3_col9, #T_33e21_row3_col10, #T_33e21_row5_col8, #T_33e21_row6_col9, #T_33e21_row7_col9, #T_33e21_row8_col0, #T_33e21_row8_col1, #T_33e21_row8_col2, #T_33e21_row9_col10, #T_33e21_row10_col9, #T_33e21_row11_col10, #T_33e21_row12_col9, #T_33e21_row13_col9 {\n",
              "  background-color: #3d50c3;\n",
              "  color: #f1f1f1;\n",
              "}\n",
              "#T_33e21_row3_col11, #T_33e21_row3_col12, #T_33e21_row5_col0, #T_33e21_row5_col1, #T_33e21_row5_col2, #T_33e21_row5_col4, #T_33e21_row5_col6, #T_33e21_row6_col10, #T_33e21_row7_col8, #T_33e21_row7_col10, #T_33e21_row8_col9, #T_33e21_row11_col5, #T_33e21_row11_col13, #T_33e21_row12_col3, #T_33e21_row12_col7, #T_33e21_row12_col10 {\n",
              "  background-color: #3b4cc0;\n",
              "  color: #f1f1f1;\n",
              "}\n",
              "#T_33e21_row3_col13 {\n",
              "  background-color: #799cf8;\n",
              "  color: #f1f1f1;\n",
              "}\n",
              "#T_33e21_row4_col3 {\n",
              "  background-color: #8caffe;\n",
              "  color: #000000;\n",
              "}\n",
              "#T_33e21_row4_col7 {\n",
              "  background-color: #81a4fb;\n",
              "  color: #f1f1f1;\n",
              "}\n",
              "#T_33e21_row4_col11 {\n",
              "  background-color: #afcafc;\n",
              "  color: #000000;\n",
              "}\n",
              "#T_33e21_row5_col3, #T_33e21_row8_col12 {\n",
              "  background-color: #6180e9;\n",
              "  color: #f1f1f1;\n",
              "}\n",
              "#T_33e21_row5_col7, #T_33e21_row13_col12 {\n",
              "  background-color: #5a78e4;\n",
              "  color: #f1f1f1;\n",
              "}\n",
              "#T_33e21_row5_col9, #T_33e21_row6_col11, #T_33e21_row8_col11 {\n",
              "  background-color: #4f69d9;\n",
              "  color: #f1f1f1;\n",
              "}\n",
              "#T_33e21_row5_col12, #T_33e21_row9_col5 {\n",
              "  background-color: #5d7ce6;\n",
              "  color: #f1f1f1;\n",
              "}\n",
              "#T_33e21_row5_col13, #T_33e21_row7_col12, #T_33e21_row9_col13, #T_33e21_row10_col13 {\n",
              "  background-color: #465ecf;\n",
              "  color: #f1f1f1;\n",
              "}\n",
              "#T_33e21_row6_col2, #T_33e21_row6_col8, #T_33e21_row9_col0, #T_33e21_row9_col1, #T_33e21_row9_col2, #T_33e21_row9_col4, #T_33e21_row9_col8, #T_33e21_row10_col0, #T_33e21_row10_col1, #T_33e21_row10_col2, #T_33e21_row10_col4, #T_33e21_row13_col8 {\n",
              "  background-color: #4257c9;\n",
              "  color: #f1f1f1;\n",
              "}\n",
              "#T_33e21_row6_col3, #T_33e21_row7_col0 {\n",
              "  background-color: #6788ee;\n",
              "  color: #f1f1f1;\n",
              "}\n",
              "#T_33e21_row6_col7, #T_33e21_row6_col12 {\n",
              "  background-color: #6282ea;\n",
              "  color: #f1f1f1;\n",
              "}\n",
              "#T_33e21_row6_col13, #T_33e21_row7_col5, #T_33e21_row8_col7, #T_33e21_row10_col5, #T_33e21_row11_col3 {\n",
              "  background-color: #4e68d8;\n",
              "  color: #f1f1f1;\n",
              "}\n",
              "#T_33e21_row7_col1, #T_33e21_row7_col2, #T_33e21_row8_col3 {\n",
              "  background-color: #688aef;\n",
              "  color: #f1f1f1;\n",
              "}\n",
              "#T_33e21_row7_col3 {\n",
              "  background-color: #b6cefa;\n",
              "  color: #000000;\n",
              "}\n",
              "#T_33e21_row7_col4 {\n",
              "  background-color: #6c8ff1;\n",
              "  color: #f1f1f1;\n",
              "}\n",
              "#T_33e21_row7_col6 {\n",
              "  background-color: #4a63d3;\n",
              "  color: #f1f1f1;\n",
              "}\n",
              "#T_33e21_row7_col11 {\n",
              "  background-color: #6a8bef;\n",
              "  color: #f1f1f1;\n",
              "}\n",
              "#T_33e21_row7_col13 {\n",
              "  background-color: #5470de;\n",
              "  color: #f1f1f1;\n",
              "}\n",
              "#T_33e21_row9_col3, #T_33e21_row9_col12, #T_33e21_row10_col3 {\n",
              "  background-color: #6485ec;\n",
              "  color: #f1f1f1;\n",
              "}\n",
              "#T_33e21_row9_col7 {\n",
              "  background-color: #5875e1;\n",
              "  color: #f1f1f1;\n",
              "}\n",
              "#T_33e21_row9_col11 {\n",
              "  background-color: #506bda;\n",
              "  color: #f1f1f1;\n",
              "}\n",
              "#T_33e21_row10_col7 {\n",
              "  background-color: #5673e0;\n",
              "  color: #f1f1f1;\n",
              "}\n",
              "#T_33e21_row10_col11 {\n",
              "  background-color: #516ddb;\n",
              "  color: #f1f1f1;\n",
              "}\n",
              "#T_33e21_row10_col12 {\n",
              "  background-color: #6384eb;\n",
              "  color: #f1f1f1;\n",
              "}\n",
              "#T_33e21_row11_col1, #T_33e21_row11_col2 {\n",
              "  background-color: #aec9fc;\n",
              "  color: #000000;\n",
              "}\n",
              "#T_33e21_row11_col4 {\n",
              "  background-color: #a3c2fe;\n",
              "  color: #000000;\n",
              "}\n",
              "#T_33e21_row11_col7 {\n",
              "  background-color: #7093f3;\n",
              "  color: #f1f1f1;\n",
              "}\n",
              "#T_33e21_row11_col12 {\n",
              "  background-color: #d5dbe5;\n",
              "  color: #000000;\n",
              "}\n",
              "#T_33e21_row12_col0, #T_33e21_row12_col1, #T_33e21_row12_col2 {\n",
              "  background-color: #a7c5fe;\n",
              "  color: #000000;\n",
              "}\n",
              "#T_33e21_row12_col4 {\n",
              "  background-color: #9fbfff;\n",
              "  color: #000000;\n",
              "}\n",
              "#T_33e21_row12_col11 {\n",
              "  background-color: #cbd8ee;\n",
              "  color: #000000;\n",
              "}\n",
              "#T_33e21_row13_col3 {\n",
              "  background-color: #93b5fe;\n",
              "  color: #000000;\n",
              "}\n",
              "#T_33e21_row13_col5 {\n",
              "  background-color: #4b64d5;\n",
              "  color: #f1f1f1;\n",
              "}\n",
              "#T_33e21_row13_col7 {\n",
              "  background-color: #6687ed;\n",
              "  color: #f1f1f1;\n",
              "}\n",
              "</style>\n",
              "<table id=\"T_33e21_\" class=\"dataframe\">\n",
              "  <thead>\n",
              "    <tr>\n",
              "      <th class=\"blank level0\" >&nbsp;</th>\n",
              "      <th class=\"col_heading level0 col0\" >loan_amnt</th>\n",
              "      <th class=\"col_heading level0 col1\" >funded_amnt</th>\n",
              "      <th class=\"col_heading level0 col2\" >funded_amnt_inv</th>\n",
              "      <th class=\"col_heading level0 col3\" >int_rate</th>\n",
              "      <th class=\"col_heading level0 col4\" >installment</th>\n",
              "      <th class=\"col_heading level0 col5\" >mths_since_last_delinq</th>\n",
              "      <th class=\"col_heading level0 col6\" >mths_since_last_record</th>\n",
              "      <th class=\"col_heading level0 col7\" >revol_util</th>\n",
              "      <th class=\"col_heading level0 col8\" >collections_12_mths_ex_med</th>\n",
              "      <th class=\"col_heading level0 col9\" >mths_since_last_major_derog</th>\n",
              "      <th class=\"col_heading level0 col10\" >tot_coll_amt</th>\n",
              "      <th class=\"col_heading level0 col11\" >tot_cur_bal</th>\n",
              "      <th class=\"col_heading level0 col12\" >total_rev_hi_lim</th>\n",
              "      <th class=\"col_heading level0 col13\" >default_ind</th>\n",
              "    </tr>\n",
              "  </thead>\n",
              "  <tbody>\n",
              "    <tr>\n",
              "      <th id=\"T_33e21_level0_row0\" class=\"row_heading level0 row0\" >loan_amnt</th>\n",
              "      <td id=\"T_33e21_row0_col0\" class=\"data row0 col0\" >1.000000</td>\n",
              "      <td id=\"T_33e21_row0_col1\" class=\"data row0 col1\" >0.999269</td>\n",
              "      <td id=\"T_33e21_row0_col2\" class=\"data row0 col2\" >0.997624</td>\n",
              "      <td id=\"T_33e21_row0_col3\" class=\"data row0 col3\" >0.142916</td>\n",
              "      <td id=\"T_33e21_row0_col4\" class=\"data row0 col4\" >0.944872</td>\n",
              "      <td id=\"T_33e21_row0_col5\" class=\"data row0 col5\" >-0.028688</td>\n",
              "      <td id=\"T_33e21_row0_col6\" class=\"data row0 col6\" >-0.006614</td>\n",
              "      <td id=\"T_33e21_row0_col7\" class=\"data row0 col7\" >0.119546</td>\n",
              "      <td id=\"T_33e21_row0_col8\" class=\"data row0 col8\" >-0.017045</td>\n",
              "      <td id=\"T_33e21_row0_col9\" class=\"data row0 col9\" >-0.002860</td>\n",
              "      <td id=\"T_33e21_row0_col10\" class=\"data row0 col10\" >-0.003542</td>\n",
              "      <td id=\"T_33e21_row0_col11\" class=\"data row0 col11\" >0.324620</td>\n",
              "      <td id=\"T_33e21_row0_col12\" class=\"data row0 col12\" >0.305268</td>\n",
              "      <td id=\"T_33e21_row0_col13\" class=\"data row0 col13\" >-0.004887</td>\n",
              "    </tr>\n",
              "    <tr>\n",
              "      <th id=\"T_33e21_level0_row1\" class=\"row_heading level0 row1\" >funded_amnt</th>\n",
              "      <td id=\"T_33e21_row1_col0\" class=\"data row1 col0\" >0.999269</td>\n",
              "      <td id=\"T_33e21_row1_col1\" class=\"data row1 col1\" >1.000000</td>\n",
              "      <td id=\"T_33e21_row1_col2\" class=\"data row1 col2\" >0.998504</td>\n",
              "      <td id=\"T_33e21_row1_col3\" class=\"data row1 col3\" >0.143071</td>\n",
              "      <td id=\"T_33e21_row1_col4\" class=\"data row1 col4\" >0.945900</td>\n",
              "      <td id=\"T_33e21_row1_col5\" class=\"data row1 col5\" >-0.028680</td>\n",
              "      <td id=\"T_33e21_row1_col6\" class=\"data row1 col6\" >-0.006704</td>\n",
              "      <td id=\"T_33e21_row1_col7\" class=\"data row1 col7\" >0.120062</td>\n",
              "      <td id=\"T_33e21_row1_col8\" class=\"data row1 col8\" >-0.016891</td>\n",
              "      <td id=\"T_33e21_row1_col9\" class=\"data row1 col9\" >-0.002860</td>\n",
              "      <td id=\"T_33e21_row1_col10\" class=\"data row1 col10\" >-0.003512</td>\n",
              "      <td id=\"T_33e21_row1_col11\" class=\"data row1 col11\" >0.325411</td>\n",
              "      <td id=\"T_33e21_row1_col12\" class=\"data row1 col12\" >0.305809</td>\n",
              "      <td id=\"T_33e21_row1_col13\" class=\"data row1 col13\" >-0.005779</td>\n",
              "    </tr>\n",
              "    <tr>\n",
              "      <th id=\"T_33e21_level0_row2\" class=\"row_heading level0 row2\" >funded_amnt_inv</th>\n",
              "      <td id=\"T_33e21_row2_col0\" class=\"data row2 col0\" >0.997624</td>\n",
              "      <td id=\"T_33e21_row2_col1\" class=\"data row2 col1\" >0.998504</td>\n",
              "      <td id=\"T_33e21_row2_col2\" class=\"data row2 col2\" >1.000000</td>\n",
              "      <td id=\"T_33e21_row2_col3\" class=\"data row2 col3\" >0.143326</td>\n",
              "      <td id=\"T_33e21_row2_col4\" class=\"data row2 col4\" >0.944173</td>\n",
              "      <td id=\"T_33e21_row2_col5\" class=\"data row2 col5\" >-0.027790</td>\n",
              "      <td id=\"T_33e21_row2_col6\" class=\"data row2 col6\" >-0.002558</td>\n",
              "      <td id=\"T_33e21_row2_col7\" class=\"data row2 col7\" >0.120824</td>\n",
              "      <td id=\"T_33e21_row2_col8\" class=\"data row2 col8\" >-0.016560</td>\n",
              "      <td id=\"T_33e21_row2_col9\" class=\"data row2 col9\" >-0.002866</td>\n",
              "      <td id=\"T_33e21_row2_col10\" class=\"data row2 col10\" >-0.003444</td>\n",
              "      <td id=\"T_33e21_row2_col11\" class=\"data row2 col11\" >0.326180</td>\n",
              "      <td id=\"T_33e21_row2_col12\" class=\"data row2 col12\" >0.306148</td>\n",
              "      <td id=\"T_33e21_row2_col13\" class=\"data row2 col13\" >-0.008151</td>\n",
              "    </tr>\n",
              "    <tr>\n",
              "      <th id=\"T_33e21_level0_row3\" class=\"row_heading level0 row3\" >int_rate</th>\n",
              "      <td id=\"T_33e21_row3_col0\" class=\"data row3 col0\" >0.142916</td>\n",
              "      <td id=\"T_33e21_row3_col1\" class=\"data row3 col1\" >0.143071</td>\n",
              "      <td id=\"T_33e21_row3_col2\" class=\"data row3 col2\" >0.143326</td>\n",
              "      <td id=\"T_33e21_row3_col3\" class=\"data row3 col3\" >1.000000</td>\n",
              "      <td id=\"T_33e21_row3_col4\" class=\"data row3 col4\" >0.130423</td>\n",
              "      <td id=\"T_33e21_row3_col5\" class=\"data row3 col5\" >-0.012387</td>\n",
              "      <td id=\"T_33e21_row3_col6\" class=\"data row3 col6\" >0.009051</td>\n",
              "      <td id=\"T_33e21_row3_col7\" class=\"data row3 col7\" >0.271554</td>\n",
              "      <td id=\"T_33e21_row3_col8\" class=\"data row3 col8\" >0.012840</td>\n",
              "      <td id=\"T_33e21_row3_col9\" class=\"data row3 col9\" >-0.001785</td>\n",
              "      <td id=\"T_33e21_row3_col10\" class=\"data row3 col10\" >0.001367</td>\n",
              "      <td id=\"T_33e21_row3_col11\" class=\"data row3 col11\" >-0.082775</td>\n",
              "      <td id=\"T_33e21_row3_col12\" class=\"data row3 col12\" >-0.156520</td>\n",
              "      <td id=\"T_33e21_row3_col13\" class=\"data row3 col13\" >0.155057</td>\n",
              "    </tr>\n",
              "    <tr>\n",
              "      <th id=\"T_33e21_level0_row4\" class=\"row_heading level0 row4\" >installment</th>\n",
              "      <td id=\"T_33e21_row4_col0\" class=\"data row4 col0\" >0.944872</td>\n",
              "      <td id=\"T_33e21_row4_col1\" class=\"data row4 col1\" >0.945900</td>\n",
              "      <td id=\"T_33e21_row4_col2\" class=\"data row4 col2\" >0.944173</td>\n",
              "      <td id=\"T_33e21_row4_col3\" class=\"data row4 col3\" >0.130423</td>\n",
              "      <td id=\"T_33e21_row4_col4\" class=\"data row4 col4\" >1.000000</td>\n",
              "      <td id=\"T_33e21_row4_col5\" class=\"data row4 col5\" >-0.029808</td>\n",
              "      <td id=\"T_33e21_row4_col6\" class=\"data row4 col6\" >-0.008813</td>\n",
              "      <td id=\"T_33e21_row4_col7\" class=\"data row4 col7\" >0.131846</td>\n",
              "      <td id=\"T_33e21_row4_col8\" class=\"data row4 col8\" >-0.014566</td>\n",
              "      <td id=\"T_33e21_row4_col9\" class=\"data row4 col9\" >-0.002909</td>\n",
              "      <td id=\"T_33e21_row4_col10\" class=\"data row4 col10\" >-0.002852</td>\n",
              "      <td id=\"T_33e21_row4_col11\" class=\"data row4 col11\" >0.294683</td>\n",
              "      <td id=\"T_33e21_row4_col12\" class=\"data row4 col12\" >0.280690</td>\n",
              "      <td id=\"T_33e21_row4_col13\" class=\"data row4 col13\" >0.004753</td>\n",
              "    </tr>\n",
              "    <tr>\n",
              "      <th id=\"T_33e21_level0_row5\" class=\"row_heading level0 row5\" >mths_since_last_delinq</th>\n",
              "      <td id=\"T_33e21_row5_col0\" class=\"data row5 col0\" >-0.028688</td>\n",
              "      <td id=\"T_33e21_row5_col1\" class=\"data row5 col1\" >-0.028680</td>\n",
              "      <td id=\"T_33e21_row5_col2\" class=\"data row5 col2\" >-0.027790</td>\n",
              "      <td id=\"T_33e21_row5_col3\" class=\"data row5 col3\" >-0.012387</td>\n",
              "      <td id=\"T_33e21_row5_col4\" class=\"data row5 col4\" >-0.029808</td>\n",
              "      <td id=\"T_33e21_row5_col5\" class=\"data row5 col5\" >1.000000</td>\n",
              "      <td id=\"T_33e21_row5_col6\" class=\"data row5 col6\" >-0.022613</td>\n",
              "      <td id=\"T_33e21_row5_col7\" class=\"data row5 col7\" >0.006119</td>\n",
              "      <td id=\"T_33e21_row5_col8\" class=\"data row5 col8\" >-0.025114</td>\n",
              "      <td id=\"T_33e21_row5_col9\" class=\"data row5 col9\" >0.057928</td>\n",
              "      <td id=\"T_33e21_row5_col10\" class=\"data row5 col10\" >0.007364</td>\n",
              "      <td id=\"T_33e21_row5_col11\" class=\"data row5 col11\" >-0.061144</td>\n",
              "      <td id=\"T_33e21_row5_col12\" class=\"data row5 col12\" >-0.028406</td>\n",
              "      <td id=\"T_33e21_row5_col13\" class=\"data row5 col13\" >-0.000976</td>\n",
              "    </tr>\n",
              "    <tr>\n",
              "      <th id=\"T_33e21_level0_row6\" class=\"row_heading level0 row6\" >mths_since_last_record</th>\n",
              "      <td id=\"T_33e21_row6_col0\" class=\"data row6 col0\" >-0.006614</td>\n",
              "      <td id=\"T_33e21_row6_col1\" class=\"data row6 col1\" >-0.006704</td>\n",
              "      <td id=\"T_33e21_row6_col2\" class=\"data row6 col2\" >-0.002558</td>\n",
              "      <td id=\"T_33e21_row6_col3\" class=\"data row6 col3\" >0.009051</td>\n",
              "      <td id=\"T_33e21_row6_col4\" class=\"data row6 col4\" >-0.008813</td>\n",
              "      <td id=\"T_33e21_row6_col5\" class=\"data row6 col5\" >-0.022613</td>\n",
              "      <td id=\"T_33e21_row6_col6\" class=\"data row6 col6\" >1.000000</td>\n",
              "      <td id=\"T_33e21_row6_col7\" class=\"data row6 col7\" >0.032474</td>\n",
              "      <td id=\"T_33e21_row6_col8\" class=\"data row6 col8\" >-0.009906</td>\n",
              "      <td id=\"T_33e21_row6_col9\" class=\"data row6 col9\" >-0.001931</td>\n",
              "      <td id=\"T_33e21_row6_col10\" class=\"data row6 col10\" >-0.006200</td>\n",
              "      <td id=\"T_33e21_row6_col11\" class=\"data row6 col11\" >-0.009979</td>\n",
              "      <td id=\"T_33e21_row6_col12\" class=\"data row6 col12\" >-0.008160</td>\n",
              "      <td id=\"T_33e21_row6_col13\" class=\"data row6 col13\" >0.021729</td>\n",
              "    </tr>\n",
              "    <tr>\n",
              "      <th id=\"T_33e21_level0_row7\" class=\"row_heading level0 row7\" >revol_util</th>\n",
              "      <td id=\"T_33e21_row7_col0\" class=\"data row7 col0\" >0.119546</td>\n",
              "      <td id=\"T_33e21_row7_col1\" class=\"data row7 col1\" >0.120062</td>\n",
              "      <td id=\"T_33e21_row7_col2\" class=\"data row7 col2\" >0.120824</td>\n",
              "      <td id=\"T_33e21_row7_col3\" class=\"data row7 col3\" >0.271554</td>\n",
              "      <td id=\"T_33e21_row7_col4\" class=\"data row7 col4\" >0.131846</td>\n",
              "      <td id=\"T_33e21_row7_col5\" class=\"data row7 col5\" >0.006119</td>\n",
              "      <td id=\"T_33e21_row7_col6\" class=\"data row7 col6\" >0.032474</td>\n",
              "      <td id=\"T_33e21_row7_col7\" class=\"data row7 col7\" >1.000000</td>\n",
              "      <td id=\"T_33e21_row7_col8\" class=\"data row7 col8\" >-0.035713</td>\n",
              "      <td id=\"T_33e21_row7_col9\" class=\"data row7 col9\" >-0.000811</td>\n",
              "      <td id=\"T_33e21_row7_col10\" class=\"data row7 col10\" >-0.008543</td>\n",
              "      <td id=\"T_33e21_row7_col11\" class=\"data row7 col11\" >0.079561</td>\n",
              "      <td id=\"T_33e21_row7_col12\" class=\"data row7 col12\" >-0.108963</td>\n",
              "      <td id=\"T_33e21_row7_col13\" class=\"data row7 col13\" >0.044445</td>\n",
              "    </tr>\n",
              "    <tr>\n",
              "      <th id=\"T_33e21_level0_row8\" class=\"row_heading level0 row8\" >collections_12_mths_ex_med</th>\n",
              "      <td id=\"T_33e21_row8_col0\" class=\"data row8 col0\" >-0.017045</td>\n",
              "      <td id=\"T_33e21_row8_col1\" class=\"data row8 col1\" >-0.016891</td>\n",
              "      <td id=\"T_33e21_row8_col2\" class=\"data row8 col2\" >-0.016560</td>\n",
              "      <td id=\"T_33e21_row8_col3\" class=\"data row8 col3\" >0.012840</td>\n",
              "      <td id=\"T_33e21_row8_col4\" class=\"data row8 col4\" >-0.014566</td>\n",
              "      <td id=\"T_33e21_row8_col5\" class=\"data row8 col5\" >-0.025114</td>\n",
              "      <td id=\"T_33e21_row8_col6\" class=\"data row8 col6\" >-0.009906</td>\n",
              "      <td id=\"T_33e21_row8_col7\" class=\"data row8 col7\" >-0.035713</td>\n",
              "      <td id=\"T_33e21_row8_col8\" class=\"data row8 col8\" >1.000000</td>\n",
              "      <td id=\"T_33e21_row8_col9\" class=\"data row8 col9\" >-0.009842</td>\n",
              "      <td id=\"T_33e21_row8_col10\" class=\"data row8 col10\" >0.009868</td>\n",
              "      <td id=\"T_33e21_row8_col11\" class=\"data row8 col11\" >-0.007256</td>\n",
              "      <td id=\"T_33e21_row8_col12\" class=\"data row8 col12\" >-0.014843</td>\n",
              "      <td id=\"T_33e21_row8_col13\" class=\"data row8 col13\" >-0.010644</td>\n",
              "    </tr>\n",
              "    <tr>\n",
              "      <th id=\"T_33e21_level0_row9\" class=\"row_heading level0 row9\" >mths_since_last_major_derog</th>\n",
              "      <td id=\"T_33e21_row9_col0\" class=\"data row9 col0\" >-0.002860</td>\n",
              "      <td id=\"T_33e21_row9_col1\" class=\"data row9 col1\" >-0.002860</td>\n",
              "      <td id=\"T_33e21_row9_col2\" class=\"data row9 col2\" >-0.002866</td>\n",
              "      <td id=\"T_33e21_row9_col3\" class=\"data row9 col3\" >-0.001785</td>\n",
              "      <td id=\"T_33e21_row9_col4\" class=\"data row9 col4\" >-0.002909</td>\n",
              "      <td id=\"T_33e21_row9_col5\" class=\"data row9 col5\" >0.057928</td>\n",
              "      <td id=\"T_33e21_row9_col6\" class=\"data row9 col6\" >-0.001931</td>\n",
              "      <td id=\"T_33e21_row9_col7\" class=\"data row9 col7\" >-0.000811</td>\n",
              "      <td id=\"T_33e21_row9_col8\" class=\"data row9 col8\" >-0.009842</td>\n",
              "      <td id=\"T_33e21_row9_col9\" class=\"data row9 col9\" >1.000000</td>\n",
              "      <td id=\"T_33e21_row9_col10\" class=\"data row9 col10\" >0.001731</td>\n",
              "      <td id=\"T_33e21_row9_col11\" class=\"data row9 col11\" >-0.005244</td>\n",
              "      <td id=\"T_33e21_row9_col12\" class=\"data row9 col12\" >-0.001134</td>\n",
              "      <td id=\"T_33e21_row9_col13\" class=\"data row9 col13\" >-0.001025</td>\n",
              "    </tr>\n",
              "    <tr>\n",
              "      <th id=\"T_33e21_level0_row10\" class=\"row_heading level0 row10\" >tot_coll_amt</th>\n",
              "      <td id=\"T_33e21_row10_col0\" class=\"data row10 col0\" >-0.003542</td>\n",
              "      <td id=\"T_33e21_row10_col1\" class=\"data row10 col1\" >-0.003512</td>\n",
              "      <td id=\"T_33e21_row10_col2\" class=\"data row10 col2\" >-0.003444</td>\n",
              "      <td id=\"T_33e21_row10_col3\" class=\"data row10 col3\" >0.001367</td>\n",
              "      <td id=\"T_33e21_row10_col4\" class=\"data row10 col4\" >-0.002852</td>\n",
              "      <td id=\"T_33e21_row10_col5\" class=\"data row10 col5\" >0.007364</td>\n",
              "      <td id=\"T_33e21_row10_col6\" class=\"data row10 col6\" >-0.006200</td>\n",
              "      <td id=\"T_33e21_row10_col7\" class=\"data row10 col7\" >-0.008543</td>\n",
              "      <td id=\"T_33e21_row10_col8\" class=\"data row10 col8\" >0.009868</td>\n",
              "      <td id=\"T_33e21_row10_col9\" class=\"data row10 col9\" >0.001731</td>\n",
              "      <td id=\"T_33e21_row10_col10\" class=\"data row10 col10\" >1.000000</td>\n",
              "      <td id=\"T_33e21_row10_col11\" class=\"data row10 col11\" >0.000309</td>\n",
              "      <td id=\"T_33e21_row10_col12\" class=\"data row10 col12\" >-0.004642</td>\n",
              "      <td id=\"T_33e21_row10_col13\" class=\"data row10 col13\" >-0.002444</td>\n",
              "    </tr>\n",
              "    <tr>\n",
              "      <th id=\"T_33e21_level0_row11\" class=\"row_heading level0 row11\" >tot_cur_bal</th>\n",
              "      <td id=\"T_33e21_row11_col0\" class=\"data row11 col0\" >0.324620</td>\n",
              "      <td id=\"T_33e21_row11_col1\" class=\"data row11 col1\" >0.325411</td>\n",
              "      <td id=\"T_33e21_row11_col2\" class=\"data row11 col2\" >0.326180</td>\n",
              "      <td id=\"T_33e21_row11_col3\" class=\"data row11 col3\" >-0.082775</td>\n",
              "      <td id=\"T_33e21_row11_col4\" class=\"data row11 col4\" >0.294683</td>\n",
              "      <td id=\"T_33e21_row11_col5\" class=\"data row11 col5\" >-0.061144</td>\n",
              "      <td id=\"T_33e21_row11_col6\" class=\"data row11 col6\" >-0.009979</td>\n",
              "      <td id=\"T_33e21_row11_col7\" class=\"data row11 col7\" >0.079561</td>\n",
              "      <td id=\"T_33e21_row11_col8\" class=\"data row11 col8\" >-0.007256</td>\n",
              "      <td id=\"T_33e21_row11_col9\" class=\"data row11 col9\" >-0.005244</td>\n",
              "      <td id=\"T_33e21_row11_col10\" class=\"data row11 col10\" >0.000309</td>\n",
              "      <td id=\"T_33e21_row11_col11\" class=\"data row11 col11\" >1.000000</td>\n",
              "      <td id=\"T_33e21_row11_col12\" class=\"data row11 col12\" >0.388541</td>\n",
              "      <td id=\"T_33e21_row11_col13\" class=\"data row11 col13\" >-0.045125</td>\n",
              "    </tr>\n",
              "    <tr>\n",
              "      <th id=\"T_33e21_level0_row12\" class=\"row_heading level0 row12\" >total_rev_hi_lim</th>\n",
              "      <td id=\"T_33e21_row12_col0\" class=\"data row12 col0\" >0.305268</td>\n",
              "      <td id=\"T_33e21_row12_col1\" class=\"data row12 col1\" >0.305809</td>\n",
              "      <td id=\"T_33e21_row12_col2\" class=\"data row12 col2\" >0.306148</td>\n",
              "      <td id=\"T_33e21_row12_col3\" class=\"data row12 col3\" >-0.156520</td>\n",
              "      <td id=\"T_33e21_row12_col4\" class=\"data row12 col4\" >0.280690</td>\n",
              "      <td id=\"T_33e21_row12_col5\" class=\"data row12 col5\" >-0.028406</td>\n",
              "      <td id=\"T_33e21_row12_col6\" class=\"data row12 col6\" >-0.008160</td>\n",
              "      <td id=\"T_33e21_row12_col7\" class=\"data row12 col7\" >-0.108963</td>\n",
              "      <td id=\"T_33e21_row12_col8\" class=\"data row12 col8\" >-0.014843</td>\n",
              "      <td id=\"T_33e21_row12_col9\" class=\"data row12 col9\" >-0.001134</td>\n",
              "      <td id=\"T_33e21_row12_col10\" class=\"data row12 col10\" >-0.004642</td>\n",
              "      <td id=\"T_33e21_row12_col11\" class=\"data row12 col11\" >0.388541</td>\n",
              "      <td id=\"T_33e21_row12_col12\" class=\"data row12 col12\" >1.000000</td>\n",
              "      <td id=\"T_33e21_row12_col13\" class=\"data row12 col13\" >-0.037421</td>\n",
              "    </tr>\n",
              "    <tr>\n",
              "      <th id=\"T_33e21_level0_row13\" class=\"row_heading level0 row13\" >default_ind</th>\n",
              "      <td id=\"T_33e21_row13_col0\" class=\"data row13 col0\" >-0.004887</td>\n",
              "      <td id=\"T_33e21_row13_col1\" class=\"data row13 col1\" >-0.005779</td>\n",
              "      <td id=\"T_33e21_row13_col2\" class=\"data row13 col2\" >-0.008151</td>\n",
              "      <td id=\"T_33e21_row13_col3\" class=\"data row13 col3\" >0.155057</td>\n",
              "      <td id=\"T_33e21_row13_col4\" class=\"data row13 col4\" >0.004753</td>\n",
              "      <td id=\"T_33e21_row13_col5\" class=\"data row13 col5\" >-0.000976</td>\n",
              "      <td id=\"T_33e21_row13_col6\" class=\"data row13 col6\" >0.021729</td>\n",
              "      <td id=\"T_33e21_row13_col7\" class=\"data row13 col7\" >0.044445</td>\n",
              "      <td id=\"T_33e21_row13_col8\" class=\"data row13 col8\" >-0.010644</td>\n",
              "      <td id=\"T_33e21_row13_col9\" class=\"data row13 col9\" >-0.001025</td>\n",
              "      <td id=\"T_33e21_row13_col10\" class=\"data row13 col10\" >-0.002444</td>\n",
              "      <td id=\"T_33e21_row13_col11\" class=\"data row13 col11\" >-0.045125</td>\n",
              "      <td id=\"T_33e21_row13_col12\" class=\"data row13 col12\" >-0.037421</td>\n",
              "      <td id=\"T_33e21_row13_col13\" class=\"data row13 col13\" >1.000000</td>\n",
              "    </tr>\n",
              "  </tbody>\n",
              "</table>\n"
            ],
            "text/plain": [
              "<pandas.io.formats.style.Styler at 0x7f7681cd9250>"
            ]
          },
          "execution_count": 43,
          "metadata": {},
          "output_type": "execute_result"
        }
      ],
      "source": [
        "corr.style.background_gradient(cmap='coolwarm')"
      ]
    },
    {
      "cell_type": "code",
      "execution_count": null,
      "metadata": {
        "colab": {
          "base_uri": "https://localhost:8080/"
        },
        "id": "g1NiDBlW-cJP",
        "outputId": "ed1352fc-8d85-4a2a-8011-662cee809c4f"
      },
      "outputs": [
        {
          "data": {
            "text/plain": [
              "default_ind                    1.000000\n",
              "int_rate                       0.155057\n",
              "revol_util                     0.044445\n",
              "mths_since_last_record         0.021729\n",
              "installment                    0.004753\n",
              "mths_since_last_delinq        -0.000976\n",
              "mths_since_last_major_derog   -0.001025\n",
              "tot_coll_amt                  -0.002444\n",
              "loan_amnt                     -0.004887\n",
              "funded_amnt                   -0.005779\n",
              "funded_amnt_inv               -0.008151\n",
              "collections_12_mths_ex_med    -0.010644\n",
              "total_rev_hi_lim              -0.037421\n",
              "tot_cur_bal                   -0.045125\n",
              "Name: default_ind, dtype: float64"
            ]
          },
          "execution_count": 44,
          "metadata": {},
          "output_type": "execute_result"
        }
      ],
      "source": [
        "corr['default_ind'].sort_values(ascending=False)"
      ]
    },
    {
      "cell_type": "markdown",
      "metadata": {
        "id": "pBUVRuXz9jeI"
      },
      "source": [
        "**Conclusion**\n",
        "\n",
        "it can be seen that correlation with default_ind is very small to all columns\n",
        "but the highest correlated column is interest rate to default_ind\n",
        "\n",
        "Interesting fact that Installment highly correlated with Loan amount, funded amount and funded amount inv\n"
      ]
    },
    {
      "cell_type": "markdown",
      "metadata": {
        "id": "-FIoi8YC6jpq"
      },
      "source": [
        "# 5. Visualise & Analyse\n",
        "\n",
        "**in this topic we are going to analyse how several columns relates to default index**"
      ]
    },
    {
      "cell_type": "code",
      "execution_count": null,
      "metadata": {
        "id": "OdrgoRRSBouc"
      },
      "outputs": [],
      "source": [
        "visualization_dataset = testing.copy()"
      ]
    },
    {
      "cell_type": "code",
      "execution_count": null,
      "metadata": {
        "colab": {
          "base_uri": "https://localhost:8080/",
          "height": 332
        },
        "id": "ci9J64EiI0ts",
        "outputId": "f6d1417d-145c-4716-ee65-217492459cea"
      },
      "outputs": [
        {
          "data": {
            "text/html": [
              "<div>\n",
              "<style scoped>\n",
              "    .dataframe tbody tr th:only-of-type {\n",
              "        vertical-align: middle;\n",
              "    }\n",
              "\n",
              "    .dataframe tbody tr th {\n",
              "        vertical-align: top;\n",
              "    }\n",
              "\n",
              "    .dataframe thead tr th {\n",
              "        text-align: left;\n",
              "    }\n",
              "\n",
              "    .dataframe thead tr:last-of-type th {\n",
              "        text-align: right;\n",
              "    }\n",
              "</style>\n",
              "<table border=\"1\" class=\"dataframe\">\n",
              "  <thead>\n",
              "    <tr>\n",
              "      <th></th>\n",
              "      <th colspan=\"2\" halign=\"left\">default_ind</th>\n",
              "      <th>percentage_category</th>\n",
              "    </tr>\n",
              "    <tr>\n",
              "      <th></th>\n",
              "      <th>count</th>\n",
              "      <th>sum</th>\n",
              "      <th></th>\n",
              "    </tr>\n",
              "    <tr>\n",
              "      <th>grade</th>\n",
              "      <th></th>\n",
              "      <th></th>\n",
              "      <th></th>\n",
              "    </tr>\n",
              "  </thead>\n",
              "  <tbody>\n",
              "    <tr>\n",
              "      <th>F</th>\n",
              "      <td>21323</td>\n",
              "      <td>3012</td>\n",
              "      <td>14.125592</td>\n",
              "    </tr>\n",
              "    <tr>\n",
              "      <th>E</th>\n",
              "      <td>66434</td>\n",
              "      <td>6455</td>\n",
              "      <td>9.716410</td>\n",
              "    </tr>\n",
              "    <tr>\n",
              "      <th>B</th>\n",
              "      <td>247916</td>\n",
              "      <td>9709</td>\n",
              "      <td>3.916246</td>\n",
              "    </tr>\n",
              "    <tr>\n",
              "      <th>D</th>\n",
              "      <td>132771</td>\n",
              "      <td>10789</td>\n",
              "      <td>8.126021</td>\n",
              "    </tr>\n",
              "    <tr>\n",
              "      <th>C</th>\n",
              "      <td>236808</td>\n",
              "      <td>12993</td>\n",
              "      <td>5.486723</td>\n",
              "    </tr>\n",
              "    <tr>\n",
              "      <th>A</th>\n",
              "      <td>145620</td>\n",
              "      <td>2663</td>\n",
              "      <td>1.828732</td>\n",
              "    </tr>\n",
              "    <tr>\n",
              "      <th>G</th>\n",
              "      <td>4871</td>\n",
              "      <td>813</td>\n",
              "      <td>16.690618</td>\n",
              "    </tr>\n",
              "  </tbody>\n",
              "</table>\n",
              "</div>"
            ],
            "text/plain": [
              "      default_ind        percentage_category\n",
              "            count    sum                    \n",
              "grade                                       \n",
              "F           21323   3012           14.125592\n",
              "E           66434   6455            9.716410\n",
              "B          247916   9709            3.916246\n",
              "D          132771  10789            8.126021\n",
              "C          236808  12993            5.486723\n",
              "A          145620   2663            1.828732\n",
              "G            4871    813           16.690618"
            ]
          },
          "metadata": {},
          "output_type": "display_data"
        }
      ],
      "source": [
        "#Let's check how likly grade depends  on borrower is unable to make timely payments, misses payments, avoids or stops making payments.\n",
        "visualization_grade=visualization_dataset.groupby('grade').agg({'default_ind':['count','sum']})\n",
        "visualization_grade['percentage_category'] = (visualization_grade['default_ind']['sum']  / visualization_grade['default_ind'] ['count'])*100\n",
        "display(visualization_grade)"
      ]
    },
    {
      "cell_type": "markdown",
      "metadata": {
        "id": "HqO8w0cqJrH-"
      },
      "source": [
        "Those who take loan with grade B and A most likely pays it on time\n",
        "However those people who take loan with grade F or G less likely pays it on time and misses payments or avoid or srop making payments. Then it goes small_businesses and wedding\n",
        "\n",
        "\n",
        "thus it has correlation between purpose and payment on time"
      ]
    },
    {
      "cell_type": "code",
      "execution_count": null,
      "metadata": {
        "colab": {
          "base_uri": "https://localhost:8080/",
          "height": 551
        },
        "id": "HsN_IwIi6pMZ",
        "outputId": "c64fcf95-f037-4d91-bf53-62423df48259"
      },
      "outputs": [
        {
          "data": {
            "text/html": [
              "<div>\n",
              "<style scoped>\n",
              "    .dataframe tbody tr th:only-of-type {\n",
              "        vertical-align: middle;\n",
              "    }\n",
              "\n",
              "    .dataframe tbody tr th {\n",
              "        vertical-align: top;\n",
              "    }\n",
              "\n",
              "    .dataframe thead tr th {\n",
              "        text-align: left;\n",
              "    }\n",
              "\n",
              "    .dataframe thead tr:last-of-type th {\n",
              "        text-align: right;\n",
              "    }\n",
              "</style>\n",
              "<table border=\"1\" class=\"dataframe\">\n",
              "  <thead>\n",
              "    <tr>\n",
              "      <th></th>\n",
              "      <th colspan=\"2\" halign=\"left\">default_ind</th>\n",
              "      <th>percentage_category</th>\n",
              "    </tr>\n",
              "    <tr>\n",
              "      <th></th>\n",
              "      <th>count</th>\n",
              "      <th>sum</th>\n",
              "      <th></th>\n",
              "    </tr>\n",
              "    <tr>\n",
              "      <th>purpose</th>\n",
              "      <th></th>\n",
              "      <th></th>\n",
              "      <th></th>\n",
              "    </tr>\n",
              "  </thead>\n",
              "  <tbody>\n",
              "    <tr>\n",
              "      <th>wedding</th>\n",
              "      <td>2277</td>\n",
              "      <td>265</td>\n",
              "      <td>11.638120</td>\n",
              "    </tr>\n",
              "    <tr>\n",
              "      <th>educational</th>\n",
              "      <td>316</td>\n",
              "      <td>54</td>\n",
              "      <td>17.088608</td>\n",
              "    </tr>\n",
              "    <tr>\n",
              "      <th>other</th>\n",
              "      <td>40926</td>\n",
              "      <td>2998</td>\n",
              "      <td>7.325417</td>\n",
              "    </tr>\n",
              "    <tr>\n",
              "      <th>small_business</th>\n",
              "      <td>9757</td>\n",
              "      <td>1379</td>\n",
              "      <td>14.133443</td>\n",
              "    </tr>\n",
              "    <tr>\n",
              "      <th>debt_consolidation</th>\n",
              "      <td>505316</td>\n",
              "      <td>28381</td>\n",
              "      <td>5.616486</td>\n",
              "    </tr>\n",
              "    <tr>\n",
              "      <th>credit_card</th>\n",
              "      <td>200105</td>\n",
              "      <td>8054</td>\n",
              "      <td>4.024887</td>\n",
              "    </tr>\n",
              "    <tr>\n",
              "      <th>moving</th>\n",
              "      <td>5159</td>\n",
              "      <td>436</td>\n",
              "      <td>8.451250</td>\n",
              "    </tr>\n",
              "    <tr>\n",
              "      <th>vacation</th>\n",
              "      <td>4542</td>\n",
              "      <td>278</td>\n",
              "      <td>6.120652</td>\n",
              "    </tr>\n",
              "    <tr>\n",
              "      <th>renewable_energy</th>\n",
              "      <td>549</td>\n",
              "      <td>54</td>\n",
              "      <td>9.836066</td>\n",
              "    </tr>\n",
              "    <tr>\n",
              "      <th>house</th>\n",
              "      <td>3508</td>\n",
              "      <td>293</td>\n",
              "      <td>8.352338</td>\n",
              "    </tr>\n",
              "    <tr>\n",
              "      <th>car</th>\n",
              "      <td>8589</td>\n",
              "      <td>458</td>\n",
              "      <td>5.332402</td>\n",
              "    </tr>\n",
              "    <tr>\n",
              "      <th>major_purchase</th>\n",
              "      <td>16571</td>\n",
              "      <td>887</td>\n",
              "      <td>5.352725</td>\n",
              "    </tr>\n",
              "    <tr>\n",
              "      <th>medical</th>\n",
              "      <td>8188</td>\n",
              "      <td>582</td>\n",
              "      <td>7.107963</td>\n",
              "    </tr>\n",
              "    <tr>\n",
              "      <th>home_improvement</th>\n",
              "      <td>49940</td>\n",
              "      <td>2315</td>\n",
              "      <td>4.635563</td>\n",
              "    </tr>\n",
              "  </tbody>\n",
              "</table>\n",
              "</div>"
            ],
            "text/plain": [
              "                   default_ind        percentage_category\n",
              "                         count    sum                    \n",
              "purpose                                                  \n",
              "wedding                   2277    265           11.638120\n",
              "educational                316     54           17.088608\n",
              "other                    40926   2998            7.325417\n",
              "small_business            9757   1379           14.133443\n",
              "debt_consolidation      505316  28381            5.616486\n",
              "credit_card             200105   8054            4.024887\n",
              "moving                    5159    436            8.451250\n",
              "vacation                  4542    278            6.120652\n",
              "renewable_energy           549     54            9.836066\n",
              "house                     3508    293            8.352338\n",
              "car                       8589    458            5.332402\n",
              "major_purchase           16571    887            5.352725\n",
              "medical                   8188    582            7.107963\n",
              "home_improvement         49940   2315            4.635563"
            ]
          },
          "metadata": {},
          "output_type": "display_data"
        }
      ],
      "source": [
        "#Let's check how likly purpose depends on borrower is unable to make timely payments, misses payments, avoids or stops making payments.\n",
        "visualization_purpose=visualization_dataset.groupby('purpose').agg({'default_ind':['count','sum']})\n",
        "visualization_purpose['percentage_category'] = (visualization_purpose['default_ind']['sum']  / visualization_purpose['default_ind'] ['count'])*100\n",
        "display(visualization_purpose)"
      ]
    },
    {
      "cell_type": "markdown",
      "metadata": {
        "id": "cV3QXUDaCHGR"
      },
      "source": [
        "Those who take loan on credit_card most likely pays it on time same as home improvement and debt_consolidation\n",
        "However those people who take loan on educational less likely pays it on time and misses payments or avoid or srop making payments. Then it goes small_businesses and wedding\n",
        "\n",
        "\n",
        "thus it has correlation between purpose and payment on time"
      ]
    },
    {
      "cell_type": "code",
      "execution_count": null,
      "metadata": {
        "colab": {
          "base_uri": "https://localhost:8080/",
          "height": 175
        },
        "id": "lWwU98IEW7wg",
        "outputId": "80cf9461-4d20-4871-9d14-7556ecf47be6"
      },
      "outputs": [
        {
          "data": {
            "text/html": [
              "<div>\n",
              "<style scoped>\n",
              "    .dataframe tbody tr th:only-of-type {\n",
              "        vertical-align: middle;\n",
              "    }\n",
              "\n",
              "    .dataframe tbody tr th {\n",
              "        vertical-align: top;\n",
              "    }\n",
              "\n",
              "    .dataframe thead tr th {\n",
              "        text-align: left;\n",
              "    }\n",
              "\n",
              "    .dataframe thead tr:last-of-type th {\n",
              "        text-align: right;\n",
              "    }\n",
              "</style>\n",
              "<table border=\"1\" class=\"dataframe\">\n",
              "  <thead>\n",
              "    <tr>\n",
              "      <th></th>\n",
              "      <th colspan=\"2\" halign=\"left\">default_ind</th>\n",
              "      <th>percentage_category</th>\n",
              "    </tr>\n",
              "    <tr>\n",
              "      <th></th>\n",
              "      <th>count</th>\n",
              "      <th>sum</th>\n",
              "      <th></th>\n",
              "    </tr>\n",
              "    <tr>\n",
              "      <th>application_type</th>\n",
              "      <th></th>\n",
              "      <th></th>\n",
              "      <th></th>\n",
              "    </tr>\n",
              "  </thead>\n",
              "  <tbody>\n",
              "    <tr>\n",
              "      <th>INDIVIDUAL</th>\n",
              "      <td>855301</td>\n",
              "      <td>46434</td>\n",
              "      <td>5.428966</td>\n",
              "    </tr>\n",
              "    <tr>\n",
              "      <th>JOINT</th>\n",
              "      <td>442</td>\n",
              "      <td>0</td>\n",
              "      <td>0.000000</td>\n",
              "    </tr>\n",
              "  </tbody>\n",
              "</table>\n",
              "</div>"
            ],
            "text/plain": [
              "                 default_ind        percentage_category\n",
              "                       count    sum                    \n",
              "application_type                                       \n",
              "INDIVIDUAL            855301  46434            5.428966\n",
              "JOINT                    442      0            0.000000"
            ]
          },
          "metadata": {},
          "output_type": "display_data"
        }
      ],
      "source": [
        "#application_type\n",
        "#Let's check how likly application_type depends on borrower is unable to make timely payments, misses payments, avoids or stops making payments.\n",
        "visualization_app_type = visualization_dataset.groupby('application_type').agg({'default_ind':['count','sum']})\n",
        "visualization_app_type['percentage_category'] = (visualization_app_type['default_ind']['sum']  / visualization_app_type['default_ind'] ['count'])*100\n",
        "display(visualization_app_type)"
      ]
    },
    {
      "cell_type": "markdown",
      "metadata": {
        "id": "zN_RdohzXwgO"
      },
      "source": [
        "Those who take loan with two co-borrowers  pays it on time same as home improvement and debt_consolidation\n",
        "However those people who take loan individually less likely pays it on time and misses payments or avoid or srop making payments"
      ]
    },
    {
      "cell_type": "code",
      "execution_count": null,
      "metadata": {
        "colab": {
          "base_uri": "https://localhost:8080/",
          "height": 300
        },
        "id": "6n_v09FMXbzJ",
        "outputId": "75b48c09-129b-4a8f-c6df-682220ccdf5b"
      },
      "outputs": [
        {
          "data": {
            "text/html": [
              "<div>\n",
              "<style scoped>\n",
              "    .dataframe tbody tr th:only-of-type {\n",
              "        vertical-align: middle;\n",
              "    }\n",
              "\n",
              "    .dataframe tbody tr th {\n",
              "        vertical-align: top;\n",
              "    }\n",
              "\n",
              "    .dataframe thead tr th {\n",
              "        text-align: left;\n",
              "    }\n",
              "\n",
              "    .dataframe thead tr:last-of-type th {\n",
              "        text-align: right;\n",
              "    }\n",
              "</style>\n",
              "<table border=\"1\" class=\"dataframe\">\n",
              "  <thead>\n",
              "    <tr>\n",
              "      <th></th>\n",
              "      <th colspan=\"2\" halign=\"left\">default_ind</th>\n",
              "      <th>percentage_category</th>\n",
              "    </tr>\n",
              "    <tr>\n",
              "      <th></th>\n",
              "      <th>count</th>\n",
              "      <th>sum</th>\n",
              "      <th></th>\n",
              "    </tr>\n",
              "    <tr>\n",
              "      <th>home_ownership</th>\n",
              "      <th></th>\n",
              "      <th></th>\n",
              "      <th></th>\n",
              "    </tr>\n",
              "  </thead>\n",
              "  <tbody>\n",
              "    <tr>\n",
              "      <th>OWN</th>\n",
              "      <td>84117</td>\n",
              "      <td>4131</td>\n",
              "      <td>4.911017</td>\n",
              "    </tr>\n",
              "    <tr>\n",
              "      <th>RENT</th>\n",
              "      <td>342417</td>\n",
              "      <td>21904</td>\n",
              "      <td>6.396879</td>\n",
              "    </tr>\n",
              "    <tr>\n",
              "      <th>MORTGAGE</th>\n",
              "      <td>429017</td>\n",
              "      <td>20365</td>\n",
              "      <td>4.746898</td>\n",
              "    </tr>\n",
              "    <tr>\n",
              "      <th>ANY</th>\n",
              "      <td>3</td>\n",
              "      <td>0</td>\n",
              "      <td>0.000000</td>\n",
              "    </tr>\n",
              "    <tr>\n",
              "      <th>OTHER</th>\n",
              "      <td>144</td>\n",
              "      <td>27</td>\n",
              "      <td>18.750000</td>\n",
              "    </tr>\n",
              "    <tr>\n",
              "      <th>NONE</th>\n",
              "      <td>45</td>\n",
              "      <td>7</td>\n",
              "      <td>15.555556</td>\n",
              "    </tr>\n",
              "  </tbody>\n",
              "</table>\n",
              "</div>"
            ],
            "text/plain": [
              "               default_ind        percentage_category\n",
              "                     count    sum                    \n",
              "home_ownership                                       \n",
              "OWN                  84117   4131            4.911017\n",
              "RENT                342417  21904            6.396879\n",
              "MORTGAGE            429017  20365            4.746898\n",
              "ANY                      3      0            0.000000\n",
              "OTHER                  144     27           18.750000\n",
              "NONE                    45      7           15.555556"
            ]
          },
          "metadata": {},
          "output_type": "display_data"
        }
      ],
      "source": [
        "#home_ownership\n",
        "#Let's check how likly home_ownership depends on borrower is unable to make timely payments, misses payments, avoids or stops making payments.\n",
        "visualization_home_ownership=visualization_dataset.groupby('home_ownership').agg({'default_ind':['count','sum']})\n",
        "visualization_home_ownership['percentage_category'] = (visualization_home_ownership['default_ind']['sum']  / visualization_home_ownership['default_ind'] ['count'])*100\n",
        "display(visualization_home_ownership)"
      ]
    },
    {
      "cell_type": "markdown",
      "metadata": {
        "id": "6RWxmsbPXF8K"
      },
      "source": [
        "Those who take loan with and home_ownership \"MORTGAGE\" pays it on time same as home improvement and debt_consolidation\n",
        "However those people who take loan and home_ownership \"Any\" or \"other\"  less likely pays it on time and misses payments or avoid or srop making payments"
      ]
    },
    {
      "cell_type": "markdown",
      "metadata": {
        "id": "NxMD9AcZ6uTZ"
      },
      "source": [
        "# 7. Report"
      ]
    },
    {
      "cell_type": "markdown",
      "metadata": {
        "id": "z0s41zDW-wW7"
      },
      "source": [
        "The data cleaning and analysis was done by using Pandas on spark data frame. At first, we checked the data and found that most of the data was in object datatype that needs to be changed to the correct datatype. Here is a list of incorrect data along with their required correct data types:\n",
        "> •\tterm - remove months change to int\n",
        "\n",
        "> •\temp_length: check how can we improve this column\n",
        "\n",
        "> •\tannual_inc: change to float\n",
        "\n",
        "> •\tissue_d: change to date format\n",
        "\n",
        "> •\tdti: change to float\n",
        "\n",
        "> •\tdelinq_2yrs: check if could be converted to int\n",
        "\n",
        "> •\tearliest_cr_line: change to date format\n",
        "\n",
        "> •\tinq_last_6mths: change to int\n",
        "\n",
        "> •\tmths_since_last_delinq: change to int\n",
        "\n",
        "> •\tmths_since_last_record: change to int\n",
        "\n",
        "> •\topen_acc: change to int\n",
        "\n",
        "> •\tpub_rec: change to int\n",
        "\n",
        "> •\trevol_bal: change to int\n",
        "\n",
        "> •\trevol_util: change to float\n",
        "\n",
        "> •\ttotal_acc: change to int\n",
        "\n",
        "> •\tout_prncp and out_prncp_inv: change to float\n",
        "\n",
        "> •\ttotal_pymnt and total_pymnt_inv: change to float\n",
        "\n",
        "> •\ttotal_rec_prncp and total_rec_int and total_rec_late_fee: change to float\n",
        "> •\trecoveries: change to float\n",
        "\n",
        "> •\tcollection_recovery_fee: change to float\n",
        "\n",
        "> •\tlast_pymnt_d: change to date format\n",
        "\n",
        "> •\tlast_pymnt_amnt: change to float\n",
        "\n",
        "> •\tnext_pymnt_d: change to date format\n",
        "\n",
        "> •\tlast_credit_pull_d: change to date format\n",
        "\n",
        "> •\tcollections_12_mths_ex_med: change to int\n",
        "\n",
        "> •\tmths_since_last_major_derog: change to int\n",
        "\n",
        "> •\tpolicy_code: change to int\n",
        "\n",
        "> •\tacc_now_delinq: change to int or float\n",
        "\n",
        "> •\ttot_coll_amt: change to float\n",
        "\n",
        "> •\ttot_cur_bal: change to float\n",
        "\n",
        "> •\ttotal_rev_hi_lim: change to float\n",
        "\n",
        "\n",
        "Then, we checked if there is any duplicate data present. The data is unique with no duplications found. The columns in the data frame which contained less than 5 percent of data were removed get high level of accuracy and the function to pre-process data was created from scratch.\n",
        "> •\tFunction check_percentage_ofMissingValues() checks all the colmns which contain data with less than 5 percent, less than 15 percent and greater than 15 percent.\n",
        "\n",
        "> •\tFunction preprocess_ds() converts the data into their correct types.\n",
        "The columns which contained less than 5 percent of data and were dropped are:\n",
        "\n",
        "> •\tid\n",
        "\n",
        ">•\tmember_id\n",
        "\n",
        "> •\tannual_inc_joint\n",
        "\n",
        "> •\tdti_joint\n",
        "\n",
        "> •\tverification_status_joint\n",
        "\n",
        "> •\topen_acc_6m\n",
        "\n",
        "> •\topen_il_6m\n",
        "\n",
        "> •\topen_il_12m\n",
        "\n",
        "> •\topen_il_24m\n",
        "\n",
        "> •\tmths_since_rcnt_il\n",
        "\n",
        "> •\ttotal_bal_il\n",
        "\n",
        "> •\til_util', 'open_rv_12m\n",
        "\n",
        "> •\topen_rv_24m\n",
        "\n",
        "> •\tmax_bal_bc\n",
        "\n",
        "> •\tall_util\n",
        "\n",
        "> •\tinq_fi\n",
        "\n",
        "> •\ttotal_cu_tl\n",
        "\n",
        "> •\tinq_last_12m\n",
        "\n",
        "The columns which contained greater than 5 percent of data were also dropped as they contained unique date values which could not be replaced.\n",
        "The columns with data greater than 15 percent and have their null values filled with median to obtain a higher accuracy. These columns are:\n",
        "\n",
        "> •\tmths_since_last_delinq\n",
        "\n",
        "> •\tmths_since_last_record\n",
        "\n",
        "> •\t'mths_since_last_major_derog\n",
        "\n",
        "> •\ttot_coll_amt\n",
        "\n",
        "> •\ttot_cur_bal\n",
        "\n",
        "> •\ttotal_rev_hi_lim\n",
        "\n",
        "After cleaning, the data was pre-processed again, and no duplicates were found.\n",
        "\n",
        "A histogram was plotted on the default_ind column which was highly imbalanced, and it showed that in order to improve our model we need to perform unsampling on our current data or look for another option.\n",
        "\n",
        "The columns which contained numeric data were checked for noise and outliers. To check the outliers, we plotted boxplots which showed that few columns have outliers which can impact our model. The z-score method was used to get the rows with outliers and these rows were dropped from the data frame.\n",
        "\n",
        "The correlation matrix was plotted to check the relations of every column with default_ind. It was found that most of columns have very small correlation with the default_ind. The highest correlation found was 15.5 percent with int_rate column. Another interesting information we found was that installment is highly correlated with loan_amnt, funded_amnt and funded_amnt_inv.\n",
        "\n",
        "To visualize how each several columns relate to the the default_ind we displayed a table which shows their grade and percentage_category of each grade. It was found that those having grade A and B are more likely to pay their loans on time. Those with grades F and G are less likely to pay back their loans on time or stop making payments.\n",
        "\n",
        "It was also found that credit card loans, home improvement loans, debt consolidation loans are more likely to be paid off in time and education loans, small business loans and wedding loans are very less likely to be paid.\n",
        "\n",
        "The customers who take loan together (joint loan) always pay it on time as compared to the customers who take individual loans. The customers who take individual loans does not always pay loan on time, although the percentage is very low (5 percent).\n",
        "\n",
        "Those customers who pay mortgage on their house or own a house are more likely to pay off their loans and the customers with rent a home or home status with any/other are very less likely to pay off their loans."
      ]
    },
    {
      "cell_type": "markdown",
      "metadata": {
        "id": "InykHgpr-Uj7"
      },
      "source": [
        "# Predictive analysis"
      ]
    },
    {
      "cell_type": "markdown",
      "metadata": {
        "id": "Fn_ycuU--bNm"
      },
      "source": [
        "# Specific requirements of Process One:\n",
        "# This process is built with the ML library of Spark (i.e., pyspark.ml and pyspark.mllib)"
      ]
    },
    {
      "cell_type": "code",
      "execution_count": null,
      "metadata": {
        "id": "Ex0y9HYXAmE4"
      },
      "outputs": [],
      "source": [
        "from pyspark.ml.feature import StringIndexer\n",
        "from pyspark.ml.feature import QuantileDiscretizer\n",
        "from pyspark.ml.feature import VectorAssembler\n",
        "from pyspark.sql.functions import col\n",
        "from pyspark.ml.classification import RandomForestClassifier\n",
        "from pyspark.ml.classification import DecisionTreeClassifier\n",
        "from pyspark.ml.classification import MultilayerPerceptronClassifier\n",
        "from pyspark.ml.evaluation import MulticlassClassificationEvaluator\n",
        "from pyspark.ml import Pipeline"
      ]
    },
    {
      "cell_type": "markdown",
      "source": [
        "#Preparing data for spark models"
      ],
      "metadata": {
        "id": "0fe8Q2vIgue6"
      }
    },
    {
      "cell_type": "code",
      "execution_count": null,
      "metadata": {
        "colab": {
          "base_uri": "https://localhost:8080/"
        },
        "id": "lBJ5Vy2m6wzA",
        "outputId": "3c007260-0495-43bd-9e86-b37e60ef7f96"
      },
      "outputs": [
        {
          "name": "stderr",
          "output_type": "stream",
          "text": [
            "/usr/local/lib/python3.7/dist-packages/pyspark/pandas/utils.py:975: PandasAPIOnSparkAdviceWarning: If `index_col` is not specified for `to_spark`, the existing index is lost when converting to Spark DataFrame.\n",
            "  warnings.warn(message, PandasAPIOnSparkAdviceWarning)\n"
          ]
        }
      ],
      "source": [
        "sparkdf = psdf.to_spark() # converting pandas spark to spark dataframe\n",
        "# converting string columns to numeric\n",
        "stringIdx = StringIndexer(inputCol = 'grade', outputCol = 'Sgrade')\n",
        "sparkdf = stringIdx.fit(sparkdf).transform(sparkdf)\n",
        "stringIdx = StringIndexer(inputCol = 'sub_grade', outputCol = 'Ssub_grade')\n",
        "sparkdf = stringIdx.fit(sparkdf).transform(sparkdf)\n",
        "stringIdx = StringIndexer(inputCol = 'emp_title', outputCol = 'Semp_title')\n",
        "sparkdf = stringIdx.fit(sparkdf).transform(sparkdf)\n",
        "stringIdx = StringIndexer(inputCol = 'verification_status', outputCol = 'Sverification_status')\n",
        "sparkdf = stringIdx.fit(sparkdf).transform(sparkdf)\n",
        "stringIdx = StringIndexer(inputCol = 'pymnt_plan', outputCol = 'Spymnt_plan')\n",
        "sparkdf = stringIdx.fit(sparkdf).transform(sparkdf)\n",
        "stringIdx = StringIndexer(inputCol = 'purpose', outputCol = 'Spurpose')\n",
        "sparkdf = stringIdx.fit(sparkdf).transform(sparkdf)\n",
        "stringIdx = StringIndexer(inputCol = 'title', outputCol = 'Stitle')\n",
        "sparkdf = stringIdx.fit(sparkdf).transform(sparkdf)\n",
        "stringIdx = StringIndexer(inputCol = 'zip_code', outputCol = 'Szip_code')\n",
        "sparkdf = stringIdx.fit(sparkdf).transform(sparkdf)\n",
        "stringIdx = StringIndexer(inputCol = 'addr_state', outputCol = 'Saddr_state')\n",
        "sparkdf = stringIdx.fit(sparkdf).transform(sparkdf)\n",
        "stringIdx = StringIndexer(inputCol = 'initial_list_status', outputCol = 'Sinitial_list_status')\n",
        "sparkdf = stringIdx.fit(sparkdf).transform(sparkdf)\n",
        "stringIdx = StringIndexer(inputCol = 'application_type', outputCol = 'Sapplication_type')\n",
        "sparkdf = stringIdx.fit(sparkdf).transform(sparkdf)\n",
        "stringIdx = StringIndexer(inputCol = 'home_ownership', outputCol = 'Shome_ownership')\n",
        "sparkdf = stringIdx.fit(sparkdf).transform(sparkdf)\n",
        "# converting the continous values into 34 bins for Decision tree and random forest\n",
        "discretizer = QuantileDiscretizer(numBuckets=34, inputCol=\"Semp_title\", outputCol=\"Qemp_title\")\n",
        "sparkdf = discretizer.fit(sparkdf).transform(sparkdf)\n",
        "discretizer = QuantileDiscretizer(numBuckets=34, inputCol=\"Stitle\", outputCol=\"Qtitle\")\n",
        "sparkdf = discretizer.fit(sparkdf).transform(sparkdf)\n",
        "discretizer = QuantileDiscretizer(numBuckets=34, inputCol=\"Szip_code\", outputCol=\"Qzip_code\")\n",
        "sparkdf = discretizer.fit(sparkdf).transform(sparkdf)\n",
        "discretizer = QuantileDiscretizer(numBuckets=34, inputCol=\"mths_since_last_delinq\", outputCol=\"Qmths_since_last_delinq\")\n",
        "sparkdf = discretizer.fit(sparkdf).transform(sparkdf)\n",
        "discretizer = QuantileDiscretizer(numBuckets=34, inputCol=\"Saddr_state\", outputCol=\"Qaddr_state\")\n",
        "sparkdf = discretizer.fit(sparkdf).transform(sparkdf)\n",
        "discretizer = QuantileDiscretizer(numBuckets=34, inputCol=\"mths_since_last_record\", outputCol=\"Qmths_since_last_record\")\n",
        "sparkdf = discretizer.fit(sparkdf).transform(sparkdf)\n",
        "discretizer = QuantileDiscretizer(numBuckets=34, inputCol=\"open_acc\", outputCol=\"Qopen_acc\")\n",
        "sparkdf = discretizer.fit(sparkdf).transform(sparkdf)\n",
        "discretizer = QuantileDiscretizer(numBuckets=34, inputCol=\"revol_bal\", outputCol=\"Qrevol_bal\")\n",
        "sparkdf = discretizer.fit(sparkdf).transform(sparkdf)\n",
        "discretizer = QuantileDiscretizer(numBuckets=34, inputCol=\"revol_util\", outputCol=\"Qrevol_util\")\n",
        "sparkdf = discretizer.fit(sparkdf).transform(sparkdf)\n",
        "discretizer = QuantileDiscretizer(numBuckets=34, inputCol=\"total_acc\", outputCol=\"Qtotal_acc\")\n",
        "sparkdf = discretizer.fit(sparkdf).transform(sparkdf)\n",
        "discretizer = QuantileDiscretizer(numBuckets=34, inputCol=\"out_prncp\", outputCol=\"Qout_prncp\")\n",
        "sparkdf = discretizer.fit(sparkdf).transform(sparkdf)\n",
        "discretizer = QuantileDiscretizer(numBuckets=34, inputCol=\"out_prncp_inv\", outputCol=\"Qout_prncp_inv\")\n",
        "sparkdf = discretizer.fit(sparkdf).transform(sparkdf)\n",
        "discretizer = QuantileDiscretizer(numBuckets=34, inputCol=\"total_pymnt\", outputCol=\"Qtotal_pymnt\")\n",
        "sparkdf = discretizer.fit(sparkdf).transform(sparkdf)\n",
        "discretizer = QuantileDiscretizer(numBuckets=34, inputCol=\"total_rev_hi_lim\", outputCol=\"Qtotal_rev_hi_lim\")\n",
        "sparkdf = discretizer.fit(sparkdf).transform(sparkdf)\n",
        "discretizer = QuantileDiscretizer(numBuckets=34, inputCol=\"tot_cur_bal\", outputCol=\"Qtot_cur_bal\")\n",
        "sparkdf = discretizer.fit(sparkdf).transform(sparkdf)\n",
        "discretizer = QuantileDiscretizer(numBuckets=34, inputCol=\"tot_coll_amt\", outputCol=\"Qtot_coll_amt\")\n",
        "sparkdf = discretizer.fit(sparkdf).transform(sparkdf)\n",
        "discretizer = QuantileDiscretizer(numBuckets=34, inputCol=\"mths_since_last_major_derog\", outputCol=\"Qmths_since_last_major_derog\")\n",
        "sparkdf = discretizer.fit(sparkdf).transform(sparkdf)\n",
        "discretizer = QuantileDiscretizer(numBuckets=34, inputCol=\"last_pymnt_amnt\", outputCol=\"Qlast_pymnt_amnt\")\n",
        "sparkdf = discretizer.fit(sparkdf).transform(sparkdf)\n",
        "discretizer = QuantileDiscretizer(numBuckets=34, inputCol=\"recoveries\", outputCol=\"Qrecoveries\")\n",
        "sparkdf = discretizer.fit(sparkdf).transform(sparkdf)\n",
        "discretizer = QuantileDiscretizer(numBuckets=34, inputCol=\"total_rec_late_fee\", outputCol=\"Qtotal_rec_late_fee\")\n",
        "sparkdf = discretizer.fit(sparkdf).transform(sparkdf)\n",
        "discretizer = QuantileDiscretizer(numBuckets=34, inputCol=\"total_rec_int\", outputCol=\"Qtotal_rec_int\")\n",
        "sparkdf = discretizer.fit(sparkdf).transform(sparkdf)\n",
        "discretizer = QuantileDiscretizer(numBuckets=34, inputCol=\"total_rec_prncp\", outputCol=\"Qtotal_rec_prncp\")\n",
        "sparkdf = discretizer.fit(sparkdf).transform(sparkdf)\n",
        "discretizer = QuantileDiscretizer(numBuckets=34, inputCol=\"total_pymnt_inv\", outputCol=\"Qtotal_pymnt_inv\")\n",
        "sparkdf = discretizer.fit(sparkdf).transform(sparkdf)\n",
        "# now using all the columns and enssembling it in one column as features\n",
        "numericCols = ['Qtotal_rev_hi_lim','Qtot_cur_bal','Qtot_coll_amt','Qtotal_pymnt','Qmths_since_last_major_derog','Qlast_pymnt_amnt','Qrecoveries','Qtotal_rec_late_fee','Qtotal_rec_int','Qtotal_rec_prncp','Qtotal_pymnt_inv','Qmths_since_last_delinq','Qaddr_state','Qmths_since_last_record','Qopen_acc','Qrevol_bal','Qrevol_util','Qtotal_acc','Qout_prncp','Qout_prncp_inv','Qtotal_pymnt','Qemp_title','Qtitle','Qzip_code','loan_amnt','funded_amnt','funded_amnt_inv','term','int_rate','installment','Sgrade','Ssub_grade','Shome_ownership','annual_inc','Sverification_status','Spymnt_plan','Spurpose','delinq_2yrs','inq_last_6mths','pub_rec','Sinitial_list_status','collections_12_mths_ex_med','policy_code','Sapplication_type','acc_now_delinq']\n",
        "assembler = VectorAssembler(inputCols=numericCols, outputCol=\"features\")\n",
        "sparkdf = assembler.transform(sparkdf)\n",
        "# transforming the target value to label throught string indexer\n",
        "label_stringIdx = StringIndexer(inputCol = 'default_ind', outputCol = 'label')\n",
        "sparkdf = label_stringIdx.fit(sparkdf).transform(sparkdf)\n",
        "# creating a dataframe which only have the features and label\n",
        "df = sparkdf.select(col(\"features\"),col(\"label\"))"
      ]
    },
    {
      "cell_type": "code",
      "execution_count": null,
      "metadata": {
        "colab": {
          "base_uri": "https://localhost:8080/",
          "height": 112
        },
        "id": "qsnQLjhqFWfd",
        "outputId": "5c50a1f5-550c-4848-c06f-48aa20caad98"
      },
      "outputs": [
        {
          "data": {
            "text/html": [
              "\n",
              "  <div id=\"df-75238e20-7b3d-442d-b843-5662387a24fb\">\n",
              "    <div class=\"colab-df-container\">\n",
              "      <div>\n",
              "<style scoped>\n",
              "    .dataframe tbody tr th:only-of-type {\n",
              "        vertical-align: middle;\n",
              "    }\n",
              "\n",
              "    .dataframe tbody tr th {\n",
              "        vertical-align: top;\n",
              "    }\n",
              "\n",
              "    .dataframe thead th {\n",
              "        text-align: right;\n",
              "    }\n",
              "</style>\n",
              "<table border=\"1\" class=\"dataframe\">\n",
              "  <thead>\n",
              "    <tr style=\"text-align: right;\">\n",
              "      <th></th>\n",
              "      <th>label</th>\n",
              "      <th>count</th>\n",
              "    </tr>\n",
              "  </thead>\n",
              "  <tbody>\n",
              "    <tr>\n",
              "      <th>0</th>\n",
              "      <td>0.0</td>\n",
              "      <td>566228</td>\n",
              "    </tr>\n",
              "    <tr>\n",
              "      <th>1</th>\n",
              "      <td>1.0</td>\n",
              "      <td>32598</td>\n",
              "    </tr>\n",
              "  </tbody>\n",
              "</table>\n",
              "</div>\n",
              "      <button class=\"colab-df-convert\" onclick=\"convertToInteractive('df-75238e20-7b3d-442d-b843-5662387a24fb')\"\n",
              "              title=\"Convert this dataframe to an interactive table.\"\n",
              "              style=\"display:none;\">\n",
              "        \n",
              "  <svg xmlns=\"http://www.w3.org/2000/svg\" height=\"24px\"viewBox=\"0 0 24 24\"\n",
              "       width=\"24px\">\n",
              "    <path d=\"M0 0h24v24H0V0z\" fill=\"none\"/>\n",
              "    <path d=\"M18.56 5.44l.94 2.06.94-2.06 2.06-.94-2.06-.94-.94-2.06-.94 2.06-2.06.94zm-11 1L8.5 8.5l.94-2.06 2.06-.94-2.06-.94L8.5 2.5l-.94 2.06-2.06.94zm10 10l.94 2.06.94-2.06 2.06-.94-2.06-.94-.94-2.06-.94 2.06-2.06.94z\"/><path d=\"M17.41 7.96l-1.37-1.37c-.4-.4-.92-.59-1.43-.59-.52 0-1.04.2-1.43.59L10.3 9.45l-7.72 7.72c-.78.78-.78 2.05 0 2.83L4 21.41c.39.39.9.59 1.41.59.51 0 1.02-.2 1.41-.59l7.78-7.78 2.81-2.81c.8-.78.8-2.07 0-2.86zM5.41 20L4 18.59l7.72-7.72 1.47 1.35L5.41 20z\"/>\n",
              "  </svg>\n",
              "      </button>\n",
              "      \n",
              "  <style>\n",
              "    .colab-df-container {\n",
              "      display:flex;\n",
              "      flex-wrap:wrap;\n",
              "      gap: 12px;\n",
              "    }\n",
              "\n",
              "    .colab-df-convert {\n",
              "      background-color: #E8F0FE;\n",
              "      border: none;\n",
              "      border-radius: 50%;\n",
              "      cursor: pointer;\n",
              "      display: none;\n",
              "      fill: #1967D2;\n",
              "      height: 32px;\n",
              "      padding: 0 0 0 0;\n",
              "      width: 32px;\n",
              "    }\n",
              "\n",
              "    .colab-df-convert:hover {\n",
              "      background-color: #E2EBFA;\n",
              "      box-shadow: 0px 1px 2px rgba(60, 64, 67, 0.3), 0px 1px 3px 1px rgba(60, 64, 67, 0.15);\n",
              "      fill: #174EA6;\n",
              "    }\n",
              "\n",
              "    [theme=dark] .colab-df-convert {\n",
              "      background-color: #3B4455;\n",
              "      fill: #D2E3FC;\n",
              "    }\n",
              "\n",
              "    [theme=dark] .colab-df-convert:hover {\n",
              "      background-color: #434B5C;\n",
              "      box-shadow: 0px 1px 3px 1px rgba(0, 0, 0, 0.15);\n",
              "      filter: drop-shadow(0px 1px 2px rgba(0, 0, 0, 0.3));\n",
              "      fill: #FFFFFF;\n",
              "    }\n",
              "  </style>\n",
              "\n",
              "      <script>\n",
              "        const buttonEl =\n",
              "          document.querySelector('#df-75238e20-7b3d-442d-b843-5662387a24fb button.colab-df-convert');\n",
              "        buttonEl.style.display =\n",
              "          google.colab.kernel.accessAllowed ? 'block' : 'none';\n",
              "\n",
              "        async function convertToInteractive(key) {\n",
              "          const element = document.querySelector('#df-75238e20-7b3d-442d-b843-5662387a24fb');\n",
              "          const dataTable =\n",
              "            await google.colab.kernel.invokeFunction('convertToInteractive',\n",
              "                                                     [key], {});\n",
              "          if (!dataTable) return;\n",
              "\n",
              "          const docLinkHtml = 'Like what you see? Visit the ' +\n",
              "            '<a target=\"_blank\" href=https://colab.research.google.com/notebooks/data_table.ipynb>data table notebook</a>'\n",
              "            + ' to learn more about interactive tables.';\n",
              "          element.innerHTML = '';\n",
              "          dataTable['output_type'] = 'display_data';\n",
              "          await google.colab.output.renderOutput(dataTable, element);\n",
              "          const docLink = document.createElement('div');\n",
              "          docLink.innerHTML = docLinkHtml;\n",
              "          element.appendChild(docLink);\n",
              "        }\n",
              "      </script>\n",
              "    </div>\n",
              "  </div>\n",
              "  "
            ],
            "text/plain": [
              "   label   count\n",
              "0    0.0  566228\n",
              "1    1.0   32598"
            ]
          },
          "execution_count": 19,
          "metadata": {},
          "output_type": "execute_result"
        }
      ],
      "source": [
        "(training_data, test_data) = df.randomSplit([0.7, 0.3]) # splitting the dataset into 70% test and 30% train\n",
        "training_data.groupby('label').count().toPandas()  # counting the label class values, here it shows that the label is imbalance"
      ]
    },
    {
      "cell_type": "markdown",
      "source": [
        "#Upsampling"
      ],
      "metadata": {
        "id": "frCpiqtgg4tl"
      }
    },
    {
      "cell_type": "code",
      "execution_count": null,
      "metadata": {
        "id": "6W1qqn4aFpeZ"
      },
      "outputs": [],
      "source": [
        "df_a = training_data.filter(training_data['label'] == 0)\n",
        "df_b = training_data.filter(training_data['label'] == 1)\n",
        "\n",
        "a_count = df_a.count()  # counting where label is 0\n",
        "b_count = df_b.count()  # counting where label is 1\n",
        "ratio = a_count / b_count\n",
        "\n",
        "df_b_oversampled = df_b.sample(withReplacement=True, fraction=ratio, seed=1)    # upsampling the 1 class with equal to 0 class rtion\n",
        "training_data = df_a.unionAll(df_b_oversampled)"
      ]
    },
    {
      "cell_type": "code",
      "execution_count": null,
      "metadata": {
        "colab": {
          "base_uri": "https://localhost:8080/"
        },
        "id": "zuLm1cL0XKs8",
        "outputId": "a99c78c1-0c44-4d72-e8e9-c9cd8cbedb05"
      },
      "outputs": [
        {
          "name": "stdout",
          "output_type": "stream",
          "text": [
            "+--------------------+-----+\n",
            "|            features|label|\n",
            "+--------------------+-----+\n",
            "|(45,[0,1,2,3,4,6,...|  0.0|\n",
            "|(45,[2,3,4,6,7,8,...|  0.0|\n",
            "|[0.0,0.0,1.0,1.0,...|  0.0|\n",
            "+--------------------+-----+\n",
            "only showing top 3 rows\n",
            "\n"
          ]
        }
      ],
      "source": [
        "training_data.show(3)"
      ]
    },
    {
      "cell_type": "markdown",
      "metadata": {
        "id": "XeJEMW6QHqZZ"
      },
      "source": [
        "#Random Forest Model"
      ]
    },
    {
      "cell_type": "code",
      "execution_count": null,
      "metadata": {
        "colab": {
          "base_uri": "https://localhost:8080/"
        },
        "id": "V-giSEYGwkJe",
        "outputId": "4613e959-c795-4070-bc76-a143a5fd112f"
      },
      "outputs": [
        {
          "name": "stdout",
          "output_type": "stream",
          "text": [
            "Test set accuracy = 0.9245988180607788\n"
          ]
        }
      ],
      "source": [
        "from pyspark.ml.classification import RandomForestClassifier\n",
        "rf = RandomForestClassifier(labelCol=\"label\", featuresCol=\"features\", numTrees=10, maxBins=35)   # giving the label and features to RF model with numbers of trees as 10 and 35 bins\n",
        "model = rf.fit(training_data)  # training the random forest model on training data\n",
        "predictions = model.transform(test_data) # using the trained model to predict the test data\n",
        "predictionAndLabels_rf = predictions.select(\"prediction\", \"label\")  # selecting the predicted col with the actual label\n",
        "evaluator = MulticlassClassificationEvaluator(metricName=\"accuracy\")\n",
        "print(\"Test set accuracy = \" + str(evaluator.evaluate(predictionAndLabels_rf)))  # getting the accuracy"
      ]
    },
    {
      "cell_type": "code",
      "execution_count": null,
      "metadata": {
        "colab": {
          "base_uri": "https://localhost:8080/"
        },
        "id": "bMp-qnkfBCwJ",
        "outputId": "7888e055-4686-43e9-fb86-60fa499bf959"
      },
      "outputs": [
        {
          "name": "stdout",
          "output_type": "stream",
          "text": [
            "True Positives: 13314\n",
            "True Negatives: 224184\n",
            "False Positives: 18849\n",
            "False Negatives: 519\n",
            "Total 256866\n",
            "recall 0.9624810236391238\n",
            "precision 0.41395392220874916\n"
          ]
        }
      ],
      "source": [
        "tp = predictionAndLabels_rf[(predictionAndLabels_rf.label == 1) & (predictionAndLabels_rf.prediction == 1)].count()\n",
        "tn = predictionAndLabels_rf[(predictionAndLabels_rf.label == 0) & (predictionAndLabels_rf.prediction == 0)].count()\n",
        "fp = predictionAndLabels_rf[(predictionAndLabels_rf.label == 0) & (predictionAndLabels_rf.prediction == 1)].count()\n",
        "fn = predictionAndLabels_rf[(predictionAndLabels_rf.label == 1) & (predictionAndLabels_rf.prediction == 0)].count()\n",
        "print( \"True Positives:\", tp)\n",
        "print(\"True Negatives:\", tn)\n",
        "print(\"False Positives:\", fp)\n",
        "print(\"False Negatives:\", fn)\n",
        "print(\"Total\", predictionAndLabels_rf.count())\n",
        "# using the counted tp and fn, calculating the recall\n",
        "r = float(tp)/(tp + fn)\n",
        "print(\"recall\", r)\n",
        "# using the counted tp and fp, calculating the precision\n",
        "Precision = float(tp) / (tp + fp)\n",
        "print(\"precision\", Precision)"
      ]
    },
    {
      "cell_type": "markdown",
      "source": [
        "# Decision Tree model"
      ],
      "metadata": {
        "id": "4SPnScX3jkkn"
      }
    },
    {
      "cell_type": "code",
      "execution_count": null,
      "metadata": {
        "colab": {
          "base_uri": "https://localhost:8080/"
        },
        "id": "3EwLL_tzYPWs",
        "outputId": "e37b55c4-7f52-411d-b1d1-945c00af19e9"
      },
      "outputs": [
        {
          "name": "stdout",
          "output_type": "stream",
          "text": [
            "Test set accuracy = 0.9214274589206448\n"
          ]
        }
      ],
      "source": [
        "dt = DecisionTreeClassifier(labelCol='label', featuresCol='features',maxBins=36, maxDepth=4) # giving the label and features to DT model with max Depth of tree as 10 and 36 bins\n",
        "dtmodel = dt.fit(training_data)  # training the decision tree model on training data\n",
        "res = dtmodel.transform(test_data) # using the trained model to predict the test data\n",
        "predictionAndLabels_dt = res.select(\"prediction\", \"label\")  # selecting the predicted col with the actual label\n",
        "evaluator = MulticlassClassificationEvaluator(metricName=\"accuracy\")\n",
        "print(\"Test set accuracy = \" + str(evaluator.evaluate(predictionAndLabels_dt))) # getting the accuracy"
      ]
    },
    {
      "cell_type": "code",
      "execution_count": null,
      "metadata": {
        "colab": {
          "base_uri": "https://localhost:8080/"
        },
        "id": "_Tca6nZlbQ0f",
        "outputId": "907f2482-4a3d-4fd4-df7e-c1346f452278"
      },
      "outputs": [
        {
          "name": "stdout",
          "output_type": "stream",
          "text": [
            "True Positives: 13638\n",
            "True Negatives: 223003\n",
            "False Positives: 19711\n",
            "False Negatives: 468\n",
            "Total 256820\n",
            "recall 0.9668226286686517\n",
            "precision 0.4089477945365678\n"
          ]
        }
      ],
      "source": [
        "tp = predictionAndLabels_dt[(predictionAndLabels_dt.label == 1) & (predictionAndLabels_dt.prediction == 1)].count()\n",
        "tn = predictionAndLabels_dt[(predictionAndLabels_dt.label == 0) & (predictionAndLabels_dt.prediction == 0)].count()\n",
        "fp = predictionAndLabels_dt[(predictionAndLabels_dt.label == 0) & (predictionAndLabels_dt.prediction == 1)].count()\n",
        "fn = predictionAndLabels_dt[(predictionAndLabels_dt.label == 1) & (predictionAndLabels_dt.prediction == 0)].count()\n",
        "print( \"True Positives:\", tp)\n",
        "print(\"True Negatives:\", tn)\n",
        "print(\"False Positives:\", fp)\n",
        "print(\"False Negatives:\", fn)\n",
        "print(\"Total\", predictionAndLabels_dt.count())\n",
        "# using the counted tp and fn, calculating the recall\n",
        "r = float(tp)/(tp + fn)\n",
        "print(\"recall\", r)\n",
        "# using the counted tp and fp, calculating the precision\n",
        "Precision = float(tp) / (tp + fp)\n",
        "print(\"precision\", Precision)"
      ]
    },
    {
      "cell_type": "markdown",
      "source": [
        "#Multilayer perceptron classifier (MLPC) based on the feedforward artificial neural network"
      ],
      "metadata": {
        "id": "ksjNdTw2jHpA"
      }
    },
    {
      "cell_type": "code",
      "execution_count": null,
      "metadata": {
        "colab": {
          "base_uri": "https://localhost:8080/"
        },
        "id": "E95dW6V8mZ0W",
        "outputId": "24377bf9-9610-499e-c553-77f99d69ec3e"
      },
      "outputs": [
        {
          "name": "stdout",
          "output_type": "stream",
          "text": [
            "Test set accuracy = 0.6550751112579435\n"
          ]
        }
      ],
      "source": [
        "# specify layers for the neural network:\n",
        "# input layer of size 45 (features) and output of size 2 (classes)\n",
        "layers = [45, 22 ,10, 4, 2]\n",
        "\n",
        "# create the trainer and set its parameters\n",
        "trainer = MultilayerPerceptronClassifier(featuresCol='features',labelCol='label',maxIter=100, layers=layers, blockSize=128)\n",
        "\n",
        "# train the model\n",
        "model = trainer.fit(training_data)\n",
        "\n",
        "# compute accuracy on the test set\n",
        "result = model.transform(test_data)\n",
        "predictionAndLabels = result.select(\"prediction\", \"label\")\n",
        "evaluator = MulticlassClassificationEvaluator(metricName=\"accuracy\")\n",
        "print(\"Test set accuracy = \" + str(evaluator.evaluate(predictionAndLabels)))"
      ]
    },
    {
      "cell_type": "code",
      "execution_count": null,
      "metadata": {
        "colab": {
          "base_uri": "https://localhost:8080/"
        },
        "id": "88raVrodsJRp",
        "outputId": "f9032a93-4587-4fd3-925a-38df7d2217a2"
      },
      "outputs": [
        {
          "name": "stdout",
          "output_type": "stream",
          "text": [
            "True Positives: 5896\n",
            "True Negatives: 162645\n",
            "False Positives: 80932\n",
            "False Negatives: 7812\n",
            "Total 257285\n",
            "recall 0.43011380215932304\n",
            "precision 0.06790436264799374\n"
          ]
        }
      ],
      "source": [
        "tp = predictionAndLabels[(predictionAndLabels.label == 1) & (predictionAndLabels.prediction == 1)].count()\n",
        "tn = predictionAndLabels[(predictionAndLabels.label == 0) & (predictionAndLabels.prediction == 0)].count()\n",
        "fp = predictionAndLabels[(predictionAndLabels.label == 0) & (predictionAndLabels.prediction == 1)].count()\n",
        "fn = predictionAndLabels[(predictionAndLabels.label == 1) & (predictionAndLabels.prediction == 0)].count()\n",
        "print( \"True Positives:\", tp)\n",
        "print(\"True Negatives:\", tn)\n",
        "print(\"False Positives:\", fp)\n",
        "print(\"False Negatives:\", fn)\n",
        "print(\"Total\", predictionAndLabels.count())\n",
        "# using the counted tp and fn, calculating the recall\n",
        "r = float(tp)/(tp + fn)\n",
        "print(\"recall\", r)\n",
        "# using the counted tp and fp, calculating the precision\n",
        "Precision = float(tp) / (tp + fp)\n",
        "print(\"precision\", Precision)"
      ]
    },
    {
      "cell_type": "markdown",
      "source": [
        "To conclude overall both Decision tree and Random forest given similar accuracy and the ANN accuray is very low."
      ],
      "metadata": {
        "id": "NDioPkB8PsyS"
      }
    },
    {
      "cell_type": "markdown",
      "metadata": {
        "id": "mCFuJIz9-otK"
      },
      "source": [
        "# Specific requirements of Process Two:\n",
        "#This process is built with TensorFlow and Keras."
      ]
    },
    {
      "cell_type": "markdown",
      "metadata": {
        "id": "ynivZZ2UFIYO"
      },
      "source": [
        "#Preparation of Data to use for Tensflow"
      ]
    },
    {
      "cell_type": "code",
      "execution_count": null,
      "metadata": {
        "id": "IwsxBS3bxUa5"
      },
      "outputs": [],
      "source": [
        "from pyspark.ml import Pipeline\n",
        "from pyspark.ml.feature import OneHotEncoder, StringIndexer, VectorAssembler, StandardScaler\n",
        "import pyspark.sql.types as T\n",
        "from pyspark.ml.functions import vector_to_array\n",
        "from pyspark.ml.feature import StringIndexer\n",
        "from pyspark.ml.functions import vector_to_array\n",
        "import pyspark.sql.functions as F"
      ]
    },
    {
      "cell_type": "code",
      "execution_count": null,
      "metadata": {
        "colab": {
          "base_uri": "https://localhost:8080/"
        },
        "id": "vDdbIq8p34O_",
        "outputId": "c7a6a7cc-5abd-43b1-ac8f-55cc48e8c81c"
      },
      "outputs": [
        {
          "output_type": "stream",
          "name": "stderr",
          "text": [
            "/usr/local/lib/python3.7/dist-packages/pyspark/pandas/utils.py:975: PandasAPIOnSparkAdviceWarning: If `index_col` is not specified for `to_spark`, the existing index is lost when converting to Spark DataFrame.\n",
            "  warnings.warn(message, PandasAPIOnSparkAdviceWarning)\n"
          ]
        }
      ],
      "source": [
        "#convert to spark DF\n",
        "sparkdf = psdf.to_spark()\n",
        "#get Categorical columns\n",
        "catCols = [x for (x, DataType) in sparkdf.dtypes if DataType==\"string\"]\n",
        "#drop cat cols\n",
        "sparkdf = sparkdf.drop(*catCols)\n",
        "#split on train and test\n",
        "train, test = sparkdf.randomSplit([0.7, 0.3], seed=7)\n",
        "#split on validation and test dataset\n",
        "train, val = train.randomSplit([0.9, 0.1], seed=7)\n",
        "\n",
        "#upsampling for train data as defult index is imbalanced\n",
        "df_a = train.filter(train['default_ind'] == 0.0)\n",
        "df_b = train.filter(train['default_ind'] == 1.0)\n",
        "\n",
        "a_count = df_a.count()\n",
        "b_count = df_b.count()\n",
        "ratio = a_count / b_count\n",
        "\n",
        "df_b_oversampled = df_b.sample(withReplacement=True, fraction=ratio, seed=1)\n",
        "training_data = df_a.unionAll(df_b_oversampled)"
      ]
    },
    {
      "cell_type": "code",
      "source": [
        "#drop null values in total they are less then 1%\n",
        "training_data = training_data.na.drop(\"any\")\n",
        "test = test.na.drop(\"any\")\n",
        "val = val.na.drop(\"any\")"
      ],
      "metadata": {
        "id": "PgtCd99BW7Cm"
      },
      "execution_count": null,
      "outputs": []
    },
    {
      "cell_type": "code",
      "source": [
        "#convert everything to Pandas\n",
        "train_pd = training_data.toPandas()\n",
        "test_pd = test.toPandas()\n",
        "val_pd = val.toPandas()"
      ],
      "metadata": {
        "id": "bof5QGGeWU8F"
      },
      "execution_count": null,
      "outputs": []
    },
    {
      "cell_type": "markdown",
      "source": [
        "# ANN with Tensflow"
      ],
      "metadata": {
        "id": "LT3OxZ6hMrpe"
      }
    },
    {
      "cell_type": "code",
      "execution_count": null,
      "metadata": {
        "id": "vTe26rdLfeQg"
      },
      "outputs": [],
      "source": [
        "import pandas as pd\n",
        "import tensorflow as tf\n",
        "import numpy as np\n",
        "X_train = train_pd.drop(\"default_ind\", axis=1) # drop target for training set\n",
        "Y_train = train_pd.pop(\"default_ind\") #set only target\n",
        "\n",
        "X_test = test_pd.drop(\"default_ind\", axis=1) # drop target for training set\n",
        "Y_test = test_pd.pop(\"default_ind\") #set only target\n",
        "\n",
        "X_val = val_pd.drop(\"default_ind\", axis=1) # drop target for training set\n",
        "Y_val = val_pd.pop(\"default_ind\") #set only tar"
      ]
    },
    {
      "cell_type": "code",
      "execution_count": null,
      "metadata": {
        "id": "7UK2NBN7fgbW"
      },
      "outputs": [],
      "source": [
        "#convert everything to np.srray\n",
        "X_train = np.asarray(X_train).astype(np.float32)\n",
        "Y_train = np.asarray(Y_train).astype(np.float32)\n",
        "\n",
        "X_test = np.asarray(X_test).astype(np.float32)\n",
        "Y_test = np.asarray(Y_test).astype(np.float32)\n",
        "\n",
        "X_val = np.asarray(X_val).astype(np.float32)\n",
        "Y_val = np.asarray(Y_val).astype(np.float32)"
      ]
    },
    {
      "cell_type": "code",
      "execution_count": null,
      "metadata": {
        "colab": {
          "base_uri": "https://localhost:8080/"
        },
        "id": "q6Q5LwqYVa7G",
        "outputId": "b2560477-73ad-4287-ffaa-428ac38cf4ba"
      },
      "outputs": [
        {
          "output_type": "stream",
          "name": "stderr",
          "text": [
            "/usr/local/lib/python3.7/dist-packages/ipykernel_launcher.py:25: DeprecationWarning: KerasClassifier is deprecated, use Sci-Keras (https://github.com/adriangb/scikeras) instead. See https://www.adriangb.com/scikeras/stable/migration.html for help migrating.\n"
          ]
        }
      ],
      "source": [
        "from tensorflow import keras\n",
        "#normalize the data using tensflow\n",
        "normalizer = tf.keras.layers.Normalization(axis=-1)\n",
        "normalizer.adapt(X_train)\n",
        "\n",
        "def build_model(n_hidden=1, n_neurons=30, input_shape=(35,), l1=0.01, l2=0.01):\n",
        "    #call model\n",
        "    model = keras.models.Sequential([\n",
        "        #apply normalization to each lyaer\n",
        "        normalizer\n",
        "    ])\n",
        "    #add shape\n",
        "    model.add(keras.Input(shape=input_shape))\n",
        "    #Creating layers based in n_hidden number (responsible for how many layers will be created for the model)\n",
        "    for _ in range(n_hidden):\n",
        "        model.add(keras.layers.Dense(n_neurons, activation=\"relu\",kernel_regularizer=keras.regularizers.l1_l2(l1=l1, l2=l2)))\n",
        "    #Ouput\n",
        "    model.add(keras.layers.Dense(2, activation=\"softmax\"))\n",
        "    #compile model\n",
        "    model.compile(optimizer=\"SGD\",\n",
        "        loss=\"sparse_categorical_crossentropy\",\n",
        "        metrics=[\"accuracy\"])\n",
        "    return model\n",
        "\n",
        "keras_clf = keras.wrappers.scikit_learn.KerasClassifier(build_model)"
      ]
    },
    {
      "cell_type": "code",
      "execution_count": null,
      "metadata": {
        "colab": {
          "base_uri": "https://localhost:8080/"
        },
        "id": "5p8Yio3pa7ze",
        "outputId": "67771445-5b02-4198-e048-30780ea2a0cb"
      },
      "outputs": [
        {
          "output_type": "stream",
          "name": "stdout",
          "text": [
            "Epoch 1/10\n",
            "20145/20145 [==============================] - 44s 2ms/step - loss: 0.2090 - accuracy: 0.9651 - val_loss: 0.5668 - val_accuracy: 0.7602\n",
            "Epoch 2/10\n",
            "20145/20145 [==============================] - 43s 2ms/step - loss: 0.1232 - accuracy: 0.9720 - val_loss: 0.5524 - val_accuracy: 0.7672\n",
            "Epoch 3/10\n",
            "20145/20145 [==============================] - 42s 2ms/step - loss: 0.1158 - accuracy: 0.9733 - val_loss: 0.4952 - val_accuracy: 0.8062\n",
            "Epoch 4/10\n",
            "20145/20145 [==============================] - 43s 2ms/step - loss: 0.1114 - accuracy: 0.9742 - val_loss: 0.4634 - val_accuracy: 0.8131\n",
            "Epoch 5/10\n",
            "20145/20145 [==============================] - 40s 2ms/step - loss: 0.1095 - accuracy: 0.9746 - val_loss: 0.4712 - val_accuracy: 0.8215\n",
            "Epoch 6/10\n",
            "20145/20145 [==============================] - 42s 2ms/step - loss: 0.1077 - accuracy: 0.9747 - val_loss: 0.5529 - val_accuracy: 0.7978\n",
            "Epoch 7/10\n",
            "20145/20145 [==============================] - 42s 2ms/step - loss: 0.1067 - accuracy: 0.9749 - val_loss: 0.4930 - val_accuracy: 0.8207\n",
            "Epoch 8/10\n",
            "20145/20145 [==============================] - 41s 2ms/step - loss: 0.1060 - accuracy: 0.9751 - val_loss: 0.4533 - val_accuracy: 0.8382\n",
            "Epoch 9/10\n",
            "20145/20145 [==============================] - 42s 2ms/step - loss: 0.1045 - accuracy: 0.9751 - val_loss: 0.4929 - val_accuracy: 0.8228\n",
            "Epoch 10/10\n",
            "20145/20145 [==============================] - 44s 2ms/step - loss: 0.1036 - accuracy: 0.9756 - val_loss: 0.4828 - val_accuracy: 0.8328\n",
            "10073/10073 [==============================] - 18s 2ms/step - loss: 0.7148 - accuracy: 0.7431\n",
            "Epoch 1/10\n",
            "20145/20145 [==============================] - 42s 2ms/step - loss: 0.2341 - accuracy: 0.9698 - val_loss: 0.1606 - val_accuracy: 0.9766\n",
            "Epoch 2/10\n",
            "20145/20145 [==============================] - 42s 2ms/step - loss: 0.1418 - accuracy: 0.9748 - val_loss: 0.1402 - val_accuracy: 0.9889\n",
            "Epoch 3/10\n",
            "20145/20145 [==============================] - 43s 2ms/step - loss: 0.1347 - accuracy: 0.9753 - val_loss: 0.4033 - val_accuracy: 0.9041\n",
            "Epoch 4/10\n",
            "20145/20145 [==============================] - 42s 2ms/step - loss: 0.1330 - accuracy: 0.9751 - val_loss: 0.1068 - val_accuracy: 0.9934\n",
            "Epoch 5/10\n",
            "20145/20145 [==============================] - 43s 2ms/step - loss: 0.1314 - accuracy: 0.9750 - val_loss: 0.1161 - val_accuracy: 0.9948\n",
            "Epoch 6/10\n",
            "20145/20145 [==============================] - 44s 2ms/step - loss: 0.1358 - accuracy: 0.9752 - val_loss: 0.1657 - val_accuracy: 0.9651\n",
            "Epoch 7/10\n",
            "20145/20145 [==============================] - 46s 2ms/step - loss: 0.1244 - accuracy: 0.9758 - val_loss: 0.1145 - val_accuracy: 0.9944\n",
            "Epoch 8/10\n",
            "20145/20145 [==============================] - 47s 2ms/step - loss: 0.1238 - accuracy: 0.9760 - val_loss: 0.1440 - val_accuracy: 0.9810\n",
            "Epoch 9/10\n",
            "20145/20145 [==============================] - 42s 2ms/step - loss: 0.1219 - accuracy: 0.9761 - val_loss: 0.1049 - val_accuracy: 0.9960\n",
            "Epoch 10/10\n",
            "20145/20145 [==============================] - 45s 2ms/step - loss: 0.1236 - accuracy: 0.9756 - val_loss: 0.0966 - val_accuracy: 0.9939\n",
            "10073/10073 [==============================] - 18s 2ms/step - loss: 0.2732 - accuracy: 0.9025\n",
            "Epoch 1/10\n",
            "20145/20145 [==============================] - 43s 2ms/step - loss: 0.2285 - accuracy: 0.9778 - val_loss: 0.1046 - val_accuracy: 0.9963\n",
            "Epoch 2/10\n",
            "20145/20145 [==============================] - 45s 2ms/step - loss: 0.1219 - accuracy: 0.9871 - val_loss: 0.0959 - val_accuracy: 0.9958\n",
            "Epoch 3/10\n",
            "20145/20145 [==============================] - 44s 2ms/step - loss: 0.1096 - accuracy: 0.9871 - val_loss: 0.0802 - val_accuracy: 0.9960\n",
            "Epoch 4/10\n",
            "20145/20145 [==============================] - 45s 2ms/step - loss: 0.1047 - accuracy: 0.9866 - val_loss: 0.1048 - val_accuracy: 0.9824\n",
            "Epoch 5/10\n",
            "20145/20145 [==============================] - 42s 2ms/step - loss: 0.1048 - accuracy: 0.9855 - val_loss: 0.0663 - val_accuracy: 0.9969\n",
            "Epoch 6/10\n",
            "20145/20145 [==============================] - 42s 2ms/step - loss: 0.0976 - accuracy: 0.9863 - val_loss: 0.0728 - val_accuracy: 0.9960\n",
            "Epoch 7/10\n",
            "20145/20145 [==============================] - 47s 2ms/step - loss: 0.0957 - accuracy: 0.9859 - val_loss: 0.0850 - val_accuracy: 0.9919\n",
            "Epoch 8/10\n",
            "20145/20145 [==============================] - 43s 2ms/step - loss: 0.0998 - accuracy: 0.9843 - val_loss: 0.0869 - val_accuracy: 0.9870\n",
            "Epoch 9/10\n",
            "20145/20145 [==============================] - 42s 2ms/step - loss: 0.0931 - accuracy: 0.9853 - val_loss: 0.0832 - val_accuracy: 0.9940\n",
            "Epoch 10/10\n",
            "20145/20145 [==============================] - 42s 2ms/step - loss: 0.1027 - accuracy: 0.9828 - val_loss: 0.1185 - val_accuracy: 0.9749\n",
            "10073/10073 [==============================] - 19s 2ms/step - loss: 0.3366 - accuracy: 0.9606\n",
            "Epoch 1/10\n",
            "20145/20145 [==============================] - 55s 3ms/step - loss: 0.2290 - accuracy: 0.9632 - val_loss: 0.4607 - val_accuracy: 0.7973\n",
            "Epoch 2/10\n",
            "20145/20145 [==============================] - 42s 2ms/step - loss: 0.1241 - accuracy: 0.9715 - val_loss: 0.4979 - val_accuracy: 0.8145\n",
            "Epoch 3/10\n",
            "20145/20145 [==============================] - 42s 2ms/step - loss: 0.1165 - accuracy: 0.9730 - val_loss: 0.4883 - val_accuracy: 0.8052\n",
            "Epoch 4/10\n",
            "20145/20145 [==============================] - 46s 2ms/step - loss: 0.1137 - accuracy: 0.9737 - val_loss: 0.3852 - val_accuracy: 0.8445\n",
            "Epoch 5/10\n",
            "20145/20145 [==============================] - 43s 2ms/step - loss: 0.1107 - accuracy: 0.9741 - val_loss: 0.5532 - val_accuracy: 0.7985\n",
            "Epoch 6/10\n",
            "20145/20145 [==============================] - 43s 2ms/step - loss: 0.1104 - accuracy: 0.9743 - val_loss: 0.4570 - val_accuracy: 0.8296\n",
            "Epoch 7/10\n",
            "20145/20145 [==============================] - 44s 2ms/step - loss: 0.1082 - accuracy: 0.9746 - val_loss: 0.4356 - val_accuracy: 0.8588\n",
            "Epoch 8/10\n",
            "20145/20145 [==============================] - 47s 2ms/step - loss: 0.1079 - accuracy: 0.9747 - val_loss: 0.4648 - val_accuracy: 0.8332\n",
            "Epoch 9/10\n",
            "20145/20145 [==============================] - 46s 2ms/step - loss: 0.1073 - accuracy: 0.9747 - val_loss: 0.4683 - val_accuracy: 0.8277\n",
            "Epoch 10/10\n",
            "20145/20145 [==============================] - 48s 2ms/step - loss: 0.1064 - accuracy: 0.9750 - val_loss: 0.4632 - val_accuracy: 0.8531\n",
            "10073/10073 [==============================] - 20s 2ms/step - loss: 0.6645 - accuracy: 0.7746\n",
            "Epoch 1/10\n",
            "20145/20145 [==============================] - 48s 2ms/step - loss: 0.2618 - accuracy: 0.9669 - val_loss: 0.1514 - val_accuracy: 0.9778\n",
            "Epoch 2/10\n",
            "20145/20145 [==============================] - 46s 2ms/step - loss: 0.1438 - accuracy: 0.9741 - val_loss: 0.1492 - val_accuracy: 0.9804\n",
            "Epoch 3/10\n",
            "20145/20145 [==============================] - 48s 2ms/step - loss: 0.1393 - accuracy: 0.9743 - val_loss: 0.1348 - val_accuracy: 0.9789\n",
            "Epoch 4/10\n",
            "20145/20145 [==============================] - 44s 2ms/step - loss: 0.1346 - accuracy: 0.9742 - val_loss: 0.1430 - val_accuracy: 0.9716\n",
            "Epoch 5/10\n",
            "20145/20145 [==============================] - 45s 2ms/step - loss: 0.1344 - accuracy: 0.9739 - val_loss: 0.1099 - val_accuracy: 0.9876\n",
            "Epoch 6/10\n",
            "20145/20145 [==============================] - 45s 2ms/step - loss: 0.1328 - accuracy: 0.9741 - val_loss: 0.4804 - val_accuracy: 0.9008\n",
            "Epoch 7/10\n",
            "20145/20145 [==============================] - 43s 2ms/step - loss: 0.1350 - accuracy: 0.9734 - val_loss: 0.1116 - val_accuracy: 0.9900\n",
            "Epoch 8/10\n",
            "20145/20145 [==============================] - 43s 2ms/step - loss: 0.1334 - accuracy: 0.9737 - val_loss: 0.1197 - val_accuracy: 0.9849\n",
            "Epoch 9/10\n",
            "20145/20145 [==============================] - 45s 2ms/step - loss: 0.1345 - accuracy: 0.9733 - val_loss: 0.1264 - val_accuracy: 0.9812\n",
            "Epoch 10/10\n",
            "20145/20145 [==============================] - 44s 2ms/step - loss: 0.1326 - accuracy: 0.9736 - val_loss: 0.2887 - val_accuracy: 0.9087\n",
            "10073/10073 [==============================] - 19s 2ms/step - loss: 0.5029 - accuracy: 0.8002\n",
            "Epoch 1/10\n",
            "20145/20145 [==============================] - 45s 2ms/step - loss: 0.2513 - accuracy: 0.9792 - val_loss: 0.1168 - val_accuracy: 0.9960\n",
            "Epoch 2/10\n",
            "20145/20145 [==============================] - 45s 2ms/step - loss: 0.1212 - accuracy: 0.9870 - val_loss: 0.0930 - val_accuracy: 0.9963\n",
            "Epoch 3/10\n",
            "20145/20145 [==============================] - 43s 2ms/step - loss: 0.1071 - accuracy: 0.9872 - val_loss: 0.0758 - val_accuracy: 0.9956\n",
            "Epoch 4/10\n",
            "20145/20145 [==============================] - 42s 2ms/step - loss: 0.0991 - accuracy: 0.9873 - val_loss: 0.0816 - val_accuracy: 0.9967\n",
            "Epoch 5/10\n",
            "20145/20145 [==============================] - 42s 2ms/step - loss: 0.0953 - accuracy: 0.9869 - val_loss: 0.0796 - val_accuracy: 0.9953\n",
            "Epoch 6/10\n",
            "20145/20145 [==============================] - 46s 2ms/step - loss: 0.0932 - accuracy: 0.9866 - val_loss: 0.0856 - val_accuracy: 0.9944\n",
            "Epoch 7/10\n",
            "20145/20145 [==============================] - 43s 2ms/step - loss: 0.0945 - accuracy: 0.9857 - val_loss: 0.1252 - val_accuracy: 0.9729\n",
            "Epoch 8/10\n",
            "20145/20145 [==============================] - 43s 2ms/step - loss: 0.0909 - accuracy: 0.9859 - val_loss: 0.0735 - val_accuracy: 0.9962\n",
            "Epoch 9/10\n",
            "20145/20145 [==============================] - 43s 2ms/step - loss: 0.0973 - accuracy: 0.9848 - val_loss: 0.0680 - val_accuracy: 0.9967\n",
            "Epoch 10/10\n",
            "20145/20145 [==============================] - 46s 2ms/step - loss: 0.0901 - accuracy: 0.9853 - val_loss: 0.0823 - val_accuracy: 0.9921\n",
            "10073/10073 [==============================] - 19s 2ms/step - loss: 0.4511 - accuracy: 0.9613\n",
            "Epoch 1/10\n",
            "20145/20145 [==============================] - 44s 2ms/step - loss: 0.2422 - accuracy: 0.9633 - val_loss: 0.5968 - val_accuracy: 0.7543\n",
            "Epoch 2/10\n",
            "20145/20145 [==============================] - 43s 2ms/step - loss: 0.1260 - accuracy: 0.9717 - val_loss: 0.5030 - val_accuracy: 0.7938\n",
            "Epoch 3/10\n",
            "20145/20145 [==============================] - 45s 2ms/step - loss: 0.1203 - accuracy: 0.9726 - val_loss: 0.4896 - val_accuracy: 0.8041\n",
            "Epoch 4/10\n",
            "20145/20145 [==============================] - 44s 2ms/step - loss: 0.1166 - accuracy: 0.9734 - val_loss: 0.4984 - val_accuracy: 0.8021\n",
            "Epoch 5/10\n",
            "20145/20145 [==============================] - 44s 2ms/step - loss: 0.1145 - accuracy: 0.9737 - val_loss: 0.4365 - val_accuracy: 0.8242\n",
            "Epoch 6/10\n",
            "20145/20145 [==============================] - 43s 2ms/step - loss: 0.1133 - accuracy: 0.9739 - val_loss: 0.5534 - val_accuracy: 0.7936\n",
            "Epoch 7/10\n",
            "20145/20145 [==============================] - 46s 2ms/step - loss: 0.1140 - accuracy: 0.9733 - val_loss: 0.5375 - val_accuracy: 0.8042\n",
            "Epoch 8/10\n",
            "20145/20145 [==============================] - 45s 2ms/step - loss: 0.1132 - accuracy: 0.9736 - val_loss: 0.4644 - val_accuracy: 0.8405\n",
            "Epoch 9/10\n",
            "20145/20145 [==============================] - 44s 2ms/step - loss: 0.1095 - accuracy: 0.9742 - val_loss: 0.4272 - val_accuracy: 0.8422\n",
            "Epoch 10/10\n",
            "20145/20145 [==============================] - 45s 2ms/step - loss: 0.1084 - accuracy: 0.9746 - val_loss: 0.5698 - val_accuracy: 0.7933\n",
            "10073/10073 [==============================] - 20s 2ms/step - loss: 0.8002 - accuracy: 0.7046\n",
            "Epoch 1/10\n",
            "20145/20145 [==============================] - 45s 2ms/step - loss: 0.2692 - accuracy: 0.9697 - val_loss: 0.1369 - val_accuracy: 0.9927\n",
            "Epoch 2/10\n",
            "20145/20145 [==============================] - 48s 2ms/step - loss: 0.1431 - accuracy: 0.9747 - val_loss: 0.1235 - val_accuracy: 0.9950\n",
            "Epoch 3/10\n",
            "20145/20145 [==============================] - 44s 2ms/step - loss: 0.1325 - accuracy: 0.9756 - val_loss: 0.1114 - val_accuracy: 0.9949\n",
            "Epoch 4/10\n",
            "20145/20145 [==============================] - 44s 2ms/step - loss: 0.1274 - accuracy: 0.9759 - val_loss: 0.1138 - val_accuracy: 0.9952\n",
            "Epoch 5/10\n",
            "20145/20145 [==============================] - 47s 2ms/step - loss: 0.1262 - accuracy: 0.9760 - val_loss: 0.1389 - val_accuracy: 0.9896\n",
            "Epoch 6/10\n",
            "20145/20145 [==============================] - 46s 2ms/step - loss: 0.1267 - accuracy: 0.9760 - val_loss: 0.1065 - val_accuracy: 0.9924\n",
            "Epoch 7/10\n",
            "20145/20145 [==============================] - 45s 2ms/step - loss: 0.1261 - accuracy: 0.9760 - val_loss: 0.1229 - val_accuracy: 0.9925\n",
            "Epoch 8/10\n",
            "20145/20145 [==============================] - 47s 2ms/step - loss: 0.1201 - accuracy: 0.9763 - val_loss: 0.1289 - val_accuracy: 0.9923\n",
            "Epoch 9/10\n",
            "20145/20145 [==============================] - 46s 2ms/step - loss: 0.1246 - accuracy: 0.9754 - val_loss: 0.1213 - val_accuracy: 0.9952\n",
            "Epoch 10/10\n",
            "20145/20145 [==============================] - 47s 2ms/step - loss: 0.1209 - accuracy: 0.9763 - val_loss: 0.2001 - val_accuracy: 0.9665\n",
            "10073/10073 [==============================] - 19s 2ms/step - loss: 0.5923 - accuracy: 0.8458\n",
            "Epoch 1/10\n",
            "20145/20145 [==============================] - 44s 2ms/step - loss: 0.2667 - accuracy: 0.9769 - val_loss: 0.1102 - val_accuracy: 0.9960\n",
            "Epoch 2/10\n",
            "20145/20145 [==============================] - 44s 2ms/step - loss: 0.1235 - accuracy: 0.9870 - val_loss: 0.0906 - val_accuracy: 0.9963\n",
            "Epoch 3/10\n",
            "20145/20145 [==============================] - 47s 2ms/step - loss: 0.1068 - accuracy: 0.9869 - val_loss: 0.0865 - val_accuracy: 0.9963\n",
            "Epoch 4/10\n",
            "20145/20145 [==============================] - 45s 2ms/step - loss: 0.1019 - accuracy: 0.9865 - val_loss: 0.0725 - val_accuracy: 0.9964\n",
            "Epoch 5/10\n",
            "20145/20145 [==============================] - 45s 2ms/step - loss: 0.1014 - accuracy: 0.9860 - val_loss: 0.0721 - val_accuracy: 0.9957\n",
            "Epoch 6/10\n",
            "20145/20145 [==============================] - 44s 2ms/step - loss: 0.0946 - accuracy: 0.9863 - val_loss: 0.0911 - val_accuracy: 0.9877\n",
            "Epoch 7/10\n",
            "20145/20145 [==============================] - 49s 2ms/step - loss: 0.0938 - accuracy: 0.9860 - val_loss: 0.0902 - val_accuracy: 0.9931\n",
            "Epoch 8/10\n",
            "20145/20145 [==============================] - 46s 2ms/step - loss: 0.0933 - accuracy: 0.9855 - val_loss: 0.0777 - val_accuracy: 0.9947\n",
            "Epoch 9/10\n",
            "20145/20145 [==============================] - 45s 2ms/step - loss: 0.0926 - accuracy: 0.9856 - val_loss: 0.0631 - val_accuracy: 0.9961\n",
            "Epoch 10/10\n",
            "20145/20145 [==============================] - 47s 2ms/step - loss: 0.0994 - accuracy: 0.9843 - val_loss: 0.0630 - val_accuracy: 0.9964\n",
            "10073/10073 [==============================] - 20s 2ms/step - loss: 0.2531 - accuracy: 0.9608\n",
            "Epoch 1/10\n",
            "20145/20145 [==============================] - 46s 2ms/step - loss: 0.2864 - accuracy: 0.9649 - val_loss: 0.5500 - val_accuracy: 0.7682\n",
            "Epoch 2/10\n",
            "20145/20145 [==============================] - 47s 2ms/step - loss: 0.1469 - accuracy: 0.9721 - val_loss: 0.5518 - val_accuracy: 0.7732\n",
            "Epoch 3/10\n",
            "20145/20145 [==============================] - 51s 3ms/step - loss: 0.1395 - accuracy: 0.9729 - val_loss: 0.7533 - val_accuracy: 0.7043\n",
            "Epoch 4/10\n",
            "20145/20145 [==============================] - 46s 2ms/step - loss: 0.1352 - accuracy: 0.9734 - val_loss: 0.5300 - val_accuracy: 0.7899\n",
            "Epoch 5/10\n",
            "20145/20145 [==============================] - 46s 2ms/step - loss: 0.1317 - accuracy: 0.9738 - val_loss: 0.7063 - val_accuracy: 0.7263\n",
            "Epoch 6/10\n",
            "20145/20145 [==============================] - 45s 2ms/step - loss: 0.1295 - accuracy: 0.9741 - val_loss: 0.5451 - val_accuracy: 0.7828\n",
            "Epoch 7/10\n",
            "20145/20145 [==============================] - 47s 2ms/step - loss: 0.1278 - accuracy: 0.9742 - val_loss: 0.5549 - val_accuracy: 0.7911\n",
            "Epoch 8/10\n",
            "20145/20145 [==============================] - 45s 2ms/step - loss: 0.1264 - accuracy: 0.9743 - val_loss: 0.4241 - val_accuracy: 0.8260\n",
            "Epoch 9/10\n",
            "20145/20145 [==============================] - 46s 2ms/step - loss: 0.1245 - accuracy: 0.9746 - val_loss: 0.7031 - val_accuracy: 0.7419\n",
            "Epoch 10/10\n",
            "20145/20145 [==============================] - 47s 2ms/step - loss: 0.1249 - accuracy: 0.9743 - val_loss: 0.5114 - val_accuracy: 0.8157\n",
            "10073/10073 [==============================] - 20s 2ms/step - loss: 0.7419 - accuracy: 0.7162\n",
            "Epoch 1/10\n",
            "20145/20145 [==============================] - 47s 2ms/step - loss: 0.3202 - accuracy: 0.9673 - val_loss: 0.1587 - val_accuracy: 0.9931\n",
            "Epoch 2/10\n",
            "20145/20145 [==============================] - 46s 2ms/step - loss: 0.1676 - accuracy: 0.9736 - val_loss: 0.1452 - val_accuracy: 0.9919\n",
            "Epoch 3/10\n",
            "20145/20145 [==============================] - 51s 3ms/step - loss: 0.1599 - accuracy: 0.9738 - val_loss: 0.1211 - val_accuracy: 0.9932\n",
            "Epoch 4/10\n",
            "20145/20145 [==============================] - 48s 2ms/step - loss: 0.1562 - accuracy: 0.9738 - val_loss: 0.1264 - val_accuracy: 0.9913\n",
            "Epoch 5/10\n",
            "20145/20145 [==============================] - 46s 2ms/step - loss: 0.1537 - accuracy: 0.9739 - val_loss: 0.1387 - val_accuracy: 0.9917\n",
            "Epoch 6/10\n",
            "20145/20145 [==============================] - 45s 2ms/step - loss: 0.1522 - accuracy: 0.9739 - val_loss: 0.1183 - val_accuracy: 0.9920\n",
            "Epoch 7/10\n",
            "20145/20145 [==============================] - 48s 2ms/step - loss: 0.1506 - accuracy: 0.9738 - val_loss: 0.1353 - val_accuracy: 0.9887\n",
            "Epoch 8/10\n",
            "20145/20145 [==============================] - 46s 2ms/step - loss: 0.1493 - accuracy: 0.9739 - val_loss: 0.1313 - val_accuracy: 0.9877\n",
            "Epoch 9/10\n",
            "20145/20145 [==============================] - 45s 2ms/step - loss: 0.1489 - accuracy: 0.9739 - val_loss: 0.2237 - val_accuracy: 0.9616\n",
            "Epoch 10/10\n",
            "20145/20145 [==============================] - 48s 2ms/step - loss: 0.1471 - accuracy: 0.9739 - val_loss: 0.1271 - val_accuracy: 0.9891\n",
            "10073/10073 [==============================] - 21s 2ms/step - loss: 0.3079 - accuracy: 0.8948\n",
            "Epoch 1/10\n",
            "20145/20145 [==============================] - 49s 2ms/step - loss: 0.2925 - accuracy: 0.9791 - val_loss: 0.1233 - val_accuracy: 0.9965\n",
            "Epoch 2/10\n",
            "20145/20145 [==============================] - 48s 2ms/step - loss: 0.1380 - accuracy: 0.9875 - val_loss: 0.1354 - val_accuracy: 0.9852\n",
            "Epoch 3/10\n",
            "20145/20145 [==============================] - 52s 3ms/step - loss: 0.1282 - accuracy: 0.9872 - val_loss: 0.0962 - val_accuracy: 0.9944\n",
            "Epoch 4/10\n",
            "20145/20145 [==============================] - 47s 2ms/step - loss: 0.1231 - accuracy: 0.9869 - val_loss: 0.1315 - val_accuracy: 0.9816\n",
            "Epoch 5/10\n",
            "20145/20145 [==============================] - 47s 2ms/step - loss: 0.1209 - accuracy: 0.9862 - val_loss: 0.0976 - val_accuracy: 0.9956\n",
            "Epoch 6/10\n",
            "20145/20145 [==============================] - 48s 2ms/step - loss: 0.1156 - accuracy: 0.9864 - val_loss: 0.0902 - val_accuracy: 0.9957\n",
            "Epoch 7/10\n",
            "20145/20145 [==============================] - 50s 2ms/step - loss: 0.1136 - accuracy: 0.9861 - val_loss: 0.1216 - val_accuracy: 0.9835\n",
            "Epoch 8/10\n",
            "20145/20145 [==============================] - 50s 2ms/step - loss: 0.1121 - accuracy: 0.9860 - val_loss: 0.0979 - val_accuracy: 0.9943\n",
            "Epoch 9/10\n",
            "20145/20145 [==============================] - 50s 2ms/step - loss: 0.1106 - accuracy: 0.9858 - val_loss: 0.0958 - val_accuracy: 0.9969\n",
            "Epoch 10/10\n",
            "20145/20145 [==============================] - 46s 2ms/step - loss: 0.1101 - accuracy: 0.9856 - val_loss: 0.1215 - val_accuracy: 0.9809\n",
            "10073/10073 [==============================] - 21s 2ms/step - loss: 0.4222 - accuracy: 0.9615\n",
            "Epoch 1/10\n",
            "20145/20145 [==============================] - 47s 2ms/step - loss: 0.3127 - accuracy: 0.9663 - val_loss: 0.5889 - val_accuracy: 0.7652\n",
            "Epoch 2/10\n",
            "20145/20145 [==============================] - 48s 2ms/step - loss: 0.1410 - accuracy: 0.9726 - val_loss: 0.6217 - val_accuracy: 0.7517\n",
            "Epoch 3/10\n",
            "20145/20145 [==============================] - 48s 2ms/step - loss: 0.1356 - accuracy: 0.9734 - val_loss: 0.5485 - val_accuracy: 0.7956\n",
            "Epoch 4/10\n",
            "20145/20145 [==============================] - 49s 2ms/step - loss: 0.1324 - accuracy: 0.9736 - val_loss: 0.4757 - val_accuracy: 0.8110\n",
            "Epoch 5/10\n",
            "20145/20145 [==============================] - 48s 2ms/step - loss: 0.1293 - accuracy: 0.9741 - val_loss: 0.5362 - val_accuracy: 0.7927\n",
            "Epoch 6/10\n",
            "20145/20145 [==============================] - 47s 2ms/step - loss: 0.1280 - accuracy: 0.9741 - val_loss: 0.4911 - val_accuracy: 0.7990\n",
            "Epoch 7/10\n",
            "20145/20145 [==============================] - 47s 2ms/step - loss: 0.1261 - accuracy: 0.9743 - val_loss: 0.5358 - val_accuracy: 0.7880\n",
            "Epoch 8/10\n",
            "20145/20145 [==============================] - 45s 2ms/step - loss: 0.1252 - accuracy: 0.9743 - val_loss: 0.4791 - val_accuracy: 0.8319\n",
            "Epoch 9/10\n",
            "20145/20145 [==============================] - 48s 2ms/step - loss: 0.1243 - accuracy: 0.9744 - val_loss: 0.5426 - val_accuracy: 0.7982\n",
            "Epoch 10/10\n",
            "20145/20145 [==============================] - 44s 2ms/step - loss: 0.1236 - accuracy: 0.9743 - val_loss: 0.4984 - val_accuracy: 0.8404\n",
            "10073/10073 [==============================] - 20s 2ms/step - loss: 0.7212 - accuracy: 0.7529\n",
            "Epoch 1/10\n",
            "20145/20145 [==============================] - 46s 2ms/step - loss: 0.3553 - accuracy: 0.9698 - val_loss: 0.1948 - val_accuracy: 0.9845\n",
            "Epoch 2/10\n",
            "20145/20145 [==============================] - 48s 2ms/step - loss: 0.1679 - accuracy: 0.9736 - val_loss: 0.2282 - val_accuracy: 0.9719\n",
            "Epoch 3/10\n",
            "20145/20145 [==============================] - 46s 2ms/step - loss: 0.1622 - accuracy: 0.9738 - val_loss: 0.1587 - val_accuracy: 0.9873\n",
            "Epoch 4/10\n",
            "20145/20145 [==============================] - 46s 2ms/step - loss: 0.1695 - accuracy: 0.9736 - val_loss: 0.1506 - val_accuracy: 0.9901\n",
            "Epoch 5/10\n",
            "20145/20145 [==============================] - 50s 2ms/step - loss: 0.1533 - accuracy: 0.9740 - val_loss: 0.1119 - val_accuracy: 0.9928\n",
            "Epoch 6/10\n",
            "20145/20145 [==============================] - 49s 2ms/step - loss: 0.1522 - accuracy: 0.9739 - val_loss: 0.1153 - val_accuracy: 0.9931\n",
            "Epoch 7/10\n",
            "20145/20145 [==============================] - 46s 2ms/step - loss: 0.1502 - accuracy: 0.9741 - val_loss: 0.4999 - val_accuracy: 0.8554\n",
            "Epoch 8/10\n",
            "20145/20145 [==============================] - 49s 2ms/step - loss: 0.1498 - accuracy: 0.9737 - val_loss: 0.2531 - val_accuracy: 0.9358\n",
            "Epoch 9/10\n",
            "20145/20145 [==============================] - 46s 2ms/step - loss: 0.1480 - accuracy: 0.9740 - val_loss: 0.0928 - val_accuracy: 0.9938\n",
            "Epoch 10/10\n",
            "20145/20145 [==============================] - 45s 2ms/step - loss: 0.1468 - accuracy: 0.9741 - val_loss: 0.1094 - val_accuracy: 0.9921\n",
            "10073/10073 [==============================] - 20s 2ms/step - loss: 0.2749 - accuracy: 0.9013\n",
            "Epoch 1/10\n",
            "20145/20145 [==============================] - 51s 3ms/step - loss: 0.3306 - accuracy: 0.9753 - val_loss: 0.1194 - val_accuracy: 0.9961\n",
            "Epoch 2/10\n",
            "20145/20145 [==============================] - 46s 2ms/step - loss: 0.1362 - accuracy: 0.9874 - val_loss: 0.1191 - val_accuracy: 0.9957\n",
            "Epoch 3/10\n",
            "20145/20145 [==============================] - 45s 2ms/step - loss: 0.1270 - accuracy: 0.9871 - val_loss: 0.1180 - val_accuracy: 0.9924\n",
            "Epoch 4/10\n",
            "20145/20145 [==============================] - 48s 2ms/step - loss: 0.1215 - accuracy: 0.9869 - val_loss: 0.1021 - val_accuracy: 0.9966\n",
            "Epoch 5/10\n",
            "20145/20145 [==============================] - 46s 2ms/step - loss: 0.1182 - accuracy: 0.9867 - val_loss: 0.0974 - val_accuracy: 0.9962\n",
            "Epoch 6/10\n",
            "20145/20145 [==============================] - 45s 2ms/step - loss: 0.1155 - accuracy: 0.9864 - val_loss: 0.3877 - val_accuracy: 0.8666\n",
            "Epoch 7/10\n",
            "20145/20145 [==============================] - 46s 2ms/step - loss: 0.1171 - accuracy: 0.9861 - val_loss: 0.0913 - val_accuracy: 0.9960\n",
            "Epoch 8/10\n",
            "20145/20145 [==============================] - 46s 2ms/step - loss: 0.1121 - accuracy: 0.9861 - val_loss: 0.1209 - val_accuracy: 0.9846\n",
            "Epoch 9/10\n",
            "20145/20145 [==============================] - 46s 2ms/step - loss: 0.1113 - accuracy: 0.9858 - val_loss: 0.0887 - val_accuracy: 0.9966\n",
            "Epoch 10/10\n",
            "20145/20145 [==============================] - 44s 2ms/step - loss: 0.1099 - accuracy: 0.9857 - val_loss: 0.1306 - val_accuracy: 0.9764\n",
            "10073/10073 [==============================] - 22s 2ms/step - loss: 0.4433 - accuracy: 0.9632\n",
            "Epoch 1/10\n",
            "20145/20145 [==============================] - 49s 2ms/step - loss: 0.3627 - accuracy: 0.9638 - val_loss: 0.5656 - val_accuracy: 0.7676\n",
            "Epoch 2/10\n",
            "20145/20145 [==============================] - 46s 2ms/step - loss: 0.1466 - accuracy: 0.9721 - val_loss: 0.5266 - val_accuracy: 0.7898\n",
            "Epoch 3/10\n",
            "20145/20145 [==============================] - 46s 2ms/step - loss: 0.1380 - accuracy: 0.9731 - val_loss: 0.5195 - val_accuracy: 0.8007\n",
            "Epoch 4/10\n",
            "20145/20145 [==============================] - 49s 2ms/step - loss: 0.1333 - accuracy: 0.9737 - val_loss: 0.4951 - val_accuracy: 0.8228\n",
            "Epoch 5/10\n",
            "20145/20145 [==============================] - 45s 2ms/step - loss: 0.1308 - accuracy: 0.9739 - val_loss: 0.4718 - val_accuracy: 0.8192\n",
            "Epoch 6/10\n",
            "20145/20145 [==============================] - 45s 2ms/step - loss: 0.1283 - accuracy: 0.9744 - val_loss: 0.5009 - val_accuracy: 0.8105\n",
            "Epoch 7/10\n",
            "20145/20145 [==============================] - 47s 2ms/step - loss: 0.1270 - accuracy: 0.9743 - val_loss: 0.5101 - val_accuracy: 0.8230\n",
            "Epoch 8/10\n",
            "20145/20145 [==============================] - 45s 2ms/step - loss: 0.1256 - accuracy: 0.9746 - val_loss: 0.6350 - val_accuracy: 0.7584\n",
            "Epoch 9/10\n",
            "20145/20145 [==============================] - 46s 2ms/step - loss: 0.1247 - accuracy: 0.9746 - val_loss: 0.5291 - val_accuracy: 0.7994\n",
            "Epoch 10/10\n",
            "20145/20145 [==============================] - 46s 2ms/step - loss: 0.1270 - accuracy: 0.9740 - val_loss: 0.4306 - val_accuracy: 0.8292\n",
            "10073/10073 [==============================] - 21s 2ms/step - loss: 0.5942 - accuracy: 0.7476\n",
            "Epoch 1/10\n",
            "20145/20145 [==============================] - 47s 2ms/step - loss: 0.3939 - accuracy: 0.9688 - val_loss: 0.1601 - val_accuracy: 0.9930\n",
            "Epoch 2/10\n",
            "20145/20145 [==============================] - 47s 2ms/step - loss: 0.1682 - accuracy: 0.9737 - val_loss: 0.1468 - val_accuracy: 0.9917\n",
            "Epoch 3/10\n",
            "20145/20145 [==============================] - 46s 2ms/step - loss: 0.1618 - accuracy: 0.9737 - val_loss: 0.1615 - val_accuracy: 0.9877\n",
            "Epoch 4/10\n",
            "20145/20145 [==============================] - 47s 2ms/step - loss: 0.1565 - accuracy: 0.9742 - val_loss: 0.1250 - val_accuracy: 0.9934\n",
            "Epoch 5/10\n",
            "20145/20145 [==============================] - 45s 2ms/step - loss: 0.1545 - accuracy: 0.9740 - val_loss: 0.1140 - val_accuracy: 0.9935\n",
            "Epoch 6/10\n",
            "20145/20145 [==============================] - 45s 2ms/step - loss: 0.1525 - accuracy: 0.9741 - val_loss: 0.1572 - val_accuracy: 0.9896\n",
            "Epoch 7/10\n",
            "20145/20145 [==============================] - 46s 2ms/step - loss: 0.1507 - accuracy: 0.9740 - val_loss: 0.1347 - val_accuracy: 0.9915\n",
            "Epoch 8/10\n",
            "20145/20145 [==============================] - 46s 2ms/step - loss: 0.1483 - accuracy: 0.9742 - val_loss: 0.1173 - val_accuracy: 0.9945\n",
            "Epoch 9/10\n",
            "20145/20145 [==============================] - 45s 2ms/step - loss: 0.1480 - accuracy: 0.9741 - val_loss: 0.1198 - val_accuracy: 0.9938\n",
            "Epoch 10/10\n",
            "20145/20145 [==============================] - 45s 2ms/step - loss: 0.1574 - accuracy: 0.9738 - val_loss: 0.1361 - val_accuracy: 0.9912\n",
            "10073/10073 [==============================] - 20s 2ms/step - loss: 0.2629 - accuracy: 0.9194\n",
            "Epoch 1/10\n",
            "20145/20145 [==============================] - 46s 2ms/step - loss: 0.3654 - accuracy: 0.9778 - val_loss: 0.1309 - val_accuracy: 0.9969\n",
            "Epoch 2/10\n",
            "20145/20145 [==============================] - 46s 2ms/step - loss: 0.1438 - accuracy: 0.9875 - val_loss: 0.1293 - val_accuracy: 0.9929\n",
            "Epoch 3/10\n",
            "20145/20145 [==============================] - 48s 2ms/step - loss: 0.1322 - accuracy: 0.9875 - val_loss: 0.1218 - val_accuracy: 0.9922\n",
            "Epoch 4/10\n",
            "20145/20145 [==============================] - 45s 2ms/step - loss: 0.1270 - accuracy: 0.9872 - val_loss: 0.1047 - val_accuracy: 0.9966\n",
            "Epoch 5/10\n",
            "20145/20145 [==============================] - 45s 2ms/step - loss: 0.1220 - accuracy: 0.9869 - val_loss: 0.1149 - val_accuracy: 0.9935\n",
            "Epoch 6/10\n",
            "20145/20145 [==============================] - 45s 2ms/step - loss: 0.1194 - accuracy: 0.9866 - val_loss: 0.1037 - val_accuracy: 0.9965\n",
            "Epoch 7/10\n",
            "20145/20145 [==============================] - 47s 2ms/step - loss: 0.1172 - accuracy: 0.9865 - val_loss: 0.0958 - val_accuracy: 0.9966\n",
            "Epoch 8/10\n",
            "20145/20145 [==============================] - 45s 2ms/step - loss: 0.1173 - accuracy: 0.9861 - val_loss: 0.1126 - val_accuracy: 0.9900\n",
            "Epoch 9/10\n",
            "20145/20145 [==============================] - 45s 2ms/step - loss: 0.1143 - accuracy: 0.9860 - val_loss: 0.0903 - val_accuracy: 0.9969\n",
            "Epoch 10/10\n",
            "20145/20145 [==============================] - 47s 2ms/step - loss: 0.1228 - accuracy: 0.9839 - val_loss: 0.1035 - val_accuracy: 0.9960\n",
            "10073/10073 [==============================] - 19s 2ms/step - loss: 0.4775 - accuracy: 0.9572\n",
            "Epoch 1/10\n",
            "20145/20145 [==============================] - 47s 2ms/step - loss: 0.3620 - accuracy: 0.9662 - val_loss: 0.6514 - val_accuracy: 0.7503\n",
            "Epoch 2/10\n",
            "20145/20145 [==============================] - 46s 2ms/step - loss: 0.1666 - accuracy: 0.9726 - val_loss: 0.5712 - val_accuracy: 0.7867\n",
            "Epoch 3/10\n",
            "20145/20145 [==============================] - 47s 2ms/step - loss: 0.1581 - accuracy: 0.9730 - val_loss: 0.5513 - val_accuracy: 0.7946\n",
            "Epoch 4/10\n",
            "20145/20145 [==============================] - 47s 2ms/step - loss: 0.1543 - accuracy: 0.9733 - val_loss: 0.6057 - val_accuracy: 0.7668\n",
            "Epoch 5/10\n",
            "20145/20145 [==============================] - 51s 3ms/step - loss: 0.1512 - accuracy: 0.9736 - val_loss: 0.5343 - val_accuracy: 0.8009\n",
            "Epoch 6/10\n",
            "20145/20145 [==============================] - 51s 3ms/step - loss: 0.1489 - accuracy: 0.9737 - val_loss: 0.6284 - val_accuracy: 0.7535\n",
            "Epoch 7/10\n",
            "20145/20145 [==============================] - 49s 2ms/step - loss: 0.1472 - accuracy: 0.9739 - val_loss: 0.5336 - val_accuracy: 0.7990\n",
            "Epoch 8/10\n",
            "20145/20145 [==============================] - 52s 3ms/step - loss: 0.1455 - accuracy: 0.9739 - val_loss: 0.6736 - val_accuracy: 0.7609\n",
            "Epoch 9/10\n",
            "20145/20145 [==============================] - 49s 2ms/step - loss: 0.1447 - accuracy: 0.9739 - val_loss: 0.6141 - val_accuracy: 0.7634\n",
            "Epoch 10/10\n",
            "20145/20145 [==============================] - 54s 3ms/step - loss: 0.1435 - accuracy: 0.9740 - val_loss: 0.4914 - val_accuracy: 0.8322\n",
            "10073/10073 [==============================] - 21s 2ms/step - loss: 0.7048 - accuracy: 0.7407\n",
            "Epoch 1/10\n",
            "20145/20145 [==============================] - 50s 2ms/step - loss: 0.3849 - accuracy: 0.9682 - val_loss: 0.1705 - val_accuracy: 0.9921\n",
            "Epoch 2/10\n",
            "20145/20145 [==============================] - 51s 3ms/step - loss: 0.1861 - accuracy: 0.9737 - val_loss: 0.1573 - val_accuracy: 0.9911\n",
            "Epoch 3/10\n",
            "20145/20145 [==============================] - 51s 3ms/step - loss: 0.1796 - accuracy: 0.9737 - val_loss: 0.1613 - val_accuracy: 0.9891\n",
            "Epoch 4/10\n",
            "20145/20145 [==============================] - 48s 2ms/step - loss: 0.1749 - accuracy: 0.9738 - val_loss: 0.1338 - val_accuracy: 0.9922\n",
            "Epoch 5/10\n",
            "20145/20145 [==============================] - 47s 2ms/step - loss: 0.1716 - accuracy: 0.9739 - val_loss: 0.1551 - val_accuracy: 0.9918\n",
            "Epoch 6/10\n",
            "20145/20145 [==============================] - 50s 2ms/step - loss: 0.1684 - accuracy: 0.9740 - val_loss: 0.1708 - val_accuracy: 0.9869\n",
            "Epoch 7/10\n",
            "20145/20145 [==============================] - 48s 2ms/step - loss: 0.1671 - accuracy: 0.9741 - val_loss: 0.1320 - val_accuracy: 0.9943\n",
            "Epoch 8/10\n",
            "20145/20145 [==============================] - 47s 2ms/step - loss: 0.1658 - accuracy: 0.9742 - val_loss: 0.1376 - val_accuracy: 0.9913\n",
            "Epoch 9/10\n",
            "20145/20145 [==============================] - 50s 2ms/step - loss: 0.1674 - accuracy: 0.9738 - val_loss: 0.1289 - val_accuracy: 0.9931\n",
            "Epoch 10/10\n",
            "20145/20145 [==============================] - 51s 3ms/step - loss: 0.1631 - accuracy: 0.9741 - val_loss: 0.1961 - val_accuracy: 0.9785\n",
            "10073/10073 [==============================] - 20s 2ms/step - loss: 0.3335 - accuracy: 0.8977\n",
            "Epoch 1/10\n",
            "20145/20145 [==============================] - 48s 2ms/step - loss: 0.3562 - accuracy: 0.9801 - val_loss: 0.1403 - val_accuracy: 0.9963\n",
            "Epoch 2/10\n",
            "20145/20145 [==============================] - 48s 2ms/step - loss: 0.1571 - accuracy: 0.9874 - val_loss: 0.1467 - val_accuracy: 0.9927\n",
            "Epoch 3/10\n",
            "20145/20145 [==============================] - 46s 2ms/step - loss: 0.1480 - accuracy: 0.9870 - val_loss: 0.1302 - val_accuracy: 0.9966\n",
            "Epoch 4/10\n",
            "20145/20145 [==============================] - 47s 2ms/step - loss: 0.1434 - accuracy: 0.9865 - val_loss: 0.1244 - val_accuracy: 0.9964\n",
            "Epoch 5/10\n",
            "20145/20145 [==============================] - 48s 2ms/step - loss: 0.1401 - accuracy: 0.9862 - val_loss: 0.1252 - val_accuracy: 0.9956\n",
            "Epoch 6/10\n",
            "20145/20145 [==============================] - 47s 2ms/step - loss: 0.1367 - accuracy: 0.9861 - val_loss: 0.2852 - val_accuracy: 0.9177\n",
            "Epoch 7/10\n",
            "20145/20145 [==============================] - 47s 2ms/step - loss: 0.1359 - accuracy: 0.9860 - val_loss: 0.1296 - val_accuracy: 0.9913\n",
            "Epoch 8/10\n",
            "20145/20145 [==============================] - 47s 2ms/step - loss: 0.1335 - accuracy: 0.9856 - val_loss: 0.3095 - val_accuracy: 0.8928\n",
            "Epoch 9/10\n",
            "20145/20145 [==============================] - 48s 2ms/step - loss: 0.1318 - accuracy: 0.9858 - val_loss: 0.1088 - val_accuracy: 0.9967\n",
            "Epoch 10/10\n",
            "20145/20145 [==============================] - 46s 2ms/step - loss: 0.1306 - accuracy: 0.9853 - val_loss: 0.1136 - val_accuracy: 0.9954\n",
            "10073/10073 [==============================] - 20s 2ms/step - loss: 0.4547 - accuracy: 0.9601\n",
            "Epoch 1/10\n",
            "20145/20145 [==============================] - 51s 2ms/step - loss: 0.4164 - accuracy: 0.9660 - val_loss: 0.5236 - val_accuracy: 0.8152\n",
            "Epoch 2/10\n",
            "20145/20145 [==============================] - 50s 2ms/step - loss: 0.1693 - accuracy: 0.9725 - val_loss: 0.5696 - val_accuracy: 0.7784\n",
            "Epoch 3/10\n",
            "20145/20145 [==============================] - 47s 2ms/step - loss: 0.1618 - accuracy: 0.9730 - val_loss: 0.6536 - val_accuracy: 0.7635\n",
            "Epoch 4/10\n",
            "20145/20145 [==============================] - 47s 2ms/step - loss: 0.1569 - accuracy: 0.9736 - val_loss: 0.4346 - val_accuracy: 0.8521\n",
            "Epoch 5/10\n",
            "20145/20145 [==============================] - 49s 2ms/step - loss: 0.1538 - accuracy: 0.9737 - val_loss: 0.5536 - val_accuracy: 0.7937\n",
            "Epoch 6/10\n",
            "20145/20145 [==============================] - 46s 2ms/step - loss: 0.1511 - accuracy: 0.9740 - val_loss: 0.5721 - val_accuracy: 0.7914\n",
            "Epoch 7/10\n",
            "20145/20145 [==============================] - 47s 2ms/step - loss: 0.1492 - accuracy: 0.9741 - val_loss: 0.5066 - val_accuracy: 0.8066\n",
            "Epoch 8/10\n",
            "20145/20145 [==============================] - 48s 2ms/step - loss: 0.1476 - accuracy: 0.9741 - val_loss: 0.4998 - val_accuracy: 0.8190\n",
            "Epoch 9/10\n",
            "20145/20145 [==============================] - 49s 2ms/step - loss: 0.1458 - accuracy: 0.9743 - val_loss: 0.5457 - val_accuracy: 0.7993\n",
            "Epoch 10/10\n",
            "20145/20145 [==============================] - 51s 3ms/step - loss: 0.1444 - accuracy: 0.9744 - val_loss: 0.6382 - val_accuracy: 0.7739\n",
            "10073/10073 [==============================] - 21s 2ms/step - loss: 0.9218 - accuracy: 0.6606\n",
            "Epoch 1/10\n",
            "20145/20145 [==============================] - 54s 3ms/step - loss: 0.4454 - accuracy: 0.9675 - val_loss: 0.1718 - val_accuracy: 0.9934\n",
            "Epoch 2/10\n",
            "20145/20145 [==============================] - 49s 2ms/step - loss: 0.1914 - accuracy: 0.9737 - val_loss: 0.1616 - val_accuracy: 0.9924\n",
            "Epoch 3/10\n",
            "20145/20145 [==============================] - 50s 2ms/step - loss: 0.1823 - accuracy: 0.9739 - val_loss: 0.1603 - val_accuracy: 0.9915\n",
            "Epoch 4/10\n",
            "20145/20145 [==============================] - 50s 3ms/step - loss: 0.1841 - accuracy: 0.9738 - val_loss: 0.1667 - val_accuracy: 0.9887\n",
            "Epoch 5/10\n",
            "20145/20145 [==============================] - 51s 3ms/step - loss: 0.1749 - accuracy: 0.9738 - val_loss: 0.1952 - val_accuracy: 0.9868\n",
            "Epoch 6/10\n",
            "20145/20145 [==============================] - 52s 3ms/step - loss: 0.1720 - accuracy: 0.9740 - val_loss: 0.1448 - val_accuracy: 0.9921\n",
            "Epoch 7/10\n",
            "20145/20145 [==============================] - 50s 2ms/step - loss: 0.1704 - accuracy: 0.9739 - val_loss: 0.1741 - val_accuracy: 0.9878\n",
            "Epoch 8/10\n",
            "20145/20145 [==============================] - 50s 2ms/step - loss: 0.1678 - accuracy: 0.9741 - val_loss: 0.1549 - val_accuracy: 0.9930\n",
            "Epoch 9/10\n",
            "20145/20145 [==============================] - 49s 2ms/step - loss: 0.1667 - accuracy: 0.9740 - val_loss: 0.1622 - val_accuracy: 0.9907\n",
            "Epoch 10/10\n",
            "20145/20145 [==============================] - 51s 3ms/step - loss: 0.1656 - accuracy: 0.9739 - val_loss: 0.1505 - val_accuracy: 0.9841\n",
            "10073/10073 [==============================] - 21s 2ms/step - loss: 0.5045 - accuracy: 0.8285\n",
            "Epoch 1/10\n",
            "20145/20145 [==============================] - 52s 3ms/step - loss: 0.4412 - accuracy: 0.9758 - val_loss: 0.1375 - val_accuracy: 0.9974\n",
            "Epoch 2/10\n",
            "20145/20145 [==============================] - 54s 3ms/step - loss: 0.1621 - accuracy: 0.9861 - val_loss: 0.1562 - val_accuracy: 0.9888\n",
            "Epoch 3/10\n",
            "20145/20145 [==============================] - 49s 2ms/step - loss: 0.1513 - accuracy: 0.9870 - val_loss: 0.1230 - val_accuracy: 0.9958\n",
            "Epoch 4/10\n",
            "20145/20145 [==============================] - 49s 2ms/step - loss: 0.1473 - accuracy: 0.9860 - val_loss: 0.1169 - val_accuracy: 0.9965\n",
            "Epoch 5/10\n",
            "20145/20145 [==============================] - 50s 2ms/step - loss: 0.1427 - accuracy: 0.9862 - val_loss: 0.1181 - val_accuracy: 0.9969\n",
            "Epoch 6/10\n",
            "20145/20145 [==============================] - 54s 3ms/step - loss: 0.1448 - accuracy: 0.9850 - val_loss: 0.1113 - val_accuracy: 0.9960\n",
            "Epoch 7/10\n",
            "20145/20145 [==============================] - 49s 2ms/step - loss: 0.1386 - accuracy: 0.9859 - val_loss: 0.1593 - val_accuracy: 0.9727\n",
            "Epoch 8/10\n",
            "20145/20145 [==============================] - 51s 3ms/step - loss: 0.1366 - accuracy: 0.9856 - val_loss: 0.1122 - val_accuracy: 0.9965\n",
            "Epoch 9/10\n",
            "20145/20145 [==============================] - 54s 3ms/step - loss: 0.1379 - accuracy: 0.9850 - val_loss: 0.1281 - val_accuracy: 0.9899\n",
            "Epoch 10/10\n",
            "20145/20145 [==============================] - 55s 3ms/step - loss: 0.1391 - accuracy: 0.9855 - val_loss: 0.1167 - val_accuracy: 0.9905\n",
            "10073/10073 [==============================] - 23s 2ms/step - loss: 0.4341 - accuracy: 0.9251\n",
            "Epoch 1/10\n",
            "20145/20145 [==============================] - 56s 3ms/step - loss: 0.4766 - accuracy: 0.9646 - val_loss: 0.6314 - val_accuracy: 0.7517\n",
            "Epoch 2/10\n",
            "20145/20145 [==============================] - 50s 2ms/step - loss: 0.1607 - accuracy: 0.9731 - val_loss: 0.6998 - val_accuracy: 0.7341\n",
            "Epoch 3/10\n",
            "20145/20145 [==============================] - 53s 3ms/step - loss: 0.1548 - accuracy: 0.9736 - val_loss: 0.5153 - val_accuracy: 0.8024\n",
            "Epoch 4/10\n",
            "20145/20145 [==============================] - 54s 3ms/step - loss: 0.1507 - accuracy: 0.9740 - val_loss: 0.5391 - val_accuracy: 0.8074\n",
            "Epoch 5/10\n",
            "20145/20145 [==============================] - 55s 3ms/step - loss: 0.1482 - accuracy: 0.9742 - val_loss: 0.5092 - val_accuracy: 0.8106\n",
            "Epoch 6/10\n",
            "20145/20145 [==============================] - 53s 3ms/step - loss: 0.1467 - accuracy: 0.9741 - val_loss: 0.6301 - val_accuracy: 0.7650\n",
            "Epoch 7/10\n",
            "20145/20145 [==============================] - 53s 3ms/step - loss: 0.1450 - accuracy: 0.9741 - val_loss: 0.5589 - val_accuracy: 0.7992\n",
            "Epoch 8/10\n",
            "20145/20145 [==============================] - 51s 3ms/step - loss: 0.1437 - accuracy: 0.9742 - val_loss: 0.4384 - val_accuracy: 0.8450\n",
            "Epoch 9/10\n",
            "20145/20145 [==============================] - 53s 3ms/step - loss: 0.1422 - accuracy: 0.9747 - val_loss: 0.6028 - val_accuracy: 0.7828\n",
            "Epoch 10/10\n",
            "20145/20145 [==============================] - 56s 3ms/step - loss: 0.1413 - accuracy: 0.9746 - val_loss: 0.5676 - val_accuracy: 0.8054\n",
            "10073/10073 [==============================] - 23s 2ms/step - loss: 0.8194 - accuracy: 0.7040\n",
            "Epoch 1/10\n",
            "20145/20145 [==============================] - 58s 3ms/step - loss: 0.5034 - accuracy: 0.9686 - val_loss: 0.1556 - val_accuracy: 0.9931\n",
            "Epoch 2/10\n",
            "20145/20145 [==============================] - 58s 3ms/step - loss: 0.1842 - accuracy: 0.9738 - val_loss: 0.4131 - val_accuracy: 0.8623\n",
            "Epoch 3/10\n",
            "20145/20145 [==============================] - 63s 3ms/step - loss: 0.1787 - accuracy: 0.9737 - val_loss: 0.1655 - val_accuracy: 0.9922\n",
            "Epoch 4/10\n",
            "20145/20145 [==============================] - 59s 3ms/step - loss: 0.1886 - accuracy: 0.9735 - val_loss: 0.1477 - val_accuracy: 0.9935\n",
            "Epoch 5/10\n",
            "20145/20145 [==============================] - 59s 3ms/step - loss: 0.1717 - accuracy: 0.9741 - val_loss: 0.2668 - val_accuracy: 0.9560\n",
            "Epoch 6/10\n",
            "20145/20145 [==============================] - 62s 3ms/step - loss: 0.1685 - accuracy: 0.9741 - val_loss: 0.1393 - val_accuracy: 0.9906\n",
            "Epoch 7/10\n",
            "20145/20145 [==============================] - 59s 3ms/step - loss: 0.1699 - accuracy: 0.9736 - val_loss: 0.1490 - val_accuracy: 0.9905\n",
            "Epoch 8/10\n",
            "20145/20145 [==============================] - 67s 3ms/step - loss: 0.1674 - accuracy: 0.9737 - val_loss: 0.1747 - val_accuracy: 0.9926\n",
            "Epoch 9/10\n",
            "20145/20145 [==============================] - 64s 3ms/step - loss: 0.1732 - accuracy: 0.9739 - val_loss: 0.2096 - val_accuracy: 0.9894\n",
            "Epoch 10/10\n",
            "20145/20145 [==============================] - 59s 3ms/step - loss: 0.1734 - accuracy: 0.9736 - val_loss: 0.4777 - val_accuracy: 0.8506\n",
            "10073/10073 [==============================] - 26s 3ms/step - loss: 0.8267 - accuracy: 0.6993\n",
            "Epoch 1/10\n",
            "20145/20145 [==============================] - 61s 3ms/step - loss: 0.5072 - accuracy: 0.9792 - val_loss: 0.1667 - val_accuracy: 0.9921\n",
            "Epoch 2/10\n",
            "20145/20145 [==============================] - 57s 3ms/step - loss: 0.1693 - accuracy: 0.9874 - val_loss: 0.1343 - val_accuracy: 0.9965\n",
            "Epoch 3/10\n",
            "20145/20145 [==============================] - 55s 3ms/step - loss: 0.1581 - accuracy: 0.9874 - val_loss: 0.1718 - val_accuracy: 0.9767\n",
            "Epoch 4/10\n",
            "20145/20145 [==============================] - 56s 3ms/step - loss: 0.1528 - accuracy: 0.9872 - val_loss: 0.1308 - val_accuracy: 0.9968\n",
            "Epoch 5/10\n",
            "20145/20145 [==============================] - 56s 3ms/step - loss: 0.1504 - accuracy: 0.9870 - val_loss: 0.1179 - val_accuracy: 0.9960\n",
            "Epoch 6/10\n",
            "20145/20145 [==============================] - 57s 3ms/step - loss: 0.1459 - accuracy: 0.9866 - val_loss: 0.1354 - val_accuracy: 0.9924\n",
            "Epoch 7/10\n",
            "20145/20145 [==============================] - 57s 3ms/step - loss: 0.1461 - accuracy: 0.9865 - val_loss: 0.1376 - val_accuracy: 0.9967\n",
            "Epoch 8/10\n",
            "20145/20145 [==============================] - 59s 3ms/step - loss: 0.1425 - accuracy: 0.9865 - val_loss: 0.1243 - val_accuracy: 0.9955\n",
            "Epoch 9/10\n",
            "20145/20145 [==============================] - 56s 3ms/step - loss: 0.1436 - accuracy: 0.9852 - val_loss: 0.1335 - val_accuracy: 0.9917\n",
            "Epoch 10/10\n",
            "20145/20145 [==============================] - 56s 3ms/step - loss: 0.1375 - accuracy: 0.9864 - val_loss: 0.1144 - val_accuracy: 0.9968\n",
            "10073/10073 [==============================] - 24s 2ms/step - loss: 0.3449 - accuracy: 0.9597\n",
            "Epoch 1/10\n",
            "30217/30217 [==============================] - 85s 3ms/step - loss: 0.3425 - accuracy: 0.9735 - val_loss: 0.1730 - val_accuracy: 0.9923\n",
            "Epoch 2/10\n",
            "30217/30217 [==============================] - 84s 3ms/step - loss: 0.1731 - accuracy: 0.9766 - val_loss: 0.1585 - val_accuracy: 0.9923\n",
            "Epoch 3/10\n",
            "30217/30217 [==============================] - 83s 3ms/step - loss: 0.1628 - accuracy: 0.9773 - val_loss: 0.1128 - val_accuracy: 0.9961\n",
            "Epoch 4/10\n",
            "30217/30217 [==============================] - 81s 3ms/step - loss: 0.1573 - accuracy: 0.9776 - val_loss: 0.1159 - val_accuracy: 0.9962\n",
            "Epoch 5/10\n",
            "30217/30217 [==============================] - 83s 3ms/step - loss: 0.1590 - accuracy: 0.9774 - val_loss: 0.1221 - val_accuracy: 0.9939\n",
            "Epoch 6/10\n",
            "30217/30217 [==============================] - 80s 3ms/step - loss: 0.1531 - accuracy: 0.9772 - val_loss: 0.1435 - val_accuracy: 0.9799\n",
            "Epoch 7/10\n",
            "30217/30217 [==============================] - 84s 3ms/step - loss: 0.1523 - accuracy: 0.9770 - val_loss: 0.1009 - val_accuracy: 0.9955\n",
            "Epoch 8/10\n",
            "30217/30217 [==============================] - 76s 3ms/step - loss: 0.1485 - accuracy: 0.9771 - val_loss: 0.1509 - val_accuracy: 0.9652\n",
            "Epoch 9/10\n",
            "30217/30217 [==============================] - 77s 3ms/step - loss: 0.1475 - accuracy: 0.9770 - val_loss: 0.1083 - val_accuracy: 0.9951\n",
            "Epoch 10/10\n",
            "30217/30217 [==============================] - 76s 3ms/step - loss: 0.1456 - accuracy: 0.9770 - val_loss: 0.1050 - val_accuracy: 0.9945\n"
          ]
        },
        {
          "output_type": "execute_result",
          "data": {
            "text/plain": [
              "GridSearchCV(cv=3,\n",
              "             estimator=<keras.wrappers.scikit_learn.KerasClassifier object at 0x7f92c8a76550>,\n",
              "             param_grid={'n_hidden': [1, 2, 3], 'n_neurons': [20, 30, 40]})"
            ]
          },
          "metadata": {},
          "execution_count": 17
        }
      ],
      "source": [
        "from sklearn.model_selection import GridSearchCV\n",
        "\n",
        "n_epochs = 10\n",
        "param_distribs = {\n",
        "        \"n_hidden\": [1,2,3],\n",
        "        \"n_neurons\": [20,30,40]\n",
        "    }\n",
        "#callbacks = will be aware when to interupt\n",
        "rnd_search_cv = GridSearchCV(keras_clf, param_distribs, cv=3)\n",
        "rnd_search_cv.fit(X_train, Y_train, epochs=n_epochs,\n",
        "    validation_data=(X_val, Y_val),\n",
        "    callbacks=[keras.callbacks.EarlyStopping(monitor='loss', patience=5)])\n",
        "#patience - Number of epochs with no improvement after which training will be stopped."
      ]
    },
    {
      "cell_type": "code",
      "execution_count": null,
      "metadata": {
        "colab": {
          "base_uri": "https://localhost:8080/"
        },
        "id": "D2y4WGDjWmyr",
        "outputId": "b14ffdaf-0b3f-4785-c8e7-6312c3268aac"
      },
      "outputs": [
        {
          "output_type": "execute_result",
          "data": {
            "text/plain": [
              "{'n_hidden': 2, 'n_neurons': 40}"
            ]
          },
          "metadata": {},
          "execution_count": 18
        }
      ],
      "source": [
        "rnd_search_cv.best_params_"
      ]
    },
    {
      "cell_type": "code",
      "execution_count": null,
      "metadata": {
        "id": "x2-Etix0Va48",
        "colab": {
          "base_uri": "https://localhost:8080/",
          "height": 504
        },
        "outputId": "229471a1-db8e-4ae3-f400-5cb63bec7b25"
      },
      "outputs": [
        {
          "output_type": "execute_result",
          "data": {
            "text/plain": [
              "(0.0, 1.0)"
            ]
          },
          "metadata": {},
          "execution_count": 19
        },
        {
          "output_type": "display_data",
          "data": {
            "text/plain": [
              "<Figure size 576x576 with 1 Axes>"
            ],
            "image/png": "[encoded data removed]"
          },
          "metadata": {
            "needs_background": "light"
          }
        }
      ],
      "source": [
        "pd.DataFrame(rnd_search_cv.best_estimator_.model.history.history).plot(figsize=(8,8))\n",
        "plt.grid(True)\n",
        "plt.gca().set_ylim(0,1)"
      ]
    },
    {
      "cell_type": "code",
      "execution_count": null,
      "metadata": {
        "colab": {
          "base_uri": "https://localhost:8080/"
        },
        "id": "UyrUABVnVa2c",
        "outputId": "a587212b-a3e9-40e2-95b3-fff015f8ceb9"
      },
      "outputs": [
        {
          "output_type": "stream",
          "name": "stdout",
          "text": [
            "Model: \"sequential_27\"\n",
            "_________________________________________________________________\n",
            " Layer (type)                Output Shape              Param #   \n",
            "=================================================================\n",
            " normalization (Normalizatio  (None, 35)               71        \n",
            " n)                                                              \n",
            "                                                                 \n",
            " input_28 (InputLayer)       multiple                  0         \n",
            "                                                                 \n",
            " dense_81 (Dense)            (None, 40)                1440      \n",
            "                                                                 \n",
            " dense_82 (Dense)            (None, 40)                1640      \n",
            "                                                                 \n",
            " dense_83 (Dense)            (None, 2)                 82        \n",
            "                                                                 \n",
            "=================================================================\n",
            "Total params: 3,233\n",
            "Trainable params: 3,162\n",
            "Non-trainable params: 71\n",
            "_________________________________________________________________\n"
          ]
        }
      ],
      "source": [
        "best_model = rnd_search_cv.best_estimator_.model\n",
        "best_model.summary()"
      ]
    },
    {
      "cell_type": "code",
      "execution_count": null,
      "metadata": {
        "colab": {
          "base_uri": "https://localhost:8080/"
        },
        "id": "O-lysE3YW1mU",
        "outputId": "46a69cc8-d6a6-4b58-c08b-dbfe22d5c667"
      },
      "outputs": [
        {
          "output_type": "stream",
          "name": "stdout",
          "text": [
            "7630/7630 [==============================] - 18s 2ms/step - loss: 0.1049 - accuracy: 0.9947\n"
          ]
        }
      ],
      "source": [
        "score = best_model.evaluate(X_test, Y_test)"
      ]
    },
    {
      "cell_type": "markdown",
      "source": [
        "Summary of the perfomace of the Sequential Model\n",
        "\n",
        "As we can see the Model showed us a good result with a loss of 0.10 and an accuracy of 99.4 % with only 40 neurons per 1 layer (totally hidden 2 layers)"
      ],
      "metadata": {
        "id": "mJ5JHlR9KtiU"
      }
    },
    {
      "cell_type": "markdown",
      "metadata": {
        "id": "9yrFmNHOVAAW"
      },
      "source": [
        "# Creating Decision Forest with TensorFlow\n",
        "\n",
        "\n",
        "\n",
        "\n"
      ]
    },
    {
      "cell_type": "code",
      "execution_count": null,
      "metadata": {
        "colab": {
          "base_uri": "https://localhost:8080/"
        },
        "id": "Bh3xNtU-VdFJ",
        "outputId": "2f979c74-5afa-4465-ed76-baff1e171764"
      },
      "outputs": [
        {
          "output_type": "stream",
          "name": "stdout",
          "text": [
            "Looking in indexes: https://pypi.org/simple, https://us-python.pkg.dev/colab-wheels/public/simple/\n",
            "Collecting tensorflow_decision_forests\n",
            "  Downloading tensorflow_decision_forests-1.0.1-cp37-cp37m-manylinux_2_17_x86_64.manylinux2014_x86_64.whl (16.0 MB)\n",
            "\u001b[K     |████████████████████████████████| 16.0 MB 18.2 MB/s \n",
            "\u001b[?25hCollecting wurlitzer\n",
            "  Downloading wurlitzer-3.0.2-py3-none-any.whl (7.3 kB)\n",
            "Requirement already satisfied: pandas in /usr/local/lib/python3.7/dist-packages (from tensorflow_decision_forests) (1.3.5)\n",
            "Requirement already satisfied: numpy in /usr/local/lib/python3.7/dist-packages (from tensorflow_decision_forests) (1.21.6)\n",
            "Requirement already satisfied: wheel in /usr/local/lib/python3.7/dist-packages (from tensorflow_decision_forests) (0.37.1)\n",
            "Requirement already satisfied: six in /usr/local/lib/python3.7/dist-packages (from tensorflow_decision_forests) (1.15.0)\n",
            "Collecting tensorflow~=2.10.0\n",
            "  Downloading tensorflow-2.10.0-cp37-cp37m-manylinux_2_17_x86_64.manylinux2014_x86_64.whl (578.0 MB)\n",
            "\u001b[K     |████████████████████████████████| 578.0 MB 15 kB/s \n",
            "\u001b[?25hRequirement already satisfied: absl-py in /usr/local/lib/python3.7/dist-packages (from tensorflow_decision_forests) (1.3.0)\n",
            "Collecting flatbuffers>=2.0\n",
            "  Downloading flatbuffers-22.9.24-py2.py3-none-any.whl (26 kB)\n",
            "Collecting tensorflow-estimator<2.11,>=2.10.0\n",
            "  Downloading tensorflow_estimator-2.10.0-py2.py3-none-any.whl (438 kB)\n",
            "\u001b[K     |████████████████████████████████| 438 kB 71.5 MB/s \n",
            "\u001b[?25hRequirement already satisfied: google-pasta>=0.1.1 in /usr/local/lib/python3.7/dist-packages (from tensorflow~=2.10.0->tensorflow_decision_forests) (0.2.0)\n",
            "Collecting tensorboard<2.11,>=2.10\n",
            "  Downloading tensorboard-2.10.1-py3-none-any.whl (5.9 MB)\n",
            "\u001b[K     |████████████████████████████████| 5.9 MB 67.2 MB/s \n",
            "\u001b[?25hRequirement already satisfied: keras-preprocessing>=1.1.1 in /usr/local/lib/python3.7/dist-packages (from tensorflow~=2.10.0->tensorflow_decision_forests) (1.1.2)\n",
            "Requirement already satisfied: opt-einsum>=2.3.2 in /usr/local/lib/python3.7/dist-packages (from tensorflow~=2.10.0->tensorflow_decision_forests) (3.3.0)\n",
            "Requirement already satisfied: termcolor>=1.1.0 in /usr/local/lib/python3.7/dist-packages (from tensorflow~=2.10.0->tensorflow_decision_forests) (2.0.1)\n",
            "Requirement already satisfied: libclang>=13.0.0 in /usr/local/lib/python3.7/dist-packages (from tensorflow~=2.10.0->tensorflow_decision_forests) (14.0.6)\n",
            "Requirement already satisfied: grpcio<2.0,>=1.24.3 in /usr/local/lib/python3.7/dist-packages (from tensorflow~=2.10.0->tensorflow_decision_forests) (1.49.1)\n",
            "Requirement already satisfied: protobuf<3.20,>=3.9.2 in /usr/local/lib/python3.7/dist-packages (from tensorflow~=2.10.0->tensorflow_decision_forests) (3.17.3)\n",
            "Requirement already satisfied: wrapt>=1.11.0 in /usr/local/lib/python3.7/dist-packages (from tensorflow~=2.10.0->tensorflow_decision_forests) (1.14.1)\n",
            "Requirement already satisfied: tensorflow-io-gcs-filesystem>=0.23.1 in /usr/local/lib/python3.7/dist-packages (from tensorflow~=2.10.0->tensorflow_decision_forests) (0.27.0)\n",
            "Requirement already satisfied: packaging in /usr/local/lib/python3.7/dist-packages (from tensorflow~=2.10.0->tensorflow_decision_forests) (21.3)\n",
            "Requirement already satisfied: h5py>=2.9.0 in /usr/local/lib/python3.7/dist-packages (from tensorflow~=2.10.0->tensorflow_decision_forests) (3.1.0)\n",
            "Requirement already satisfied: gast<=0.4.0,>=0.2.1 in /usr/local/lib/python3.7/dist-packages (from tensorflow~=2.10.0->tensorflow_decision_forests) (0.4.0)\n",
            "Collecting keras<2.11,>=2.10.0\n",
            "  Downloading keras-2.10.0-py2.py3-none-any.whl (1.7 MB)\n",
            "\u001b[K     |████████████████████████████████| 1.7 MB 54.2 MB/s \n",
            "\u001b[?25hRequirement already satisfied: astunparse>=1.6.0 in /usr/local/lib/python3.7/dist-packages (from tensorflow~=2.10.0->tensorflow_decision_forests) (1.6.3)\n",
            "Requirement already satisfied: typing-extensions>=3.6.6 in /usr/local/lib/python3.7/dist-packages (from tensorflow~=2.10.0->tensorflow_decision_forests) (4.1.1)\n",
            "Requirement already satisfied: setuptools in /usr/local/lib/python3.7/dist-packages (from tensorflow~=2.10.0->tensorflow_decision_forests) (57.4.0)\n",
            "Requirement already satisfied: cached-property in /usr/local/lib/python3.7/dist-packages (from h5py>=2.9.0->tensorflow~=2.10.0->tensorflow_decision_forests) (1.5.2)\n",
            "Requirement already satisfied: tensorboard-data-server<0.7.0,>=0.6.0 in /usr/local/lib/python3.7/dist-packages (from tensorboard<2.11,>=2.10->tensorflow~=2.10.0->tensorflow_decision_forests) (0.6.1)\n",
            "Requirement already satisfied: tensorboard-plugin-wit>=1.6.0 in /usr/local/lib/python3.7/dist-packages (from tensorboard<2.11,>=2.10->tensorflow~=2.10.0->tensorflow_decision_forests) (1.8.1)\n",
            "Requirement already satisfied: markdown>=2.6.8 in /usr/local/lib/python3.7/dist-packages (from tensorboard<2.11,>=2.10->tensorflow~=2.10.0->tensorflow_decision_forests) (3.4.1)\n",
            "Requirement already satisfied: requests<3,>=2.21.0 in /usr/local/lib/python3.7/dist-packages (from tensorboard<2.11,>=2.10->tensorflow~=2.10.0->tensorflow_decision_forests) (2.23.0)\n",
            "Requirement already satisfied: google-auth<3,>=1.6.3 in /usr/local/lib/python3.7/dist-packages (from tensorboard<2.11,>=2.10->tensorflow~=2.10.0->tensorflow_decision_forests) (1.35.0)\n",
            "Requirement already satisfied: werkzeug>=1.0.1 in /usr/local/lib/python3.7/dist-packages (from tensorboard<2.11,>=2.10->tensorflow~=2.10.0->tensorflow_decision_forests) (1.0.1)\n",
            "Requirement already satisfied: google-auth-oauthlib<0.5,>=0.4.1 in /usr/local/lib/python3.7/dist-packages (from tensorboard<2.11,>=2.10->tensorflow~=2.10.0->tensorflow_decision_forests) (0.4.6)\n",
            "Requirement already satisfied: pyasn1-modules>=0.2.1 in /usr/local/lib/python3.7/dist-packages (from google-auth<3,>=1.6.3->tensorboard<2.11,>=2.10->tensorflow~=2.10.0->tensorflow_decision_forests) (0.2.8)\n",
            "Requirement already satisfied: rsa<5,>=3.1.4 in /usr/local/lib/python3.7/dist-packages (from google-auth<3,>=1.6.3->tensorboard<2.11,>=2.10->tensorflow~=2.10.0->tensorflow_decision_forests) (4.9)\n",
            "Requirement already satisfied: cachetools<5.0,>=2.0.0 in /usr/local/lib/python3.7/dist-packages (from google-auth<3,>=1.6.3->tensorboard<2.11,>=2.10->tensorflow~=2.10.0->tensorflow_decision_forests) (4.2.4)\n",
            "Requirement already satisfied: requests-oauthlib>=0.7.0 in /usr/local/lib/python3.7/dist-packages (from google-auth-oauthlib<0.5,>=0.4.1->tensorboard<2.11,>=2.10->tensorflow~=2.10.0->tensorflow_decision_forests) (1.3.1)\n",
            "Requirement already satisfied: importlib-metadata>=4.4 in /usr/local/lib/python3.7/dist-packages (from markdown>=2.6.8->tensorboard<2.11,>=2.10->tensorflow~=2.10.0->tensorflow_decision_forests) (4.13.0)\n",
            "Requirement already satisfied: zipp>=0.5 in /usr/local/lib/python3.7/dist-packages (from importlib-metadata>=4.4->markdown>=2.6.8->tensorboard<2.11,>=2.10->tensorflow~=2.10.0->tensorflow_decision_forests) (3.9.0)\n",
            "Requirement already satisfied: pyasn1<0.5.0,>=0.4.6 in /usr/local/lib/python3.7/dist-packages (from pyasn1-modules>=0.2.1->google-auth<3,>=1.6.3->tensorboard<2.11,>=2.10->tensorflow~=2.10.0->tensorflow_decision_forests) (0.4.8)\n",
            "Requirement already satisfied: urllib3!=1.25.0,!=1.25.1,<1.26,>=1.21.1 in /usr/local/lib/python3.7/dist-packages (from requests<3,>=2.21.0->tensorboard<2.11,>=2.10->tensorflow~=2.10.0->tensorflow_decision_forests) (1.24.3)\n",
            "Requirement already satisfied: certifi>=2017.4.17 in /usr/local/lib/python3.7/dist-packages (from requests<3,>=2.21.0->tensorboard<2.11,>=2.10->tensorflow~=2.10.0->tensorflow_decision_forests) (2022.9.24)\n",
            "Requirement already satisfied: idna<3,>=2.5 in /usr/local/lib/python3.7/dist-packages (from requests<3,>=2.21.0->tensorboard<2.11,>=2.10->tensorflow~=2.10.0->tensorflow_decision_forests) (2.10)\n",
            "Requirement already satisfied: chardet<4,>=3.0.2 in /usr/local/lib/python3.7/dist-packages (from requests<3,>=2.21.0->tensorboard<2.11,>=2.10->tensorflow~=2.10.0->tensorflow_decision_forests) (3.0.4)\n",
            "Requirement already satisfied: oauthlib>=3.0.0 in /usr/local/lib/python3.7/dist-packages (from requests-oauthlib>=0.7.0->google-auth-oauthlib<0.5,>=0.4.1->tensorboard<2.11,>=2.10->tensorflow~=2.10.0->tensorflow_decision_forests) (3.2.1)\n",
            "Requirement already satisfied: pyparsing!=3.0.5,>=2.0.2 in /usr/local/lib/python3.7/dist-packages (from packaging->tensorflow~=2.10.0->tensorflow_decision_forests) (3.0.9)\n",
            "Requirement already satisfied: python-dateutil>=2.7.3 in /usr/local/lib/python3.7/dist-packages (from pandas->tensorflow_decision_forests) (2.8.2)\n",
            "Requirement already satisfied: pytz>=2017.3 in /usr/local/lib/python3.7/dist-packages (from pandas->tensorflow_decision_forests) (2022.4)\n",
            "Installing collected packages: tensorflow-estimator, tensorboard, keras, flatbuffers, wurlitzer, tensorflow, tensorflow-decision-forests\n",
            "  Attempting uninstall: tensorflow-estimator\n",
            "    Found existing installation: tensorflow-estimator 2.9.0\n",
            "    Uninstalling tensorflow-estimator-2.9.0:\n",
            "      Successfully uninstalled tensorflow-estimator-2.9.0\n",
            "  Attempting uninstall: tensorboard\n",
            "    Found existing installation: tensorboard 2.9.1\n",
            "    Uninstalling tensorboard-2.9.1:\n",
            "      Successfully uninstalled tensorboard-2.9.1\n",
            "  Attempting uninstall: keras\n",
            "    Found existing installation: keras 2.9.0\n",
            "    Uninstalling keras-2.9.0:\n",
            "      Successfully uninstalled keras-2.9.0\n",
            "  Attempting uninstall: flatbuffers\n",
            "    Found existing installation: flatbuffers 1.12\n",
            "    Uninstalling flatbuffers-1.12:\n",
            "      Successfully uninstalled flatbuffers-1.12\n",
            "  Attempting uninstall: tensorflow\n",
            "    Found existing installation: tensorflow 2.9.2\n",
            "    Uninstalling tensorflow-2.9.2:\n",
            "      Successfully uninstalled tensorflow-2.9.2\n",
            "Successfully installed flatbuffers-22.9.24 keras-2.10.0 tensorboard-2.10.1 tensorflow-2.10.0 tensorflow-decision-forests-1.0.1 tensorflow-estimator-2.10.0 wurlitzer-3.0.2\n"
          ]
        }
      ],
      "source": [
        "!pip install tensorflow_decision_forests"
      ]
    },
    {
      "cell_type": "code",
      "execution_count": null,
      "metadata": {
        "id": "jvhW3pkLVZCm"
      },
      "outputs": [],
      "source": [
        "import tensorflow_decision_forests as tfdf"
      ]
    },
    {
      "cell_type": "code",
      "execution_count": null,
      "metadata": {
        "colab": {
          "base_uri": "https://localhost:8080/"
        },
        "id": "dhLRhkU5VcQJ",
        "outputId": "1c135531-5c96-418f-f78a-d32edcf36919"
      },
      "outputs": [
        {
          "output_type": "stream",
          "name": "stderr",
          "text": [
            "/usr/local/lib/python3.7/dist-packages/tensorflow_decision_forests/keras/core_inference.py:873: FutureWarning: In a future version of pandas all arguments of DataFrame.drop except for the argument 'labels' will be keyword-only\n",
            "  features_dataframe = dataframe.drop(label, 1)\n"
          ]
        }
      ],
      "source": [
        "##add here train and test from prev slide\n",
        "train_ds = tfdf.keras.pd_dataframe_to_tf_dataset(train_pd, label=\"default_ind\")\n",
        "test_ds = tfdf.keras.pd_dataframe_to_tf_dataset(test_pd, label=\"default_ind\")"
      ]
    },
    {
      "cell_type": "code",
      "execution_count": null,
      "metadata": {
        "colab": {
          "base_uri": "https://localhost:8080/"
        },
        "id": "QTPJatcJhzqk",
        "outputId": "d959d3ae-1a85-4c83-e559-05f745ecb72e"
      },
      "outputs": [
        {
          "output_type": "stream",
          "name": "stdout",
          "text": [
            "Use /tmp/tmpthowki4c as temporary training directory\n",
            "Reading training dataset...\n",
            "Training dataset read in 0:00:23.837364. Found 966923 examples.\n",
            "Training model...\n",
            "Model trained in 0:03:35.830464\n",
            "Compiling model...\n"
          ]
        },
        {
          "output_type": "stream",
          "name": "stderr",
          "text": [
            "WARNING:tensorflow:AutoGraph could not transform <function simple_ml_inference_op_with_handle at 0x7fe9245e6830> and will run it as-is.\n",
            "Please report this to the TensorFlow team. When filing the bug, set the verbosity to 10 (on Linux, `export AUTOGRAPH_VERBOSITY=10`) and attach the full output.\n",
            "Cause: could not get source code\n",
            "To silence this warning, decorate the function with @tf.autograph.experimental.do_not_convert\n"
          ]
        },
        {
          "output_type": "stream",
          "name": "stdout",
          "text": [
            "WARNING: AutoGraph could not transform <function simple_ml_inference_op_with_handle at 0x7fe9245e6830> and will run it as-is.\n",
            "Please report this to the TensorFlow team. When filing the bug, set the verbosity to 10 (on Linux, `export AUTOGRAPH_VERBOSITY=10`) and attach the full output.\n",
            "Cause: could not get source code\n",
            "To silence this warning, decorate the function with @tf.autograph.experimental.do_not_convert\n",
            "Model compiled.\n"
          ]
        },
        {
          "output_type": "execute_result",
          "data": {
            "text/plain": [
              "<keras.callbacks.History at 0x7fe9216ed510>"
            ]
          },
          "metadata": {},
          "execution_count": 22
        }
      ],
      "source": [
        "# Creates and trains model\n",
        "n_trees = 100\n",
        "model = tfdf.keras.RandomForestModel(num_trees = n_trees)\n",
        "model.fit(train_ds)"
      ]
    },
    {
      "cell_type": "code",
      "execution_count": null,
      "metadata": {
        "colab": {
          "base_uri": "https://localhost:8080/"
        },
        "id": "WPLOyBB1h3TN",
        "outputId": "47d06aa8-7a09-4ece-ce65-e235c464238b"
      },
      "outputs": [
        {
          "output_type": "stream",
          "name": "stdout",
          "text": [
            "Model: \"random_forest_model_1\"\n",
            "_________________________________________________________________\n",
            " Layer (type)                Output Shape              Param #   \n",
            "=================================================================\n",
            "=================================================================\n",
            "Total params: 1\n",
            "Trainable params: 0\n",
            "Non-trainable params: 1\n",
            "_________________________________________________________________\n",
            "Type: \"RANDOM_FOREST\"\n",
            "Task: CLASSIFICATION\n",
            "Label: \"__LABEL\"\n",
            "\n",
            "Input Features (35):\n",
            "\tacc_now_delinq\n",
            "\tannual_inc\n",
            "\tcollection_recovery_fee\n",
            "\tcollections_12_mths_ex_med\n",
            "\tdelinq_2yrs\n",
            "\tdti\n",
            "\temp_length\n",
            "\tfunded_amnt\n",
            "\tfunded_amnt_inv\n",
            "\tinq_last_6mths\n",
            "\tinstallment\n",
            "\tint_rate\n",
            "\tlast_pymnt_amnt\n",
            "\tloan_amnt\n",
            "\tmths_since_last_delinq\n",
            "\tmths_since_last_major_derog\n",
            "\tmths_since_last_record\n",
            "\topen_acc\n",
            "\tout_prncp\n",
            "\tout_prncp_inv\n",
            "\tpolicy_code\n",
            "\tpub_rec\n",
            "\trecoveries\n",
            "\trevol_bal\n",
            "\trevol_util\n",
            "\tterm\n",
            "\ttot_coll_amt\n",
            "\ttot_cur_bal\n",
            "\ttotal_acc\n",
            "\ttotal_pymnt\n",
            "\ttotal_pymnt_inv\n",
            "\ttotal_rec_int\n",
            "\ttotal_rec_late_fee\n",
            "\ttotal_rec_prncp\n",
            "\ttotal_rev_hi_lim\n",
            "\n",
            "No weights\n",
            "\n",
            "Variable Importance: MEAN_MIN_DEPTH:\n",
            "    1.                 \"policy_code\" 12.547905 ################\n",
            "    2.                     \"__LABEL\" 12.547905 ################\n",
            "    3.  \"collections_12_mths_ex_med\" 12.543737 ###############\n",
            "    4.              \"acc_now_delinq\" 12.534562 ###############\n",
            "    5.                     \"pub_rec\" 12.474048 ###############\n",
            "    6.                \"tot_coll_amt\" 12.366217 ###############\n",
            "    7.                  \"emp_length\" 12.188840 ###############\n",
            "    8.                 \"delinq_2yrs\" 12.186916 ###############\n",
            "    9. \"mths_since_last_major_derog\" 12.161738 ###############\n",
            "   10.      \"mths_since_last_record\" 12.137776 ###############\n",
            "   11.                    \"open_acc\" 11.959137 ##############\n",
            "   12.      \"mths_since_last_delinq\" 11.951312 ##############\n",
            "   13.                   \"total_acc\" 11.825838 ##############\n",
            "   14.                        \"term\" 11.385707 #############\n",
            "   15.                  \"revol_util\" 11.200366 ############\n",
            "   16.                         \"dti\" 11.109516 ############\n",
            "   17.                   \"revol_bal\" 11.033655 ############\n",
            "   18.             \"funded_amnt_inv\" 10.961297 ############\n",
            "   19.                   \"loan_amnt\" 10.890028 ############\n",
            "   20.                 \"funded_amnt\" 10.784033 ###########\n",
            "   21.              \"inq_last_6mths\" 10.460357 ###########\n",
            "   22.                 \"installment\" 10.370732 ##########\n",
            "   23.                 \"tot_cur_bal\" 10.300151 ##########\n",
            "   24.                  \"annual_inc\" 10.253911 ##########\n",
            "   25.            \"total_rev_hi_lim\" 10.212466 ##########\n",
            "   26.     \"collection_recovery_fee\"  9.849129 #########\n",
            "   27.                 \"total_pymnt\"  9.338528 ########\n",
            "   28.             \"total_pymnt_inv\"  8.759208 ######\n",
            "   29.               \"total_rec_int\"  8.325165 #####\n",
            "   30.                  \"recoveries\"  8.131498 #####\n",
            "   31.          \"total_rec_late_fee\"  7.862874 ####\n",
            "   32.             \"last_pymnt_amnt\"  7.796061 ####\n",
            "   33.             \"total_rec_prncp\"  7.657434 ####\n",
            "   34.               \"out_prncp_inv\"  7.519377 ####\n",
            "   35.                   \"out_prncp\"  5.852210 \n",
            "   36.                    \"int_rate\"  5.841829 \n",
            "\n",
            "Variable Importance: NUM_AS_ROOT:\n",
            "    1.               \"out_prncp\" 21.000000 ################\n",
            "    2.              \"recoveries\" 15.000000 ###########\n",
            "    3.           \"out_prncp_inv\" 14.000000 ##########\n",
            "    4. \"collection_recovery_fee\" 11.000000 ########\n",
            "    5.                \"int_rate\" 10.000000 #######\n",
            "    6.         \"total_rec_prncp\"  7.000000 ####\n",
            "    7.          \"inq_last_6mths\"  5.000000 ###\n",
            "    8.         \"last_pymnt_amnt\"  5.000000 ###\n",
            "    9.      \"total_rec_late_fee\"  5.000000 ###\n",
            "   10.        \"total_rev_hi_lim\"  2.000000 \n",
            "   11.              \"annual_inc\"  1.000000 \n",
            "   12.  \"mths_since_last_record\"  1.000000 \n",
            "   13.               \"revol_bal\"  1.000000 \n",
            "   14.                    \"term\"  1.000000 \n",
            "   15.         \"total_pymnt_inv\"  1.000000 \n",
            "\n",
            "Variable Importance: NUM_NODES:\n",
            "    1.             \"total_rec_prncp\" 7458.000000 ################\n",
            "    2.             \"last_pymnt_amnt\" 5381.000000 ###########\n",
            "    3.                 \"total_pymnt\" 5244.000000 ###########\n",
            "    4.               \"total_rec_int\" 5222.000000 ###########\n",
            "    5.             \"total_pymnt_inv\" 4990.000000 ##########\n",
            "    6.                 \"installment\" 4950.000000 ##########\n",
            "    7.                    \"int_rate\" 4321.000000 #########\n",
            "    8.                         \"dti\" 3964.000000 ########\n",
            "    9.                   \"revol_bal\" 3952.000000 ########\n",
            "   10.                  \"revol_util\" 3921.000000 ########\n",
            "   11.             \"funded_amnt_inv\" 3739.000000 #######\n",
            "   12.                 \"tot_cur_bal\" 3719.000000 #######\n",
            "   13.            \"total_rev_hi_lim\" 3592.000000 #######\n",
            "   14.                  \"annual_inc\" 3552.000000 #######\n",
            "   15.                 \"funded_amnt\" 3500.000000 #######\n",
            "   16.                   \"loan_amnt\" 3149.000000 ######\n",
            "   17.                   \"total_acc\" 3137.000000 ######\n",
            "   18.               \"out_prncp_inv\" 2508.000000 #####\n",
            "   19.                   \"out_prncp\" 2497.000000 #####\n",
            "   20.                    \"open_acc\" 2444.000000 #####\n",
            "   21.      \"mths_since_last_delinq\" 2117.000000 ####\n",
            "   22.                  \"emp_length\" 1759.000000 ###\n",
            "   23.          \"total_rec_late_fee\" 1445.000000 ###\n",
            "   24. \"mths_since_last_major_derog\" 1223.000000 ##\n",
            "   25.              \"inq_last_6mths\" 1087.000000 ##\n",
            "   26.      \"mths_since_last_record\" 749.000000 #\n",
            "   27.                  \"recoveries\" 710.000000 #\n",
            "   28.                \"tot_coll_amt\" 699.000000 #\n",
            "   29.                 \"delinq_2yrs\" 676.000000 #\n",
            "   30.                        \"term\" 356.000000 \n",
            "   31.                     \"pub_rec\" 340.000000 \n",
            "   32.     \"collection_recovery_fee\" 321.000000 \n",
            "   33.              \"acc_now_delinq\" 44.000000 \n",
            "   34.  \"collections_12_mths_ex_med\" 34.000000 \n",
            "\n",
            "Variable Importance: SUM_SCORE:\n",
            "    1.                   \"out_prncp\" 16233816.592168 ################\n",
            "    2.               \"out_prncp_inv\" 11104923.126604 ##########\n",
            "    3.             \"last_pymnt_amnt\" 7314068.426267 #######\n",
            "    4.                  \"recoveries\" 6900019.219365 ######\n",
            "    5.             \"total_rec_prncp\" 5425981.585309 #####\n",
            "    6.     \"collection_recovery_fee\" 4124735.538473 ####\n",
            "    7.                 \"total_pymnt\" 1907793.834876 #\n",
            "    8.             \"total_pymnt_inv\" 1530581.438755 #\n",
            "    9.                    \"int_rate\" 1472193.298934 #\n",
            "   10.                 \"funded_amnt\" 1270959.848499 #\n",
            "   11.                 \"installment\" 1196129.474083 #\n",
            "   12.             \"funded_amnt_inv\" 1183796.240400 #\n",
            "   13.                   \"loan_amnt\" 1111477.694604 #\n",
            "   14.               \"total_rec_int\" 717178.551851 \n",
            "   15.          \"total_rec_late_fee\" 484192.374281 \n",
            "   16.            \"total_rev_hi_lim\" 248862.067534 \n",
            "   17.                 \"tot_cur_bal\" 221932.191342 \n",
            "   18.                         \"dti\" 173550.651384 \n",
            "   19.                   \"revol_bal\" 171951.687234 \n",
            "   20.                  \"annual_inc\" 166525.186895 \n",
            "   21.                  \"revol_util\" 162293.413906 \n",
            "   22.                   \"total_acc\" 115161.715608 \n",
            "   23.              \"inq_last_6mths\" 108630.872017 \n",
            "   24.                        \"term\" 104635.541623 \n",
            "   25.                    \"open_acc\" 86287.848684 \n",
            "   26.      \"mths_since_last_delinq\" 79920.935034 \n",
            "   27.                  \"emp_length\" 55683.323685 \n",
            "   28. \"mths_since_last_major_derog\" 47278.431339 \n",
            "   29.      \"mths_since_last_record\" 31442.978249 \n",
            "   30.                 \"delinq_2yrs\" 28669.177497 \n",
            "   31.                \"tot_coll_amt\" 26555.031067 \n",
            "   32.                     \"pub_rec\" 12172.687727 \n",
            "   33.              \"acc_now_delinq\" 2259.749157 \n",
            "   34.  \"collections_12_mths_ex_med\" 1411.240878 \n",
            "\n",
            "\n",
            "\n",
            "Winner take all: true\n",
            "Out-of-bag evaluation: accuracy:0.989225 logloss:0.0259902\n",
            "Number of trees: 100\n",
            "Total number of nodes: 185700\n",
            "\n",
            "Number of nodes by tree:\n",
            "Count: 100 Average: 1857 StdDev: 225.15\n",
            "Min: 1331 Max: 2529 Ignored: 0\n",
            "----------------------------------------------\n",
            "[ 1331, 1390)  2   2.00%   2.00% #\n",
            "[ 1390, 1450)  2   2.00%   4.00% #\n",
            "[ 1450, 1510)  1   1.00%   5.00% #\n",
            "[ 1510, 1570)  3   3.00%   8.00% ##\n",
            "[ 1570, 1630)  6   6.00%  14.00% ###\n",
            "[ 1630, 1690)  6   6.00%  20.00% ###\n",
            "[ 1690, 1750)  8   8.00%  28.00% ####\n",
            "[ 1750, 1810) 14  14.00%  42.00% ########\n",
            "[ 1810, 1870) 18  18.00%  60.00% ##########\n",
            "[ 1870, 1930)  9   9.00%  69.00% #####\n",
            "[ 1930, 1990)  6   6.00%  75.00% ###\n",
            "[ 1990, 2050)  5   5.00%  80.00% ###\n",
            "[ 2050, 2110)  6   6.00%  86.00% ###\n",
            "[ 2110, 2170)  6   6.00%  92.00% ###\n",
            "[ 2170, 2230)  2   2.00%  94.00% #\n",
            "[ 2230, 2290)  3   3.00%  97.00% ##\n",
            "[ 2290, 2350)  0   0.00%  97.00%\n",
            "[ 2350, 2410)  1   1.00%  98.00% #\n",
            "[ 2410, 2470)  0   0.00%  98.00%\n",
            "[ 2470, 2529]  2   2.00% 100.00% #\n",
            "\n",
            "Depth by leafs:\n",
            "Count: 92900 Average: 12.545 StdDev: 2.28832\n",
            "Min: 1 Max: 15 Ignored: 0\n",
            "----------------------------------------------\n",
            "[  1,  2)    26   0.03%   0.03%\n",
            "[  2,  3)    27   0.03%   0.06%\n",
            "[  3,  4)    47   0.05%   0.11%\n",
            "[  4,  5)    90   0.10%   0.20%\n",
            "[  5,  6)   257   0.28%   0.48%\n",
            "[  6,  7)   640   0.69%   1.17%\n",
            "[  7,  8)  1430   1.54%   2.71% #\n",
            "[  8,  9)  2863   3.08%   5.79% #\n",
            "[  9, 10)  5001   5.38%  11.17% ##\n",
            "[ 10, 11)  7568   8.15%  19.32% ###\n",
            "[ 11, 12) 10130  10.90%  30.22% ####\n",
            "[ 12, 13) 12266  13.20%  43.43% #####\n",
            "[ 13, 14) 13582  14.62%  58.05% #####\n",
            "[ 14, 15) 13659  14.70%  72.75% #####\n",
            "[ 15, 15] 25314  27.25% 100.00% ##########\n",
            "\n",
            "Number of training obs by leaf:\n",
            "Count: 92900 Average: 1040.82 StdDev: 7732.32\n",
            "Min: 5 Max: 328336 Ignored: 0\n",
            "----------------------------------------------\n",
            "[      5,  16421) 92156  99.20%  99.20% ##########\n",
            "[  16421,  32838)   420   0.45%  99.65%\n",
            "[  32838,  49254)    91   0.10%  99.75%\n",
            "[  49254,  65671)    57   0.06%  99.81%\n",
            "[  65671,  82088)    45   0.05%  99.86%\n",
            "[  82088,  98504)    20   0.02%  99.88%\n",
            "[  98504, 114921)    15   0.02%  99.90%\n",
            "[ 114921, 131337)    12   0.01%  99.91%\n",
            "[ 131337, 147754)    11   0.01%  99.92%\n",
            "[ 147754, 164171)     9   0.01%  99.93%\n",
            "[ 164171, 180587)    10   0.01%  99.94%\n",
            "[ 180587, 197004)     0   0.00%  99.94%\n",
            "[ 197004, 213420)     2   0.00%  99.94%\n",
            "[ 213420, 229837)     5   0.01%  99.95%\n",
            "[ 229837, 246254)    21   0.02%  99.97%\n",
            "[ 246254, 262670)    22   0.02% 100.00%\n",
            "[ 262670, 279087)     2   0.00% 100.00%\n",
            "[ 279087, 295503)     0   0.00% 100.00%\n",
            "[ 295503, 311920)     0   0.00% 100.00%\n",
            "[ 311920, 328336]     2   0.00% 100.00%\n",
            "\n",
            "Attribute in nodes:\n",
            "\t7458 : total_rec_prncp [NUMERICAL]\n",
            "\t5381 : last_pymnt_amnt [NUMERICAL]\n",
            "\t5244 : total_pymnt [NUMERICAL]\n",
            "\t5222 : total_rec_int [NUMERICAL]\n",
            "\t4990 : total_pymnt_inv [NUMERICAL]\n",
            "\t4950 : installment [NUMERICAL]\n",
            "\t4321 : int_rate [NUMERICAL]\n",
            "\t3964 : dti [NUMERICAL]\n",
            "\t3952 : revol_bal [NUMERICAL]\n",
            "\t3921 : revol_util [NUMERICAL]\n",
            "\t3739 : funded_amnt_inv [NUMERICAL]\n",
            "\t3719 : tot_cur_bal [NUMERICAL]\n",
            "\t3592 : total_rev_hi_lim [NUMERICAL]\n",
            "\t3552 : annual_inc [NUMERICAL]\n",
            "\t3500 : funded_amnt [NUMERICAL]\n",
            "\t3149 : loan_amnt [NUMERICAL]\n",
            "\t3137 : total_acc [NUMERICAL]\n",
            "\t2508 : out_prncp_inv [NUMERICAL]\n",
            "\t2497 : out_prncp [NUMERICAL]\n",
            "\t2444 : open_acc [NUMERICAL]\n",
            "\t2117 : mths_since_last_delinq [NUMERICAL]\n",
            "\t1759 : emp_length [NUMERICAL]\n",
            "\t1445 : total_rec_late_fee [NUMERICAL]\n",
            "\t1223 : mths_since_last_major_derog [NUMERICAL]\n",
            "\t1087 : inq_last_6mths [NUMERICAL]\n",
            "\t749 : mths_since_last_record [NUMERICAL]\n",
            "\t710 : recoveries [NUMERICAL]\n",
            "\t699 : tot_coll_amt [NUMERICAL]\n",
            "\t676 : delinq_2yrs [NUMERICAL]\n",
            "\t356 : term [NUMERICAL]\n",
            "\t340 : pub_rec [NUMERICAL]\n",
            "\t321 : collection_recovery_fee [NUMERICAL]\n",
            "\t44 : acc_now_delinq [NUMERICAL]\n",
            "\t34 : collections_12_mths_ex_med [NUMERICAL]\n",
            "\n",
            "Attribute in nodes with depth <= 0:\n",
            "\t21 : out_prncp [NUMERICAL]\n",
            "\t15 : recoveries [NUMERICAL]\n",
            "\t14 : out_prncp_inv [NUMERICAL]\n",
            "\t11 : collection_recovery_fee [NUMERICAL]\n",
            "\t10 : int_rate [NUMERICAL]\n",
            "\t7 : total_rec_prncp [NUMERICAL]\n",
            "\t5 : total_rec_late_fee [NUMERICAL]\n",
            "\t5 : last_pymnt_amnt [NUMERICAL]\n",
            "\t5 : inq_last_6mths [NUMERICAL]\n",
            "\t2 : total_rev_hi_lim [NUMERICAL]\n",
            "\t1 : total_pymnt_inv [NUMERICAL]\n",
            "\t1 : term [NUMERICAL]\n",
            "\t1 : revol_bal [NUMERICAL]\n",
            "\t1 : mths_since_last_record [NUMERICAL]\n",
            "\t1 : annual_inc [NUMERICAL]\n",
            "\n",
            "Attribute in nodes with depth <= 1:\n",
            "\t47 : out_prncp [NUMERICAL]\n",
            "\t34 : out_prncp_inv [NUMERICAL]\n",
            "\t32 : recoveries [NUMERICAL]\n",
            "\t31 : int_rate [NUMERICAL]\n",
            "\t26 : last_pymnt_amnt [NUMERICAL]\n",
            "\t21 : collection_recovery_fee [NUMERICAL]\n",
            "\t17 : total_rec_prncp [NUMERICAL]\n",
            "\t17 : total_rec_late_fee [NUMERICAL]\n",
            "\t9 : inq_last_6mths [NUMERICAL]\n",
            "\t8 : total_pymnt_inv [NUMERICAL]\n",
            "\t7 : total_rec_int [NUMERICAL]\n",
            "\t5 : total_rev_hi_lim [NUMERICAL]\n",
            "\t4 : total_pymnt [NUMERICAL]\n",
            "\t4 : annual_inc [NUMERICAL]\n",
            "\t3 : tot_cur_bal [NUMERICAL]\n",
            "\t2 : term [NUMERICAL]\n",
            "\t2 : revol_util [NUMERICAL]\n",
            "\t1 : revol_bal [NUMERICAL]\n",
            "\t1 : mths_since_last_record [NUMERICAL]\n",
            "\t1 : loan_amnt [NUMERICAL]\n",
            "\t1 : installment [NUMERICAL]\n",
            "\t1 : funded_amnt_inv [NUMERICAL]\n",
            "\n",
            "Attribute in nodes with depth <= 2:\n",
            "\t72 : int_rate [NUMERICAL]\n",
            "\t65 : out_prncp [NUMERICAL]\n",
            "\t54 : recoveries [NUMERICAL]\n",
            "\t51 : total_rec_late_fee [NUMERICAL]\n",
            "\t50 : last_pymnt_amnt [NUMERICAL]\n",
            "\t44 : out_prncp_inv [NUMERICAL]\n",
            "\t43 : total_rec_prncp [NUMERICAL]\n",
            "\t39 : collection_recovery_fee [NUMERICAL]\n",
            "\t29 : total_rec_int [NUMERICAL]\n",
            "\t21 : total_pymnt_inv [NUMERICAL]\n",
            "\t20 : total_pymnt [NUMERICAL]\n",
            "\t17 : inq_last_6mths [NUMERICAL]\n",
            "\t14 : tot_cur_bal [NUMERICAL]\n",
            "\t13 : total_rev_hi_lim [NUMERICAL]\n",
            "\t11 : term [NUMERICAL]\n",
            "\t10 : funded_amnt_inv [NUMERICAL]\n",
            "\t9 : installment [NUMERICAL]\n",
            "\t9 : annual_inc [NUMERICAL]\n",
            "\t7 : loan_amnt [NUMERICAL]\n",
            "\t5 : funded_amnt [NUMERICAL]\n",
            "\t4 : revol_util [NUMERICAL]\n",
            "\t3 : revol_bal [NUMERICAL]\n",
            "\t1 : total_acc [NUMERICAL]\n",
            "\t1 : open_acc [NUMERICAL]\n",
            "\t1 : mths_since_last_record [NUMERICAL]\n",
            "\t1 : mths_since_last_major_derog [NUMERICAL]\n",
            "\t1 : dti [NUMERICAL]\n",
            "\n",
            "Attribute in nodes with depth <= 3:\n",
            "\t131 : int_rate [NUMERICAL]\n",
            "\t104 : last_pymnt_amnt [NUMERICAL]\n",
            "\t103 : total_rec_prncp [NUMERICAL]\n",
            "\t98 : total_rec_late_fee [NUMERICAL]\n",
            "\t90 : out_prncp [NUMERICAL]\n",
            "\t78 : recoveries [NUMERICAL]\n",
            "\t71 : out_prncp_inv [NUMERICAL]\n",
            "\t67 : total_rec_int [NUMERICAL]\n",
            "\t62 : collection_recovery_fee [NUMERICAL]\n",
            "\t54 : total_pymnt_inv [NUMERICAL]\n",
            "\t49 : total_pymnt [NUMERICAL]\n",
            "\t33 : loan_amnt [NUMERICAL]\n",
            "\t30 : installment [NUMERICAL]\n",
            "\t27 : inq_last_6mths [NUMERICAL]\n",
            "\t24 : total_rev_hi_lim [NUMERICAL]\n",
            "\t24 : annual_inc [NUMERICAL]\n",
            "\t23 : funded_amnt_inv [NUMERICAL]\n",
            "\t22 : funded_amnt [NUMERICAL]\n",
            "\t21 : tot_cur_bal [NUMERICAL]\n",
            "\t19 : term [NUMERICAL]\n",
            "\t17 : revol_bal [NUMERICAL]\n",
            "\t15 : dti [NUMERICAL]\n",
            "\t10 : revol_util [NUMERICAL]\n",
            "\t7 : total_acc [NUMERICAL]\n",
            "\t3 : mths_since_last_major_derog [NUMERICAL]\n",
            "\t3 : emp_length [NUMERICAL]\n",
            "\t2 : mths_since_last_record [NUMERICAL]\n",
            "\t2 : delinq_2yrs [NUMERICAL]\n",
            "\t1 : open_acc [NUMERICAL]\n",
            "\n",
            "Attribute in nodes with depth <= 5:\n",
            "\t363 : int_rate [NUMERICAL]\n",
            "\t357 : total_rec_prncp [NUMERICAL]\n",
            "\t332 : last_pymnt_amnt [NUMERICAL]\n",
            "\t252 : total_rec_late_fee [NUMERICAL]\n",
            "\t249 : total_rec_int [NUMERICAL]\n",
            "\t210 : total_pymnt_inv [NUMERICAL]\n",
            "\t208 : recoveries [NUMERICAL]\n",
            "\t200 : total_pymnt [NUMERICAL]\n",
            "\t194 : installment [NUMERICAL]\n",
            "\t189 : funded_amnt [NUMERICAL]\n",
            "\t176 : out_prncp [NUMERICAL]\n",
            "\t147 : funded_amnt_inv [NUMERICAL]\n",
            "\t146 : loan_amnt [NUMERICAL]\n",
            "\t145 : out_prncp_inv [NUMERICAL]\n",
            "\t123 : annual_inc [NUMERICAL]\n",
            "\t115 : collection_recovery_fee [NUMERICAL]\n",
            "\t112 : total_rev_hi_lim [NUMERICAL]\n",
            "\t99 : tot_cur_bal [NUMERICAL]\n",
            "\t93 : revol_util [NUMERICAL]\n",
            "\t88 : dti [NUMERICAL]\n",
            "\t82 : revol_bal [NUMERICAL]\n",
            "\t53 : total_acc [NUMERICAL]\n",
            "\t52 : inq_last_6mths [NUMERICAL]\n",
            "\t49 : term [NUMERICAL]\n",
            "\t40 : open_acc [NUMERICAL]\n",
            "\t38 : mths_since_last_delinq [NUMERICAL]\n",
            "\t33 : delinq_2yrs [NUMERICAL]\n",
            "\t29 : emp_length [NUMERICAL]\n",
            "\t27 : mths_since_last_major_derog [NUMERICAL]\n",
            "\t19 : mths_since_last_record [NUMERICAL]\n",
            "\t7 : tot_coll_amt [NUMERICAL]\n",
            "\t4 : pub_rec [NUMERICAL]\n",
            "\t2 : acc_now_delinq [NUMERICAL]\n",
            "\n",
            "Condition type in nodes:\n",
            "\t92800 : HigherCondition\n",
            "Condition type in nodes with depth <= 0:\n",
            "\t100 : HigherCondition\n",
            "Condition type in nodes with depth <= 1:\n",
            "\t274 : HigherCondition\n",
            "Condition type in nodes with depth <= 2:\n",
            "\t595 : HigherCondition\n",
            "Condition type in nodes with depth <= 3:\n",
            "\t1190 : HigherCondition\n",
            "Condition type in nodes with depth <= 5:\n",
            "\t4233 : HigherCondition\n",
            "Node format: NOT_SET\n",
            "\n",
            "Training OOB:\n",
            "\ttrees: 1, Out-of-bag evaluation: accuracy:0.988987 logloss:0.396948\n",
            "\ttrees: 7, Out-of-bag evaluation: accuracy:0.988942 logloss:0.230402\n",
            "\ttrees: 13, Out-of-bag evaluation: accuracy:0.989327 logloss:0.145594\n",
            "\ttrees: 19, Out-of-bag evaluation: accuracy:0.989474 logloss:0.0982939\n",
            "\ttrees: 25, Out-of-bag evaluation: accuracy:0.989322 logloss:0.079965\n",
            "\ttrees: 30, Out-of-bag evaluation: accuracy:0.989277 logloss:0.0724466\n",
            "\ttrees: 36, Out-of-bag evaluation: accuracy:0.989363 logloss:0.0619323\n",
            "\ttrees: 41, Out-of-bag evaluation: accuracy:0.989391 logloss:0.0543187\n",
            "\ttrees: 46, Out-of-bag evaluation: accuracy:0.989433 logloss:0.0485965\n",
            "\ttrees: 50, Out-of-bag evaluation: accuracy:0.989421 logloss:0.0427254\n",
            "\ttrees: 56, Out-of-bag evaluation: accuracy:0.989321 logloss:0.0396093\n",
            "\ttrees: 62, Out-of-bag evaluation: accuracy:0.989254 logloss:0.0356139\n",
            "\ttrees: 68, Out-of-bag evaluation: accuracy:0.989228 logloss:0.0328524\n",
            "\ttrees: 74, Out-of-bag evaluation: accuracy:0.989245 logloss:0.0313272\n",
            "\ttrees: 80, Out-of-bag evaluation: accuracy:0.989242 logloss:0.0296942\n",
            "\ttrees: 86, Out-of-bag evaluation: accuracy:0.989263 logloss:0.0280908\n",
            "\ttrees: 92, Out-of-bag evaluation: accuracy:0.98923 logloss:0.0272121\n",
            "\ttrees: 98, Out-of-bag evaluation: accuracy:0.98921 logloss:0.0263064\n",
            "\ttrees: 100, Out-of-bag evaluation: accuracy:0.989225 logloss:0.0259902\n",
            "\n"
          ]
        }
      ],
      "source": [
        "# Summary of model structure\n",
        "\n",
        "model.summary()"
      ]
    },
    {
      "cell_type": "code",
      "execution_count": null,
      "metadata": {
        "colab": {
          "base_uri": "https://localhost:8080/"
        },
        "id": "yOdkoCW3h4pm",
        "outputId": "9114d4cb-7eb8-498c-bfdd-279f4e3c83a1"
      },
      "outputs": [
        {
          "output_type": "stream",
          "name": "stdout",
          "text": [
            "245/245 [==============================] - 7s 26ms/step - loss: 0.0000e+00 - accuracy: 0.9983\n",
            "[0.0, 0.9983084797859192]\n"
          ]
        }
      ],
      "source": [
        "# evaluates model\n",
        "\n",
        "model.compile(metrics=[\"accuracy\"])\n",
        "print(model.evaluate(test_ds))"
      ]
    },
    {
      "cell_type": "markdown",
      "source": [
        "#Decision TREE Tensflow"
      ],
      "metadata": {
        "id": "6a-Z1YSxPYNj"
      }
    },
    {
      "cell_type": "code",
      "source": [
        "n_trees = 1\n",
        "model = tfdf.keras.RandomForestModel(num_trees = n_trees)\n",
        "model.fit(train_ds)\n",
        "\n",
        "model.compile(metrics=[\"accuracy\"])\n",
        "print(model.evaluate(test_ds))"
      ],
      "metadata": {
        "id": "jMAD0O26O-pP",
        "colab": {
          "base_uri": "https://localhost:8080/"
        },
        "outputId": "d52083a0-06b8-47ad-d9de-551168f3e501"
      },
      "execution_count": null,
      "outputs": [
        {
          "output_type": "stream",
          "name": "stdout",
          "text": [
            "Use /tmp/tmpan124c_8 as temporary training directory\n",
            "Reading training dataset...\n",
            "Training dataset read in 0:00:19.724805. Found 966923 examples.\n",
            "Training model...\n",
            "Model trained in 0:00:05.483714\n",
            "Compiling model...\n",
            "Model compiled.\n",
            "245/245 [==============================] - 5s 20ms/step - loss: 0.0000e+00 - accuracy: 0.9935\n",
            "[0.0, 0.9934796690940857]\n"
          ]
        }
      ]
    },
    {
      "cell_type": "markdown",
      "source": [
        "Conclusion Among all Tensflow Models\n",
        "It can bee see that all models runned with good result\n",
        "but the more evaluted model is Random Forest as it has lower Loss and Higher Accuracy\n"
      ],
      "metadata": {
        "id": "eZdFysT6Pkg-"
      }
    }
  ],
  "metadata": {
    "colab": {
      "provenance": []
    },
    "kernelspec": {
      "display_name": "Python 3",
      "name": "python3"
    },
    "language_info": {
      "name": "python"
    }
  },
  "nbformat": 4,
  "nbformat_minor": 0
}